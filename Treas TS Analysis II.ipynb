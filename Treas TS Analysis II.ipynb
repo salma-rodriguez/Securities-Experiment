{
 "cells": [
  {
   "cell_type": "code",
   "execution_count": null,
   "id": "representative-murder",
   "metadata": {},
   "outputs": [],
   "source": [
    "chain_ARIMA213 = [sample(ARIMA213(s_train[:, C]), NUTS(200, 0.65), 10000) for C in 1:5]"
   ]
  },
  {
   "cell_type": "markdown",
   "id": "official-police",
   "metadata": {},
   "source": [
    "## Fourier Analysis"
   ]
  },
  {
   "cell_type": "markdown",
   "id": "closing-mayor",
   "metadata": {},
   "source": [
    "Finally for a spectral analysis?"
   ]
  },
  {
   "cell_type": "markdown",
   "id": "attempted-french",
   "metadata": {},
   "source": [
    "### Plotting ARIMA Model Samples for ARIMA(0, 1, 1)"
   ]
  },
  {
   "cell_type": "markdown",
   "id": "productive-position",
   "metadata": {},
   "source": [
    "I will now track the \\\"change of the change ($\\Delta^2)$\\\", using an ARIMA model for the inflation of Treasury securities using the markov chains montecarlo (MCMC) method for simulating  the change of inflation rate changes for upto 10,000 iterations."
   ]
  },
  {
   "cell_type": "code",
   "execution_count": null,
   "id": "liked-humanity",
   "metadata": {},
   "outputs": [],
   "source": [
    "@model ARIMA010(x) = begin\n",
    "    T = length(x)\n",
    "    μ ~ Uniform(-10, 10)\n",
    "    ϕ ~ Uniform(-1, 1)\n",
    "    for t in 3:T\n",
    "        val = x[t-1]                  # ARIMA(0,1,0) portion\"\n",
    "        x[t] ~ Normal(val, 1)\n",
    "    end\n",
    "end\n",
    "\n",
    "@model ARIMA110(x) = begin\n",
    "    T = length(x)\n",
    "    μ ~ Uniform(-10, 10)\n",
    "    ϕ ~ Uniform(-1, 1)\n",
    "    for t in 3:T\n",
    "        val = μ +                      # Drift term\"\n",
    "              x[t-1] +                 # ARIMA(0,1,0) portion\"\n",
    "              ϕ * (x[t-1] - x[t-2])    # ARIMA(1,0,0) portion\"\n",
    "        x[t] ~ Normal(val, 1)\n",
    "    end\n",
    "end\n",
    "\n",
    "@model ARIMA011(x) = begin\n",
    "    T = length(x)\n",
    "    # Set up error vector.\n",
    "    ϵ = Vector(undef, T)\n",
    "    x_hat = Vector(undef, T)\n",
    "    θ ~ Uniform(-5, 5)\n",
    "    # Treat the first x_hat as a parameter to estimate.\n",
    "    x_hat[1] ~ Normal(0, 1)\n",
    "    ϵ[1] = x[1] - x_hat[1]\n",
    "    for t in 2:T\n",
    "        # Predicted value for x.\n",
    "        x_hat[t] = x[t-1] - θ * ϵ[t-1]\n",
    "        # Calculate observed error.\n",
    "        ϵ[t] = x[t] - x_hat[t]\n",
    "        # Observe likelihood.\n",
    "        x[t] ~ Normal(x_hat[t], 1)\n",
    "    end\n",
    "end"
   ]
  },
  {
   "cell_type": "markdown",
   "id": "advanced-integration",
   "metadata": {},
   "source": [
    "Employing a Markov Chain Montecarlo method to test the models I derived using **statespace modeling**."
   ]
  },
  {
   "cell_type": "markdown",
   "id": "returning-carpet",
   "metadata": {},
   "source": [
    "## Plotting ARIMA Model Samples Using the Markov Chain Montecarlo (MCMC) Method"
   ]
  },
  {
   "cell_type": "markdown",
   "id": "juvenile-budapest",
   "metadata": {},
   "source": [
    "### Plotting ARIMA Model Samples for ARIMA(1, 1, 1)"
   ]
  },
  {
   "cell_type": "markdown",
   "id": "floating-addition",
   "metadata": {},
   "source": [
    "Below is a series of plots containing Summary Statistics for $0-10,000$ runs of the **markov chain montecarlo or MCMC** (above) and the quantiles (below). The graphics on the left measures the **stability of inflation data points** for quantiles running from $-\\sigma$ to $\\sigma$, and the graphics on the right of the $4 \\times 4$ grid measures the density (notice how it is standard normal for Summary Statistics of the differenced inflation points), with quantiles having a uniform distribution, as per the model."
   ]
  },
  {
   "cell_type": "markdown",
   "id": "seasonal-photography",
   "metadata": {},
   "source": [
    "### Plotting ARIMA Model Samples for ARIMA(0, 1, 1)"
   ]
  },
  {
   "cell_type": "markdown",
   "id": "primary-apollo",
   "metadata": {},
   "source": [
    "Below is a series of plots containing Summary Statistics for $0-10,000$ runs of the **markov chain montecarlo or MCMC** (above) and the quantiles (below). The graphics on the left measures the **stability of inflation data points** for quantiles running from $-\\sigma$ to $\\sigma$, and the graphics on the right of the $4 \\times 4$ grid measures the density (notice how it is standard normal for Summary Statistics of the differenced inflation points), with quantiles having a uniform distribution, as per the model."
   ]
  },
  {
   "cell_type": "markdown",
   "id": "loving-student",
   "metadata": {},
   "source": [
    "### Plotting ARIMA Model Samples for ARIMA(0, 1, 3)"
   ]
  },
  {
   "cell_type": "markdown",
   "id": "tight-starter",
   "metadata": {},
   "source": [
    "Below is a series of plots containing Summary Statistics for $0-10,000$ runs of the **markov chain montecarlo or MCMC** (above) and the quantiles (below). The graphics on the left measures the **stability of inflation data points** for quantiles running from $-\\sigma$ to $\\sigma$, and the graphics on the right of the $4 \\times 4$ grid measures the density (notice how it is standard normal for Summary Statistics of the differenced inflation points), with quantiles having a uniform distribution, as per the model."
   ]
  },
  {
   "cell_type": "markdown",
   "id": "incident-criticism",
   "metadata": {},
   "source": [
    "### Plotting ARIMA Model Samples for ARIMA(3, 1, 1)"
   ]
  },
  {
   "cell_type": "markdown",
   "id": "recreational-classic",
   "metadata": {},
   "source": [
    "Below is a series of plots containing Summary Statistics for $0-10,000$ runs of the **markov chain montecarlo or MCMC** (above) and the quantiles (below). The graphics on the left measures the **stability of inflation data points** for quantiles running from $-\\sigma$ to $\\sigma$, and the graphics on the right of the $4 \\times 4$ grid measures the density (notice how it is standard normal for Summary Statistics of the differenced inflation points), with quantiles having a uniform distribution, as per the model."
   ]
  },
  {
   "cell_type": "markdown",
   "id": "awful-privilege",
   "metadata": {},
   "source": [
    "### Plotting ARIMA Model Samples for ARIMA(2, 1, 3)"
   ]
  },
  {
   "cell_type": "markdown",
   "id": "upset-correction",
   "metadata": {},
   "source": [
    "Below is a plot of Summary Statistics for $0-10,000$ runs of the **markov chain montecarlo or MCMC** (above) and the quantiles (below). The graphics on the left measures the **stability of inflation data points** for quantiles running from $-\\sigma$ to $\\sigma$, and the graphics on the right of the $4 \\times 4$ grid measures the density (notice how it is standard normal for Summary Statistics of the differenced inflation points), with quantiles having a uniform distribution, as per the model."
   ]
  }
 ],
 "metadata": {
  "kernelspec": {
   "display_name": "",
   "name": ""
  },
  "language_info": {
   "name": ""
  }
 },
 "nbformat": 4,
 "nbformat_minor": 5
}
