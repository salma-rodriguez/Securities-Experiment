{
 "cells": [
  {
   "cell_type": "markdown",
   "id": "fatal-support",
   "metadata": {},
   "source": [
    "# Time Series Analysis II"
   ]
  },
  {
   "cell_type": "markdown",
   "id": "sixth-shift",
   "metadata": {},
   "source": [
    "| $\\text{Type}$     | $\\text{Maturity}$                        |\n",
    "| ----------------- | ---------------------------------------- |\n",
    "| $\\text{Bill (b)}$ | $1\\text{m} \\leq \\text{T} \\leq 1\\text{Y}$ |\n",
    "| $\\text{Note (N)}$ | $1\\text{Y} \\lt \\text{T} \\lt 10\\text{Y}$  |\n",
    "| $\\text{Bond (B)}$ | $\\quad\\quad\\ \\ \\text{T} \\geq 10\\text{Y}$ |"
   ]
  },
  {
   "cell_type": "markdown",
   "id": "comprehensive-blues",
   "metadata": {},
   "source": [
    "## What is a Constant Maturity Treasury?"
   ]
  },
  {
   "cell_type": "markdown",
   "id": "inner-grave",
   "metadata": {},
   "source": [
    "According to [Investopedia](https://www.investopedia.com/terms/c/constantmaturity.asp), Constant Maturity is an adjustment for equivalent maturity, used by the Federal Reserve Board to compute an index based on the average yield of various Treasury securities maturing at different periods."
   ]
  },
  {
   "cell_type": "markdown",
   "id": "great-agriculture",
   "metadata": {},
   "source": [
    "One would use constant maturity yields as reference for pricing all kinds of depts or fixed income securities, fixed income securities being by far the largest type of security in U.S. Securities markets."
   ]
  },
  {
   "cell_type": "markdown",
   "id": "peripheral-exhaust",
   "metadata": {},
   "source": [
    "## Nominal Yield Curve Rates vs. Real Yield Curve Rates"
   ]
  },
  {
   "cell_type": "markdown",
   "id": "sonic-thumbnail",
   "metadata": {},
   "source": [
    "According to the Board of Governors of the Federal Reserve System, a [nominal Treasury security](https://www.federalreserve.gov/data/nominal-yield-curve.htm) is an issuance that specifies principal and interest as fixed dollar amounts to the holder. Since Treasury securities are backed by the full faith and credit of the U.S. government, the returns investors can earn on them are often used as a “risk-free” benchmark in finance research and investment practice. These securities are a promise to repay the principal (with interest if a note or a bond) to the holder (can be a public or private entity). Therefore, the real yield curve rate would be adjusted for inflation in the yield curve."
   ]
  },
  {
   "cell_type": "markdown",
   "id": "adverse-shakespeare",
   "metadata": {},
   "source": [
    "## Statement of Purpose"
   ]
  },
  {
   "cell_type": "markdown",
   "id": "surprising-haven",
   "metadata": {},
   "source": [
    "The purpose of this time series analysis is to work the \"next steps\" highlighted under `Treas TS Analysis I`. These steps are as follows:\n",
    "\n",
    "1. Time-Series Forecasting\n",
    "2. Cross-Validation and Testing on New Data\n",
    "3. Vector Autoregressive Fractional Integrated Moving Average\n",
    "4. Markov Chain Monte Carlo\n",
    "5. Heteroscedastic Models\n",
    "6. Fourier Analysis and Spectral Analysis\n",
    "\n",
    "The first step subsequent to the analysis in `Treas TS Analysis I` is to do forecasting. I would need to define the \"event horizon\", how many steps I can take beyond the event horizon and what is the prediction error. Hopefully, I have better forecasts than what I obtained in `Treas Exploratory Analysis` using a \"top down\" approach.\n",
    "\n",
    "The second step is done to avoid \"over-fitting\" (more regressors than observations) or \"under-fitting\" (more observations than regressors) the data. For time series, regressors, also known as \"explanatory variables\", are the lagged W values I found earlier, under `Treas TS Analysis I`. There are other variables beyond the scope of the R-CMT and N-CMT rates explored in these notebooks, such as price of any specific security (reminder that these prices are based on an index of the average yield, meaning that they are not based on the price of any particular security present in the market at the time), the average strike placed by investors, the average per capita savings, the per capita debt, the Gross National Product of the USA, &c.\n",
    "\n",
    "The third step goes beyond ARIMA, exploring VARFIMA models. I will be making subsequent forecasts with these varfima models, making cross-validations where adequate.\n",
    "\n",
    "The fourth step tests both the basic ARIMA models and the VARFIMA models using the MCMC method. This is a durability test for any univariate, bivariate or multivariate distribution. Realistically, it is the posterior distribution what is being test using the MCMC method, meaning \"after the fact\", after taking into account all relevant evidence or background on the particular data being examined or analyzed."
   ]
  },
  {
   "cell_type": "markdown",
   "id": "single-moral",
   "metadata": {},
   "source": [
    "## Loading Packages and Initializing Module / Importing Libraries"
   ]
  },
  {
   "cell_type": "code",
   "execution_count": 1,
   "id": "plastic-tulsa",
   "metadata": {},
   "outputs": [],
   "source": [
    "from sklearn import datasets, svm\n",
    "from sklearn.model_selection import KFold, LeavePOut, train_test_split, cross_val_score\n",
    "import matplotlib.pyplot as plt\n",
    "import numpy as np\n",
    "import pandas as pd"
   ]
  },
  {
   "cell_type": "code",
   "execution_count": 2,
   "id": "indonesian-sister",
   "metadata": {},
   "outputs": [],
   "source": [
    "import warnings\n",
    "warnings.filterwarnings('ignore')"
   ]
  },
  {
   "cell_type": "markdown",
   "id": "chief-massage",
   "metadata": {},
   "source": [
    "## (X, y)"
   ]
  },
  {
   "cell_type": "code",
   "execution_count": 1,
   "id": "resident-guarantee",
   "metadata": {},
   "outputs": [],
   "source": [
    "using DataFrames, Serialization\n",
    "\n",
    "tux = deserialize(\"saved1\")\n",
    "tuy = deserialize(\"saved2\");"
   ]
  },
  {
   "cell_type": "code",
   "execution_count": 3,
   "id": "cordless-winner",
   "metadata": {},
   "outputs": [
    {
     "data": {
      "text/plain": [
       "\"y.csv\""
      ]
     },
     "execution_count": 3,
     "metadata": {},
     "output_type": "execute_result"
    }
   ],
   "source": [
    "using CSV\n",
    "\n",
    "CSV.write(\"x.csv\", (x5 = tux[:, 10], x7 = tux[:, 11], x10 = tux[:, 12], x20 = tux[:, 13], x30 = tux[:, 14]))\n",
    "CSV.write(\"y.csv\", (x5 = tuy[:, 10], x7 = tuy[:, 11], x10 = tuy[:, 12], x20 = tuy[:, 13], x30 = tuy[:, 14]))"
   ]
  },
  {
   "cell_type": "markdown",
   "id": "structured-avatar",
   "metadata": {},
   "source": [
    "Before doing anything, I need to know what is a \"good\" value for K."
   ]
  },
  {
   "cell_type": "code",
   "execution_count": 21,
   "id": "wanted-revolution",
   "metadata": {},
   "outputs": [
    {
     "data": {
      "text/html": [
       "<div>\n",
       "<style scoped>\n",
       "    .dataframe tbody tr th:only-of-type {\n",
       "        vertical-align: middle;\n",
       "    }\n",
       "\n",
       "    .dataframe tbody tr th {\n",
       "        vertical-align: top;\n",
       "    }\n",
       "\n",
       "    .dataframe thead th {\n",
       "        text-align: right;\n",
       "    }\n",
       "</style>\n",
       "<table border=\"1\" class=\"dataframe\">\n",
       "  <thead>\n",
       "    <tr style=\"text-align: right;\">\n",
       "      <th></th>\n",
       "      <th>x5</th>\n",
       "      <th>x7</th>\n",
       "      <th>x10</th>\n",
       "      <th>x20</th>\n",
       "      <th>x30</th>\n",
       "    </tr>\n",
       "  </thead>\n",
       "  <tbody>\n",
       "    <tr>\n",
       "      <th>0</th>\n",
       "      <td>0.997611</td>\n",
       "      <td>0.979614</td>\n",
       "      <td>0.963528</td>\n",
       "      <td>1.074808</td>\n",
       "      <td>1.185736</td>\n",
       "    </tr>\n",
       "    <tr>\n",
       "      <th>1</th>\n",
       "      <td>0.878698</td>\n",
       "      <td>0.878005</td>\n",
       "      <td>0.877105</td>\n",
       "      <td>1.006837</td>\n",
       "      <td>1.144199</td>\n",
       "    </tr>\n",
       "    <tr>\n",
       "      <th>2</th>\n",
       "      <td>0.910271</td>\n",
       "      <td>0.910336</td>\n",
       "      <td>0.914195</td>\n",
       "      <td>1.049871</td>\n",
       "      <td>1.171455</td>\n",
       "    </tr>\n",
       "    <tr>\n",
       "      <th>3</th>\n",
       "      <td>0.917010</td>\n",
       "      <td>0.915760</td>\n",
       "      <td>0.924594</td>\n",
       "      <td>1.055735</td>\n",
       "      <td>1.177982</td>\n",
       "    </tr>\n",
       "    <tr>\n",
       "      <th>4</th>\n",
       "      <td>0.915523</td>\n",
       "      <td>0.911471</td>\n",
       "      <td>0.912635</td>\n",
       "      <td>1.031101</td>\n",
       "      <td>1.149428</td>\n",
       "    </tr>\n",
       "    <tr>\n",
       "      <th>...</th>\n",
       "      <td>...</td>\n",
       "      <td>...</td>\n",
       "      <td>...</td>\n",
       "      <td>...</td>\n",
       "      <td>...</td>\n",
       "    </tr>\n",
       "    <tr>\n",
       "      <th>245</th>\n",
       "      <td>0.050584</td>\n",
       "      <td>0.092165</td>\n",
       "      <td>0.153479</td>\n",
       "      <td>0.352866</td>\n",
       "      <td>0.528457</td>\n",
       "    </tr>\n",
       "    <tr>\n",
       "      <th>246</th>\n",
       "      <td>0.057061</td>\n",
       "      <td>0.096932</td>\n",
       "      <td>0.156774</td>\n",
       "      <td>0.356089</td>\n",
       "      <td>0.538196</td>\n",
       "    </tr>\n",
       "    <tr>\n",
       "      <th>247</th>\n",
       "      <td>0.038152</td>\n",
       "      <td>0.084196</td>\n",
       "      <td>0.150864</td>\n",
       "      <td>0.362229</td>\n",
       "      <td>0.541351</td>\n",
       "    </tr>\n",
       "    <tr>\n",
       "      <th>248</th>\n",
       "      <td>0.019741</td>\n",
       "      <td>0.075170</td>\n",
       "      <td>0.152013</td>\n",
       "      <td>0.378485</td>\n",
       "      <td>0.552223</td>\n",
       "    </tr>\n",
       "    <tr>\n",
       "      <th>249</th>\n",
       "      <td>0.007117</td>\n",
       "      <td>0.066859</td>\n",
       "      <td>0.149561</td>\n",
       "      <td>0.392334</td>\n",
       "      <td>0.577376</td>\n",
       "    </tr>\n",
       "  </tbody>\n",
       "</table>\n",
       "<p>250 rows × 5 columns</p>\n",
       "</div>"
      ],
      "text/plain": [
       "           x5        x7       x10       x20       x30\n",
       "0    0.997611  0.979614  0.963528  1.074808  1.185736\n",
       "1    0.878698  0.878005  0.877105  1.006837  1.144199\n",
       "2    0.910271  0.910336  0.914195  1.049871  1.171455\n",
       "3    0.917010  0.915760  0.924594  1.055735  1.177982\n",
       "4    0.915523  0.911471  0.912635  1.031101  1.149428\n",
       "..        ...       ...       ...       ...       ...\n",
       "245  0.050584  0.092165  0.153479  0.352866  0.528457\n",
       "246  0.057061  0.096932  0.156774  0.356089  0.538196\n",
       "247  0.038152  0.084196  0.150864  0.362229  0.541351\n",
       "248  0.019741  0.075170  0.152013  0.378485  0.552223\n",
       "249  0.007117  0.066859  0.149561  0.392334  0.577376\n",
       "\n",
       "[250 rows x 5 columns]"
      ]
     },
     "execution_count": 21,
     "metadata": {},
     "output_type": "execute_result"
    }
   ],
   "source": [
    "pd.read_csv(\"y.csv\")"
   ]
  },
  {
   "cell_type": "code",
   "execution_count": 20,
   "id": "amateur-craft",
   "metadata": {},
   "outputs": [
    {
     "data": {
      "text/plain": [
       "150"
      ]
     },
     "execution_count": 20,
     "metadata": {},
     "output_type": "execute_result"
    }
   ],
   "source": [
    "len(iris.target)"
   ]
  },
  {
   "cell_type": "code",
   "execution_count": 13,
   "id": "atlantic-chaos",
   "metadata": {},
   "outputs": [
    {
     "name": "stdout",
     "output_type": "stream",
     "text": [
      "K = 2, accuracy: 31.33%\n",
      "K = 5, accuracy: 86.00%\n",
      "K = 10, accuracy: 92.67%\n",
      "K = 20, accuracy: 93.84%\n",
      "K = -2, accuracy: 95.74%\n",
      "K = -1, accuracy: 95.33%\n",
      "Saved the chart into cross-validation-experiment-iris.png\n"
     ]
    },
    {
     "data": {
      "image/png": "[encoded data removed]",
      "text/plain": [
       "<Figure size 432x288 with 1 Axes>"
      ]
     },
     "metadata": {
      "needs_background": "light"
     },
     "output_type": "display_data"
    }
   ],
   "source": [
    "\"\"\"\n",
    "Code to replicate Ron Kohavi's cross-validation experiment on the Iris data set.\n",
    "\"\"\"\n",
    "output_file = \"cross-validation-experiment-iris.png\"\n",
    "\n",
    "iris = datasets.load_iris()\n",
    "X    = iris.data # pd.read_csv(\"x.csv\")\n",
    "I    = iter(X)\n",
    "y    = iris.target # pd.read_csv(\"y.csv\")['x5'] # iris.target\n",
    "clf  = svm.LinearSVC()\n",
    "n    = X.shape[0]\n",
    "\n",
    "folds      = [2, 5, 10, 20, -2, -1]\n",
    "n_folds    = len(folds)\n",
    "accuracies = []\n",
    "\n",
    "# Run K-folds\n",
    "for k in folds:\n",
    "    cv     = KFold(n_splits=k) if k > 0 else LeavePOut(p=abs(k))\n",
    "    scores = cross_val_score(clf, X, y, cv=cv)\n",
    "    accuracies.append(100 * scores.mean())\n",
    "    print(\"K = %d, accuracy: %0.2f%%\" % (k, accuracies[-1]))\n",
    "\n",
    "# Print chart\n",
    "plt.figure()\n",
    "plt.errorbar(range(1, n_folds + 1), accuracies, yerr=[5] * n_folds)  # Use 5% for the error bars\n",
    "ax = plt.gca()\n",
    "plt.xticks(range(0, n_folds + 2), [''] + [str(k) for k in folds] + [''])\n",
    "plt.yticks(range(30, 110, 10))\n",
    "plt.title(\"K-fold Cross-validation\")\n",
    "plt.xlabel(\"Folds\")\n",
    "plt.ylabel(\"% Acc\")\n",
    "plt.savefig(output_file)\n",
    "print(\"Saved the chart into \" + output_file)"
   ]
  },
  {
   "cell_type": "markdown",
   "id": "precious-brass",
   "metadata": {},
   "source": [
    "chain_ARIMA213 = [sample(ARIMA213(s_train[:, C]), NUTS(200, 0.65), 10000) for C in 1:5]"
   ]
  },
  {
   "cell_type": "markdown",
   "id": "suburban-appearance",
   "metadata": {},
   "source": [
    "## Fourier Analysis"
   ]
  },
  {
   "cell_type": "markdown",
   "id": "impressive-sheriff",
   "metadata": {},
   "source": [
    "Finally for a spectral analysis?"
   ]
  },
  {
   "cell_type": "markdown",
   "id": "southeast-society",
   "metadata": {},
   "source": [
    "### Plotting ARIMA Model Samples for ARIMA(0, 1, 1)"
   ]
  },
  {
   "cell_type": "markdown",
   "id": "blocked-oliver",
   "metadata": {},
   "source": [
    "I will now track the \\\"change of the change ($\\Delta^2)$\\\", using an ARIMA model for the inflation of Treasury securities using the markov chains montecarlo (MCMC) method for simulating  the change of inflation rate changes for upto 10,000 iterations."
   ]
  },
  {
   "cell_type": "code",
   "execution_count": null,
   "id": "quick-stopping",
   "metadata": {},
   "outputs": [],
   "source": [
    "@model ARIMA010(x) = begin\n",
    "    T = length(x)\n",
    "    μ ~ Uniform(-10, 10)\n",
    "    ϕ ~ Uniform(-1, 1)\n",
    "    for t in 3:T\n",
    "        val = x[t-1]                  # ARIMA(0,1,0) portion\"\n",
    "        x[t] ~ Normal(val, 1)\n",
    "    end\n",
    "end\n",
    "\n",
    "@model ARIMA110(x) = begin\n",
    "    T = length(x)\n",
    "    μ ~ Uniform(-10, 10)\n",
    "    ϕ ~ Uniform(-1, 1)\n",
    "    for t in 3:T\n",
    "        val = μ +                      # Drift term\"\n",
    "              x[t-1] +                 # ARIMA(0,1,0) portion\"\n",
    "              ϕ * (x[t-1] - x[t-2])    # ARIMA(1,0,0) portion\"\n",
    "        x[t] ~ Normal(val, 1)\n",
    "    end\n",
    "end\n",
    "\n",
    "@model ARIMA011(x) = begin\n",
    "    T = length(x)\n",
    "    # Set up error vector.\n",
    "    ϵ = Vector(undef, T)\n",
    "    x_hat = Vector(undef, T)\n",
    "    θ ~ Uniform(-5, 5)\n",
    "    # Treat the first x_hat as a parameter to estimate.\n",
    "    x_hat[1] ~ Normal(0, 1)\n",
    "    ϵ[1] = x[1] - x_hat[1]\n",
    "    for t in 2:T\n",
    "        # Predicted value for x.\n",
    "        x_hat[t] = x[t-1] - θ * ϵ[t-1]\n",
    "        # Calculate observed error.\n",
    "        ϵ[t] = x[t] - x_hat[t]\n",
    "        # Observe likelihood.\n",
    "        x[t] ~ Normal(x_hat[t], 1)\n",
    "    end\n",
    "end"
   ]
  },
  {
   "cell_type": "markdown",
   "id": "registered-participant",
   "metadata": {},
   "source": [
    "Employing a Markov Chain Montecarlo method to test the models I derived using **statespace modeling**."
   ]
  },
  {
   "cell_type": "markdown",
   "id": "amended-annex",
   "metadata": {},
   "source": [
    "## Plotting ARIMA Model Samples Using the Markov Chain Montecarlo (MCMC) Method"
   ]
  },
  {
   "cell_type": "markdown",
   "id": "amino-pasta",
   "metadata": {},
   "source": [
    "### Plotting ARIMA Model Samples for ARIMA(1, 1, 1)"
   ]
  },
  {
   "cell_type": "markdown",
   "id": "outstanding-person",
   "metadata": {},
   "source": [
    "Below is a series of plots containing Summary Statistics for $0-10,000$ runs of the **markov chain montecarlo or MCMC** (above) and the quantiles (below). The graphics on the left measures the **stability of inflation data points** for quantiles running from $-\\sigma$ to $\\sigma$, and the graphics on the right of the $4 \\times 4$ grid measures the density (notice how it is standard normal for Summary Statistics of the differenced inflation points), with quantiles having a uniform distribution, as per the model."
   ]
  },
  {
   "cell_type": "markdown",
   "id": "headed-geometry",
   "metadata": {},
   "source": [
    "### Plotting ARIMA Model Samples for ARIMA(0, 1, 1)"
   ]
  },
  {
   "cell_type": "markdown",
   "id": "driven-devices",
   "metadata": {},
   "source": [
    "Below is a series of plots containing Summary Statistics for $0-10,000$ runs of the **markov chain montecarlo or MCMC** (above) and the quantiles (below). The graphics on the left measures the **stability of inflation data points** for quantiles running from $-\\sigma$ to $\\sigma$, and the graphics on the right of the $4 \\times 4$ grid measures the density (notice how it is standard normal for Summary Statistics of the differenced inflation points), with quantiles having a uniform distribution, as per the model."
   ]
  },
  {
   "cell_type": "markdown",
   "id": "wicked-background",
   "metadata": {},
   "source": [
    "### Plotting ARIMA Model Samples for ARIMA(0, 1, 3)"
   ]
  },
  {
   "cell_type": "markdown",
   "id": "exciting-links",
   "metadata": {},
   "source": [
    "Below is a series of plots containing Summary Statistics for $0-10,000$ runs of the **markov chain montecarlo or MCMC** (above) and the quantiles (below). The graphics on the left measures the **stability of inflation data points** for quantiles running from $-\\sigma$ to $\\sigma$, and the graphics on the right of the $4 \\times 4$ grid measures the density (notice how it is standard normal for Summary Statistics of the differenced inflation points), with quantiles having a uniform distribution, as per the model."
   ]
  },
  {
   "cell_type": "markdown",
   "id": "cheap-great",
   "metadata": {},
   "source": [
    "### Plotting ARIMA Model Samples for ARIMA(3, 1, 1)"
   ]
  },
  {
   "cell_type": "markdown",
   "id": "medium-assumption",
   "metadata": {},
   "source": [
    "Below is a series of plots containing Summary Statistics for $0-10,000$ runs of the **markov chain montecarlo or MCMC** (above) and the quantiles (below). The graphics on the left measures the **stability of inflation data points** for quantiles running from $-\\sigma$ to $\\sigma$, and the graphics on the right of the $4 \\times 4$ grid measures the density (notice how it is standard normal for Summary Statistics of the differenced inflation points), with quantiles having a uniform distribution, as per the model."
   ]
  },
  {
   "cell_type": "markdown",
   "id": "double-family",
   "metadata": {},
   "source": [
    "### Plotting ARIMA Model Samples for ARIMA(2, 1, 3)"
   ]
  },
  {
   "cell_type": "markdown",
   "id": "aging-saint",
   "metadata": {},
   "source": [
    "Below is a plot of Summary Statistics for $0-10,000$ runs of the **markov chain montecarlo or MCMC** (above) and the quantiles (below). The graphics on the left measures the **stability of inflation data points** for quantiles running from $-\\sigma$ to $\\sigma$, and the graphics on the right of the $4 \\times 4$ grid measures the density (notice how it is standard normal for Summary Statistics of the differenced inflation points), with quantiles having a uniform distribution, as per the model."
   ]
  }
 ],
 "metadata": {
  "kernelspec": {
   "display_name": "Python 3",
   "language": "python",
   "name": "python3"
  },
  "language_info": {
   "codemirror_mode": {
    "name": "ipython",
    "version": 3
   },
   "file_extension": ".py",
   "mimetype": "text/x-python",
   "name": "python",
   "nbconvert_exporter": "python",
   "pygments_lexer": "ipython3",
   "version": "3.8.5"
  }
 },
 "nbformat": 4,
 "nbformat_minor": 5
}
