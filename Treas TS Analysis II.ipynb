{
 "cells": [
  {
   "cell_type": "markdown",
   "id": "crucial-southwest",
   "metadata": {},
   "source": [
    "# Time Series Analysis II"
   ]
  },
  {
   "cell_type": "markdown",
   "id": "ongoing-reason",
   "metadata": {},
   "source": [
    "| $\\text{Type}$     | $\\text{Maturity}$                        |\n",
    "| ----------------- | ---------------------------------------- |\n",
    "| $\\text{Bill (b)}$ | $1\\text{m} \\leq \\text{T} \\leq 1\\text{Y}$ |\n",
    "| $\\text{Note (N)}$ | $1\\text{Y} \\lt \\text{T} \\lt 10\\text{Y}$  |\n",
    "| $\\text{Bond (B)}$ | $\\quad\\quad\\ \\ \\text{T} \\geq 10\\text{Y}$ |"
   ]
  },
  {
   "cell_type": "markdown",
   "id": "acquired-brazil",
   "metadata": {},
   "source": [
    "## What is a Constant Maturity Treasury?"
   ]
  },
  {
   "cell_type": "markdown",
   "id": "constitutional-asbestos",
   "metadata": {},
   "source": [
    "According to [Investopedia](https://www.investopedia.com/terms/c/constantmaturity.asp), Constant Maturity is an adjustment for equivalent maturity, used by the Federal Reserve Board to compute an index based on the average yield of various Treasury securities maturing at different periods."
   ]
  },
  {
   "cell_type": "markdown",
   "id": "horizontal-shepherd",
   "metadata": {},
   "source": [
    "One would use constant maturity yields as reference for pricing all kinds of depts or fixed income securities, fixed income securities being by far the largest type of security in U.S. Securities markets."
   ]
  },
  {
   "cell_type": "markdown",
   "id": "forty-arbor",
   "metadata": {},
   "source": [
    "## Nominal Yield Curve Rates vs. Real Yield Curve Rates"
   ]
  },
  {
   "cell_type": "markdown",
   "id": "adjacent-seminar",
   "metadata": {},
   "source": [
    "According to the Board of Governors of the Federal Reserve System, a [nominal Treasury security](https://www.federalreserve.gov/data/nominal-yield-curve.htm) is an issuance that specifies principal and interest as fixed dollar amounts to the holder. Since Treasury securities are backed by the full faith and credit of the U.S. government, the returns investors can earn on them are often used as a “risk-free” benchmark in finance research and investment practice. These securities are a promise to repay the principal (with interest if a note or a bond) to the holder (can be a public or private entity). Therefore, the real yield curve rate would be adjusted for inflation in the yield curve."
   ]
  },
  {
   "cell_type": "markdown",
   "id": "loved-conversation",
   "metadata": {},
   "source": [
    "## Statement of Purpose"
   ]
  },
  {
   "cell_type": "markdown",
   "id": "funny-speed",
   "metadata": {},
   "source": [
    "The purpose of this time series analysis is to work the \"next steps\" highlighted under `Treas TS Analysis I`. These steps are as follows:\n",
    "\n",
    "1. Time-Series Forecasting\n",
    "2. Cross-Validation and Testing on New Data\n",
    "3. Vector Autoregressive Fractional Integrated Moving Average\n",
    "4. Markov Chain Monte Carlo\n",
    "5. Heteroscedastic Models\n",
    "6. Fourier Analysis and Spectral Analysis\n",
    "\n",
    "The first step subsequent to the analysis in `Treas TS Analysis I` is to do forecasting. I would need to define the \"event horizon\", how many steps I can take beyond the event horizon and what is the prediction error. Hopefully, I have better forecasts than what I obtained in `Treas Exploratory Analysis` using a \"top down\" approach.\n",
    "\n",
    "The second step is done to avoid \"over-fitting\" (more regressors than observations) or \"under-fitting\" (more observations than regressors) the data. For time series, regressors, also known as \"explanatory variables\", are the lagged W values I found earlier, under `Treas TS Analysis I`. There are other variables beyond the scope of the R-CMT and N-CMT rates explored in these notebooks, such as price of any specific security (reminder that these prices are based on an index of the average yield, meaning that they are not based on the price of any particular security present in the market at the time), the average strike placed by investors, the average per capita savings, the per capita debt, the Gross National Product of the USA, &c.\n",
    "\n",
    "The third step goes beyond ARIMA, exploring VARFIMA models. I will be making subsequent forecasts with these varfima models, making cross-validations where adequate.\n",
    "\n",
    "The fourth step tests both the basic ARIMA models and the VARFIMA models using the MCMC method. This is a durability test for any univariate, bivariate or multivariate distribution. Realistically, it is the posterior distribution what is being tested using the MCMC method, meaning \"after the fact\", after taking into account all relevant evidence or background on the particular data being examined or analyzed."
   ]
  },
  {
   "cell_type": "markdown",
   "id": "applicable-syria",
   "metadata": {},
   "source": [
    "## Loading Packages and Initializing Module / Importing Libraries"
   ]
  },
  {
   "cell_type": "code",
   "execution_count": 1,
   "id": "collectible-crash",
   "metadata": {},
   "outputs": [],
   "source": [
    "using CSV, DataFrames, Distributions, HypothesisTests\n",
    "using LinearAlgebra, MCMCChains, Plots\n",
    "using Random, Serialization, StatsBase, StatsPlots, Turing"
   ]
  },
  {
   "cell_type": "code",
   "execution_count": 6,
   "id": "french-roller",
   "metadata": {},
   "outputs": [
    {
     "data": {
      "text/html": [
       "<div class=\"data-frame\"><p>249 rows × 5 columns</p><table class=\"data-frame\"><thead><tr><th></th><th>x5</th><th>x7</th><th>x10</th><th>x20</th><th>x30</th></tr><tr><th></th><th title=\"Float64\">Float64</th><th title=\"Float64\">Float64</th><th title=\"Float64\">Float64</th><th title=\"Float64\">Float64</th><th title=\"Float64\">Float64</th></tr></thead><tbody><tr><th>1</th><td>-0.000728628</td><td>-0.0117053</td><td>-0.00803528</td><td>-0.00687697</td><td>-0.00475442</td></tr><tr><th>2</th><td>0.0576037</td><td>0.0546078</td><td>0.0424119</td><td>0.0209846</td><td>0.0182711</td></tr><tr><th>3</th><td>0.0208363</td><td>0.0207428</td><td>0.0111017</td><td>0.0134675</td><td>0.00191849</td></tr><tr><th>4</th><td>0.0314214</td><td>0.0201543</td><td>0.0233585</td><td>0.024437</td><td>0.0210536</td></tr><tr><th>5</th><td>0.00767738</td><td>0.0151621</td><td>0.0067988</td><td>-0.000791054</td><td>0.00985471</td></tr><tr><th>6</th><td>-0.0148034</td><td>-0.0145158</td><td>-0.00974972</td><td>-0.00501027</td><td>-0.00491387</td></tr><tr><th>7</th><td>0.00630865</td><td>0.0110279</td><td>0.00970655</td><td>0.00789821</td><td>0.00257715</td></tr><tr><th>8</th><td>-0.0109653</td><td>-0.0136715</td><td>-0.011342</td><td>-0.00640927</td><td>-0.00120317</td></tr><tr><th>9</th><td>-0.00851651</td><td>-0.000953752</td><td>-0.000190173</td><td>-0.00135783</td><td>0.00296291</td></tr><tr><th>10</th><td>0.00348619</td><td>0.00243246</td><td>0.00541846</td><td>0.0109481</td><td>0.000269797</td></tr><tr><th>11</th><td>0.0030557</td><td>-0.00170321</td><td>-0.0175244</td><td>-0.0153227</td><td>-0.00424004</td></tr><tr><th>12</th><td>0.0197873</td><td>0.0206414</td><td>0.0215404</td><td>0.010106</td><td>0.00925388</td></tr><tr><th>13</th><td>-0.0250988</td><td>-0.0216865</td><td>-0.0185442</td><td>-0.0141526</td><td>-0.00902223</td></tr><tr><th>14</th><td>0.00682889</td><td>-0.00157691</td><td>0.00190411</td><td>0.00381001</td><td>-0.000996277</td></tr><tr><th>15</th><td>-0.0162786</td><td>-0.0149531</td><td>-0.0131793</td><td>-0.0164083</td><td>-0.00982759</td></tr><tr><th>16</th><td>0.0147813</td><td>0.0123554</td><td>0.00942722</td><td>0.00623812</td><td>0.00153889</td></tr><tr><th>17</th><td>-0.0105853</td><td>-0.00898508</td><td>-0.0075235</td><td>-0.00381578</td><td>-0.0050402</td></tr><tr><th>18</th><td>-0.00166222</td><td>-0.00778042</td><td>-0.000143625</td><td>0.00253423</td><td>0.00202751</td></tr><tr><th>19</th><td>0.035201</td><td>0.0423678</td><td>0.0344294</td><td>0.0322821</td><td>0.028268</td></tr><tr><th>20</th><td>0.0101696</td><td>0.00540245</td><td>0.00633196</td><td>0.00955545</td><td>0.0125358</td></tr><tr><th>21</th><td>0.0160282</td><td>0.0179571</td><td>0.0148407</td><td>0.00649903</td><td>0.00488916</td></tr><tr><th>22</th><td>-0.0022089</td><td>-0.00043998</td><td>-0.00503547</td><td>0.00491798</td><td>0.000217747</td></tr><tr><th>23</th><td>-0.0025744</td><td>-0.00144973</td><td>-0.000174053</td><td>-0.00449148</td><td>-0.00289486</td></tr><tr><th>24</th><td>-0.00201397</td><td>-0.00349491</td><td>-0.00541664</td><td>-0.0101144</td><td>-0.00942991</td></tr><tr><th>25</th><td>-0.0141385</td><td>-0.0157609</td><td>-0.0111306</td><td>-0.00453421</td><td>-0.00498111</td></tr><tr><th>26</th><td>0.00105348</td><td>0.0019873</td><td>-0.00914075</td><td>-0.00946001</td><td>-0.00983383</td></tr><tr><th>27</th><td>-0.000352022</td><td>0.0015903</td><td>-0.00167747</td><td>0.000924446</td><td>0.000941927</td></tr><tr><th>28</th><td>0.0107361</td><td>0.00716046</td><td>0.00921166</td><td>0.00607304</td><td>0.00514437</td></tr><tr><th>29</th><td>0.0270752</td><td>0.0180964</td><td>0.0144342</td><td>0.0101543</td><td>0.00783235</td></tr><tr><th>30</th><td>-0.00668131</td><td>-0.00603464</td><td>-0.00576558</td><td>-0.00539945</td><td>-0.00290546</td></tr><tr><th>&vellip;</th><td>&vellip;</td><td>&vellip;</td><td>&vellip;</td><td>&vellip;</td><td>&vellip;</td></tr></tbody></table></div>"
      ],
      "text/latex": [
       "\\begin{tabular}{r|ccccc}\n",
       "\t& x5 & x7 & x10 & x20 & x30\\\\\n",
       "\t\\hline\n",
       "\t& Float64 & Float64 & Float64 & Float64 & Float64\\\\\n",
       "\t\\hline\n",
       "\t1 & -0.000728628 & -0.0117053 & -0.00803528 & -0.00687697 & -0.00475442 \\\\\n",
       "\t2 & 0.0576037 & 0.0546078 & 0.0424119 & 0.0209846 & 0.0182711 \\\\\n",
       "\t3 & 0.0208363 & 0.0207428 & 0.0111017 & 0.0134675 & 0.00191849 \\\\\n",
       "\t4 & 0.0314214 & 0.0201543 & 0.0233585 & 0.024437 & 0.0210536 \\\\\n",
       "\t5 & 0.00767738 & 0.0151621 & 0.0067988 & -0.000791054 & 0.00985471 \\\\\n",
       "\t6 & -0.0148034 & -0.0145158 & -0.00974972 & -0.00501027 & -0.00491387 \\\\\n",
       "\t7 & 0.00630865 & 0.0110279 & 0.00970655 & 0.00789821 & 0.00257715 \\\\\n",
       "\t8 & -0.0109653 & -0.0136715 & -0.011342 & -0.00640927 & -0.00120317 \\\\\n",
       "\t9 & -0.00851651 & -0.000953752 & -0.000190173 & -0.00135783 & 0.00296291 \\\\\n",
       "\t10 & 0.00348619 & 0.00243246 & 0.00541846 & 0.0109481 & 0.000269797 \\\\\n",
       "\t11 & 0.0030557 & -0.00170321 & -0.0175244 & -0.0153227 & -0.00424004 \\\\\n",
       "\t12 & 0.0197873 & 0.0206414 & 0.0215404 & 0.010106 & 0.00925388 \\\\\n",
       "\t13 & -0.0250988 & -0.0216865 & -0.0185442 & -0.0141526 & -0.00902223 \\\\\n",
       "\t14 & 0.00682889 & -0.00157691 & 0.00190411 & 0.00381001 & -0.000996277 \\\\\n",
       "\t15 & -0.0162786 & -0.0149531 & -0.0131793 & -0.0164083 & -0.00982759 \\\\\n",
       "\t16 & 0.0147813 & 0.0123554 & 0.00942722 & 0.00623812 & 0.00153889 \\\\\n",
       "\t17 & -0.0105853 & -0.00898508 & -0.0075235 & -0.00381578 & -0.0050402 \\\\\n",
       "\t18 & -0.00166222 & -0.00778042 & -0.000143625 & 0.00253423 & 0.00202751 \\\\\n",
       "\t19 & 0.035201 & 0.0423678 & 0.0344294 & 0.0322821 & 0.028268 \\\\\n",
       "\t20 & 0.0101696 & 0.00540245 & 0.00633196 & 0.00955545 & 0.0125358 \\\\\n",
       "\t21 & 0.0160282 & 0.0179571 & 0.0148407 & 0.00649903 & 0.00488916 \\\\\n",
       "\t22 & -0.0022089 & -0.00043998 & -0.00503547 & 0.00491798 & 0.000217747 \\\\\n",
       "\t23 & -0.0025744 & -0.00144973 & -0.000174053 & -0.00449148 & -0.00289486 \\\\\n",
       "\t24 & -0.00201397 & -0.00349491 & -0.00541664 & -0.0101144 & -0.00942991 \\\\\n",
       "\t25 & -0.0141385 & -0.0157609 & -0.0111306 & -0.00453421 & -0.00498111 \\\\\n",
       "\t26 & 0.00105348 & 0.0019873 & -0.00914075 & -0.00946001 & -0.00983383 \\\\\n",
       "\t27 & -0.000352022 & 0.0015903 & -0.00167747 & 0.000924446 & 0.000941927 \\\\\n",
       "\t28 & 0.0107361 & 0.00716046 & 0.00921166 & 0.00607304 & 0.00514437 \\\\\n",
       "\t29 & 0.0270752 & 0.0180964 & 0.0144342 & 0.0101543 & 0.00783235 \\\\\n",
       "\t30 & -0.00668131 & -0.00603464 & -0.00576558 & -0.00539945 & -0.00290546 \\\\\n",
       "\t$\\dots$ & $\\dots$ & $\\dots$ & $\\dots$ & $\\dots$ & $\\dots$ \\\\\n",
       "\\end{tabular}\n"
      ],
      "text/plain": [
       "\u001b[1m249×5 DataFrame\u001b[0m\n",
       "\u001b[1m Row \u001b[0m│\u001b[1m x5           \u001b[0m\u001b[1m x7           \u001b[0m\u001b[1m x10          \u001b[0m\u001b[1m x20          \u001b[0m\u001b[1m x30          \u001b[0m\n",
       "\u001b[1m     \u001b[0m│\u001b[90m Float64      \u001b[0m\u001b[90m Float64      \u001b[0m\u001b[90m Float64      \u001b[0m\u001b[90m Float64      \u001b[0m\u001b[90m Float64      \u001b[0m\n",
       "─────┼──────────────────────────────────────────────────────────────────────\n",
       "   1 │ -0.000728628  -0.0117053    -0.00803528   -0.00687697   -0.00475442\n",
       "   2 │  0.0576037     0.0546078     0.0424119     0.0209846     0.0182711\n",
       "   3 │  0.0208363     0.0207428     0.0111017     0.0134675     0.00191849\n",
       "   4 │  0.0314214     0.0201543     0.0233585     0.024437      0.0210536\n",
       "   5 │  0.00767738    0.0151621     0.0067988    -0.000791054   0.00985471\n",
       "   6 │ -0.0148034    -0.0145158    -0.00974972   -0.00501027   -0.00491387\n",
       "   7 │  0.00630865    0.0110279     0.00970655    0.00789821    0.00257715\n",
       "   8 │ -0.0109653    -0.0136715    -0.011342     -0.00640927   -0.00120317\n",
       "   9 │ -0.00851651   -0.000953752  -0.000190173  -0.00135783    0.00296291\n",
       "  10 │  0.00348619    0.00243246    0.00541846    0.0109481     0.000269797\n",
       "  11 │  0.0030557    -0.00170321   -0.0175244    -0.0153227    -0.00424004\n",
       "  ⋮  │      ⋮             ⋮             ⋮             ⋮             ⋮\n",
       " 240 │  0.00557449    0.00946811    0.00729225    0.0107701     0.00865647\n",
       " 241 │  0.013845      0.0153533     0.00564311    0.0122458     0.0119899\n",
       " 242 │  0.00246057   -0.00270734    0.00930436    0.00411252    0.00894656\n",
       " 243 │ -0.00426665   -0.00392894   -0.00364028   -0.00284929   -0.00779762\n",
       " 244 │ -0.00367656   -0.00265816   -0.00736388   -0.0081666    -0.00827641\n",
       " 245 │  0.0013013    -0.00138467   -0.00427936   -0.000424892   0.000413065\n",
       " 246 │ -0.00388735    0.00872731   -0.00188839   -0.0071844    -0.00542059\n",
       " 247 │ -0.0127641    -0.0214856    -0.00811556   -0.00883982   -0.00736885\n",
       " 248 │  0.0111512     0.0110277     0.010843      0.00753247    0.00511886\n",
       " 249 │  0.0135348     0.0161875     0.0127627     0.0141774     0.0138026\n",
       "\u001b[36m                                                            228 rows omitted\u001b[0m"
      ]
     },
     "execution_count": 6,
     "metadata": {},
     "output_type": "execute_result"
    }
   ],
   "source": [
    "tnf = CSV.read(\"log_diff.csv\", DataFrame)"
   ]
  },
  {
   "cell_type": "markdown",
   "id": "italian-moore",
   "metadata": {},
   "source": [
    "## Defining the Event Origin, Forecast Horizon and Making Some Forecasts"
   ]
  },
  {
   "cell_type": "markdown",
   "id": "cubic-morocco",
   "metadata": {},
   "source": [
    "The event origin for an $\\text{ARIMA}(p,1,q)$ model starts at $p + 1$, where $p$ is the number of autoregressive terms in the series. I will begin by generating normal variables for the error terms and then generate forecasts for $2019$, with prediction error $\\hat{\\epsilon} = y - \\hat{y}$ for each subsequent forecast within the defined horizon."
   ]
  },
  {
   "cell_type": "markdown",
   "id": "creative-charm",
   "metadata": {},
   "source": [
    "### For the 5Y Note CMT"
   ]
  },
  {
   "cell_type": "markdown",
   "id": "statistical-navigation",
   "metadata": {},
   "source": [
    "I am able to get one forecast"
   ]
  },
  {
   "cell_type": "code",
   "execution_count": 12,
   "id": "viral-cover",
   "metadata": {},
   "outputs": [
    {
     "data": {
      "text/plain": [
       "0.0056647559999998265"
      ]
     },
     "execution_count": 12,
     "metadata": {},
     "output_type": "execute_result"
    }
   ],
   "source": [
    "using CSV, DataFrames, Distributions, Random; Random.seed!(2233)\n",
    "\n",
    "tnf = CSV.read(\"tnf.csv\", DataFrame)\n",
    "\n",
    "n = size(tnf)[1]\n",
    "μ = mean(tnf[:, 1])\n",
    "σ = sqrt(sum((tnf[:, 1] .- μ) .^ 2) / (n - 1))\n",
    "\n",
    "d = Normal(μ, σ)\n",
    "ϵ = rand(d, 1)[1]\n",
    "\n",
    "# Y = 0.1078*tnf[248,1] - 0.9995ϵ[1]\n",
    "# Y = 0.0930*tnf[249,1] + 0.0780*tnf[248,1]\n",
    "\n",
    "(μ, ϵ)\n",
    "μ - median(tnf[:, 1])"
   ]
  },
  {
   "cell_type": "markdown",
   "id": "respective-humor",
   "metadata": {},
   "source": [
    "$\\bar{x} - \\tilde{x} = \\text{skewness}$"
   ]
  },
  {
   "cell_type": "code",
   "execution_count": 110,
   "id": "disturbed-release",
   "metadata": {},
   "outputs": [
    {
     "ename": "NameError",
     "evalue": "name 'mean' is not defined",
     "output_type": "error",
     "traceback": [
      "\u001b[1;31m---------------------------------------------------------------------------\u001b[0m",
      "\u001b[1;31mNameError\u001b[0m                                 Traceback (most recent call last)",
      "\u001b[1;32m<ipython-input-110-4be6c72f2ec8>\u001b[0m in \u001b[0;36m<module>\u001b[1;34m\u001b[0m\n\u001b[1;32m----> 1\u001b[1;33m \u001b[0mmean\u001b[0m\u001b[1;33m(\u001b[0m\u001b[0mtnf\u001b[0m\u001b[1;33m[\u001b[0m\u001b[1;33m:\u001b[0m\u001b[1;33m,\u001b[0m \u001b[1;36m1\u001b[0m\u001b[1;33m]\u001b[0m\u001b[1;33m)\u001b[0m\u001b[1;33m\u001b[0m\u001b[1;33m\u001b[0m\u001b[0m\n\u001b[0m",
      "\u001b[1;31mNameError\u001b[0m: name 'mean' is not defined"
     ]
    }
   ],
   "source": [
    "mean(tnf[:, 1])"
   ]
  },
  {
   "cell_type": "code",
   "execution_count": 22,
   "id": "enormous-exception",
   "metadata": {},
   "outputs": [
    {
     "data": {
      "text/plain": [
       "0.013534779781209427"
      ]
     },
     "execution_count": 22,
     "metadata": {},
     "output_type": "execute_result"
    }
   ],
   "source": [
    "tnf[249,1]"
   ]
  },
  {
   "cell_type": "markdown",
   "id": "wicked-concord",
   "metadata": {},
   "source": [
    "with error rate"
   ]
  },
  {
   "cell_type": "code",
   "execution_count": 26,
   "id": "popular-yellow",
   "metadata": {},
   "outputs": [
    {
     "data": {
      "text/plain": [
       "0.8321521870504367"
      ]
     },
     "execution_count": 26,
     "metadata": {},
     "output_type": "execute_result"
    }
   ],
   "source": [
    "ϵ = abs(tnf[250,1] - Y) / abs(tnf[250,1])"
   ]
  },
  {
   "cell_type": "markdown",
   "id": "acknowledged-course",
   "metadata": {},
   "source": [
    "## After Wrangling with the Data and Not Finding Conclusive Results...."
   ]
  },
  {
   "cell_type": "markdown",
   "id": "burning-palace",
   "metadata": {},
   "source": [
    "I realize the best way to construct a model is using the `ARIMA` tool, available under Python."
   ]
  },
  {
   "cell_type": "code",
   "execution_count": null,
   "id": "grand-nutrition",
   "metadata": {},
   "outputs": [],
   "source": [
    "pickle.load(open(\"C:\\\\Users\\\\Owner\\\\Documents\\\\Economics\\\\Financial Economics\\\\Research\\\\Securities Experiment\\\\mod\", \"rb\"))"
   ]
  },
  {
   "cell_type": "code",
   "execution_count": 106,
   "id": "solved-acquisition",
   "metadata": {},
   "outputs": [
    {
     "name": "stdout",
     "output_type": "stream",
     "text": [
      "                               SARIMAX Results                                \n",
      "==============================================================================\n",
      "Dep. Variable:                     x5   No. Observations:                  250\n",
      "Model:                 ARIMA(1, 1, 1)   Log Likelihood                 534.650\n",
      "Date:                Mon, 13 Dec 2021   AIC                          -1063.299\n",
      "Time:                        17:13:43   BIC                          -1052.747\n",
      "Sample:                             0   HQIC                         -1059.052\n",
      "                                - 250                                         \n",
      "Covariance Type:                  opg                                         \n",
      "==============================================================================\n",
      "                 coef    std err          z      P>|z|      [0.025      0.975]\n",
      "------------------------------------------------------------------------------\n",
      "ar.L1          0.4823      0.434      1.110      0.267      -0.369       1.334\n",
      "ma.L1         -0.3777      0.454     -0.831      0.406      -1.269       0.513\n",
      "sigma2         0.0008    4.4e-05     18.141      0.000       0.001       0.001\n",
      "===================================================================================\n",
      "Ljung-Box (L1) (Q):                   0.03   Jarque-Bera (JB):               167.69\n",
      "Prob(Q):                              0.86   Prob(JB):                         0.00\n",
      "Heteroskedasticity (H):               1.66   Skew:                             0.67\n",
      "Prob(H) (two-sided):                  0.02   Kurtosis:                         6.79\n",
      "===================================================================================\n",
      "\n",
      "Warnings:\n",
      "[1] Covariance matrix calculated using the outer product of gradients (complex-step).\n"
     ]
    }
   ],
   "source": [
    "import numpy as np\n",
    "import pandas as pd\n",
    "import matplotlib.pyplot as plt\n",
    "from statsmodels.tsa.arima.model import ARIMA\n",
    "\n",
    "tnf = pd.read_csv(\"tnf.csv\")\n",
    "mod = ARIMA(endog=tnf['x5'], order=(1, 1, 1))\n",
    "fit = mod.fit()\n",
    "print(fit.summary())"
   ]
  },
  {
   "cell_type": "code",
   "execution_count": 107,
   "id": "legal-semiconductor",
   "metadata": {},
   "outputs": [],
   "source": [
    "y = fit.predict(dynamic=False)[1:249]"
   ]
  },
  {
   "cell_type": "code",
   "execution_count": 108,
   "id": "pacific-signature",
   "metadata": {},
   "outputs": [
    {
     "data": {
      "text/plain": [
       "[<matplotlib.lines.Line2D at 0x1cb91280>]"
      ]
     },
     "execution_count": 108,
     "metadata": {},
     "output_type": "execute_result"
    },
    {
     "data": {
      "image/png": "[encoded data removed]",
      "text/plain": [
       "<Figure size 432x288 with 1 Axes>"
      ]
     },
     "metadata": {
      "needs_background": "light"
     },
     "output_type": "display_data"
    }
   ],
   "source": [
    "plt.plot(1 - y / x)"
   ]
  },
  {
   "cell_type": "code",
   "execution_count": 109,
   "id": "sharp-marking",
   "metadata": {},
   "outputs": [
    {
     "data": {
      "text/plain": [
       "0.0002233782781238518"
      ]
     },
     "execution_count": 109,
     "metadata": {},
     "output_type": "execute_result"
    }
   ],
   "source": [
    "z = 1 - y / x\n",
    "n = 0\n",
    "l = 0\n",
    "for c in z:\n",
    "    if c == c:\n",
    "        l += 1\n",
    "        n = n + c\n",
    "n / l"
   ]
  },
  {
   "cell_type": "code",
   "execution_count": null,
   "id": "moral-circular",
   "metadata": {},
   "outputs": [],
   "source": [
    "Y = 0.4823*tnf[249,1] - 0.3777*ϵ"
   ]
  },
  {
   "cell_type": "markdown",
   "id": "alpha-detective",
   "metadata": {},
   "source": [
    "## Fourier Analysis"
   ]
  },
  {
   "cell_type": "markdown",
   "id": "electric-ideal",
   "metadata": {},
   "source": [
    "Finally for a spectral analysis?"
   ]
  },
  {
   "cell_type": "markdown",
   "id": "meaning-headquarters",
   "metadata": {},
   "source": [
    "### Plotting ARIMA Model Samples for ARIMA(0, 1, 1)"
   ]
  },
  {
   "cell_type": "markdown",
   "id": "primary-wholesale",
   "metadata": {},
   "source": [
    "I will now track the \\\"change of the change ($\\Delta^2)$\\\", using an ARIMA model for the inflation of Treasury securities using the markov chains montecarlo (MCMC) method for simulating  the change of inflation rate changes for upto 10,000 iterations."
   ]
  },
  {
   "cell_type": "code",
   "execution_count": null,
   "id": "killing-violation",
   "metadata": {},
   "outputs": [],
   "source": [
    "@model ARIMA010(x) = begin\n",
    "    T = length(x)\n",
    "    μ ~ Uniform(-10, 10)\n",
    "    ϕ ~ Uniform(-1, 1)\n",
    "    for t in 3:T\n",
    "        val = x[t-1]                  # ARIMA(0,1,0) portion\"\n",
    "        x[t] ~ Normal(val, 1)\n",
    "    end\n",
    "end\n",
    "\n",
    "@model ARIMA110(x) = begin\n",
    "    T = length(x)\n",
    "    μ ~ Uniform(-10, 10)\n",
    "    ϕ ~ Uniform(-1, 1)\n",
    "    for t in 3:T\n",
    "        val = μ +                      # Drift term\"\n",
    "              x[t-1] +                 # ARIMA(0,1,0) portion\"\n",
    "              ϕ * (x[t-1] - x[t-2])    # ARIMA(1,0,0) portion\"\n",
    "        x[t] ~ Normal(val, 1)\n",
    "    end\n",
    "end\n",
    "\n",
    "@model ARIMA011(x) = begin\n",
    "    T = length(x)\n",
    "    # Set up error vector.\n",
    "    ϵ = Vector(undef, T)\n",
    "    x_hat = Vector(undef, T)\n",
    "    θ ~ Uniform(-5, 5)\n",
    "    # Treat the first x_hat as a parameter to estimate.\n",
    "    x_hat[1] ~ Normal(0, 1)\n",
    "    ϵ[1] = x[1] - x_hat[1]\n",
    "    for t in 2:T\n",
    "        # Predicted value for x.\n",
    "        x_hat[t] = x[t-1] - θ * ϵ[t-1]\n",
    "        # Calculate observed error.\n",
    "        ϵ[t] = x[t] - x_hat[t]\n",
    "        # Observe likelihood.\n",
    "        x[t] ~ Normal(x_hat[t], 1)\n",
    "    end\n",
    "end"
   ]
  },
  {
   "cell_type": "markdown",
   "id": "double-support",
   "metadata": {},
   "source": [
    "Employing a Markov Chain Montecarlo method to test the models I derived using **statespace modeling**."
   ]
  },
  {
   "cell_type": "markdown",
   "id": "coupled-explorer",
   "metadata": {},
   "source": [
    "## Plotting ARIMA Model Samples Using the Markov Chain Montecarlo (MCMC) Method"
   ]
  },
  {
   "cell_type": "markdown",
   "id": "lovely-yacht",
   "metadata": {},
   "source": [
    "### Plotting ARIMA Model Samples for ARIMA(1, 1, 1)"
   ]
  },
  {
   "cell_type": "markdown",
   "id": "structural-immunology",
   "metadata": {},
   "source": [
    "Below is a series of plots containing Summary Statistics for $0-10,000$ runs of the **markov chain montecarlo or MCMC** (above) and the quantiles (below). The graphics on the left measures the **stability of inflation data points** for quantiles running from $-\\sigma$ to $\\sigma$, and the graphics on the right of the $4 \\times 4$ grid measures the density (notice how it is standard normal for Summary Statistics of the differenced inflation points), with quantiles having a uniform distribution, as per the model."
   ]
  },
  {
   "cell_type": "markdown",
   "id": "minor-lemon",
   "metadata": {},
   "source": [
    "### Plotting ARIMA Model Samples for ARIMA(0, 1, 1)"
   ]
  },
  {
   "cell_type": "markdown",
   "id": "welcome-swiss",
   "metadata": {},
   "source": [
    "Below is a series of plots containing Summary Statistics for $0-10,000$ runs of the **markov chain montecarlo or MCMC** (above) and the quantiles (below). The graphics on the left measures the **stability of inflation data points** for quantiles running from $-\\sigma$ to $\\sigma$, and the graphics on the right of the $4 \\times 4$ grid measures the density (notice how it is standard normal for Summary Statistics of the differenced inflation points), with quantiles having a uniform distribution, as per the model."
   ]
  },
  {
   "cell_type": "markdown",
   "id": "suspected-religion",
   "metadata": {},
   "source": [
    "### Plotting ARIMA Model Samples for ARIMA(0, 1, 3)"
   ]
  },
  {
   "cell_type": "markdown",
   "id": "imperial-likelihood",
   "metadata": {},
   "source": [
    "Below is a series of plots containing Summary Statistics for $0-10,000$ runs of the **markov chain montecarlo or MCMC** (above) and the quantiles (below). The graphics on the left measures the **stability of inflation data points** for quantiles running from $-\\sigma$ to $\\sigma$, and the graphics on the right of the $4 \\times 4$ grid measures the density (notice how it is standard normal for Summary Statistics of the differenced inflation points), with quantiles having a uniform distribution, as per the model."
   ]
  },
  {
   "cell_type": "markdown",
   "id": "unknown-return",
   "metadata": {},
   "source": [
    "### Plotting ARIMA Model Samples for ARIMA(3, 1, 1)"
   ]
  },
  {
   "cell_type": "markdown",
   "id": "incorrect-scenario",
   "metadata": {},
   "source": [
    "Below is a series of plots containing Summary Statistics for $0-10,000$ runs of the **markov chain montecarlo or MCMC** (above) and the quantiles (below). The graphics on the left measures the **stability of inflation data points** for quantiles running from $-\\sigma$ to $\\sigma$, and the graphics on the right of the $4 \\times 4$ grid measures the density (notice how it is standard normal for Summary Statistics of the differenced inflation points), with quantiles having a uniform distribution, as per the model."
   ]
  },
  {
   "cell_type": "markdown",
   "id": "enclosed-afghanistan",
   "metadata": {},
   "source": [
    "### Plotting ARIMA Model Samples for ARIMA(2, 1, 3)"
   ]
  },
  {
   "cell_type": "markdown",
   "id": "religious-benefit",
   "metadata": {},
   "source": [
    "Below is a plot of Summary Statistics for $0-10,000$ runs of the **markov chain montecarlo or MCMC** (above) and the quantiles (below). The graphics on the left measures the **stability of inflation data points** for quantiles running from $-\\sigma$ to $\\sigma$, and the graphics on the right of the $4 \\times 4$ grid measures the density (notice how it is standard normal for Summary Statistics of the differenced inflation points), with quantiles having a uniform distribution, as per the model."
   ]
  },
  {
   "cell_type": "markdown",
   "id": "suitable-hughes",
   "metadata": {},
   "source": [
    "chain_ARIMA213 = [sample(ARIMA213(s_train[:, C]), NUTS(200, 0.65), 10000) for C in 1:5]"
   ]
  }
 ],
 "metadata": {
  "kernelspec": {
   "display_name": "Julia 1.5.3",
   "language": "julia",
   "name": "julia-1.5"
  },
  "language_info": {
   "file_extension": ".jl",
   "mimetype": "application/julia",
   "name": "julia",
   "version": "1.5.3"
  }
 },
 "nbformat": 4,
 "nbformat_minor": 5
}
