{
 "cells": [
  {
   "cell_type": "markdown",
   "id": "4a38b88b-b088-4e04-bf31-840e06bead1d",
   "metadata": {},
   "source": [
    "## Fourier Analysis"
   ]
  },
  {
   "cell_type": "markdown",
   "id": "a61c47af-23ca-4d84-b2bb-3b52842970b2",
   "metadata": {},
   "source": [
    "Finally for a spectral analysis?"
   ]
  },
  {
   "cell_type": "markdown",
   "id": "1e718fc5-84e0-4f02-9d28-38fd4fb1e36a",
   "metadata": {},
   "source": [
    "### Plotting ARIMA Model Samples for ARIMA(0, 1, 1)"
   ]
  },
  {
   "cell_type": "markdown",
   "id": "566130ee-799e-4a10-b890-bd545aa8cbb1",
   "metadata": {},
   "source": [
    "I will now track the \\\"change of the change ($\\Delta^2)$\\\", using an ARIMA model for the inflation of Treasury securities using the markov chains montecarlo (MCMC) method for simulating  the change of inflation rate changes for upto 10,000 iterations."
   ]
  },
  {
   "cell_type": "code",
   "execution_count": null,
   "id": "8007ef1c-c668-4bc4-8db9-1f52bb4ae4a2",
   "metadata": {},
   "outputs": [],
   "source": [
    "@model ARIMA010(x) = begin\n",
    "    T = length(x)\n",
    "    μ ~ Uniform(-10, 10)\n",
    "    ϕ ~ Uniform(-1, 1)\n",
    "    for t in 3:T\n",
    "        val = x[t-1]                  # ARIMA(0,1,0) portion\"\n",
    "        x[t] ~ Normal(val, 1)\n",
    "    end\n",
    "end\n",
    "\n",
    "@model ARIMA110(x) = begin\n",
    "    T = length(x)\n",
    "    μ ~ Uniform(-10, 10)\n",
    "    ϕ ~ Uniform(-1, 1)\n",
    "    for t in 3:T\n",
    "        val = μ +                      # Drift term\"\n",
    "              x[t-1] +                 # ARIMA(0,1,0) portion\"\n",
    "              ϕ * (x[t-1] - x[t-2])    # ARIMA(1,0,0) portion\"\n",
    "        x[t] ~ Normal(val, 1)\n",
    "    end\n",
    "end\n",
    "\n",
    "@model ARIMA011(x) = begin\n",
    "    T = length(x)\n",
    "    # Set up error vector.\n",
    "    ϵ = Vector(undef, T)\n",
    "    x_hat = Vector(undef, T)\n",
    "    θ ~ Uniform(-5, 5)\n",
    "    # Treat the first x_hat as a parameter to estimate.\n",
    "    x_hat[1] ~ Normal(0, 1)\n",
    "    ϵ[1] = x[1] - x_hat[1]\n",
    "    for t in 2:T\n",
    "        # Predicted value for x.\n",
    "        x_hat[t] = x[t-1] - θ * ϵ[t-1]\n",
    "        # Calculate observed error.\n",
    "        ϵ[t] = x[t] - x_hat[t]\n",
    "        # Observe likelihood.\n",
    "        x[t] ~ Normal(x_hat[t], 1)\n",
    "    end\n",
    "end"
   ]
  },
  {
   "cell_type": "markdown",
   "id": "5c7b4327-6b0a-4a2d-bc58-d1bfe3ccfc5e",
   "metadata": {},
   "source": [
    "Employing a Markov Chain Montecarlo method to test the models I derived using **statespace modeling**."
   ]
  },
  {
   "cell_type": "markdown",
   "id": "e169b238-f514-4cbb-89dd-2e288d1c8168",
   "metadata": {},
   "source": [
    "## Plotting ARIMA Model Samples Using the Markov Chain Montecarlo (MCMC) Method"
   ]
  },
  {
   "cell_type": "markdown",
   "id": "93e3fc8c-3938-4359-b7bd-ff654712a54e",
   "metadata": {},
   "source": [
    "### Plotting ARIMA Model Samples for ARIMA(1, 1, 1)"
   ]
  },
  {
   "cell_type": "markdown",
   "id": "ec2dc25c-3069-42ac-b0e8-4ea4ea21939a",
   "metadata": {},
   "source": [
    "Below is a series of plots containing Summary Statistics for $0-10,000$ runs of the **markov chain montecarlo or MCMC** (above) and the quantiles (below). The graphics on the left measures the **stability of inflation data points** for quantiles running from $-\\sigma$ to $\\sigma$, and the graphics on the right of the $4 \\times 4$ grid measures the density (notice how it is standard normal for Summary Statistics of the differenced inflation points), with quantiles having a uniform distribution, as per the model."
   ]
  },
  {
   "cell_type": "markdown",
   "id": "d75beda3-c503-45fa-af87-502843cf5f85",
   "metadata": {},
   "source": [
    "### Plotting ARIMA Model Samples for ARIMA(0, 1, 1)"
   ]
  },
  {
   "cell_type": "markdown",
   "id": "c6cb8bd4-7517-497b-ad8a-720cfa66cdb4",
   "metadata": {},
   "source": [
    "Below is a series of plots containing Summary Statistics for $0-10,000$ runs of the **markov chain montecarlo or MCMC** (above) and the quantiles (below). The graphics on the left measures the **stability of inflation data points** for quantiles running from $-\\sigma$ to $\\sigma$, and the graphics on the right of the $4 \\times 4$ grid measures the density (notice how it is standard normal for Summary Statistics of the differenced inflation points), with quantiles having a uniform distribution, as per the model."
   ]
  },
  {
   "cell_type": "markdown",
   "id": "8c4ae061-3dd5-42b5-a520-c21956afc1b3",
   "metadata": {},
   "source": [
    "### Plotting ARIMA Model Samples for ARIMA(0, 1, 3)"
   ]
  },
  {
   "cell_type": "markdown",
   "id": "39c8ff00-1deb-4314-98ac-ec4ec8a722ad",
   "metadata": {},
   "source": [
    "Below is a series of plots containing Summary Statistics for $0-10,000$ runs of the **markov chain montecarlo or MCMC** (above) and the quantiles (below). The graphics on the left measures the **stability of inflation data points** for quantiles running from $-\\sigma$ to $\\sigma$, and the graphics on the right of the $4 \\times 4$ grid measures the density (notice how it is standard normal for Summary Statistics of the differenced inflation points), with quantiles having a uniform distribution, as per the model."
   ]
  },
  {
   "cell_type": "markdown",
   "id": "51089dc1-84aa-4e65-9892-c25d605662cb",
   "metadata": {},
   "source": [
    "### Plotting ARIMA Model Samples for ARIMA(3, 1, 1)"
   ]
  },
  {
   "cell_type": "markdown",
   "id": "c7931d69-f8cc-4c1b-a898-f2c9163f0499",
   "metadata": {},
   "source": [
    "Below is a series of plots containing Summary Statistics for $0-10,000$ runs of the **markov chain montecarlo or MCMC** (above) and the quantiles (below). The graphics on the left measures the **stability of inflation data points** for quantiles running from $-\\sigma$ to $\\sigma$, and the graphics on the right of the $4 \\times 4$ grid measures the density (notice how it is standard normal for Summary Statistics of the differenced inflation points), with quantiles having a uniform distribution, as per the model."
   ]
  },
  {
   "cell_type": "markdown",
   "id": "ce82ad13-d727-4dd8-b946-f926921aefb0",
   "metadata": {},
   "source": [
    "### Plotting ARIMA Model Samples for ARIMA(2, 1, 3)"
   ]
  },
  {
   "cell_type": "markdown",
   "id": "3446b99d-6e08-4ab5-add2-ac04f9078159",
   "metadata": {},
   "source": [
    "Below is a plot of Summary Statistics for $0-10,000$ runs of the **markov chain montecarlo or MCMC** (above) and the quantiles (below). The graphics on the left measures the **stability of inflation data points** for quantiles running from $-\\sigma$ to $\\sigma$, and the graphics on the right of the $4 \\times 4$ grid measures the density (notice how it is standard normal for Summary Statistics of the differenced inflation points), with quantiles having a uniform distribution, as per the model."
   ]
  },
  {
   "cell_type": "markdown",
   "id": "9e16c081-ade7-4fc3-9c71-169077b52749",
   "metadata": {},
   "source": [
    "### chain_ARIMA213 = [sample(ARIMA213(s_train[:, C]), NUTS(200, 0.65), 10000) for C in 1:5]"
   ]
  }
 ],
 "metadata": {
  "kernelspec": {
   "display_name": "Python 3 (ipykernel)",
   "language": "python",
   "name": "python3"
  },
  "language_info": {
   "codemirror_mode": {
    "name": "ipython",
    "version": 3
   },
   "file_extension": ".py",
   "mimetype": "text/x-python",
   "name": "python",
   "nbconvert_exporter": "python",
   "pygments_lexer": "ipython3",
   "version": "3.8.0"
  }
 },
 "nbformat": 4,
 "nbformat_minor": 5
}
