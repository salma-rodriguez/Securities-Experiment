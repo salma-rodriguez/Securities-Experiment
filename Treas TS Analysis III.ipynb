{
 "cells": [
  {
   "cell_type": "markdown",
   "id": "revolutionary-suicide",
   "metadata": {},
   "source": [
    "# Time Series Analysis III"
   ]
  },
  {
   "cell_type": "markdown",
   "id": "integral-colombia",
   "metadata": {},
   "source": [
    "| $\\text{Type}$     | $\\text{Maturity}$                        |\n",
    "| ----------------- | ---------------------------------------- |\n",
    "| $\\text{Bill (b)}$ | $1\\text{m} \\leq \\text{T} \\leq 1\\text{Y}$ |\n",
    "| $\\text{Note (N)}$ | $1\\text{Y} \\lt \\text{T} \\lt 10\\text{Y}$  |\n",
    "| $\\text{Bond (B)}$ | $\\quad\\quad\\ \\ \\text{T} \\geq 10\\text{Y}$ |"
   ]
  },
  {
   "cell_type": "markdown",
   "id": "238fe086-f2f0-4258-b860-3feb7a7f946f",
   "metadata": {},
   "source": [
    "### Plotting ARIMA Model Samples for ARIMA(0, 1, 1)"
   ]
  },
  {
   "cell_type": "markdown",
   "id": "b32675c2-dc8d-4f67-b47b-56490a5e0718",
   "metadata": {},
   "source": [
    "I will now track the \\\"change of the change ($\\Delta^2)$\\\", using an ARIMA model for the inflation of Treasury securities using the markov chains montecarlo (MCMC) method for simulating  the change of inflation rate changes for upto 10,000 iterations."
   ]
  },
  {
   "cell_type": "code",
   "execution_count": null,
   "id": "43856785-73a3-4b78-aa52-f2726106f5d1",
   "metadata": {},
   "outputs": [],
   "source": [
    "# Import Turing, Distributions, StatsBase, DataFrames and CSV, HypothesisTests and LinearAlgebra\n",
    "# using Turing, Distributions, StatsBase, DataFrames, CSV, HypothesisTests, LinearAlgebra\n",
    "# Import MCMCChain, Plots and StatsPlots\n",
    "using Turing, StatsBase, MCMCChains\n",
    "# Set a seed for reproducibility.\n",
    "using Random\n",
    "Random.seed!(12);\n",
    "# Turn off progress monitor.\n",
    "# Turing.turnprogress(false)\n",
    "\n",
    "@model ARIMA010(x) = begin\n",
    "    T = length(x)\n",
    "    μ ~ Uniform(-10, 10)\n",
    "    ϕ ~ Uniform(-1, 1)\n",
    "    for t in 3:T\n",
    "        val = x[t-1]                  # ARIMA(0,1,0) portion\"\n",
    "        x[t] ~ Normal(val, 1)\n",
    "    end\n",
    "end\n",
    "\n",
    "@model ARIMA110(x) = begin\n",
    "    T = length(x)\n",
    "    μ ~ Uniform(-10, 10)\n",
    "    ϕ ~ Uniform(-1, 1)\n",
    "    for t in 3:T\n",
    "        val = μ +                      # Drift term\"\n",
    "              x[t-1] +                 # ARIMA(0,1,0) portion\"\n",
    "              ϕ * (x[t-1] - x[t-2])    # ARIMA(1,0,0) portion\"\n",
    "        x[t] ~ Normal(val, 1)\n",
    "    end\n",
    "end\n",
    "\n",
    "@model ARIMA011(x) = begin\n",
    "    T = length(x)\n",
    "    # Set up error vector.\n",
    "    ϵ = Vector(undef, T)\n",
    "    x_hat = Vector(undef, T)\n",
    "    θ ~ Uniform(-5, 5)\n",
    "    # Treat the first x_hat as a parameter to estimate.\n",
    "    x_hat[1] ~ Normal(0, 1)\n",
    "    ϵ[1] = x[1] - x_hat[1]\n",
    "    for t in 2:T\n",
    "        # Predicted value for x.\n",
    "        x_hat[t] = x[t-1] - θ * ϵ[t-1]\n",
    "        # Calculate observed error.\n",
    "        ϵ[t] = x[t] - x_hat[t]\n",
    "        # Observe likelihood.\n",
    "        x[t] ~ Normal(x_hat[t], 1)\n",
    "    end\n",
    "end"
   ]
  },
  {
   "cell_type": "markdown",
   "id": "83d41c3e-80bc-41a2-bc81-c7fdcc59c04b",
   "metadata": {},
   "source": [
    "Employing a Markov Chain Montecarlo method to test the models I derived using **statespace modeling**."
   ]
  },
  {
   "cell_type": "markdown",
   "id": "1677b0cd-6729-4b9c-9439-0ae37635ea3c",
   "metadata": {},
   "source": [
    "## Plotting ARIMA Model Samples Using the Markov Chain Montecarlo (MCMC) Method"
   ]
  },
  {
   "cell_type": "markdown",
   "id": "a0cff3a8-3ac1-4006-948b-9da6cc6dd76a",
   "metadata": {},
   "source": [
    "### Plotting ARIMA Model Samples for ARIMA(1, 1, 1)"
   ]
  },
  {
   "cell_type": "markdown",
   "id": "e47e1068-f706-451a-a71c-db3a38fde9f9",
   "metadata": {},
   "source": [
    "Below is a series of plots containing Summary Statistics for $0-10,000$ runs of the **markov chain montecarlo or MCMC** (above) and the quantiles (below). The graphics on the left measures the **stability of inflation data points** for quantiles running from $-\\sigma$ to $\\sigma$, and the graphics on the right of the $4 \\times 4$ grid measures the density (notice how it is standard normal for Summary Statistics of the differenced inflation points), with quantiles having a uniform distribution, as per the model."
   ]
  },
  {
   "cell_type": "markdown",
   "id": "abc76901-8b5d-4065-aea9-f61117f99bd0",
   "metadata": {},
   "source": [
    "### Plotting ARIMA Model Samples for ARIMA(0, 1, 1)"
   ]
  },
  {
   "cell_type": "markdown",
   "id": "cc06a985-3b2a-4935-9581-6e24a91a08d5",
   "metadata": {},
   "source": [
    "Below is a series of plots containing Summary Statistics for $0-10,000$ runs of the **markov chain montecarlo or MCMC** (above) and the quantiles (below). The graphics on the left measures the **stability of inflation data points** for quantiles running from $-\\sigma$ to $\\sigma$, and the graphics on the right of the $4 \\times 4$ grid measures the density (notice how it is standard normal for Summary Statistics of the differenced inflation points), with quantiles having a uniform distribution, as per the model."
   ]
  },
  {
   "cell_type": "markdown",
   "id": "ac4b1ed4-f672-498c-83b1-fbd3e6e188bf",
   "metadata": {},
   "source": [
    "### chain_ARIMA213 = [sample(ARIMA213(s_train[:, C]), NUTS(200, 0.65), 10000) for C in 1:5]"
   ]
  },
  {
   "cell_type": "markdown",
   "id": "ultimate-harvey",
   "metadata": {},
   "source": [
    "## What is a Constant Maturity Treasury?"
   ]
  },
  {
   "cell_type": "markdown",
   "id": "temporal-watson",
   "metadata": {},
   "source": [
    "According to [Investopedia](https://www.investopedia.com/terms/c/constantmaturity.asp), Constant Maturity is an adjustment for equivalent maturity, used by the Federal Reserve Board to compute an index based on the average yield of various Treasury securities maturing at different periods."
   ]
  },
  {
   "cell_type": "markdown",
   "id": "intimate-vermont",
   "metadata": {},
   "source": [
    "One would use constant maturity yields as reference for pricing all kinds of depts or fixed income securities, fixed income securities being by far the largest type of security in U.S. Securities markets."
   ]
  },
  {
   "cell_type": "markdown",
   "id": "naughty-mixture",
   "metadata": {},
   "source": [
    "## Nominal Yield Curve Rates vs. Real Yield Curve Rates"
   ]
  },
  {
   "cell_type": "markdown",
   "id": "occasional-messenger",
   "metadata": {},
   "source": [
    "According to the Board of Governors of the Federal Reserve System, a [nominal Treasury security](https://www.federalreserve.gov/data/nominal-yield-curve.htm) is an issuance that specifies principal and interest as fixed dollar amounts to the holder. Since Treasury securities are backed by the full faith and credit of the U.S. government, the returns investors can earn on them are often used as a “risk-free” benchmark in finance research and investment practice. These securities are a promise to repay the principal (with interest if a note or a bond) to the holder (can be a public or private entity). Therefore, the real yield curve rate would be adjusted for inflation in the yield curve."
   ]
  },
  {
   "cell_type": "markdown",
   "id": "grateful-gabriel",
   "metadata": {},
   "source": [
    "## Statement of Purpose"
   ]
  },
  {
   "cell_type": "markdown",
   "id": "blessed-extraction",
   "metadata": {},
   "source": [
    "The purpose of this notebook is to provide a more complete picture of the analysis done thus far. I will be introducing and analysing two new series progressions: the geometric and harmonic progressions (the arithmetic progression has already been used via the first differences of the original VARFIMA family of models. What would happen if instead of applying arithmetic transformation, a geometric or harmonic transformation is applied on the original series instead?"
   ]
  },
  {
   "cell_type": "markdown",
   "id": "comic-kazakhstan",
   "metadata": {},
   "source": [
    "## Arithmetic Progression"
   ]
  },
  {
   "cell_type": "markdown",
   "id": "otherwise-colombia",
   "metadata": {},
   "source": [
    "## Geometric Progression"
   ]
  },
  {
   "cell_type": "markdown",
   "id": "seasonal-girlfriend",
   "metadata": {},
   "source": [
    "## Harmonic Progression"
   ]
  }
 ],
 "metadata": {
  "kernelspec": {
   "display_name": "Julia 1.5.3",
   "language": "julia",
   "name": "julia-1.5"
  },
  "language_info": {
   "file_extension": ".jl",
   "mimetype": "application/julia",
   "name": "julia",
   "version": "1.5.3"
  }
 },
 "nbformat": 4,
 "nbformat_minor": 5
}
