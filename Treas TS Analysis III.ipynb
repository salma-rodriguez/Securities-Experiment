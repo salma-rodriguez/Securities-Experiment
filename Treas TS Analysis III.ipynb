{
 "cells": [
  {
   "cell_type": "markdown",
   "id": "revolutionary-suicide",
   "metadata": {},
   "source": [
    "# Time Series Analysis III"
   ]
  },
  {
   "cell_type": "markdown",
   "id": "integral-colombia",
   "metadata": {},
   "source": [
    "| $\\text{Type}$     | $\\text{Maturity}$                        |\n",
    "| ----------------- | ---------------------------------------- |\n",
    "| $\\text{Bill (b)}$ | $1\\text{m} \\leq \\text{T} \\leq 1\\text{Y}$ |\n",
    "| $\\text{Note (N)}$ | $1\\text{Y} \\lt \\text{T} \\lt 10\\text{Y}$  |\n",
    "| $\\text{Bond (B)}$ | $\\quad\\quad\\ \\ \\text{T} \\geq 10\\text{Y}$ |"
   ]
  },
  {
   "cell_type": "markdown",
   "id": "ultimate-harvey",
   "metadata": {},
   "source": [
    "## What is a Constant Maturity Treasury?"
   ]
  },
  {
   "cell_type": "markdown",
   "id": "temporal-watson",
   "metadata": {},
   "source": [
    "According to [Investopedia](https://www.investopedia.com/terms/c/constantmaturity.asp), Constant Maturity is an adjustment for equivalent maturity, used by the Federal Reserve Board to compute an index based on the average yield of various Treasury securities maturing at different periods."
   ]
  },
  {
   "cell_type": "markdown",
   "id": "intimate-vermont",
   "metadata": {},
   "source": [
    "One would use constant maturity yields as reference for pricing all kinds of depts or fixed income securities, fixed income securities being by far the largest type of security in U.S. Securities markets."
   ]
  },
  {
   "cell_type": "markdown",
   "id": "naughty-mixture",
   "metadata": {},
   "source": [
    "## Nominal Yield Curve Rates vs. Real Yield Curve Rates"
   ]
  },
  {
   "cell_type": "markdown",
   "id": "occasional-messenger",
   "metadata": {},
   "source": [
    "According to the Board of Governors of the Federal Reserve System, a [nominal Treasury security](https://www.federalreserve.gov/data/nominal-yield-curve.htm) is an issuance that specifies principal and interest as fixed dollar amounts to the holder. Since Treasury securities are backed by the full faith and credit of the U.S. government, the returns investors can earn on them are often used as a “risk-free” benchmark in finance research and investment practice. These securities are a promise to repay the principal (with interest if a note or a bond) to the holder (can be a public or private entity). Therefore, the real yield curve rate would be adjusted for inflation in the yield curve."
   ]
  },
  {
   "cell_type": "markdown",
   "id": "grateful-gabriel",
   "metadata": {},
   "source": [
    "## Statement of Purpose"
   ]
  },
  {
   "cell_type": "markdown",
   "id": "blessed-extraction",
   "metadata": {},
   "source": [
    "The purpose of this notebook is to provide a more complete picture of the analysis done thus far. I will be introducing and analysing two new series progressions: the geometric and harmonic progressions (the arithmetic progression has already been used via the first differences of the original VARFIMA family of models. What would happen if instead of applying arithmetic transformation, a geometric or harmonic transformation is applied on the original series instead?"
   ]
  },
  {
   "cell_type": "markdown",
   "id": "comic-kazakhstan",
   "metadata": {},
   "source": [
    "## Arithmetic Progression"
   ]
  },
  {
   "cell_type": "code",
   "execution_count": null,
   "id": "eleven-potato",
   "metadata": {},
   "outputs": [],
   "source": []
  },
  {
   "cell_type": "markdown",
   "id": "otherwise-colombia",
   "metadata": {},
   "source": [
    "## Geometric Progression"
   ]
  },
  {
   "cell_type": "markdown",
   "id": "seasonal-girlfriend",
   "metadata": {},
   "source": [
    "## Harmonic Progression"
   ]
  }
 ],
 "metadata": {
  "kernelspec": {
   "display_name": "Julia 1.5.3",
   "language": "julia",
   "name": "julia-1.5"
  },
  "language_info": {
   "file_extension": ".jl",
   "mimetype": "application/julia",
   "name": "julia",
   "version": "1.5.3"
  }
 },
 "nbformat": 4,
 "nbformat_minor": 5
}
