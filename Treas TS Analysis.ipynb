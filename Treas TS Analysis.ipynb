{
 "cells": [
  {
   "cell_type": "markdown",
   "id": "apart-conviction",
   "metadata": {
    "tags": []
   },
   "source": [
    "# Time Series Analysis"
   ]
  },
  {
   "cell_type": "markdown",
   "id": "b536485d-c6a4-4591-936d-0d4a1bcfb318",
   "metadata": {},
   "source": [
    "### 06/15/2022"
   ]
  },
  {
   "cell_type": "markdown",
   "id": "latest-balance",
   "metadata": {},
   "source": [
    "## Categories of Bonds"
   ]
  },
  {
   "cell_type": "markdown",
   "id": "editorial-camel",
   "metadata": {},
   "source": [
    "| $\\text{Type}$     | $\\text{Maturity}$                        |\n",
    "| ----------------- | ---------------------------------------- |\n",
    "| $\\text{Bill (b)}$ | $1\\text{m} \\leq \\text{T} \\lt 1\\text{Y}$  |\n",
    "| $\\text{Note (N)}$ | $1\\text{Y} \\leq \\text{T} \\lt 10\\text{Y}$ |\n",
    "| $\\text{Bond (B)}$ | $\\quad\\quad\\ \\text{T} \\geq 10\\text{Y}$   |"
   ]
  },
  {
   "cell_type": "markdown",
   "id": "negative-speaking",
   "metadata": {},
   "source": [
    "## What is a Constant Maturity Treasury?"
   ]
  },
  {
   "cell_type": "markdown",
   "id": "ead0e77e-5da7-4ae3-816c-24d67f8089cf",
   "metadata": {},
   "source": [
    "According to [Investopedia](https://www.investopedia.com/terms/c/constantmaturity.asp), Constant Maturity is an adjustment for equivalent maturity, used by the Federal Reserve Board to compute an index based on the average yield of various Treasury securities, maturing at different periods. One would use constant maturity yields as reference for pricing various kinds of depts or fixed income securities. Fixed income securities are by far the largest type of security in U.S. securities markets."
   ]
  },
  {
   "cell_type": "markdown",
   "id": "suffering-muscle",
   "metadata": {},
   "source": [
    "## Nominal Yield Curve Rates vs. Real Yield Curve Rates"
   ]
  },
  {
   "cell_type": "markdown",
   "id": "textile-thong",
   "metadata": {},
   "source": [
    "According to the Board of Governors of the Federal Reserve System, a [nominal Treasury security](https://www.federalreserve.gov/data/nominal-yield-curve.htm) is an issuance that specifies principal and interest as fixed dollar amounts to the holder. Since Treasury securities are backed by the full faith and credit of the U.S. government, the returns investors can earn on them are often used as a “risk-free” benchmark in finance research and investment practice. These securities are a promise to repay the principal (with interest if a note or a bond) to the holder (can be a public or private entity). Therefore, the real yield curve rate would be adjusted for inflation of interest rates, thereby used to determine risk-neutral cashflow.\n",
    "\n",
    "The **nominal yield curve rate** adds a market average of the expected inflation risk premium to the real. Investors must be compensated for the risk of inflation in bond yields. The real yield determines the cashflow an investor in secondary markets can obtain by purchasing $\\text{TIPS}$, which are Inflation Protected Securities offered by the U.S. Treasury department and other stakeholders that offer similar inflation protection to investors."
   ]
  },
  {
   "cell_type": "markdown",
   "id": "statistical-latter",
   "metadata": {},
   "source": [
    "## Statement of Purpose"
   ]
  },
  {
   "cell_type": "markdown",
   "id": "atmospheric-network",
   "metadata": {},
   "source": [
    "The purpose of this time series analysis is to build from my US Treasury Securities Exploratory Analysis, using a **data-driven approach** to modeling. I will be determining yield stability, choosing the best data-driven ARIMA model for the different categories of CMTs and draw conclusions about any experimental forecast that can be built after constructing models with nonstationarity removed. The nonstationarity will be analyzed later using residual plots and volatility models in `Treas TS Analysis II PIII`."
   ]
  },
  {
   "cell_type": "markdown",
   "id": "eleven-criterion",
   "metadata": {},
   "source": [
    "`] add Turing@0.13.0`"
   ]
  },
  {
   "cell_type": "markdown",
   "id": "specific-producer",
   "metadata": {},
   "source": [
    "## Loading Yield Curve Rate Inflation `CSV` File"
   ]
  },
  {
   "cell_type": "code",
   "execution_count": 1,
   "id": "ancient-first",
   "metadata": {},
   "outputs": [
    {
     "data": {
      "text/html": [
       "<div class=\"data-frame\"><p>250 rows × 5 columns</p><table class=\"data-frame\"><thead><tr><th></th><th>x5</th><th>x7</th><th>x10</th><th>x20</th><th>x30</th></tr><tr><th></th><th title=\"Float64\">Float64</th><th title=\"Float64\">Float64</th><th title=\"Float64\">Float64</th><th title=\"Float64\">Float64</th><th title=\"Float64\">Float64</th></tr></thead><tbody><tr><th>1</th><td>-0.64</td><td>-0.34</td><td>-0.03</td><td>0.39</td><td>0.47</td></tr><tr><th>2</th><td>-0.5</td><td>-0.22</td><td>0.08</td><td>0.48</td><td>0.56</td></tr><tr><th>3</th><td>-0.48</td><td>-0.17</td><td>0.13</td><td>0.55</td><td>0.64</td></tr><tr><th>4</th><td>-0.46</td><td>-0.14</td><td>0.16</td><td>0.58</td><td>0.67</td></tr><tr><th>5</th><td>-0.43</td><td>-0.1</td><td>0.22</td><td>0.64</td><td>0.72</td></tr><tr><th>6</th><td>-0.39</td><td>-0.06</td><td>0.24</td><td>0.63</td><td>0.72</td></tr><tr><th>7</th><td>-0.41</td><td>-0.08</td><td>0.22</td><td>0.6</td><td>0.68</td></tr><tr><th>8</th><td>-0.38</td><td>-0.06</td><td>0.22</td><td>0.58</td><td>0.64</td></tr><tr><th>9</th><td>-0.4</td><td>-0.06</td><td>0.25</td><td>0.62</td><td>0.68</td></tr><tr><th>10</th><td>-0.44</td><td>-0.12</td><td>0.2</td><td>0.58</td><td>0.64</td></tr><tr><th>11</th><td>-0.45</td><td>-0.12</td><td>0.19</td><td>0.59</td><td>0.64</td></tr><tr><th>12</th><td>-0.49</td><td>-0.17</td><td>0.14</td><td>0.55</td><td>0.63</td></tr><tr><th>13</th><td>-0.5</td><td>-0.16</td><td>0.16</td><td>0.58</td><td>0.66</td></tr><tr><th>14</th><td>-0.5</td><td>-0.17</td><td>0.15</td><td>0.57</td><td>0.65</td></tr><tr><th>15</th><td>-0.53</td><td>-0.22</td><td>0.09</td><td>0.51</td><td>0.59</td></tr><tr><th>16</th><td>-0.51</td><td>-0.2</td><td>0.1</td><td>0.52</td><td>0.6</td></tr><tr><th>17</th><td>-0.54</td><td>-0.23</td><td>0.07</td><td>0.49</td><td>0.57</td></tr><tr><th>18</th><td>-0.54</td><td>-0.21</td><td>0.1</td><td>0.51</td><td>0.58</td></tr><tr><th>19</th><td>-0.48</td><td>-0.14</td><td>0.17</td><td>0.59</td><td>0.67</td></tr><tr><th>20</th><td>-0.39</td><td>-0.07</td><td>0.23</td><td>0.63</td><td>0.67</td></tr><tr><th>21</th><td>-0.28</td><td>0.04</td><td>0.34</td><td>0.75</td><td>0.79</td></tr><tr><th>22</th><td>-0.33</td><td>0.01</td><td>0.33</td><td>0.75</td><td>0.81</td></tr><tr><th>23</th><td>-0.35</td><td>-0.02</td><td>0.29</td><td>0.74</td><td>0.79</td></tr><tr><th>24</th><td>-0.32</td><td>0.02</td><td>0.35</td><td>0.8</td><td>0.86</td></tr><tr><th>25</th><td>-0.31</td><td>0.02</td><td>0.35</td><td>0.78</td><td>0.83</td></tr><tr><th>26</th><td>-0.29</td><td>0.04</td><td>0.37</td><td>0.8</td><td>0.84</td></tr><tr><th>27</th><td>-0.29</td><td>0.03</td><td>0.34</td><td>0.78</td><td>0.82</td></tr><tr><th>28</th><td>-0.32</td><td>0.01</td><td>0.33</td><td>0.78</td><td>0.81</td></tr><tr><th>29</th><td>-0.28</td><td>0.04</td><td>0.35</td><td>0.83</td><td>0.87</td></tr><tr><th>30</th><td>-0.2</td><td>0.14</td><td>0.45</td><td>0.92</td><td>0.94</td></tr><tr><th>&vellip;</th><td>&vellip;</td><td>&vellip;</td><td>&vellip;</td><td>&vellip;</td><td>&vellip;</td></tr></tbody></table></div>"
      ],
      "text/latex": [
       "\\begin{tabular}{r|ccccc}\n",
       "\t& x5 & x7 & x10 & x20 & x30\\\\\n",
       "\t\\hline\n",
       "\t& Float64 & Float64 & Float64 & Float64 & Float64\\\\\n",
       "\t\\hline\n",
       "\t1 & -0.64 & -0.34 & -0.03 & 0.39 & 0.47 \\\\\n",
       "\t2 & -0.5 & -0.22 & 0.08 & 0.48 & 0.56 \\\\\n",
       "\t3 & -0.48 & -0.17 & 0.13 & 0.55 & 0.64 \\\\\n",
       "\t4 & -0.46 & -0.14 & 0.16 & 0.58 & 0.67 \\\\\n",
       "\t5 & -0.43 & -0.1 & 0.22 & 0.64 & 0.72 \\\\\n",
       "\t6 & -0.39 & -0.06 & 0.24 & 0.63 & 0.72 \\\\\n",
       "\t7 & -0.41 & -0.08 & 0.22 & 0.6 & 0.68 \\\\\n",
       "\t8 & -0.38 & -0.06 & 0.22 & 0.58 & 0.64 \\\\\n",
       "\t9 & -0.4 & -0.06 & 0.25 & 0.62 & 0.68 \\\\\n",
       "\t10 & -0.44 & -0.12 & 0.2 & 0.58 & 0.64 \\\\\n",
       "\t11 & -0.45 & -0.12 & 0.19 & 0.59 & 0.64 \\\\\n",
       "\t12 & -0.49 & -0.17 & 0.14 & 0.55 & 0.63 \\\\\n",
       "\t13 & -0.5 & -0.16 & 0.16 & 0.58 & 0.66 \\\\\n",
       "\t14 & -0.5 & -0.17 & 0.15 & 0.57 & 0.65 \\\\\n",
       "\t15 & -0.53 & -0.22 & 0.09 & 0.51 & 0.59 \\\\\n",
       "\t16 & -0.51 & -0.2 & 0.1 & 0.52 & 0.6 \\\\\n",
       "\t17 & -0.54 & -0.23 & 0.07 & 0.49 & 0.57 \\\\\n",
       "\t18 & -0.54 & -0.21 & 0.1 & 0.51 & 0.58 \\\\\n",
       "\t19 & -0.48 & -0.14 & 0.17 & 0.59 & 0.67 \\\\\n",
       "\t20 & -0.39 & -0.07 & 0.23 & 0.63 & 0.67 \\\\\n",
       "\t21 & -0.28 & 0.04 & 0.34 & 0.75 & 0.79 \\\\\n",
       "\t22 & -0.33 & 0.01 & 0.33 & 0.75 & 0.81 \\\\\n",
       "\t23 & -0.35 & -0.02 & 0.29 & 0.74 & 0.79 \\\\\n",
       "\t24 & -0.32 & 0.02 & 0.35 & 0.8 & 0.86 \\\\\n",
       "\t25 & -0.31 & 0.02 & 0.35 & 0.78 & 0.83 \\\\\n",
       "\t26 & -0.29 & 0.04 & 0.37 & 0.8 & 0.84 \\\\\n",
       "\t27 & -0.29 & 0.03 & 0.34 & 0.78 & 0.82 \\\\\n",
       "\t28 & -0.32 & 0.01 & 0.33 & 0.78 & 0.81 \\\\\n",
       "\t29 & -0.28 & 0.04 & 0.35 & 0.83 & 0.87 \\\\\n",
       "\t30 & -0.2 & 0.14 & 0.45 & 0.92 & 0.94 \\\\\n",
       "\t$\\dots$ & $\\dots$ & $\\dots$ & $\\dots$ & $\\dots$ & $\\dots$ \\\\\n",
       "\\end{tabular}\n"
      ],
      "text/plain": [
       "\u001b[1m250×5 DataFrame\u001b[0m\n",
       "\u001b[1m Row \u001b[0m│\u001b[1m x5      \u001b[0m\u001b[1m x7      \u001b[0m\u001b[1m x10     \u001b[0m\u001b[1m x20     \u001b[0m\u001b[1m x30     \u001b[0m\n",
       "\u001b[1m     \u001b[0m│\u001b[90m Float64 \u001b[0m\u001b[90m Float64 \u001b[0m\u001b[90m Float64 \u001b[0m\u001b[90m Float64 \u001b[0m\u001b[90m Float64 \u001b[0m\n",
       "─────┼─────────────────────────────────────────────\n",
       "   1 │   -0.64    -0.34    -0.03     0.39     0.47\n",
       "   2 │   -0.5     -0.22     0.08     0.48     0.56\n",
       "   3 │   -0.48    -0.17     0.13     0.55     0.64\n",
       "   4 │   -0.46    -0.14     0.16     0.58     0.67\n",
       "   5 │   -0.43    -0.1      0.22     0.64     0.72\n",
       "   6 │   -0.39    -0.06     0.24     0.63     0.72\n",
       "   7 │   -0.41    -0.08     0.22     0.6      0.68\n",
       "   8 │   -0.38    -0.06     0.22     0.58     0.64\n",
       "   9 │   -0.4     -0.06     0.25     0.62     0.68\n",
       "  10 │   -0.44    -0.12     0.2      0.58     0.64\n",
       "  11 │   -0.45    -0.12     0.19     0.59     0.64\n",
       "  ⋮  │    ⋮        ⋮        ⋮        ⋮        ⋮\n",
       " 241 │    1.13     1.27     1.3      1.57     1.35\n",
       " 242 │    1.12     1.24     1.25     1.51     1.28\n",
       " 243 │    1.12     1.25     1.28     1.56     1.33\n",
       " 244 │    1.18     1.3      1.33     1.57     1.37\n",
       " 245 │    1.15     1.27     1.28     1.52     1.31\n",
       " 246 │    1.2      1.33     1.35     1.59     1.38\n",
       " 247 │    1.2      1.31     1.32     1.56     1.34\n",
       " 248 │    1.23     1.33     1.34     1.58     1.36\n",
       " 249 │    1.27     1.39     1.4      1.62     1.41\n",
       " 250 │    1.26     1.37     1.37     1.58     1.35\n",
       "\u001b[36m                                   229 rows omitted\u001b[0m"
      ]
     },
     "execution_count": 1,
     "metadata": {},
     "output_type": "execute_result"
    }
   ],
   "source": [
    "using CSV, DataFrames\n",
    "\n",
    "tnf = CSV.read(\"tnf.csv\", DataFrame)"
   ]
  },
  {
   "cell_type": "markdown",
   "id": "numeric-ambassador",
   "metadata": {},
   "source": [
    "## Time Series Analysis"
   ]
  },
  {
   "cell_type": "markdown",
   "id": "general-appointment",
   "metadata": {},
   "source": [
    "The `tnf` dataset contains the inflation rates for CMT maturities $T \\in [5, 7, 10, 20, 30]$ years. Recall that this inflation analysis is only for columns $10$ to $14$ of the original datasets, because columns $10$ to $14$ were the only nonempty columns in the `R_CMT` dataset.\n",
    "\n",
    "This analysis continues with a data-driven approach to modelling. Linear methods can be used to solve certain nonlinear problems, but since they are nonlinear, a top-down approach, where one chooses a known statistical PDF kernel function, does not work on nonlinear stochastic processes."
   ]
  },
  {
   "cell_type": "markdown",
   "id": "selected-headline",
   "metadata": {},
   "source": [
    "### Building (Test) and Training Sets & Plotting Results as Done Earlier"
   ]
  },
  {
   "cell_type": "markdown",
   "id": "virgin-quebec",
   "metadata": {},
   "source": [
    "As metnioned in my `Treas Exploratory Analysis`, there seems to be correlation across maturities in the Treasury yield curve inflation. Here is a rework of these results."
   ]
  },
  {
   "cell_type": "code",
   "execution_count": 2,
   "id": "executed-algebra",
   "metadata": {},
   "outputs": [
    {
     "data": {
      "image/svg+xml": [
       "<?xml version=\"1.0\" encoding=\"utf-8\"?>\n",
       "<svg xmlns=\"http://www.w3.org/2000/svg\" xmlns:xlink=\"http://www.w3.org/1999/xlink\" width=\"900\" height=\"500\" viewBox=\"0 0 3600 2000\">\n",
       "<defs>\n",
       "  <clipPath id=\"clip550\">\n",
       "    <rect x=\"0\" y=\"0\" width=\"3600\" height=\"2000\"/>\n",
       "  </clipPath>\n",
       "</defs>\n",
       "<path clip-path=\"url(#clip550)\" d=\"\n",
       "M0 2000 L3600 2000 L3600 0 L0 0  Z\n",
       "  \" fill=\"#ffffff\" fill-rule=\"evenodd\" fill-opacity=\"1\"/>\n",
       "<defs>\n",
       "  <clipPath id=\"clip551\">\n",
       "    <rect x=\"720\" y=\"0\" width=\"2521\" height=\"2000\"/>\n",
       "  </clipPath>\n",
       "</defs>\n",
       "<path clip-path=\"url(#clip550)\" d=\"\n",
       "M260.289 1832.86 L3552.76 1832.86 L3552.76 47.2441 L260.289 47.2441  Z\n",
       "  \" fill=\"#ffffff\" fill-rule=\"evenodd\" fill-opacity=\"1\"/>\n",
       "<defs>\n",
       "  <clipPath id=\"clip552\">\n",
       "    <rect x=\"260\" y=\"47\" width=\"3293\" height=\"1787\"/>\n",
       "  </clipPath>\n",
       "</defs>\n",
       "<polyline clip-path=\"url(#clip552)\" style=\"stroke:#000000; stroke-linecap:butt; stroke-linejoin:round; stroke-width:2; stroke-opacity:0.1; fill:none\" points=\"\n",
       "  340.997,1832.86 340.997,47.2441 \n",
       "  \"/>\n",
       "<polyline clip-path=\"url(#clip552)\" style=\"stroke:#000000; stroke-linecap:butt; stroke-linejoin:round; stroke-width:2; stroke-opacity:0.1; fill:none\" points=\"\n",
       "  964.712,1832.86 964.712,47.2441 \n",
       "  \"/>\n",
       "<polyline clip-path=\"url(#clip552)\" style=\"stroke:#000000; stroke-linecap:butt; stroke-linejoin:round; stroke-width:2; stroke-opacity:0.1; fill:none\" points=\"\n",
       "  1588.43,1832.86 1588.43,47.2441 \n",
       "  \"/>\n",
       "<polyline clip-path=\"url(#clip552)\" style=\"stroke:#000000; stroke-linecap:butt; stroke-linejoin:round; stroke-width:2; stroke-opacity:0.1; fill:none\" points=\"\n",
       "  2212.14,1832.86 2212.14,47.2441 \n",
       "  \"/>\n",
       "<polyline clip-path=\"url(#clip552)\" style=\"stroke:#000000; stroke-linecap:butt; stroke-linejoin:round; stroke-width:2; stroke-opacity:0.1; fill:none\" points=\"\n",
       "  2835.86,1832.86 2835.86,47.2441 \n",
       "  \"/>\n",
       "<polyline clip-path=\"url(#clip552)\" style=\"stroke:#000000; stroke-linecap:butt; stroke-linejoin:round; stroke-width:2; stroke-opacity:0.1; fill:none\" points=\"\n",
       "  3459.57,1832.86 3459.57,47.2441 \n",
       "  \"/>\n",
       "<polyline clip-path=\"url(#clip550)\" style=\"stroke:#000000; stroke-linecap:butt; stroke-linejoin:round; stroke-width:4; stroke-opacity:1; fill:none\" points=\"\n",
       "  260.289,1832.86 3552.76,1832.86 \n",
       "  \"/>\n",
       "<polyline clip-path=\"url(#clip550)\" style=\"stroke:#000000; stroke-linecap:butt; stroke-linejoin:round; stroke-width:4; stroke-opacity:1; fill:none\" points=\"\n",
       "  340.997,1832.86 340.997,1813.96 \n",
       "  \"/>\n",
       "<polyline clip-path=\"url(#clip550)\" style=\"stroke:#000000; stroke-linecap:butt; stroke-linejoin:round; stroke-width:4; stroke-opacity:1; fill:none\" points=\"\n",
       "  964.712,1832.86 964.712,1813.96 \n",
       "  \"/>\n",
       "<polyline clip-path=\"url(#clip550)\" style=\"stroke:#000000; stroke-linecap:butt; stroke-linejoin:round; stroke-width:4; stroke-opacity:1; fill:none\" points=\"\n",
       "  1588.43,1832.86 1588.43,1813.96 \n",
       "  \"/>\n",
       "<polyline clip-path=\"url(#clip550)\" style=\"stroke:#000000; stroke-linecap:butt; stroke-linejoin:round; stroke-width:4; stroke-opacity:1; fill:none\" points=\"\n",
       "  2212.14,1832.86 2212.14,1813.96 \n",
       "  \"/>\n",
       "<polyline clip-path=\"url(#clip550)\" style=\"stroke:#000000; stroke-linecap:butt; stroke-linejoin:round; stroke-width:4; stroke-opacity:1; fill:none\" points=\"\n",
       "  2835.86,1832.86 2835.86,1813.96 \n",
       "  \"/>\n",
       "<polyline clip-path=\"url(#clip550)\" style=\"stroke:#000000; stroke-linecap:butt; stroke-linejoin:round; stroke-width:4; stroke-opacity:1; fill:none\" points=\"\n",
       "  3459.57,1832.86 3459.57,1813.96 \n",
       "  \"/>\n",
       "<path clip-path=\"url(#clip550)\" d=\"M340.997 1871.65 Q337.386 1871.65 335.558 1875.22 Q333.752 1878.76 333.752 1885.89 Q333.752 1892.99 335.558 1896.56 Q337.386 1900.1 340.997 1900.1 Q344.632 1900.1 346.437 1896.56 Q348.266 1892.99 348.266 1885.89 Q348.266 1878.76 346.437 1875.22 Q344.632 1871.65 340.997 1871.65 M340.997 1867.95 Q346.808 1867.95 349.863 1872.55 Q352.942 1877.14 352.942 1885.89 Q352.942 1894.61 349.863 1899.22 Q346.808 1903.8 340.997 1903.8 Q335.187 1903.8 332.109 1899.22 Q329.053 1894.61 329.053 1885.89 Q329.053 1877.14 332.109 1872.55 Q335.187 1867.95 340.997 1867.95 Z\" fill=\"#000000\" fill-rule=\"evenodd\" fill-opacity=\"1\" /><path clip-path=\"url(#clip550)\" d=\"M939.412 1868.57 L957.768 1868.57 L957.768 1872.51 L943.694 1872.51 L943.694 1880.98 Q944.713 1880.63 945.731 1880.47 Q946.75 1880.28 947.768 1880.28 Q953.555 1880.28 956.935 1883.46 Q960.314 1886.63 960.314 1892.04 Q960.314 1897.62 956.842 1900.72 Q953.37 1903.8 947.051 1903.8 Q944.875 1903.8 942.606 1903.43 Q940.361 1903.06 937.953 1902.32 L937.953 1897.62 Q940.037 1898.76 942.259 1899.31 Q944.481 1899.87 946.958 1899.87 Q950.963 1899.87 953.301 1897.76 Q955.638 1895.66 955.638 1892.04 Q955.638 1888.43 953.301 1886.33 Q950.963 1884.22 946.958 1884.22 Q945.083 1884.22 943.208 1884.64 Q941.356 1885.05 939.412 1885.93 L939.412 1868.57 Z\" fill=\"#000000\" fill-rule=\"evenodd\" fill-opacity=\"1\" /><path clip-path=\"url(#clip550)\" d=\"M979.527 1871.65 Q975.916 1871.65 974.087 1875.22 Q972.282 1878.76 972.282 1885.89 Q972.282 1892.99 974.087 1896.56 Q975.916 1900.1 979.527 1900.1 Q983.161 1900.1 984.967 1896.56 Q986.796 1892.99 986.796 1885.89 Q986.796 1878.76 984.967 1875.22 Q983.161 1871.65 979.527 1871.65 M979.527 1867.95 Q985.337 1867.95 988.393 1872.55 Q991.472 1877.14 991.472 1885.89 Q991.472 1894.61 988.393 1899.22 Q985.337 1903.8 979.527 1903.8 Q973.717 1903.8 970.638 1899.22 Q967.583 1894.61 967.583 1885.89 Q967.583 1877.14 970.638 1872.55 Q973.717 1867.95 979.527 1867.95 Z\" fill=\"#000000\" fill-rule=\"evenodd\" fill-opacity=\"1\" /><path clip-path=\"url(#clip550)\" d=\"M1548.03 1899.2 L1555.67 1899.2 L1555.67 1872.83 L1547.36 1874.5 L1547.36 1870.24 L1555.63 1868.57 L1560.3 1868.57 L1560.3 1899.2 L1567.94 1899.2 L1567.94 1903.13 L1548.03 1903.13 L1548.03 1899.2 Z\" fill=\"#000000\" fill-rule=\"evenodd\" fill-opacity=\"1\" /><path clip-path=\"url(#clip550)\" d=\"M1587.39 1871.65 Q1583.77 1871.65 1581.95 1875.22 Q1580.14 1878.76 1580.14 1885.89 Q1580.14 1892.99 1581.95 1896.56 Q1583.77 1900.1 1587.39 1900.1 Q1591.02 1900.1 1592.83 1896.56 Q1594.65 1892.99 1594.65 1885.89 Q1594.65 1878.76 1592.83 1875.22 Q1591.02 1871.65 1587.39 1871.65 M1587.39 1867.95 Q1593.2 1867.95 1596.25 1872.55 Q1599.33 1877.14 1599.33 1885.89 Q1599.33 1894.61 1596.25 1899.22 Q1593.2 1903.8 1587.39 1903.8 Q1581.58 1903.8 1578.5 1899.22 Q1575.44 1894.61 1575.44 1885.89 Q1575.44 1877.14 1578.5 1872.55 Q1581.58 1867.95 1587.39 1867.95 Z\" fill=\"#000000\" fill-rule=\"evenodd\" fill-opacity=\"1\" /><path clip-path=\"url(#clip550)\" d=\"M1617.55 1871.65 Q1613.94 1871.65 1612.11 1875.22 Q1610.3 1878.76 1610.3 1885.89 Q1610.3 1892.99 1612.11 1896.56 Q1613.94 1900.1 1617.55 1900.1 Q1621.18 1900.1 1622.99 1896.56 Q1624.82 1892.99 1624.82 1885.89 Q1624.82 1878.76 1622.99 1875.22 Q1621.18 1871.65 1617.55 1871.65 M1617.55 1867.95 Q1623.36 1867.95 1626.41 1872.55 Q1629.49 1877.14 1629.49 1885.89 Q1629.49 1894.61 1626.41 1899.22 Q1623.36 1903.8 1617.55 1903.8 Q1611.74 1903.8 1608.66 1899.22 Q1605.6 1894.61 1605.6 1885.89 Q1605.6 1877.14 1608.66 1872.55 Q1611.74 1867.95 1617.55 1867.95 Z\" fill=\"#000000\" fill-rule=\"evenodd\" fill-opacity=\"1\" /><path clip-path=\"url(#clip550)\" d=\"M2171.75 1899.2 L2179.39 1899.2 L2179.39 1872.83 L2171.08 1874.5 L2171.08 1870.24 L2179.34 1868.57 L2184.02 1868.57 L2184.02 1899.2 L2191.66 1899.2 L2191.66 1903.13 L2171.75 1903.13 L2171.75 1899.2 Z\" fill=\"#000000\" fill-rule=\"evenodd\" fill-opacity=\"1\" /><path clip-path=\"url(#clip550)\" d=\"M2201.15 1868.57 L2219.5 1868.57 L2219.5 1872.51 L2205.43 1872.51 L2205.43 1880.98 Q2206.45 1880.63 2207.47 1880.47 Q2208.49 1880.28 2209.5 1880.28 Q2215.29 1880.28 2218.67 1883.46 Q2222.05 1886.63 2222.05 1892.04 Q2222.05 1897.62 2218.58 1900.72 Q2215.11 1903.8 2208.79 1903.8 Q2206.61 1903.8 2204.34 1903.43 Q2202.1 1903.06 2199.69 1902.32 L2199.69 1897.62 Q2201.77 1898.76 2203.99 1899.31 Q2206.22 1899.87 2208.69 1899.87 Q2212.7 1899.87 2215.04 1897.76 Q2217.37 1895.66 2217.37 1892.04 Q2217.37 1888.43 2215.04 1886.33 Q2212.7 1884.22 2208.69 1884.22 Q2206.82 1884.22 2204.94 1884.64 Q2203.09 1885.05 2201.15 1885.93 L2201.15 1868.57 Z\" fill=\"#000000\" fill-rule=\"evenodd\" fill-opacity=\"1\" /><path clip-path=\"url(#clip550)\" d=\"M2241.26 1871.65 Q2237.65 1871.65 2235.82 1875.22 Q2234.02 1878.76 2234.02 1885.89 Q2234.02 1892.99 2235.82 1896.56 Q2237.65 1900.1 2241.26 1900.1 Q2244.9 1900.1 2246.7 1896.56 Q2248.53 1892.99 2248.53 1885.89 Q2248.53 1878.76 2246.7 1875.22 Q2244.9 1871.65 2241.26 1871.65 M2241.26 1867.95 Q2247.07 1867.95 2250.13 1872.55 Q2253.21 1877.14 2253.21 1885.89 Q2253.21 1894.61 2250.13 1899.22 Q2247.07 1903.8 2241.26 1903.8 Q2235.45 1903.8 2232.37 1899.22 Q2229.32 1894.61 2229.32 1885.89 Q2229.32 1877.14 2232.37 1872.55 Q2235.45 1867.95 2241.26 1867.95 Z\" fill=\"#000000\" fill-rule=\"evenodd\" fill-opacity=\"1\" /><path clip-path=\"url(#clip550)\" d=\"M2799.55 1899.2 L2815.87 1899.2 L2815.87 1903.13 L2793.93 1903.13 L2793.93 1899.2 Q2796.59 1896.44 2801.17 1891.81 Q2805.78 1887.16 2806.96 1885.82 Q2809.2 1883.29 2810.08 1881.56 Q2810.99 1879.8 2810.99 1878.11 Q2810.99 1875.35 2809.04 1873.62 Q2807.12 1871.88 2804.02 1871.88 Q2801.82 1871.88 2799.36 1872.65 Q2796.93 1873.41 2794.16 1874.96 L2794.16 1870.24 Q2796.98 1869.1 2799.43 1868.53 Q2801.89 1867.95 2803.93 1867.95 Q2809.3 1867.95 2812.49 1870.63 Q2815.68 1873.32 2815.68 1877.81 Q2815.68 1879.94 2814.87 1881.86 Q2814.09 1883.76 2811.98 1886.35 Q2811.4 1887.02 2808.3 1890.24 Q2805.2 1893.43 2799.55 1899.2 Z\" fill=\"#000000\" fill-rule=\"evenodd\" fill-opacity=\"1\" /><path clip-path=\"url(#clip550)\" d=\"M2835.68 1871.65 Q2832.07 1871.65 2830.24 1875.22 Q2828.44 1878.76 2828.44 1885.89 Q2828.44 1892.99 2830.24 1896.56 Q2832.07 1900.1 2835.68 1900.1 Q2839.32 1900.1 2841.12 1896.56 Q2842.95 1892.99 2842.95 1885.89 Q2842.95 1878.76 2841.12 1875.22 Q2839.32 1871.65 2835.68 1871.65 M2835.68 1867.95 Q2841.49 1867.95 2844.55 1872.55 Q2847.63 1877.14 2847.63 1885.89 Q2847.63 1894.61 2844.55 1899.22 Q2841.49 1903.8 2835.68 1903.8 Q2829.87 1903.8 2826.8 1899.22 Q2823.74 1894.61 2823.74 1885.89 Q2823.74 1877.14 2826.8 1872.55 Q2829.87 1867.95 2835.68 1867.95 Z\" fill=\"#000000\" fill-rule=\"evenodd\" fill-opacity=\"1\" /><path clip-path=\"url(#clip550)\" d=\"M2865.85 1871.65 Q2862.23 1871.65 2860.41 1875.22 Q2858.6 1878.76 2858.6 1885.89 Q2858.6 1892.99 2860.41 1896.56 Q2862.23 1900.1 2865.85 1900.1 Q2869.48 1900.1 2871.29 1896.56 Q2873.11 1892.99 2873.11 1885.89 Q2873.11 1878.76 2871.29 1875.22 Q2869.48 1871.65 2865.85 1871.65 M2865.85 1867.95 Q2871.66 1867.95 2874.71 1872.55 Q2877.79 1877.14 2877.79 1885.89 Q2877.79 1894.61 2874.71 1899.22 Q2871.66 1903.8 2865.85 1903.8 Q2860.04 1903.8 2856.96 1899.22 Q2853.9 1894.61 2853.9 1885.89 Q2853.9 1877.14 2856.96 1872.55 Q2860.04 1867.95 2865.85 1867.95 Z\" fill=\"#000000\" fill-rule=\"evenodd\" fill-opacity=\"1\" /><path clip-path=\"url(#clip550)\" d=\"M3423.27 1899.2 L3439.58 1899.2 L3439.58 1903.13 L3417.64 1903.13 L3417.64 1899.2 Q3420.3 1896.44 3424.89 1891.81 Q3429.49 1887.16 3430.67 1885.82 Q3432.92 1883.29 3433.8 1881.56 Q3434.7 1879.8 3434.7 1878.11 Q3434.7 1875.35 3432.76 1873.62 Q3430.83 1871.88 3427.73 1871.88 Q3425.53 1871.88 3423.08 1872.65 Q3420.65 1873.41 3417.87 1874.96 L3417.87 1870.24 Q3420.7 1869.1 3423.15 1868.53 Q3425.6 1867.95 3427.64 1867.95 Q3433.01 1867.95 3436.2 1870.63 Q3439.4 1873.32 3439.4 1877.81 Q3439.4 1879.94 3438.59 1881.86 Q3437.8 1883.76 3435.7 1886.35 Q3435.12 1887.02 3432.02 1890.24 Q3428.91 1893.43 3423.27 1899.2 Z\" fill=\"#000000\" fill-rule=\"evenodd\" fill-opacity=\"1\" /><path clip-path=\"url(#clip550)\" d=\"M3449.45 1868.57 L3467.8 1868.57 L3467.8 1872.51 L3453.73 1872.51 L3453.73 1880.98 Q3454.75 1880.63 3455.77 1880.47 Q3456.78 1880.28 3457.8 1880.28 Q3463.59 1880.28 3466.97 1883.46 Q3470.35 1886.63 3470.35 1892.04 Q3470.35 1897.62 3466.88 1900.72 Q3463.4 1903.8 3457.08 1903.8 Q3454.91 1903.8 3452.64 1903.43 Q3450.39 1903.06 3447.99 1902.32 L3447.99 1897.62 Q3450.07 1898.76 3452.29 1899.31 Q3454.52 1899.87 3456.99 1899.87 Q3461 1899.87 3463.33 1897.76 Q3465.67 1895.66 3465.67 1892.04 Q3465.67 1888.43 3463.33 1886.33 Q3461 1884.22 3456.99 1884.22 Q3455.12 1884.22 3453.24 1884.64 Q3451.39 1885.05 3449.45 1885.93 L3449.45 1868.57 Z\" fill=\"#000000\" fill-rule=\"evenodd\" fill-opacity=\"1\" /><path clip-path=\"url(#clip550)\" d=\"M3489.56 1871.65 Q3485.95 1871.65 3484.12 1875.22 Q3482.32 1878.76 3482.32 1885.89 Q3482.32 1892.99 3484.12 1896.56 Q3485.95 1900.1 3489.56 1900.1 Q3493.2 1900.1 3495 1896.56 Q3496.83 1892.99 3496.83 1885.89 Q3496.83 1878.76 3495 1875.22 Q3493.2 1871.65 3489.56 1871.65 M3489.56 1867.95 Q3495.37 1867.95 3498.43 1872.55 Q3501.51 1877.14 3501.51 1885.89 Q3501.51 1894.61 3498.43 1899.22 Q3495.37 1903.8 3489.56 1903.8 Q3483.75 1903.8 3480.67 1899.22 Q3477.62 1894.61 3477.62 1885.89 Q3477.62 1877.14 3480.67 1872.55 Q3483.75 1867.95 3489.56 1867.95 Z\" fill=\"#000000\" fill-rule=\"evenodd\" fill-opacity=\"1\" /><path clip-path=\"url(#clip550)\" d=\"M1858.99 1965.49 L1858.99 1946.2 L1864.84 1946.2 L1864.84 1995.72 L1858.99 1995.72 L1858.99 1990.38 Q1857.14 1993.56 1854.31 1995.12 Q1851.51 1996.65 1847.56 1996.65 Q1841.1 1996.65 1837.02 1991.49 Q1832.98 1986.33 1832.98 1977.93 Q1832.98 1969.53 1837.02 1964.37 Q1841.1 1959.22 1847.56 1959.22 Q1851.51 1959.22 1854.31 1960.78 Q1857.14 1962.3 1858.99 1965.49 M1839.03 1977.93 Q1839.03 1984.39 1841.67 1988.08 Q1844.35 1991.75 1848.99 1991.75 Q1853.64 1991.75 1856.31 1988.08 Q1858.99 1984.39 1858.99 1977.93 Q1858.99 1971.47 1856.31 1967.81 Q1853.64 1964.12 1848.99 1964.12 Q1844.35 1964.12 1841.67 1967.81 Q1839.03 1971.47 1839.03 1977.93 Z\" fill=\"#000000\" fill-rule=\"evenodd\" fill-opacity=\"1\" /><path clip-path=\"url(#clip550)\" d=\"M1893.11 1977.8 Q1886.01 1977.8 1883.27 1979.43 Q1880.53 1981.05 1880.53 1984.97 Q1880.53 1988.08 1882.57 1989.93 Q1884.64 1991.75 1888.17 1991.75 Q1893.04 1991.75 1895.97 1988.31 Q1898.93 1984.84 1898.93 1979.11 L1898.93 1977.8 L1893.11 1977.8 M1904.79 1975.39 L1904.79 1995.72 L1898.93 1995.72 L1898.93 1990.31 Q1896.93 1993.56 1893.93 1995.12 Q1890.94 1996.65 1886.61 1996.65 Q1881.14 1996.65 1877.89 1993.59 Q1874.68 1990.5 1874.68 1985.35 Q1874.68 1979.33 1878.69 1976.28 Q1882.73 1973.22 1890.72 1973.22 L1898.93 1973.22 L1898.93 1972.65 Q1898.93 1968.61 1896.26 1966.41 Q1893.62 1964.18 1888.81 1964.18 Q1885.75 1964.18 1882.86 1964.91 Q1879.96 1965.65 1877.29 1967.11 L1877.29 1961.7 Q1880.5 1960.46 1883.53 1959.85 Q1886.55 1959.22 1889.41 1959.22 Q1897.15 1959.22 1900.97 1963.23 Q1904.79 1967.24 1904.79 1975.39 Z\" fill=\"#000000\" fill-rule=\"evenodd\" fill-opacity=\"1\" /><path clip-path=\"url(#clip550)\" d=\"M1931.68 1999.03 Q1929.2 2005.4 1926.84 2007.34 Q1924.49 2009.28 1920.54 2009.28 L1915.86 2009.28 L1915.86 2004.38 L1919.3 2004.38 Q1921.72 2004.38 1923.06 2003.24 Q1924.39 2002.09 1926.02 1997.82 L1927.07 1995.15 L1912.65 1960.08 L1918.86 1960.08 L1930 1987.96 L1941.14 1960.08 L1947.34 1960.08 L1931.68 1999.03 Z\" fill=\"#000000\" fill-rule=\"evenodd\" fill-opacity=\"1\" /><path clip-path=\"url(#clip550)\" d=\"M1978.15 1961.13 L1978.15 1966.66 Q1975.67 1965.39 1973 1964.75 Q1970.32 1964.12 1967.46 1964.12 Q1963.1 1964.12 1960.9 1965.45 Q1958.74 1966.79 1958.74 1969.47 Q1958.74 1971.5 1960.3 1972.68 Q1961.86 1973.83 1966.57 1974.88 L1968.57 1975.32 Q1974.81 1976.66 1977.42 1979.11 Q1980.06 1981.53 1980.06 1985.89 Q1980.06 1990.85 1976.12 1993.75 Q1972.2 1996.65 1965.33 1996.65 Q1962.46 1996.65 1959.34 1996.07 Q1956.25 1995.53 1952.82 1994.42 L1952.82 1988.37 Q1956.06 1990.06 1959.21 1990.92 Q1962.37 1991.75 1965.45 1991.75 Q1969.59 1991.75 1971.82 1990.34 Q1974.05 1988.91 1974.05 1986.33 Q1974.05 1983.95 1972.42 1982.67 Q1970.83 1981.4 1965.39 1980.22 L1963.35 1979.75 Q1957.91 1978.6 1955.49 1976.24 Q1953.07 1973.86 1953.07 1969.72 Q1953.07 1964.69 1956.64 1961.95 Q1960.2 1959.22 1966.76 1959.22 Q1970 1959.22 1972.87 1959.69 Q1975.73 1960.17 1978.15 1961.13 Z\" fill=\"#000000\" fill-rule=\"evenodd\" fill-opacity=\"1\" /><polyline clip-path=\"url(#clip552)\" style=\"stroke:#000000; stroke-linecap:butt; stroke-linejoin:round; stroke-width:2; stroke-opacity:0.1; fill:none\" points=\"\n",
       "  260.289,1686.06 3552.76,1686.06 \n",
       "  \"/>\n",
       "<polyline clip-path=\"url(#clip552)\" style=\"stroke:#000000; stroke-linecap:butt; stroke-linejoin:round; stroke-width:2; stroke-opacity:0.1; fill:none\" points=\"\n",
       "  260.289,1342.28 3552.76,1342.28 \n",
       "  \"/>\n",
       "<polyline clip-path=\"url(#clip552)\" style=\"stroke:#000000; stroke-linecap:butt; stroke-linejoin:round; stroke-width:2; stroke-opacity:0.1; fill:none\" points=\"\n",
       "  260.289,998.495 3552.76,998.495 \n",
       "  \"/>\n",
       "<polyline clip-path=\"url(#clip552)\" style=\"stroke:#000000; stroke-linecap:butt; stroke-linejoin:round; stroke-width:2; stroke-opacity:0.1; fill:none\" points=\"\n",
       "  260.289,654.711 3552.76,654.711 \n",
       "  \"/>\n",
       "<polyline clip-path=\"url(#clip552)\" style=\"stroke:#000000; stroke-linecap:butt; stroke-linejoin:round; stroke-width:2; stroke-opacity:0.1; fill:none\" points=\"\n",
       "  260.289,310.927 3552.76,310.927 \n",
       "  \"/>\n",
       "<polyline clip-path=\"url(#clip550)\" style=\"stroke:#000000; stroke-linecap:butt; stroke-linejoin:round; stroke-width:4; stroke-opacity:1; fill:none\" points=\"\n",
       "  260.289,1832.86 260.289,47.2441 \n",
       "  \"/>\n",
       "<polyline clip-path=\"url(#clip550)\" style=\"stroke:#000000; stroke-linecap:butt; stroke-linejoin:round; stroke-width:4; stroke-opacity:1; fill:none\" points=\"\n",
       "  260.289,1686.06 279.186,1686.06 \n",
       "  \"/>\n",
       "<polyline clip-path=\"url(#clip550)\" style=\"stroke:#000000; stroke-linecap:butt; stroke-linejoin:round; stroke-width:4; stroke-opacity:1; fill:none\" points=\"\n",
       "  260.289,1342.28 279.186,1342.28 \n",
       "  \"/>\n",
       "<polyline clip-path=\"url(#clip550)\" style=\"stroke:#000000; stroke-linecap:butt; stroke-linejoin:round; stroke-width:4; stroke-opacity:1; fill:none\" points=\"\n",
       "  260.289,998.495 279.186,998.495 \n",
       "  \"/>\n",
       "<polyline clip-path=\"url(#clip550)\" style=\"stroke:#000000; stroke-linecap:butt; stroke-linejoin:round; stroke-width:4; stroke-opacity:1; fill:none\" points=\"\n",
       "  260.289,654.711 279.186,654.711 \n",
       "  \"/>\n",
       "<polyline clip-path=\"url(#clip550)\" style=\"stroke:#000000; stroke-linecap:butt; stroke-linejoin:round; stroke-width:4; stroke-opacity:1; fill:none\" points=\"\n",
       "  260.289,310.927 279.186,310.927 \n",
       "  \"/>\n",
       "<path clip-path=\"url(#clip550)\" d=\"M100.34 1686.52 L130.016 1686.52 L130.016 1690.45 L100.34 1690.45 L100.34 1686.52 Z\" fill=\"#000000\" fill-rule=\"evenodd\" fill-opacity=\"1\" /><path clip-path=\"url(#clip550)\" d=\"M150.108 1671.86 Q146.497 1671.86 144.669 1675.43 Q142.863 1678.97 142.863 1686.1 Q142.863 1693.21 144.669 1696.77 Q146.497 1700.31 150.108 1700.31 Q153.743 1700.31 155.548 1696.77 Q157.377 1693.21 157.377 1686.1 Q157.377 1678.97 155.548 1675.43 Q153.743 1671.86 150.108 1671.86 M150.108 1668.16 Q155.919 1668.16 158.974 1672.77 Q162.053 1677.35 162.053 1686.1 Q162.053 1694.83 158.974 1699.43 Q155.919 1704.02 150.108 1704.02 Q144.298 1704.02 141.22 1699.43 Q138.164 1694.83 138.164 1686.1 Q138.164 1677.35 141.22 1672.77 Q144.298 1668.16 150.108 1668.16 Z\" fill=\"#000000\" fill-rule=\"evenodd\" fill-opacity=\"1\" /><path clip-path=\"url(#clip550)\" d=\"M170.27 1697.46 L175.155 1697.46 L175.155 1703.34 L170.27 1703.34 L170.27 1697.46 Z\" fill=\"#000000\" fill-rule=\"evenodd\" fill-opacity=\"1\" /><path clip-path=\"url(#clip550)\" d=\"M185.386 1668.78 L203.742 1668.78 L203.742 1672.72 L189.668 1672.72 L189.668 1681.19 Q190.687 1680.84 191.705 1680.68 Q192.724 1680.5 193.742 1680.5 Q199.529 1680.5 202.909 1683.67 Q206.289 1686.84 206.289 1692.26 Q206.289 1697.83 202.816 1700.94 Q199.344 1704.02 193.025 1704.02 Q190.849 1704.02 188.58 1703.64 Q186.335 1703.27 183.928 1702.53 L183.928 1697.83 Q186.011 1698.97 188.233 1699.52 Q190.455 1700.08 192.932 1700.08 Q196.937 1700.08 199.275 1697.97 Q201.613 1695.87 201.613 1692.26 Q201.613 1688.64 199.275 1686.54 Q196.937 1684.43 192.932 1684.43 Q191.057 1684.43 189.182 1684.85 Q187.33 1685.27 185.386 1686.14 L185.386 1668.78 Z\" fill=\"#000000\" fill-rule=\"evenodd\" fill-opacity=\"1\" /><path clip-path=\"url(#clip550)\" d=\"M149.113 1328.08 Q145.502 1328.08 143.673 1331.64 Q141.868 1335.18 141.868 1342.31 Q141.868 1349.42 143.673 1352.99 Q145.502 1356.53 149.113 1356.53 Q152.747 1356.53 154.553 1352.99 Q156.382 1349.42 156.382 1342.31 Q156.382 1335.18 154.553 1331.64 Q152.747 1328.08 149.113 1328.08 M149.113 1324.37 Q154.923 1324.37 157.979 1328.98 Q161.057 1333.56 161.057 1342.31 Q161.057 1351.04 157.979 1355.65 Q154.923 1360.23 149.113 1360.23 Q143.303 1360.23 140.224 1355.65 Q137.169 1351.04 137.169 1342.31 Q137.169 1333.56 140.224 1328.98 Q143.303 1324.37 149.113 1324.37 Z\" fill=\"#000000\" fill-rule=\"evenodd\" fill-opacity=\"1\" /><path clip-path=\"url(#clip550)\" d=\"M169.275 1353.68 L174.159 1353.68 L174.159 1359.56 L169.275 1359.56 L169.275 1353.68 Z\" fill=\"#000000\" fill-rule=\"evenodd\" fill-opacity=\"1\" /><path clip-path=\"url(#clip550)\" d=\"M194.344 1328.08 Q190.733 1328.08 188.904 1331.64 Q187.099 1335.18 187.099 1342.31 Q187.099 1349.42 188.904 1352.99 Q190.733 1356.53 194.344 1356.53 Q197.979 1356.53 199.784 1352.99 Q201.613 1349.42 201.613 1342.31 Q201.613 1335.18 199.784 1331.64 Q197.979 1328.08 194.344 1328.08 M194.344 1324.37 Q200.154 1324.37 203.21 1328.98 Q206.289 1333.56 206.289 1342.31 Q206.289 1351.04 203.21 1355.65 Q200.154 1360.23 194.344 1360.23 Q188.534 1360.23 185.455 1355.65 Q182.4 1351.04 182.4 1342.31 Q182.4 1333.56 185.455 1328.98 Q188.534 1324.37 194.344 1324.37 Z\" fill=\"#000000\" fill-rule=\"evenodd\" fill-opacity=\"1\" /><path clip-path=\"url(#clip550)\" d=\"M150.108 984.294 Q146.497 984.294 144.669 987.859 Q142.863 991.4 142.863 998.53 Q142.863 1005.64 144.669 1009.2 Q146.497 1012.74 150.108 1012.74 Q153.743 1012.74 155.548 1009.2 Q157.377 1005.64 157.377 998.53 Q157.377 991.4 155.548 987.859 Q153.743 984.294 150.108 984.294 M150.108 980.59 Q155.919 980.59 158.974 985.197 Q162.053 989.78 162.053 998.53 Q162.053 1007.26 158.974 1011.86 Q155.919 1016.45 150.108 1016.45 Q144.298 1016.45 141.22 1011.86 Q138.164 1007.26 138.164 998.53 Q138.164 989.78 141.22 985.197 Q144.298 980.59 150.108 980.59 Z\" fill=\"#000000\" fill-rule=\"evenodd\" fill-opacity=\"1\" /><path clip-path=\"url(#clip550)\" d=\"M170.27 1009.9 L175.155 1009.9 L175.155 1015.78 L170.27 1015.78 L170.27 1009.9 Z\" fill=\"#000000\" fill-rule=\"evenodd\" fill-opacity=\"1\" /><path clip-path=\"url(#clip550)\" d=\"M185.386 981.215 L203.742 981.215 L203.742 985.15 L189.668 985.15 L189.668 993.623 Q190.687 993.275 191.705 993.113 Q192.724 992.928 193.742 992.928 Q199.529 992.928 202.909 996.099 Q206.289 999.271 206.289 1004.69 Q206.289 1010.27 202.816 1013.37 Q199.344 1016.45 193.025 1016.45 Q190.849 1016.45 188.58 1016.08 Q186.335 1015.71 183.928 1014.97 L183.928 1010.27 Q186.011 1011.4 188.233 1011.96 Q190.455 1012.51 192.932 1012.51 Q196.937 1012.51 199.275 1010.4 Q201.613 1008.3 201.613 1004.69 Q201.613 1001.08 199.275 998.97 Q196.937 996.863 192.932 996.863 Q191.057 996.863 189.182 997.28 Q187.33 997.697 185.386 998.576 L185.386 981.215 Z\" fill=\"#000000\" fill-rule=\"evenodd\" fill-opacity=\"1\" /><path clip-path=\"url(#clip550)\" d=\"M139.923 668.056 L147.562 668.056 L147.562 641.69 L139.252 643.357 L139.252 639.098 L147.516 637.431 L152.192 637.431 L152.192 668.056 L159.831 668.056 L159.831 671.991 L139.923 671.991 L139.923 668.056 Z\" fill=\"#000000\" fill-rule=\"evenodd\" fill-opacity=\"1\" /><path clip-path=\"url(#clip550)\" d=\"M169.275 666.111 L174.159 666.111 L174.159 671.991 L169.275 671.991 L169.275 666.111 Z\" fill=\"#000000\" fill-rule=\"evenodd\" fill-opacity=\"1\" /><path clip-path=\"url(#clip550)\" d=\"M194.344 640.51 Q190.733 640.51 188.904 644.074 Q187.099 647.616 187.099 654.746 Q187.099 661.852 188.904 665.417 Q190.733 668.959 194.344 668.959 Q197.979 668.959 199.784 665.417 Q201.613 661.852 201.613 654.746 Q201.613 647.616 199.784 644.074 Q197.979 640.51 194.344 640.51 M194.344 636.806 Q200.154 636.806 203.21 641.412 Q206.289 645.996 206.289 654.746 Q206.289 663.473 203.21 668.079 Q200.154 672.662 194.344 672.662 Q188.534 672.662 185.455 668.079 Q182.4 663.473 182.4 654.746 Q182.4 645.996 185.455 641.412 Q188.534 636.806 194.344 636.806 Z\" fill=\"#000000\" fill-rule=\"evenodd\" fill-opacity=\"1\" /><path clip-path=\"url(#clip550)\" d=\"M140.919 324.272 L148.557 324.272 L148.557 297.906 L140.247 299.573 L140.247 295.313 L148.511 293.647 L153.187 293.647 L153.187 324.272 L160.826 324.272 L160.826 328.207 L140.919 328.207 L140.919 324.272 Z\" fill=\"#000000\" fill-rule=\"evenodd\" fill-opacity=\"1\" /><path clip-path=\"url(#clip550)\" d=\"M170.27 322.327 L175.155 322.327 L175.155 328.207 L170.27 328.207 L170.27 322.327 Z\" fill=\"#000000\" fill-rule=\"evenodd\" fill-opacity=\"1\" /><path clip-path=\"url(#clip550)\" d=\"M185.386 293.647 L203.742 293.647 L203.742 297.582 L189.668 297.582 L189.668 306.054 Q190.687 305.707 191.705 305.545 Q192.724 305.36 193.742 305.36 Q199.529 305.36 202.909 308.531 Q206.289 311.702 206.289 317.119 Q206.289 322.697 202.816 325.799 Q199.344 328.878 193.025 328.878 Q190.849 328.878 188.58 328.508 Q186.335 328.137 183.928 327.396 L183.928 322.697 Q186.011 323.832 188.233 324.387 Q190.455 324.943 192.932 324.943 Q196.937 324.943 199.275 322.836 Q201.613 320.73 201.613 317.119 Q201.613 313.508 199.275 311.401 Q196.937 309.295 192.932 309.295 Q191.057 309.295 189.182 309.711 Q187.33 310.128 185.386 311.008 L185.386 293.647 Z\" fill=\"#000000\" fill-rule=\"evenodd\" fill-opacity=\"1\" /><path clip-path=\"url(#clip550)\" d=\"M-3.5638 1007.34 L-3.5638 1001.48 L32.0842 1001.48 L32.0842 1007.34 L-3.5638 1007.34 M-17.441 1007.34 L-17.441 1001.48 L-10.025 1001.48 L-10.025 1007.34 L-17.441 1007.34 Z\" fill=\"#000000\" fill-rule=\"evenodd\" fill-opacity=\"1\" /><path clip-path=\"url(#clip550)\" d=\"M10.5681 959.595 L32.0842 959.595 L32.0842 965.451 L10.759 965.451 Q5.6983 965.451 3.18385 967.425 Q0.669395 969.398 0.669395 973.345 Q0.669395 978.087 3.69311 980.824 Q6.71682 983.562 11.9367 983.562 L32.0842 983.562 L32.0842 989.45 L-3.5638 989.45 L-3.5638 983.562 L1.97437 983.562 Q-1.24032 981.461 -2.83174 978.628 Q-4.42317 975.764 -4.42317 972.04 Q-4.42317 965.897 -0.603746 962.746 Q3.18385 959.595 10.5681 959.595 Z\" fill=\"#000000\" fill-rule=\"evenodd\" fill-opacity=\"1\" /><path clip-path=\"url(#clip550)\" d=\"M-17.441 929.867 L-12.5713 929.867 L-12.5713 935.469 Q-12.5713 938.62 -11.2981 939.861 Q-10.025 941.07 -6.71482 941.07 L-3.5638 941.07 L-3.5638 931.426 L0.987681 931.426 L0.987681 941.07 L32.0842 941.07 L32.0842 946.959 L0.987681 946.959 L0.987681 952.561 L-3.5638 952.561 L-3.5638 946.959 L-6.04643 946.959 Q-11.9984 946.959 -14.7038 944.19 Q-17.441 941.421 -17.441 935.405 L-17.441 929.867 Z\" fill=\"#000000\" fill-rule=\"evenodd\" fill-opacity=\"1\" /><path clip-path=\"url(#clip550)\" d=\"M11.1728 883.715 Q11.1728 886.485 13.5281 888.076 Q15.8834 889.636 20.0848 889.636 Q24.2225 889.636 26.6096 888.076 Q28.965 886.485 28.965 883.715 Q28.965 881.01 26.6096 879.45 Q24.2225 877.859 20.0848 877.859 Q15.9153 877.859 13.56 879.45 Q11.1728 881.01 11.1728 883.715 M7.13059 883.715 Q7.13059 878.687 10.6317 875.727 Q14.1329 872.766 20.0848 872.766 Q26.0367 872.766 29.5379 875.758 Q33.0072 878.718 33.0072 883.715 Q33.0072 888.808 29.5379 891.768 Q26.0367 894.728 20.0848 894.728 Q14.101 894.728 10.6317 891.768 Q7.13059 888.776 7.13059 883.715 M-12.253 916.563 Q-12.253 919.3 -9.86585 920.891 Q-7.51054 922.451 -3.37283 922.451 Q0.828538 922.451 3.18385 920.891 Q5.53916 919.332 5.53916 916.563 Q5.53916 913.793 3.18385 912.234 Q0.828538 910.642 -3.37283 910.642 Q-7.47871 910.642 -9.86585 912.234 Q-12.253 913.825 -12.253 916.563 M-16.2952 887.821 L-16.2952 882.729 L33.0072 912.457 L33.0072 917.549 L-16.2952 887.821 M-16.2952 916.563 Q-16.2952 911.534 -12.7941 908.542 Q-9.32476 905.55 -3.37283 905.55 Q2.64276 905.55 6.11207 908.542 Q9.58138 911.502 9.58138 916.563 Q9.58138 921.623 6.11207 924.583 Q2.61094 927.512 -3.37283 927.512 Q-9.29294 927.512 -12.7941 924.551 Q-16.2952 921.591 -16.2952 916.563 Z\" fill=\"#000000\" fill-rule=\"evenodd\" fill-opacity=\"1\" /><polyline clip-path=\"url(#clip552)\" style=\"stroke:#009af9; stroke-linecap:butt; stroke-linejoin:round; stroke-width:4; stroke-opacity:1; fill:none\" points=\"\n",
       "  353.472,1782.32 365.946,1686.06 378.42,1672.31 390.895,1658.56 403.369,1637.93 415.843,1610.43 428.318,1624.18 440.792,1603.56 453.266,1617.31 465.74,1644.81 \n",
       "  478.215,1651.69 490.689,1679.19 503.163,1686.06 515.638,1686.06 528.112,1706.69 540.586,1692.94 553.061,1713.57 565.535,1713.57 578.009,1672.31 590.483,1610.43 \n",
       "  602.958,1534.8 615.432,1569.18 627.906,1582.93 640.381,1562.3 652.855,1555.43 665.329,1541.67 677.804,1541.67 690.278,1562.3 702.752,1534.8 715.226,1479.79 \n",
       "  727.701,1459.17 740.175,1466.04 752.649,1424.79 765.124,1390.41 777.598,1424.79 790.072,1362.91 802.547,1239.14 815.021,1259.77 827.495,1301.03 839.969,1349.16 \n",
       "  852.444,1328.53 864.918,1287.27 877.392,1280.4 889.867,1218.52 902.341,1211.64 914.815,1218.52 927.29,1232.27 939.764,1170.39 952.238,1163.51 964.712,1170.39 \n",
       "  977.187,1163.51 989.661,1122.26 1002.14,1115.38 1014.61,1060.38 1027.08,1101.63 1039.56,1074.13 1052.03,1081 1064.51,1053.5 1076.98,1032.87 1089.46,1053.5 \n",
       "  1101.93,1019.12 1114.4,1060.38 1126.88,998.495 1139.35,1046.63 1151.83,1087.88 1164.3,1101.63 1176.78,1115.38 1189.25,1094.75 1201.72,1039.75 1214.2,1094.75 \n",
       "  1226.67,1101.63 1239.15,1142.88 1251.62,1142.88 1264.1,1142.88 1276.57,1142.88 1289.04,1142.88 1301.52,1122.26 1313.99,1081 1326.47,1081 1338.94,1032.87 \n",
       "  1351.42,1067.25 1363.89,1046.63 1376.36,1081 1388.84,1149.76 1401.31,1142.88 1413.79,1129.13 1426.26,1122.26 1438.74,1177.26 1451.21,1149.76 1463.68,1142.88 \n",
       "  1476.16,1053.5 1488.63,1074.13 1501.11,1060.38 1513.58,1060.38 1526.06,1087.88 1538.53,1087.88 1551,1122.26 1563.48,1115.38 1575.95,1115.38 1588.43,1142.88 \n",
       "  1600.9,1122.26 1613.38,1101.63 1625.85,1101.63 1638.32,1026 1650.8,977.868 1663.27,970.993 1675.75,991.62 1688.22,1005.37 1700.7,977.868 1713.17,1039.75 \n",
       "  1725.64,1081 1738.12,1060.38 1750.59,1019.12 1763.07,1053.5 1775.54,1005.37 1788.02,957.241 1800.49,895.36 1812.97,833.479 1825.44,881.609 1837.91,847.23 \n",
       "  1850.39,867.857 1862.86,874.733 1875.34,881.609 1887.81,888.484 1900.29,922.863 1912.76,902.236 1925.23,909.111 1937.71,984.744 1950.18,1012.25 1962.66,1053.5 \n",
       "  1975.13,957.241 1987.61,957.241 2000.08,922.863 2012.55,950.365 2025.03,977.868 2037.5,957.241 2049.98,984.744 2062.45,1005.37 2074.93,977.868 2087.4,1005.37 \n",
       "  2099.87,1005.37 2112.35,1012.25 2124.82,1046.63 2137.3,1032.87 2149.77,1019.12 2162.25,1060.38 2174.72,1032.87 2187.19,1039.75 2199.67,991.62 2212.14,936.614 \n",
       "  2224.62,909.111 2237.09,874.733 2249.57,867.857 2262.04,854.106 2274.51,860.982 2286.99,902.236 2299.46,881.609 2311.94,867.857 2324.41,874.733 2336.89,860.982 \n",
       "  2349.36,881.609 2361.83,909.111 2374.31,826.603 2386.78,826.603 2399.26,792.225 2411.73,805.976 2424.21,819.727 2436.68,840.355 2449.15,847.23 2461.63,812.852 \n",
       "  2474.1,860.982 2486.58,826.603 2499.05,860.982 2511.53,922.863 2524,915.987 2536.47,936.614 2548.95,998.495 2561.42,929.738 2573.9,902.236 2586.37,929.738 \n",
       "  2598.85,943.49 2611.32,895.36 2623.79,867.857 2636.27,785.349 2648.74,805.976 2661.22,799.1 2673.69,778.473 2686.17,785.349 2698.64,792.225 2711.11,799.1 \n",
       "  2723.59,750.971 2736.06,716.592 2748.54,737.219 2761.01,716.592 2773.49,730.344 2785.96,730.344 2798.43,764.722 2810.91,799.1 2823.38,716.592 2835.86,579.078 \n",
       "  2848.33,565.327 2860.81,599.705 2873.28,544.7 2885.75,544.7 2898.23,565.327 2910.7,565.327 2923.18,634.084 2935.65,634.084 2948.13,627.208 2960.6,565.327 \n",
       "  2973.08,585.954 2985.55,551.576 2998.02,640.96 3010.5,668.462 3022.97,654.711 3035.45,675.338 3047.92,585.954 3060.4,565.327 3072.87,537.824 3085.34,558.451 \n",
       "  3097.82,551.576 3110.29,572.203 3122.77,551.576 3135.24,489.695 3147.72,489.695 3160.19,482.819 3172.66,585.954 3185.14,592.83 3197.61,640.96 3210.09,627.208 \n",
       "  3222.56,530.949 3235.04,606.581 3247.51,558.451 3259.98,530.949 3272.46,524.073 3284.93,537.824 3297.41,510.322 3309.88,585.954 3322.36,524.073 3334.83,530.949 \n",
       "  3347.3,565.327 3359.78,572.203 3372.25,572.203 3384.73,530.949 3397.2,551.576 3409.68,517.197 3422.15,517.197 3434.62,496.57 3447.1,469.067 3459.57,475.943 \n",
       "  \n",
       "  \"/>\n",
       "<polyline clip-path=\"url(#clip552)\" style=\"stroke:#e26f46; stroke-linecap:butt; stroke-linejoin:round; stroke-width:4; stroke-opacity:1; fill:none\" points=\"\n",
       "  353.472,1576.05 365.946,1493.54 378.42,1459.17 390.895,1438.54 403.369,1411.04 415.843,1383.53 428.318,1397.29 440.792,1383.53 453.266,1383.53 465.74,1424.79 \n",
       "  478.215,1424.79 490.689,1459.17 503.163,1452.29 515.638,1459.17 528.112,1493.54 540.586,1479.79 553.061,1500.42 565.535,1486.67 578.009,1438.54 590.483,1390.41 \n",
       "  602.958,1314.78 615.432,1335.4 627.906,1356.03 640.381,1328.53 652.855,1328.53 665.329,1314.78 677.804,1321.65 690.278,1335.4 702.752,1314.78 715.226,1246.02 \n",
       "  727.701,1225.39 740.175,1218.52 752.649,1170.39 765.124,1142.88 777.598,1156.64 790.072,1108.51 802.547,977.868 815.021,1012.25 827.495,1053.5 839.969,1101.63 \n",
       "  852.444,1074.13 864.918,1012.25 877.392,1005.37 889.867,957.241 902.341,964.117 914.815,977.868 927.29,977.868 939.764,895.36 952.238,895.36 964.712,895.36 \n",
       "  977.187,874.733 989.661,819.727 1002.14,805.976 1014.61,771.598 1027.08,812.852 1039.56,799.1 1052.03,785.349 1064.51,764.722 1076.98,737.219 1089.46,737.219 \n",
       "  1101.93,709.716 1114.4,764.722 1126.88,723.468 1139.35,757.846 1151.83,799.1 1164.3,799.1 1176.78,833.479 1189.25,799.1 1201.72,744.095 1214.2,812.852 \n",
       "  1226.67,819.727 1239.15,867.857 1251.62,881.609 1264.1,867.857 1276.57,867.857 1289.04,888.484 1301.52,867.857 1313.99,819.727 1326.47,819.727 1338.94,764.722 \n",
       "  1351.42,792.225 1363.89,771.598 1376.36,799.1 1388.84,867.857 1401.31,854.106 1413.79,854.106 1426.26,847.23 1438.74,881.609 1451.21,847.23 1463.68,833.479 \n",
       "  1476.16,757.846 1488.63,785.349 1501.11,778.473 1513.58,778.473 1526.06,805.976 1538.53,792.225 1551,826.603 1563.48,826.603 1575.95,819.727 1588.43,854.106 \n",
       "  1600.9,833.479 1613.38,785.349 1625.85,799.1 1638.32,716.592 1650.8,675.338 1663.27,675.338 1675.75,709.716 1688.22,716.592 1700.7,716.592 1713.17,785.349 \n",
       "  1725.64,819.727 1738.12,805.976 1750.59,764.722 1763.07,792.225 1775.54,750.971 1788.02,723.468 1800.49,695.965 1812.97,634.084 1825.44,675.338 1837.91,640.96 \n",
       "  1850.39,654.711 1862.86,647.835 1875.34,668.462 1887.81,668.462 1900.29,709.716 1912.76,682.214 1925.23,702.841 1937.71,778.473 1950.18,812.852 1962.66,840.355 \n",
       "  1975.13,757.846 1987.61,771.598 2000.08,737.219 2012.55,757.846 2025.03,799.1 2037.5,778.473 2049.98,812.852 2062.45,819.727 2074.93,778.473 2087.4,805.976 \n",
       "  2099.87,792.225 2112.35,805.976 2124.82,847.23 2137.3,840.355 2149.77,812.852 2162.25,840.355 2174.72,819.727 2187.19,826.603 2199.67,792.225 2212.14,730.344 \n",
       "  2224.62,682.214 2237.09,654.711 2249.57,640.96 2262.04,627.208 2274.51,627.208 2286.99,661.587 2299.46,647.835 2311.94,654.711 2324.41,661.587 2336.89,661.587 \n",
       "  2349.36,675.338 2361.83,695.965 2374.31,613.457 2386.78,599.705 2399.26,558.451 2411.73,565.327 2424.21,579.078 2436.68,592.83 2449.15,606.581 2461.63,592.83 \n",
       "  2474.1,620.333 2486.58,579.078 2499.05,634.084 2511.53,695.965 2524,689.089 2536.47,709.716 2548.95,778.473 2561.42,716.592 2573.9,682.214 2586.37,695.965 \n",
       "  2598.85,716.592 2611.32,661.587 2623.79,654.711 2636.27,558.451 2648.74,572.203 2661.22,551.576 2673.69,537.824 2686.17,530.949 2698.64,530.949 2711.11,551.576 \n",
       "  2723.59,510.322 2736.06,455.316 2748.54,475.943 2761.01,455.316 2773.49,469.067 2785.96,496.57 2798.43,537.824 2810.91,572.203 2823.38,496.57 2835.86,420.938 \n",
       "  2848.33,386.559 2860.81,414.062 2873.28,372.808 2885.75,379.684 2898.23,393.435 2910.7,407.186 2923.18,475.943 2935.65,475.943 2948.13,462.192 2960.6,400.311 \n",
       "  2973.08,420.938 2985.55,393.435 2998.02,482.819 3010.5,510.322 3022.97,510.322 3035.45,544.7 3047.92,462.192 3060.4,441.565 3072.87,400.311 3085.34,407.186 \n",
       "  3097.82,407.186 3110.29,414.062 3122.77,407.186 3135.24,345.305 3147.72,331.554 3160.19,324.678 3172.66,434.689 3185.14,441.565 3197.61,496.57 3210.09,510.322 \n",
       "  3222.56,427.813 3235.04,503.446 3247.51,455.316 3259.98,427.813 3272.46,427.813 3284.93,441.565 3297.41,414.062 3309.88,489.695 3322.36,434.689 3334.83,441.565 \n",
       "  3347.3,469.067 3359.78,489.695 3372.25,482.819 3384.73,448.44 3397.2,469.067 3409.68,427.813 3422.15,441.565 3434.62,427.813 3447.1,386.559 3459.57,400.311 \n",
       "  \n",
       "  \"/>\n",
       "<polyline clip-path=\"url(#clip552)\" style=\"stroke:#3da44d; stroke-linecap:butt; stroke-linejoin:round; stroke-width:4; stroke-opacity:1; fill:none\" points=\"\n",
       "  353.472,1362.91 365.946,1287.27 378.42,1252.9 390.895,1232.27 403.369,1191.01 415.843,1177.26 428.318,1191.01 440.792,1191.01 453.266,1170.39 465.74,1204.77 \n",
       "  478.215,1211.64 490.689,1246.02 503.163,1232.27 515.638,1239.14 528.112,1280.4 540.586,1273.52 553.061,1294.15 565.535,1273.52 578.009,1225.39 590.483,1184.14 \n",
       "  602.958,1108.51 615.432,1115.38 627.906,1142.88 640.381,1101.63 652.855,1101.63 665.329,1087.88 677.804,1108.51 690.278,1115.38 702.752,1101.63 715.226,1032.87 \n",
       "  727.701,1012.25 740.175,1005.37 752.649,957.241 765.124,922.863 777.598,936.614 790.072,902.236 802.547,799.1 815.021,847.23 827.495,867.857 839.969,902.236 \n",
       "  852.444,881.609 864.918,819.727 877.392,812.852 889.867,785.349 902.341,785.349 914.815,785.349 927.29,785.349 939.764,702.841 952.238,702.841 964.712,702.841 \n",
       "  977.187,668.462 989.661,606.581 1002.14,599.705 1014.61,579.078 1027.08,620.333 1039.56,599.705 1052.03,599.705 1064.51,572.203 1076.98,530.949 1089.46,537.824 \n",
       "  1101.93,510.322 1114.4,585.954 1126.88,558.451 1139.35,572.203 1151.83,613.457 1164.3,599.705 1176.78,634.084 1189.25,606.581 1201.72,551.576 1214.2,606.581 \n",
       "  1226.67,634.084 1239.15,689.089 1251.62,689.089 1264.1,682.214 1276.57,682.214 1289.04,702.841 1301.52,689.089 1313.99,647.835 1326.47,640.96 1338.94,592.83 \n",
       "  1351.42,620.333 1363.89,592.83 1376.36,613.457 1388.84,675.338 1401.31,668.462 1413.79,661.587 1426.26,654.711 1438.74,668.462 1451.21,634.084 1463.68,620.333 \n",
       "  1476.16,558.451 1488.63,585.954 1501.11,592.83 1513.58,599.705 1526.06,613.457 1538.53,599.705 1551,634.084 1563.48,634.084 1575.95,634.084 1588.43,654.711 \n",
       "  1600.9,620.333 1613.38,579.078 1625.85,585.954 1638.32,503.446 1650.8,482.819 1663.27,482.819 1675.75,524.073 1688.22,530.949 1700.7,530.949 1713.17,599.705 \n",
       "  1725.64,640.96 1738.12,620.333 1750.59,592.83 1763.07,620.333 1775.54,592.83 1788.02,585.954 1800.49,592.83 1812.97,496.57 1825.44,558.451 1837.91,524.073 \n",
       "  1850.39,544.7 1862.86,524.073 1875.34,544.7 1887.81,530.949 1900.29,579.078 1912.76,551.576 1925.23,565.327 1937.71,640.96 1950.18,668.462 1962.66,695.965 \n",
       "  1975.13,627.208 1987.61,640.96 2000.08,606.581 2012.55,620.333 2025.03,668.462 2037.5,654.711 2049.98,695.965 2062.45,668.462 2074.93,627.208 2087.4,654.711 \n",
       "  2099.87,627.208 2112.35,647.835 2124.82,689.089 2137.3,675.338 2149.77,654.711 2162.25,668.462 2174.72,654.711 2187.19,661.587 2199.67,627.208 2212.14,572.203 \n",
       "  2224.62,503.446 2237.09,475.943 2249.57,462.192 2262.04,441.565 2274.51,441.565 2286.99,469.067 2299.46,462.192 2311.94,482.819 2324.41,496.57 2336.89,503.446 \n",
       "  2349.36,510.322 2361.83,530.949 2374.31,441.565 2386.78,414.062 2399.26,379.684 2411.73,386.559 2424.21,393.435 2436.68,414.062 2449.15,420.938 2461.63,427.813 \n",
       "  2474.1,434.689 2486.58,400.311 2499.05,455.316 2511.53,530.949 2524,517.197 2536.47,537.824 2548.95,620.333 2561.42,558.451 2573.9,524.073 2586.37,544.7 \n",
       "  2598.85,565.327 2611.32,517.197 2623.79,510.322 2636.27,414.062 2648.74,420.938 2661.22,414.062 2673.69,393.435 2686.17,379.684 2698.64,386.559 2711.11,393.435 \n",
       "  2723.59,359.056 2736.06,297.175 2748.54,324.678 2761.01,297.175 2773.49,304.051 2785.96,352.181 2798.43,407.186 2810.91,441.565 2823.38,372.808 2835.86,365.932 \n",
       "  2848.33,317.802 2860.81,338.429 2873.28,304.051 2885.75,310.927 2898.23,317.802 2910.7,324.678 2923.18,427.813 2935.65,420.938 2948.13,420.938 2960.6,359.056 \n",
       "  2973.08,365.932 2985.55,345.305 2998.02,414.062 3010.5,448.44 3022.97,462.192 3035.45,496.57 3047.92,420.938 3060.4,407.186 3072.87,359.056 3085.34,365.932 \n",
       "  3097.82,365.932 3110.29,359.056 3122.77,372.808 3135.24,317.802 3147.72,297.175 3160.19,310.927 3172.66,407.186 3185.14,393.435 3197.61,475.943 3210.09,482.819 \n",
       "  3222.56,414.062 3235.04,489.695 3247.51,448.44 3259.98,427.813 3272.46,393.435 3284.93,414.062 3297.41,393.435 3309.88,489.695 3322.36,434.689 3334.83,441.565 \n",
       "  3347.3,448.44 3359.78,482.819 3372.25,462.192 3384.73,427.813 3397.2,462.192 3409.68,414.062 3422.15,434.689 3434.62,420.938 3447.1,379.684 3459.57,400.311 \n",
       "  \n",
       "  \"/>\n",
       "<polyline clip-path=\"url(#clip552)\" style=\"stroke:#c271d2; stroke-linecap:butt; stroke-linejoin:round; stroke-width:4; stroke-opacity:1; fill:none\" points=\"\n",
       "  353.472,1074.13 365.946,1012.25 378.42,964.117 390.895,943.49 403.369,902.236 415.843,909.111 428.318,929.738 440.792,943.49 453.266,915.987 465.74,943.49 \n",
       "  478.215,936.614 490.689,964.117 503.163,943.49 515.638,950.365 528.112,991.62 540.586,984.744 553.061,1005.37 565.535,991.62 578.009,936.614 590.483,909.111 \n",
       "  602.958,826.603 615.432,826.603 627.906,833.479 640.381,792.225 652.855,805.976 665.329,792.225 677.804,805.976 690.278,805.976 702.752,771.598 715.226,709.716 \n",
       "  727.701,689.089 740.175,689.089 752.649,627.208 765.124,585.954 777.598,592.83 790.072,537.824 802.547,420.938 815.021,524.073 827.495,537.824 839.969,565.327 \n",
       "  852.444,558.451 864.918,496.57 877.392,503.446 889.867,482.819 902.341,489.695 914.815,482.819 927.29,475.943 939.764,372.808 952.238,393.435 964.712,372.808 \n",
       "  977.187,331.554 989.661,297.175 1002.14,304.051 1014.61,304.051 1027.08,338.429 1039.56,324.678 1052.03,317.802 1064.51,304.051 1076.98,262.797 1089.46,283.424 \n",
       "  1101.93,249.045 1114.4,338.429 1126.88,310.927 1139.35,331.554 1151.83,352.181 1164.3,331.554 1176.78,365.932 1189.25,352.181 1201.72,310.927 1214.2,359.056 \n",
       "  1226.67,372.808 1239.15,427.813 1251.62,434.689 1264.1,420.938 1276.57,414.062 1289.04,434.689 1301.52,441.565 1313.99,400.311 1326.47,393.435 1338.94,352.181 \n",
       "  1351.42,379.684 1363.89,359.056 1376.36,379.684 1388.84,420.938 1401.31,414.062 1413.79,414.062 1426.26,400.311 1438.74,407.186 1451.21,372.808 1463.68,338.429 \n",
       "  1476.16,276.548 1488.63,297.175 1501.11,310.927 1513.58,310.927 1526.06,317.802 1538.53,297.175 1551,324.678 1563.48,331.554 1575.95,324.678 1588.43,359.056 \n",
       "  1600.9,338.429 1613.38,297.175 1625.85,297.175 1638.32,214.667 1650.8,194.04 1663.27,214.667 1675.75,255.921 1688.22,262.797 1700.7,262.797 1713.17,324.678 \n",
       "  1725.64,352.181 1738.12,352.181 1750.59,317.802 1763.07,345.305 1775.54,345.305 1788.02,365.932 1800.49,386.559 1812.97,276.548 1825.44,352.181 1837.91,317.802 \n",
       "  1850.39,338.429 1862.86,304.051 1875.34,317.802 1887.81,324.678 1900.29,372.808 1912.76,352.181 1925.23,352.181 1937.71,420.938 1950.18,441.565 1962.66,469.067 \n",
       "  1975.13,407.186 1987.61,420.938 2000.08,393.435 2012.55,407.186 2025.03,455.316 2037.5,434.689 2049.98,489.695 2062.45,455.316 2074.93,400.311 2087.4,441.565 \n",
       "  2099.87,414.062 2112.35,420.938 2124.82,462.192 2137.3,448.44 2149.77,427.813 2162.25,420.938 2174.72,427.813 2187.19,427.813 2199.67,407.186 2212.14,359.056 \n",
       "  2224.62,290.3 2237.09,262.797 2249.57,242.17 2262.04,214.667 2274.51,207.791 2286.99,228.418 2299.46,207.791 2311.94,228.418 2324.41,262.797 2336.89,255.921 \n",
       "  2349.36,304.051 2361.83,310.927 2374.31,214.667 2386.78,187.164 2399.26,132.159 2411.73,132.159 2424.21,139.035 2436.68,180.289 2449.15,173.413 2461.63,207.791 \n",
       "  2474.1,214.667 2486.58,173.413 2499.05,235.294 2511.53,317.802 2524,310.927 2536.47,345.305 2548.95,427.813 2561.42,372.808 2573.9,331.554 2586.37,352.181 \n",
       "  2598.85,372.808 2611.32,317.802 2623.79,331.554 2636.27,242.17 2648.74,235.294 2661.22,228.418 2673.69,194.04 2686.17,173.413 2698.64,180.289 2711.11,187.164 \n",
       "  2723.59,159.662 2736.06,97.7804 2748.54,132.159 2761.01,104.656 2773.49,111.532 2785.96,180.289 2798.43,242.17 2810.91,269.673 2823.38,221.543 2835.86,249.045 \n",
       "  2848.33,187.164 2860.81,194.04 2873.28,159.662 2885.75,180.289 2898.23,173.413 2910.7,207.791 2923.18,310.927 2935.65,290.3 2948.13,269.673 2960.6,214.667 \n",
       "  2973.08,228.418 2985.55,207.791 2998.02,262.797 3010.5,297.175 3022.97,324.678 3035.45,365.932 3047.92,283.424 3060.4,262.797 3072.87,207.791 3085.34,207.791 \n",
       "  3097.82,207.791 3110.29,214.667 3122.77,228.418 3135.24,180.289 3147.72,145.91 3160.19,166.537 3172.66,249.045 3185.14,235.294 3197.61,310.927 3210.09,338.429 \n",
       "  3222.56,249.045 3235.04,338.429 3247.51,304.051 3259.98,290.3 3272.46,242.17 3284.93,255.921 3297.41,235.294 3309.88,317.802 3322.36,276.548 3334.83,269.673 \n",
       "  3347.3,262.797 3359.78,304.051 3372.25,269.673 3384.73,262.797 3397.2,297.175 3409.68,249.045 3422.15,269.673 3434.62,255.921 3447.1,228.418 3459.57,255.921 \n",
       "  \n",
       "  \"/>\n",
       "<polyline clip-path=\"url(#clip552)\" style=\"stroke:#ac8d18; stroke-linecap:butt; stroke-linejoin:round; stroke-width:4; stroke-opacity:1; fill:none\" points=\"\n",
       "  353.472,1019.12 365.946,957.241 378.42,902.236 390.895,881.609 403.369,847.23 415.843,847.23 428.318,874.733 440.792,902.236 453.266,874.733 465.74,902.236 \n",
       "  478.215,902.236 490.689,909.111 503.163,888.484 515.638,895.36 528.112,936.614 540.586,929.738 553.061,950.365 565.535,943.49 578.009,881.609 590.483,881.609 \n",
       "  602.958,799.1 615.432,785.349 627.906,799.1 640.381,750.971 652.855,771.598 665.329,764.722 677.804,778.473 690.278,785.349 702.752,744.095 715.226,695.965 \n",
       "  727.701,695.965 740.175,668.462 752.649,613.457 765.124,572.203 777.598,579.078 790.072,530.949 802.547,469.067 815.021,572.203 827.495,565.327 839.969,585.954 \n",
       "  852.444,572.203 864.918,524.073 877.392,537.824 889.867,517.197 902.341,530.949 914.815,530.949 927.29,517.197 939.764,420.938 952.238,434.689 964.712,434.689 \n",
       "  977.187,386.559 989.661,359.056 1002.14,365.932 1014.61,372.808 1027.08,393.435 1039.56,379.684 1052.03,372.808 1064.51,359.056 1076.98,317.802 1089.46,345.305 \n",
       "  1101.93,297.175 1114.4,386.559 1126.88,372.808 1139.35,400.311 1151.83,427.813 1164.3,393.435 1176.78,420.938 1189.25,407.186 1201.72,379.684 1214.2,420.938 \n",
       "  1226.67,427.813 1239.15,489.695 1251.62,482.819 1264.1,469.067 1276.57,455.316 1289.04,482.819 1301.52,482.819 1313.99,448.44 1326.47,441.565 1338.94,400.311 \n",
       "  1351.42,427.813 1363.89,400.311 1376.36,414.062 1388.84,448.44 1401.31,448.44 1413.79,455.316 1426.26,448.44 1438.74,455.316 1451.21,407.186 1463.68,379.684 \n",
       "  1476.16,324.678 1488.63,338.429 1501.11,359.056 1513.58,365.932 1526.06,359.056 1538.53,359.056 1551,379.684 1563.48,386.559 1575.95,379.684 1588.43,400.311 \n",
       "  1600.9,379.684 1613.38,345.305 1625.85,345.305 1638.32,269.673 1650.8,269.673 1663.27,290.3 1675.75,338.429 1688.22,345.305 1700.7,345.305 1713.17,414.062 \n",
       "  1725.64,427.813 1738.12,434.689 1750.59,414.062 1763.07,427.813 1775.54,427.813 1788.02,455.316 1800.49,489.695 1812.97,386.559 1825.44,441.565 1837.91,414.062 \n",
       "  1850.39,434.689 1862.86,400.311 1875.34,427.813 1887.81,434.689 1900.29,482.819 1912.76,462.192 1925.23,455.316 1937.71,503.446 1950.18,530.949 1962.66,544.7 \n",
       "  1975.13,496.57 1987.61,524.073 2000.08,489.695 2012.55,510.322 2025.03,558.451 2037.5,530.949 2049.98,606.581 2062.45,565.327 2074.93,524.073 2087.4,558.451 \n",
       "  2099.87,537.824 2112.35,537.824 2124.82,579.078 2137.3,572.203 2149.77,558.451 2162.25,537.824 2174.72,551.576 2187.19,544.7 2199.67,530.949 2212.14,475.943 \n",
       "  2224.62,393.435 2237.09,365.932 2249.57,352.181 2262.04,297.175 2274.51,283.424 2286.99,310.927 2299.46,304.051 2311.94,324.678 2324.41,365.932 2336.89,379.684 \n",
       "  2349.36,400.311 2361.83,407.186 2374.31,317.802 2386.78,297.175 2399.26,255.921 2411.73,249.045 2424.21,249.045 2436.68,262.797 2449.15,276.548 2461.63,304.051 \n",
       "  2474.1,304.051 2486.58,255.921 2499.05,324.678 2511.53,407.186 2524,393.435 2536.47,427.813 2548.95,517.197 2561.42,462.192 2573.9,434.689 2586.37,434.689 \n",
       "  2598.85,462.192 2611.32,407.186 2623.79,414.062 2636.27,331.554 2648.74,331.554 2661.22,324.678 2673.69,283.424 2686.17,269.673 2698.64,269.673 2711.11,290.3 \n",
       "  2723.59,262.797 2736.06,194.04 2748.54,228.418 2761.01,207.791 2773.49,214.667 2785.96,290.3 2798.43,338.429 2810.91,359.056 2823.38,345.305 2835.86,365.932 \n",
       "  2848.33,304.051 2860.81,297.175 2873.28,276.548 2885.75,297.175 2898.23,290.3 2910.7,317.802 2923.18,420.938 2935.65,434.689 2948.13,427.813 2960.6,359.056 \n",
       "  2973.08,365.932 2985.55,352.181 2998.02,393.435 3010.5,427.813 3022.97,462.192 3035.45,517.197 3047.92,441.565 3060.4,414.062 3072.87,359.056 3085.34,359.056 \n",
       "  3097.82,359.056 3110.29,352.181 3122.77,365.932 3135.24,331.554 3147.72,290.3 3160.19,317.802 3172.66,386.559 3185.14,379.684 3197.61,462.192 3210.09,496.57 \n",
       "  3222.56,434.689 3235.04,503.446 3247.51,475.943 3259.98,455.316 3272.46,407.186 3284.93,400.311 3297.41,372.808 3309.88,462.192 3322.36,434.689 3334.83,420.938 \n",
       "  3347.3,414.062 3359.78,462.192 3372.25,427.813 3384.73,400.311 3397.2,441.565 3409.68,393.435 3422.15,420.938 3434.62,407.186 3447.1,372.808 3459.57,414.062 \n",
       "  \n",
       "  \"/>\n",
       "<path clip-path=\"url(#clip550)\" d=\"\n",
       "M2991.27 417.805 L3443.01 417.805 L3443.01 106.765 L2991.27 106.765  Z\n",
       "  \" fill=\"#ffffff\" fill-rule=\"evenodd\" fill-opacity=\"1\"/>\n",
       "<polyline clip-path=\"url(#clip550)\" style=\"stroke:#000000; stroke-linecap:butt; stroke-linejoin:round; stroke-width:4; stroke-opacity:1; fill:none\" points=\"\n",
       "  2991.27,417.805 3443.01,417.805 3443.01,106.765 2991.27,106.765 2991.27,417.805 \n",
       "  \"/>\n",
       "<polyline clip-path=\"url(#clip550)\" style=\"stroke:#009af9; stroke-linecap:butt; stroke-linejoin:round; stroke-width:4; stroke-opacity:1; fill:none\" points=\"\n",
       "  3027.86,158.605 3247.36,158.605 \n",
       "  \"/>\n",
       "<path clip-path=\"url(#clip550)\" d=\"M3285.4 141.325 L3303.75 141.325 L3303.75 145.26 L3289.68 145.26 L3289.68 153.732 Q3290.7 153.385 3291.72 153.223 Q3292.73 153.038 3293.75 153.038 Q3299.54 153.038 3302.92 156.209 Q3306.3 159.38 3306.3 164.797 Q3306.3 170.375 3302.83 173.477 Q3299.36 176.556 3293.04 176.556 Q3290.86 176.556 3288.59 176.186 Q3286.35 175.815 3283.94 175.074 L3283.94 170.375 Q3286.02 171.51 3288.24 172.065 Q3290.47 172.621 3292.94 172.621 Q3296.95 172.621 3299.29 170.514 Q3301.62 168.408 3301.62 164.797 Q3301.62 161.186 3299.29 159.079 Q3296.95 156.973 3292.94 156.973 Q3291.07 156.973 3289.19 157.389 Q3287.34 157.806 3285.4 158.686 L3285.4 141.325 Z\" fill=\"#000000\" fill-rule=\"evenodd\" fill-opacity=\"1\" /><path clip-path=\"url(#clip550)\" d=\"M3310.35 141.325 L3315.37 141.325 L3324.96 155.538 L3334.47 141.325 L3339.49 141.325 L3327.27 159.426 L3327.27 175.885 L3322.57 175.885 L3322.57 159.426 L3310.35 141.325 Z\" fill=\"#000000\" fill-rule=\"evenodd\" fill-opacity=\"1\" /><polyline clip-path=\"url(#clip550)\" style=\"stroke:#e26f46; stroke-linecap:butt; stroke-linejoin:round; stroke-width:4; stroke-opacity:1; fill:none\" points=\"\n",
       "  3027.86,210.445 3247.36,210.445 \n",
       "  \"/>\n",
       "<path clip-path=\"url(#clip550)\" d=\"M3283.94 193.165 L3306.16 193.165 L3306.16 195.155 L3293.61 227.725 L3288.73 227.725 L3300.54 197.1 L3283.94 197.1 L3283.94 193.165 Z\" fill=\"#000000\" fill-rule=\"evenodd\" fill-opacity=\"1\" /><path clip-path=\"url(#clip550)\" d=\"M3310.12 193.165 L3315.14 193.165 L3324.73 207.378 L3334.24 193.165 L3339.26 193.165 L3327.04 211.266 L3327.04 227.725 L3322.34 227.725 L3322.34 211.266 L3310.12 193.165 Z\" fill=\"#000000\" fill-rule=\"evenodd\" fill-opacity=\"1\" /><polyline clip-path=\"url(#clip550)\" style=\"stroke:#3da44d; stroke-linecap:butt; stroke-linejoin:round; stroke-width:4; stroke-opacity:1; fill:none\" points=\"\n",
       "  3027.86,262.285 3247.36,262.285 \n",
       "  \"/>\n",
       "<path clip-path=\"url(#clip550)\" d=\"M3284.61 275.629 L3292.25 275.629 L3292.25 249.264 L3283.94 250.931 L3283.94 246.671 L3292.2 245.005 L3296.88 245.005 L3296.88 275.629 L3304.52 275.629 L3304.52 279.565 L3284.61 279.565 L3284.61 275.629 Z\" fill=\"#000000\" fill-rule=\"evenodd\" fill-opacity=\"1\" /><path clip-path=\"url(#clip550)\" d=\"M3323.96 248.083 Q3320.35 248.083 3318.52 251.648 Q3316.72 255.19 3316.72 262.319 Q3316.72 269.426 3318.52 272.991 Q3320.35 276.532 3323.96 276.532 Q3327.6 276.532 3329.4 272.991 Q3331.23 269.426 3331.23 262.319 Q3331.23 255.19 3329.4 251.648 Q3327.6 248.083 3323.96 248.083 M3323.96 244.38 Q3329.77 244.38 3332.83 248.986 Q3335.91 253.569 3335.91 262.319 Q3335.91 271.046 3332.83 275.653 Q3329.77 280.236 3323.96 280.236 Q3318.15 280.236 3315.07 275.653 Q3312.02 271.046 3312.02 262.319 Q3312.02 253.569 3315.07 248.986 Q3318.15 244.38 3323.96 244.38 Z\" fill=\"#000000\" fill-rule=\"evenodd\" fill-opacity=\"1\" /><path clip-path=\"url(#clip550)\" d=\"M3338.96 245.005 L3343.98 245.005 L3353.57 259.218 L3363.08 245.005 L3368.1 245.005 L3355.88 263.106 L3355.88 279.565 L3351.18 279.565 L3351.18 263.106 L3338.96 245.005 Z\" fill=\"#000000\" fill-rule=\"evenodd\" fill-opacity=\"1\" /><polyline clip-path=\"url(#clip550)\" style=\"stroke:#c271d2; stroke-linecap:butt; stroke-linejoin:round; stroke-width:4; stroke-opacity:1; fill:none\" points=\"\n",
       "  3027.86,314.125 3247.36,314.125 \n",
       "  \"/>\n",
       "<path clip-path=\"url(#clip550)\" d=\"M3289.56 327.469 L3305.88 327.469 L3305.88 331.405 L3283.94 331.405 L3283.94 327.469 Q3286.6 324.715 3291.18 320.085 Q3295.79 315.432 3296.97 314.09 Q3299.22 311.567 3300.1 309.831 Q3301 308.071 3301 306.382 Q3301 303.627 3299.05 301.891 Q3297.13 300.155 3294.03 300.155 Q3291.83 300.155 3289.38 300.919 Q3286.95 301.683 3284.17 303.233 L3284.17 298.511 Q3286.99 297.377 3289.45 296.798 Q3291.9 296.22 3293.94 296.22 Q3299.31 296.22 3302.5 298.905 Q3305.7 301.59 3305.7 306.081 Q3305.7 308.21 3304.89 310.132 Q3304.1 312.03 3301.99 314.622 Q3301.42 315.294 3298.31 318.511 Q3295.21 321.706 3289.56 327.469 Z\" fill=\"#000000\" fill-rule=\"evenodd\" fill-opacity=\"1\" /><path clip-path=\"url(#clip550)\" d=\"M3325.7 299.923 Q3322.09 299.923 3320.26 303.488 Q3318.45 307.03 3318.45 314.159 Q3318.45 321.266 3320.26 324.831 Q3322.09 328.372 3325.7 328.372 Q3329.33 328.372 3331.14 324.831 Q3332.97 321.266 3332.97 314.159 Q3332.97 307.03 3331.14 303.488 Q3329.33 299.923 3325.7 299.923 M3325.7 296.22 Q3331.51 296.22 3334.56 300.826 Q3337.64 305.409 3337.64 314.159 Q3337.64 322.886 3334.56 327.493 Q3331.51 332.076 3325.7 332.076 Q3319.89 332.076 3316.81 327.493 Q3313.75 322.886 3313.75 314.159 Q3313.75 305.409 3316.81 300.826 Q3319.89 296.22 3325.7 296.22 Z\" fill=\"#000000\" fill-rule=\"evenodd\" fill-opacity=\"1\" /><path clip-path=\"url(#clip550)\" d=\"M3340.7 296.845 L3345.72 296.845 L3355.3 311.058 L3364.82 296.845 L3369.84 296.845 L3357.62 314.946 L3357.62 331.405 L3352.92 331.405 L3352.92 314.946 L3340.7 296.845 Z\" fill=\"#000000\" fill-rule=\"evenodd\" fill-opacity=\"1\" /><polyline clip-path=\"url(#clip550)\" style=\"stroke:#ac8d18; stroke-linecap:butt; stroke-linejoin:round; stroke-width:4; stroke-opacity:1; fill:none\" points=\"\n",
       "  3027.86,365.965 3247.36,365.965 \n",
       "  \"/>\n",
       "<path clip-path=\"url(#clip550)\" d=\"M3299.56 364.61 Q3302.92 365.328 3304.8 367.597 Q3306.69 369.865 3306.69 373.198 Q3306.69 378.314 3303.17 381.115 Q3299.66 383.916 3293.17 383.916 Q3291 383.916 3288.68 383.476 Q3286.39 383.059 3283.94 382.203 L3283.94 377.689 Q3285.88 378.823 3288.2 379.402 Q3290.51 379.981 3293.04 379.981 Q3297.43 379.981 3299.73 378.245 Q3302.04 376.509 3302.04 373.198 Q3302.04 370.143 3299.89 368.43 Q3297.76 366.694 3293.94 366.694 L3289.91 366.694 L3289.91 362.851 L3294.12 362.851 Q3297.57 362.851 3299.4 361.485 Q3301.23 360.097 3301.23 357.504 Q3301.23 354.842 3299.33 353.43 Q3297.46 351.995 3293.94 351.995 Q3292.02 351.995 3289.82 352.411 Q3287.62 352.828 3284.98 353.708 L3284.98 349.541 Q3287.64 348.8 3289.96 348.43 Q3292.3 348.06 3294.36 348.06 Q3299.68 348.06 3302.78 350.49 Q3305.88 352.898 3305.88 357.018 Q3305.88 359.888 3304.24 361.879 Q3302.6 363.847 3299.56 364.61 Z\" fill=\"#000000\" fill-rule=\"evenodd\" fill-opacity=\"1\" /><path clip-path=\"url(#clip550)\" d=\"M3325.56 351.763 Q3321.95 351.763 3320.12 355.328 Q3318.31 358.87 3318.31 365.999 Q3318.31 373.106 3320.12 376.671 Q3321.95 380.212 3325.56 380.212 Q3329.19 380.212 3331 376.671 Q3332.83 373.106 3332.83 365.999 Q3332.83 358.87 3331 355.328 Q3329.19 351.763 3325.56 351.763 M3325.56 348.06 Q3331.37 348.06 3334.42 352.666 Q3337.5 357.249 3337.5 365.999 Q3337.5 374.726 3334.42 379.333 Q3331.37 383.916 3325.56 383.916 Q3319.75 383.916 3316.67 379.333 Q3313.61 374.726 3313.61 365.999 Q3313.61 357.249 3316.67 352.666 Q3319.75 348.06 3325.56 348.06 Z\" fill=\"#000000\" fill-rule=\"evenodd\" fill-opacity=\"1\" /><path clip-path=\"url(#clip550)\" d=\"M3340.56 348.685 L3345.58 348.685 L3355.17 362.898 L3364.68 348.685 L3369.7 348.685 L3357.48 366.786 L3357.48 383.245 L3352.78 383.245 L3352.78 366.786 L3340.56 348.685 Z\" fill=\"#000000\" fill-rule=\"evenodd\" fill-opacity=\"1\" /></svg>\n"
      ]
     },
     "execution_count": 2,
     "metadata": {},
     "output_type": "execute_result"
    }
   ],
   "source": [
    "include(\"helpers.jl\"); using Plots\n",
    "\n",
    "s = tnf\n",
    "lb = [\"5Y\", \"7Y\", \"10Y\", \"20Y\", \"30Y\"]; s_train, s_test, p = h1(s, lb, 1); p"
   ]
  },
  {
   "cell_type": "markdown",
   "id": "extra-novel",
   "metadata": {},
   "source": [
    "I will be analysing correlation across maturities in `Treas TS Analysis II PIII`, where I will be taking in-depth analysis on correlation, residuals and heteroscedastic models."
   ]
  },
  {
   "cell_type": "markdown",
   "id": "gorgeous-empire",
   "metadata": {},
   "source": [
    "### Differencing Time Series"
   ]
  },
  {
   "cell_type": "markdown",
   "id": "sapphire-butter",
   "metadata": {},
   "source": [
    "Earlier, I had taken first-differences without first taking the **logarithm** of the yield curve rates, but if I want to use the Akiake Information Criterion, this would not work, because the $\\text{AIC}$ applies a log-likelihood function to the model."
   ]
  },
  {
   "cell_type": "markdown",
   "id": "quick-stopping",
   "metadata": {},
   "source": [
    "I am taking **first-differences of the log-transformed** time series data, choosing a lag of one (1) for marginal differences. This will not tell me whether or not the logarithm of the data is normally distributed but I would know whether or not the values themselves are normally distributed, using a **J-B Test**."
   ]
  },
  {
   "cell_type": "markdown",
   "id": "surprising-prairie",
   "metadata": {},
   "source": [
    "Before I log-transform the inflation series, I need to test for negative values, given that logarithms do not work for negative values."
   ]
  },
  {
   "cell_type": "code",
   "execution_count": 3,
   "id": "together-equation",
   "metadata": {},
   "outputs": [
    {
     "data": {
      "text/plain": [
       "5-element Array{Int64,1}:\n",
       " 37\n",
       " 21\n",
       "  1\n",
       "  0\n",
       "  0"
      ]
     },
     "execution_count": 3,
     "metadata": {},
     "output_type": "execute_result"
    }
   ],
   "source": [
    "h5(s_train)"
   ]
  },
  {
   "cell_type": "markdown",
   "id": "17fef6af-b846-4189-ab50-e6ccbdc07326",
   "metadata": {},
   "source": [
    "Since I do find negative values in the inflation rates (as was discussed in the previous notebook: `Treas Exploratory Analysis`, I will need to replace all rates with $1 + R$, as this will help me work with logarithms, as I can subtract one after performing a calculation to get the original rates back."
   ]
  },
  {
   "cell_type": "code",
   "execution_count": 4,
   "id": "1ebadef3-7662-4a55-a0a3-093336f184e5",
   "metadata": {},
   "outputs": [
    {
     "data": {
      "text/html": [
       "<div class=\"data-frame\"><p>250 rows × 5 columns</p><table class=\"data-frame\"><thead><tr><th></th><th>x5</th><th>x7</th><th>x10</th><th>x20</th><th>x30</th></tr><tr><th></th><th title=\"Float64\">Float64</th><th title=\"Float64\">Float64</th><th title=\"Float64\">Float64</th><th title=\"Float64\">Float64</th><th title=\"Float64\">Float64</th></tr></thead><tbody><tr><th>1</th><td>0.36</td><td>0.66</td><td>0.97</td><td>1.39</td><td>1.47</td></tr><tr><th>2</th><td>0.5</td><td>0.78</td><td>1.08</td><td>1.48</td><td>1.56</td></tr><tr><th>3</th><td>0.52</td><td>0.83</td><td>1.13</td><td>1.55</td><td>1.64</td></tr><tr><th>4</th><td>0.54</td><td>0.86</td><td>1.16</td><td>1.58</td><td>1.67</td></tr><tr><th>5</th><td>0.57</td><td>0.9</td><td>1.22</td><td>1.64</td><td>1.72</td></tr><tr><th>6</th><td>0.61</td><td>0.94</td><td>1.24</td><td>1.63</td><td>1.72</td></tr><tr><th>7</th><td>0.59</td><td>0.92</td><td>1.22</td><td>1.6</td><td>1.68</td></tr><tr><th>8</th><td>0.62</td><td>0.94</td><td>1.22</td><td>1.58</td><td>1.64</td></tr><tr><th>9</th><td>0.6</td><td>0.94</td><td>1.25</td><td>1.62</td><td>1.68</td></tr><tr><th>10</th><td>0.56</td><td>0.88</td><td>1.2</td><td>1.58</td><td>1.64</td></tr><tr><th>11</th><td>0.55</td><td>0.88</td><td>1.19</td><td>1.59</td><td>1.64</td></tr><tr><th>12</th><td>0.51</td><td>0.83</td><td>1.14</td><td>1.55</td><td>1.63</td></tr><tr><th>13</th><td>0.5</td><td>0.84</td><td>1.16</td><td>1.58</td><td>1.66</td></tr><tr><th>14</th><td>0.5</td><td>0.83</td><td>1.15</td><td>1.57</td><td>1.65</td></tr><tr><th>15</th><td>0.47</td><td>0.78</td><td>1.09</td><td>1.51</td><td>1.59</td></tr><tr><th>16</th><td>0.49</td><td>0.8</td><td>1.1</td><td>1.52</td><td>1.6</td></tr><tr><th>17</th><td>0.46</td><td>0.77</td><td>1.07</td><td>1.49</td><td>1.57</td></tr><tr><th>18</th><td>0.46</td><td>0.79</td><td>1.1</td><td>1.51</td><td>1.58</td></tr><tr><th>19</th><td>0.52</td><td>0.86</td><td>1.17</td><td>1.59</td><td>1.67</td></tr><tr><th>20</th><td>0.61</td><td>0.93</td><td>1.23</td><td>1.63</td><td>1.67</td></tr><tr><th>21</th><td>0.72</td><td>1.04</td><td>1.34</td><td>1.75</td><td>1.79</td></tr><tr><th>22</th><td>0.67</td><td>1.01</td><td>1.33</td><td>1.75</td><td>1.81</td></tr><tr><th>23</th><td>0.65</td><td>0.98</td><td>1.29</td><td>1.74</td><td>1.79</td></tr><tr><th>24</th><td>0.68</td><td>1.02</td><td>1.35</td><td>1.8</td><td>1.86</td></tr><tr><th>25</th><td>0.69</td><td>1.02</td><td>1.35</td><td>1.78</td><td>1.83</td></tr><tr><th>26</th><td>0.71</td><td>1.04</td><td>1.37</td><td>1.8</td><td>1.84</td></tr><tr><th>27</th><td>0.71</td><td>1.03</td><td>1.34</td><td>1.78</td><td>1.82</td></tr><tr><th>28</th><td>0.68</td><td>1.01</td><td>1.33</td><td>1.78</td><td>1.81</td></tr><tr><th>29</th><td>0.72</td><td>1.04</td><td>1.35</td><td>1.83</td><td>1.87</td></tr><tr><th>30</th><td>0.8</td><td>1.14</td><td>1.45</td><td>1.92</td><td>1.94</td></tr><tr><th>&vellip;</th><td>&vellip;</td><td>&vellip;</td><td>&vellip;</td><td>&vellip;</td><td>&vellip;</td></tr></tbody></table></div>"
      ],
      "text/latex": [
       "\\begin{tabular}{r|ccccc}\n",
       "\t& x5 & x7 & x10 & x20 & x30\\\\\n",
       "\t\\hline\n",
       "\t& Float64 & Float64 & Float64 & Float64 & Float64\\\\\n",
       "\t\\hline\n",
       "\t1 & 0.36 & 0.66 & 0.97 & 1.39 & 1.47 \\\\\n",
       "\t2 & 0.5 & 0.78 & 1.08 & 1.48 & 1.56 \\\\\n",
       "\t3 & 0.52 & 0.83 & 1.13 & 1.55 & 1.64 \\\\\n",
       "\t4 & 0.54 & 0.86 & 1.16 & 1.58 & 1.67 \\\\\n",
       "\t5 & 0.57 & 0.9 & 1.22 & 1.64 & 1.72 \\\\\n",
       "\t6 & 0.61 & 0.94 & 1.24 & 1.63 & 1.72 \\\\\n",
       "\t7 & 0.59 & 0.92 & 1.22 & 1.6 & 1.68 \\\\\n",
       "\t8 & 0.62 & 0.94 & 1.22 & 1.58 & 1.64 \\\\\n",
       "\t9 & 0.6 & 0.94 & 1.25 & 1.62 & 1.68 \\\\\n",
       "\t10 & 0.56 & 0.88 & 1.2 & 1.58 & 1.64 \\\\\n",
       "\t11 & 0.55 & 0.88 & 1.19 & 1.59 & 1.64 \\\\\n",
       "\t12 & 0.51 & 0.83 & 1.14 & 1.55 & 1.63 \\\\\n",
       "\t13 & 0.5 & 0.84 & 1.16 & 1.58 & 1.66 \\\\\n",
       "\t14 & 0.5 & 0.83 & 1.15 & 1.57 & 1.65 \\\\\n",
       "\t15 & 0.47 & 0.78 & 1.09 & 1.51 & 1.59 \\\\\n",
       "\t16 & 0.49 & 0.8 & 1.1 & 1.52 & 1.6 \\\\\n",
       "\t17 & 0.46 & 0.77 & 1.07 & 1.49 & 1.57 \\\\\n",
       "\t18 & 0.46 & 0.79 & 1.1 & 1.51 & 1.58 \\\\\n",
       "\t19 & 0.52 & 0.86 & 1.17 & 1.59 & 1.67 \\\\\n",
       "\t20 & 0.61 & 0.93 & 1.23 & 1.63 & 1.67 \\\\\n",
       "\t21 & 0.72 & 1.04 & 1.34 & 1.75 & 1.79 \\\\\n",
       "\t22 & 0.67 & 1.01 & 1.33 & 1.75 & 1.81 \\\\\n",
       "\t23 & 0.65 & 0.98 & 1.29 & 1.74 & 1.79 \\\\\n",
       "\t24 & 0.68 & 1.02 & 1.35 & 1.8 & 1.86 \\\\\n",
       "\t25 & 0.69 & 1.02 & 1.35 & 1.78 & 1.83 \\\\\n",
       "\t26 & 0.71 & 1.04 & 1.37 & 1.8 & 1.84 \\\\\n",
       "\t27 & 0.71 & 1.03 & 1.34 & 1.78 & 1.82 \\\\\n",
       "\t28 & 0.68 & 1.01 & 1.33 & 1.78 & 1.81 \\\\\n",
       "\t29 & 0.72 & 1.04 & 1.35 & 1.83 & 1.87 \\\\\n",
       "\t30 & 0.8 & 1.14 & 1.45 & 1.92 & 1.94 \\\\\n",
       "\t$\\dots$ & $\\dots$ & $\\dots$ & $\\dots$ & $\\dots$ & $\\dots$ \\\\\n",
       "\\end{tabular}\n"
      ],
      "text/plain": [
       "\u001b[1m250×5 DataFrame\u001b[0m\n",
       "\u001b[1m Row \u001b[0m│\u001b[1m x5      \u001b[0m\u001b[1m x7      \u001b[0m\u001b[1m x10     \u001b[0m\u001b[1m x20     \u001b[0m\u001b[1m x30     \u001b[0m\n",
       "\u001b[1m     \u001b[0m│\u001b[90m Float64 \u001b[0m\u001b[90m Float64 \u001b[0m\u001b[90m Float64 \u001b[0m\u001b[90m Float64 \u001b[0m\u001b[90m Float64 \u001b[0m\n",
       "─────┼─────────────────────────────────────────────\n",
       "   1 │    0.36     0.66     0.97     1.39     1.47\n",
       "   2 │    0.5      0.78     1.08     1.48     1.56\n",
       "   3 │    0.52     0.83     1.13     1.55     1.64\n",
       "   4 │    0.54     0.86     1.16     1.58     1.67\n",
       "   5 │    0.57     0.9      1.22     1.64     1.72\n",
       "   6 │    0.61     0.94     1.24     1.63     1.72\n",
       "   7 │    0.59     0.92     1.22     1.6      1.68\n",
       "   8 │    0.62     0.94     1.22     1.58     1.64\n",
       "   9 │    0.6      0.94     1.25     1.62     1.68\n",
       "  10 │    0.56     0.88     1.2      1.58     1.64\n",
       "  11 │    0.55     0.88     1.19     1.59     1.64\n",
       "  ⋮  │    ⋮        ⋮        ⋮        ⋮        ⋮\n",
       " 241 │    2.13     2.27     2.3      2.57     2.35\n",
       " 242 │    2.12     2.24     2.25     2.51     2.28\n",
       " 243 │    2.12     2.25     2.28     2.56     2.33\n",
       " 244 │    2.18     2.3      2.33     2.57     2.37\n",
       " 245 │    2.15     2.27     2.28     2.52     2.31\n",
       " 246 │    2.2      2.33     2.35     2.59     2.38\n",
       " 247 │    2.2      2.31     2.32     2.56     2.34\n",
       " 248 │    2.23     2.33     2.34     2.58     2.36\n",
       " 249 │    2.27     2.39     2.4      2.62     2.41\n",
       " 250 │    2.26     2.37     2.37     2.58     2.35\n",
       "\u001b[36m                                   229 rows omitted\u001b[0m"
      ]
     },
     "execution_count": 4,
     "metadata": {},
     "output_type": "execute_result"
    }
   ],
   "source": [
    "s_train = 1 .+ s_train"
   ]
  },
  {
   "cell_type": "markdown",
   "id": "living-durham",
   "metadata": {},
   "source": [
    "now take the first-differences of log-transformed inflation rates, and plot to see what it looks like."
   ]
  },
  {
   "cell_type": "code",
   "execution_count": 5,
   "id": "continuous-commitment",
   "metadata": {},
   "outputs": [
    {
     "data": {
      "image/svg+xml": [
       "<?xml version=\"1.0\" encoding=\"utf-8\"?>\n",
       "<svg xmlns=\"http://www.w3.org/2000/svg\" xmlns:xlink=\"http://www.w3.org/1999/xlink\" width=\"900\" height=\"500\" viewBox=\"0 0 3600 2000\">\n",
       "<defs>\n",
       "  <clipPath id=\"clip590\">\n",
       "    <rect x=\"0\" y=\"0\" width=\"3600\" height=\"2000\"/>\n",
       "  </clipPath>\n",
       "</defs>\n",
       "<path clip-path=\"url(#clip590)\" d=\"\n",
       "M0 2000 L3600 2000 L3600 0 L0 0  Z\n",
       "  \" fill=\"#ffffff\" fill-rule=\"evenodd\" fill-opacity=\"1\"/>\n",
       "<defs>\n",
       "  <clipPath id=\"clip591\">\n",
       "    <rect x=\"720\" y=\"0\" width=\"2521\" height=\"2000\"/>\n",
       "  </clipPath>\n",
       "</defs>\n",
       "<path clip-path=\"url(#clip590)\" d=\"\n",
       "M168.112 1888.21 L3552.76 1888.21 L3552.76 113.392 L168.112 113.392  Z\n",
       "  \" fill=\"#ffffff\" fill-rule=\"evenodd\" fill-opacity=\"1\"/>\n",
       "<defs>\n",
       "  <clipPath id=\"clip592\">\n",
       "    <rect x=\"168\" y=\"113\" width=\"3386\" height=\"1776\"/>\n",
       "  </clipPath>\n",
       "</defs>\n",
       "<polyline clip-path=\"url(#clip592)\" style=\"stroke:#000000; stroke-linecap:butt; stroke-linejoin:round; stroke-width:2; stroke-opacity:0.1; fill:none\" points=\"\n",
       "  251.029,1888.21 251.029,113.392 \n",
       "  \"/>\n",
       "<polyline clip-path=\"url(#clip592)\" style=\"stroke:#000000; stroke-linecap:butt; stroke-linejoin:round; stroke-width:2; stroke-opacity:0.1; fill:none\" points=\"\n",
       "  894.791,1888.21 894.791,113.392 \n",
       "  \"/>\n",
       "<polyline clip-path=\"url(#clip592)\" style=\"stroke:#000000; stroke-linecap:butt; stroke-linejoin:round; stroke-width:2; stroke-opacity:0.1; fill:none\" points=\"\n",
       "  1538.55,1888.21 1538.55,113.392 \n",
       "  \"/>\n",
       "<polyline clip-path=\"url(#clip592)\" style=\"stroke:#000000; stroke-linecap:butt; stroke-linejoin:round; stroke-width:2; stroke-opacity:0.1; fill:none\" points=\"\n",
       "  2182.32,1888.21 2182.32,113.392 \n",
       "  \"/>\n",
       "<polyline clip-path=\"url(#clip592)\" style=\"stroke:#000000; stroke-linecap:butt; stroke-linejoin:round; stroke-width:2; stroke-opacity:0.1; fill:none\" points=\"\n",
       "  2826.08,1888.21 2826.08,113.392 \n",
       "  \"/>\n",
       "<polyline clip-path=\"url(#clip592)\" style=\"stroke:#000000; stroke-linecap:butt; stroke-linejoin:round; stroke-width:2; stroke-opacity:0.1; fill:none\" points=\"\n",
       "  3469.84,1888.21 3469.84,113.392 \n",
       "  \"/>\n",
       "<polyline clip-path=\"url(#clip590)\" style=\"stroke:#000000; stroke-linecap:butt; stroke-linejoin:round; stroke-width:4; stroke-opacity:1; fill:none\" points=\"\n",
       "  168.112,1888.21 3552.76,1888.21 \n",
       "  \"/>\n",
       "<polyline clip-path=\"url(#clip590)\" style=\"stroke:#000000; stroke-linecap:butt; stroke-linejoin:round; stroke-width:4; stroke-opacity:1; fill:none\" points=\"\n",
       "  251.029,1888.21 251.029,1869.31 \n",
       "  \"/>\n",
       "<polyline clip-path=\"url(#clip590)\" style=\"stroke:#000000; stroke-linecap:butt; stroke-linejoin:round; stroke-width:4; stroke-opacity:1; fill:none\" points=\"\n",
       "  894.791,1888.21 894.791,1869.31 \n",
       "  \"/>\n",
       "<polyline clip-path=\"url(#clip590)\" style=\"stroke:#000000; stroke-linecap:butt; stroke-linejoin:round; stroke-width:4; stroke-opacity:1; fill:none\" points=\"\n",
       "  1538.55,1888.21 1538.55,1869.31 \n",
       "  \"/>\n",
       "<polyline clip-path=\"url(#clip590)\" style=\"stroke:#000000; stroke-linecap:butt; stroke-linejoin:round; stroke-width:4; stroke-opacity:1; fill:none\" points=\"\n",
       "  2182.32,1888.21 2182.32,1869.31 \n",
       "  \"/>\n",
       "<polyline clip-path=\"url(#clip590)\" style=\"stroke:#000000; stroke-linecap:butt; stroke-linejoin:round; stroke-width:4; stroke-opacity:1; fill:none\" points=\"\n",
       "  2826.08,1888.21 2826.08,1869.31 \n",
       "  \"/>\n",
       "<polyline clip-path=\"url(#clip590)\" style=\"stroke:#000000; stroke-linecap:butt; stroke-linejoin:round; stroke-width:4; stroke-opacity:1; fill:none\" points=\"\n",
       "  3469.84,1888.21 3469.84,1869.31 \n",
       "  \"/>\n",
       "<path clip-path=\"url(#clip590)\" d=\"M251.029 1927 Q247.418 1927 245.589 1930.56 Q243.783 1934.11 243.783 1941.23 Q243.783 1948.34 245.589 1951.91 Q247.418 1955.45 251.029 1955.45 Q254.663 1955.45 256.468 1951.91 Q258.297 1948.34 258.297 1941.23 Q258.297 1934.11 256.468 1930.56 Q254.663 1927 251.029 1927 M251.029 1923.29 Q256.839 1923.29 259.894 1927.9 Q262.973 1932.48 262.973 1941.23 Q262.973 1949.96 259.894 1954.57 Q256.839 1959.15 251.029 1959.15 Q245.219 1959.15 242.14 1954.57 Q239.084 1949.96 239.084 1941.23 Q239.084 1932.48 242.14 1927.9 Q245.219 1923.29 251.029 1923.29 Z\" fill=\"#000000\" fill-rule=\"evenodd\" fill-opacity=\"1\" /><path clip-path=\"url(#clip590)\" d=\"M869.49 1923.92 L887.846 1923.92 L887.846 1927.86 L873.772 1927.86 L873.772 1936.33 Q874.791 1935.98 875.809 1935.82 Q876.828 1935.63 877.846 1935.63 Q883.633 1935.63 887.013 1938.8 Q890.393 1941.98 890.393 1947.39 Q890.393 1952.97 886.92 1956.07 Q883.448 1959.15 877.129 1959.15 Q874.953 1959.15 872.684 1958.78 Q870.439 1958.41 868.032 1957.67 L868.032 1952.97 Q870.115 1954.1 872.337 1954.66 Q874.559 1955.22 877.036 1955.22 Q881.041 1955.22 883.379 1953.11 Q885.717 1951 885.717 1947.39 Q885.717 1943.78 883.379 1941.67 Q881.041 1939.57 877.036 1939.57 Q875.161 1939.57 873.286 1939.98 Q871.434 1940.4 869.49 1941.28 L869.49 1923.92 Z\" fill=\"#000000\" fill-rule=\"evenodd\" fill-opacity=\"1\" /><path clip-path=\"url(#clip590)\" d=\"M909.606 1927 Q905.994 1927 904.166 1930.56 Q902.36 1934.11 902.36 1941.23 Q902.36 1948.34 904.166 1951.91 Q905.994 1955.45 909.606 1955.45 Q913.24 1955.45 915.045 1951.91 Q916.874 1948.34 916.874 1941.23 Q916.874 1934.11 915.045 1930.56 Q913.24 1927 909.606 1927 M909.606 1923.29 Q915.416 1923.29 918.471 1927.9 Q921.55 1932.48 921.55 1941.23 Q921.55 1949.96 918.471 1954.57 Q915.416 1959.15 909.606 1959.15 Q903.795 1959.15 900.717 1954.57 Q897.661 1949.96 897.661 1941.23 Q897.661 1932.48 900.717 1927.9 Q903.795 1923.29 909.606 1923.29 Z\" fill=\"#000000\" fill-rule=\"evenodd\" fill-opacity=\"1\" /><path clip-path=\"url(#clip590)\" d=\"M1498.16 1954.54 L1505.8 1954.54 L1505.8 1928.18 L1497.49 1929.85 L1497.49 1925.59 L1505.75 1923.92 L1510.43 1923.92 L1510.43 1954.54 L1518.07 1954.54 L1518.07 1958.48 L1498.16 1958.48 L1498.16 1954.54 Z\" fill=\"#000000\" fill-rule=\"evenodd\" fill-opacity=\"1\" /><path clip-path=\"url(#clip590)\" d=\"M1537.51 1927 Q1533.9 1927 1532.07 1930.56 Q1530.27 1934.11 1530.27 1941.23 Q1530.27 1948.34 1532.07 1951.91 Q1533.9 1955.45 1537.51 1955.45 Q1541.15 1955.45 1542.95 1951.91 Q1544.78 1948.34 1544.78 1941.23 Q1544.78 1934.11 1542.95 1930.56 Q1541.15 1927 1537.51 1927 M1537.51 1923.29 Q1543.32 1923.29 1546.38 1927.9 Q1549.46 1932.48 1549.46 1941.23 Q1549.46 1949.96 1546.38 1954.57 Q1543.32 1959.15 1537.51 1959.15 Q1531.7 1959.15 1528.62 1954.57 Q1525.57 1949.96 1525.57 1941.23 Q1525.57 1932.48 1528.62 1927.9 Q1531.7 1923.29 1537.51 1923.29 Z\" fill=\"#000000\" fill-rule=\"evenodd\" fill-opacity=\"1\" /><path clip-path=\"url(#clip590)\" d=\"M1567.67 1927 Q1564.06 1927 1562.23 1930.56 Q1560.43 1934.11 1560.43 1941.23 Q1560.43 1948.34 1562.23 1951.91 Q1564.06 1955.45 1567.67 1955.45 Q1571.31 1955.45 1573.11 1951.91 Q1574.94 1948.34 1574.94 1941.23 Q1574.94 1934.11 1573.11 1930.56 Q1571.31 1927 1567.67 1927 M1567.67 1923.29 Q1573.48 1923.29 1576.54 1927.9 Q1579.62 1932.48 1579.62 1941.23 Q1579.62 1949.96 1576.54 1954.57 Q1573.48 1959.15 1567.67 1959.15 Q1561.86 1959.15 1558.78 1954.57 Q1555.73 1949.96 1555.73 1941.23 Q1555.73 1932.48 1558.78 1927.9 Q1561.86 1923.29 1567.67 1923.29 Z\" fill=\"#000000\" fill-rule=\"evenodd\" fill-opacity=\"1\" /><path clip-path=\"url(#clip590)\" d=\"M2141.92 1954.54 L2149.56 1954.54 L2149.56 1928.18 L2141.25 1929.85 L2141.25 1925.59 L2149.51 1923.92 L2154.19 1923.92 L2154.19 1954.54 L2161.83 1954.54 L2161.83 1958.48 L2141.92 1958.48 L2141.92 1954.54 Z\" fill=\"#000000\" fill-rule=\"evenodd\" fill-opacity=\"1\" /><path clip-path=\"url(#clip590)\" d=\"M2171.32 1923.92 L2189.68 1923.92 L2189.68 1927.86 L2175.6 1927.86 L2175.6 1936.33 Q2176.62 1935.98 2177.64 1935.82 Q2178.66 1935.63 2179.68 1935.63 Q2185.46 1935.63 2188.84 1938.8 Q2192.22 1941.98 2192.22 1947.39 Q2192.22 1952.97 2188.75 1956.07 Q2185.28 1959.15 2178.96 1959.15 Q2176.78 1959.15 2174.51 1958.78 Q2172.27 1958.41 2169.86 1957.67 L2169.86 1952.97 Q2171.94 1954.1 2174.17 1954.66 Q2176.39 1955.22 2178.87 1955.22 Q2182.87 1955.22 2185.21 1953.11 Q2187.55 1951 2187.55 1947.39 Q2187.55 1943.78 2185.21 1941.67 Q2182.87 1939.57 2178.87 1939.57 Q2176.99 1939.57 2175.12 1939.98 Q2173.26 1940.4 2171.32 1941.28 L2171.32 1923.92 Z\" fill=\"#000000\" fill-rule=\"evenodd\" fill-opacity=\"1\" /><path clip-path=\"url(#clip590)\" d=\"M2211.44 1927 Q2207.82 1927 2206 1930.56 Q2204.19 1934.11 2204.19 1941.23 Q2204.19 1948.34 2206 1951.91 Q2207.82 1955.45 2211.44 1955.45 Q2215.07 1955.45 2216.88 1951.91 Q2218.7 1948.34 2218.7 1941.23 Q2218.7 1934.11 2216.88 1930.56 Q2215.07 1927 2211.44 1927 M2211.44 1923.29 Q2217.25 1923.29 2220.3 1927.9 Q2223.38 1932.48 2223.38 1941.23 Q2223.38 1949.96 2220.3 1954.57 Q2217.25 1959.15 2211.44 1959.15 Q2205.63 1959.15 2202.55 1954.57 Q2199.49 1949.96 2199.49 1941.23 Q2199.49 1932.48 2202.55 1927.9 Q2205.63 1923.29 2211.44 1923.29 Z\" fill=\"#000000\" fill-rule=\"evenodd\" fill-opacity=\"1\" /><path clip-path=\"url(#clip590)\" d=\"M2789.77 1954.54 L2806.09 1954.54 L2806.09 1958.48 L2784.14 1958.48 L2784.14 1954.54 Q2786.81 1951.79 2791.39 1947.16 Q2796 1942.51 2797.18 1941.17 Q2799.42 1938.64 2800.3 1936.91 Q2801.2 1935.15 2801.2 1933.46 Q2801.2 1930.7 2799.26 1928.97 Q2797.34 1927.23 2794.24 1927.23 Q2792.04 1927.23 2789.58 1927.99 Q2787.15 1928.76 2784.38 1930.31 L2784.38 1925.59 Q2787.2 1924.45 2789.65 1923.87 Q2792.11 1923.29 2794.14 1923.29 Q2799.51 1923.29 2802.71 1925.98 Q2805.9 1928.67 2805.9 1933.16 Q2805.9 1935.29 2805.09 1937.21 Q2804.31 1939.1 2802.2 1941.7 Q2801.62 1942.37 2798.52 1945.59 Q2795.42 1948.78 2789.77 1954.54 Z\" fill=\"#000000\" fill-rule=\"evenodd\" fill-opacity=\"1\" /><path clip-path=\"url(#clip590)\" d=\"M2825.9 1927 Q2822.29 1927 2820.46 1930.56 Q2818.66 1934.11 2818.66 1941.23 Q2818.66 1948.34 2820.46 1951.91 Q2822.29 1955.45 2825.9 1955.45 Q2829.54 1955.45 2831.34 1951.91 Q2833.17 1948.34 2833.17 1941.23 Q2833.17 1934.11 2831.34 1930.56 Q2829.54 1927 2825.9 1927 M2825.9 1923.29 Q2831.71 1923.29 2834.77 1927.9 Q2837.85 1932.48 2837.85 1941.23 Q2837.85 1949.96 2834.77 1954.57 Q2831.71 1959.15 2825.9 1959.15 Q2820.09 1959.15 2817.01 1954.57 Q2813.96 1949.96 2813.96 1941.23 Q2813.96 1932.48 2817.01 1927.9 Q2820.09 1923.29 2825.9 1923.29 Z\" fill=\"#000000\" fill-rule=\"evenodd\" fill-opacity=\"1\" /><path clip-path=\"url(#clip590)\" d=\"M2856.07 1927 Q2852.45 1927 2850.63 1930.56 Q2848.82 1934.11 2848.82 1941.23 Q2848.82 1948.34 2850.63 1951.91 Q2852.45 1955.45 2856.07 1955.45 Q2859.7 1955.45 2861.51 1951.91 Q2863.33 1948.34 2863.33 1941.23 Q2863.33 1934.11 2861.51 1930.56 Q2859.7 1927 2856.07 1927 M2856.07 1923.29 Q2861.88 1923.29 2864.93 1927.9 Q2868.01 1932.48 2868.01 1941.23 Q2868.01 1949.96 2864.93 1954.57 Q2861.88 1959.15 2856.07 1959.15 Q2850.26 1959.15 2847.18 1954.57 Q2844.12 1949.96 2844.12 1941.23 Q2844.12 1932.48 2847.18 1927.9 Q2850.26 1923.29 2856.07 1923.29 Z\" fill=\"#000000\" fill-rule=\"evenodd\" fill-opacity=\"1\" /><path clip-path=\"url(#clip590)\" d=\"M3433.53 1954.54 L3449.85 1954.54 L3449.85 1958.48 L3427.91 1958.48 L3427.91 1954.54 Q3430.57 1951.79 3435.15 1947.16 Q3439.76 1942.51 3440.94 1941.17 Q3443.18 1938.64 3444.06 1936.91 Q3444.97 1935.15 3444.97 1933.46 Q3444.97 1930.7 3443.02 1928.97 Q3441.1 1927.23 3438 1927.23 Q3435.8 1927.23 3433.35 1927.99 Q3430.92 1928.76 3428.14 1930.31 L3428.14 1925.59 Q3430.96 1924.45 3433.42 1923.87 Q3435.87 1923.29 3437.91 1923.29 Q3443.28 1923.29 3446.47 1925.98 Q3449.67 1928.67 3449.67 1933.16 Q3449.67 1935.29 3448.86 1937.21 Q3448.07 1939.1 3445.96 1941.7 Q3445.38 1942.37 3442.28 1945.59 Q3439.18 1948.78 3433.53 1954.54 Z\" fill=\"#000000\" fill-rule=\"evenodd\" fill-opacity=\"1\" /><path clip-path=\"url(#clip590)\" d=\"M3459.71 1923.92 L3478.07 1923.92 L3478.07 1927.86 L3463.99 1927.86 L3463.99 1936.33 Q3465.01 1935.98 3466.03 1935.82 Q3467.05 1935.63 3468.07 1935.63 Q3473.86 1935.63 3477.24 1938.8 Q3480.61 1941.98 3480.61 1947.39 Q3480.61 1952.97 3477.14 1956.07 Q3473.67 1959.15 3467.35 1959.15 Q3465.18 1959.15 3462.91 1958.78 Q3460.66 1958.41 3458.25 1957.67 L3458.25 1952.97 Q3460.34 1954.1 3462.56 1954.66 Q3464.78 1955.22 3467.26 1955.22 Q3471.26 1955.22 3473.6 1953.11 Q3475.94 1951 3475.94 1947.39 Q3475.94 1943.78 3473.6 1941.67 Q3471.26 1939.57 3467.26 1939.57 Q3465.38 1939.57 3463.51 1939.98 Q3461.66 1940.4 3459.71 1941.28 L3459.71 1923.92 Z\" fill=\"#000000\" fill-rule=\"evenodd\" fill-opacity=\"1\" /><path clip-path=\"url(#clip590)\" d=\"M3499.83 1927 Q3496.22 1927 3494.39 1930.56 Q3492.58 1934.11 3492.58 1941.23 Q3492.58 1948.34 3494.39 1951.91 Q3496.22 1955.45 3499.83 1955.45 Q3503.46 1955.45 3505.27 1951.91 Q3507.1 1948.34 3507.1 1941.23 Q3507.1 1934.11 3505.27 1930.56 Q3503.46 1927 3499.83 1927 M3499.83 1923.29 Q3505.64 1923.29 3508.69 1927.9 Q3511.77 1932.48 3511.77 1941.23 Q3511.77 1949.96 3508.69 1954.57 Q3505.64 1959.15 3499.83 1959.15 Q3494.02 1959.15 3490.94 1954.57 Q3487.88 1949.96 3487.88 1941.23 Q3487.88 1932.48 3490.94 1927.9 Q3494.02 1923.29 3499.83 1923.29 Z\" fill=\"#000000\" fill-rule=\"evenodd\" fill-opacity=\"1\" /><polyline clip-path=\"url(#clip592)\" style=\"stroke:#000000; stroke-linecap:butt; stroke-linejoin:round; stroke-width:2; stroke-opacity:0.1; fill:none\" points=\"\n",
       "  168.112,1525.05 3552.76,1525.05 \n",
       "  \"/>\n",
       "<polyline clip-path=\"url(#clip592)\" style=\"stroke:#000000; stroke-linecap:butt; stroke-linejoin:round; stroke-width:2; stroke-opacity:0.1; fill:none\" points=\"\n",
       "  168.112,1110.62 3552.76,1110.62 \n",
       "  \"/>\n",
       "<polyline clip-path=\"url(#clip592)\" style=\"stroke:#000000; stroke-linecap:butt; stroke-linejoin:round; stroke-width:2; stroke-opacity:0.1; fill:none\" points=\"\n",
       "  168.112,696.185 3552.76,696.185 \n",
       "  \"/>\n",
       "<polyline clip-path=\"url(#clip592)\" style=\"stroke:#000000; stroke-linecap:butt; stroke-linejoin:round; stroke-width:2; stroke-opacity:0.1; fill:none\" points=\"\n",
       "  168.112,281.753 3552.76,281.753 \n",
       "  \"/>\n",
       "<polyline clip-path=\"url(#clip590)\" style=\"stroke:#000000; stroke-linecap:butt; stroke-linejoin:round; stroke-width:4; stroke-opacity:1; fill:none\" points=\"\n",
       "  168.112,1888.21 168.112,113.392 \n",
       "  \"/>\n",
       "<polyline clip-path=\"url(#clip590)\" style=\"stroke:#000000; stroke-linecap:butt; stroke-linejoin:round; stroke-width:4; stroke-opacity:1; fill:none\" points=\"\n",
       "  168.112,1525.05 187.01,1525.05 \n",
       "  \"/>\n",
       "<polyline clip-path=\"url(#clip590)\" style=\"stroke:#000000; stroke-linecap:butt; stroke-linejoin:round; stroke-width:4; stroke-opacity:1; fill:none\" points=\"\n",
       "  168.112,1110.62 187.01,1110.62 \n",
       "  \"/>\n",
       "<polyline clip-path=\"url(#clip590)\" style=\"stroke:#000000; stroke-linecap:butt; stroke-linejoin:round; stroke-width:4; stroke-opacity:1; fill:none\" points=\"\n",
       "  168.112,696.185 187.01,696.185 \n",
       "  \"/>\n",
       "<polyline clip-path=\"url(#clip590)\" style=\"stroke:#000000; stroke-linecap:butt; stroke-linejoin:round; stroke-width:4; stroke-opacity:1; fill:none\" points=\"\n",
       "  168.112,281.753 187.01,281.753 \n",
       "  \"/>\n",
       "<path clip-path=\"url(#clip590)\" d=\"M56.9365 1510.85 Q53.3254 1510.85 51.4967 1514.41 Q49.6912 1517.95 49.6912 1525.08 Q49.6912 1532.19 51.4967 1535.76 Q53.3254 1539.3 56.9365 1539.3 Q60.5707 1539.3 62.3763 1535.76 Q64.205 1532.19 64.205 1525.08 Q64.205 1517.95 62.3763 1514.41 Q60.5707 1510.85 56.9365 1510.85 M56.9365 1507.14 Q62.7467 1507.14 65.8022 1511.75 Q68.8809 1516.33 68.8809 1525.08 Q68.8809 1533.81 65.8022 1538.42 Q62.7467 1543 56.9365 1543 Q51.1264 1543 48.0477 1538.42 Q44.9921 1533.81 44.9921 1525.08 Q44.9921 1516.33 48.0477 1511.75 Q51.1264 1507.14 56.9365 1507.14 Z\" fill=\"#000000\" fill-rule=\"evenodd\" fill-opacity=\"1\" /><path clip-path=\"url(#clip590)\" d=\"M77.0984 1536.45 L81.9827 1536.45 L81.9827 1542.33 L77.0984 1542.33 L77.0984 1536.45 Z\" fill=\"#000000\" fill-rule=\"evenodd\" fill-opacity=\"1\" /><path clip-path=\"url(#clip590)\" d=\"M102.168 1510.85 Q98.5567 1510.85 96.728 1514.41 Q94.9224 1517.95 94.9224 1525.08 Q94.9224 1532.19 96.728 1535.76 Q98.5567 1539.3 102.168 1539.3 Q105.802 1539.3 107.608 1535.76 Q109.436 1532.19 109.436 1525.08 Q109.436 1517.95 107.608 1514.41 Q105.802 1510.85 102.168 1510.85 M102.168 1507.14 Q107.978 1507.14 111.033 1511.75 Q114.112 1516.33 114.112 1525.08 Q114.112 1533.81 111.033 1538.42 Q107.978 1543 102.168 1543 Q96.3576 1543 93.2789 1538.42 Q90.2234 1533.81 90.2234 1525.08 Q90.2234 1516.33 93.2789 1511.75 Q96.3576 1507.14 102.168 1507.14 Z\" fill=\"#000000\" fill-rule=\"evenodd\" fill-opacity=\"1\" /><path clip-path=\"url(#clip590)\" d=\"M58.1634 1096.42 Q54.5523 1096.42 52.7236 1099.98 Q50.918 1103.52 50.918 1110.65 Q50.918 1117.76 52.7236 1121.32 Q54.5523 1124.86 58.1634 1124.86 Q61.7976 1124.86 63.6031 1121.32 Q65.4318 1117.76 65.4318 1110.65 Q65.4318 1103.52 63.6031 1099.98 Q61.7976 1096.42 58.1634 1096.42 M58.1634 1092.71 Q63.9735 1092.71 67.029 1097.32 Q70.1077 1101.9 70.1077 1110.65 Q70.1077 1119.38 67.029 1123.99 Q63.9735 1128.57 58.1634 1128.57 Q52.3532 1128.57 49.2745 1123.99 Q46.219 1119.38 46.219 1110.65 Q46.219 1101.9 49.2745 1097.32 Q52.3532 1092.71 58.1634 1092.71 Z\" fill=\"#000000\" fill-rule=\"evenodd\" fill-opacity=\"1\" /><path clip-path=\"url(#clip590)\" d=\"M78.3253 1122.02 L83.2095 1122.02 L83.2095 1127.9 L78.3253 1127.9 L78.3253 1122.02 Z\" fill=\"#000000\" fill-rule=\"evenodd\" fill-opacity=\"1\" /><path clip-path=\"url(#clip590)\" d=\"M94.2048 1123.96 L101.844 1123.96 L101.844 1097.6 L93.5335 1099.26 L93.5335 1095 L101.797 1093.34 L106.473 1093.34 L106.473 1123.96 L114.112 1123.96 L114.112 1127.9 L94.2048 1127.9 L94.2048 1123.96 Z\" fill=\"#000000\" fill-rule=\"evenodd\" fill-opacity=\"1\" /><path clip-path=\"url(#clip590)\" d=\"M58.5337 681.984 Q54.9226 681.984 53.0939 685.549 Q51.2884 689.09 51.2884 696.22 Q51.2884 703.326 53.0939 706.891 Q54.9226 710.433 58.5337 710.433 Q62.168 710.433 63.9735 706.891 Q65.8022 703.326 65.8022 696.22 Q65.8022 689.09 63.9735 685.549 Q62.168 681.984 58.5337 681.984 M58.5337 678.28 Q64.3439 678.28 67.3994 682.887 Q70.4781 687.47 70.4781 696.22 Q70.4781 704.947 67.3994 709.553 Q64.3439 714.136 58.5337 714.136 Q52.7236 714.136 49.6449 709.553 Q46.5893 704.947 46.5893 696.22 Q46.5893 687.47 49.6449 682.887 Q52.7236 678.28 58.5337 678.28 Z\" fill=\"#000000\" fill-rule=\"evenodd\" fill-opacity=\"1\" /><path clip-path=\"url(#clip590)\" d=\"M78.6956 707.585 L83.5799 707.585 L83.5799 713.465 L78.6956 713.465 L78.6956 707.585 Z\" fill=\"#000000\" fill-rule=\"evenodd\" fill-opacity=\"1\" /><path clip-path=\"url(#clip590)\" d=\"M97.7928 709.53 L114.112 709.53 L114.112 713.465 L92.1678 713.465 L92.1678 709.53 Q94.8298 706.775 99.4131 702.146 Q104.02 697.493 105.2 696.15 Q107.445 693.627 108.325 691.891 Q109.228 690.132 109.228 688.442 Q109.228 685.687 107.283 683.951 Q105.362 682.215 102.26 682.215 Q100.061 682.215 97.6076 682.979 Q95.177 683.743 92.3993 685.294 L92.3993 680.572 Q95.2233 679.437 97.677 678.859 Q100.131 678.28 102.168 678.28 Q107.538 678.28 110.733 680.965 Q113.927 683.65 113.927 688.141 Q113.927 690.271 113.117 692.192 Q112.33 694.09 110.223 696.683 Q109.645 697.354 106.543 700.572 Q103.441 703.766 97.7928 709.53 Z\" fill=\"#000000\" fill-rule=\"evenodd\" fill-opacity=\"1\" /><path clip-path=\"url(#clip590)\" d=\"M57.5847 267.551 Q53.9736 267.551 52.1449 271.116 Q50.3393 274.658 50.3393 281.788 Q50.3393 288.894 52.1449 292.459 Q53.9736 296 57.5847 296 Q61.2189 296 63.0244 292.459 Q64.8531 288.894 64.8531 281.788 Q64.8531 274.658 63.0244 271.116 Q61.2189 267.551 57.5847 267.551 M57.5847 263.848 Q63.3948 263.848 66.4503 268.454 Q69.529 273.038 69.529 281.788 Q69.529 290.514 66.4503 295.121 Q63.3948 299.704 57.5847 299.704 Q51.7745 299.704 48.6958 295.121 Q45.6403 290.514 45.6403 281.788 Q45.6403 273.038 48.6958 268.454 Q51.7745 263.848 57.5847 263.848 Z\" fill=\"#000000\" fill-rule=\"evenodd\" fill-opacity=\"1\" /><path clip-path=\"url(#clip590)\" d=\"M77.7466 293.153 L82.6308 293.153 L82.6308 299.033 L77.7466 299.033 L77.7466 293.153 Z\" fill=\"#000000\" fill-rule=\"evenodd\" fill-opacity=\"1\" /><path clip-path=\"url(#clip590)\" d=\"M106.983 280.399 Q110.339 281.116 112.214 283.385 Q114.112 285.653 114.112 288.987 Q114.112 294.102 110.594 296.903 Q107.075 299.704 100.594 299.704 Q98.4178 299.704 96.103 299.264 Q93.8113 298.848 91.3576 297.991 L91.3576 293.477 Q93.3021 294.612 95.6169 295.19 Q97.9317 295.769 100.455 295.769 Q104.853 295.769 107.145 294.033 Q109.459 292.297 109.459 288.987 Q109.459 285.931 107.307 284.218 Q105.177 282.482 101.358 282.482 L97.3298 282.482 L97.3298 278.639 L101.543 278.639 Q104.992 278.639 106.82 277.274 Q108.649 275.885 108.649 273.292 Q108.649 270.63 106.751 269.218 Q104.876 267.783 101.358 267.783 Q99.4363 267.783 97.2372 268.2 Q95.0382 268.616 92.3993 269.496 L92.3993 265.329 Q95.0613 264.589 97.3761 264.218 Q99.7141 263.848 101.774 263.848 Q107.098 263.848 110.2 266.278 Q113.302 268.686 113.302 272.806 Q113.302 275.676 111.658 277.667 Q110.015 279.635 106.983 280.399 Z\" fill=\"#000000\" fill-rule=\"evenodd\" fill-opacity=\"1\" /><path clip-path=\"url(#clip590)\" d=\"M1528.18 12.096 L1562.94 12.096 L1562.94 18.9825 L1536.36 18.9825 L1536.36 36.8065 L1560.34 36.8065 L1560.34 43.6931 L1536.36 43.6931 L1536.36 72.576 L1528.18 72.576 L1528.18 12.096 Z\" fill=\"#000000\" fill-rule=\"evenodd\" fill-opacity=\"1\" /><path clip-path=\"url(#clip590)\" d=\"M1569.54 27.2059 L1576.99 27.2059 L1576.99 72.576 L1569.54 72.576 L1569.54 27.2059 M1569.54 9.54393 L1576.99 9.54393 L1576.99 18.9825 L1569.54 18.9825 L1569.54 9.54393 Z\" fill=\"#000000\" fill-rule=\"evenodd\" fill-opacity=\"1\" /><path clip-path=\"url(#clip590)\" d=\"M1618.88 34.1734 Q1617.62 33.4443 1616.12 33.1202 Q1614.67 32.7556 1612.88 32.7556 Q1606.56 32.7556 1603.16 36.8875 Q1599.8 40.9789 1599.8 48.6757 L1599.8 72.576 L1592.3 72.576 L1592.3 27.2059 L1599.8 27.2059 L1599.8 34.2544 Q1602.15 30.1225 1605.92 28.1376 Q1609.68 26.1121 1615.07 26.1121 Q1615.84 26.1121 1616.77 26.2337 Q1617.7 26.3147 1618.84 26.5172 L1618.88 34.1734 Z\" fill=\"#000000\" fill-rule=\"evenodd\" fill-opacity=\"1\" /><path clip-path=\"url(#clip590)\" d=\"M1655.62 28.5427 L1655.62 35.5912 Q1652.46 33.9709 1649.06 33.1607 Q1645.66 32.3505 1642.01 32.3505 Q1636.46 32.3505 1633.66 34.0519 Q1630.91 35.7533 1630.91 39.156 Q1630.91 41.7486 1632.89 43.2475 Q1634.88 44.7058 1640.88 46.0426 L1643.43 46.6097 Q1651.37 48.3111 1654.69 51.4303 Q1658.05 54.509 1658.05 60.0587 Q1658.05 66.3781 1653.03 70.0644 Q1648.05 73.7508 1639.3 73.7508 Q1635.65 73.7508 1631.68 73.0216 Q1627.75 72.3329 1623.38 70.9151 L1623.38 63.2184 Q1627.51 65.3654 1631.52 66.4591 Q1635.53 67.5124 1639.46 67.5124 Q1644.72 67.5124 1647.56 65.73 Q1650.39 63.9071 1650.39 60.6258 Q1650.39 57.5877 1648.33 55.9673 Q1646.3 54.3469 1639.38 52.8481 L1636.78 52.2405 Q1629.86 50.7821 1626.78 47.7845 Q1623.7 44.7463 1623.7 39.4801 Q1623.7 33.0797 1628.24 29.5959 Q1632.77 26.1121 1641.12 26.1121 Q1645.25 26.1121 1648.9 26.7198 Q1652.54 27.3274 1655.62 28.5427 Z\" fill=\"#000000\" fill-rule=\"evenodd\" fill-opacity=\"1\" /><path clip-path=\"url(#clip590)\" d=\"M1677.29 14.324 L1677.29 27.2059 L1692.65 27.2059 L1692.65 32.9987 L1677.29 32.9987 L1677.29 57.6282 Q1677.29 63.1779 1678.79 64.7578 Q1680.33 66.3376 1684.99 66.3376 L1692.65 66.3376 L1692.65 72.576 L1684.99 72.576 Q1676.36 72.576 1673.08 69.3758 Q1669.8 66.1351 1669.8 57.6282 L1669.8 32.9987 L1664.33 32.9987 L1664.33 27.2059 L1669.8 27.2059 L1669.8 14.324 L1677.29 14.324 Z\" fill=\"#000000\" fill-rule=\"evenodd\" fill-opacity=\"1\" /><path clip-path=\"url(#clip590)\" d=\"M1698.68 46.5287 L1720.52 46.5287 L1720.52 53.1722 L1698.68 53.1722 L1698.68 46.5287 Z\" fill=\"#000000\" fill-rule=\"evenodd\" fill-opacity=\"1\" /><path clip-path=\"url(#clip590)\" d=\"M1740.89 18.8205 L1740.89 65.8515 L1750.78 65.8515 Q1763.29 65.8515 1769.09 60.1802 Q1774.92 54.509 1774.92 42.2752 Q1774.92 30.1225 1769.09 24.4918 Q1763.29 18.8205 1750.78 18.8205 L1740.89 18.8205 M1732.71 12.096 L1749.52 12.096 Q1767.1 12.096 1775.32 19.4281 Q1783.55 26.7198 1783.55 42.2752 Q1783.55 57.9117 1775.28 65.2439 Q1767.02 72.576 1749.52 72.576 L1732.71 72.576 L1732.71 12.096 Z\" fill=\"#000000\" fill-rule=\"evenodd\" fill-opacity=\"1\" /><path clip-path=\"url(#clip590)\" d=\"M1796.27 27.2059 L1803.72 27.2059 L1803.72 72.576 L1796.27 72.576 L1796.27 27.2059 M1796.27 9.54393 L1803.72 9.54393 L1803.72 18.9825 L1796.27 18.9825 L1796.27 9.54393 Z\" fill=\"#000000\" fill-rule=\"evenodd\" fill-opacity=\"1\" /><path clip-path=\"url(#clip590)\" d=\"M1842.29 9.54393 L1842.29 15.7418 L1835.16 15.7418 Q1831.15 15.7418 1829.57 17.3622 Q1828.03 18.9825 1828.03 23.1955 L1828.03 27.2059 L1840.3 27.2059 L1840.3 32.9987 L1828.03 32.9987 L1828.03 72.576 L1820.53 72.576 L1820.53 32.9987 L1813.4 32.9987 L1813.4 27.2059 L1820.53 27.2059 L1820.53 24.0462 Q1820.53 16.471 1824.06 13.0277 Q1827.58 9.54393 1835.24 9.54393 L1842.29 9.54393 Z\" fill=\"#000000\" fill-rule=\"evenodd\" fill-opacity=\"1\" /><path clip-path=\"url(#clip590)\" d=\"M1871.49 9.54393 L1871.49 15.7418 L1864.36 15.7418 Q1860.35 15.7418 1858.77 17.3622 Q1857.23 18.9825 1857.23 23.1955 L1857.23 27.2059 L1869.51 27.2059 L1869.51 32.9987 L1857.23 32.9987 L1857.23 72.576 L1849.74 72.576 L1849.74 32.9987 L1842.61 32.9987 L1842.61 27.2059 L1849.74 27.2059 L1849.74 24.0462 Q1849.74 16.471 1853.26 13.0277 Q1856.79 9.54393 1864.44 9.54393 L1871.49 9.54393 Z\" fill=\"#000000\" fill-rule=\"evenodd\" fill-opacity=\"1\" /><path clip-path=\"url(#clip590)\" d=\"M1916.54 48.0275 L1916.54 51.6733 L1882.27 51.6733 Q1882.75 59.3701 1886.89 63.421 Q1891.06 67.4314 1898.47 67.4314 Q1902.77 67.4314 1906.78 66.3781 Q1910.83 65.3249 1914.8 63.2184 L1914.8 70.267 Q1910.79 71.9684 1906.57 72.8596 Q1902.36 73.7508 1898.03 73.7508 Q1887.17 73.7508 1880.81 67.4314 Q1874.49 61.1119 1874.49 50.3365 Q1874.49 39.1965 1880.49 32.6746 Q1886.52 26.1121 1896.73 26.1121 Q1905.89 26.1121 1911.19 32.0264 Q1916.54 37.9003 1916.54 48.0275 M1909.09 45.84 Q1909 39.7232 1905.64 36.0774 Q1902.32 32.4315 1896.81 32.4315 Q1890.57 32.4315 1886.81 35.9558 Q1883.08 39.4801 1882.51 45.8805 L1909.09 45.84 Z\" fill=\"#000000\" fill-rule=\"evenodd\" fill-opacity=\"1\" /><path clip-path=\"url(#clip590)\" d=\"M1955.06 34.1734 Q1953.81 33.4443 1952.31 33.1202 Q1950.85 32.7556 1949.07 32.7556 Q1942.75 32.7556 1939.35 36.8875 Q1935.98 40.9789 1935.98 48.6757 L1935.98 72.576 L1928.49 72.576 L1928.49 27.2059 L1935.98 27.2059 L1935.98 34.2544 Q1938.33 30.1225 1942.1 28.1376 Q1945.87 26.1121 1951.26 26.1121 Q1952.02 26.1121 1952.96 26.2337 Q1953.89 26.3147 1955.02 26.5172 L1955.06 34.1734 Z\" fill=\"#000000\" fill-rule=\"evenodd\" fill-opacity=\"1\" /><path clip-path=\"url(#clip590)\" d=\"M1999.87 48.0275 L1999.87 51.6733 L1965.6 51.6733 Q1966.08 59.3701 1970.21 63.421 Q1974.39 67.4314 1981.8 67.4314 Q1986.09 67.4314 1990.1 66.3781 Q1994.15 65.3249 1998.12 63.2184 L1998.12 70.267 Q1994.11 71.9684 1989.9 72.8596 Q1985.69 73.7508 1981.35 73.7508 Q1970.5 73.7508 1964.14 67.4314 Q1957.82 61.1119 1957.82 50.3365 Q1957.82 39.1965 1963.81 32.6746 Q1969.85 26.1121 1980.06 26.1121 Q1989.21 26.1121 1994.52 32.0264 Q1999.87 37.9003 1999.87 48.0275 M1992.41 45.84 Q1992.33 39.7232 1988.97 36.0774 Q1985.65 32.4315 1980.14 32.4315 Q1973.9 32.4315 1970.13 35.9558 Q1966.41 39.4801 1965.84 45.8805 L1992.41 45.84 Z\" fill=\"#000000\" fill-rule=\"evenodd\" fill-opacity=\"1\" /><path clip-path=\"url(#clip590)\" d=\"M2049.81 45.1919 L2049.81 72.576 L2042.36 72.576 L2042.36 45.4349 Q2042.36 38.994 2039.85 35.7938 Q2037.34 32.5936 2032.31 32.5936 Q2026.28 32.5936 2022.79 36.4419 Q2019.31 40.2903 2019.31 46.9338 L2019.31 72.576 L2011.82 72.576 L2011.82 27.2059 L2019.31 27.2059 L2019.31 34.2544 Q2021.98 30.163 2025.59 28.1376 Q2029.24 26.1121 2033.97 26.1121 Q2041.79 26.1121 2045.8 30.9732 Q2049.81 35.7938 2049.81 45.1919 Z\" fill=\"#000000\" fill-rule=\"evenodd\" fill-opacity=\"1\" /><path clip-path=\"url(#clip590)\" d=\"M2097.33 28.9478 L2097.33 35.9153 Q2094.17 34.1734 2090.97 33.3227 Q2087.81 32.4315 2084.57 32.4315 Q2077.32 32.4315 2073.31 37.0496 Q2069.3 41.6271 2069.3 49.9314 Q2069.3 58.2358 2073.31 62.8538 Q2077.32 67.4314 2084.57 67.4314 Q2087.81 67.4314 2090.97 66.5807 Q2094.17 65.6895 2097.33 63.9476 L2097.33 70.8341 Q2094.21 72.2924 2090.85 73.0216 Q2087.53 73.7508 2083.76 73.7508 Q2073.51 73.7508 2067.48 67.3098 Q2061.44 60.8689 2061.44 49.9314 Q2061.44 38.832 2067.52 32.472 Q2073.63 26.1121 2084.25 26.1121 Q2087.69 26.1121 2090.97 26.8413 Q2094.25 27.5299 2097.33 28.9478 Z\" fill=\"#000000\" fill-rule=\"evenodd\" fill-opacity=\"1\" /><path clip-path=\"url(#clip590)\" d=\"M2149.1 48.0275 L2149.1 51.6733 L2114.83 51.6733 Q2115.32 59.3701 2119.45 63.421 Q2123.62 67.4314 2131.03 67.4314 Q2135.33 67.4314 2139.34 66.3781 Q2143.39 65.3249 2147.36 63.2184 L2147.36 70.267 Q2143.35 71.9684 2139.14 72.8596 Q2134.92 73.7508 2130.59 73.7508 Q2119.73 73.7508 2113.37 67.4314 Q2107.05 61.1119 2107.05 50.3365 Q2107.05 39.1965 2113.05 32.6746 Q2119.08 26.1121 2129.29 26.1121 Q2138.45 26.1121 2143.75 32.0264 Q2149.1 37.9003 2149.1 48.0275 M2141.65 45.84 Q2141.57 39.7232 2138.2 36.0774 Q2134.88 32.4315 2129.37 32.4315 Q2123.14 32.4315 2119.37 35.9558 Q2115.64 39.4801 2115.07 45.8805 L2141.65 45.84 Z\" fill=\"#000000\" fill-rule=\"evenodd\" fill-opacity=\"1\" /><path clip-path=\"url(#clip590)\" d=\"M2190.26 28.5427 L2190.26 35.5912 Q2187.1 33.9709 2183.7 33.1607 Q2180.29 32.3505 2176.65 32.3505 Q2171.1 32.3505 2168.3 34.0519 Q2165.55 35.7533 2165.55 39.156 Q2165.55 41.7486 2167.53 43.2475 Q2169.52 44.7058 2175.51 46.0426 L2178.07 46.6097 Q2186.01 48.3111 2189.33 51.4303 Q2192.69 54.509 2192.69 60.0587 Q2192.69 66.3781 2187.67 70.0644 Q2182.68 73.7508 2173.93 73.7508 Q2170.29 73.7508 2166.32 73.0216 Q2162.39 72.3329 2158.01 70.9151 L2158.01 63.2184 Q2162.15 65.3654 2166.16 66.4591 Q2170.17 67.5124 2174.1 67.5124 Q2179.36 67.5124 2182.2 65.73 Q2185.03 63.9071 2185.03 60.6258 Q2185.03 57.5877 2182.97 55.9673 Q2180.94 54.3469 2174.01 52.8481 L2171.42 52.2405 Q2164.49 50.7821 2161.42 47.7845 Q2158.34 44.7463 2158.34 39.4801 Q2158.34 33.0797 2162.87 29.5959 Q2167.41 26.1121 2175.76 26.1121 Q2179.89 26.1121 2183.53 26.7198 Q2187.18 27.3274 2190.26 28.5427 Z\" fill=\"#000000\" fill-rule=\"evenodd\" fill-opacity=\"1\" /><polyline clip-path=\"url(#clip592)\" style=\"stroke:#009af9; stroke-linecap:butt; stroke-linejoin:round; stroke-width:4; stroke-opacity:1; fill:none\" points=\"\n",
       "  263.904,163.623 276.779,1362.51 289.654,1368.64 302.53,1300.98 315.405,1243.97 328.28,1663.21 341.155,1319.5 354.031,1660.94 366.906,1810.98 379.781,1599.72 \n",
       "  392.656,1837.98 405.532,1607.12 418.407,1525.05 431.282,1781.48 444.157,1352.34 457.033,1786.88 469.908,1525.05 482.783,1016.95 495.658,863.491 508.534,837.953 \n",
       "  521.409,1823.33 534.284,1650.64 547.159,1338.06 560.035,1464.55 572.91,1406.63 585.785,1525.05 598.66,1703.97 611.535,1288.17 624.411,1088.4 637.286,1372.48 \n",
       "  650.161,1575.28 663.036,1232.39 675.912,1296.02 688.787,1754.08 701.662,1121.5 714.537,819.598 727.413,1634.6 740.288,1753.24 753.163,1808.19 766.038,1401.33 \n",
       "  778.914,1288.17 791.789,1486.85 804.664,1196.25 817.539,1490.08 830.415,1560.02 843.29,1595.89 856.165,1215.37 869.04,1492.03 881.916,1558.07 894.791,1492.03 \n",
       "  907.666,1332.26 920.541,1493.77 933.417,1282.98 946.292,1705.27 959.167,1404.04 972.042,1554.97 984.918,1406.63 997.793,1438.41 1010.67,1611.69 1023.54,1381.63 \n",
       "  1036.42,1697.75 1049.29,1268.62 1062.17,1723.11 1075.04,1702.69 1087.92,1586 1100.79,1586.91 1113.67,1432.61 1126.55,1288.17 1139.42,1761.93 1152.3,1555.64 \n",
       "  1165.17,1713.46 1178.05,1525.05 1190.92,1525.05 1203.8,1525.05 1216.67,1525.05 1229.55,1429.77 1242.42,1340.83 1255.3,1525.05 1268.17,1319.99 1281.05,1670.48 \n",
       "  1293.92,1437.18 1306.8,1672.55 1319.67,1836.8 1332.55,1492.8 1345.42,1461.29 1358.3,1493.53 1371.17,1784.15 1384.05,1393.47 1396.93,1492.8 1409.8,1127.13 \n",
       "  1422.68,1613.54 1435.55,1465.84 1448.43,1525.05 1461.3,1644.32 1474.18,1525.05 1487.05,1679.13 1499.93,1493.77 1512.8,1525.05 1525.68,1651.6 1538.55,1429.77 \n",
       "  1551.43,1431.91 1564.3,1525.05 1577.18,1200.42 1590.05,1330.97 1602.93,1498.05 1615.8,1606.58 1628.68,1580.31 1641.55,1415.26 1654.43,1776.3 1667.31,1701.43 \n",
       "  1680.18,1435.92 1693.06,1352.34 1705.93,1668.47 1718.81,1325.63 1731.68,1334.78 1744.56,1292.6 1757.43,1304.95 1770.31,1695.22 1783.18,1402.79 1796.06,1597.97 \n",
       "  1808.93,1549.65 1821.81,1549.79 1834.68,1549.94 1847.56,1651.8 1860.43,1448.54 1873.31,1550.4 1886.18,1814.61 1899.06,1635.57 1911.93,1696.56 1924.81,1135.36 \n",
       "  1937.69,1525.05 1950.56,1394.3 1963.44,1629.31 1976.31,1632.01 1989.19,1444.57 2002.06,1632.7 2014.94,1607.66 2027.81,1415.26 2040.69,1634.84 2053.56,1525.05 \n",
       "  2066.44,1552.96 2079.31,1667.48 2092.19,1467.49 2105.06,1468.28 2117.94,1697.75 2130.81,1409.12 2143.69,1553.73 2156.56,1328.33 2169.44,1311.1 2182.32,1422.08 \n",
       "  2195.19,1399.83 2208.07,1500.45 2220.94,1476.29 2233.82,1549.36 2246.69,1673.96 2259.57,1449.92 2272.44,1475.71 2285.32,1549.65 2298.19,1476 2311.07,1598.84 \n",
       "  2323.94,1625.52 2336.82,1230.65 2349.69,1525.05 2362.57,1408.3 2375.44,1571.36 2388.32,1571.88 2401.19,1596.3 2414.07,1549.07 2426.94,1406.29 2439.82,1692.28 \n",
       "  2452.7,1404.92 2465.57,1645.18 2478.45,1750.48 2491.32,1499.39 2504.2,1602.52 2517.07,1766.53 2529.95,1257.58 2542.82,1422.72 2555.7,1627.38 2568.57,1577.18 \n",
       "  2581.45,1345.39 2594.32,1425.78 2607.2,1240.76 2620.07,1594.32 2632.95,1501.83 2645.82,1456.17 2658.7,1547.88 2671.57,1548.01 2684.45,1548.14 2697.32,1366.07 \n",
       "  2710.2,1415.11 2723.08,1590.66 2735.95,1459.44 2748.83,1568.67 2761.7,1525.05 2774.58,1636.16 2787.45,1639.23 2800.33,1256.13 2813.2,1112.34 2826.08,1485.95 \n",
       "  2838.95,1623.49 2851.83,1368.64 2864.7,1525.05 2877.58,1583.01 2890.45,1525.05 2903.33,1724.33 2916.2,1525.05 2929.08,1504.68 2941.95,1346.13 2954.83,1583.84 \n",
       "  2967.7,1427.53 2980.58,1783.53 2993.46,1607.94 3006.33,1483.4 3019.21,1587.69 3032.08,1260.21 3044.96,1466.26 3057.83,1447.94 3070.71,1582.74 3083.58,1505.73 \n",
       "  3096.46,1583.28 3109.33,1466.81 3122.21,1355.1 3135.08,1525.05 3147.96,1506.59 3160.83,1810.98 3173.71,1544.83 3186.58,1666.23 3199.46,1484.22 3212.33,1249.97 \n",
       "  3225.21,1739.63 3238.08,1387.22 3250.96,1448.3 3263.84,1506.08 3276.71,1563.07 3289.59,1449.35 3302.46,1736.64 3315.34,1351.14 3328.21,1544.02 3341.09,1621.21 \n",
       "  3353.96,1544.55 3366.84,1525.05 3379.71,1409.39 3392.59,1582.48 3405.46,1429.77 3418.34,1525.05 3431.21,1468.92 3444.09,1451.37 3456.96,1543.35 \n",
       "  \"/>\n",
       "<polyline clip-path=\"url(#clip592)\" style=\"stroke:#e26f46; stroke-linecap:butt; stroke-linejoin:round; stroke-width:4; stroke-opacity:1; fill:none\" points=\"\n",
       "  263.904,832.724 276.779,1267.56 289.654,1377.9 302.53,1336.64 315.405,1344.83 328.28,1614.18 341.155,1435.92 354.031,1525.05 366.906,1798.4 379.781,1525.05 \n",
       "  392.656,1767.48 405.532,1475.42 418.407,1574.68 431.282,1782.54 444.157,1420.12 457.033,1683.45 469.908,1418.78 482.783,1173.2 495.658,1200.75 508.534,1061.75 \n",
       "  521.409,1646.36 534.284,1650.01 547.159,1359.25 560.035,1525.05 572.91,1444.57 585.785,1565.09 598.66,1606.31 611.535,1403.74 624.411,1144.57 637.286,1417.4 \n",
       "  650.161,1489.78 663.036,1286.22 675.912,1394.51 688.787,1589.81 701.662,1302.7 714.537,975.52 727.413,1662.75 740.288,1696.56 753.163,1734.55 766.038,1404.04 \n",
       "  778.914,1265.04 791.789,1497.14 804.664,1334.78 817.539,1551.7 830.415,1578.87 843.29,1525.05 856.165,1212.12 869.04,1525.05 881.916,1525.05 894.791,1450.38 \n",
       "  907.666,1332.26 920.541,1478.22 933.417,1410.24 946.292,1663.21 959.167,1478.48 972.042,1479 984.918,1456.92 997.793,1435.92 1010.67,1525.05 1023.54,1437.8 \n",
       "  1036.42,1701.43 1049.29,1392.07 1062.17,1635.57 1075.04,1661.69 1087.92,1525.05 1100.79,1642.46 1113.67,1407.64 1126.55,1343.85 1139.42,1752.82 1152.3,1548.53 \n",
       "  1165.17,1693.25 1178.05,1574.39 1190.92,1475.71 1203.8,1525.05 1216.67,1599.28 1229.55,1450.82 1242.42,1356.85 1255.3,1525.05 1268.17,1340.83 1281.05,1616.14 \n",
       "  1293.92,1456.55 1306.8,1616.64 1319.67,1763.29 1332.55,1476.29 1345.42,1525.05 1358.3,1500.88 1371.17,1647.31 1384.05,1402.79 1396.93,1477.14 1409.8,1271 \n",
       "  1422.68,1615.64 1435.55,1502.22 1448.43,1525.05 1461.3,1617.15 1474.18,1478.74 1487.05,1641.8 1499.93,1525.05 1512.8,1501.44 1525.68,1644.49 1538.55,1452.97 \n",
       "  1551.43,1361.59 1564.3,1571.1 1577.18,1256.13 1590.05,1396.86 1602.93,1525.05 1615.8,1631.59 1628.68,1546.69 1641.55,1525.05 1654.43,1747.92 1667.31,1641.14 \n",
       "  1680.18,1478.22 1693.06,1387.66 1705.93,1616.14 1718.81,1389.16 1731.68,1436.87 1744.56,1438.71 1757.43,1337.11 1770.31,1649.39 1783.18,1421.18 1796.06,1566.29 \n",
       "  1808.93,1504.38 1821.81,1587.37 1834.68,1525.05 1847.56,1652.58 1860.43,1439.6 1873.31,1588.97 1886.18,1768.25 1899.06,1640.5 1911.93,1619.78 1924.81,1247.11 \n",
       "  1937.69,1570.1 1950.56,1413.34 1963.44,1591.72 1976.31,1661.69 1989.19,1456.17 2002.06,1640.5 2014.94,1548.53 2027.81,1386.12 2040.69,1617.15 2053.56,1478.74 \n",
       "  2066.44,1571.36 2079.31,1667.15 2092.19,1501.02 2105.06,1430.32 2117.94,1619.78 2130.81,1453.8 2143.69,1548.66 2156.56,1408.3 2169.44,1322.85 2182.32,1374.33 \n",
       "  2195.19,1441.32 2208.07,1483.81 2220.94,1484.22 2233.82,1525.05 2246.69,1627.89 2259.57,1483.61 2272.44,1545.72 2285.32,1545.82 2298.19,1525.05 2311.07,1566.91 \n",
       "  2323.94,1588.65 2336.82,1276.32 2349.69,1485.01 2362.57,1407.19 2375.44,1544.46 2388.32,1564.15 2401.19,1564.52 2414.07,1564.9 2426.94,1485.2 2439.82,1605.14 \n",
       "  2452.7,1405.49 2465.57,1685.24 2478.45,1712.99 2491.32,1503.74 2504.2,1589.3 2517.07,1746.72 2529.95,1325.02 2542.82,1417.96 2555.7,1567.56 2568.57,1589.64 \n",
       "  2581.45,1355 2594.32,1504.28 2607.2,1244.65 2620.07,1563.96 2632.95,1466.81 2645.82,1486.68 2658.7,1506 2671.57,1525.05 2684.45,1582.48 2697.32,1410.98 \n",
       "  2710.2,1377.68 2723.08,1579.7 2735.95,1470.4 2748.83,1561.4 2761.7,1598.73 2774.58,1638.08 2787.45,1621.66 2800.33,1315.41 2813.2,1325.5 2826.08,1437.43 \n",
       "  2838.95,1595 2851.83,1420.57 2864.7,1542.28 2877.58,1559.73 2890.45,1560.02 2903.33,1704.49 2916.2,1525.05 2929.08,1488.54 2941.95,1364.6 2954.83,1577.84 \n",
       "  2967.7,1454.81 2980.58,1757.84 2993.46,1599.39 3006.33,1525.05 3019.21,1619.89 3032.08,1300.98 3044.96,1470.87 3057.83,1418.78 3070.71,1542.57 3083.58,1525.05 \n",
       "  3096.46,1542.65 3109.33,1507.45 3122.21,1369.94 3135.08,1491.36 3147.96,1508.3 3160.83,1801.44 3173.71,1542.95 3186.58,1671.12 3199.46,1562.39 3212.33,1305.92 \n",
       "  3225.21,1725.47 3238.08,1396.39 3250.96,1453.28 3263.84,1525.05 3276.71,1560.78 3289.59,1453.9 3302.46,1723.73 3315.34,1379.62 3328.21,1542.95 3341.09,1597.44 \n",
       "  3353.96,1580.19 3366.84,1506.59 3379.71,1433.96 3392.59,1579.46 3405.46,1416.93 3418.34,1560.78 3431.21,1489.32 3444.09,1419.68 3456.96,1559.88 \n",
       "  \"/>\n",
       "<polyline clip-path=\"url(#clip592)\" style=\"stroke:#3da44d; stroke-linecap:butt; stroke-linejoin:round; stroke-width:4; stroke-opacity:1; fill:none\" points=\"\n",
       "  263.904,1079.87 276.779,1337.49 289.654,1416.46 302.53,1316.05 315.405,1457.66 328.28,1592.44 341.155,1525.05 354.031,1424.37 366.906,1694.23 379.781,1559.73 \n",
       "  392.656,1702.94 405.532,1452.97 418.407,1560.93 431.282,1747.12 444.157,1487.2 457.033,1639.65 469.908,1410.45 482.783,1269.37 495.658,1317.79 508.534,1170.07 \n",
       "  521.409,1556.09 534.284,1651.6 547.159,1336.64 560.035,1525.05 572.91,1464.1 585.785,1616.81 598.66,1556.09 611.535,1463.19 624.411,1228.9 637.286,1440.18 \n",
       "  650.161,1497.14 663.036,1334.78 675.912,1394.3 688.787,1576.85 701.662,1396.73 714.537,1162.34 727.413,1690.37 740.288,1597.97 753.163,1649.51 766.038,1449.92 \n",
       "  778.914,1307.51 791.789,1501.57 804.664,1432.44 817.539,1525.05 830.415,1525.05 843.29,1525.05 856.165,1259.01 869.04,1525.05 881.916,1525.05 894.791,1419.05 \n",
       "  907.666,1340.83 920.541,1505.08 933.417,1465.7 946.292,1644.61 959.167,1464.84 972.042,1525.05 984.918,1446.11 997.793,1409.39 1010.67,1544.1 1023.54,1449.35 \n",
       "  1036.42,1736.64 1049.29,1446.85 1062.17,1563.96 1075.04,1644.03 1087.92,1485.01 1100.79,1625.89 1113.67,1444.18 1126.55,1367.9 1139.42,1682.2 1152.3,1605.92 \n",
       "  1165.17,1691.68 1178.05,1525.05 1190.92,1503.85 1203.8,1525.05 1216.67,1588.97 1229.55,1482.32 1242.42,1399.45 1255.3,1504.48 1268.17,1383.87 1281.05,1605.14 \n",
       "  1293.92,1444.96 1306.8,1584.97 1319.67,1710.19 1332.55,1504.07 1345.42,1504.17 1358.3,1504.28 1371.17,1566.7 1384.05,1421.69 1396.93,1484.42 1409.8,1346.98 \n",
       "  1422.68,1603.25 1435.55,1544.83 1448.43,1544.93 1461.3,1565.09 1474.18,1485.01 1487.05,1625.89 1499.93,1525.05 1512.8,1525.05 1525.68,1586.75 1538.55,1422.72 \n",
       "  1551.43,1405.49 1564.3,1544.74 1577.18,1294.75 1590.05,1469.42 1602.93,1525.05 1615.8,1637.07 1628.68,1544.02 1641.55,1525.05 1654.43,1719.65 1667.31,1646.36 \n",
       "  1680.18,1463.95 1693.06,1444.96 1705.93,1605.14 1718.81,1444.96 1731.68,1505.27 1744.56,1544.83 1757.43,1256.34 1770.31,1695.78 1783.18,1429.33 1796.06,1582.21 \n",
       "  1808.93,1467.89 1821.81,1582.21 1834.68,1486.85 1847.56,1660.31 1860.43,1447.22 1873.31,1563.78 1886.18,1744.8 1899.06,1607.94 1911.93,1609.63 1924.81,1316.75 \n",
       "  1937.69,1565.88 1950.56,1423.72 1963.44,1565.29 1976.31,1669.04 1989.19,1483.4 2002.06,1651.28 2014.94,1440.47 2027.81,1401.33 2040.69,1607.12 2053.56,1442.98 \n",
       "  2066.44,1586.45 2079.31,1650.64 2092.19,1482.76 2105.06,1462.41 2117.94,1566.7 2130.81,1483.4 2143.69,1545.82 2156.56,1422.21 2169.44,1365.63 2182.32,1334.03 \n",
       "  2195.19,1451.04 2208.07,1488.54 2220.94,1470.87 2233.82,1525.05 2246.69,1597.44 2259.57,1506.83 2272.44,1579.94 2285.32,1562.05 2298.19,1543.68 2311.07,1543.76 \n",
       "  2323.94,1581.69 2336.82,1285 2349.69,1453.9 2362.57,1437.8 2375.44,1542.35 2388.32,1542.43 2401.19,1577.62 2414.07,1542.72 2426.94,1542.8 2439.82,1542.87 \n",
       "  2452.7,1436.68 2465.57,1667.36 2478.45,1729.06 2491.32,1487.2 2504.2,1581.95 2517.07,1760.81 2529.95,1346.98 2542.82,1429.33 2555.7,1582.21 2568.57,1583.01 \n",
       "  2581.45,1391.04 2594.32,1506.25 2607.2,1270.49 2620.07,1542.72 2632.95,1507.38 2645.82,1472.48 2658.7,1490.37 2671.57,1542.35 2684.45,1542.43 2697.32,1438.89 \n",
       "  2710.2,1374.33 2723.08,1591.36 2735.95,1458.74 2748.83,1541.53 2761.7,1642.27 2774.58,1663.21 2787.45,1613.8 2800.33,1349.42 2813.2,1507.89 2826.08,1406.87 \n",
       "  2838.95,1575.28 2851.83,1441.66 2864.7,1541.59 2877.58,1541.66 2890.45,1541.73 2903.33,1783.62 2916.2,1507.3 2929.08,1525.05 2941.95,1368.64 2954.83,1542.14 \n",
       "  2967.7,1473.99 2980.58,1697.75 2993.46,1614.18 3006.33,1561.24 3019.21,1616.95 3032.08,1325.5 3044.96,1489.78 3057.83,1403.91 3070.71,1542.14 3083.58,1525.05 \n",
       "  3096.46,1507.96 3109.33,1559.3 3122.21,1389.71 3135.08,1475.42 3147.96,1558.07 3160.83,1763.88 3173.71,1490.08 3186.58,1739.46 3199.46,1543.43 3212.33,1344.83 \n",
       "  3225.21,1723.73 3238.08,1415.5 3250.96,1471.34 3263.84,1437.06 3276.71,1577.62 3289.59,1472.48 3302.46,1776.3 3315.34,1379.62 3328.21,1542.95 3341.09,1543.03 \n",
       "  3353.96,1616.14 3366.84,1470.16 3379.71,1435.15 3392.59,1614.95 3405.46,1399.73 3418.34,1578.3 3431.21,1489.48 3444.09,1420.12 3456.96,1577.18 \n",
       "  \"/>\n",
       "<polyline clip-path=\"url(#clip592)\" style=\"stroke:#c271d2; stroke-linecap:butt; stroke-linejoin:round; stroke-width:4; stroke-opacity:1; fill:none\" points=\"\n",
       "  263.904,1265.04 276.779,1333.53 289.654,1445.6 302.53,1370.58 315.405,1550.4 328.28,1602.04 341.155,1577.18 354.031,1421.44 366.906,1628.66 379.781,1498.9 \n",
       "  392.656,1630.64 405.532,1445.6 418.407,1551.36 431.282,1686.54 444.157,1497.69 457.033,1607.66 469.908,1469.79 482.783,1311.1 495.658,1422.08 508.534,1230.65 \n",
       "  521.409,1525.05 534.284,1548.8 547.159,1384.55 560.035,1571.36 572.91,1478.74 585.785,1571.36 598.66,1525.05 611.535,1410.24 624.411,1326.08 637.286,1460.8 \n",
       "  650.161,1525.05 663.036,1338.06 675.912,1404.92 688.787,1544.83 701.662,1369.38 714.537,1212.47 727.413,1799.61 740.288,1563.07 753.163,1602.16 766.038,1505.64 \n",
       "  778.914,1354.32 791.789,1543.68 804.664,1469.42 817.539,1543.51 830.415,1506.59 843.29,1506.67 856.165,1258.73 869.04,1576.96 881.916,1473.14 894.791,1423.13 \n",
       "  907.666,1441.99 920.541,1541.53 933.417,1525.05 946.292,1608.44 959.167,1491.49 972.042,1508.37 984.918,1491.89 997.793,1427.15 1010.67,1573.71 1023.54,1444.26 \n",
       "  1036.42,1738.47 1049.29,1458.2 1062.17,1575.08 1075.04,1575.69 1087.92,1474.41 1100.79,1609.8 1113.67,1490.94 1126.55,1424.37 1139.42,1642.75 1152.3,1559.3 \n",
       "  1165.17,1664.96 1178.05,1542.87 1190.92,1489.48 1203.8,1507.38 1216.67,1578.3 1229.55,1542.95 1242.42,1418.78 1255.3,1507.6 1268.17,1421.87 1281.05,1593.55 \n",
       "  1293.92,1473.57 1306.8,1576.53 1319.67,1629.97 1332.55,1507.38 1345.42,1525.05 1358.3,1489.93 1371.17,1542.57 1384.05,1438.16 1396.93,1439.95 1409.8,1376.14 \n",
       "  1422.68,1574.1 1435.55,1558.07 1448.43,1525.05 1461.3,1541.66 1474.18,1475.42 1487.05,1591.36 1499.93,1541.79 1512.8,1508.3 1525.68,1609.46 1538.55,1474.2 \n",
       "  1551.43,1425.18 1564.3,1525.05 1577.18,1332.26 1590.05,1478.22 1602.93,1571.88 1615.8,1620.33 1628.68,1541.14 1641.55,1525.05 1654.43,1672.78 1667.31,1592.44 \n",
       "  1680.18,1525.05 1693.06,1440.98 1705.93,1592.17 1718.81,1525.05 1731.68,1576.11 1744.56,1576.75 1757.43,1256.5 1770.31,1707.79 1783.18,1440.98 1796.06,1575.28 \n",
       "  1808.93,1441.66 1821.81,1558.2 1834.68,1541.73 1847.56,1643.71 1860.43,1473.78 1873.31,1525.05 1886.18,1698.48 1899.06,1578.53 1911.93,1597.44 1924.81,1363.91 \n",
       "  1937.69,1560.32 1950.56,1454.81 1963.44,1560.02 1976.31,1649.83 1989.19,1471.11 2002.06,1670.48 2014.94,1433.56 2027.81,1382.74 2040.69,1631.32 2053.56,1453.9 \n",
       "  2066.44,1542.72 2079.31,1632.7 2092.19,1488.85 2105.06,1471.34 2117.94,1507.3 2130.81,1542.8 2143.69,1525.05 2156.56,1472.03 2169.44,1403.91 2182.32,1357.92 \n",
       "  2195.19,1460.04 2208.07,1476.95 2220.94,1461.78 2233.82,1509.38 2246.69,1572.23 2259.57,1477.87 2272.44,1572.23 2285.32,1604.9 2298.19,1508.96 2311.07,1639.05 \n",
       "  2323.94,1541.59 2336.82,1299.23 2349.69,1462.73 2362.57,1403.15 2375.44,1525.05 2388.32,1540.09 2401.19,1616.47 2414.07,1509.67 2426.94,1602.52 2439.82,1540.72 \n",
       "  2452.7,1431.91 2465.57,1665.55 2478.45,1720.11 2491.32,1508.44 2504.2,1608.78 2517.07,1733.18 2529.95,1385.14 2542.82,1423.13 2555.7,1575.69 2568.57,1576.32 \n",
       "  2581.45,1389.71 2594.32,1558.47 2607.2,1312.47 2620.07,1509.14 2632.95,1509.2 2645.82,1446.7 2658.7,1478.74 2671.57,1540.43 2684.45,1540.48 2697.32,1463.65 \n",
       "  2710.2,1390.14 2723.08,1599.46 2735.95,1465.42 2748.83,1539.88 2761.7,1676.32 2774.58,1666.08 2787.45,1589.3 2800.33,1413.25 2813.2,1588.57 2826.08,1383.48 \n",
       "  2838.95,1540.54 2851.83,1448.16 2864.7,1571.01 2877.58,1509.67 2890.45,1602.52 2903.33,1766.53 2916.2,1475.61 2929.08,1476.2 2941.95,1397.52 2954.83,1556.57 \n",
       "  2967.7,1477.87 2980.58,1652.09 2993.46,1606.47 3006.33,1591.36 3019.21,1626.55 3032.08,1324.48 3044.96,1476.39 3057.83,1398.01 3070.71,1525.05 3083.58,1525.05 \n",
       "  3096.46,1540.72 3109.33,1556.57 3122.21,1415.78 3135.08,1448.72 3147.96,1570.68 3160.83,1712.75 3173.71,1493.17 3186.58,1703.5 3199.46,1591.89 3212.33,1311.63 \n",
       "  3225.21,1738.47 3238.08,1441.66 3250.96,1492.16 3263.84,1411.94 3276.71,1557.05 3289.59,1477.14 3302.46,1720.11 3315.34,1426.37 3328.21,1508.83 3341.09,1508.89 \n",
       "  3353.96,1622.95 3366.84,1443.3 3379.71,1508.89 3392.59,1606.47 3405.46,1411.5 3418.34,1573.33 3431.21,1492.8 3444.09,1461.29 3456.96,1588.81 \n",
       "  \"/>\n",
       "<polyline clip-path=\"url(#clip592)\" style=\"stroke:#ac8d18; stroke-linecap:butt; stroke-linejoin:round; stroke-width:4; stroke-opacity:1; fill:none\" points=\"\n",
       "  263.904,1278.78 276.779,1317.79 289.654,1449.92 302.53,1402.79 315.405,1525.05 328.28,1622.57 341.155,1624.92 354.031,1425.18 366.906,1624.92 379.781,1525.05 \n",
       "  392.656,1550.4 405.532,1449.47 418.407,1550.09 431.282,1678.56 444.157,1499.07 457.033,1603.49 469.908,1498.74 482.783,1295.46 495.658,1525.05 508.534,1237.47 \n",
       "  521.409,1479 534.284,1571.1 547.159,1366.07 560.035,1592.44 572.91,1502.46 585.785,1570.34 598.66,1547.88 611.535,1389.9 624.411,1372.75 637.286,1525.05 \n",
       "  650.161,1440.47 663.036,1360.9 675.912,1406.07 688.787,1544.64 701.662,1389.79 714.537,1357.39 727.413,1808.37 740.288,1505.55 753.163,1583.84 766.038,1485.77 \n",
       "  778.914,1390.42 791.789,1563.07 804.664,1468.15 817.539,1562.9 830.415,1525.05 843.29,1487.2 856.165,1269.37 869.04,1560.62 881.916,1525.05 894.791,1401.85 \n",
       "  907.666,1456.26 920.541,1542.14 933.417,1542.21 946.292,1576.96 959.167,1490.37 972.042,1507.82 984.918,1490.8 997.793,1423.96 1010.67,1592.17 1023.54,1408.3 \n",
       "  1036.42,1744.56 1049.29,1490.51 1062.17,1594.41 1075.04,1595.59 1087.92,1437.06 1100.79,1595.29 1113.67,1489.78 1126.55,1455.4 1139.42,1629.97 1152.3,1542.8 \n",
       "  1165.17,1688.3 1178.05,1506.59 1190.92,1488.37 1203.8,1488.7 1216.67,1598.08 1229.55,1525.05 1242.42,1433.96 1255.3,1507.07 1268.17,1418.78 1281.05,1595.59 \n",
       "  1293.92,1454.51 1306.8,1560.17 1319.67,1614.18 1332.55,1525.05 1345.42,1543.11 1358.3,1506.99 1371.17,1543.11 1384.05,1400.26 1396.93,1455.4 1409.8,1389.16 \n",
       "  1422.68,1558.61 1435.55,1575.9 1448.43,1542.14 1461.3,1507.96 1474.18,1525.05 1487.05,1576.53 1499.93,1542.35 1512.8,1507.75 1525.68,1577.18 1538.55,1472.92 \n",
       "  1551.43,1439.6 1564.3,1525.05 1577.18,1343.03 1590.05,1525.05 1602.93,1573.9 1615.8,1641.33 1628.68,1541.93 1641.55,1525.05 1654.43,1697.75 1667.31,1560.47 \n",
       "  1680.18,1542.87 1693.06,1471.8 1705.93,1560.47 1718.81,1525.05 1731.68,1596.81 1744.56,1616.54 1757.43,1256.42 1770.31,1666.15 1783.18,1453.9 1796.06,1578.3 \n",
       "  1808.93,1436.68 1821.81,1595.59 1834.68,1542.87 1847.56,1652.02 1860.43,1470.16 1873.31,1506.91 1886.18,1653.71 1899.06,1600.4 1911.93,1563.25 1924.81,1392.87 \n",
       "  1937.69,1600.06 1950.56,1431.49 1963.44,1580.93 1976.31,1658.44 1989.19,1448.3 2002.06,1739.63 2014.94,1406.63 2027.81,1409.92 2040.69,1620.77 2053.56,1467.36 \n",
       "  2066.44,1525.05 2079.31,1641.25 2092.19,1505.45 2105.06,1486.14 2117.94,1467.36 2130.81,1563.42 2143.69,1505.82 2156.56,1486.85 2169.44,1375.69 2182.32,1310.64 \n",
       "  2195.19,1455.98 2208.07,1490.94 2220.94,1391.35 2233.82,1492.29 2246.69,1590.83 2259.57,1508.51 2272.44,1574.88 2285.32,1626.55 2298.19,1559.44 2311.07,1577.18 \n",
       "  2323.94,1542.57 2336.82,1302.83 2349.69,1475.42 2362.57,1427.53 2375.44,1509.02 2388.32,1525.05 2401.19,1557.18 2414.07,1557.43 2426.94,1590.57 2439.82,1525.05 \n",
       "  2452.7,1411.05 2465.57,1688.88 2478.45,1730.6 2491.32,1490.08 2504.2,1613.04 2517.07,1762.98 2529.95,1377.02 2542.82,1452.97 2555.7,1525.05 2568.57,1597.13 \n",
       "  2581.45,1382.13 2594.32,1542.65 2607.2,1318.65 2620.07,1525.05 2632.95,1508.3 2645.82,1425.98 2658.7,1492.54 2671.57,1525.05 2684.45,1573.9 2697.32,1460.04 \n",
       "  2710.2,1366.85 2723.08,1603.39 2735.95,1477.87 2748.83,1540.72 2761.7,1701.43 2774.58,1641.33 2787.45,1575.9 2800.33,1491.08 2813.2,1576.11 2826.08,1373.72 \n",
       "  2838.95,1508.57 2851.83,1476 2864.7,1574.1 2877.58,1508.64 2890.45,1591.1 2903.33,1782.54 2916.2,1560.62 2929.08,1507.22 2941.95,1350.89 2954.83,1542.14 \n",
       "  2967.7,1490.94 2980.58,1628.23 2993.46,1613.04 3006.33,1614.95 3019.21,1673.08 3032.08,1322.85 3044.96,1453.9 3057.83,1386.31 3070.71,1525.05 3083.58,1525.05 \n",
       "  3096.46,1508.03 3109.33,1559.16 3122.21,1440.3 3135.08,1425.58 3147.96,1591.1 3160.83,1694.92 3173.71,1507.75 3186.58,1737.63 3199.46,1616.95 3212.33,1361.08 \n",
       "  3225.21,1707.65 3238.08,1451.04 3250.96,1470.4 3263.84,1400.26 3276.71,1507.53 3289.59,1455.69 3302.46,1754.86 3315.34,1452.97 3328.21,1489.48 3341.09,1507.38 \n",
       "  3353.96,1650.37 3366.84,1435.15 3379.71,1454.51 3392.59,1631.32 3405.46,1401.33 3418.34,1595.29 3431.21,1489.78 3444.09,1438.16 3456.96,1629.53 \n",
       "  \"/>\n",
       "<path clip-path=\"url(#clip590)\" d=\"\n",
       "M280.934 483.593 L742.907 483.593 L742.907 172.553 L280.934 172.553  Z\n",
       "  \" fill=\"#ffffff\" fill-rule=\"evenodd\" fill-opacity=\"1\"/>\n",
       "<polyline clip-path=\"url(#clip590)\" style=\"stroke:#000000; stroke-linecap:butt; stroke-linejoin:round; stroke-width:4; stroke-opacity:1; fill:none\" points=\"\n",
       "  280.934,483.593 742.907,483.593 742.907,172.553 280.934,172.553 280.934,483.593 \n",
       "  \"/>\n",
       "<polyline clip-path=\"url(#clip590)\" style=\"stroke:#009af9; stroke-linecap:butt; stroke-linejoin:round; stroke-width:4; stroke-opacity:1; fill:none\" points=\"\n",
       "  318.541,224.393 544.184,224.393 \n",
       "  \"/>\n",
       "<path clip-path=\"url(#clip590)\" d=\"M583.249 207.113 L601.606 207.113 L601.606 211.048 L587.532 211.048 L587.532 219.52 Q588.55 219.173 589.569 219.011 Q590.587 218.826 591.606 218.826 Q597.393 218.826 600.772 221.997 Q604.152 225.168 604.152 230.585 Q604.152 236.163 600.68 239.265 Q597.207 242.344 590.888 242.344 Q588.712 242.344 586.444 241.974 Q584.198 241.603 581.791 240.862 L581.791 236.163 Q583.874 237.298 586.096 237.853 Q588.319 238.409 590.795 238.409 Q594.8 238.409 597.138 236.302 Q599.476 234.196 599.476 230.585 Q599.476 226.974 597.138 224.867 Q594.8 222.761 590.795 222.761 Q588.92 222.761 587.045 223.177 Q585.194 223.594 583.249 224.474 L583.249 207.113 Z\" fill=\"#000000\" fill-rule=\"evenodd\" fill-opacity=\"1\" /><path clip-path=\"url(#clip590)\" d=\"M608.203 207.113 L613.226 207.113 L622.809 221.326 L632.323 207.113 L637.346 207.113 L625.124 225.214 L625.124 241.673 L620.425 241.673 L620.425 225.214 L608.203 207.113 Z\" fill=\"#000000\" fill-rule=\"evenodd\" fill-opacity=\"1\" /><polyline clip-path=\"url(#clip590)\" style=\"stroke:#e26f46; stroke-linecap:butt; stroke-linejoin:round; stroke-width:4; stroke-opacity:1; fill:none\" points=\"\n",
       "  318.541,276.233 544.184,276.233 \n",
       "  \"/>\n",
       "<path clip-path=\"url(#clip590)\" d=\"M581.791 258.953 L604.013 258.953 L604.013 260.943 L591.467 293.513 L586.582 293.513 L598.388 262.888 L581.791 262.888 L581.791 258.953 Z\" fill=\"#000000\" fill-rule=\"evenodd\" fill-opacity=\"1\" /><path clip-path=\"url(#clip590)\" d=\"M607.971 258.953 L612.994 258.953 L622.578 273.166 L632.091 258.953 L637.115 258.953 L624.892 277.054 L624.892 293.513 L620.193 293.513 L620.193 277.054 L607.971 258.953 Z\" fill=\"#000000\" fill-rule=\"evenodd\" fill-opacity=\"1\" /><polyline clip-path=\"url(#clip590)\" style=\"stroke:#3da44d; stroke-linecap:butt; stroke-linejoin:round; stroke-width:4; stroke-opacity:1; fill:none\" points=\"\n",
       "  318.541,328.073 544.184,328.073 \n",
       "  \"/>\n",
       "<path clip-path=\"url(#clip590)\" d=\"M582.462 341.417 L590.101 341.417 L590.101 315.052 L581.791 316.719 L581.791 312.459 L590.055 310.793 L594.731 310.793 L594.731 341.417 L602.369 341.417 L602.369 345.353 L582.462 345.353 L582.462 341.417 Z\" fill=\"#000000\" fill-rule=\"evenodd\" fill-opacity=\"1\" /><path clip-path=\"url(#clip590)\" d=\"M621.814 313.871 Q618.203 313.871 616.374 317.436 Q614.568 320.978 614.568 328.107 Q614.568 335.214 616.374 338.779 Q618.203 342.32 621.814 342.32 Q625.448 342.32 627.254 338.779 Q629.082 335.214 629.082 328.107 Q629.082 320.978 627.254 317.436 Q625.448 313.871 621.814 313.871 M621.814 310.168 Q627.624 310.168 630.679 314.774 Q633.758 319.357 633.758 328.107 Q633.758 336.834 630.679 341.441 Q627.624 346.024 621.814 346.024 Q616.004 346.024 612.925 341.441 Q609.869 336.834 609.869 328.107 Q609.869 319.357 612.925 314.774 Q616.004 310.168 621.814 310.168 Z\" fill=\"#000000\" fill-rule=\"evenodd\" fill-opacity=\"1\" /><path clip-path=\"url(#clip590)\" d=\"M636.814 310.793 L641.837 310.793 L651.42 325.006 L660.934 310.793 L665.957 310.793 L653.735 328.894 L653.735 345.353 L649.036 345.353 L649.036 328.894 L636.814 310.793 Z\" fill=\"#000000\" fill-rule=\"evenodd\" fill-opacity=\"1\" /><polyline clip-path=\"url(#clip590)\" style=\"stroke:#c271d2; stroke-linecap:butt; stroke-linejoin:round; stroke-width:4; stroke-opacity:1; fill:none\" points=\"\n",
       "  318.541,379.913 544.184,379.913 \n",
       "  \"/>\n",
       "<path clip-path=\"url(#clip590)\" d=\"M587.416 393.257 L603.735 393.257 L603.735 397.193 L581.791 397.193 L581.791 393.257 Q584.453 390.503 589.036 385.873 Q593.643 381.221 594.823 379.878 Q597.069 377.355 597.948 375.619 Q598.851 373.859 598.851 372.17 Q598.851 369.415 596.906 367.679 Q594.985 365.943 591.883 365.943 Q589.684 365.943 587.231 366.707 Q584.8 367.471 582.022 369.022 L582.022 364.299 Q584.846 363.165 587.3 362.586 Q589.754 362.008 591.791 362.008 Q597.161 362.008 600.356 364.693 Q603.55 367.378 603.55 371.869 Q603.55 373.998 602.74 375.92 Q601.953 377.818 599.846 380.41 Q599.268 381.082 596.166 384.299 Q593.064 387.494 587.416 393.257 Z\" fill=\"#000000\" fill-rule=\"evenodd\" fill-opacity=\"1\" /><path clip-path=\"url(#clip590)\" d=\"M623.55 365.711 Q619.939 365.711 618.11 369.276 Q616.305 372.818 616.305 379.947 Q616.305 387.054 618.11 390.619 Q619.939 394.16 623.55 394.16 Q627.184 394.16 628.99 390.619 Q630.818 387.054 630.818 379.947 Q630.818 372.818 628.99 369.276 Q627.184 365.711 623.55 365.711 M623.55 362.008 Q629.36 362.008 632.416 366.614 Q635.494 371.197 635.494 379.947 Q635.494 388.674 632.416 393.281 Q629.36 397.864 623.55 397.864 Q617.74 397.864 614.661 393.281 Q611.605 388.674 611.605 379.947 Q611.605 371.197 614.661 366.614 Q617.74 362.008 623.55 362.008 Z\" fill=\"#000000\" fill-rule=\"evenodd\" fill-opacity=\"1\" /><path clip-path=\"url(#clip590)\" d=\"M638.55 362.633 L643.573 362.633 L653.156 376.846 L662.67 362.633 L667.693 362.633 L655.471 380.734 L655.471 397.193 L650.772 397.193 L650.772 380.734 L638.55 362.633 Z\" fill=\"#000000\" fill-rule=\"evenodd\" fill-opacity=\"1\" /><polyline clip-path=\"url(#clip590)\" style=\"stroke:#ac8d18; stroke-linecap:butt; stroke-linejoin:round; stroke-width:4; stroke-opacity:1; fill:none\" points=\"\n",
       "  318.541,431.753 544.184,431.753 \n",
       "  \"/>\n",
       "<path clip-path=\"url(#clip590)\" d=\"M597.416 430.398 Q600.772 431.116 602.647 433.385 Q604.545 435.653 604.545 438.986 Q604.545 444.102 601.027 446.903 Q597.508 449.704 591.027 449.704 Q588.851 449.704 586.536 449.264 Q584.245 448.847 581.791 447.991 L581.791 443.477 Q583.735 444.611 586.05 445.19 Q588.365 445.769 590.888 445.769 Q595.286 445.769 597.578 444.033 Q599.893 442.297 599.893 438.986 Q599.893 435.931 597.74 434.218 Q595.61 432.482 591.791 432.482 L587.763 432.482 L587.763 428.639 L591.976 428.639 Q595.425 428.639 597.254 427.274 Q599.082 425.885 599.082 423.292 Q599.082 420.63 597.184 419.218 Q595.309 417.783 591.791 417.783 Q589.869 417.783 587.67 418.199 Q585.471 418.616 582.832 419.496 L582.832 415.329 Q585.494 414.588 587.809 414.218 Q590.147 413.848 592.207 413.848 Q597.531 413.848 600.633 416.278 Q603.735 418.686 603.735 422.806 Q603.735 425.676 602.092 427.667 Q600.448 429.635 597.416 430.398 Z\" fill=\"#000000\" fill-rule=\"evenodd\" fill-opacity=\"1\" /><path clip-path=\"url(#clip590)\" d=\"M623.411 417.551 Q619.8 417.551 617.971 421.116 Q616.166 424.658 616.166 431.787 Q616.166 438.894 617.971 442.459 Q619.8 446 623.411 446 Q627.045 446 628.851 442.459 Q630.679 438.894 630.679 431.787 Q630.679 424.658 628.851 421.116 Q627.045 417.551 623.411 417.551 M623.411 413.848 Q629.221 413.848 632.277 418.454 Q635.355 423.037 635.355 431.787 Q635.355 440.514 632.277 445.121 Q629.221 449.704 623.411 449.704 Q617.601 449.704 614.522 445.121 Q611.467 440.514 611.467 431.787 Q611.467 423.037 614.522 418.454 Q617.601 413.848 623.411 413.848 Z\" fill=\"#000000\" fill-rule=\"evenodd\" fill-opacity=\"1\" /><path clip-path=\"url(#clip590)\" d=\"M638.411 414.473 L643.434 414.473 L653.017 428.686 L662.531 414.473 L667.554 414.473 L655.332 432.574 L655.332 449.033 L650.633 449.033 L650.633 432.574 L638.411 414.473 Z\" fill=\"#000000\" fill-rule=\"evenodd\" fill-opacity=\"1\" /></svg>\n"
      ]
     },
     "execution_count": 5,
     "metadata": {},
     "output_type": "execute_result"
    }
   ],
   "source": [
    "s_diff = diff(log.(Matrix(s_train)), dims = 1); lb = [\"5Y\", \"7Y\", \"10Y\", \"20Y\", \"30Y\"]\n",
    "h4(s_diff, \"First-Differences\", 1, 5, lb)"
   ]
  },
  {
   "cell_type": "markdown",
   "id": "controlled-surveillance",
   "metadata": {},
   "source": [
    "It seems to be more \"stationary\", so there is at least one order of differencing in the series."
   ]
  },
  {
   "cell_type": "markdown",
   "id": "center-joint",
   "metadata": {},
   "source": [
    "### Running Augmented Dickey-Fuller (ADF) Test to $\\text{Confirm}^*$ Stationarity"
   ]
  },
  {
   "cell_type": "markdown",
   "id": "wrong-bobby",
   "metadata": {},
   "source": [
    "**Some clarifications**: the following models are on log-transformed first-differences, not the original data. The first-differences may be, e.g., a white noise series, and the original data could be a series based on a log-normal or Cauchy variable, which is why a data-driven approach to modeling is more precise, to let the data speak for itself, after removing non-stationarity and thereby, determining the differencing order of the series."
   ]
  },
  {
   "cell_type": "markdown",
   "id": "unauthorized-wyoming",
   "metadata": {},
   "source": [
    "Here, I am testing for unit root, thereby confirming$^*$ that the differenced time series is either stationary or trend-stationary. If there is no unit root ($H_0$), the time series would be a random walk\n",
    "\n",
    "$$\n",
    "    H_0: \\hat{Y_t} = \\mu + \\beta_t + \\phi Y_{t - 1} + \\epsilon_t\n",
    "$$\n",
    "\n",
    "for $\\phi \\neq 0$, where the constant term, $\\mu$ (not always zero), is depicted for completion of the formula, as well as the error term, $\\epsilon_t$."
   ]
  },
  {
   "cell_type": "markdown",
   "id": "coupled-sigma",
   "metadata": {},
   "source": [
    "$^*$under the $5\\%$ confidence level"
   ]
  },
  {
   "cell_type": "markdown",
   "id": "opponent-shelf",
   "metadata": {},
   "source": [
    "I then test for $H_0$, that there is a unit root, against $H_a$, that there is no unit root present and the time series is neither stationary nor trend stationary (indicating that there is no regression to the mean). There are many nonstationary models, some involving an $\\text{AR}$ term, others an $\\text{MA}$ term and some a combination of both. Some models are volatility models, like $\\text{GARCH}$; I will be modeling volatility in `Treas TS Analysis II`.\n",
    "\n",
    "Also, for completion of the formula, $\\beta_t$ is introduced, but with no linear trend in the data, by $\\textit{modus ponendo ponens}$, I have that\n",
    "\n",
    "$$\n",
    "    \\beta_t = 0\\ \\forall t \\rightarrow H_0 : \\hat{Y_t} = \\mu + \\phi Y_{t-1} + \\epsilon_t \\\\\n",
    "    \\beta_t = 0\\ \\forall t \\\\\n",
    "    \\therefore H_0 : \\hat{Y_t} = \\mu + \\phi Y_{t-1} + \\epsilon_t\n",
    "$$\n",
    "\n",
    "The constant term, $\\mu$, can be replaced with $\\mu = 0$, further simplifying the model to $H_0 : \\hat{Y_t} = \\phi Y_{t-1} + \\epsilon_t$, but what if $\\mu \\neq 0$? I will be investigating the constant term in `Treas TS Analysis III`.\n",
    "\n",
    "If the $\\text{ADF}$ test on first-differences results in stationarity, I would succeed. Otherwise, I would need to difference again, taking another $\\text{ADF}$ test, and repeating for as along as there is nonstationarity left in the model. The end result would be that I can model a time series for $\\text{ARIMA}(p, d, q)$, as in the precedure illustrated below.\n",
    "\n",
    "$$\n",
    "    \\text{let}\\ W_t = Y_t - Y_{t - 1} \\\\~\\\\\n",
    "    \\therefore \\forall t:\n",
    "    W_t = \\mu + \\overbrace{\\phi_1 W_{t -1} + \\phi_2 W_{t - 2} + \\cdots + \\phi_p W_{t - p}}^{\\text{lagged W values}} + \\epsilon_t - \\underbrace{\\theta_1 \\epsilon_{t - 1} - \\theta_2 \\epsilon_{t - 2} - \\cdots - \\theta_q \\epsilon_{t - q}}_{\\text{lagged error terms}} \\quad \\forall \\phi \\in (-1, 1), \\quad \\forall \\theta \\in [-1, 1] \\quad \\backslash 0\n",
    "$$\n",
    "\n",
    "where $\\epsilon_t \\sim \\mathcal{N}(\\mu_\\epsilon, \\sigma^2_\\epsilon)$ is an error term, and $\\theta \\in [-1, 1]$, for invertibility of the lagged errors. Taking a lag of $k = \\lfloor(n - 1)^{(1 \\ / \\ m)}\\rfloor$, where $m = 3$ and $n$ is the number of time periods for the univariate regressor, I then have"
   ]
  },
  {
   "cell_type": "code",
   "execution_count": 6,
   "id": "crucial-geometry",
   "metadata": {},
   "outputs": [
    {
     "data": {
      "text/plain": [
       "5-element Array{ADFTest,1}:\n",
       " Augmented Dickey-Fuller unit root test\n",
       "--------------------------------------\n",
       "Population details:\n",
       "    parameter of interest:   coefficient on lagged non-differenced variable\n",
       "    value under h_0:         0\n",
       "    point estimate:          -1.17501\n",
       "\n",
       "Test summary:\n",
       "    outcome with 95% confidence: reject h_0\n",
       "    p-value:                     <1e-5\n",
       "\n",
       "Details:\n",
       "    sample size in regression:          238\n",
       "    number of lags:                     10\n",
       "    ADF statistic:                      -5.24396\n",
       "    Critical values at 1%, 5%, and 10%: [-3.45689 -2.87322 -2.57299]\n",
       "\n",
       " Augmented Dickey-Fuller unit root test\n",
       "--------------------------------------\n",
       "Population details:\n",
       "    parameter of interest:   coefficient on lagged non-differenced variable\n",
       "    value under h_0:         0\n",
       "    point estimate:          -1.04972\n",
       "\n",
       "Test summary:\n",
       "    outcome with 95% confidence: reject h_0\n",
       "    p-value:                     <1e-4\n",
       "\n",
       "Details:\n",
       "    sample size in regression:          238\n",
       "    number of lags:                     10\n",
       "    ADF statistic:                      -4.8384\n",
       "    Critical values at 1%, 5%, and 10%: [-3.45689 -2.87322 -2.57299]\n",
       "\n",
       " Augmented Dickey-Fuller unit root test\n",
       "--------------------------------------\n",
       "Population details:\n",
       "    parameter of interest:   coefficient on lagged non-differenced variable\n",
       "    value under h_0:         0\n",
       "    point estimate:          -1.09089\n",
       "\n",
       "Test summary:\n",
       "    outcome with 95% confidence: reject h_0\n",
       "    p-value:                     <1e-4\n",
       "\n",
       "Details:\n",
       "    sample size in regression:          238\n",
       "    number of lags:                     10\n",
       "    ADF statistic:                      -4.84366\n",
       "    Critical values at 1%, 5%, and 10%: [-3.45689 -2.87322 -2.57299]\n",
       "\n",
       " Augmented Dickey-Fuller unit root test\n",
       "--------------------------------------\n",
       "Population details:\n",
       "    parameter of interest:   coefficient on lagged non-differenced variable\n",
       "    value under h_0:         0\n",
       "    point estimate:          -1.0836\n",
       "\n",
       "Test summary:\n",
       "    outcome with 95% confidence: reject h_0\n",
       "    p-value:                     <1e-4\n",
       "\n",
       "Details:\n",
       "    sample size in regression:          238\n",
       "    number of lags:                     10\n",
       "    ADF statistic:                      -4.76625\n",
       "    Critical values at 1%, 5%, and 10%: [-3.45689 -2.87322 -2.57299]\n",
       "\n",
       " Augmented Dickey-Fuller unit root test\n",
       "--------------------------------------\n",
       "Population details:\n",
       "    parameter of interest:   coefficient on lagged non-differenced variable\n",
       "    value under h_0:         0\n",
       "    point estimate:          -1.19778\n",
       "\n",
       "Test summary:\n",
       "    outcome with 95% confidence: reject h_0\n",
       "    p-value:                     <1e-5\n",
       "\n",
       "Details:\n",
       "    sample size in regression:          238\n",
       "    number of lags:                     10\n",
       "    ADF statistic:                      -5.19553\n",
       "    Critical values at 1%, 5%, and 10%: [-3.45689 -2.87322 -2.57299]\n"
      ]
     },
     "execution_count": 6,
     "metadata": {},
     "output_type": "execute_result"
    }
   ],
   "source": [
    "using HypothesisTests\n",
    "\n",
    "Y = s_diff\n",
    "m = 3\n",
    "[ADFTest(Y[:, C], Symbol(\"constant\"), trunc(Int, (length(Y)-1)^(1/m))) for C in 1:5]"
   ]
  },
  {
   "cell_type": "markdown",
   "id": "prostate-roller",
   "metadata": {},
   "source": [
    "This results in rejection of the $H_0$ hypothesis for all tests, which means that there is no unit root for the first-differences of the inflation rates. This means that there is stationarity in the data, since there is no $\\beta$ defining a linear trend in the series (i.e., not a trend-stationary time series), which means that the differencing order $d = 1$. I will now evaluate how \"normal\" the time series are distributed, at the $5\\%$ confidence level ($\\alpha = 5\\%$), using the Jarque-Bera test."
   ]
  },
  {
   "cell_type": "markdown",
   "id": "inside-accuracy",
   "metadata": {},
   "source": [
    "### Running Jarque-Bera Lagrange Multiplier Test to Evaluate Normality and Further Notes on Log-Transformed First-Differences"
   ]
  },
  {
   "cell_type": "markdown",
   "id": "beginning-cycling",
   "metadata": {},
   "source": [
    "When I first tackled this section, I thought I was unable to perform log-normal transformation on the $7$ and $10$ year real CMT rates, since five (5) of the real yield curve rate entries are $< 0$ for the $7$ year and nine (9) of the entries are $< 0$ for the $10$ year, but then I looked at it again, and I was taking logarithms for the original data (nominal and real CMT values) and not the inflation rates themselves.\n",
    "\n",
    "In addition, I must keep in mind that there is a difference between a normal and log-normal series distribution. A series could be normally distributed but not log-normally distributed. A series that is log-normally distributed is normally distributed **in its logarithm**.\n",
    "\n",
    "If I want to find out if a series that is normally distributed **in its random variable** (each stochastic process involves a random variable) is also normally distributed **in its logarithm**, I would need to perform a **J-B test** on the log-variable in question (or series determined by such log-variable), prior to differencing the logirthm of inflation rates in the yield curve.\n",
    "\n",
    "$\\therefore$\n",
    "\n",
    "Following the equation\n",
    "\n",
    "$\\log{(B)} - \\log{(A)} = \\log{\\left(\\frac{B}{A}\\right)}$\n",
    "\n",
    "NOT\n",
    "\n",
    "$\\log({B}) - \\log({A}) \\neq \\log{(B - A)} = \\log{(C)}, \\quad \\text{where}\\ C = B - A$\n",
    "\n",
    "I would first need to make sure that the logarithm of each inflation rate is nonnegative and then take first-differences (finding negative nominal or real values has nothing to do with the process at hand, provided that the inflation rates are nonnegative), which is why"
   ]
  },
  {
   "cell_type": "code",
   "execution_count": 7,
   "id": "champion-border",
   "metadata": {},
   "outputs": [
    {
     "data": {
      "text/plain": [
       "5-element Array{Int64,1}:\n",
       " 0\n",
       " 0\n",
       " 0\n",
       " 0\n",
       " 0"
      ]
     },
     "execution_count": 7,
     "metadata": {},
     "output_type": "execute_result"
    }
   ],
   "source": [
    "h5(s_train)"
   ]
  },
  {
   "cell_type": "markdown",
   "id": "intelligent-heath",
   "metadata": {},
   "source": [
    "which means that none of the inflation rates are negative. Furthermore,"
   ]
  },
  {
   "cell_type": "code",
   "execution_count": 8,
   "id": "streaming-underwear",
   "metadata": {},
   "outputs": [
    {
     "data": {
      "text/plain": [
       "5-element Array{JarqueBeraTest,1}:\n",
       " Jarque-Bera normality test\n",
       "--------------------------\n",
       "Population details:\n",
       "    parameter of interest:   skewness and kurtosis\n",
       "    value under h_0:         \"0 and 3\"\n",
       "    point estimate:          \"1.897055640383568 and 12.765383900101675\"\n",
       "\n",
       "Test summary:\n",
       "    outcome with 95% confidence: reject h_0\n",
       "    one-sided p-value:           <1e-99\n",
       "\n",
       "Details:\n",
       "    number of observations:         249\n",
       "    JB statistic:                   1138.74\n",
       "\n",
       " Jarque-Bera normality test\n",
       "--------------------------\n",
       "Population details:\n",
       "    parameter of interest:   skewness and kurtosis\n",
       "    value under h_0:         \"0 and 3\"\n",
       "    point estimate:          \"0.8337786194123509 and 5.482388749239468\"\n",
       "\n",
       "Test summary:\n",
       "    outcome with 95% confidence: reject h_0\n",
       "    one-sided p-value:           <1e-20\n",
       "\n",
       "Details:\n",
       "    number of observations:         249\n",
       "    JB statistic:                   92.7836\n",
       "\n",
       " Jarque-Bera normality test\n",
       "--------------------------\n",
       "Population details:\n",
       "    parameter of interest:   skewness and kurtosis\n",
       "    value under h_0:         \"0 and 3\"\n",
       "    point estimate:          \"0.32162644755650766 and 3.7181980481773063\"\n",
       "\n",
       "Test summary:\n",
       "    outcome with 95% confidence: reject h_0\n",
       "    one-sided p-value:           0.0080\n",
       "\n",
       "Details:\n",
       "    number of observations:         249\n",
       "    JB statistic:                   9.64442\n",
       "\n",
       " Jarque-Bera normality test\n",
       "--------------------------\n",
       "Population details:\n",
       "    parameter of interest:   skewness and kurtosis\n",
       "    value under h_0:         \"0 and 3\"\n",
       "    point estimate:          \"0.1633627361732571 and 3.3948153175191904\"\n",
       "\n",
       "Test summary:\n",
       "    outcome with 95% confidence: fail to reject h_0\n",
       "    one-sided p-value:           0.2560\n",
       "\n",
       "Details:\n",
       "    number of observations:         249\n",
       "    JB statistic:                   2.72477\n",
       "\n",
       " Jarque-Bera normality test\n",
       "--------------------------\n",
       "Population details:\n",
       "    parameter of interest:   skewness and kurtosis\n",
       "    value under h_0:         \"0 and 3\"\n",
       "    point estimate:          \"-0.0028825983800276535 and 3.2869073277732235\"\n",
       "\n",
       "Test summary:\n",
       "    outcome with 95% confidence: fail to reject h_0\n",
       "    one-sided p-value:           0.6523\n",
       "\n",
       "Details:\n",
       "    number of observations:         249\n",
       "    JB statistic:                   0.854371\n"
      ]
     },
     "execution_count": 8,
     "metadata": {},
     "output_type": "execute_result"
    }
   ],
   "source": [
    "Y = s_diff\n",
    "[JarqueBeraTest(Y[:, C]) for C in 1:5]"
   ]
  },
  {
   "cell_type": "markdown",
   "id": "regular-sessions",
   "metadata": {},
   "source": [
    "**Note:** As of $18$ Jan $2022$, the above error is no longer relevant, since I moved all the analysis on the original `tux` and `tuy` dataframes to `Exploratory Analysis`."
   ]
  },
  {
   "cell_type": "markdown",
   "id": "legitimate-gnome",
   "metadata": {},
   "source": [
    "$\\therefore$\n",
    "\n",
    "Log-transformed first-differences for $t \\in \\{5, 7, 10\\}$ CMT inflation are normally distributed. Rejecting at the $5\\%$ confidence level, the $20$ and $30$ year inflation series have skewness and excess kurtosis greater than zero (0) (and no unit root at the $5\\%$ level for $2021$ as per the ADF test results).\n",
    "\n",
    "I can confortably reject $H_0$ for inflation rates at $t \\in \\{20, 30\\}$, establishing that these series are not normal in their logarithm or log-normal for any predictive model that can be built based on these test results, with $95\\%$ confidence. The $t \\in {5, 7, 10}$ bond is log-normal for fiscal year $2021$, however.\n",
    "\n",
    "Regardless, it is best practice to use the first-differences of log transformations for Treasury securities with maturities $C \\in \\{5, 7, 10, 20, 30\\}$ years, due to the $\\text{AIC}$ condition mentioned earlier."
   ]
  },
  {
   "cell_type": "markdown",
   "id": "adopted-bridal",
   "metadata": {},
   "source": [
    "## Plotting ACF and PACF $+$ Akiake Information Criterion (AIC) Statespace Modeling"
   ]
  },
  {
   "cell_type": "markdown",
   "id": "lasting-perth",
   "metadata": {},
   "source": [
    "$\n",
    "    W_t = \\mu + \\overbrace{\\phi_1 W_{t -1} + \\phi_2 W_{t - 2} + \\cdots + \\phi_p W_{t - p}}^{\\text{lagged W values}} + \\epsilon_t - \\underbrace{\\theta_1 \\epsilon_{t - 1} - \\theta_2 \\epsilon_{t - 2} - \\cdots - \\theta_q \\epsilon_{t - q}}_{\\text{lagged error terms}} \\quad \\forall \\phi \\in (-1, 1) \\quad \\forall \\theta \\in [-1, 1] \\quad \\backslash 0\n",
    "$"
   ]
  },
  {
   "cell_type": "markdown",
   "id": "sixth-mobile",
   "metadata": {},
   "source": [
    "### ACF & PACF: Selecting the Moving Average (MA) and Autoregressive (AR) Terms"
   ]
  },
  {
   "cell_type": "markdown",
   "id": "convenient-throat",
   "metadata": {},
   "source": [
    "I will now determine the ACF and PACF for the above differenced time series. With a **differencing parameter $d = 1$**, the other two parameters in an $\\text{ARIMA}(p, 1, q)$ model, the **$p$ (lagged Y values)** and the **$q$ (lagged errors)** in the inflation data will be determined subsequently. Two functions come to mind: the autocorrelation function (ACF) and its partial counterpart, the PACF."
   ]
  },
  {
   "cell_type": "code",
   "execution_count": 9,
   "id": "flying-developer",
   "metadata": {
    "tags": []
   },
   "outputs": [
    {
     "data": {
      "image/svg+xml": [
       "<?xml version=\"1.0\" encoding=\"utf-8\"?>\n",
       "<svg xmlns=\"http://www.w3.org/2000/svg\" xmlns:xlink=\"http://www.w3.org/1999/xlink\" width=\"900\" height=\"500\" viewBox=\"0 0 3600 2000\">\n",
       "<defs>\n",
       "  <clipPath id=\"clip630\">\n",
       "    <rect x=\"0\" y=\"0\" width=\"3600\" height=\"2000\"/>\n",
       "  </clipPath>\n",
       "</defs>\n",
       "<path clip-path=\"url(#clip630)\" d=\"\n",
       "M0 2000 L3600 2000 L3600 0 L0 0  Z\n",
       "  \" fill=\"#ffffff\" fill-rule=\"evenodd\" fill-opacity=\"1\"/>\n",
       "<defs>\n",
       "  <clipPath id=\"clip631\">\n",
       "    <rect x=\"720\" y=\"0\" width=\"2521\" height=\"2000\"/>\n",
       "  </clipPath>\n",
       "</defs>\n",
       "<path clip-path=\"url(#clip630)\" d=\"\n",
       "M236.098 888.208 L3552.76 888.208 L3552.76 113.392 L236.098 113.392  Z\n",
       "  \" fill=\"#ffffff\" fill-rule=\"evenodd\" fill-opacity=\"1\"/>\n",
       "<defs>\n",
       "  <clipPath id=\"clip632\">\n",
       "    <rect x=\"236\" y=\"113\" width=\"3318\" height=\"776\"/>\n",
       "  </clipPath>\n",
       "</defs>\n",
       "<polyline clip-path=\"url(#clip632)\" style=\"stroke:#000000; stroke-linecap:butt; stroke-linejoin:round; stroke-width:2; stroke-opacity:0.1; fill:none\" points=\"\n",
       "  988.686,888.208 988.686,113.392 \n",
       "  \"/>\n",
       "<polyline clip-path=\"url(#clip632)\" style=\"stroke:#000000; stroke-linecap:butt; stroke-linejoin:round; stroke-width:2; stroke-opacity:0.1; fill:none\" points=\"\n",
       "  1812.09,888.208 1812.09,113.392 \n",
       "  \"/>\n",
       "<polyline clip-path=\"url(#clip632)\" style=\"stroke:#000000; stroke-linecap:butt; stroke-linejoin:round; stroke-width:2; stroke-opacity:0.1; fill:none\" points=\"\n",
       "  2635.49,888.208 2635.49,113.392 \n",
       "  \"/>\n",
       "<polyline clip-path=\"url(#clip632)\" style=\"stroke:#000000; stroke-linecap:butt; stroke-linejoin:round; stroke-width:2; stroke-opacity:0.1; fill:none\" points=\"\n",
       "  3458.89,888.208 3458.89,113.392 \n",
       "  \"/>\n",
       "<polyline clip-path=\"url(#clip630)\" style=\"stroke:#000000; stroke-linecap:butt; stroke-linejoin:round; stroke-width:4; stroke-opacity:1; fill:none\" points=\"\n",
       "  236.098,888.208 3552.76,888.208 \n",
       "  \"/>\n",
       "<polyline clip-path=\"url(#clip630)\" style=\"stroke:#000000; stroke-linecap:butt; stroke-linejoin:round; stroke-width:4; stroke-opacity:1; fill:none\" points=\"\n",
       "  988.686,888.208 988.686,869.31 \n",
       "  \"/>\n",
       "<polyline clip-path=\"url(#clip630)\" style=\"stroke:#000000; stroke-linecap:butt; stroke-linejoin:round; stroke-width:4; stroke-opacity:1; fill:none\" points=\"\n",
       "  1812.09,888.208 1812.09,869.31 \n",
       "  \"/>\n",
       "<polyline clip-path=\"url(#clip630)\" style=\"stroke:#000000; stroke-linecap:butt; stroke-linejoin:round; stroke-width:4; stroke-opacity:1; fill:none\" points=\"\n",
       "  2635.49,888.208 2635.49,869.31 \n",
       "  \"/>\n",
       "<polyline clip-path=\"url(#clip630)\" style=\"stroke:#000000; stroke-linecap:butt; stroke-linejoin:round; stroke-width:4; stroke-opacity:1; fill:none\" points=\"\n",
       "  3458.89,888.208 3458.89,869.31 \n",
       "  \"/>\n",
       "<path clip-path=\"url(#clip630)\" d=\"M978.964 923.92 L997.32 923.92 L997.32 927.855 L983.246 927.855 L983.246 936.327 Q984.265 935.98 985.283 935.818 Q986.302 935.633 987.32 935.633 Q993.107 935.633 996.487 938.804 Q999.867 941.975 999.867 947.392 Q999.867 952.971 996.394 956.072 Q992.922 959.151 986.603 959.151 Q984.427 959.151 982.158 958.781 Q979.913 958.41 977.506 957.67 L977.506 952.971 Q979.589 954.105 981.811 954.66 Q984.033 955.216 986.51 955.216 Q990.515 955.216 992.853 953.11 Q995.191 951.003 995.191 947.392 Q995.191 943.781 992.853 941.674 Q990.515 939.568 986.51 939.568 Q984.635 939.568 982.76 939.985 Q980.908 940.401 978.964 941.281 L978.964 923.92 Z\" fill=\"#000000\" fill-rule=\"evenodd\" fill-opacity=\"1\" /><path clip-path=\"url(#clip630)\" d=\"M1786.77 954.545 L1794.41 954.545 L1794.41 928.179 L1786.1 929.846 L1786.1 925.587 L1794.37 923.92 L1799.04 923.92 L1799.04 954.545 L1806.68 954.545 L1806.68 958.48 L1786.77 958.48 L1786.77 954.545 Z\" fill=\"#000000\" fill-rule=\"evenodd\" fill-opacity=\"1\" /><path clip-path=\"url(#clip630)\" d=\"M1826.13 926.999 Q1822.52 926.999 1820.69 930.563 Q1818.88 934.105 1818.88 941.235 Q1818.88 948.341 1820.69 951.906 Q1822.52 955.447 1826.13 955.447 Q1829.76 955.447 1831.57 951.906 Q1833.39 948.341 1833.39 941.235 Q1833.39 934.105 1831.57 930.563 Q1829.76 926.999 1826.13 926.999 M1826.13 923.295 Q1831.94 923.295 1834.99 927.901 Q1838.07 932.485 1838.07 941.235 Q1838.07 949.961 1834.99 954.568 Q1831.94 959.151 1826.13 959.151 Q1820.32 959.151 1817.24 954.568 Q1814.18 949.961 1814.18 941.235 Q1814.18 932.485 1817.24 927.901 Q1820.32 923.295 1826.13 923.295 Z\" fill=\"#000000\" fill-rule=\"evenodd\" fill-opacity=\"1\" /><path clip-path=\"url(#clip630)\" d=\"M2610.67 954.545 L2618.31 954.545 L2618.31 928.179 L2610 929.846 L2610 925.587 L2618.27 923.92 L2622.94 923.92 L2622.94 954.545 L2630.58 954.545 L2630.58 958.48 L2610.67 958.48 L2610.67 954.545 Z\" fill=\"#000000\" fill-rule=\"evenodd\" fill-opacity=\"1\" /><path clip-path=\"url(#clip630)\" d=\"M2640.07 923.92 L2658.43 923.92 L2658.43 927.855 L2644.35 927.855 L2644.35 936.327 Q2645.37 935.98 2646.39 935.818 Q2647.41 935.633 2648.43 935.633 Q2654.21 935.633 2657.59 938.804 Q2660.97 941.975 2660.97 947.392 Q2660.97 952.971 2657.5 956.072 Q2654.03 959.151 2647.71 959.151 Q2645.53 959.151 2643.27 958.781 Q2641.02 958.41 2638.61 957.67 L2638.61 952.971 Q2640.7 954.105 2642.92 954.66 Q2645.14 955.216 2647.62 955.216 Q2651.62 955.216 2653.96 953.11 Q2656.3 951.003 2656.3 947.392 Q2656.3 943.781 2653.96 941.674 Q2651.62 939.568 2647.62 939.568 Q2645.74 939.568 2643.87 939.985 Q2642.02 940.401 2640.07 941.281 L2640.07 923.92 Z\" fill=\"#000000\" fill-rule=\"evenodd\" fill-opacity=\"1\" /><path clip-path=\"url(#clip630)\" d=\"M3437.66 954.545 L3453.98 954.545 L3453.98 958.48 L3432.04 958.48 L3432.04 954.545 Q3434.7 951.79 3439.28 947.16 Q3443.89 942.508 3445.07 941.165 Q3447.31 938.642 3448.19 936.906 Q3449.1 935.147 3449.1 933.457 Q3449.1 930.702 3447.15 928.966 Q3445.23 927.23 3442.13 927.23 Q3439.93 927.23 3437.48 927.994 Q3435.05 928.758 3432.27 930.309 L3432.27 925.587 Q3435.09 924.452 3437.55 923.874 Q3440 923.295 3442.04 923.295 Q3447.41 923.295 3450.6 925.98 Q3453.8 928.665 3453.8 933.156 Q3453.8 935.286 3452.99 937.207 Q3452.2 939.105 3450.09 941.698 Q3449.51 942.369 3446.41 945.586 Q3443.31 948.781 3437.66 954.545 Z\" fill=\"#000000\" fill-rule=\"evenodd\" fill-opacity=\"1\" /><path clip-path=\"url(#clip630)\" d=\"M3473.8 926.999 Q3470.18 926.999 3468.36 930.563 Q3466.55 934.105 3466.55 941.235 Q3466.55 948.341 3468.36 951.906 Q3470.18 955.447 3473.8 955.447 Q3477.43 955.447 3479.24 951.906 Q3481.06 948.341 3481.06 941.235 Q3481.06 934.105 3479.24 930.563 Q3477.43 926.999 3473.8 926.999 M3473.8 923.295 Q3479.61 923.295 3482.66 927.901 Q3485.74 932.485 3485.74 941.235 Q3485.74 949.961 3482.66 954.568 Q3479.61 959.151 3473.8 959.151 Q3467.99 959.151 3464.91 954.568 Q3461.85 949.961 3461.85 941.235 Q3461.85 932.485 3464.91 927.901 Q3467.99 923.295 3473.8 923.295 Z\" fill=\"#000000\" fill-rule=\"evenodd\" fill-opacity=\"1\" /><polyline clip-path=\"url(#clip632)\" style=\"stroke:#000000; stroke-linecap:butt; stroke-linejoin:round; stroke-width:2; stroke-opacity:0.1; fill:none\" points=\"\n",
       "  236.098,818.469 3552.76,818.469 \n",
       "  \"/>\n",
       "<polyline clip-path=\"url(#clip632)\" style=\"stroke:#000000; stroke-linecap:butt; stroke-linejoin:round; stroke-width:2; stroke-opacity:0.1; fill:none\" points=\"\n",
       "  236.098,683.443 3552.76,683.443 \n",
       "  \"/>\n",
       "<polyline clip-path=\"url(#clip632)\" style=\"stroke:#000000; stroke-linecap:butt; stroke-linejoin:round; stroke-width:2; stroke-opacity:0.1; fill:none\" points=\"\n",
       "  236.098,548.416 3552.76,548.416 \n",
       "  \"/>\n",
       "<polyline clip-path=\"url(#clip632)\" style=\"stroke:#000000; stroke-linecap:butt; stroke-linejoin:round; stroke-width:2; stroke-opacity:0.1; fill:none\" points=\"\n",
       "  236.098,413.389 3552.76,413.389 \n",
       "  \"/>\n",
       "<polyline clip-path=\"url(#clip632)\" style=\"stroke:#000000; stroke-linecap:butt; stroke-linejoin:round; stroke-width:2; stroke-opacity:0.1; fill:none\" points=\"\n",
       "  236.098,278.362 3552.76,278.362 \n",
       "  \"/>\n",
       "<polyline clip-path=\"url(#clip632)\" style=\"stroke:#000000; stroke-linecap:butt; stroke-linejoin:round; stroke-width:2; stroke-opacity:0.1; fill:none\" points=\"\n",
       "  236.098,143.336 3552.76,143.336 \n",
       "  \"/>\n",
       "<polyline clip-path=\"url(#clip630)\" style=\"stroke:#000000; stroke-linecap:butt; stroke-linejoin:round; stroke-width:4; stroke-opacity:1; fill:none\" points=\"\n",
       "  236.098,888.208 236.098,113.392 \n",
       "  \"/>\n",
       "<polyline clip-path=\"url(#clip630)\" style=\"stroke:#000000; stroke-linecap:butt; stroke-linejoin:round; stroke-width:4; stroke-opacity:1; fill:none\" points=\"\n",
       "  236.098,818.469 254.996,818.469 \n",
       "  \"/>\n",
       "<polyline clip-path=\"url(#clip630)\" style=\"stroke:#000000; stroke-linecap:butt; stroke-linejoin:round; stroke-width:4; stroke-opacity:1; fill:none\" points=\"\n",
       "  236.098,683.443 254.996,683.443 \n",
       "  \"/>\n",
       "<polyline clip-path=\"url(#clip630)\" style=\"stroke:#000000; stroke-linecap:butt; stroke-linejoin:round; stroke-width:4; stroke-opacity:1; fill:none\" points=\"\n",
       "  236.098,548.416 254.996,548.416 \n",
       "  \"/>\n",
       "<polyline clip-path=\"url(#clip630)\" style=\"stroke:#000000; stroke-linecap:butt; stroke-linejoin:round; stroke-width:4; stroke-opacity:1; fill:none\" points=\"\n",
       "  236.098,413.389 254.996,413.389 \n",
       "  \"/>\n",
       "<polyline clip-path=\"url(#clip630)\" style=\"stroke:#000000; stroke-linecap:butt; stroke-linejoin:round; stroke-width:4; stroke-opacity:1; fill:none\" points=\"\n",
       "  236.098,278.362 254.996,278.362 \n",
       "  \"/>\n",
       "<polyline clip-path=\"url(#clip630)\" style=\"stroke:#000000; stroke-linecap:butt; stroke-linejoin:round; stroke-width:4; stroke-opacity:1; fill:none\" points=\"\n",
       "  236.098,143.336 254.996,143.336 \n",
       "  \"/>\n",
       "<path clip-path=\"url(#clip630)\" d=\"M44.9921 818.921 L74.6679 818.921 L74.6679 822.856 L44.9921 822.856 L44.9921 818.921 Z\" fill=\"#000000\" fill-rule=\"evenodd\" fill-opacity=\"1\" /><path clip-path=\"url(#clip630)\" d=\"M94.7604 804.268 Q91.1493 804.268 89.3206 807.833 Q87.515 811.374 87.515 818.504 Q87.515 825.61 89.3206 829.175 Q91.1493 832.717 94.7604 832.717 Q98.3946 832.717 100.2 829.175 Q102.029 825.61 102.029 818.504 Q102.029 811.374 100.2 807.833 Q98.3946 804.268 94.7604 804.268 M94.7604 800.564 Q100.571 800.564 103.626 805.171 Q106.705 809.754 106.705 818.504 Q106.705 827.231 103.626 831.837 Q100.571 836.421 94.7604 836.421 Q88.9502 836.421 85.8715 831.837 Q82.816 827.231 82.816 818.504 Q82.816 809.754 85.8715 805.171 Q88.9502 800.564 94.7604 800.564 Z\" fill=\"#000000\" fill-rule=\"evenodd\" fill-opacity=\"1\" /><path clip-path=\"url(#clip630)\" d=\"M114.922 829.87 L119.807 829.87 L119.807 835.749 L114.922 835.749 L114.922 829.87 Z\" fill=\"#000000\" fill-rule=\"evenodd\" fill-opacity=\"1\" /><path clip-path=\"url(#clip630)\" d=\"M130.802 831.814 L138.441 831.814 L138.441 805.448 L130.131 807.115 L130.131 802.856 L138.394 801.189 L143.07 801.189 L143.07 831.814 L150.709 831.814 L150.709 835.749 L130.802 835.749 L130.802 831.814 Z\" fill=\"#000000\" fill-rule=\"evenodd\" fill-opacity=\"1\" /><path clip-path=\"url(#clip630)\" d=\"M170.153 804.268 Q166.542 804.268 164.714 807.833 Q162.908 811.374 162.908 818.504 Q162.908 825.61 164.714 829.175 Q166.542 832.717 170.153 832.717 Q173.788 832.717 175.593 829.175 Q177.422 825.61 177.422 818.504 Q177.422 811.374 175.593 807.833 Q173.788 804.268 170.153 804.268 M170.153 800.564 Q175.964 800.564 179.019 805.171 Q182.098 809.754 182.098 818.504 Q182.098 827.231 179.019 831.837 Q175.964 836.421 170.153 836.421 Q164.343 836.421 161.265 831.837 Q158.209 827.231 158.209 818.504 Q158.209 809.754 161.265 805.171 Q164.343 800.564 170.153 800.564 Z\" fill=\"#000000\" fill-rule=\"evenodd\" fill-opacity=\"1\" /><path clip-path=\"url(#clip630)\" d=\"M45.9875 683.894 L75.6633 683.894 L75.6633 687.829 L45.9875 687.829 L45.9875 683.894 Z\" fill=\"#000000\" fill-rule=\"evenodd\" fill-opacity=\"1\" /><path clip-path=\"url(#clip630)\" d=\"M95.7557 669.241 Q92.1447 669.241 90.316 672.806 Q88.5104 676.348 88.5104 683.477 Q88.5104 690.584 90.316 694.149 Q92.1447 697.69 95.7557 697.69 Q99.39 697.69 101.196 694.149 Q103.024 690.584 103.024 683.477 Q103.024 676.348 101.196 672.806 Q99.39 669.241 95.7557 669.241 M95.7557 665.538 Q101.566 665.538 104.621 670.144 Q107.7 674.727 107.7 683.477 Q107.7 692.204 104.621 696.811 Q101.566 701.394 95.7557 701.394 Q89.9456 701.394 86.8669 696.811 Q83.8114 692.204 83.8114 683.477 Q83.8114 674.727 86.8669 670.144 Q89.9456 665.538 95.7557 665.538 Z\" fill=\"#000000\" fill-rule=\"evenodd\" fill-opacity=\"1\" /><path clip-path=\"url(#clip630)\" d=\"M115.918 694.843 L120.802 694.843 L120.802 700.723 L115.918 700.723 L115.918 694.843 Z\" fill=\"#000000\" fill-rule=\"evenodd\" fill-opacity=\"1\" /><path clip-path=\"url(#clip630)\" d=\"M140.987 669.241 Q137.376 669.241 135.547 672.806 Q133.742 676.348 133.742 683.477 Q133.742 690.584 135.547 694.149 Q137.376 697.69 140.987 697.69 Q144.621 697.69 146.427 694.149 Q148.255 690.584 148.255 683.477 Q148.255 676.348 146.427 672.806 Q144.621 669.241 140.987 669.241 M140.987 665.538 Q146.797 665.538 149.853 670.144 Q152.931 674.727 152.931 683.477 Q152.931 692.204 149.853 696.811 Q146.797 701.394 140.987 701.394 Q135.177 701.394 132.098 696.811 Q129.043 692.204 129.043 683.477 Q129.043 674.727 132.098 670.144 Q135.177 665.538 140.987 665.538 Z\" fill=\"#000000\" fill-rule=\"evenodd\" fill-opacity=\"1\" /><path clip-path=\"url(#clip630)\" d=\"M161.195 666.163 L179.552 666.163 L179.552 670.098 L165.478 670.098 L165.478 678.57 Q166.496 678.223 167.515 678.061 Q168.533 677.875 169.552 677.875 Q175.339 677.875 178.718 681.047 Q182.098 684.218 182.098 689.635 Q182.098 695.213 178.626 698.315 Q175.153 701.394 168.834 701.394 Q166.658 701.394 164.39 701.023 Q162.144 700.653 159.737 699.912 L159.737 695.213 Q161.82 696.348 164.042 696.903 Q166.265 697.459 168.741 697.459 Q172.746 697.459 175.084 695.352 Q177.422 693.246 177.422 689.635 Q177.422 686.024 175.084 683.917 Q172.746 681.811 168.741 681.811 Q166.866 681.811 164.991 682.227 Q163.14 682.644 161.195 683.524 L161.195 666.163 Z\" fill=\"#000000\" fill-rule=\"evenodd\" fill-opacity=\"1\" /><path clip-path=\"url(#clip630)\" d=\"M94.7604 534.215 Q91.1493 534.215 89.3206 537.779 Q87.515 541.321 87.515 548.451 Q87.515 555.557 89.3206 559.122 Q91.1493 562.663 94.7604 562.663 Q98.3946 562.663 100.2 559.122 Q102.029 555.557 102.029 548.451 Q102.029 541.321 100.2 537.779 Q98.3946 534.215 94.7604 534.215 M94.7604 530.511 Q100.571 530.511 103.626 535.117 Q106.705 539.701 106.705 548.451 Q106.705 557.177 103.626 561.784 Q100.571 566.367 94.7604 566.367 Q88.9502 566.367 85.8715 561.784 Q82.816 557.177 82.816 548.451 Q82.816 539.701 85.8715 535.117 Q88.9502 530.511 94.7604 530.511 Z\" fill=\"#000000\" fill-rule=\"evenodd\" fill-opacity=\"1\" /><path clip-path=\"url(#clip630)\" d=\"M114.922 559.816 L119.807 559.816 L119.807 565.696 L114.922 565.696 L114.922 559.816 Z\" fill=\"#000000\" fill-rule=\"evenodd\" fill-opacity=\"1\" /><path clip-path=\"url(#clip630)\" d=\"M139.992 534.215 Q136.381 534.215 134.552 537.779 Q132.746 541.321 132.746 548.451 Q132.746 555.557 134.552 559.122 Q136.381 562.663 139.992 562.663 Q143.626 562.663 145.431 559.122 Q147.26 555.557 147.26 548.451 Q147.26 541.321 145.431 537.779 Q143.626 534.215 139.992 534.215 M139.992 530.511 Q145.802 530.511 148.857 535.117 Q151.936 539.701 151.936 548.451 Q151.936 557.177 148.857 561.784 Q145.802 566.367 139.992 566.367 Q134.181 566.367 131.103 561.784 Q128.047 557.177 128.047 548.451 Q128.047 539.701 131.103 535.117 Q134.181 530.511 139.992 530.511 Z\" fill=\"#000000\" fill-rule=\"evenodd\" fill-opacity=\"1\" /><path clip-path=\"url(#clip630)\" d=\"M170.153 534.215 Q166.542 534.215 164.714 537.779 Q162.908 541.321 162.908 548.451 Q162.908 555.557 164.714 559.122 Q166.542 562.663 170.153 562.663 Q173.788 562.663 175.593 559.122 Q177.422 555.557 177.422 548.451 Q177.422 541.321 175.593 537.779 Q173.788 534.215 170.153 534.215 M170.153 530.511 Q175.964 530.511 179.019 535.117 Q182.098 539.701 182.098 548.451 Q182.098 557.177 179.019 561.784 Q175.964 566.367 170.153 566.367 Q164.343 566.367 161.265 561.784 Q158.209 557.177 158.209 548.451 Q158.209 539.701 161.265 535.117 Q164.343 530.511 170.153 530.511 Z\" fill=\"#000000\" fill-rule=\"evenodd\" fill-opacity=\"1\" /><path clip-path=\"url(#clip630)\" d=\"M95.7557 399.188 Q92.1447 399.188 90.316 402.753 Q88.5104 406.294 88.5104 413.424 Q88.5104 420.53 90.316 424.095 Q92.1447 427.637 95.7557 427.637 Q99.39 427.637 101.196 424.095 Q103.024 420.53 103.024 413.424 Q103.024 406.294 101.196 402.753 Q99.39 399.188 95.7557 399.188 M95.7557 395.484 Q101.566 395.484 104.621 400.091 Q107.7 404.674 107.7 413.424 Q107.7 422.151 104.621 426.757 Q101.566 431.34 95.7557 431.34 Q89.9456 431.34 86.8669 426.757 Q83.8114 422.151 83.8114 413.424 Q83.8114 404.674 86.8669 400.091 Q89.9456 395.484 95.7557 395.484 Z\" fill=\"#000000\" fill-rule=\"evenodd\" fill-opacity=\"1\" /><path clip-path=\"url(#clip630)\" d=\"M115.918 424.79 L120.802 424.79 L120.802 430.669 L115.918 430.669 L115.918 424.79 Z\" fill=\"#000000\" fill-rule=\"evenodd\" fill-opacity=\"1\" /><path clip-path=\"url(#clip630)\" d=\"M140.987 399.188 Q137.376 399.188 135.547 402.753 Q133.742 406.294 133.742 413.424 Q133.742 420.53 135.547 424.095 Q137.376 427.637 140.987 427.637 Q144.621 427.637 146.427 424.095 Q148.255 420.53 148.255 413.424 Q148.255 406.294 146.427 402.753 Q144.621 399.188 140.987 399.188 M140.987 395.484 Q146.797 395.484 149.853 400.091 Q152.931 404.674 152.931 413.424 Q152.931 422.151 149.853 426.757 Q146.797 431.34 140.987 431.34 Q135.177 431.34 132.098 426.757 Q129.043 422.151 129.043 413.424 Q129.043 404.674 132.098 400.091 Q135.177 395.484 140.987 395.484 Z\" fill=\"#000000\" fill-rule=\"evenodd\" fill-opacity=\"1\" /><path clip-path=\"url(#clip630)\" d=\"M161.195 396.109 L179.552 396.109 L179.552 400.044 L165.478 400.044 L165.478 408.516 Q166.496 408.169 167.515 408.007 Q168.533 407.822 169.552 407.822 Q175.339 407.822 178.718 410.993 Q182.098 414.165 182.098 419.581 Q182.098 425.16 178.626 428.262 Q175.153 431.34 168.834 431.34 Q166.658 431.34 164.39 430.97 Q162.144 430.6 159.737 429.859 L159.737 425.16 Q161.82 426.294 164.042 426.85 Q166.265 427.405 168.741 427.405 Q172.746 427.405 175.084 425.299 Q177.422 423.192 177.422 419.581 Q177.422 415.97 175.084 413.864 Q172.746 411.757 168.741 411.757 Q166.866 411.757 164.991 412.174 Q163.14 412.591 161.195 413.47 L161.195 396.109 Z\" fill=\"#000000\" fill-rule=\"evenodd\" fill-opacity=\"1\" /><path clip-path=\"url(#clip630)\" d=\"M94.7604 264.161 Q91.1493 264.161 89.3206 267.726 Q87.515 271.268 87.515 278.397 Q87.515 285.504 89.3206 289.068 Q91.1493 292.61 94.7604 292.61 Q98.3946 292.61 100.2 289.068 Q102.029 285.504 102.029 278.397 Q102.029 271.268 100.2 267.726 Q98.3946 264.161 94.7604 264.161 M94.7604 260.457 Q100.571 260.457 103.626 265.064 Q106.705 269.647 106.705 278.397 Q106.705 287.124 103.626 291.73 Q100.571 296.314 94.7604 296.314 Q88.9502 296.314 85.8715 291.73 Q82.816 287.124 82.816 278.397 Q82.816 269.647 85.8715 265.064 Q88.9502 260.457 94.7604 260.457 Z\" fill=\"#000000\" fill-rule=\"evenodd\" fill-opacity=\"1\" /><path clip-path=\"url(#clip630)\" d=\"M114.922 289.763 L119.807 289.763 L119.807 295.642 L114.922 295.642 L114.922 289.763 Z\" fill=\"#000000\" fill-rule=\"evenodd\" fill-opacity=\"1\" /><path clip-path=\"url(#clip630)\" d=\"M130.802 291.707 L138.441 291.707 L138.441 265.342 L130.131 267.008 L130.131 262.749 L138.394 261.082 L143.07 261.082 L143.07 291.707 L150.709 291.707 L150.709 295.642 L130.802 295.642 L130.802 291.707 Z\" fill=\"#000000\" fill-rule=\"evenodd\" fill-opacity=\"1\" /><path clip-path=\"url(#clip630)\" d=\"M170.153 264.161 Q166.542 264.161 164.714 267.726 Q162.908 271.268 162.908 278.397 Q162.908 285.504 164.714 289.068 Q166.542 292.61 170.153 292.61 Q173.788 292.61 175.593 289.068 Q177.422 285.504 177.422 278.397 Q177.422 271.268 175.593 267.726 Q173.788 264.161 170.153 264.161 M170.153 260.457 Q175.964 260.457 179.019 265.064 Q182.098 269.647 182.098 278.397 Q182.098 287.124 179.019 291.73 Q175.964 296.314 170.153 296.314 Q164.343 296.314 161.265 291.73 Q158.209 287.124 158.209 278.397 Q158.209 269.647 161.265 265.064 Q164.343 260.457 170.153 260.457 Z\" fill=\"#000000\" fill-rule=\"evenodd\" fill-opacity=\"1\" /><path clip-path=\"url(#clip630)\" d=\"M95.7557 129.134 Q92.1447 129.134 90.316 132.699 Q88.5104 136.241 88.5104 143.37 Q88.5104 150.477 90.316 154.042 Q92.1447 157.583 95.7557 157.583 Q99.39 157.583 101.196 154.042 Q103.024 150.477 103.024 143.37 Q103.024 136.241 101.196 132.699 Q99.39 129.134 95.7557 129.134 M95.7557 125.431 Q101.566 125.431 104.621 130.037 Q107.7 134.62 107.7 143.37 Q107.7 152.097 104.621 156.704 Q101.566 161.287 95.7557 161.287 Q89.9456 161.287 86.8669 156.704 Q83.8114 152.097 83.8114 143.37 Q83.8114 134.62 86.8669 130.037 Q89.9456 125.431 95.7557 125.431 Z\" fill=\"#000000\" fill-rule=\"evenodd\" fill-opacity=\"1\" /><path clip-path=\"url(#clip630)\" d=\"M115.918 154.736 L120.802 154.736 L120.802 160.616 L115.918 160.616 L115.918 154.736 Z\" fill=\"#000000\" fill-rule=\"evenodd\" fill-opacity=\"1\" /><path clip-path=\"url(#clip630)\" d=\"M131.797 156.681 L139.436 156.681 L139.436 130.315 L131.126 131.982 L131.126 127.722 L139.39 126.056 L144.066 126.056 L144.066 156.681 L151.705 156.681 L151.705 160.616 L131.797 160.616 L131.797 156.681 Z\" fill=\"#000000\" fill-rule=\"evenodd\" fill-opacity=\"1\" /><path clip-path=\"url(#clip630)\" d=\"M161.195 126.056 L179.552 126.056 L179.552 129.991 L165.478 129.991 L165.478 138.463 Q166.496 138.116 167.515 137.954 Q168.533 137.769 169.552 137.769 Q175.339 137.769 178.718 140.94 Q182.098 144.111 182.098 149.528 Q182.098 155.106 178.626 158.208 Q175.153 161.287 168.834 161.287 Q166.658 161.287 164.39 160.917 Q162.144 160.546 159.737 159.806 L159.737 155.106 Q161.82 156.241 164.042 156.796 Q166.265 157.352 168.741 157.352 Q172.746 157.352 175.084 155.245 Q177.422 153.139 177.422 149.528 Q177.422 145.917 175.084 143.81 Q172.746 141.704 168.741 141.704 Q166.866 141.704 164.991 142.12 Q163.14 142.537 161.195 143.417 L161.195 126.056 Z\" fill=\"#000000\" fill-rule=\"evenodd\" fill-opacity=\"1\" /><path clip-path=\"url(#clip630)\" d=\"M1844.4 20.1573 L1833.3 50.2555 L1855.54 50.2555 L1844.4 20.1573 M1839.78 12.096 L1849.06 12.096 L1872.11 72.576 L1863.6 72.576 L1858.09 57.061 L1830.83 57.061 L1825.32 72.576 L1816.69 72.576 L1839.78 12.096 Z\" fill=\"#000000\" fill-rule=\"evenodd\" fill-opacity=\"1\" /><path clip-path=\"url(#clip630)\" d=\"M1924.77 16.7545 L1924.77 25.383 Q1920.64 21.5346 1915.94 19.6307 Q1911.28 17.7268 1906.01 17.7268 Q1895.64 17.7268 1890.13 24.0867 Q1884.62 30.4061 1884.62 42.3968 Q1884.62 54.3469 1890.13 60.7069 Q1895.64 67.0263 1906.01 67.0263 Q1911.28 67.0263 1915.94 65.1223 Q1920.64 63.2184 1924.77 59.3701 L1924.77 67.9175 Q1920.47 70.8341 1915.65 72.2924 Q1910.87 73.7508 1905.53 73.7508 Q1891.79 73.7508 1883.89 65.3654 Q1876 56.9395 1876 42.3968 Q1876 27.8135 1883.89 19.4281 Q1891.79 11.0023 1905.53 11.0023 Q1910.95 11.0023 1915.73 12.4606 Q1920.56 13.8784 1924.77 16.7545 Z\" fill=\"#000000\" fill-rule=\"evenodd\" fill-opacity=\"1\" /><path clip-path=\"url(#clip630)\" d=\"M1937.41 12.096 L1972.16 12.096 L1972.16 18.9825 L1945.59 18.9825 L1945.59 36.8065 L1969.57 36.8065 L1969.57 43.6931 L1945.59 43.6931 L1945.59 72.576 L1937.41 72.576 L1937.41 12.096 Z\" fill=\"#000000\" fill-rule=\"evenodd\" fill-opacity=\"1\" /><circle clip-path=\"url(#clip632)\" cx=\"329.966\" cy=\"514.992\" r=\"14\" fill=\"#009af9\" fill-rule=\"evenodd\" fill-opacity=\"1\" stroke=\"#000000\" stroke-opacity=\"1\" stroke-width=\"4\"/>\n",
       "<circle clip-path=\"url(#clip632)\" cx=\"494.646\" cy=\"307.098\" r=\"14\" fill=\"#009af9\" fill-rule=\"evenodd\" fill-opacity=\"1\" stroke=\"#000000\" stroke-opacity=\"1\" stroke-width=\"4\"/>\n",
       "<circle clip-path=\"url(#clip632)\" cx=\"659.326\" cy=\"466.371\" r=\"14\" fill=\"#009af9\" fill-rule=\"evenodd\" fill-opacity=\"1\" stroke=\"#000000\" stroke-opacity=\"1\" stroke-width=\"4\"/>\n",
       "<circle clip-path=\"url(#clip632)\" cx=\"824.006\" cy=\"745.288\" r=\"14\" fill=\"#009af9\" fill-rule=\"evenodd\" fill-opacity=\"1\" stroke=\"#000000\" stroke-opacity=\"1\" stroke-width=\"4\"/>\n",
       "<circle clip-path=\"url(#clip632)\" cx=\"988.686\" cy=\"532.962\" r=\"14\" fill=\"#009af9\" fill-rule=\"evenodd\" fill-opacity=\"1\" stroke=\"#000000\" stroke-opacity=\"1\" stroke-width=\"4\"/>\n",
       "<circle clip-path=\"url(#clip632)\" cx=\"1153.37\" cy=\"691.46\" r=\"14\" fill=\"#009af9\" fill-rule=\"evenodd\" fill-opacity=\"1\" stroke=\"#000000\" stroke-opacity=\"1\" stroke-width=\"4\"/>\n",
       "<circle clip-path=\"url(#clip632)\" cx=\"1318.05\" cy=\"603.127\" r=\"14\" fill=\"#009af9\" fill-rule=\"evenodd\" fill-opacity=\"1\" stroke=\"#000000\" stroke-opacity=\"1\" stroke-width=\"4\"/>\n",
       "<circle clip-path=\"url(#clip632)\" cx=\"1482.73\" cy=\"812.628\" r=\"14\" fill=\"#009af9\" fill-rule=\"evenodd\" fill-opacity=\"1\" stroke=\"#000000\" stroke-opacity=\"1\" stroke-width=\"4\"/>\n",
       "<circle clip-path=\"url(#clip632)\" cx=\"1647.41\" cy=\"454.643\" r=\"14\" fill=\"#009af9\" fill-rule=\"evenodd\" fill-opacity=\"1\" stroke=\"#000000\" stroke-opacity=\"1\" stroke-width=\"4\"/>\n",
       "<circle clip-path=\"url(#clip632)\" cx=\"1812.09\" cy=\"866.279\" r=\"14\" fill=\"#009af9\" fill-rule=\"evenodd\" fill-opacity=\"1\" stroke=\"#000000\" stroke-opacity=\"1\" stroke-width=\"4\"/>\n",
       "<circle clip-path=\"url(#clip632)\" cx=\"1976.77\" cy=\"322.844\" r=\"14\" fill=\"#009af9\" fill-rule=\"evenodd\" fill-opacity=\"1\" stroke=\"#000000\" stroke-opacity=\"1\" stroke-width=\"4\"/>\n",
       "<circle clip-path=\"url(#clip632)\" cx=\"2141.45\" cy=\"496.255\" r=\"14\" fill=\"#009af9\" fill-rule=\"evenodd\" fill-opacity=\"1\" stroke=\"#000000\" stroke-opacity=\"1\" stroke-width=\"4\"/>\n",
       "<circle clip-path=\"url(#clip632)\" cx=\"2306.13\" cy=\"421.919\" r=\"14\" fill=\"#009af9\" fill-rule=\"evenodd\" fill-opacity=\"1\" stroke=\"#000000\" stroke-opacity=\"1\" stroke-width=\"4\"/>\n",
       "<circle clip-path=\"url(#clip632)\" cx=\"2470.81\" cy=\"583.332\" r=\"14\" fill=\"#009af9\" fill-rule=\"evenodd\" fill-opacity=\"1\" stroke=\"#000000\" stroke-opacity=\"1\" stroke-width=\"4\"/>\n",
       "<circle clip-path=\"url(#clip632)\" cx=\"2635.49\" cy=\"409.745\" r=\"14\" fill=\"#009af9\" fill-rule=\"evenodd\" fill-opacity=\"1\" stroke=\"#000000\" stroke-opacity=\"1\" stroke-width=\"4\"/>\n",
       "<circle clip-path=\"url(#clip632)\" cx=\"2800.17\" cy=\"135.321\" r=\"14\" fill=\"#009af9\" fill-rule=\"evenodd\" fill-opacity=\"1\" stroke=\"#000000\" stroke-opacity=\"1\" stroke-width=\"4\"/>\n",
       "<circle clip-path=\"url(#clip632)\" cx=\"2964.85\" cy=\"504.527\" r=\"14\" fill=\"#009af9\" fill-rule=\"evenodd\" fill-opacity=\"1\" stroke=\"#000000\" stroke-opacity=\"1\" stroke-width=\"4\"/>\n",
       "<circle clip-path=\"url(#clip632)\" cx=\"3129.53\" cy=\"304.62\" r=\"14\" fill=\"#009af9\" fill-rule=\"evenodd\" fill-opacity=\"1\" stroke=\"#000000\" stroke-opacity=\"1\" stroke-width=\"4\"/>\n",
       "<circle clip-path=\"url(#clip632)\" cx=\"3294.21\" cy=\"590.865\" r=\"14\" fill=\"#009af9\" fill-rule=\"evenodd\" fill-opacity=\"1\" stroke=\"#000000\" stroke-opacity=\"1\" stroke-width=\"4\"/>\n",
       "<circle clip-path=\"url(#clip632)\" cx=\"3458.89\" cy=\"780.599\" r=\"14\" fill=\"#009af9\" fill-rule=\"evenodd\" fill-opacity=\"1\" stroke=\"#000000\" stroke-opacity=\"1\" stroke-width=\"4\"/>\n",
       "<path clip-path=\"url(#clip630)\" d=\"\n",
       "M2319.96 242.899 L3442.2 242.899 L3442.2 139.219 L2319.96 139.219  Z\n",
       "  \" fill=\"#ffffff\" fill-rule=\"evenodd\" fill-opacity=\"1\"/>\n",
       "<polyline clip-path=\"url(#clip630)\" style=\"stroke:#000000; stroke-linecap:butt; stroke-linejoin:round; stroke-width:4; stroke-opacity:1; fill:none\" points=\"\n",
       "  2319.96,242.899 3442.2,242.899 3442.2,139.219 2319.96,139.219 2319.96,242.899 \n",
       "  \"/>\n",
       "<circle clip-path=\"url(#clip630)\" cx=\"2467.37\" cy=\"191.059\" r=\"23\" fill=\"#009af9\" fill-rule=\"evenodd\" fill-opacity=\"1\" stroke=\"#000000\" stroke-opacity=\"1\" stroke-width=\"6.4\"/>\n",
       "<path clip-path=\"url(#clip630)\" d=\"M2615.45 204.404 L2623.08 204.404 L2623.08 178.039 L2614.77 179.705 L2614.77 175.446 L2623.04 173.779 L2627.71 173.779 L2627.71 204.404 L2635.35 204.404 L2635.35 208.339 L2615.45 208.339 L2615.45 204.404 Z\" fill=\"#000000\" fill-rule=\"evenodd\" fill-opacity=\"1\" /><path clip-path=\"url(#clip630)\" d=\"M2654.8 176.858 Q2651.19 176.858 2649.36 180.423 Q2647.55 183.964 2647.55 191.094 Q2647.55 198.2 2649.36 201.765 Q2651.19 205.307 2654.8 205.307 Q2658.43 205.307 2660.24 201.765 Q2662.07 198.2 2662.07 191.094 Q2662.07 183.964 2660.24 180.423 Q2658.43 176.858 2654.8 176.858 M2654.8 173.154 Q2660.61 173.154 2663.66 177.761 Q2666.74 182.344 2666.74 191.094 Q2666.74 199.821 2663.66 204.427 Q2660.61 209.011 2654.8 209.011 Q2648.99 209.011 2645.91 204.427 Q2642.85 199.821 2642.85 191.094 Q2642.85 182.344 2645.91 177.761 Q2648.99 173.154 2654.8 173.154 Z\" fill=\"#000000\" fill-rule=\"evenodd\" fill-opacity=\"1\" /><path clip-path=\"url(#clip630)\" d=\"M2684.87 173.779 L2689.89 173.779 L2699.47 187.992 L2708.99 173.779 L2714.01 173.779 L2701.79 191.881 L2701.79 208.339 L2697.09 208.339 L2697.09 191.881 L2684.87 173.779 Z\" fill=\"#000000\" fill-rule=\"evenodd\" fill-opacity=\"1\" /><path clip-path=\"url(#clip630)\" d=\"M2734.26 194.312 L2734.26 196.395 L2714.68 196.395 Q2714.96 200.793 2717.32 203.108 Q2719.7 205.4 2723.94 205.4 Q2726.39 205.4 2728.69 204.798 Q2731 204.196 2733.27 202.992 L2733.27 207.02 Q2730.98 207.992 2728.57 208.501 Q2726.16 209.011 2723.69 209.011 Q2717.48 209.011 2713.85 205.4 Q2710.24 201.788 2710.24 195.631 Q2710.24 189.265 2713.66 185.539 Q2717.11 181.789 2722.95 181.789 Q2728.18 181.789 2731.21 185.168 Q2734.26 188.525 2734.26 194.312 M2730.01 193.062 Q2729.96 189.566 2728.04 187.483 Q2726.14 185.4 2722.99 185.4 Q2719.43 185.4 2717.27 187.414 Q2715.14 189.427 2714.82 193.085 L2730.01 193.062 Z\" fill=\"#000000\" fill-rule=\"evenodd\" fill-opacity=\"1\" /><path clip-path=\"url(#clip630)\" d=\"M2753.04 195.307 Q2747.88 195.307 2745.88 196.488 Q2743.89 197.668 2743.89 200.515 Q2743.89 202.784 2745.38 204.126 Q2746.88 205.446 2749.45 205.446 Q2752.99 205.446 2755.12 202.946 Q2757.27 200.423 2757.27 196.256 L2757.27 195.307 L2753.04 195.307 M2761.53 193.548 L2761.53 208.339 L2757.27 208.339 L2757.27 204.404 Q2755.82 206.765 2753.64 207.9 Q2751.46 209.011 2748.32 209.011 Q2744.33 209.011 2741.97 206.788 Q2739.63 204.543 2739.63 200.793 Q2739.63 196.418 2742.55 194.196 Q2745.49 191.974 2751.3 191.974 L2757.27 191.974 L2757.27 191.557 Q2757.27 188.617 2755.33 187.02 Q2753.41 185.4 2749.91 185.4 Q2747.69 185.4 2745.58 185.932 Q2743.48 186.464 2741.53 187.529 L2741.53 183.594 Q2743.87 182.691 2746.07 182.251 Q2748.27 181.789 2750.35 181.789 Q2755.98 181.789 2758.76 184.705 Q2761.53 187.622 2761.53 193.548 Z\" fill=\"#000000\" fill-rule=\"evenodd\" fill-opacity=\"1\" /><path clip-path=\"url(#clip630)\" d=\"M2785.33 186.395 Q2784.61 185.978 2783.75 185.793 Q2782.92 185.585 2781.9 185.585 Q2778.29 185.585 2776.35 187.946 Q2774.43 190.284 2774.43 194.682 L2774.43 208.339 L2770.14 208.339 L2770.14 182.414 L2774.43 182.414 L2774.43 186.441 Q2775.77 184.08 2777.92 182.946 Q2780.07 181.789 2783.15 181.789 Q2783.59 181.789 2784.13 181.858 Q2784.66 181.904 2785.31 182.02 L2785.33 186.395 Z\" fill=\"#000000\" fill-rule=\"evenodd\" fill-opacity=\"1\" /><path clip-path=\"url(#clip630)\" d=\"M2830.93 176.441 L2830.93 181.372 Q2828.57 179.173 2825.88 178.085 Q2823.22 176.997 2820.21 176.997 Q2814.29 176.997 2811.14 180.631 Q2807.99 184.242 2807.99 191.094 Q2807.99 197.923 2811.14 201.557 Q2814.29 205.168 2820.21 205.168 Q2823.22 205.168 2825.88 204.08 Q2828.57 202.992 2830.93 200.793 L2830.93 205.677 Q2828.48 207.344 2825.72 208.177 Q2822.99 209.011 2819.94 209.011 Q2812.09 209.011 2807.57 204.219 Q2803.06 199.404 2803.06 191.094 Q2803.06 182.761 2807.57 177.969 Q2812.09 173.154 2819.94 173.154 Q2823.04 173.154 2825.77 173.988 Q2828.52 174.798 2830.93 176.441 Z\" fill=\"#000000\" fill-rule=\"evenodd\" fill-opacity=\"1\" /><path clip-path=\"url(#clip630)\" d=\"M2838.15 173.779 L2845.12 173.779 L2853.94 197.298 L2862.81 173.779 L2869.77 173.779 L2869.77 208.339 L2865.21 208.339 L2865.21 177.992 L2856.3 201.696 L2851.6 201.696 L2842.69 177.992 L2842.69 208.339 L2838.15 208.339 L2838.15 173.779 Z\" fill=\"#000000\" fill-rule=\"evenodd\" fill-opacity=\"1\" /><path clip-path=\"url(#clip630)\" d=\"M2874.26 173.779 L2903.5 173.779 L2903.5 177.714 L2891.23 177.714 L2891.23 208.339 L2886.53 208.339 L2886.53 177.714 L2874.26 177.714 L2874.26 173.779 Z\" fill=\"#000000\" fill-rule=\"evenodd\" fill-opacity=\"1\" /><path clip-path=\"url(#clip630)\" d=\"M2927.76 191.835 L2927.76 204.497 L2935.26 204.497 Q2939.03 204.497 2940.84 202.946 Q2942.67 201.372 2942.67 198.154 Q2942.67 194.913 2940.84 193.386 Q2939.03 191.835 2935.26 191.835 L2927.76 191.835 M2927.76 177.622 L2927.76 188.039 L2934.68 188.039 Q2938.11 188.039 2939.77 186.765 Q2941.46 185.469 2941.46 182.83 Q2941.46 180.214 2939.77 178.918 Q2938.11 177.622 2934.68 177.622 L2927.76 177.622 M2923.08 173.779 L2935.03 173.779 Q2940.37 173.779 2943.27 176.002 Q2946.16 178.224 2946.16 182.321 Q2946.16 185.492 2944.68 187.367 Q2943.2 189.242 2940.33 189.705 Q2943.78 190.446 2945.68 192.807 Q2947.6 195.145 2947.6 198.663 Q2947.6 203.293 2944.45 205.816 Q2941.3 208.339 2935.49 208.339 L2923.08 208.339 L2923.08 173.779 Z\" fill=\"#000000\" fill-rule=\"evenodd\" fill-opacity=\"1\" /><path clip-path=\"url(#clip630)\" d=\"M2965.47 185.4 Q2962.04 185.4 2960.05 188.085 Q2958.06 190.747 2958.06 195.4 Q2958.06 200.052 2960.03 202.737 Q2962.02 205.4 2965.47 205.4 Q2968.87 205.4 2970.86 202.714 Q2972.85 200.029 2972.85 195.4 Q2972.85 190.793 2970.86 188.108 Q2968.87 185.4 2965.47 185.4 M2965.47 181.789 Q2971.02 181.789 2974.19 185.4 Q2977.36 189.011 2977.36 195.4 Q2977.36 201.765 2974.19 205.4 Q2971.02 209.011 2965.47 209.011 Q2959.89 209.011 2956.72 205.4 Q2953.57 201.765 2953.57 195.4 Q2953.57 189.011 2956.72 185.4 Q2959.89 181.789 2965.47 181.789 Z\" fill=\"#000000\" fill-rule=\"evenodd\" fill-opacity=\"1\" /><path clip-path=\"url(#clip630)\" d=\"M3005.98 192.691 L3005.98 208.339 L3001.72 208.339 L3001.72 192.83 Q3001.72 189.15 3000.28 187.321 Q2998.85 185.492 2995.98 185.492 Q2992.53 185.492 2990.54 187.691 Q2988.55 189.89 2988.55 193.687 L2988.55 208.339 L2984.26 208.339 L2984.26 182.414 L2988.55 182.414 L2988.55 186.441 Q2990.07 184.103 2992.13 182.946 Q2994.22 181.789 2996.93 181.789 Q3001.39 181.789 3003.68 184.566 Q3005.98 187.321 3005.98 192.691 Z\" fill=\"#000000\" fill-rule=\"evenodd\" fill-opacity=\"1\" /><path clip-path=\"url(#clip630)\" d=\"M3031.53 186.349 L3031.53 172.321 L3035.79 172.321 L3035.79 208.339 L3031.53 208.339 L3031.53 204.45 Q3030.19 206.765 3028.13 207.9 Q3026.09 209.011 3023.22 209.011 Q3018.52 209.011 3015.56 205.261 Q3012.62 201.511 3012.62 195.4 Q3012.62 189.288 3015.56 185.539 Q3018.52 181.789 3023.22 181.789 Q3026.09 181.789 3028.13 182.923 Q3030.19 184.034 3031.53 186.349 M3017.02 195.4 Q3017.02 200.099 3018.94 202.784 Q3020.88 205.446 3024.26 205.446 Q3027.64 205.446 3029.59 202.784 Q3031.53 200.099 3031.53 195.4 Q3031.53 190.701 3029.59 188.039 Q3027.64 185.353 3024.26 185.353 Q3020.88 185.353 3018.94 188.039 Q3017.02 190.701 3017.02 195.4 Z\" fill=\"#000000\" fill-rule=\"evenodd\" fill-opacity=\"1\" /><path clip-path=\"url(#clip630)\" d=\"M3071.37 178.386 L3065.03 195.585 L3077.73 195.585 L3071.37 178.386 M3068.73 173.779 L3074.03 173.779 L3087.2 208.339 L3082.34 208.339 L3079.19 199.474 L3063.61 199.474 L3060.47 208.339 L3055.54 208.339 L3068.73 173.779 Z\" fill=\"#000000\" fill-rule=\"evenodd\" fill-opacity=\"1\" /><path clip-path=\"url(#clip630)\" d=\"M3117.29 176.441 L3117.29 181.372 Q3114.93 179.173 3112.25 178.085 Q3109.59 176.997 3106.58 176.997 Q3100.65 176.997 3097.5 180.631 Q3094.36 184.242 3094.36 191.094 Q3094.36 197.923 3097.5 201.557 Q3100.65 205.168 3106.58 205.168 Q3109.59 205.168 3112.25 204.08 Q3114.93 202.992 3117.29 200.793 L3117.29 205.677 Q3114.84 207.344 3112.09 208.177 Q3109.35 209.011 3106.3 209.011 Q3098.45 209.011 3093.94 204.219 Q3089.42 199.404 3089.42 191.094 Q3089.42 182.761 3093.94 177.969 Q3098.45 173.154 3106.3 173.154 Q3109.4 173.154 3112.13 173.988 Q3114.89 174.798 3117.29 176.441 Z\" fill=\"#000000\" fill-rule=\"evenodd\" fill-opacity=\"1\" /><path clip-path=\"url(#clip630)\" d=\"M3124.52 173.779 L3144.38 173.779 L3144.38 177.714 L3129.19 177.714 L3129.19 187.9 L3142.9 187.9 L3142.9 191.835 L3129.19 191.835 L3129.19 208.339 L3124.52 208.339 L3124.52 173.779 Z\" fill=\"#000000\" fill-rule=\"evenodd\" fill-opacity=\"1\" /><path clip-path=\"url(#clip630)\" d=\"M3175.77 208.339 L3162.57 173.779 L3167.46 173.779 L3178.41 202.876 L3189.38 173.779 L3194.24 173.779 L3181.07 208.339 L3175.77 208.339 Z\" fill=\"#000000\" fill-rule=\"evenodd\" fill-opacity=\"1\" /><path clip-path=\"url(#clip630)\" d=\"M3207.2 195.307 Q3202.04 195.307 3200.05 196.488 Q3198.06 197.668 3198.06 200.515 Q3198.06 202.784 3199.54 204.126 Q3201.04 205.446 3203.61 205.446 Q3207.16 205.446 3209.29 202.946 Q3211.44 200.423 3211.44 196.256 L3211.44 195.307 L3207.2 195.307 M3215.7 193.548 L3215.7 208.339 L3211.44 208.339 L3211.44 204.404 Q3209.98 206.765 3207.8 207.9 Q3205.63 209.011 3202.48 209.011 Q3198.5 209.011 3196.14 206.788 Q3193.8 204.543 3193.8 200.793 Q3193.8 196.418 3196.72 194.196 Q3199.66 191.974 3205.47 191.974 L3211.44 191.974 L3211.44 191.557 Q3211.44 188.617 3209.49 187.02 Q3207.57 185.4 3204.08 185.4 Q3201.85 185.4 3199.75 185.932 Q3197.64 186.464 3195.7 187.529 L3195.7 183.594 Q3198.04 182.691 3200.23 182.251 Q3202.43 181.789 3204.52 181.789 Q3210.14 181.789 3212.92 184.705 Q3215.7 187.622 3215.7 193.548 Z\" fill=\"#000000\" fill-rule=\"evenodd\" fill-opacity=\"1\" /><path clip-path=\"url(#clip630)\" d=\"M3239.49 186.395 Q3238.78 185.978 3237.92 185.793 Q3237.09 185.585 3236.07 185.585 Q3232.46 185.585 3230.51 187.946 Q3228.59 190.284 3228.59 194.682 L3228.59 208.339 L3224.31 208.339 L3224.31 182.414 L3228.59 182.414 L3228.59 186.441 Q3229.93 184.08 3232.09 182.946 Q3234.24 181.789 3237.32 181.789 Q3237.76 181.789 3238.29 181.858 Q3238.82 181.904 3239.47 182.02 L3239.49 186.395 Z\" fill=\"#000000\" fill-rule=\"evenodd\" fill-opacity=\"1\" /><path clip-path=\"url(#clip630)\" d=\"M3243.96 182.414 L3248.22 182.414 L3248.22 208.339 L3243.96 208.339 L3243.96 182.414 M3243.96 172.321 L3248.22 172.321 L3248.22 177.714 L3243.96 177.714 L3243.96 172.321 Z\" fill=\"#000000\" fill-rule=\"evenodd\" fill-opacity=\"1\" /><path clip-path=\"url(#clip630)\" d=\"M3268.91 195.307 Q3263.75 195.307 3261.76 196.488 Q3259.77 197.668 3259.77 200.515 Q3259.77 202.784 3261.25 204.126 Q3262.76 205.446 3265.33 205.446 Q3268.87 205.446 3271 202.946 Q3273.15 200.423 3273.15 196.256 L3273.15 195.307 L3268.91 195.307 M3277.41 193.548 L3277.41 208.339 L3273.15 208.339 L3273.15 204.404 Q3271.69 206.765 3269.52 207.9 Q3267.34 209.011 3264.19 209.011 Q3260.21 209.011 3257.85 206.788 Q3255.51 204.543 3255.51 200.793 Q3255.51 196.418 3258.43 194.196 Q3261.37 191.974 3267.18 191.974 L3273.15 191.974 L3273.15 191.557 Q3273.15 188.617 3271.21 187.02 Q3269.28 185.4 3265.79 185.4 Q3263.57 185.4 3261.46 185.932 Q3259.35 186.464 3257.41 187.529 L3257.41 183.594 Q3259.75 182.691 3261.95 182.251 Q3264.15 181.789 3266.23 181.789 Q3271.85 181.789 3274.63 184.705 Q3277.41 187.622 3277.41 193.548 Z\" fill=\"#000000\" fill-rule=\"evenodd\" fill-opacity=\"1\" /><path clip-path=\"url(#clip630)\" d=\"M3290.4 175.052 L3290.4 182.414 L3299.17 182.414 L3299.17 185.724 L3290.4 185.724 L3290.4 199.798 Q3290.4 202.969 3291.25 203.872 Q3292.13 204.775 3294.79 204.775 L3299.17 204.775 L3299.17 208.339 L3294.79 208.339 Q3289.86 208.339 3287.99 206.511 Q3286.11 204.659 3286.11 199.798 L3286.11 185.724 L3282.99 185.724 L3282.99 182.414 L3286.11 182.414 L3286.11 175.052 L3290.4 175.052 Z\" fill=\"#000000\" fill-rule=\"evenodd\" fill-opacity=\"1\" /><path clip-path=\"url(#clip630)\" d=\"M3304.77 182.414 L3309.03 182.414 L3309.03 208.339 L3304.77 208.339 L3304.77 182.414 M3304.77 172.321 L3309.03 172.321 L3309.03 177.714 L3304.77 177.714 L3304.77 172.321 Z\" fill=\"#000000\" fill-rule=\"evenodd\" fill-opacity=\"1\" /><path clip-path=\"url(#clip630)\" d=\"M3327.99 185.4 Q3324.56 185.4 3322.57 188.085 Q3320.58 190.747 3320.58 195.4 Q3320.58 200.052 3322.55 202.737 Q3324.54 205.4 3327.99 205.4 Q3331.39 205.4 3333.38 202.714 Q3335.37 200.029 3335.37 195.4 Q3335.37 190.793 3333.38 188.108 Q3331.39 185.4 3327.99 185.4 M3327.99 181.789 Q3333.54 181.789 3336.71 185.4 Q3339.89 189.011 3339.89 195.4 Q3339.89 201.765 3336.71 205.4 Q3333.54 209.011 3327.99 209.011 Q3322.41 209.011 3319.24 205.4 Q3316.09 201.765 3316.09 195.4 Q3316.09 189.011 3319.24 185.4 Q3322.41 181.789 3327.99 181.789 Z\" fill=\"#000000\" fill-rule=\"evenodd\" fill-opacity=\"1\" /><path clip-path=\"url(#clip630)\" d=\"M3368.5 192.691 L3368.5 208.339 L3364.24 208.339 L3364.24 192.83 Q3364.24 189.15 3362.8 187.321 Q3361.37 185.492 3358.5 185.492 Q3355.05 185.492 3353.06 187.691 Q3351.07 189.89 3351.07 193.687 L3351.07 208.339 L3346.78 208.339 L3346.78 182.414 L3351.07 182.414 L3351.07 186.441 Q3352.59 184.103 3354.65 182.946 Q3356.74 181.789 3359.45 181.789 Q3363.91 181.789 3366.21 184.566 Q3368.5 187.321 3368.5 192.691 Z\" fill=\"#000000\" fill-rule=\"evenodd\" fill-opacity=\"1\" /><path clip-path=\"url(#clip630)\" d=\"\n",
       "M236.098 1888.21 L3552.76 1888.21 L3552.76 1113.39 L236.098 1113.39  Z\n",
       "  \" fill=\"#ffffff\" fill-rule=\"evenodd\" fill-opacity=\"1\"/>\n",
       "<defs>\n",
       "  <clipPath id=\"clip633\">\n",
       "    <rect x=\"236\" y=\"1113\" width=\"3318\" height=\"776\"/>\n",
       "  </clipPath>\n",
       "</defs>\n",
       "<polyline clip-path=\"url(#clip633)\" style=\"stroke:#000000; stroke-linecap:butt; stroke-linejoin:round; stroke-width:2; stroke-opacity:0.1; fill:none\" points=\"\n",
       "  988.686,1888.21 988.686,1113.39 \n",
       "  \"/>\n",
       "<polyline clip-path=\"url(#clip633)\" style=\"stroke:#000000; stroke-linecap:butt; stroke-linejoin:round; stroke-width:2; stroke-opacity:0.1; fill:none\" points=\"\n",
       "  1812.09,1888.21 1812.09,1113.39 \n",
       "  \"/>\n",
       "<polyline clip-path=\"url(#clip633)\" style=\"stroke:#000000; stroke-linecap:butt; stroke-linejoin:round; stroke-width:2; stroke-opacity:0.1; fill:none\" points=\"\n",
       "  2635.49,1888.21 2635.49,1113.39 \n",
       "  \"/>\n",
       "<polyline clip-path=\"url(#clip633)\" style=\"stroke:#000000; stroke-linecap:butt; stroke-linejoin:round; stroke-width:2; stroke-opacity:0.1; fill:none\" points=\"\n",
       "  3458.89,1888.21 3458.89,1113.39 \n",
       "  \"/>\n",
       "<polyline clip-path=\"url(#clip630)\" style=\"stroke:#000000; stroke-linecap:butt; stroke-linejoin:round; stroke-width:4; stroke-opacity:1; fill:none\" points=\"\n",
       "  236.098,1888.21 3552.76,1888.21 \n",
       "  \"/>\n",
       "<polyline clip-path=\"url(#clip630)\" style=\"stroke:#000000; stroke-linecap:butt; stroke-linejoin:round; stroke-width:4; stroke-opacity:1; fill:none\" points=\"\n",
       "  988.686,1888.21 988.686,1869.31 \n",
       "  \"/>\n",
       "<polyline clip-path=\"url(#clip630)\" style=\"stroke:#000000; stroke-linecap:butt; stroke-linejoin:round; stroke-width:4; stroke-opacity:1; fill:none\" points=\"\n",
       "  1812.09,1888.21 1812.09,1869.31 \n",
       "  \"/>\n",
       "<polyline clip-path=\"url(#clip630)\" style=\"stroke:#000000; stroke-linecap:butt; stroke-linejoin:round; stroke-width:4; stroke-opacity:1; fill:none\" points=\"\n",
       "  2635.49,1888.21 2635.49,1869.31 \n",
       "  \"/>\n",
       "<polyline clip-path=\"url(#clip630)\" style=\"stroke:#000000; stroke-linecap:butt; stroke-linejoin:round; stroke-width:4; stroke-opacity:1; fill:none\" points=\"\n",
       "  3458.89,1888.21 3458.89,1869.31 \n",
       "  \"/>\n",
       "<path clip-path=\"url(#clip630)\" d=\"M978.964 1923.92 L997.32 1923.92 L997.32 1927.86 L983.246 1927.86 L983.246 1936.33 Q984.265 1935.98 985.283 1935.82 Q986.302 1935.63 987.32 1935.63 Q993.107 1935.63 996.487 1938.8 Q999.867 1941.98 999.867 1947.39 Q999.867 1952.97 996.394 1956.07 Q992.922 1959.15 986.603 1959.15 Q984.427 1959.15 982.158 1958.78 Q979.913 1958.41 977.506 1957.67 L977.506 1952.97 Q979.589 1954.1 981.811 1954.66 Q984.033 1955.22 986.51 1955.22 Q990.515 1955.22 992.853 1953.11 Q995.191 1951 995.191 1947.39 Q995.191 1943.78 992.853 1941.67 Q990.515 1939.57 986.51 1939.57 Q984.635 1939.57 982.76 1939.98 Q980.908 1940.4 978.964 1941.28 L978.964 1923.92 Z\" fill=\"#000000\" fill-rule=\"evenodd\" fill-opacity=\"1\" /><path clip-path=\"url(#clip630)\" d=\"M1786.77 1954.54 L1794.41 1954.54 L1794.41 1928.18 L1786.1 1929.85 L1786.1 1925.59 L1794.37 1923.92 L1799.04 1923.92 L1799.04 1954.54 L1806.68 1954.54 L1806.68 1958.48 L1786.77 1958.48 L1786.77 1954.54 Z\" fill=\"#000000\" fill-rule=\"evenodd\" fill-opacity=\"1\" /><path clip-path=\"url(#clip630)\" d=\"M1826.13 1927 Q1822.52 1927 1820.69 1930.56 Q1818.88 1934.11 1818.88 1941.23 Q1818.88 1948.34 1820.69 1951.91 Q1822.52 1955.45 1826.13 1955.45 Q1829.76 1955.45 1831.57 1951.91 Q1833.39 1948.34 1833.39 1941.23 Q1833.39 1934.11 1831.57 1930.56 Q1829.76 1927 1826.13 1927 M1826.13 1923.29 Q1831.94 1923.29 1834.99 1927.9 Q1838.07 1932.48 1838.07 1941.23 Q1838.07 1949.96 1834.99 1954.57 Q1831.94 1959.15 1826.13 1959.15 Q1820.32 1959.15 1817.24 1954.57 Q1814.18 1949.96 1814.18 1941.23 Q1814.18 1932.48 1817.24 1927.9 Q1820.32 1923.29 1826.13 1923.29 Z\" fill=\"#000000\" fill-rule=\"evenodd\" fill-opacity=\"1\" /><path clip-path=\"url(#clip630)\" d=\"M2610.67 1954.54 L2618.31 1954.54 L2618.31 1928.18 L2610 1929.85 L2610 1925.59 L2618.27 1923.92 L2622.94 1923.92 L2622.94 1954.54 L2630.58 1954.54 L2630.58 1958.48 L2610.67 1958.48 L2610.67 1954.54 Z\" fill=\"#000000\" fill-rule=\"evenodd\" fill-opacity=\"1\" /><path clip-path=\"url(#clip630)\" d=\"M2640.07 1923.92 L2658.43 1923.92 L2658.43 1927.86 L2644.35 1927.86 L2644.35 1936.33 Q2645.37 1935.98 2646.39 1935.82 Q2647.41 1935.63 2648.43 1935.63 Q2654.21 1935.63 2657.59 1938.8 Q2660.97 1941.98 2660.97 1947.39 Q2660.97 1952.97 2657.5 1956.07 Q2654.03 1959.15 2647.71 1959.15 Q2645.53 1959.15 2643.27 1958.78 Q2641.02 1958.41 2638.61 1957.67 L2638.61 1952.97 Q2640.7 1954.1 2642.92 1954.66 Q2645.14 1955.22 2647.62 1955.22 Q2651.62 1955.22 2653.96 1953.11 Q2656.3 1951 2656.3 1947.39 Q2656.3 1943.78 2653.96 1941.67 Q2651.62 1939.57 2647.62 1939.57 Q2645.74 1939.57 2643.87 1939.98 Q2642.02 1940.4 2640.07 1941.28 L2640.07 1923.92 Z\" fill=\"#000000\" fill-rule=\"evenodd\" fill-opacity=\"1\" /><path clip-path=\"url(#clip630)\" d=\"M3437.66 1954.54 L3453.98 1954.54 L3453.98 1958.48 L3432.04 1958.48 L3432.04 1954.54 Q3434.7 1951.79 3439.28 1947.16 Q3443.89 1942.51 3445.07 1941.17 Q3447.31 1938.64 3448.19 1936.91 Q3449.1 1935.15 3449.1 1933.46 Q3449.1 1930.7 3447.15 1928.97 Q3445.23 1927.23 3442.13 1927.23 Q3439.93 1927.23 3437.48 1927.99 Q3435.05 1928.76 3432.27 1930.31 L3432.27 1925.59 Q3435.09 1924.45 3437.55 1923.87 Q3440 1923.29 3442.04 1923.29 Q3447.41 1923.29 3450.6 1925.98 Q3453.8 1928.67 3453.8 1933.16 Q3453.8 1935.29 3452.99 1937.21 Q3452.2 1939.1 3450.09 1941.7 Q3449.51 1942.37 3446.41 1945.59 Q3443.31 1948.78 3437.66 1954.54 Z\" fill=\"#000000\" fill-rule=\"evenodd\" fill-opacity=\"1\" /><path clip-path=\"url(#clip630)\" d=\"M3473.8 1927 Q3470.18 1927 3468.36 1930.56 Q3466.55 1934.11 3466.55 1941.23 Q3466.55 1948.34 3468.36 1951.91 Q3470.18 1955.45 3473.8 1955.45 Q3477.43 1955.45 3479.24 1951.91 Q3481.06 1948.34 3481.06 1941.23 Q3481.06 1934.11 3479.24 1930.56 Q3477.43 1927 3473.8 1927 M3473.8 1923.29 Q3479.61 1923.29 3482.66 1927.9 Q3485.74 1932.48 3485.74 1941.23 Q3485.74 1949.96 3482.66 1954.57 Q3479.61 1959.15 3473.8 1959.15 Q3467.99 1959.15 3464.91 1954.57 Q3461.85 1949.96 3461.85 1941.23 Q3461.85 1932.48 3464.91 1927.9 Q3467.99 1923.29 3473.8 1923.29 Z\" fill=\"#000000\" fill-rule=\"evenodd\" fill-opacity=\"1\" /><polyline clip-path=\"url(#clip633)\" style=\"stroke:#000000; stroke-linecap:butt; stroke-linejoin:round; stroke-width:2; stroke-opacity:0.1; fill:none\" points=\"\n",
       "  236.098,1866.28 3552.76,1866.28 \n",
       "  \"/>\n",
       "<polyline clip-path=\"url(#clip633)\" style=\"stroke:#000000; stroke-linecap:butt; stroke-linejoin:round; stroke-width:2; stroke-opacity:0.1; fill:none\" points=\"\n",
       "  236.098,1683.54 3552.76,1683.54 \n",
       "  \"/>\n",
       "<polyline clip-path=\"url(#clip633)\" style=\"stroke:#000000; stroke-linecap:butt; stroke-linejoin:round; stroke-width:2; stroke-opacity:0.1; fill:none\" points=\"\n",
       "  236.098,1500.8 3552.76,1500.8 \n",
       "  \"/>\n",
       "<polyline clip-path=\"url(#clip633)\" style=\"stroke:#000000; stroke-linecap:butt; stroke-linejoin:round; stroke-width:2; stroke-opacity:0.1; fill:none\" points=\"\n",
       "  236.098,1318.06 3552.76,1318.06 \n",
       "  \"/>\n",
       "<polyline clip-path=\"url(#clip633)\" style=\"stroke:#000000; stroke-linecap:butt; stroke-linejoin:round; stroke-width:2; stroke-opacity:0.1; fill:none\" points=\"\n",
       "  236.098,1135.32 3552.76,1135.32 \n",
       "  \"/>\n",
       "<polyline clip-path=\"url(#clip630)\" style=\"stroke:#000000; stroke-linecap:butt; stroke-linejoin:round; stroke-width:4; stroke-opacity:1; fill:none\" points=\"\n",
       "  236.098,1888.21 236.098,1113.39 \n",
       "  \"/>\n",
       "<polyline clip-path=\"url(#clip630)\" style=\"stroke:#000000; stroke-linecap:butt; stroke-linejoin:round; stroke-width:4; stroke-opacity:1; fill:none\" points=\"\n",
       "  236.098,1866.28 254.996,1866.28 \n",
       "  \"/>\n",
       "<polyline clip-path=\"url(#clip630)\" style=\"stroke:#000000; stroke-linecap:butt; stroke-linejoin:round; stroke-width:4; stroke-opacity:1; fill:none\" points=\"\n",
       "  236.098,1683.54 254.996,1683.54 \n",
       "  \"/>\n",
       "<polyline clip-path=\"url(#clip630)\" style=\"stroke:#000000; stroke-linecap:butt; stroke-linejoin:round; stroke-width:4; stroke-opacity:1; fill:none\" points=\"\n",
       "  236.098,1500.8 254.996,1500.8 \n",
       "  \"/>\n",
       "<polyline clip-path=\"url(#clip630)\" style=\"stroke:#000000; stroke-linecap:butt; stroke-linejoin:round; stroke-width:4; stroke-opacity:1; fill:none\" points=\"\n",
       "  236.098,1318.06 254.996,1318.06 \n",
       "  \"/>\n",
       "<polyline clip-path=\"url(#clip630)\" style=\"stroke:#000000; stroke-linecap:butt; stroke-linejoin:round; stroke-width:4; stroke-opacity:1; fill:none\" points=\"\n",
       "  236.098,1135.32 254.996,1135.32 \n",
       "  \"/>\n",
       "<path clip-path=\"url(#clip630)\" d=\"M74.6679 1866.73 L104.344 1866.73 L104.344 1870.67 L74.6679 1870.67 L74.6679 1866.73 Z\" fill=\"#000000\" fill-rule=\"evenodd\" fill-opacity=\"1\" /><path clip-path=\"url(#clip630)\" d=\"M124.436 1852.08 Q120.825 1852.08 118.996 1855.64 Q117.191 1859.18 117.191 1866.31 Q117.191 1873.42 118.996 1876.99 Q120.825 1880.53 124.436 1880.53 Q128.07 1880.53 129.876 1876.99 Q131.705 1873.42 131.705 1866.31 Q131.705 1859.18 129.876 1855.64 Q128.07 1852.08 124.436 1852.08 M124.436 1848.37 Q130.246 1848.37 133.302 1852.98 Q136.381 1857.56 136.381 1866.31 Q136.381 1875.04 133.302 1879.65 Q130.246 1884.23 124.436 1884.23 Q118.626 1884.23 115.547 1879.65 Q112.492 1875.04 112.492 1866.31 Q112.492 1857.56 115.547 1852.98 Q118.626 1848.37 124.436 1848.37 Z\" fill=\"#000000\" fill-rule=\"evenodd\" fill-opacity=\"1\" /><path clip-path=\"url(#clip630)\" d=\"M144.598 1877.68 L149.482 1877.68 L149.482 1883.56 L144.598 1883.56 L144.598 1877.68 Z\" fill=\"#000000\" fill-rule=\"evenodd\" fill-opacity=\"1\" /><path clip-path=\"url(#clip630)\" d=\"M172.515 1853.07 L160.709 1871.52 L172.515 1871.52 L172.515 1853.07 M171.288 1849 L177.167 1849 L177.167 1871.52 L182.098 1871.52 L182.098 1875.41 L177.167 1875.41 L177.167 1883.56 L172.515 1883.56 L172.515 1875.41 L156.913 1875.41 L156.913 1870.9 L171.288 1849 Z\" fill=\"#000000\" fill-rule=\"evenodd\" fill-opacity=\"1\" /><path clip-path=\"url(#clip630)\" d=\"M76.7512 1683.99 L106.427 1683.99 L106.427 1687.93 L76.7512 1687.93 L76.7512 1683.99 Z\" fill=\"#000000\" fill-rule=\"evenodd\" fill-opacity=\"1\" /><path clip-path=\"url(#clip630)\" d=\"M126.519 1669.34 Q122.908 1669.34 121.08 1672.9 Q119.274 1676.44 119.274 1683.57 Q119.274 1690.68 121.08 1694.25 Q122.908 1697.79 126.519 1697.79 Q130.154 1697.79 131.959 1694.25 Q133.788 1690.68 133.788 1683.57 Q133.788 1676.44 131.959 1672.9 Q130.154 1669.34 126.519 1669.34 M126.519 1665.63 Q132.33 1665.63 135.385 1670.24 Q138.464 1674.82 138.464 1683.57 Q138.464 1692.3 135.385 1696.91 Q132.33 1701.49 126.519 1701.49 Q120.709 1701.49 117.631 1696.91 Q114.575 1692.3 114.575 1683.57 Q114.575 1674.82 117.631 1670.24 Q120.709 1665.63 126.519 1665.63 Z\" fill=\"#000000\" fill-rule=\"evenodd\" fill-opacity=\"1\" /><path clip-path=\"url(#clip630)\" d=\"M146.681 1694.94 L151.566 1694.94 L151.566 1700.82 L146.681 1700.82 L146.681 1694.94 Z\" fill=\"#000000\" fill-rule=\"evenodd\" fill-opacity=\"1\" /><path clip-path=\"url(#clip630)\" d=\"M165.779 1696.88 L182.098 1696.88 L182.098 1700.82 L160.154 1700.82 L160.154 1696.88 Q162.816 1694.13 167.399 1689.5 Q172.005 1684.85 173.186 1683.5 Q175.431 1680.98 176.311 1679.25 Q177.214 1677.49 177.214 1675.8 Q177.214 1673.04 175.269 1671.31 Q173.348 1669.57 170.246 1669.57 Q168.047 1669.57 165.593 1670.33 Q163.163 1671.1 160.385 1672.65 L160.385 1667.93 Q163.209 1666.79 165.663 1666.21 Q168.116 1665.63 170.153 1665.63 Q175.524 1665.63 178.718 1668.32 Q181.913 1671 181.913 1675.5 Q181.913 1677.63 181.103 1679.55 Q180.315 1681.44 178.209 1684.04 Q177.63 1684.71 174.528 1687.93 Q171.427 1691.12 165.779 1696.88 Z\" fill=\"#000000\" fill-rule=\"evenodd\" fill-opacity=\"1\" /><path clip-path=\"url(#clip630)\" d=\"M124.922 1486.6 Q121.311 1486.6 119.482 1490.16 Q117.677 1493.71 117.677 1500.83 Q117.677 1507.94 119.482 1511.51 Q121.311 1515.05 124.922 1515.05 Q128.556 1515.05 130.362 1511.51 Q132.191 1507.94 132.191 1500.83 Q132.191 1493.71 130.362 1490.16 Q128.556 1486.6 124.922 1486.6 M124.922 1482.9 Q130.732 1482.9 133.788 1487.5 Q136.867 1492.08 136.867 1500.83 Q136.867 1509.56 133.788 1514.17 Q130.732 1518.75 124.922 1518.75 Q119.112 1518.75 116.033 1514.17 Q112.978 1509.56 112.978 1500.83 Q112.978 1492.08 116.033 1487.5 Q119.112 1482.9 124.922 1482.9 Z\" fill=\"#000000\" fill-rule=\"evenodd\" fill-opacity=\"1\" /><path clip-path=\"url(#clip630)\" d=\"M145.084 1512.2 L149.968 1512.2 L149.968 1518.08 L145.084 1518.08 L145.084 1512.2 Z\" fill=\"#000000\" fill-rule=\"evenodd\" fill-opacity=\"1\" /><path clip-path=\"url(#clip630)\" d=\"M170.153 1486.6 Q166.542 1486.6 164.714 1490.16 Q162.908 1493.71 162.908 1500.83 Q162.908 1507.94 164.714 1511.51 Q166.542 1515.05 170.153 1515.05 Q173.788 1515.05 175.593 1511.51 Q177.422 1507.94 177.422 1500.83 Q177.422 1493.71 175.593 1490.16 Q173.788 1486.6 170.153 1486.6 M170.153 1482.9 Q175.964 1482.9 179.019 1487.5 Q182.098 1492.08 182.098 1500.83 Q182.098 1509.56 179.019 1514.17 Q175.964 1518.75 170.153 1518.75 Q164.343 1518.75 161.265 1514.17 Q158.209 1509.56 158.209 1500.83 Q158.209 1492.08 161.265 1487.5 Q164.343 1482.9 170.153 1482.9 Z\" fill=\"#000000\" fill-rule=\"evenodd\" fill-opacity=\"1\" /><path clip-path=\"url(#clip630)\" d=\"M126.519 1303.86 Q122.908 1303.86 121.08 1307.42 Q119.274 1310.97 119.274 1318.1 Q119.274 1325.2 121.08 1328.77 Q122.908 1332.31 126.519 1332.31 Q130.154 1332.31 131.959 1328.77 Q133.788 1325.2 133.788 1318.1 Q133.788 1310.97 131.959 1307.42 Q130.154 1303.86 126.519 1303.86 M126.519 1300.16 Q132.33 1300.16 135.385 1304.76 Q138.464 1309.35 138.464 1318.1 Q138.464 1326.82 135.385 1331.43 Q132.33 1336.01 126.519 1336.01 Q120.709 1336.01 117.631 1331.43 Q114.575 1326.82 114.575 1318.1 Q114.575 1309.35 117.631 1304.76 Q120.709 1300.16 126.519 1300.16 Z\" fill=\"#000000\" fill-rule=\"evenodd\" fill-opacity=\"1\" /><path clip-path=\"url(#clip630)\" d=\"M146.681 1329.46 L151.566 1329.46 L151.566 1335.34 L146.681 1335.34 L146.681 1329.46 Z\" fill=\"#000000\" fill-rule=\"evenodd\" fill-opacity=\"1\" /><path clip-path=\"url(#clip630)\" d=\"M165.779 1331.41 L182.098 1331.41 L182.098 1335.34 L160.154 1335.34 L160.154 1331.41 Q162.816 1328.65 167.399 1324.02 Q172.005 1319.37 173.186 1318.03 Q175.431 1315.5 176.311 1313.77 Q177.214 1312.01 177.214 1310.32 Q177.214 1307.56 175.269 1305.83 Q173.348 1304.09 170.246 1304.09 Q168.047 1304.09 165.593 1304.85 Q163.163 1305.62 160.385 1307.17 L160.385 1302.45 Q163.209 1301.31 165.663 1300.73 Q168.116 1300.16 170.153 1300.16 Q175.524 1300.16 178.718 1302.84 Q181.913 1305.53 181.913 1310.02 Q181.913 1312.15 181.103 1314.07 Q180.315 1315.97 178.209 1318.56 Q177.63 1319.23 174.528 1322.45 Q171.427 1325.64 165.779 1331.41 Z\" fill=\"#000000\" fill-rule=\"evenodd\" fill-opacity=\"1\" /><path clip-path=\"url(#clip630)\" d=\"M124.436 1121.12 Q120.825 1121.12 118.996 1124.68 Q117.191 1128.23 117.191 1135.36 Q117.191 1142.46 118.996 1146.03 Q120.825 1149.57 124.436 1149.57 Q128.07 1149.57 129.876 1146.03 Q131.705 1142.46 131.705 1135.36 Q131.705 1128.23 129.876 1124.68 Q128.07 1121.12 124.436 1121.12 M124.436 1117.42 Q130.246 1117.42 133.302 1122.02 Q136.381 1126.61 136.381 1135.36 Q136.381 1144.08 133.302 1148.69 Q130.246 1153.27 124.436 1153.27 Q118.626 1153.27 115.547 1148.69 Q112.492 1144.08 112.492 1135.36 Q112.492 1126.61 115.547 1122.02 Q118.626 1117.42 124.436 1117.42 Z\" fill=\"#000000\" fill-rule=\"evenodd\" fill-opacity=\"1\" /><path clip-path=\"url(#clip630)\" d=\"M144.598 1146.72 L149.482 1146.72 L149.482 1152.6 L144.598 1152.6 L144.598 1146.72 Z\" fill=\"#000000\" fill-rule=\"evenodd\" fill-opacity=\"1\" /><path clip-path=\"url(#clip630)\" d=\"M172.515 1122.11 L160.709 1140.56 L172.515 1140.56 L172.515 1122.11 M171.288 1118.04 L177.167 1118.04 L177.167 1140.56 L182.098 1140.56 L182.098 1144.45 L177.167 1144.45 L177.167 1152.6 L172.515 1152.6 L172.515 1144.45 L156.913 1144.45 L156.913 1139.94 L171.288 1118.04 Z\" fill=\"#000000\" fill-rule=\"evenodd\" fill-opacity=\"1\" /><path clip-path=\"url(#clip630)\" d=\"M1806.26 1018.82 L1806.26 1041.55 L1816.55 1041.55 Q1822.26 1041.55 1825.38 1038.59 Q1828.5 1035.63 1828.5 1030.16 Q1828.5 1024.73 1825.38 1021.78 Q1822.26 1018.82 1816.55 1018.82 L1806.26 1018.82 M1798.08 1012.1 L1816.55 1012.1 Q1826.72 1012.1 1831.9 1016.71 Q1837.13 1021.29 1837.13 1030.16 Q1837.13 1039.12 1831.9 1043.69 Q1826.72 1048.27 1816.55 1048.27 L1806.26 1048.27 L1806.26 1072.58 L1798.08 1072.58 L1798.08 1012.1 Z\" fill=\"#000000\" fill-rule=\"evenodd\" fill-opacity=\"1\" /><path clip-path=\"url(#clip630)\" d=\"M1863.01 1020.16 L1851.91 1050.26 L1874.15 1050.26 L1863.01 1020.16 M1858.39 1012.1 L1867.67 1012.1 L1890.72 1072.58 L1882.21 1072.58 L1876.7 1057.06 L1849.44 1057.06 L1843.93 1072.58 L1835.3 1072.58 L1858.39 1012.1 Z\" fill=\"#000000\" fill-rule=\"evenodd\" fill-opacity=\"1\" /><path clip-path=\"url(#clip630)\" d=\"M1943.38 1016.75 L1943.38 1025.38 Q1939.25 1021.53 1934.55 1019.63 Q1929.89 1017.73 1924.63 1017.73 Q1914.26 1017.73 1908.75 1024.09 Q1903.24 1030.41 1903.24 1042.4 Q1903.24 1054.35 1908.75 1060.71 Q1914.26 1067.03 1924.63 1067.03 Q1929.89 1067.03 1934.55 1065.12 Q1939.25 1063.22 1943.38 1059.37 L1943.38 1067.92 Q1939.09 1070.83 1934.27 1072.29 Q1929.49 1073.75 1924.14 1073.75 Q1910.41 1073.75 1902.51 1065.37 Q1894.61 1056.94 1894.61 1042.4 Q1894.61 1027.81 1902.51 1019.43 Q1910.41 1011 1924.14 1011 Q1929.57 1011 1934.35 1012.46 Q1939.17 1013.88 1943.38 1016.75 Z\" fill=\"#000000\" fill-rule=\"evenodd\" fill-opacity=\"1\" /><path clip-path=\"url(#clip630)\" d=\"M1956.02 1012.1 L1990.78 1012.1 L1990.78 1018.98 L1964.2 1018.98 L1964.2 1036.81 L1988.19 1036.81 L1988.19 1043.69 L1964.2 1043.69 L1964.2 1072.58 L1956.02 1072.58 L1956.02 1012.1 Z\" fill=\"#000000\" fill-rule=\"evenodd\" fill-opacity=\"1\" /><circle clip-path=\"url(#clip633)\" cx=\"329.966\" cy=\"1489.44\" r=\"14\" fill=\"#009af9\" fill-rule=\"evenodd\" fill-opacity=\"1\" stroke=\"#000000\" stroke-opacity=\"1\" stroke-width=\"4\"/>\n",
       "<circle clip-path=\"url(#clip633)\" cx=\"494.646\" cy=\"1418.69\" r=\"14\" fill=\"#009af9\" fill-rule=\"evenodd\" fill-opacity=\"1\" stroke=\"#000000\" stroke-opacity=\"1\" stroke-width=\"4\"/>\n",
       "<circle clip-path=\"url(#clip633)\" cx=\"659.326\" cy=\"1472.42\" r=\"14\" fill=\"#009af9\" fill-rule=\"evenodd\" fill-opacity=\"1\" stroke=\"#000000\" stroke-opacity=\"1\" stroke-width=\"4\"/>\n",
       "<circle clip-path=\"url(#clip633)\" cx=\"824.006\" cy=\"1573.96\" r=\"14\" fill=\"#009af9\" fill-rule=\"evenodd\" fill-opacity=\"1\" stroke=\"#000000\" stroke-opacity=\"1\" stroke-width=\"4\"/>\n",
       "<circle clip-path=\"url(#clip633)\" cx=\"988.686\" cy=\"1497.98\" r=\"14\" fill=\"#009af9\" fill-rule=\"evenodd\" fill-opacity=\"1\" stroke=\"#000000\" stroke-opacity=\"1\" stroke-width=\"4\"/>\n",
       "<circle clip-path=\"url(#clip633)\" cx=\"1153.37\" cy=\"1538.35\" r=\"14\" fill=\"#009af9\" fill-rule=\"evenodd\" fill-opacity=\"1\" stroke=\"#000000\" stroke-opacity=\"1\" stroke-width=\"4\"/>\n",
       "<circle clip-path=\"url(#clip633)\" cx=\"1318.05\" cy=\"1518.89\" r=\"14\" fill=\"#009af9\" fill-rule=\"evenodd\" fill-opacity=\"1\" stroke=\"#000000\" stroke-opacity=\"1\" stroke-width=\"4\"/>\n",
       "<circle clip-path=\"url(#clip633)\" cx=\"1482.73\" cy=\"1591.12\" r=\"14\" fill=\"#009af9\" fill-rule=\"evenodd\" fill-opacity=\"1\" stroke=\"#000000\" stroke-opacity=\"1\" stroke-width=\"4\"/>\n",
       "<circle clip-path=\"url(#clip633)\" cx=\"1647.41\" cy=\"1461.86\" r=\"14\" fill=\"#009af9\" fill-rule=\"evenodd\" fill-opacity=\"1\" stroke=\"#000000\" stroke-opacity=\"1\" stroke-width=\"4\"/>\n",
       "<circle clip-path=\"url(#clip633)\" cx=\"1812.09\" cy=\"1605.83\" r=\"14\" fill=\"#009af9\" fill-rule=\"evenodd\" fill-opacity=\"1\" stroke=\"#000000\" stroke-opacity=\"1\" stroke-width=\"4\"/>\n",
       "<circle clip-path=\"url(#clip633)\" cx=\"1976.77\" cy=\"1426.42\" r=\"14\" fill=\"#009af9\" fill-rule=\"evenodd\" fill-opacity=\"1\" stroke=\"#000000\" stroke-opacity=\"1\" stroke-width=\"4\"/>\n",
       "<circle clip-path=\"url(#clip633)\" cx=\"2141.45\" cy=\"1483.92\" r=\"14\" fill=\"#009af9\" fill-rule=\"evenodd\" fill-opacity=\"1\" stroke=\"#000000\" stroke-opacity=\"1\" stroke-width=\"4\"/>\n",
       "<circle clip-path=\"url(#clip633)\" cx=\"2306.13\" cy=\"1454.39\" r=\"14\" fill=\"#009af9\" fill-rule=\"evenodd\" fill-opacity=\"1\" stroke=\"#000000\" stroke-opacity=\"1\" stroke-width=\"4\"/>\n",
       "<circle clip-path=\"url(#clip633)\" cx=\"2470.81\" cy=\"1549.71\" r=\"14\" fill=\"#009af9\" fill-rule=\"evenodd\" fill-opacity=\"1\" stroke=\"#000000\" stroke-opacity=\"1\" stroke-width=\"4\"/>\n",
       "<circle clip-path=\"url(#clip633)\" cx=\"2635.49\" cy=\"1438.32\" r=\"14\" fill=\"#009af9\" fill-rule=\"evenodd\" fill-opacity=\"1\" stroke=\"#000000\" stroke-opacity=\"1\" stroke-width=\"4\"/>\n",
       "<circle clip-path=\"url(#clip633)\" cx=\"2800.17\" cy=\"1354.91\" r=\"14\" fill=\"#009af9\" fill-rule=\"evenodd\" fill-opacity=\"1\" stroke=\"#000000\" stroke-opacity=\"1\" stroke-width=\"4\"/>\n",
       "<circle clip-path=\"url(#clip633)\" cx=\"2964.85\" cy=\"1474.95\" r=\"14\" fill=\"#009af9\" fill-rule=\"evenodd\" fill-opacity=\"1\" stroke=\"#000000\" stroke-opacity=\"1\" stroke-width=\"4\"/>\n",
       "<circle clip-path=\"url(#clip633)\" cx=\"3129.53\" cy=\"1448.77\" r=\"14\" fill=\"#009af9\" fill-rule=\"evenodd\" fill-opacity=\"1\" stroke=\"#000000\" stroke-opacity=\"1\" stroke-width=\"4\"/>\n",
       "<circle clip-path=\"url(#clip633)\" cx=\"3294.21\" cy=\"1477.85\" r=\"14\" fill=\"#009af9\" fill-rule=\"evenodd\" fill-opacity=\"1\" stroke=\"#000000\" stroke-opacity=\"1\" stroke-width=\"4\"/>\n",
       "<circle clip-path=\"url(#clip633)\" cx=\"3458.89\" cy=\"1594.37\" r=\"14\" fill=\"#009af9\" fill-rule=\"evenodd\" fill-opacity=\"1\" stroke=\"#000000\" stroke-opacity=\"1\" stroke-width=\"4\"/>\n",
       "<path clip-path=\"url(#clip630)\" d=\"\n",
       "M2294.4 1242.9 L3442.2 1242.9 L3442.2 1139.22 L2294.4 1139.22  Z\n",
       "  \" fill=\"#ffffff\" fill-rule=\"evenodd\" fill-opacity=\"1\"/>\n",
       "<polyline clip-path=\"url(#clip630)\" style=\"stroke:#000000; stroke-linecap:butt; stroke-linejoin:round; stroke-width:4; stroke-opacity:1; fill:none\" points=\"\n",
       "  2294.4,1242.9 3442.2,1242.9 3442.2,1139.22 2294.4,1139.22 2294.4,1242.9 \n",
       "  \"/>\n",
       "<circle clip-path=\"url(#clip630)\" cx=\"2441.81\" cy=\"1191.06\" r=\"23\" fill=\"#009af9\" fill-rule=\"evenodd\" fill-opacity=\"1\" stroke=\"#000000\" stroke-opacity=\"1\" stroke-width=\"6.4\"/>\n",
       "<path clip-path=\"url(#clip630)\" d=\"M2589.89 1204.4 L2597.53 1204.4 L2597.53 1178.04 L2589.22 1179.71 L2589.22 1175.45 L2597.48 1173.78 L2602.16 1173.78 L2602.16 1204.4 L2609.8 1204.4 L2609.8 1208.34 L2589.89 1208.34 L2589.89 1204.4 Z\" fill=\"#000000\" fill-rule=\"evenodd\" fill-opacity=\"1\" /><path clip-path=\"url(#clip630)\" d=\"M2629.24 1176.86 Q2625.63 1176.86 2623.8 1180.42 Q2622 1183.96 2622 1191.09 Q2622 1198.2 2623.8 1201.77 Q2625.63 1205.31 2629.24 1205.31 Q2632.88 1205.31 2634.68 1201.77 Q2636.51 1198.2 2636.51 1191.09 Q2636.51 1183.96 2634.68 1180.42 Q2632.88 1176.86 2629.24 1176.86 M2629.24 1173.15 Q2635.05 1173.15 2638.11 1177.76 Q2641.19 1182.34 2641.19 1191.09 Q2641.19 1199.82 2638.11 1204.43 Q2635.05 1209.01 2629.24 1209.01 Q2623.43 1209.01 2620.35 1204.43 Q2617.3 1199.82 2617.3 1191.09 Q2617.3 1182.34 2620.35 1177.76 Q2623.43 1173.15 2629.24 1173.15 Z\" fill=\"#000000\" fill-rule=\"evenodd\" fill-opacity=\"1\" /><path clip-path=\"url(#clip630)\" d=\"M2659.31 1173.78 L2664.33 1173.78 L2673.92 1187.99 L2683.43 1173.78 L2688.45 1173.78 L2676.23 1191.88 L2676.23 1208.34 L2671.53 1208.34 L2671.53 1191.88 L2659.31 1173.78 Z\" fill=\"#000000\" fill-rule=\"evenodd\" fill-opacity=\"1\" /><path clip-path=\"url(#clip630)\" d=\"M2708.71 1194.31 L2708.71 1196.39 L2689.13 1196.39 Q2689.4 1200.79 2691.76 1203.11 Q2694.15 1205.4 2698.38 1205.4 Q2700.84 1205.4 2703.13 1204.8 Q2705.45 1204.2 2707.71 1202.99 L2707.71 1207.02 Q2705.42 1207.99 2703.01 1208.5 Q2700.61 1209.01 2698.13 1209.01 Q2691.93 1209.01 2688.29 1205.4 Q2684.68 1201.79 2684.68 1195.63 Q2684.68 1189.27 2688.11 1185.54 Q2691.56 1181.79 2697.39 1181.79 Q2702.62 1181.79 2705.65 1185.17 Q2708.71 1188.52 2708.71 1194.31 M2704.45 1193.06 Q2704.4 1189.57 2702.48 1187.48 Q2700.58 1185.4 2697.44 1185.4 Q2693.87 1185.4 2691.72 1187.41 Q2689.59 1189.43 2689.26 1193.08 L2704.45 1193.06 Z\" fill=\"#000000\" fill-rule=\"evenodd\" fill-opacity=\"1\" /><path clip-path=\"url(#clip630)\" d=\"M2727.48 1195.31 Q2722.32 1195.31 2720.33 1196.49 Q2718.34 1197.67 2718.34 1200.52 Q2718.34 1202.78 2719.82 1204.13 Q2721.32 1205.45 2723.89 1205.45 Q2727.44 1205.45 2729.57 1202.95 Q2731.72 1200.42 2731.72 1196.26 L2731.72 1195.31 L2727.48 1195.31 M2735.98 1193.55 L2735.98 1208.34 L2731.72 1208.34 L2731.72 1204.4 Q2730.26 1206.77 2728.08 1207.9 Q2725.91 1209.01 2722.76 1209.01 Q2718.78 1209.01 2716.42 1206.79 Q2714.08 1204.54 2714.08 1200.79 Q2714.08 1196.42 2717 1194.2 Q2719.94 1191.97 2725.75 1191.97 L2731.72 1191.97 L2731.72 1191.56 Q2731.72 1188.62 2729.77 1187.02 Q2727.85 1185.4 2724.36 1185.4 Q2722.13 1185.4 2720.03 1185.93 Q2717.92 1186.46 2715.98 1187.53 L2715.98 1183.59 Q2718.32 1182.69 2720.51 1182.25 Q2722.71 1181.79 2724.8 1181.79 Q2730.42 1181.79 2733.2 1184.71 Q2735.98 1187.62 2735.98 1193.55 Z\" fill=\"#000000\" fill-rule=\"evenodd\" fill-opacity=\"1\" /><path clip-path=\"url(#clip630)\" d=\"M2759.77 1186.39 Q2759.06 1185.98 2758.2 1185.79 Q2757.37 1185.58 2756.35 1185.58 Q2752.74 1185.58 2750.79 1187.95 Q2748.87 1190.28 2748.87 1194.68 L2748.87 1208.34 L2744.59 1208.34 L2744.59 1182.41 L2748.87 1182.41 L2748.87 1186.44 Q2750.21 1184.08 2752.37 1182.95 Q2754.52 1181.79 2757.6 1181.79 Q2758.04 1181.79 2758.57 1181.86 Q2759.1 1181.9 2759.75 1182.02 L2759.77 1186.39 Z\" fill=\"#000000\" fill-rule=\"evenodd\" fill-opacity=\"1\" /><path clip-path=\"url(#clip630)\" d=\"M2805.38 1176.44 L2805.38 1181.37 Q2803.01 1179.17 2800.33 1178.08 Q2797.67 1177 2794.66 1177 Q2788.73 1177 2785.58 1180.63 Q2782.44 1184.24 2782.44 1191.09 Q2782.44 1197.92 2785.58 1201.56 Q2788.73 1205.17 2794.66 1205.17 Q2797.67 1205.17 2800.33 1204.08 Q2803.01 1202.99 2805.38 1200.79 L2805.38 1205.68 Q2802.92 1207.34 2800.17 1208.18 Q2797.44 1209.01 2794.38 1209.01 Q2786.53 1209.01 2782.02 1204.22 Q2777.5 1199.4 2777.5 1191.09 Q2777.5 1182.76 2782.02 1177.97 Q2786.53 1173.15 2794.38 1173.15 Q2797.48 1173.15 2800.21 1173.99 Q2802.97 1174.8 2805.38 1176.44 Z\" fill=\"#000000\" fill-rule=\"evenodd\" fill-opacity=\"1\" /><path clip-path=\"url(#clip630)\" d=\"M2812.6 1173.78 L2819.56 1173.78 L2828.38 1197.3 L2837.25 1173.78 L2844.22 1173.78 L2844.22 1208.34 L2839.66 1208.34 L2839.66 1177.99 L2830.75 1201.7 L2826.05 1201.7 L2817.13 1177.99 L2817.13 1208.34 L2812.6 1208.34 L2812.6 1173.78 Z\" fill=\"#000000\" fill-rule=\"evenodd\" fill-opacity=\"1\" /><path clip-path=\"url(#clip630)\" d=\"M2848.71 1173.78 L2877.94 1173.78 L2877.94 1177.71 L2865.68 1177.71 L2865.68 1208.34 L2860.98 1208.34 L2860.98 1177.71 L2848.71 1177.71 L2848.71 1173.78 Z\" fill=\"#000000\" fill-rule=\"evenodd\" fill-opacity=\"1\" /><path clip-path=\"url(#clip630)\" d=\"M2902.2 1191.83 L2902.2 1204.5 L2909.7 1204.5 Q2913.48 1204.5 2915.28 1202.95 Q2917.11 1201.37 2917.11 1198.15 Q2917.11 1194.91 2915.28 1193.39 Q2913.48 1191.83 2909.7 1191.83 L2902.2 1191.83 M2902.2 1177.62 L2902.2 1188.04 L2909.12 1188.04 Q2912.55 1188.04 2914.22 1186.77 Q2915.91 1185.47 2915.91 1182.83 Q2915.91 1180.21 2914.22 1178.92 Q2912.55 1177.62 2909.12 1177.62 L2902.2 1177.62 M2897.53 1173.78 L2909.47 1173.78 Q2914.82 1173.78 2917.71 1176 Q2920.61 1178.22 2920.61 1182.32 Q2920.61 1185.49 2919.12 1187.37 Q2917.64 1189.24 2914.77 1189.71 Q2918.22 1190.45 2920.12 1192.81 Q2922.04 1195.14 2922.04 1198.66 Q2922.04 1203.29 2918.89 1205.82 Q2915.74 1208.34 2909.93 1208.34 L2897.53 1208.34 L2897.53 1173.78 Z\" fill=\"#000000\" fill-rule=\"evenodd\" fill-opacity=\"1\" /><path clip-path=\"url(#clip630)\" d=\"M2939.91 1185.4 Q2936.49 1185.4 2934.49 1188.08 Q2932.5 1190.75 2932.5 1195.4 Q2932.5 1200.05 2934.47 1202.74 Q2936.46 1205.4 2939.91 1205.4 Q2943.31 1205.4 2945.3 1202.71 Q2947.3 1200.03 2947.3 1195.4 Q2947.3 1190.79 2945.3 1188.11 Q2943.31 1185.4 2939.91 1185.4 M2939.91 1181.79 Q2945.47 1181.79 2948.64 1185.4 Q2951.81 1189.01 2951.81 1195.4 Q2951.81 1201.77 2948.64 1205.4 Q2945.47 1209.01 2939.91 1209.01 Q2934.33 1209.01 2931.16 1205.4 Q2928.01 1201.77 2928.01 1195.4 Q2928.01 1189.01 2931.16 1185.4 Q2934.33 1181.79 2939.91 1181.79 Z\" fill=\"#000000\" fill-rule=\"evenodd\" fill-opacity=\"1\" /><path clip-path=\"url(#clip630)\" d=\"M2980.42 1192.69 L2980.42 1208.34 L2976.16 1208.34 L2976.16 1192.83 Q2976.16 1189.15 2974.73 1187.32 Q2973.29 1185.49 2970.42 1185.49 Q2966.97 1185.49 2964.98 1187.69 Q2962.99 1189.89 2962.99 1193.69 L2962.99 1208.34 L2958.71 1208.34 L2958.71 1182.41 L2962.99 1182.41 L2962.99 1186.44 Q2964.52 1184.1 2966.58 1182.95 Q2968.66 1181.79 2971.37 1181.79 Q2975.84 1181.79 2978.13 1184.57 Q2980.42 1187.32 2980.42 1192.69 Z\" fill=\"#000000\" fill-rule=\"evenodd\" fill-opacity=\"1\" /><path clip-path=\"url(#clip630)\" d=\"M3005.98 1186.35 L3005.98 1172.32 L3010.24 1172.32 L3010.24 1208.34 L3005.98 1208.34 L3005.98 1204.45 Q3004.63 1206.77 3002.57 1207.9 Q3000.54 1209.01 2997.67 1209.01 Q2992.97 1209.01 2990 1205.26 Q2987.06 1201.51 2987.06 1195.4 Q2987.06 1189.29 2990 1185.54 Q2992.97 1181.79 2997.67 1181.79 Q3000.54 1181.79 3002.57 1182.92 Q3004.63 1184.03 3005.98 1186.35 M2991.46 1195.4 Q2991.46 1200.1 2993.38 1202.78 Q2995.33 1205.45 2998.71 1205.45 Q3002.09 1205.45 3004.03 1202.78 Q3005.98 1200.1 3005.98 1195.4 Q3005.98 1190.7 3004.03 1188.04 Q3002.09 1185.35 2998.71 1185.35 Q2995.33 1185.35 2993.38 1188.04 Q2991.46 1190.7 2991.46 1195.4 Z\" fill=\"#000000\" fill-rule=\"evenodd\" fill-opacity=\"1\" /><path clip-path=\"url(#clip630)\" d=\"M3038.94 1177.62 L3038.94 1190.61 L3044.82 1190.61 Q3048.08 1190.61 3049.86 1188.92 Q3051.65 1187.23 3051.65 1184.1 Q3051.65 1181 3049.86 1179.31 Q3048.08 1177.62 3044.82 1177.62 L3038.94 1177.62 M3034.26 1173.78 L3044.82 1173.78 Q3050.63 1173.78 3053.59 1176.42 Q3056.58 1179.03 3056.58 1184.1 Q3056.58 1189.22 3053.59 1191.83 Q3050.63 1194.45 3044.82 1194.45 L3038.94 1194.45 L3038.94 1208.34 L3034.26 1208.34 L3034.26 1173.78 Z\" fill=\"#000000\" fill-rule=\"evenodd\" fill-opacity=\"1\" /><path clip-path=\"url(#clip630)\" d=\"M3071.37 1178.39 L3065.03 1195.58 L3077.73 1195.58 L3071.37 1178.39 M3068.73 1173.78 L3074.03 1173.78 L3087.2 1208.34 L3082.34 1208.34 L3079.19 1199.47 L3063.61 1199.47 L3060.47 1208.34 L3055.54 1208.34 L3068.73 1173.78 Z\" fill=\"#000000\" fill-rule=\"evenodd\" fill-opacity=\"1\" /><path clip-path=\"url(#clip630)\" d=\"M3117.29 1176.44 L3117.29 1181.37 Q3114.93 1179.17 3112.25 1178.08 Q3109.59 1177 3106.58 1177 Q3100.65 1177 3097.5 1180.63 Q3094.36 1184.24 3094.36 1191.09 Q3094.36 1197.92 3097.5 1201.56 Q3100.65 1205.17 3106.58 1205.17 Q3109.59 1205.17 3112.25 1204.08 Q3114.93 1202.99 3117.29 1200.79 L3117.29 1205.68 Q3114.84 1207.34 3112.09 1208.18 Q3109.35 1209.01 3106.3 1209.01 Q3098.45 1209.01 3093.94 1204.22 Q3089.42 1199.4 3089.42 1191.09 Q3089.42 1182.76 3093.94 1177.97 Q3098.45 1173.15 3106.3 1173.15 Q3109.4 1173.15 3112.13 1173.99 Q3114.89 1174.8 3117.29 1176.44 Z\" fill=\"#000000\" fill-rule=\"evenodd\" fill-opacity=\"1\" /><path clip-path=\"url(#clip630)\" d=\"M3124.52 1173.78 L3144.38 1173.78 L3144.38 1177.71 L3129.19 1177.71 L3129.19 1187.9 L3142.9 1187.9 L3142.9 1191.83 L3129.19 1191.83 L3129.19 1208.34 L3124.52 1208.34 L3124.52 1173.78 Z\" fill=\"#000000\" fill-rule=\"evenodd\" fill-opacity=\"1\" /><path clip-path=\"url(#clip630)\" d=\"M3175.77 1208.34 L3162.57 1173.78 L3167.46 1173.78 L3178.41 1202.88 L3189.38 1173.78 L3194.24 1173.78 L3181.07 1208.34 L3175.77 1208.34 Z\" fill=\"#000000\" fill-rule=\"evenodd\" fill-opacity=\"1\" /><path clip-path=\"url(#clip630)\" d=\"M3207.2 1195.31 Q3202.04 1195.31 3200.05 1196.49 Q3198.06 1197.67 3198.06 1200.52 Q3198.06 1202.78 3199.54 1204.13 Q3201.04 1205.45 3203.61 1205.45 Q3207.16 1205.45 3209.29 1202.95 Q3211.44 1200.42 3211.44 1196.26 L3211.44 1195.31 L3207.2 1195.31 M3215.7 1193.55 L3215.7 1208.34 L3211.44 1208.34 L3211.44 1204.4 Q3209.98 1206.77 3207.8 1207.9 Q3205.63 1209.01 3202.48 1209.01 Q3198.5 1209.01 3196.14 1206.79 Q3193.8 1204.54 3193.8 1200.79 Q3193.8 1196.42 3196.72 1194.2 Q3199.66 1191.97 3205.47 1191.97 L3211.44 1191.97 L3211.44 1191.56 Q3211.44 1188.62 3209.49 1187.02 Q3207.57 1185.4 3204.08 1185.4 Q3201.85 1185.4 3199.75 1185.93 Q3197.64 1186.46 3195.7 1187.53 L3195.7 1183.59 Q3198.04 1182.69 3200.23 1182.25 Q3202.43 1181.79 3204.52 1181.79 Q3210.14 1181.79 3212.92 1184.71 Q3215.7 1187.62 3215.7 1193.55 Z\" fill=\"#000000\" fill-rule=\"evenodd\" fill-opacity=\"1\" /><path clip-path=\"url(#clip630)\" d=\"M3239.49 1186.39 Q3238.78 1185.98 3237.92 1185.79 Q3237.09 1185.58 3236.07 1185.58 Q3232.46 1185.58 3230.51 1187.95 Q3228.59 1190.28 3228.59 1194.68 L3228.59 1208.34 L3224.31 1208.34 L3224.31 1182.41 L3228.59 1182.41 L3228.59 1186.44 Q3229.93 1184.08 3232.09 1182.95 Q3234.24 1181.79 3237.32 1181.79 Q3237.76 1181.79 3238.29 1181.86 Q3238.82 1181.9 3239.47 1182.02 L3239.49 1186.39 Z\" fill=\"#000000\" fill-rule=\"evenodd\" fill-opacity=\"1\" /><path clip-path=\"url(#clip630)\" d=\"M3243.96 1182.41 L3248.22 1182.41 L3248.22 1208.34 L3243.96 1208.34 L3243.96 1182.41 M3243.96 1172.32 L3248.22 1172.32 L3248.22 1177.71 L3243.96 1177.71 L3243.96 1172.32 Z\" fill=\"#000000\" fill-rule=\"evenodd\" fill-opacity=\"1\" /><path clip-path=\"url(#clip630)\" d=\"M3268.91 1195.31 Q3263.75 1195.31 3261.76 1196.49 Q3259.77 1197.67 3259.77 1200.52 Q3259.77 1202.78 3261.25 1204.13 Q3262.76 1205.45 3265.33 1205.45 Q3268.87 1205.45 3271 1202.95 Q3273.15 1200.42 3273.15 1196.26 L3273.15 1195.31 L3268.91 1195.31 M3277.41 1193.55 L3277.41 1208.34 L3273.15 1208.34 L3273.15 1204.4 Q3271.69 1206.77 3269.52 1207.9 Q3267.34 1209.01 3264.19 1209.01 Q3260.21 1209.01 3257.85 1206.79 Q3255.51 1204.54 3255.51 1200.79 Q3255.51 1196.42 3258.43 1194.2 Q3261.37 1191.97 3267.18 1191.97 L3273.15 1191.97 L3273.15 1191.56 Q3273.15 1188.62 3271.21 1187.02 Q3269.28 1185.4 3265.79 1185.4 Q3263.57 1185.4 3261.46 1185.93 Q3259.35 1186.46 3257.41 1187.53 L3257.41 1183.59 Q3259.75 1182.69 3261.95 1182.25 Q3264.15 1181.79 3266.23 1181.79 Q3271.85 1181.79 3274.63 1184.71 Q3277.41 1187.62 3277.41 1193.55 Z\" fill=\"#000000\" fill-rule=\"evenodd\" fill-opacity=\"1\" /><path clip-path=\"url(#clip630)\" d=\"M3290.4 1175.05 L3290.4 1182.41 L3299.17 1182.41 L3299.17 1185.72 L3290.4 1185.72 L3290.4 1199.8 Q3290.4 1202.97 3291.25 1203.87 Q3292.13 1204.77 3294.79 1204.77 L3299.17 1204.77 L3299.17 1208.34 L3294.79 1208.34 Q3289.86 1208.34 3287.99 1206.51 Q3286.11 1204.66 3286.11 1199.8 L3286.11 1185.72 L3282.99 1185.72 L3282.99 1182.41 L3286.11 1182.41 L3286.11 1175.05 L3290.4 1175.05 Z\" fill=\"#000000\" fill-rule=\"evenodd\" fill-opacity=\"1\" /><path clip-path=\"url(#clip630)\" d=\"M3304.77 1182.41 L3309.03 1182.41 L3309.03 1208.34 L3304.77 1208.34 L3304.77 1182.41 M3304.77 1172.32 L3309.03 1172.32 L3309.03 1177.71 L3304.77 1177.71 L3304.77 1172.32 Z\" fill=\"#000000\" fill-rule=\"evenodd\" fill-opacity=\"1\" /><path clip-path=\"url(#clip630)\" d=\"M3327.99 1185.4 Q3324.56 1185.4 3322.57 1188.08 Q3320.58 1190.75 3320.58 1195.4 Q3320.58 1200.05 3322.55 1202.74 Q3324.54 1205.4 3327.99 1205.4 Q3331.39 1205.4 3333.38 1202.71 Q3335.37 1200.03 3335.37 1195.4 Q3335.37 1190.79 3333.38 1188.11 Q3331.39 1185.4 3327.99 1185.4 M3327.99 1181.79 Q3333.54 1181.79 3336.71 1185.4 Q3339.89 1189.01 3339.89 1195.4 Q3339.89 1201.77 3336.71 1205.4 Q3333.54 1209.01 3327.99 1209.01 Q3322.41 1209.01 3319.24 1205.4 Q3316.09 1201.77 3316.09 1195.4 Q3316.09 1189.01 3319.24 1185.4 Q3322.41 1181.79 3327.99 1181.79 Z\" fill=\"#000000\" fill-rule=\"evenodd\" fill-opacity=\"1\" /><path clip-path=\"url(#clip630)\" d=\"M3368.5 1192.69 L3368.5 1208.34 L3364.24 1208.34 L3364.24 1192.83 Q3364.24 1189.15 3362.8 1187.32 Q3361.37 1185.49 3358.5 1185.49 Q3355.05 1185.49 3353.06 1187.69 Q3351.07 1189.89 3351.07 1193.69 L3351.07 1208.34 L3346.78 1208.34 L3346.78 1182.41 L3351.07 1182.41 L3351.07 1186.44 Q3352.59 1184.1 3354.65 1182.95 Q3356.74 1181.79 3359.45 1181.79 Q3363.91 1181.79 3366.21 1184.57 Q3368.5 1187.32 3368.5 1192.69 Z\" fill=\"#000000\" fill-rule=\"evenodd\" fill-opacity=\"1\" /></svg>\n"
      ]
     },
     "execution_count": 9,
     "metadata": {},
     "output_type": "execute_result"
    }
   ],
   "source": [
    "using StatsBase\n",
    "\n",
    "Y = s_diff[:, 3]\n",
    "total_lags = 20\n",
    "\n",
    "s1 = scatter(collect(1:total_lags), autocor(Y, collect(1:total_lags)), title = \"ACF\", label = \"10 Year CMT Bond ACF Variation\")\n",
    "s2 = scatter(collect(1:total_lags), pacf(Y, collect(1:total_lags)), title = \"PACF\", ylim = [-0.4,0.4], label = \"10 Year CMT Bond PACF Variation\");\n",
    "\n",
    "plot(s1, s2, layout = (2, 1), size = (900, 500))"
   ]
  },
  {
   "cell_type": "markdown",
   "id": "satisfactory-athletics",
   "metadata": {},
   "source": [
    "I honestly don't know how to interpret these charts too well. In the `R` programming language it is a lot easier, so I will try"
   ]
  },
  {
   "cell_type": "markdown",
   "id": "trying-award",
   "metadata": {},
   "source": [
    "$\\forall$ bond CMT inflation series"
   ]
  },
  {
   "cell_type": "code",
   "execution_count": 10,
   "id": "handmade-crowd",
   "metadata": {},
   "outputs": [
    {
     "data": {
      "image/png": "[encoded data removed]"
     },
     "metadata": {},
     "output_type": "display_data"
    },
    {
     "data": {
      "image/png": "[encoded data removed]"
     },
     "metadata": {},
     "output_type": "display_data"
    },
    {
     "data": {
      "image/png": "[encoded data removed]"
     },
     "metadata": {},
     "output_type": "display_data"
    },
    {
     "data": {
      "image/png": "[encoded data removed]"
     },
     "metadata": {},
     "output_type": "display_data"
    },
    {
     "data": {
      "image/png": "[encoded data removed]"
     },
     "metadata": {},
     "output_type": "display_data"
    },
    {
     "data": {
      "image/png": "[encoded data removed]"
     },
     "metadata": {},
     "output_type": "display_data"
    },
    {
     "data": {
      "image/png": "[encoded data removed]"
     },
     "metadata": {},
     "output_type": "display_data"
    },
    {
     "data": {
      "image/png": "[encoded data removed]"
     },
     "metadata": {},
     "output_type": "display_data"
    },
    {
     "data": {
      "image/png": "[encoded data removed]"
     },
     "metadata": {},
     "output_type": "display_data"
    },
    {
     "data": {
      "image/png": "[encoded data removed]"
     },
     "metadata": {},
     "output_type": "display_data"
    },
    {
     "name": "stderr",
     "output_type": "stream",
     "text": [
      "┌ Warning: RCall.jl: Loading required package: tseries\n",
      "│ Registered S3 method overwritten by 'quantmod':\n",
      "│   method            from\n",
      "│   as.zoo.data.frame zoo \n",
      "│ \n",
      "│     'tseries' version: 0.10-49\n",
      "│ \n",
      "│     'tseries' is a package for time series analysis and computational\n",
      "│     finance.\n",
      "│ \n",
      "│     See 'library(help=\"tseries\")' for details.\n",
      "│ \n",
      "└ @ RCall C:\\Users\\Owner\\.julia\\packages\\RCall\\6kphM\\src\\io.jl:172\n"
     ]
    },
    {
     "data": {
      "text/plain": [
       "RObject{VecSxp}\n",
       "\n",
       "Autocorrelations of series 'Y[, 5]', by lag\n",
       "\n",
       "     0      1      2      3      4      5      6      7      8      9     10 \n",
       " 1.000 -0.040  0.082  0.076 -0.116 -0.051 -0.094  0.015 -0.034  0.084 -0.068 \n",
       "    11     12     13     14     15     16     17     18     19     20 \n",
       "-0.029  0.030  0.031 -0.052  0.069  0.083 -0.039  0.106 -0.026 -0.054 \n"
      ]
     },
     "execution_count": 10,
     "metadata": {},
     "output_type": "execute_result"
    }
   ],
   "source": [
    "using RCall\n",
    "\n",
    "Y = s_diff\n",
    "@rput Y\n",
    "R\"\"\"\n",
    "    options(warn=-1)\n",
    "\n",
    "    par(mfrow=c(1, 1))\n",
    "    require(\"tseries\")\n",
    "\n",
    "    pacf(Y[, 1], lag = 20, ylim = c(-0.4, 0.4))\n",
    "    acf(Y[, 1], lag = 20, ylim = c(-0.4, 0.4))\n",
    "\n",
    "    pacf(Y[, 2], lag = 20, ylim = c(-0.4, 0.4))\n",
    "    acf(Y[, 2], lag = 20, ylim = c(-0.4, 0.4))\n",
    "\n",
    "    pacf(Y[, 3], lag = 20, ylim = c(-0.4, 0.4))\n",
    "    acf(Y[, 3], lag = 20, ylim = c(-0.4, 0.4))\n",
    "\n",
    "    pacf(Y[, 4], lag = 20, ylim = c(-0.4, 0.4))\n",
    "    acf(Y[, 4], lag = 20, ylim = c(-0.4, 0.4))\n",
    "\n",
    "    pacf(Y[, 5], lag = 20, ylim = c(-0.4, 0.4))\n",
    "    acf(Y[, 5], lag = 20, ylim = c(-0.4, 0.4))\n",
    "\"\"\""
   ]
  },
  {
   "cell_type": "markdown",
   "id": "supreme-hebrew",
   "metadata": {},
   "source": [
    "The auto-regressive series is independently distributed, but I have to gain more insight using the Akiake Information Criterion and the log-likelihood function."
   ]
  },
  {
   "cell_type": "markdown",
   "id": "suburban-humidity",
   "metadata": {},
   "source": [
    "### The Akiake Information Criterion"
   ]
  },
  {
   "cell_type": "markdown",
   "id": "toxic-range",
   "metadata": {},
   "source": [
    "The Akiake Information Criterion says that"
   ]
  },
  {
   "cell_type": "markdown",
   "id": "cloudy-metabolism",
   "metadata": {},
   "source": [
    "$$\n",
    "    \\text{AIC} = -\\frac{2}{T}\\ln(\\text{likelihood)} + \\frac{2}{T}\\times \\text{(number of parameters)}\n",
    "$$"
   ]
  },
  {
   "cell_type": "markdown",
   "id": "lonely-neutral",
   "metadata": {},
   "source": [
    "where $T$ is the sample size. I would first need to find what the log-likelihood function has to say about the data."
   ]
  },
  {
   "cell_type": "markdown",
   "id": "aquatic-savannah",
   "metadata": {},
   "source": [
    "### The Log-Likelihood Function"
   ]
  },
  {
   "cell_type": "markdown",
   "id": "committed-dimension",
   "metadata": {},
   "source": [
    "For the AIC, the log-likelihood is evaluated at the maximum likelihood estimates. The following is incorrect, because later I realize that I am working with an $\\text{ARIMA}$ model, and the following is an $\\text{AR}$ process I copied from Dr. Ruey Tsay's Financial Time Series textbook (p. 45). I need to model both $\\text{AR}$ and $\\text{MA}$."
   ]
  },
  {
   "cell_type": "markdown",
   "id": "biological-hayes",
   "metadata": {},
   "source": [
    "**Maturity $T = 5$Y**"
   ]
  },
  {
   "cell_type": "code",
   "execution_count": 11,
   "id": "greek-combination",
   "metadata": {},
   "outputs": [
    {
     "data": {
      "text/plain": [
       "RObject{RealSxp}\n",
       "         0          1          2          3          4          5          6 \n",
       " 0.1922434  0.0000000  1.9967268  3.9918753  5.9379868  7.6313607  9.3529699 \n",
       "         7          8          9         10         11         12 \n",
       "10.3281870 10.1698899 11.2603169 10.5736818 11.8603362 13.8785176 \n"
      ]
     },
     "execution_count": 11,
     "metadata": {},
     "output_type": "execute_result"
    }
   ],
   "source": [
    "Y = s_diff[:, 1]\n",
    "@rput Y\n",
    "R\"\"\"\n",
    "    ord=ar(Y, method = \"mle\")\n",
    "    ord$aic\n",
    "\"\"\""
   ]
  },
  {
   "cell_type": "markdown",
   "id": "north-classification",
   "metadata": {},
   "source": [
    "The minimum occurs at $p = 1$. Therefore, $\\text{AR}(1)$ is preferred by the criterion, and"
   ]
  },
  {
   "cell_type": "code",
   "execution_count": 12,
   "id": "single-dependence",
   "metadata": {},
   "outputs": [
    {
     "data": {
      "text/plain": [
       "RObject{IntSxp}\n",
       "[1] 1\n"
      ]
     },
     "execution_count": 12,
     "metadata": {},
     "output_type": "execute_result"
    }
   ],
   "source": [
    "R\"ord$order\""
   ]
  },
  {
   "cell_type": "markdown",
   "id": "dietary-medicine",
   "metadata": {},
   "source": [
    "$\\therefore$ an $\\text{AR}(1)$ model \"seems\" to best fit the data."
   ]
  },
  {
   "cell_type": "markdown",
   "id": "spread-moral",
   "metadata": {},
   "source": [
    "**Maturity $T = 7$Y**"
   ]
  },
  {
   "cell_type": "code",
   "execution_count": 13,
   "id": "musical-insurance",
   "metadata": {},
   "outputs": [
    {
     "data": {
      "text/plain": [
       "RObject{RealSxp}\n",
       "        0         1         2         3         4         5         6         7 \n",
       "0.0000000 0.1121555 1.2235668 3.0289092 2.7441586 4.2271354 5.7771037 7.3606954 \n",
       "        8         9        10        11        12 \n",
       "6.9817400 8.8982430 7.7660246 6.4629113 8.4599257 \n"
      ]
     },
     "execution_count": 13,
     "metadata": {},
     "output_type": "execute_result"
    }
   ],
   "source": [
    "Y = s_diff[:, 2]\n",
    "@rput Y\n",
    "R\"\"\"\n",
    "    ord=ar(Y, method = \"mle\")\n",
    "    ord$aic\n",
    "\"\"\""
   ]
  },
  {
   "cell_type": "markdown",
   "id": "minor-valuation",
   "metadata": {},
   "source": [
    "The minimum occurs at $p = 0$. Therefore, $\\text{AR}(0)$ is preferred by the criterion, and"
   ]
  },
  {
   "cell_type": "code",
   "execution_count": 14,
   "id": "frank-communication",
   "metadata": {},
   "outputs": [
    {
     "data": {
      "text/plain": [
       "RObject{IntSxp}\n",
       "[1] 0\n"
      ]
     },
     "execution_count": 14,
     "metadata": {},
     "output_type": "execute_result"
    }
   ],
   "source": [
    "R\"ord$order\""
   ]
  },
  {
   "cell_type": "markdown",
   "id": "worldwide-payroll",
   "metadata": {},
   "source": [
    "$\\therefore$ an $\\text{AR}(0)$ model \"seems\" to best fits the data."
   ]
  },
  {
   "cell_type": "markdown",
   "id": "underlying-input",
   "metadata": {},
   "source": [
    "**Maturity $T = 10$Y**"
   ]
  },
  {
   "cell_type": "code",
   "execution_count": 15,
   "id": "changed-judgment",
   "metadata": {},
   "outputs": [
    {
     "data": {
      "text/plain": [
       "RObject{RealSxp}\n",
       "        0         1         2         3         4         5         6         7 \n",
       " 0.000000  1.959694  1.851958  3.579666  3.798180  5.798007  7.377919  9.293004 \n",
       "        8         9        10        11        12 \n",
       " 8.781366 10.300441  8.859319  9.130840 11.018136 \n"
      ]
     },
     "execution_count": 15,
     "metadata": {},
     "output_type": "execute_result"
    }
   ],
   "source": [
    "Y = s_diff[:, 3]\n",
    "@rput Y\n",
    "R\"\"\"\n",
    "    ord=ar(Y, method = \"mle\")\n",
    "    ord$aic\n",
    "\"\"\""
   ]
  },
  {
   "cell_type": "markdown",
   "id": "backed-pontiac",
   "metadata": {},
   "source": [
    "The minimum occurs at $p = 0$. Therefore, $\\text{AR}(0)$ is preferred by the criterion, and"
   ]
  },
  {
   "cell_type": "code",
   "execution_count": 16,
   "id": "outer-contrast",
   "metadata": {},
   "outputs": [
    {
     "data": {
      "text/plain": [
       "RObject{IntSxp}\n",
       "[1] 0\n"
      ]
     },
     "execution_count": 16,
     "metadata": {},
     "output_type": "execute_result"
    }
   ],
   "source": [
    "R\"ord$order\""
   ]
  },
  {
   "cell_type": "markdown",
   "id": "adapted-still",
   "metadata": {},
   "source": [
    "$\\therefore$ an $\\text{AR}(0)$ model \"seems\" to best fit the data."
   ]
  },
  {
   "cell_type": "markdown",
   "id": "dependent-genome",
   "metadata": {},
   "source": [
    "**Maturity $T = 20$Y**"
   ]
  },
  {
   "cell_type": "code",
   "execution_count": 17,
   "id": "thousand-title",
   "metadata": {},
   "outputs": [
    {
     "data": {
      "text/plain": [
       "RObject{RealSxp}\n",
       "        0         1         2         3         4         5         6         7 \n",
       " 0.000000  1.417265  1.520298  2.692500  1.661012  3.032373  5.008888  6.703188 \n",
       "        8         9        10        11        12 \n",
       " 7.671787  8.358766  8.638785 10.627762 12.521036 \n"
      ]
     },
     "execution_count": 17,
     "metadata": {},
     "output_type": "execute_result"
    }
   ],
   "source": [
    "Y = s_diff[:, 4]\n",
    "@rput Y\n",
    "R\"\"\"\n",
    "    ord=ar(Y, method = \"mle\")\n",
    "    ord$aic\n",
    "\"\"\""
   ]
  },
  {
   "cell_type": "markdown",
   "id": "liable-chamber",
   "metadata": {},
   "source": [
    "The minimum occurs at $p = 0$. Therefore, $\\text{AR}(0)$ is preferred by the criterion, and"
   ]
  },
  {
   "cell_type": "code",
   "execution_count": 18,
   "id": "direct-bubble",
   "metadata": {},
   "outputs": [
    {
     "data": {
      "text/plain": [
       "RObject{IntSxp}\n",
       "[1] 0\n"
      ]
     },
     "execution_count": 18,
     "metadata": {},
     "output_type": "execute_result"
    }
   ],
   "source": [
    "R\"ord$order\""
   ]
  },
  {
   "cell_type": "markdown",
   "id": "interested-grammar",
   "metadata": {},
   "source": [
    "$\\therefore$ an $\\text{AR}(0)$ model \"seems\" to best fit the data."
   ]
  },
  {
   "cell_type": "markdown",
   "id": "contemporary-mounting",
   "metadata": {},
   "source": [
    "**Maturity $T = 30$Y**"
   ]
  },
  {
   "cell_type": "code",
   "execution_count": 19,
   "id": "pleasant-semiconductor",
   "metadata": {},
   "outputs": [
    {
     "data": {
      "text/plain": [
       "RObject{RealSxp}\n",
       "        0         1         2         3         4         5         6         7 \n",
       "0.0000000 1.5870700 1.9177009 2.0800573 0.5553748 1.0719466 0.9887334 2.6823304 \n",
       "        8         9        10        11        12 \n",
       "4.5873921 4.9384004 4.8786439 6.0812340 8.0007414 \n"
      ]
     },
     "execution_count": 19,
     "metadata": {},
     "output_type": "execute_result"
    }
   ],
   "source": [
    "Y = s_diff[:, 5]\n",
    "@rput Y\n",
    "R\"\"\"\n",
    "    ord=ar(Y, method = \"mle\")\n",
    "    ord$aic\n",
    "\"\"\""
   ]
  },
  {
   "cell_type": "markdown",
   "id": "stopped-refrigerator",
   "metadata": {},
   "source": [
    "The minimum occurs at $p = 0$. Therefore, $\\text{AR}(0)$ is preferred by the criterion, and"
   ]
  },
  {
   "cell_type": "code",
   "execution_count": 20,
   "id": "bigger-version",
   "metadata": {},
   "outputs": [
    {
     "data": {
      "text/plain": [
       "RObject{IntSxp}\n",
       "[1] 0\n"
      ]
     },
     "execution_count": 20,
     "metadata": {},
     "output_type": "execute_result"
    }
   ],
   "source": [
    "R\"ord$order\""
   ]
  },
  {
   "cell_type": "markdown",
   "id": "solved-azerbaijan",
   "metadata": {},
   "source": [
    "$\\therefore$ an $\\text{AR}(0)$ model \"seems\" to best fit the data; however, none of the above is true, because I was finding log-likelihood of the $\\text{AR}$ component, alone, instead of $\\text{AR}$ in tandem with $\\text{MA}$."
   ]
  },
  {
   "cell_type": "markdown",
   "id": "appreciated-seeking",
   "metadata": {},
   "source": [
    "## Constructing ARIMA Models"
   ]
  },
  {
   "cell_type": "markdown",
   "id": "individual-enlargement",
   "metadata": {},
   "source": [
    "With the information I have, I may proceed to construct $\\text{ARIMA}(p, 1, q)$ models in `Python`."
   ]
  },
  {
   "cell_type": "markdown",
   "id": "solar-renaissance",
   "metadata": {},
   "source": [
    "I am saving each column of `s_diff` as comma-split value (CSV) files for maturities corrensponding to $T \\in [5, 7, 10, 20, 30]$ and switching to the Python kernel for executing `Python` code for a precise statspace modeling approach, but first to save the first-differences as a CSV file."
   ]
  },
  {
   "cell_type": "code",
   "execution_count": 21,
   "id": "clinical-constraint",
   "metadata": {},
   "outputs": [],
   "source": [
    "using CSV\n",
    "\n",
    "CSV.write(\"log_diff.csv\", (x5 = s_diff[:, 1], x7 = s_diff[:, 2], x10 = s_diff[:, 3], x20 = s_diff[:, 4], x30 = s_diff[:, 5]));"
   ]
  },
  {
   "cell_type": "markdown",
   "id": "cellular-space",
   "metadata": {},
   "source": [
    "Switching to `Python` kernel to `list` available packages"
   ]
  },
  {
   "cell_type": "code",
   "execution_count": 22,
   "id": "exempt-hospital",
   "metadata": {
    "tags": []
   },
   "outputs": [
    {
     "ename": "LoadError",
     "evalue": "\u001b[91msyntax: extra token \"list\" after end of expression\u001b[39m",
     "output_type": "error",
     "traceback": [
      "\u001b[91msyntax: extra token \"list\" after end of expression\u001b[39m",
      "",
      "Stacktrace:",
      " [1] top-level scope at In[22]:1",
      " [2] include_string(::Function, ::Module, ::String, ::String) at .\\loading.jl:1091"
     ]
    }
   ],
   "source": [
    "pip list"
   ]
  },
  {
   "cell_type": "markdown",
   "id": "nasty-longitude",
   "metadata": {},
   "source": [
    "and seeing that all of the packages I need are available, I may safely continue. Earlier I had to install `statsmodels` and `matplotlib` using the `Anaconda Powershell Prompt` and calling `python -m pip` to"
   ]
  },
  {
   "cell_type": "markdown",
   "id": "found-pollution",
   "metadata": {},
   "source": [
    "```python\n",
    "install matplotlib, statsmodels\n",
    "```"
   ]
  },
  {
   "cell_type": "markdown",
   "id": "cathedral-craps",
   "metadata": {},
   "source": [
    "Then, I import required packages"
   ]
  },
  {
   "cell_type": "code",
   "execution_count": 23,
   "id": "frozen-master",
   "metadata": {},
   "outputs": [
    {
     "ename": "LoadError",
     "evalue": "\u001b[91msyntax: extra token \"statsmodels\" after end of expression\u001b[39m",
     "output_type": "error",
     "traceback": [
      "\u001b[91msyntax: extra token \"statsmodels\" after end of expression\u001b[39m",
      "",
      "Stacktrace:",
      " [1] top-level scope at In[23]:1",
      " [2] include_string(::Function, ::Module, ::String, ::String) at .\\loading.jl:1091"
     ]
    }
   ],
   "source": [
    "from statsmodels.graphics.tsaplots import plot_pacf\n",
    "from statsmodels.graphics.tsaplots import plot_acf\n",
    "from statsmodels.tsa.arima_process import ArmaProcess\n",
    "from statsmodels.stats.diagnostic import acorr_ljungbox\n",
    "from statsmodels.tsa.statespace.sarimax import SARIMAX\n",
    "from statsmodels.tsa.stattools import adfuller\n",
    "from statsmodels.tsa.stattools import pacf\n",
    "from statsmodels.tsa.stattools import acf\n",
    "from tqdm import tqdm_notebook\n",
    "import matplotlib.pyplot as plt\n",
    "import numpy as np\n",
    "import pandas as pd\n",
    "import math as mt\n",
    "\n",
    "import warnings\n",
    "warnings.filterwarnings('ignore')\n",
    "\n",
    "%matplotlib inline"
   ]
  },
  {
   "cell_type": "markdown",
   "id": "enabling-hanging",
   "metadata": {
    "tags": []
   },
   "source": [
    "and define the following $\\text{ARIMA}(p, d, q)$ optimizer."
   ]
  },
  {
   "cell_type": "code",
   "execution_count": 24,
   "id": "sonic-bibliography",
   "metadata": {},
   "outputs": [
    {
     "ename": "LoadError",
     "evalue": "\u001b[91msyntax: extra token \"optimize_ARIMA\" after end of expression\u001b[39m",
     "output_type": "error",
     "traceback": [
      "\u001b[91msyntax: extra token \"optimize_ARIMA\" after end of expression\u001b[39m",
      "",
      "Stacktrace:",
      " [1] top-level scope at In[24]:1",
      " [2] include_string(::Function, ::Module, ::String, ::String) at .\\loading.jl:1091"
     ]
    }
   ],
   "source": [
    "def optimize_ARIMA(order_list, exog):\n",
    "    \"\"\"\n",
    "        Return dataframe with parameters and corresponding AIC\n",
    "        \n",
    "        order_list - list with (p, d, q) tuples\n",
    "        exog - the exogenous variable\n",
    "    \"\"\"\n",
    "    \n",
    "    results = []\n",
    "    \n",
    "    for order in tqdm_notebook(order_list):\n",
    "        try: \n",
    "            model = SARIMAX(exog, order=order).fit(disp=-1)\n",
    "        except:\n",
    "            continue\n",
    "            \n",
    "        aic = model.aic\n",
    "        results.append([order, aic])\n",
    "        \n",
    "    result_df = pd.DataFrame(results)\n",
    "    result_df.columns = ['(p, d, q)', 'AIC']\n",
    "    #Sort in ascending order, lower AIC is better\n",
    "    result_df = result_df.sort_values(by='AIC', ascending=True).reset_index(drop=True)\n",
    "    \n",
    "    return result_df"
   ]
  },
  {
   "cell_type": "markdown",
   "id": "olive-monte",
   "metadata": {},
   "source": [
    "I read the log-differenced series saved earlier in this notebook."
   ]
  },
  {
   "cell_type": "code",
   "execution_count": 25,
   "id": "norman-raleigh",
   "metadata": {},
   "outputs": [
    {
     "ename": "LoadError",
     "evalue": "\u001b[91mUndefVarError: pd not defined\u001b[39m",
     "output_type": "error",
     "traceback": [
      "\u001b[91mUndefVarError: pd not defined\u001b[39m",
      "",
      "Stacktrace:",
      " [1] top-level scope at In[25]:1",
      " [2] include_string(::Function, ::Module, ::String, ::String) at .\\loading.jl:1091"
     ]
    }
   ],
   "source": [
    "data = pd.read_csv(\"log_diff.csv\")\n",
    "data.head()"
   ]
  },
  {
   "cell_type": "markdown",
   "id": "seeing-highlight",
   "metadata": {},
   "source": [
    "I figured I also needed to install these for profiling:\n",
    "\n",
    "```python\n",
    "pip install ipywidgets widgetsnbextension pandas-profiling\n",
    "```"
   ]
  },
  {
   "cell_type": "markdown",
   "id": "violent-forest",
   "metadata": {},
   "source": [
    "Setting up the problem"
   ]
  },
  {
   "cell_type": "code",
   "execution_count": 26,
   "id": "chubby-wheat",
   "metadata": {},
   "outputs": [
    {
     "ename": "LoadError",
     "evalue": "\u001b[91mArgumentError: Package itertools not found in current path:\u001b[39m\n\u001b[91m- Run `import Pkg; Pkg.add(\"itertools\")` to install the itertools package.\u001b[39m\n",
     "output_type": "error",
     "traceback": [
      "\u001b[91mArgumentError: Package itertools not found in current path:\u001b[39m\n\u001b[91m- Run `import Pkg; Pkg.add(\"itertools\")` to install the itertools package.\u001b[39m\n",
      "",
      "Stacktrace:",
      " [1] require(::Module, ::Symbol) at .\\loading.jl:893",
      " [2] include_string(::Function, ::Module, ::String, ::String) at .\\loading.jl:1091"
     ]
    }
   ],
   "source": [
    "import itertools\n",
    "\n",
    "ps = range(0, 8, 1)\n",
    "d = 1\n",
    "qs = range(0, 8, 1)\n",
    "\n",
    "# Create a list with all possible combination of parameters\n",
    "parameters = itertools.product(ps, qs)\n",
    "parameters_list = list(parameters)"
   ]
  },
  {
   "cell_type": "markdown",
   "id": "hairy-celebration",
   "metadata": {},
   "source": [
    "I find out that I was wrong to assume that I have an $\\text{AR}(0)$ model for the $20$Y CMT bond yield curve rates, because"
   ]
  },
  {
   "cell_type": "code",
   "execution_count": 27,
   "id": "square-favor",
   "metadata": {},
   "outputs": [
    {
     "ename": "LoadError",
     "evalue": "\u001b[91msyntax: line break in \":\" expression\u001b[39m",
     "output_type": "error",
     "traceback": [
      "\u001b[91msyntax: line break in \":\" expression\u001b[39m",
      "",
      "Stacktrace:",
      " [1] top-level scope at In[27]:4",
      " [2] include_string(::Function, ::Module, ::String, ::String) at .\\loading.jl:1091"
     ]
    }
   ],
   "source": [
    "order_list = []\n",
    "\n",
    "for each in parameters_list:\n",
    "    each = list(each)\n",
    "    each.insert(1, 1)\n",
    "    each = tuple(each)\n",
    "    order_list.append(each)\n",
    "\n",
    "result_df = optimize_ARIMA(order_list, exog=data[\"x20\"])\n",
    "result_df"
   ]
  },
  {
   "cell_type": "markdown",
   "id": "thick-reception",
   "metadata": {},
   "source": [
    "indicates that the Treasury bond with $20$Y maturity follows an $\\text{ARIMA}(3, 1, 1)$ model, as preferred by the criterion in $2021$. Likewise, for the $30$Y bonds, on average, I have"
   ]
  },
  {
   "cell_type": "code",
   "execution_count": 28,
   "id": "mature-header",
   "metadata": {},
   "outputs": [
    {
     "ename": "LoadError",
     "evalue": "\u001b[91msyntax: line break in \":\" expression\u001b[39m",
     "output_type": "error",
     "traceback": [
      "\u001b[91msyntax: line break in \":\" expression\u001b[39m",
      "",
      "Stacktrace:",
      " [1] top-level scope at In[28]:4",
      " [2] include_string(::Function, ::Module, ::String, ::String) at .\\loading.jl:1091"
     ]
    }
   ],
   "source": [
    "order_list = []\n",
    "\n",
    "for each in parameters_list:\n",
    "    each = list(each)\n",
    "    each.insert(1, 1)\n",
    "    each = tuple(each)\n",
    "    order_list.append(each)\n",
    "\n",
    "result_df = optimize_ARIMA(order_list, exog=data[\"x30\"])\n",
    "result_df"
   ]
  },
  {
   "cell_type": "markdown",
   "id": "comparable-trainer",
   "metadata": {},
   "source": [
    "which means that an $\\text{ARIMA}(0, 1, 7)$ model is preferred by the criterion and not an $\\text{AR}(5)$. It is worthwhile running similar combinatorial tests on $(p, 1, q)$ for the $5$Y, $7$Y and $10$Y notes, where"
   ]
  },
  {
   "cell_type": "code",
   "execution_count": 29,
   "id": "simplified-headquarters",
   "metadata": {},
   "outputs": [
    {
     "ename": "LoadError",
     "evalue": "\u001b[91msyntax: line break in \":\" expression\u001b[39m",
     "output_type": "error",
     "traceback": [
      "\u001b[91msyntax: line break in \":\" expression\u001b[39m",
      "",
      "Stacktrace:",
      " [1] top-level scope at In[29]:4",
      " [2] include_string(::Function, ::Module, ::String, ::String) at .\\loading.jl:1091"
     ]
    }
   ],
   "source": [
    "order_list = []\n",
    "\n",
    "for each in parameters_list:\n",
    "    each = list(each)\n",
    "    each.insert(1, 1)\n",
    "    each = tuple(each)\n",
    "    order_list.append(each)\n",
    "\n",
    "result_df = optimize_ARIMA(order_list, exog=data[\"x5\"])\n",
    "result_df"
   ]
  },
  {
   "cell_type": "markdown",
   "id": "collected-penguin",
   "metadata": {},
   "source": [
    ","
   ]
  },
  {
   "cell_type": "code",
   "execution_count": 30,
   "id": "suburban-index",
   "metadata": {},
   "outputs": [
    {
     "ename": "LoadError",
     "evalue": "\u001b[91msyntax: line break in \":\" expression\u001b[39m",
     "output_type": "error",
     "traceback": [
      "\u001b[91msyntax: line break in \":\" expression\u001b[39m",
      "",
      "Stacktrace:",
      " [1] top-level scope at In[30]:4",
      " [2] include_string(::Function, ::Module, ::String, ::String) at .\\loading.jl:1091"
     ]
    }
   ],
   "source": [
    "order_list = []\n",
    "\n",
    "for each in parameters_list:\n",
    "    each = list(each)\n",
    "    each.insert(1, 1)\n",
    "    each = tuple(each)\n",
    "    order_list.append(each)\n",
    "\n",
    "result_df = optimize_ARIMA(order_list, exog=data[\"x7\"])\n",
    "result_df"
   ]
  },
  {
   "cell_type": "markdown",
   "id": "supported-values",
   "metadata": {},
   "source": [
    "and"
   ]
  },
  {
   "cell_type": "code",
   "execution_count": 31,
   "id": "through-mainstream",
   "metadata": {},
   "outputs": [
    {
     "ename": "LoadError",
     "evalue": "\u001b[91msyntax: line break in \":\" expression\u001b[39m",
     "output_type": "error",
     "traceback": [
      "\u001b[91msyntax: line break in \":\" expression\u001b[39m",
      "",
      "Stacktrace:",
      " [1] top-level scope at In[31]:4",
      " [2] include_string(::Function, ::Module, ::String, ::String) at .\\loading.jl:1091"
     ]
    }
   ],
   "source": [
    "order_list = []\n",
    "\n",
    "for each in parameters_list:\n",
    "    each = list(each)\n",
    "    each.insert(1, 1)\n",
    "    each = tuple(each)\n",
    "    order_list.append(each)\n",
    "\n",
    "result_df = optimize_ARIMA(order_list, exog=data[\"x10\"])\n",
    "result_df"
   ]
  },
  {
   "cell_type": "markdown",
   "id": "valuable-fever",
   "metadata": {},
   "source": [
    "all indicate that I had non-optimal $\\text{AR}$ models. It is interesting to note that there is no change in the model chosen by the criterion when changing from performing first-differences directly versus performing first-differences on the logarithm, but log-transformed values are more precise due to the algorithm used by $\\text{AIC}$ (more on this [later](Treas%20TS%20Analysis%20I.ipynb#State%20Space%20Model%20Results)).\n",
    "\n",
    "Earlier I did have an understanding that log transformations does not work for long forecast horizons. Log transformation is often used for time series with nonlinear trends. There is infinite variance at forecast horizons lagging too far from the forecast origin.\n",
    "\n",
    "It is important to emphasize that to determine parameters, it is best to use optimized statespace modeling than it is to determine visually or via a non-optimal $\\text{AR}$ modeling approach."
   ]
  },
  {
   "cell_type": "markdown",
   "id": "front-newsletter",
   "metadata": {},
   "source": [
    "## Statespace Model Results"
   ]
  },
  {
   "cell_type": "markdown",
   "id": "closed-contribution",
   "metadata": {},
   "source": [
    "I can now determine **statespace model results**, such as $\\text{AR}$ and $\\text{MA}$ coefficients, standard errors, $z$ scores, Bayesian Information Criterion and Hannan-Quinn Information Criterion, as well as Ljung-Box statistics, for each of the $\\text{ARIMA}(p, 1, q)$ models.\n",
    "\n",
    "I got a high forecasting error rate when I took my first attempt at forecasting in `Treas TS Analysis II`. This was because I was using the wrong series. I am supposed to use the `tnf` inflation series and not the transformed `log_diff` series."
   ]
  },
  {
   "cell_type": "code",
   "execution_count": 32,
   "id": "stretch-calendar",
   "metadata": {},
   "outputs": [
    {
     "ename": "LoadError",
     "evalue": "\u001b[91msyntax: extra token \"statsmodels\" after end of expression\u001b[39m",
     "output_type": "error",
     "traceback": [
      "\u001b[91msyntax: extra token \"statsmodels\" after end of expression\u001b[39m",
      "",
      "Stacktrace:",
      " [1] top-level scope at In[32]:1",
      " [2] include_string(::Function, ::Module, ::String, ::String) at .\\loading.jl:1091"
     ]
    }
   ],
   "source": [
    "from statsmodels.tsa.arima.model import ARIMA\n",
    "\n",
    "data       = pd.read_csv(\"tnf.csv\")\n",
    "idx        = [0, 1, 2, 3, 4]\n",
    "key        = ['x5', 'x7', 'x10', 'x20', 'x30']\n",
    "order_list = [(0, 1, 1), (1, 1, 2), (0, 1, 1), (2, 1, 2), (0, 1, 7)]\n",
    "\n",
    "mods = []\n",
    "for i in idx:\n",
    "    mods.append(SARIMAX(endog=data[key[i]], order=order_list[i]))\n",
    "\n",
    "fit = []\n",
    "for mod in mods:\n",
    "    fit.append(mod.fit())\n",
    "\n",
    "for each in fit:\n",
    "    print(each.summary())"
   ]
  },
  {
   "cell_type": "markdown",
   "id": "initial-scratch",
   "metadata": {},
   "source": [
    "As can be checked above, the arima models are summarized in the following table, where $T$ is the maturity, $(p, d, q)$ are the $\\text{AR}$, $\\text{D}$ and $\\text{MA}$ orders of the **Fitted Model** and $σ^2$ is the variance of each respective model."
   ]
  },
  {
   "cell_type": "markdown",
   "id": "attached-passage",
   "metadata": {},
   "source": [
    "$$\n",
    "    \\begin{matrix}\n",
    "        \\text{T} & (p, d, q) & \\text{Fitted Model} & \\sigma^2 \\\\\n",
    "        05 & (1, 1, 1) & -0.01093w_{t - 1} - 0.0108\\epsilon_{t - 1} & 0.0031 \\\\\n",
    "        07 & (0, 1, 1) & -0.0032\\epsilon_{t - 1} & 0.0030 \\\\\n",
    "        10 & (0, 1, 1) & 0.0400\\epsilon_{t - 1} & 0.0029 \\\\\n",
    "        20 & (3, 1, 1) & \\quad\\quad -1.0327w_{t - 1} + 0.0114w_{t - 2} - 0.1131w_{t - 3} + 0.9941\\epsilon_{t - 1} \\quad\\quad\\quad & 0.0030 \\\\\n",
    "        30 & (2, 1, 3) & 0.5321w_{t - 1} - 0.7852w_{t - 2} - 0.5692\\epsilon_{t - 1} + 0.8959\\epsilon_{t - 2} + 0.0085\\epsilon_{t - 3} & 0.0029\n",
    "    \\end{matrix}\n",
    "$$"
   ]
  },
  {
   "cell_type": "markdown",
   "id": "english-repeat",
   "metadata": {},
   "source": [
    "**Error Series**"
   ]
  },
  {
   "cell_type": "markdown",
   "id": "framed-doubt",
   "metadata": {},
   "source": [
    "Here are the error series:"
   ]
  },
  {
   "cell_type": "code",
   "execution_count": 33,
   "id": "focused-oklahoma",
   "metadata": {},
   "outputs": [
    {
     "ename": "LoadError",
     "evalue": "\u001b[91mUndefVarError: plt not defined\u001b[39m",
     "output_type": "error",
     "traceback": [
      "\u001b[91mUndefVarError: plt not defined\u001b[39m",
      "",
      "Stacktrace:",
      " [1] top-level scope at In[33]:1",
      " [2] include_string(::Function, ::Module, ::String, ::String) at .\\loading.jl:1091"
     ]
    }
   ],
   "source": [
    "plt.clf() # clear figs\n",
    "plt.cla() # clear axes\n",
    "\n",
    "a = pd.read_csv(\"tnf.csv\")\n",
    "x = [a['x5'], a['x7'], a['x10'], a['x20'], a['x30']]\n",
    "\n",
    "y = []\n",
    "for each in fit:\n",
    "    y.append(each.predict(dynamic=False)[2:249])\n",
    "\n",
    "plt.xlim(0, 250)\n",
    "plt.ylim(-0.075, 0.125)\n",
    "\n",
    "plt.xlabel(\"days\")\n",
    "plt.ylabel(\"error\")\n",
    "\n",
    "avg_err = [0.0] * 5; c = 5\n",
    "while c > 0:\n",
    "    c -= 1\n",
    "    avg_err[c-1] = (1 - y[c] / x[c])\n",
    "    plt.plot(1 - y[c] / x[c])\n",
    "\n",
    "handle = [\"5Y\", \"7Y\", \"10Y\", \"20Y\", \"30Y\"]\n",
    "plt.legend(handle, loc = \"upper left\")\n",
    "\n",
    "plt.show()"
   ]
  },
  {
   "cell_type": "markdown",
   "id": "governmental-slovak",
   "metadata": {},
   "source": [
    "**Average Error Rates**"
   ]
  },
  {
   "cell_type": "markdown",
   "id": "analyzed-manhattan",
   "metadata": {},
   "source": [
    "<p font-color:\"navy\">and here are the prediction error rates of the forecasts:</p>"
   ]
  },
  {
   "cell_type": "code",
   "execution_count": 34,
   "id": "decreased-aaron",
   "metadata": {},
   "outputs": [
    {
     "ename": "LoadError",
     "evalue": "\u001b[91msyntax: line break in \":\" expression\u001b[39m",
     "output_type": "error",
     "traceback": [
      "\u001b[91msyntax: line break in \":\" expression\u001b[39m",
      "",
      "Stacktrace:",
      " [1] top-level scope at In[34]:4",
      " [2] include_string(::Function, ::Module, ::String, ::String) at .\\loading.jl:1091"
     ]
    }
   ],
   "source": [
    "ϵ = []\n",
    "\n",
    "for each in avg_err:\n",
    "    ϵ.append(np.mean(each[2:249]))\n",
    "\n",
    "plt.bar(x = [1, 2, 3, 4, 5], height = ϵ)"
   ]
  },
  {
   "cell_type": "markdown",
   "id": "skilled-supplement",
   "metadata": {},
   "source": [
    "The $\\text{ARIMA}$ models is now optimal."
   ]
  },
  {
   "cell_type": "markdown",
   "id": "negative-botswana",
   "metadata": {},
   "source": [
    "I use"
   ]
  },
  {
   "cell_type": "markdown",
   "id": "novel-solution",
   "metadata": {},
   "source": [
    "$$\n",
    "    W_t = \\mu + \\overbrace{\\phi_1 W_{t -1} + \\phi_2 W_{t - 2} + \\cdots + \\phi_p W_{t - p}}^{\\text{lagged W values}} + \\epsilon_t - \\underbrace{\\theta_1 \\epsilon_{t - 1} - \\theta_2 \\epsilon_{t - 2} - \\cdots - \\theta_q \\epsilon_{t - q}}_{\\text{lagged error terms}} \\quad \\forall \\phi \\in (-1, 1) \\quad \\forall \\theta \\in [-1, 1] \\quad \\backslash 0\n",
    "$$"
   ]
  },
  {
   "cell_type": "markdown",
   "id": "monthly-prediction",
   "metadata": {},
   "source": [
    "as my template."
   ]
  },
  {
   "cell_type": "markdown",
   "id": "likely-window",
   "metadata": {},
   "source": [
    "It is good to be mindful of the fact that the coefficients of the lagged values and errors do change if using a simple differencing as opposed to making a log transformation before differencing each observation in the series. However, the variance of each model is less for the first-differences of log-transformations; hence, log-transformed first-differences are more precise for any predictive model that can be constructed using the $\\text{AIC}$, due to the log-likelihood condition"
   ]
  },
  {
   "cell_type": "markdown",
   "id": "driving-poster",
   "metadata": {},
   "source": [
    "## $\\text{ARIMA}(p, 1, q)$ Model Results"
   ]
  },
  {
   "cell_type": "markdown",
   "id": "proud-beijing",
   "metadata": {},
   "source": [
    "Here, I am comparing the statespace $\\text{SARIMAX}$ model from `statsmodels.tsa.statespace.sarimax` to the $\\text{ARIMA}$ model from `statsmodels.tsa.arima.model`."
   ]
  },
  {
   "cell_type": "code",
   "execution_count": 35,
   "id": "frequent-public",
   "metadata": {},
   "outputs": [
    {
     "ename": "LoadError",
     "evalue": "\u001b[91msyntax: extra token \"statsmodels\" after end of expression\u001b[39m",
     "output_type": "error",
     "traceback": [
      "\u001b[91msyntax: extra token \"statsmodels\" after end of expression\u001b[39m",
      "",
      "Stacktrace:",
      " [1] top-level scope at In[35]:1",
      " [2] include_string(::Function, ::Module, ::String, ::String) at .\\loading.jl:1091"
     ]
    }
   ],
   "source": [
    "from statsmodels.tsa.arima.model import ARIMA\n",
    "\n",
    "tnf = pd.read_csv(\"tnf.csv\")\n",
    "idx = [0, 1, 2, 3, 4]\n",
    "key = ['x5', 'x7', 'x10', 'x20', 'x30']\n",
    "order_list = [(1, 1, 1), (0, 1, 1), (0, 1, 1), (3, 1, 1), (2, 1, 3)]\n",
    "\n",
    "mods = []\n",
    "for i in idx:\n",
    "    mods.append(ARIMA(endog=tnf[key[i]], order=order_list[i]))\n",
    "\n",
    "fit = []\n",
    "for mod in mods:\n",
    "    fit.append(mod.fit())\n",
    "\n",
    "for each in fit:\n",
    "    print(each.summary())"
   ]
  },
  {
   "cell_type": "markdown",
   "id": "humanitarian-breast",
   "metadata": {},
   "source": [
    "$$\n",
    "    \\begin{matrix}\n",
    "        \\text{T} & (p, d, q) & \\text{Fitted Model} & \\sigma^2 \\\\\n",
    "        05 & (1, 1, 1) & -0.01093w_{t - 1} - 0.0108\\epsilon_{t - 1} & 0.0031 \\\\\n",
    "        07 & (0, 1, 1) & -0.0032\\epsilon_{t - 1} & 0.0030 \\\\\n",
    "        10 & (0, 1, 1) & 0.0400\\epsilon_{t - 1} & 0.0029 \\\\\n",
    "        20 & (3, 1, 1) & \\quad\\quad -1.0327w_{t - 1} + 0.0114w_{t - 2} - 0.1131w_{t - 3} + 0.9941\\epsilon_{t - 1} \\quad\\quad\\quad & 0.0030 \\\\\n",
    "        30 & (2, 1, 3) & 0.5321w_{t - 1} - 0.7852w_{t - 2} - 0.5692\\epsilon_{t - 1} + 0.8959\\epsilon_{t - 2} + 0.0085\\epsilon_{t - 3} & 0.0029\n",
    "    \\end{matrix}\n",
    "$$"
   ]
  },
  {
   "cell_type": "markdown",
   "id": "curious-graham",
   "metadata": {},
   "source": [
    "**Error Series**"
   ]
  },
  {
   "cell_type": "code",
   "execution_count": 36,
   "id": "electronic-genius",
   "metadata": {},
   "outputs": [
    {
     "ename": "LoadError",
     "evalue": "\u001b[91mUndefVarError: plt not defined\u001b[39m",
     "output_type": "error",
     "traceback": [
      "\u001b[91mUndefVarError: plt not defined\u001b[39m",
      "",
      "Stacktrace:",
      " [1] top-level scope at In[36]:1",
      " [2] include_string(::Function, ::Module, ::String, ::String) at .\\loading.jl:1091"
     ]
    }
   ],
   "source": [
    "plt.clf() # clear figs\n",
    "plt.cla() # clear axes\n",
    "\n",
    "a = pd.read_csv(\"tnf.csv\")\n",
    "x = [a['x5'], a['x7'], a['x10'], a['x20'], a['x30']]\n",
    "\n",
    "y = []\n",
    "for each in fit:\n",
    "    y.append(each.predict(dynamic=False)[2:249])\n",
    "\n",
    "plt.xlim(0, 250)\n",
    "plt.ylim(-0.075, 0.125)\n",
    "\n",
    "plt.xlabel(\"days\")\n",
    "plt.ylabel(\"error\")\n",
    "\n",
    "avg_err = [0.0] * 5; c = 5\n",
    "while c > 0:\n",
    "    c -= 1\n",
    "    avg_err[c-1] = (1 - y[c] / x[c])\n",
    "    plt.plot(1 - y[c] / x[c])\n",
    "\n",
    "handle = [\"5Y\", \"7Y\", \"10Y\", \"20Y\", \"30Y\"]\n",
    "plt.legend(handle, loc = \"upper left\")\n",
    "\n",
    "plt.show()"
   ]
  },
  {
   "cell_type": "markdown",
   "id": "introductory-merchant",
   "metadata": {},
   "source": [
    "**Average Error Rates**"
   ]
  },
  {
   "cell_type": "code",
   "execution_count": 37,
   "id": "vietnamese-preparation",
   "metadata": {},
   "outputs": [
    {
     "ename": "LoadError",
     "evalue": "\u001b[91msyntax: line break in \":\" expression\u001b[39m",
     "output_type": "error",
     "traceback": [
      "\u001b[91msyntax: line break in \":\" expression\u001b[39m",
      "",
      "Stacktrace:",
      " [1] top-level scope at In[37]:4",
      " [2] include_string(::Function, ::Module, ::String, ::String) at .\\loading.jl:1091"
     ]
    }
   ],
   "source": [
    "ϵ = []\n",
    "\n",
    "for each in avg_err:\n",
    "    ϵ.append(np.mean(each[2:249]))\n",
    "\n",
    "plt.bar(x = [1, 2, 3, 4, 5], height = ϵ)"
   ]
  },
  {
   "cell_type": "markdown",
   "id": "mounted-lodging",
   "metadata": {},
   "source": [
    "The models generated from the `statsmodels.tsa.statespace.sarimax` and `statsmodels.tsa.arima.model` packages are equal!"
   ]
  },
  {
   "cell_type": "markdown",
   "id": "closing-austin",
   "metadata": {},
   "source": [
    "## Saving Python Models for Later"
   ]
  },
  {
   "cell_type": "code",
   "execution_count": 38,
   "id": "defined-participant",
   "metadata": {},
   "outputs": [
    {
     "ename": "LoadError",
     "evalue": "\u001b[91mArgumentError: Package pickle not found in current path:\u001b[39m\n\u001b[91m- Run `import Pkg; Pkg.add(\"pickle\")` to install the pickle package.\u001b[39m\n",
     "output_type": "error",
     "traceback": [
      "\u001b[91mArgumentError: Package pickle not found in current path:\u001b[39m\n\u001b[91m- Run `import Pkg; Pkg.add(\"pickle\")` to install the pickle package.\u001b[39m\n",
      "",
      "Stacktrace:",
      " [1] require(::Module, ::Symbol) at .\\loading.jl:893",
      " [2] include_string(::Function, ::Module, ::String, ::String) at .\\loading.jl:1091"
     ]
    }
   ],
   "source": [
    "import pickle\n",
    "\n",
    "pickle.dump(fit, open(\"C:\\\\Users\\\\Owner\\\\Documents\\\\Economics\\\\Financial Economics\\\\Research\\\\Securities Experiment\\\\mod\", \"wb\"))"
   ]
  },
  {
   "cell_type": "markdown",
   "id": "innocent-firmware",
   "metadata": {},
   "source": [
    "# Using Ljung-Box Statistics to Test for Residuals Without Autocorrelation"
   ]
  },
  {
   "cell_type": "markdown",
   "id": "chubby-raising",
   "metadata": {},
   "source": [
    "## A Foreword"
   ]
  },
  {
   "cell_type": "markdown",
   "id": "mental-delta",
   "metadata": {},
   "source": [
    "Beforing starting this section, I pause and ask myself, \"What are the residuals?\". I remember when I took statistics that there was a residual sum of squares, which looked a little like this\n",
    "\n",
    "$\n",
    "    SS_{\\text{res}} = SS_{\\text{tot}} - SS_{\\text{exp}}\n",
    "$"
   ]
  },
  {
   "cell_type": "code",
   "execution_count": 39,
   "id": "legendary-integral",
   "metadata": {},
   "outputs": [
    {
     "ename": "LoadError",
     "evalue": "\u001b[91mUndefVarError: dict not defined\u001b[39m",
     "output_type": "error",
     "traceback": [
      "\u001b[91mUndefVarError: dict not defined\u001b[39m",
      "",
      "Stacktrace:",
      " [1] top-level scope at In[39]:1",
      " [2] include_string(::Function, ::Module, ::String, ::String) at .\\loading.jl:1091"
     ]
    }
   ],
   "source": [
    "Y = dict(\n",
    "    Y05 = 0,\n",
    "    Y07 = 1,\n",
    "    Y10 = 2,\n",
    "    Y20 = 3,\n",
    "    Y30 = 4\n",
    ")"
   ]
  },
  {
   "cell_type": "markdown",
   "id": "noticed-instruction",
   "metadata": {},
   "source": [
    "However, since I am working with one regressor (i.e., an auto-regressive process), more pressure is placed on *maximizing* the explained sum of squares and *minimizing* the residuals (for the auto-regressive process), Knowing what each lagged error is going to be, with 95% confidence, is very helpful."
   ]
  },
  {
   "cell_type": "markdown",
   "id": "increased-skating",
   "metadata": {},
   "source": [
    "For $T \\in \\{5, 7. 10, 20, 30\\}$, I found $\\text{ARIMA}$ models with $\\sigma^2 \\in \\{0.0031, 0.0030, 0.0029, 0.0030, 0.0029\\}$ for estimation errors $\\epsilon$. The goal of this section is to study the residuals, which the ideal case would present a white noise with no autocorrelation. In `Treas TS Analysis II`, I will take this analysis further by considering various volatility models, such as `T-GARCH`, which will give more insights into the resudual variation.\n",
    "\n",
    "For a Ljung Box test $\\mathcal{L}$\n",
    "\n",
    "$$H^\\mathcal{L} = \\begin{cases}\n",
    "    H_0: \\text{there is no autocorrelation} & \\text{if}\\ p \\lt 0.05 \\\\\n",
    "    H_a: \\text{there is autocorrelation} & \\text{if}\\ p \\geq 0.05\n",
    "\\end{cases}$$\n",
    "\n",
    "where $H_0$ would indicate uncorrelated residuals and $H_a$, correlated residuals, with p-value $p$ denoting the confidence level of the right tail test, therefore, the residual series comes from and independent, and identically-distributed (iid) randome variable."
   ]
  },
  {
   "cell_type": "markdown",
   "id": "approximate-campus",
   "metadata": {},
   "source": [
    "**Ljung-Box test for 05Y Note CMT**"
   ]
  },
  {
   "cell_type": "code",
   "execution_count": 40,
   "id": "recreational-forge",
   "metadata": {},
   "outputs": [
    {
     "ename": "LoadError",
     "evalue": "\u001b[91msyntax: character literal contains multiple characters\u001b[39m",
     "output_type": "error",
     "traceback": [
      "\u001b[91msyntax: character literal contains multiple characters\u001b[39m",
      "",
      "Stacktrace:",
      " [1] top-level scope at In[40]:1",
      " [2] include_string(::Function, ::Module, ::String, ::String) at .\\loading.jl:1091"
     ]
    }
   ],
   "source": [
    "ljung_box = acorr_ljungbox(fit[Y[\"Y05\"]].resid)['lb_stat']\n",
    "p_value = acorr_ljungbox(fit[Y[\"Y05\"]].resid)['lb_pvalue']\n",
    "\n",
    "print(f'Ljung-Box test: {ljung_box[:10]}')\n",
    "print(f'p-value: {p_value[:10]}')"
   ]
  },
  {
   "cell_type": "markdown",
   "id": "experimental-location",
   "metadata": {},
   "source": [
    "**Ljung-Box test for 07Y Note CMT**"
   ]
  },
  {
   "cell_type": "code",
   "execution_count": 41,
   "id": "enabling-morning",
   "metadata": {},
   "outputs": [
    {
     "ename": "LoadError",
     "evalue": "\u001b[91msyntax: character literal contains multiple characters\u001b[39m",
     "output_type": "error",
     "traceback": [
      "\u001b[91msyntax: character literal contains multiple characters\u001b[39m",
      "",
      "Stacktrace:",
      " [1] top-level scope at In[41]:1",
      " [2] include_string(::Function, ::Module, ::String, ::String) at .\\loading.jl:1091"
     ]
    }
   ],
   "source": [
    "ljung_box = acorr_ljungbox(fit[Y[\"Y07\"]].resid)['lb_stat']\n",
    "p_value = acorr_ljungbox(fit[Y[\"Y07\"]].resid)['lb_pvalue']\n",
    "\n",
    "print(f'Ljung-Box test: {ljung_box[:10]}')\n",
    "print(f'p-value: {p_value[:10]}')"
   ]
  },
  {
   "cell_type": "markdown",
   "id": "wired-decade",
   "metadata": {},
   "source": [
    "**Ljung-Box test for 10Y Bond CMT**"
   ]
  },
  {
   "cell_type": "code",
   "execution_count": 42,
   "id": "indie-tournament",
   "metadata": {},
   "outputs": [
    {
     "ename": "LoadError",
     "evalue": "\u001b[91msyntax: character literal contains multiple characters\u001b[39m",
     "output_type": "error",
     "traceback": [
      "\u001b[91msyntax: character literal contains multiple characters\u001b[39m",
      "",
      "Stacktrace:",
      " [1] top-level scope at In[42]:1",
      " [2] include_string(::Function, ::Module, ::String, ::String) at .\\loading.jl:1091"
     ]
    }
   ],
   "source": [
    "ljung_box = acorr_ljungbox(fit[Y[\"Y10\"]].resid)['lb_stat']\n",
    "p_value = acorr_ljungbox(fit[Y[\"Y10\"]].resid)['lb_pvalue']\n",
    "\n",
    "print(f'Ljung-Box test: {ljung_box[:10]}')\n",
    "print(f'p-value: {p_value[:10]}')"
   ]
  },
  {
   "cell_type": "markdown",
   "id": "massive-dylan",
   "metadata": {},
   "source": [
    "**Ljung-Box test for 20Y Bond CMT**"
   ]
  },
  {
   "cell_type": "code",
   "execution_count": 43,
   "id": "spare-bacteria",
   "metadata": {},
   "outputs": [
    {
     "ename": "LoadError",
     "evalue": "\u001b[91msyntax: character literal contains multiple characters\u001b[39m",
     "output_type": "error",
     "traceback": [
      "\u001b[91msyntax: character literal contains multiple characters\u001b[39m",
      "",
      "Stacktrace:",
      " [1] top-level scope at In[43]:1",
      " [2] include_string(::Function, ::Module, ::String, ::String) at .\\loading.jl:1091"
     ]
    }
   ],
   "source": [
    "ljung_box = acorr_ljungbox(fit[Y[\"Y20\"]].resid)['lb_stat']\n",
    "p_value = acorr_ljungbox(fit[Y[\"Y20\"]].resid)['lb_pvalue']\n",
    "\n",
    "print(f'Ljung-Box test: {ljung_box[:10]}')\n",
    "print(f'p-value: {p_value[:10]}')"
   ]
  },
  {
   "cell_type": "markdown",
   "id": "spoken-colombia",
   "metadata": {},
   "source": [
    "**Ljung-Box test for 30Y Bond CMT**"
   ]
  },
  {
   "cell_type": "code",
   "execution_count": 44,
   "id": "numerous-hospital",
   "metadata": {},
   "outputs": [
    {
     "ename": "LoadError",
     "evalue": "\u001b[91msyntax: character literal contains multiple characters\u001b[39m",
     "output_type": "error",
     "traceback": [
      "\u001b[91msyntax: character literal contains multiple characters\u001b[39m",
      "",
      "Stacktrace:",
      " [1] top-level scope at In[44]:1",
      " [2] include_string(::Function, ::Module, ::String, ::String) at .\\loading.jl:1091"
     ]
    }
   ],
   "source": [
    "ljung_box = acorr_ljungbox(fit[Y[\"Y30\"]].resid)['lb_stat']\n",
    "p_value = acorr_ljungbox(fit[Y[\"Y30\"]].resid)['lb_pvalue']\n",
    "\n",
    "print(f'Ljung-Box test: {ljung_box[:10]}')\n",
    "print(f'p-value: {p_value[:10]}')"
   ]
  },
  {
   "cell_type": "markdown",
   "id": "beautiful-carry",
   "metadata": {},
   "source": [
    "## Plotting ACF and PACF of the Residuals to Support Ljung Box Test Results"
   ]
  },
  {
   "cell_type": "markdown",
   "id": "challenging-astrology",
   "metadata": {},
   "source": [
    "PACF and ACF plots can be constructed to visually support the Ljung Box tests above."
   ]
  },
  {
   "cell_type": "code",
   "execution_count": 45,
   "id": "addressed-machine",
   "metadata": {},
   "outputs": [
    {
     "ename": "LoadError",
     "evalue": "\u001b[91msyntax: line break in \":\" expression\u001b[39m",
     "output_type": "error",
     "traceback": [
      "\u001b[91msyntax: line break in \":\" expression\u001b[39m",
      "",
      "Stacktrace:",
      " [1] top-level scope at In[45]:3",
      " [2] include_string(::Function, ::Module, ::String, ::String) at .\\loading.jl:1091"
     ]
    }
   ],
   "source": [
    "I = 5\n",
    "while(I > 0):\n",
    "    I = I - 1\n",
    "    plot_pacf(fit[I].resid)\n",
    "    plot_acf(fit[I].resid)"
   ]
  },
  {
   "cell_type": "markdown",
   "id": "twelve-medication",
   "metadata": {},
   "source": [
    "No significant support for the alternative hypothesis exists for neither the PACF, nor the ACF plots.  which means that the residuals are independent, each draw from an iid variable with $\\epsilon \\sim N(\\mu, \\sigma^2)$.\n",
    "\n",
    "I also need to stress test the models to see if they break, and when they break, where do they break and why do they break? The **Markov Chain Monte Carlo** test is a test of durability$^?$. How would the model react if there were, say, a Poisson Arrival? How would the residuals change? MCMC simulations will be conducted under `Treas TS Analysis II PII`.\n",
    "\n",
    "It is also worthwhile exploring stochastic processes that are **heteroscedastic**, such as those that fall in the family of **General Autoregressive Conditional Heteroscedasticity** models (the **Extended GARCH** model, the **TGARCH** model, the **CHARMA** model, &c). A **Vector Autoregressive Fractional Integrated Moving Average (VARFIMA)** model could also be tried later on, and other models within the VARFIMA family that go beyond a simple ARIMA model. I may conclude with **Fourier Analysis** and **Spectral Analysis** representations of the financial time series."
   ]
  },
  {
   "cell_type": "markdown",
   "id": "three-explorer",
   "metadata": {},
   "source": [
    "## Summary and Next Steps"
   ]
  },
  {
   "cell_type": "markdown",
   "id": "durable-conditioning",
   "metadata": {},
   "source": [
    "In this notebook, I learned that statespace models do work better than visualisation. Visualisation is still very powerful for collecting an overall, holistic view of the data, analyzing trends, performing cummulative sums and other summary statistics, such as boxplots for finding outliers in the financial data, knowing what the mean and kurtosis are, and finally, a visual summary can allow the data to speak for itself when it comes to densities, distributions and something not covered here: volatility surfaces."
   ]
  },
  {
   "cell_type": "markdown",
   "id": "front-working",
   "metadata": {},
   "source": [
    "In the next series of notebooks, I will be touching on each of the following:\n",
    "\n",
    "1. Cross-Validation and Testing on New Data\n",
    "2. Time-Series Forecasting\n",
    "3. Vector Autoregressive Fractional Integrated Moving Average\n",
    "4. Markov Chain Monte Carlo\n",
    "5. Heteroscedastic Models\n",
    "6. Fourier Analysis and Spectral Analysis"
   ]
  }
 ],
 "metadata": {
  "kernelspec": {
   "display_name": "Julia 1.5.3",
   "language": "julia",
   "name": "julia-1.5"
  },
  "language_info": {
   "file_extension": ".jl",
   "mimetype": "application/julia",
   "name": "julia",
   "version": "1.5.3"
  }
 },
 "nbformat": 4,
 "nbformat_minor": 5
}
