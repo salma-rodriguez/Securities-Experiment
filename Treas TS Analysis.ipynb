{
 "cells": [
  {
   "cell_type": "markdown",
   "id": "apart-conviction",
   "metadata": {
    "tags": []
   },
   "source": [
    "# Time Series Analysis"
   ]
  },
  {
   "cell_type": "markdown",
   "id": "b536485d-c6a4-4591-936d-0d4a1bcfb318",
   "metadata": {},
   "source": [
    "### 05/17/2022"
   ]
  },
  {
   "cell_type": "markdown",
   "id": "latest-balance",
   "metadata": {},
   "source": [
    "## Categories of Bonds"
   ]
  },
  {
   "cell_type": "markdown",
   "id": "editorial-camel",
   "metadata": {},
   "source": [
    "| $\\text{Type}$     | $\\text{Maturity}$                        |\n",
    "| ----------------- | ---------------------------------------- |\n",
    "| $\\text{Bill (b)}$ | $1\\text{m} \\leq \\text{T} \\lt 1\\text{Y}$  |\n",
    "| $\\text{Note (N)}$ | $1\\text{Y} \\leq \\text{T} \\lt 10\\text{Y}$ |\n",
    "| $\\text{Bond (B)}$ | $\\quad\\quad\\ \\text{T} \\geq 10\\text{Y}$   |"
   ]
  },
  {
   "cell_type": "markdown",
   "id": "negative-speaking",
   "metadata": {},
   "source": [
    "## What is a Constant Maturity Treasury?"
   ]
  },
  {
   "cell_type": "markdown",
   "id": "ead0e77e-5da7-4ae3-816c-24d67f8089cf",
   "metadata": {},
   "source": [
    "According to [Investopedia](https://www.investopedia.com/terms/c/constantmaturity.asp), Constant Maturity is an adjustment for equivalent maturity, used by the Federal Reserve Board to compute an index based on the average yield of various Treasury securities, maturing at different periods. One would use constant maturity yields as reference for pricing various kinds of depts or fixed income securities. Fixed income securities are by far the largest type of security in U.S. securities markets."
   ]
  },
  {
   "cell_type": "markdown",
   "id": "suffering-muscle",
   "metadata": {},
   "source": [
    "## Nominal Yield Curve Rates vs. Real Yield Curve Rates"
   ]
  },
  {
   "cell_type": "markdown",
   "id": "textile-thong",
   "metadata": {},
   "source": [
    "According to the Board of Governors of the Federal Reserve System, a [nominal Treasury security](https://www.federalreserve.gov/data/nominal-yield-curve.htm) is an issuance that specifies principal and interest as fixed dollar amounts to the holder. Since Treasury securities are backed by the full faith and credit of the U.S. government, the returns investors can earn on them are often used as a “risk-free” benchmark in finance research and investment practice. These securities are a promise to repay the principal (with interest if a note or a bond) to the holder (can be a public or private entity). Therefore, the real yield curve rate would be adjusted for inflation of interest rates, thereby used to determine risk-neutral cashflow.\n",
    "\n",
    "The **nominal yield curve rate** adds a market average of the expected inflation risk premium to the real. Investors must be compensated for the risk of inflation in bond yields. The real yield determines the cashflow an investor in secondary markets can obtain by purchasing $\\text{TIPS}$, which are Inflation Protected Securities offered by the U.S. Treasury department and other stakeholders that offer similar inflation protection to investors."
   ]
  },
  {
   "cell_type": "markdown",
   "id": "statistical-latter",
   "metadata": {},
   "source": [
    "## Statement of Purpose"
   ]
  },
  {
   "cell_type": "markdown",
   "id": "atmospheric-network",
   "metadata": {},
   "source": [
    "The purpose of this time series analysis is to build from my US Treasury Securities Exploratory Analysis, using a **data-driven approach** to modeling. I will be determining yield stability, choosing the best data-driven ARIMA model for the different categories of CMTs and draw conclusions about any experimental forecast that can be built after constructing models with nonstationarity removed. The nonstationarity will be analyzed later using residual plots and volatility models in `Treas TS Analysis II PIII`."
   ]
  },
  {
   "cell_type": "markdown",
   "id": "eleven-criterion",
   "metadata": {},
   "source": [
    "`] add Turing@0.13.0`"
   ]
  },
  {
   "cell_type": "markdown",
   "id": "specific-producer",
   "metadata": {},
   "source": [
    "## Loading Yield Curve Rate Inflation `CSV` File"
   ]
  },
  {
   "cell_type": "code",
   "execution_count": 22,
   "id": "ancient-first",
   "metadata": {},
   "outputs": [
    {
     "data": {
      "text/html": [
       "<div class=\"data-frame\"><p>250 rows × 5 columns</p><table class=\"data-frame\"><thead><tr><th></th><th>x5</th><th>x7</th><th>x10</th><th>x20</th><th>x30</th></tr><tr><th></th><th title=\"Float64\">Float64</th><th title=\"Float64\">Float64</th><th title=\"Float64\">Float64</th><th title=\"Float64\">Float64</th><th title=\"Float64\">Float64</th></tr></thead><tbody><tr><th>1</th><td>-0.64</td><td>-0.34</td><td>-0.03</td><td>0.39</td><td>0.47</td></tr><tr><th>2</th><td>-0.5</td><td>-0.22</td><td>0.08</td><td>0.48</td><td>0.56</td></tr><tr><th>3</th><td>-0.48</td><td>-0.17</td><td>0.13</td><td>0.55</td><td>0.64</td></tr><tr><th>4</th><td>-0.46</td><td>-0.14</td><td>0.16</td><td>0.58</td><td>0.67</td></tr><tr><th>5</th><td>-0.43</td><td>-0.1</td><td>0.22</td><td>0.64</td><td>0.72</td></tr><tr><th>6</th><td>-0.39</td><td>-0.06</td><td>0.24</td><td>0.63</td><td>0.72</td></tr><tr><th>7</th><td>-0.41</td><td>-0.08</td><td>0.22</td><td>0.6</td><td>0.68</td></tr><tr><th>8</th><td>-0.38</td><td>-0.06</td><td>0.22</td><td>0.58</td><td>0.64</td></tr><tr><th>9</th><td>-0.4</td><td>-0.06</td><td>0.25</td><td>0.62</td><td>0.68</td></tr><tr><th>10</th><td>-0.44</td><td>-0.12</td><td>0.2</td><td>0.58</td><td>0.64</td></tr><tr><th>11</th><td>-0.45</td><td>-0.12</td><td>0.19</td><td>0.59</td><td>0.64</td></tr><tr><th>12</th><td>-0.49</td><td>-0.17</td><td>0.14</td><td>0.55</td><td>0.63</td></tr><tr><th>13</th><td>-0.5</td><td>-0.16</td><td>0.16</td><td>0.58</td><td>0.66</td></tr><tr><th>14</th><td>-0.5</td><td>-0.17</td><td>0.15</td><td>0.57</td><td>0.65</td></tr><tr><th>15</th><td>-0.53</td><td>-0.22</td><td>0.09</td><td>0.51</td><td>0.59</td></tr><tr><th>16</th><td>-0.51</td><td>-0.2</td><td>0.1</td><td>0.52</td><td>0.6</td></tr><tr><th>17</th><td>-0.54</td><td>-0.23</td><td>0.07</td><td>0.49</td><td>0.57</td></tr><tr><th>18</th><td>-0.54</td><td>-0.21</td><td>0.1</td><td>0.51</td><td>0.58</td></tr><tr><th>19</th><td>-0.48</td><td>-0.14</td><td>0.17</td><td>0.59</td><td>0.67</td></tr><tr><th>20</th><td>-0.39</td><td>-0.07</td><td>0.23</td><td>0.63</td><td>0.67</td></tr><tr><th>21</th><td>-0.28</td><td>0.04</td><td>0.34</td><td>0.75</td><td>0.79</td></tr><tr><th>22</th><td>-0.33</td><td>0.01</td><td>0.33</td><td>0.75</td><td>0.81</td></tr><tr><th>23</th><td>-0.35</td><td>-0.02</td><td>0.29</td><td>0.74</td><td>0.79</td></tr><tr><th>24</th><td>-0.32</td><td>0.02</td><td>0.35</td><td>0.8</td><td>0.86</td></tr><tr><th>25</th><td>-0.31</td><td>0.02</td><td>0.35</td><td>0.78</td><td>0.83</td></tr><tr><th>26</th><td>-0.29</td><td>0.04</td><td>0.37</td><td>0.8</td><td>0.84</td></tr><tr><th>27</th><td>-0.29</td><td>0.03</td><td>0.34</td><td>0.78</td><td>0.82</td></tr><tr><th>28</th><td>-0.32</td><td>0.01</td><td>0.33</td><td>0.78</td><td>0.81</td></tr><tr><th>29</th><td>-0.28</td><td>0.04</td><td>0.35</td><td>0.83</td><td>0.87</td></tr><tr><th>30</th><td>-0.2</td><td>0.14</td><td>0.45</td><td>0.92</td><td>0.94</td></tr><tr><th>&vellip;</th><td>&vellip;</td><td>&vellip;</td><td>&vellip;</td><td>&vellip;</td><td>&vellip;</td></tr></tbody></table></div>"
      ],
      "text/latex": [
       "\\begin{tabular}{r|ccccc}\n",
       "\t& x5 & x7 & x10 & x20 & x30\\\\\n",
       "\t\\hline\n",
       "\t& Float64 & Float64 & Float64 & Float64 & Float64\\\\\n",
       "\t\\hline\n",
       "\t1 & -0.64 & -0.34 & -0.03 & 0.39 & 0.47 \\\\\n",
       "\t2 & -0.5 & -0.22 & 0.08 & 0.48 & 0.56 \\\\\n",
       "\t3 & -0.48 & -0.17 & 0.13 & 0.55 & 0.64 \\\\\n",
       "\t4 & -0.46 & -0.14 & 0.16 & 0.58 & 0.67 \\\\\n",
       "\t5 & -0.43 & -0.1 & 0.22 & 0.64 & 0.72 \\\\\n",
       "\t6 & -0.39 & -0.06 & 0.24 & 0.63 & 0.72 \\\\\n",
       "\t7 & -0.41 & -0.08 & 0.22 & 0.6 & 0.68 \\\\\n",
       "\t8 & -0.38 & -0.06 & 0.22 & 0.58 & 0.64 \\\\\n",
       "\t9 & -0.4 & -0.06 & 0.25 & 0.62 & 0.68 \\\\\n",
       "\t10 & -0.44 & -0.12 & 0.2 & 0.58 & 0.64 \\\\\n",
       "\t11 & -0.45 & -0.12 & 0.19 & 0.59 & 0.64 \\\\\n",
       "\t12 & -0.49 & -0.17 & 0.14 & 0.55 & 0.63 \\\\\n",
       "\t13 & -0.5 & -0.16 & 0.16 & 0.58 & 0.66 \\\\\n",
       "\t14 & -0.5 & -0.17 & 0.15 & 0.57 & 0.65 \\\\\n",
       "\t15 & -0.53 & -0.22 & 0.09 & 0.51 & 0.59 \\\\\n",
       "\t16 & -0.51 & -0.2 & 0.1 & 0.52 & 0.6 \\\\\n",
       "\t17 & -0.54 & -0.23 & 0.07 & 0.49 & 0.57 \\\\\n",
       "\t18 & -0.54 & -0.21 & 0.1 & 0.51 & 0.58 \\\\\n",
       "\t19 & -0.48 & -0.14 & 0.17 & 0.59 & 0.67 \\\\\n",
       "\t20 & -0.39 & -0.07 & 0.23 & 0.63 & 0.67 \\\\\n",
       "\t21 & -0.28 & 0.04 & 0.34 & 0.75 & 0.79 \\\\\n",
       "\t22 & -0.33 & 0.01 & 0.33 & 0.75 & 0.81 \\\\\n",
       "\t23 & -0.35 & -0.02 & 0.29 & 0.74 & 0.79 \\\\\n",
       "\t24 & -0.32 & 0.02 & 0.35 & 0.8 & 0.86 \\\\\n",
       "\t25 & -0.31 & 0.02 & 0.35 & 0.78 & 0.83 \\\\\n",
       "\t26 & -0.29 & 0.04 & 0.37 & 0.8 & 0.84 \\\\\n",
       "\t27 & -0.29 & 0.03 & 0.34 & 0.78 & 0.82 \\\\\n",
       "\t28 & -0.32 & 0.01 & 0.33 & 0.78 & 0.81 \\\\\n",
       "\t29 & -0.28 & 0.04 & 0.35 & 0.83 & 0.87 \\\\\n",
       "\t30 & -0.2 & 0.14 & 0.45 & 0.92 & 0.94 \\\\\n",
       "\t$\\dots$ & $\\dots$ & $\\dots$ & $\\dots$ & $\\dots$ & $\\dots$ \\\\\n",
       "\\end{tabular}\n"
      ],
      "text/plain": [
       "\u001b[1m250×5 DataFrame\u001b[0m\n",
       "\u001b[1m Row \u001b[0m│\u001b[1m x5      \u001b[0m\u001b[1m x7      \u001b[0m\u001b[1m x10     \u001b[0m\u001b[1m x20     \u001b[0m\u001b[1m x30     \u001b[0m\n",
       "\u001b[1m     \u001b[0m│\u001b[90m Float64 \u001b[0m\u001b[90m Float64 \u001b[0m\u001b[90m Float64 \u001b[0m\u001b[90m Float64 \u001b[0m\u001b[90m Float64 \u001b[0m\n",
       "─────┼─────────────────────────────────────────────\n",
       "   1 │   -0.64    -0.34    -0.03     0.39     0.47\n",
       "   2 │   -0.5     -0.22     0.08     0.48     0.56\n",
       "   3 │   -0.48    -0.17     0.13     0.55     0.64\n",
       "   4 │   -0.46    -0.14     0.16     0.58     0.67\n",
       "   5 │   -0.43    -0.1      0.22     0.64     0.72\n",
       "   6 │   -0.39    -0.06     0.24     0.63     0.72\n",
       "   7 │   -0.41    -0.08     0.22     0.6      0.68\n",
       "   8 │   -0.38    -0.06     0.22     0.58     0.64\n",
       "   9 │   -0.4     -0.06     0.25     0.62     0.68\n",
       "  10 │   -0.44    -0.12     0.2      0.58     0.64\n",
       "  11 │   -0.45    -0.12     0.19     0.59     0.64\n",
       "  ⋮  │    ⋮        ⋮        ⋮        ⋮        ⋮\n",
       " 241 │    1.13     1.27     1.3      1.57     1.35\n",
       " 242 │    1.12     1.24     1.25     1.51     1.28\n",
       " 243 │    1.12     1.25     1.28     1.56     1.33\n",
       " 244 │    1.18     1.3      1.33     1.57     1.37\n",
       " 245 │    1.15     1.27     1.28     1.52     1.31\n",
       " 246 │    1.2      1.33     1.35     1.59     1.38\n",
       " 247 │    1.2      1.31     1.32     1.56     1.34\n",
       " 248 │    1.23     1.33     1.34     1.58     1.36\n",
       " 249 │    1.27     1.39     1.4      1.62     1.41\n",
       " 250 │    1.26     1.37     1.37     1.58     1.35\n",
       "\u001b[36m                                   229 rows omitted\u001b[0m"
      ]
     },
     "execution_count": 22,
     "metadata": {},
     "output_type": "execute_result"
    }
   ],
   "source": [
    "using CSV, DataFrames\n",
    "\n",
    "tnf = CSV.read(\"tnf.csv\", DataFrame)"
   ]
  },
  {
   "cell_type": "markdown",
   "id": "numeric-ambassador",
   "metadata": {},
   "source": [
    "## Time Series Analysis"
   ]
  },
  {
   "cell_type": "markdown",
   "id": "general-appointment",
   "metadata": {},
   "source": [
    "The `tnf` dataset contains the inflation rates for CMT maturities $T \\in [5, 7, 10, 20, 30]$ years. Recall that this inflation analysis is only for columns $10$ to $14$ of the original datasets, because columns $10$ to $14$ were the only nonempty columns in the `R_CMT` dataset.\n",
    "\n",
    "This analysis continues with a data-driven approach to modelling. Linear methods can be used to solve certain nonlinear problems, but since they are nonlinear, a top-down approach, where one chooses a known statistical PDF kernel function, does not work on nonlinear stochastic processes."
   ]
  },
  {
   "cell_type": "markdown",
   "id": "selected-headline",
   "metadata": {},
   "source": [
    "### Building (Test) and Training Sets & Plotting Results as Done Earlier"
   ]
  },
  {
   "cell_type": "markdown",
   "id": "virgin-quebec",
   "metadata": {},
   "source": [
    "As metnioned in my `Treas Exploratory Analysis`, there seems to be correlation across maturities in the Treasury yield curve inflation. Here is a rework of these results."
   ]
  },
  {
   "cell_type": "code",
   "execution_count": 23,
   "id": "executed-algebra",
   "metadata": {},
   "outputs": [
    {
     "data": {
      "image/svg+xml": [
       "<?xml version=\"1.0\" encoding=\"utf-8\"?>\n",
       "<svg xmlns=\"http://www.w3.org/2000/svg\" xmlns:xlink=\"http://www.w3.org/1999/xlink\" width=\"900\" height=\"500\" viewBox=\"0 0 3600 2000\">\n",
       "<defs>\n",
       "  <clipPath id=\"clip420\">\n",
       "    <rect x=\"0\" y=\"0\" width=\"3600\" height=\"2000\"/>\n",
       "  </clipPath>\n",
       "</defs>\n",
       "<path clip-path=\"url(#clip420)\" d=\"\n",
       "M0 2000 L3600 2000 L3600 0 L0 0  Z\n",
       "  \" fill=\"#ffffff\" fill-rule=\"evenodd\" fill-opacity=\"1\"/>\n",
       "<defs>\n",
       "  <clipPath id=\"clip421\">\n",
       "    <rect x=\"720\" y=\"0\" width=\"2521\" height=\"2000\"/>\n",
       "  </clipPath>\n",
       "</defs>\n",
       "<path clip-path=\"url(#clip420)\" d=\"\n",
       "M260.289 1832.86 L3552.76 1832.86 L3552.76 47.2441 L260.289 47.2441  Z\n",
       "  \" fill=\"#ffffff\" fill-rule=\"evenodd\" fill-opacity=\"1\"/>\n",
       "<defs>\n",
       "  <clipPath id=\"clip422\">\n",
       "    <rect x=\"260\" y=\"47\" width=\"3293\" height=\"1787\"/>\n",
       "  </clipPath>\n",
       "</defs>\n",
       "<polyline clip-path=\"url(#clip422)\" style=\"stroke:#000000; stroke-linecap:butt; stroke-linejoin:round; stroke-width:2; stroke-opacity:0.1; fill:none\" points=\"\n",
       "  340.997,1832.86 340.997,47.2441 \n",
       "  \"/>\n",
       "<polyline clip-path=\"url(#clip422)\" style=\"stroke:#000000; stroke-linecap:butt; stroke-linejoin:round; stroke-width:2; stroke-opacity:0.1; fill:none\" points=\"\n",
       "  964.712,1832.86 964.712,47.2441 \n",
       "  \"/>\n",
       "<polyline clip-path=\"url(#clip422)\" style=\"stroke:#000000; stroke-linecap:butt; stroke-linejoin:round; stroke-width:2; stroke-opacity:0.1; fill:none\" points=\"\n",
       "  1588.43,1832.86 1588.43,47.2441 \n",
       "  \"/>\n",
       "<polyline clip-path=\"url(#clip422)\" style=\"stroke:#000000; stroke-linecap:butt; stroke-linejoin:round; stroke-width:2; stroke-opacity:0.1; fill:none\" points=\"\n",
       "  2212.14,1832.86 2212.14,47.2441 \n",
       "  \"/>\n",
       "<polyline clip-path=\"url(#clip422)\" style=\"stroke:#000000; stroke-linecap:butt; stroke-linejoin:round; stroke-width:2; stroke-opacity:0.1; fill:none\" points=\"\n",
       "  2835.86,1832.86 2835.86,47.2441 \n",
       "  \"/>\n",
       "<polyline clip-path=\"url(#clip422)\" style=\"stroke:#000000; stroke-linecap:butt; stroke-linejoin:round; stroke-width:2; stroke-opacity:0.1; fill:none\" points=\"\n",
       "  3459.57,1832.86 3459.57,47.2441 \n",
       "  \"/>\n",
       "<polyline clip-path=\"url(#clip420)\" style=\"stroke:#000000; stroke-linecap:butt; stroke-linejoin:round; stroke-width:4; stroke-opacity:1; fill:none\" points=\"\n",
       "  260.289,1832.86 3552.76,1832.86 \n",
       "  \"/>\n",
       "<polyline clip-path=\"url(#clip420)\" style=\"stroke:#000000; stroke-linecap:butt; stroke-linejoin:round; stroke-width:4; stroke-opacity:1; fill:none\" points=\"\n",
       "  340.997,1832.86 340.997,1813.96 \n",
       "  \"/>\n",
       "<polyline clip-path=\"url(#clip420)\" style=\"stroke:#000000; stroke-linecap:butt; stroke-linejoin:round; stroke-width:4; stroke-opacity:1; fill:none\" points=\"\n",
       "  964.712,1832.86 964.712,1813.96 \n",
       "  \"/>\n",
       "<polyline clip-path=\"url(#clip420)\" style=\"stroke:#000000; stroke-linecap:butt; stroke-linejoin:round; stroke-width:4; stroke-opacity:1; fill:none\" points=\"\n",
       "  1588.43,1832.86 1588.43,1813.96 \n",
       "  \"/>\n",
       "<polyline clip-path=\"url(#clip420)\" style=\"stroke:#000000; stroke-linecap:butt; stroke-linejoin:round; stroke-width:4; stroke-opacity:1; fill:none\" points=\"\n",
       "  2212.14,1832.86 2212.14,1813.96 \n",
       "  \"/>\n",
       "<polyline clip-path=\"url(#clip420)\" style=\"stroke:#000000; stroke-linecap:butt; stroke-linejoin:round; stroke-width:4; stroke-opacity:1; fill:none\" points=\"\n",
       "  2835.86,1832.86 2835.86,1813.96 \n",
       "  \"/>\n",
       "<polyline clip-path=\"url(#clip420)\" style=\"stroke:#000000; stroke-linecap:butt; stroke-linejoin:round; stroke-width:4; stroke-opacity:1; fill:none\" points=\"\n",
       "  3459.57,1832.86 3459.57,1813.96 \n",
       "  \"/>\n",
       "<path clip-path=\"url(#clip420)\" d=\"M340.997 1871.65 Q337.386 1871.65 335.558 1875.22 Q333.752 1878.76 333.752 1885.89 Q333.752 1892.99 335.558 1896.56 Q337.386 1900.1 340.997 1900.1 Q344.632 1900.1 346.437 1896.56 Q348.266 1892.99 348.266 1885.89 Q348.266 1878.76 346.437 1875.22 Q344.632 1871.65 340.997 1871.65 M340.997 1867.95 Q346.808 1867.95 349.863 1872.55 Q352.942 1877.14 352.942 1885.89 Q352.942 1894.61 349.863 1899.22 Q346.808 1903.8 340.997 1903.8 Q335.187 1903.8 332.109 1899.22 Q329.053 1894.61 329.053 1885.89 Q329.053 1877.14 332.109 1872.55 Q335.187 1867.95 340.997 1867.95 Z\" fill=\"#000000\" fill-rule=\"evenodd\" fill-opacity=\"1\" /><path clip-path=\"url(#clip420)\" d=\"M939.412 1868.57 L957.768 1868.57 L957.768 1872.51 L943.694 1872.51 L943.694 1880.98 Q944.713 1880.63 945.731 1880.47 Q946.75 1880.28 947.768 1880.28 Q953.555 1880.28 956.935 1883.46 Q960.314 1886.63 960.314 1892.04 Q960.314 1897.62 956.842 1900.72 Q953.37 1903.8 947.051 1903.8 Q944.875 1903.8 942.606 1903.43 Q940.361 1903.06 937.953 1902.32 L937.953 1897.62 Q940.037 1898.76 942.259 1899.31 Q944.481 1899.87 946.958 1899.87 Q950.963 1899.87 953.301 1897.76 Q955.638 1895.66 955.638 1892.04 Q955.638 1888.43 953.301 1886.33 Q950.963 1884.22 946.958 1884.22 Q945.083 1884.22 943.208 1884.64 Q941.356 1885.05 939.412 1885.93 L939.412 1868.57 Z\" fill=\"#000000\" fill-rule=\"evenodd\" fill-opacity=\"1\" /><path clip-path=\"url(#clip420)\" d=\"M979.527 1871.65 Q975.916 1871.65 974.087 1875.22 Q972.282 1878.76 972.282 1885.89 Q972.282 1892.99 974.087 1896.56 Q975.916 1900.1 979.527 1900.1 Q983.161 1900.1 984.967 1896.56 Q986.796 1892.99 986.796 1885.89 Q986.796 1878.76 984.967 1875.22 Q983.161 1871.65 979.527 1871.65 M979.527 1867.95 Q985.337 1867.95 988.393 1872.55 Q991.472 1877.14 991.472 1885.89 Q991.472 1894.61 988.393 1899.22 Q985.337 1903.8 979.527 1903.8 Q973.717 1903.8 970.638 1899.22 Q967.583 1894.61 967.583 1885.89 Q967.583 1877.14 970.638 1872.55 Q973.717 1867.95 979.527 1867.95 Z\" fill=\"#000000\" fill-rule=\"evenodd\" fill-opacity=\"1\" /><path clip-path=\"url(#clip420)\" d=\"M1548.03 1899.2 L1555.67 1899.2 L1555.67 1872.83 L1547.36 1874.5 L1547.36 1870.24 L1555.63 1868.57 L1560.3 1868.57 L1560.3 1899.2 L1567.94 1899.2 L1567.94 1903.13 L1548.03 1903.13 L1548.03 1899.2 Z\" fill=\"#000000\" fill-rule=\"evenodd\" fill-opacity=\"1\" /><path clip-path=\"url(#clip420)\" d=\"M1587.39 1871.65 Q1583.77 1871.65 1581.95 1875.22 Q1580.14 1878.76 1580.14 1885.89 Q1580.14 1892.99 1581.95 1896.56 Q1583.77 1900.1 1587.39 1900.1 Q1591.02 1900.1 1592.83 1896.56 Q1594.65 1892.99 1594.65 1885.89 Q1594.65 1878.76 1592.83 1875.22 Q1591.02 1871.65 1587.39 1871.65 M1587.39 1867.95 Q1593.2 1867.95 1596.25 1872.55 Q1599.33 1877.14 1599.33 1885.89 Q1599.33 1894.61 1596.25 1899.22 Q1593.2 1903.8 1587.39 1903.8 Q1581.58 1903.8 1578.5 1899.22 Q1575.44 1894.61 1575.44 1885.89 Q1575.44 1877.14 1578.5 1872.55 Q1581.58 1867.95 1587.39 1867.95 Z\" fill=\"#000000\" fill-rule=\"evenodd\" fill-opacity=\"1\" /><path clip-path=\"url(#clip420)\" d=\"M1617.55 1871.65 Q1613.94 1871.65 1612.11 1875.22 Q1610.3 1878.76 1610.3 1885.89 Q1610.3 1892.99 1612.11 1896.56 Q1613.94 1900.1 1617.55 1900.1 Q1621.18 1900.1 1622.99 1896.56 Q1624.82 1892.99 1624.82 1885.89 Q1624.82 1878.76 1622.99 1875.22 Q1621.18 1871.65 1617.55 1871.65 M1617.55 1867.95 Q1623.36 1867.95 1626.41 1872.55 Q1629.49 1877.14 1629.49 1885.89 Q1629.49 1894.61 1626.41 1899.22 Q1623.36 1903.8 1617.55 1903.8 Q1611.74 1903.8 1608.66 1899.22 Q1605.6 1894.61 1605.6 1885.89 Q1605.6 1877.14 1608.66 1872.55 Q1611.74 1867.95 1617.55 1867.95 Z\" fill=\"#000000\" fill-rule=\"evenodd\" fill-opacity=\"1\" /><path clip-path=\"url(#clip420)\" d=\"M2171.75 1899.2 L2179.39 1899.2 L2179.39 1872.83 L2171.08 1874.5 L2171.08 1870.24 L2179.34 1868.57 L2184.02 1868.57 L2184.02 1899.2 L2191.66 1899.2 L2191.66 1903.13 L2171.75 1903.13 L2171.75 1899.2 Z\" fill=\"#000000\" fill-rule=\"evenodd\" fill-opacity=\"1\" /><path clip-path=\"url(#clip420)\" d=\"M2201.15 1868.57 L2219.5 1868.57 L2219.5 1872.51 L2205.43 1872.51 L2205.43 1880.98 Q2206.45 1880.63 2207.47 1880.47 Q2208.49 1880.28 2209.5 1880.28 Q2215.29 1880.28 2218.67 1883.46 Q2222.05 1886.63 2222.05 1892.04 Q2222.05 1897.62 2218.58 1900.72 Q2215.11 1903.8 2208.79 1903.8 Q2206.61 1903.8 2204.34 1903.43 Q2202.1 1903.06 2199.69 1902.32 L2199.69 1897.62 Q2201.77 1898.76 2203.99 1899.31 Q2206.22 1899.87 2208.69 1899.87 Q2212.7 1899.87 2215.04 1897.76 Q2217.37 1895.66 2217.37 1892.04 Q2217.37 1888.43 2215.04 1886.33 Q2212.7 1884.22 2208.69 1884.22 Q2206.82 1884.22 2204.94 1884.64 Q2203.09 1885.05 2201.15 1885.93 L2201.15 1868.57 Z\" fill=\"#000000\" fill-rule=\"evenodd\" fill-opacity=\"1\" /><path clip-path=\"url(#clip420)\" d=\"M2241.26 1871.65 Q2237.65 1871.65 2235.82 1875.22 Q2234.02 1878.76 2234.02 1885.89 Q2234.02 1892.99 2235.82 1896.56 Q2237.65 1900.1 2241.26 1900.1 Q2244.9 1900.1 2246.7 1896.56 Q2248.53 1892.99 2248.53 1885.89 Q2248.53 1878.76 2246.7 1875.22 Q2244.9 1871.65 2241.26 1871.65 M2241.26 1867.95 Q2247.07 1867.95 2250.13 1872.55 Q2253.21 1877.14 2253.21 1885.89 Q2253.21 1894.61 2250.13 1899.22 Q2247.07 1903.8 2241.26 1903.8 Q2235.45 1903.8 2232.37 1899.22 Q2229.32 1894.61 2229.32 1885.89 Q2229.32 1877.14 2232.37 1872.55 Q2235.45 1867.95 2241.26 1867.95 Z\" fill=\"#000000\" fill-rule=\"evenodd\" fill-opacity=\"1\" /><path clip-path=\"url(#clip420)\" d=\"M2799.55 1899.2 L2815.87 1899.2 L2815.87 1903.13 L2793.93 1903.13 L2793.93 1899.2 Q2796.59 1896.44 2801.17 1891.81 Q2805.78 1887.16 2806.96 1885.82 Q2809.2 1883.29 2810.08 1881.56 Q2810.99 1879.8 2810.99 1878.11 Q2810.99 1875.35 2809.04 1873.62 Q2807.12 1871.88 2804.02 1871.88 Q2801.82 1871.88 2799.36 1872.65 Q2796.93 1873.41 2794.16 1874.96 L2794.16 1870.24 Q2796.98 1869.1 2799.43 1868.53 Q2801.89 1867.95 2803.93 1867.95 Q2809.3 1867.95 2812.49 1870.63 Q2815.68 1873.32 2815.68 1877.81 Q2815.68 1879.94 2814.87 1881.86 Q2814.09 1883.76 2811.98 1886.35 Q2811.4 1887.02 2808.3 1890.24 Q2805.2 1893.43 2799.55 1899.2 Z\" fill=\"#000000\" fill-rule=\"evenodd\" fill-opacity=\"1\" /><path clip-path=\"url(#clip420)\" d=\"M2835.68 1871.65 Q2832.07 1871.65 2830.24 1875.22 Q2828.44 1878.76 2828.44 1885.89 Q2828.44 1892.99 2830.24 1896.56 Q2832.07 1900.1 2835.68 1900.1 Q2839.32 1900.1 2841.12 1896.56 Q2842.95 1892.99 2842.95 1885.89 Q2842.95 1878.76 2841.12 1875.22 Q2839.32 1871.65 2835.68 1871.65 M2835.68 1867.95 Q2841.49 1867.95 2844.55 1872.55 Q2847.63 1877.14 2847.63 1885.89 Q2847.63 1894.61 2844.55 1899.22 Q2841.49 1903.8 2835.68 1903.8 Q2829.87 1903.8 2826.8 1899.22 Q2823.74 1894.61 2823.74 1885.89 Q2823.74 1877.14 2826.8 1872.55 Q2829.87 1867.95 2835.68 1867.95 Z\" fill=\"#000000\" fill-rule=\"evenodd\" fill-opacity=\"1\" /><path clip-path=\"url(#clip420)\" d=\"M2865.85 1871.65 Q2862.23 1871.65 2860.41 1875.22 Q2858.6 1878.76 2858.6 1885.89 Q2858.6 1892.99 2860.41 1896.56 Q2862.23 1900.1 2865.85 1900.1 Q2869.48 1900.1 2871.29 1896.56 Q2873.11 1892.99 2873.11 1885.89 Q2873.11 1878.76 2871.29 1875.22 Q2869.48 1871.65 2865.85 1871.65 M2865.85 1867.95 Q2871.66 1867.95 2874.71 1872.55 Q2877.79 1877.14 2877.79 1885.89 Q2877.79 1894.61 2874.71 1899.22 Q2871.66 1903.8 2865.85 1903.8 Q2860.04 1903.8 2856.96 1899.22 Q2853.9 1894.61 2853.9 1885.89 Q2853.9 1877.14 2856.96 1872.55 Q2860.04 1867.95 2865.85 1867.95 Z\" fill=\"#000000\" fill-rule=\"evenodd\" fill-opacity=\"1\" /><path clip-path=\"url(#clip420)\" d=\"M3423.27 1899.2 L3439.58 1899.2 L3439.58 1903.13 L3417.64 1903.13 L3417.64 1899.2 Q3420.3 1896.44 3424.89 1891.81 Q3429.49 1887.16 3430.67 1885.82 Q3432.92 1883.29 3433.8 1881.56 Q3434.7 1879.8 3434.7 1878.11 Q3434.7 1875.35 3432.76 1873.62 Q3430.83 1871.88 3427.73 1871.88 Q3425.53 1871.88 3423.08 1872.65 Q3420.65 1873.41 3417.87 1874.96 L3417.87 1870.24 Q3420.7 1869.1 3423.15 1868.53 Q3425.6 1867.95 3427.64 1867.95 Q3433.01 1867.95 3436.2 1870.63 Q3439.4 1873.32 3439.4 1877.81 Q3439.4 1879.94 3438.59 1881.86 Q3437.8 1883.76 3435.7 1886.35 Q3435.12 1887.02 3432.02 1890.24 Q3428.91 1893.43 3423.27 1899.2 Z\" fill=\"#000000\" fill-rule=\"evenodd\" fill-opacity=\"1\" /><path clip-path=\"url(#clip420)\" d=\"M3449.45 1868.57 L3467.8 1868.57 L3467.8 1872.51 L3453.73 1872.51 L3453.73 1880.98 Q3454.75 1880.63 3455.77 1880.47 Q3456.78 1880.28 3457.8 1880.28 Q3463.59 1880.28 3466.97 1883.46 Q3470.35 1886.63 3470.35 1892.04 Q3470.35 1897.62 3466.88 1900.72 Q3463.4 1903.8 3457.08 1903.8 Q3454.91 1903.8 3452.64 1903.43 Q3450.39 1903.06 3447.99 1902.32 L3447.99 1897.62 Q3450.07 1898.76 3452.29 1899.31 Q3454.52 1899.87 3456.99 1899.87 Q3461 1899.87 3463.33 1897.76 Q3465.67 1895.66 3465.67 1892.04 Q3465.67 1888.43 3463.33 1886.33 Q3461 1884.22 3456.99 1884.22 Q3455.12 1884.22 3453.24 1884.64 Q3451.39 1885.05 3449.45 1885.93 L3449.45 1868.57 Z\" fill=\"#000000\" fill-rule=\"evenodd\" fill-opacity=\"1\" /><path clip-path=\"url(#clip420)\" d=\"M3489.56 1871.65 Q3485.95 1871.65 3484.12 1875.22 Q3482.32 1878.76 3482.32 1885.89 Q3482.32 1892.99 3484.12 1896.56 Q3485.95 1900.1 3489.56 1900.1 Q3493.2 1900.1 3495 1896.56 Q3496.83 1892.99 3496.83 1885.89 Q3496.83 1878.76 3495 1875.22 Q3493.2 1871.65 3489.56 1871.65 M3489.56 1867.95 Q3495.37 1867.95 3498.43 1872.55 Q3501.51 1877.14 3501.51 1885.89 Q3501.51 1894.61 3498.43 1899.22 Q3495.37 1903.8 3489.56 1903.8 Q3483.75 1903.8 3480.67 1899.22 Q3477.62 1894.61 3477.62 1885.89 Q3477.62 1877.14 3480.67 1872.55 Q3483.75 1867.95 3489.56 1867.95 Z\" fill=\"#000000\" fill-rule=\"evenodd\" fill-opacity=\"1\" /><path clip-path=\"url(#clip420)\" d=\"M1858.99 1965.49 L1858.99 1946.2 L1864.84 1946.2 L1864.84 1995.72 L1858.99 1995.72 L1858.99 1990.38 Q1857.14 1993.56 1854.31 1995.12 Q1851.51 1996.65 1847.56 1996.65 Q1841.1 1996.65 1837.02 1991.49 Q1832.98 1986.33 1832.98 1977.93 Q1832.98 1969.53 1837.02 1964.37 Q1841.1 1959.22 1847.56 1959.22 Q1851.51 1959.22 1854.31 1960.78 Q1857.14 1962.3 1858.99 1965.49 M1839.03 1977.93 Q1839.03 1984.39 1841.67 1988.08 Q1844.35 1991.75 1848.99 1991.75 Q1853.64 1991.75 1856.31 1988.08 Q1858.99 1984.39 1858.99 1977.93 Q1858.99 1971.47 1856.31 1967.81 Q1853.64 1964.12 1848.99 1964.12 Q1844.35 1964.12 1841.67 1967.81 Q1839.03 1971.47 1839.03 1977.93 Z\" fill=\"#000000\" fill-rule=\"evenodd\" fill-opacity=\"1\" /><path clip-path=\"url(#clip420)\" d=\"M1893.11 1977.8 Q1886.01 1977.8 1883.27 1979.43 Q1880.53 1981.05 1880.53 1984.97 Q1880.53 1988.08 1882.57 1989.93 Q1884.64 1991.75 1888.17 1991.75 Q1893.04 1991.75 1895.97 1988.31 Q1898.93 1984.84 1898.93 1979.11 L1898.93 1977.8 L1893.11 1977.8 M1904.79 1975.39 L1904.79 1995.72 L1898.93 1995.72 L1898.93 1990.31 Q1896.93 1993.56 1893.93 1995.12 Q1890.94 1996.65 1886.61 1996.65 Q1881.14 1996.65 1877.89 1993.59 Q1874.68 1990.5 1874.68 1985.35 Q1874.68 1979.33 1878.69 1976.28 Q1882.73 1973.22 1890.72 1973.22 L1898.93 1973.22 L1898.93 1972.65 Q1898.93 1968.61 1896.26 1966.41 Q1893.62 1964.18 1888.81 1964.18 Q1885.75 1964.18 1882.86 1964.91 Q1879.96 1965.65 1877.29 1967.11 L1877.29 1961.7 Q1880.5 1960.46 1883.53 1959.85 Q1886.55 1959.22 1889.41 1959.22 Q1897.15 1959.22 1900.97 1963.23 Q1904.79 1967.24 1904.79 1975.39 Z\" fill=\"#000000\" fill-rule=\"evenodd\" fill-opacity=\"1\" /><path clip-path=\"url(#clip420)\" d=\"M1931.68 1999.03 Q1929.2 2005.4 1926.84 2007.34 Q1924.49 2009.28 1920.54 2009.28 L1915.86 2009.28 L1915.86 2004.38 L1919.3 2004.38 Q1921.72 2004.38 1923.06 2003.24 Q1924.39 2002.09 1926.02 1997.82 L1927.07 1995.15 L1912.65 1960.08 L1918.86 1960.08 L1930 1987.96 L1941.14 1960.08 L1947.34 1960.08 L1931.68 1999.03 Z\" fill=\"#000000\" fill-rule=\"evenodd\" fill-opacity=\"1\" /><path clip-path=\"url(#clip420)\" d=\"M1978.15 1961.13 L1978.15 1966.66 Q1975.67 1965.39 1973 1964.75 Q1970.32 1964.12 1967.46 1964.12 Q1963.1 1964.12 1960.9 1965.45 Q1958.74 1966.79 1958.74 1969.47 Q1958.74 1971.5 1960.3 1972.68 Q1961.86 1973.83 1966.57 1974.88 L1968.57 1975.32 Q1974.81 1976.66 1977.42 1979.11 Q1980.06 1981.53 1980.06 1985.89 Q1980.06 1990.85 1976.12 1993.75 Q1972.2 1996.65 1965.33 1996.65 Q1962.46 1996.65 1959.34 1996.07 Q1956.25 1995.53 1952.82 1994.42 L1952.82 1988.37 Q1956.06 1990.06 1959.21 1990.92 Q1962.37 1991.75 1965.45 1991.75 Q1969.59 1991.75 1971.82 1990.34 Q1974.05 1988.91 1974.05 1986.33 Q1974.05 1983.95 1972.42 1982.67 Q1970.83 1981.4 1965.39 1980.22 L1963.35 1979.75 Q1957.91 1978.6 1955.49 1976.24 Q1953.07 1973.86 1953.07 1969.72 Q1953.07 1964.69 1956.64 1961.95 Q1960.2 1959.22 1966.76 1959.22 Q1970 1959.22 1972.87 1959.69 Q1975.73 1960.17 1978.15 1961.13 Z\" fill=\"#000000\" fill-rule=\"evenodd\" fill-opacity=\"1\" /><polyline clip-path=\"url(#clip422)\" style=\"stroke:#000000; stroke-linecap:butt; stroke-linejoin:round; stroke-width:2; stroke-opacity:0.1; fill:none\" points=\"\n",
       "  260.289,1686.06 3552.76,1686.06 \n",
       "  \"/>\n",
       "<polyline clip-path=\"url(#clip422)\" style=\"stroke:#000000; stroke-linecap:butt; stroke-linejoin:round; stroke-width:2; stroke-opacity:0.1; fill:none\" points=\"\n",
       "  260.289,1342.28 3552.76,1342.28 \n",
       "  \"/>\n",
       "<polyline clip-path=\"url(#clip422)\" style=\"stroke:#000000; stroke-linecap:butt; stroke-linejoin:round; stroke-width:2; stroke-opacity:0.1; fill:none\" points=\"\n",
       "  260.289,998.495 3552.76,998.495 \n",
       "  \"/>\n",
       "<polyline clip-path=\"url(#clip422)\" style=\"stroke:#000000; stroke-linecap:butt; stroke-linejoin:round; stroke-width:2; stroke-opacity:0.1; fill:none\" points=\"\n",
       "  260.289,654.711 3552.76,654.711 \n",
       "  \"/>\n",
       "<polyline clip-path=\"url(#clip422)\" style=\"stroke:#000000; stroke-linecap:butt; stroke-linejoin:round; stroke-width:2; stroke-opacity:0.1; fill:none\" points=\"\n",
       "  260.289,310.927 3552.76,310.927 \n",
       "  \"/>\n",
       "<polyline clip-path=\"url(#clip420)\" style=\"stroke:#000000; stroke-linecap:butt; stroke-linejoin:round; stroke-width:4; stroke-opacity:1; fill:none\" points=\"\n",
       "  260.289,1832.86 260.289,47.2441 \n",
       "  \"/>\n",
       "<polyline clip-path=\"url(#clip420)\" style=\"stroke:#000000; stroke-linecap:butt; stroke-linejoin:round; stroke-width:4; stroke-opacity:1; fill:none\" points=\"\n",
       "  260.289,1686.06 279.186,1686.06 \n",
       "  \"/>\n",
       "<polyline clip-path=\"url(#clip420)\" style=\"stroke:#000000; stroke-linecap:butt; stroke-linejoin:round; stroke-width:4; stroke-opacity:1; fill:none\" points=\"\n",
       "  260.289,1342.28 279.186,1342.28 \n",
       "  \"/>\n",
       "<polyline clip-path=\"url(#clip420)\" style=\"stroke:#000000; stroke-linecap:butt; stroke-linejoin:round; stroke-width:4; stroke-opacity:1; fill:none\" points=\"\n",
       "  260.289,998.495 279.186,998.495 \n",
       "  \"/>\n",
       "<polyline clip-path=\"url(#clip420)\" style=\"stroke:#000000; stroke-linecap:butt; stroke-linejoin:round; stroke-width:4; stroke-opacity:1; fill:none\" points=\"\n",
       "  260.289,654.711 279.186,654.711 \n",
       "  \"/>\n",
       "<polyline clip-path=\"url(#clip420)\" style=\"stroke:#000000; stroke-linecap:butt; stroke-linejoin:round; stroke-width:4; stroke-opacity:1; fill:none\" points=\"\n",
       "  260.289,310.927 279.186,310.927 \n",
       "  \"/>\n",
       "<path clip-path=\"url(#clip420)\" d=\"M100.34 1686.52 L130.016 1686.52 L130.016 1690.45 L100.34 1690.45 L100.34 1686.52 Z\" fill=\"#000000\" fill-rule=\"evenodd\" fill-opacity=\"1\" /><path clip-path=\"url(#clip420)\" d=\"M150.108 1671.86 Q146.497 1671.86 144.669 1675.43 Q142.863 1678.97 142.863 1686.1 Q142.863 1693.21 144.669 1696.77 Q146.497 1700.31 150.108 1700.31 Q153.743 1700.31 155.548 1696.77 Q157.377 1693.21 157.377 1686.1 Q157.377 1678.97 155.548 1675.43 Q153.743 1671.86 150.108 1671.86 M150.108 1668.16 Q155.919 1668.16 158.974 1672.77 Q162.053 1677.35 162.053 1686.1 Q162.053 1694.83 158.974 1699.43 Q155.919 1704.02 150.108 1704.02 Q144.298 1704.02 141.22 1699.43 Q138.164 1694.83 138.164 1686.1 Q138.164 1677.35 141.22 1672.77 Q144.298 1668.16 150.108 1668.16 Z\" fill=\"#000000\" fill-rule=\"evenodd\" fill-opacity=\"1\" /><path clip-path=\"url(#clip420)\" d=\"M170.27 1697.46 L175.155 1697.46 L175.155 1703.34 L170.27 1703.34 L170.27 1697.46 Z\" fill=\"#000000\" fill-rule=\"evenodd\" fill-opacity=\"1\" /><path clip-path=\"url(#clip420)\" d=\"M185.386 1668.78 L203.742 1668.78 L203.742 1672.72 L189.668 1672.72 L189.668 1681.19 Q190.687 1680.84 191.705 1680.68 Q192.724 1680.5 193.742 1680.5 Q199.529 1680.5 202.909 1683.67 Q206.289 1686.84 206.289 1692.26 Q206.289 1697.83 202.816 1700.94 Q199.344 1704.02 193.025 1704.02 Q190.849 1704.02 188.58 1703.64 Q186.335 1703.27 183.928 1702.53 L183.928 1697.83 Q186.011 1698.97 188.233 1699.52 Q190.455 1700.08 192.932 1700.08 Q196.937 1700.08 199.275 1697.97 Q201.613 1695.87 201.613 1692.26 Q201.613 1688.64 199.275 1686.54 Q196.937 1684.43 192.932 1684.43 Q191.057 1684.43 189.182 1684.85 Q187.33 1685.27 185.386 1686.14 L185.386 1668.78 Z\" fill=\"#000000\" fill-rule=\"evenodd\" fill-opacity=\"1\" /><path clip-path=\"url(#clip420)\" d=\"M149.113 1328.08 Q145.502 1328.08 143.673 1331.64 Q141.868 1335.18 141.868 1342.31 Q141.868 1349.42 143.673 1352.99 Q145.502 1356.53 149.113 1356.53 Q152.747 1356.53 154.553 1352.99 Q156.382 1349.42 156.382 1342.31 Q156.382 1335.18 154.553 1331.64 Q152.747 1328.08 149.113 1328.08 M149.113 1324.37 Q154.923 1324.37 157.979 1328.98 Q161.057 1333.56 161.057 1342.31 Q161.057 1351.04 157.979 1355.65 Q154.923 1360.23 149.113 1360.23 Q143.303 1360.23 140.224 1355.65 Q137.169 1351.04 137.169 1342.31 Q137.169 1333.56 140.224 1328.98 Q143.303 1324.37 149.113 1324.37 Z\" fill=\"#000000\" fill-rule=\"evenodd\" fill-opacity=\"1\" /><path clip-path=\"url(#clip420)\" d=\"M169.275 1353.68 L174.159 1353.68 L174.159 1359.56 L169.275 1359.56 L169.275 1353.68 Z\" fill=\"#000000\" fill-rule=\"evenodd\" fill-opacity=\"1\" /><path clip-path=\"url(#clip420)\" d=\"M194.344 1328.08 Q190.733 1328.08 188.904 1331.64 Q187.099 1335.18 187.099 1342.31 Q187.099 1349.42 188.904 1352.99 Q190.733 1356.53 194.344 1356.53 Q197.979 1356.53 199.784 1352.99 Q201.613 1349.42 201.613 1342.31 Q201.613 1335.18 199.784 1331.64 Q197.979 1328.08 194.344 1328.08 M194.344 1324.37 Q200.154 1324.37 203.21 1328.98 Q206.289 1333.56 206.289 1342.31 Q206.289 1351.04 203.21 1355.65 Q200.154 1360.23 194.344 1360.23 Q188.534 1360.23 185.455 1355.65 Q182.4 1351.04 182.4 1342.31 Q182.4 1333.56 185.455 1328.98 Q188.534 1324.37 194.344 1324.37 Z\" fill=\"#000000\" fill-rule=\"evenodd\" fill-opacity=\"1\" /><path clip-path=\"url(#clip420)\" d=\"M150.108 984.294 Q146.497 984.294 144.669 987.859 Q142.863 991.4 142.863 998.53 Q142.863 1005.64 144.669 1009.2 Q146.497 1012.74 150.108 1012.74 Q153.743 1012.74 155.548 1009.2 Q157.377 1005.64 157.377 998.53 Q157.377 991.4 155.548 987.859 Q153.743 984.294 150.108 984.294 M150.108 980.59 Q155.919 980.59 158.974 985.197 Q162.053 989.78 162.053 998.53 Q162.053 1007.26 158.974 1011.86 Q155.919 1016.45 150.108 1016.45 Q144.298 1016.45 141.22 1011.86 Q138.164 1007.26 138.164 998.53 Q138.164 989.78 141.22 985.197 Q144.298 980.59 150.108 980.59 Z\" fill=\"#000000\" fill-rule=\"evenodd\" fill-opacity=\"1\" /><path clip-path=\"url(#clip420)\" d=\"M170.27 1009.9 L175.155 1009.9 L175.155 1015.78 L170.27 1015.78 L170.27 1009.9 Z\" fill=\"#000000\" fill-rule=\"evenodd\" fill-opacity=\"1\" /><path clip-path=\"url(#clip420)\" d=\"M185.386 981.215 L203.742 981.215 L203.742 985.15 L189.668 985.15 L189.668 993.623 Q190.687 993.275 191.705 993.113 Q192.724 992.928 193.742 992.928 Q199.529 992.928 202.909 996.099 Q206.289 999.271 206.289 1004.69 Q206.289 1010.27 202.816 1013.37 Q199.344 1016.45 193.025 1016.45 Q190.849 1016.45 188.58 1016.08 Q186.335 1015.71 183.928 1014.97 L183.928 1010.27 Q186.011 1011.4 188.233 1011.96 Q190.455 1012.51 192.932 1012.51 Q196.937 1012.51 199.275 1010.4 Q201.613 1008.3 201.613 1004.69 Q201.613 1001.08 199.275 998.97 Q196.937 996.863 192.932 996.863 Q191.057 996.863 189.182 997.28 Q187.33 997.697 185.386 998.576 L185.386 981.215 Z\" fill=\"#000000\" fill-rule=\"evenodd\" fill-opacity=\"1\" /><path clip-path=\"url(#clip420)\" d=\"M139.923 668.056 L147.562 668.056 L147.562 641.69 L139.252 643.357 L139.252 639.098 L147.516 637.431 L152.192 637.431 L152.192 668.056 L159.831 668.056 L159.831 671.991 L139.923 671.991 L139.923 668.056 Z\" fill=\"#000000\" fill-rule=\"evenodd\" fill-opacity=\"1\" /><path clip-path=\"url(#clip420)\" d=\"M169.275 666.111 L174.159 666.111 L174.159 671.991 L169.275 671.991 L169.275 666.111 Z\" fill=\"#000000\" fill-rule=\"evenodd\" fill-opacity=\"1\" /><path clip-path=\"url(#clip420)\" d=\"M194.344 640.51 Q190.733 640.51 188.904 644.074 Q187.099 647.616 187.099 654.746 Q187.099 661.852 188.904 665.417 Q190.733 668.959 194.344 668.959 Q197.979 668.959 199.784 665.417 Q201.613 661.852 201.613 654.746 Q201.613 647.616 199.784 644.074 Q197.979 640.51 194.344 640.51 M194.344 636.806 Q200.154 636.806 203.21 641.412 Q206.289 645.996 206.289 654.746 Q206.289 663.473 203.21 668.079 Q200.154 672.662 194.344 672.662 Q188.534 672.662 185.455 668.079 Q182.4 663.473 182.4 654.746 Q182.4 645.996 185.455 641.412 Q188.534 636.806 194.344 636.806 Z\" fill=\"#000000\" fill-rule=\"evenodd\" fill-opacity=\"1\" /><path clip-path=\"url(#clip420)\" d=\"M140.919 324.272 L148.557 324.272 L148.557 297.906 L140.247 299.573 L140.247 295.313 L148.511 293.647 L153.187 293.647 L153.187 324.272 L160.826 324.272 L160.826 328.207 L140.919 328.207 L140.919 324.272 Z\" fill=\"#000000\" fill-rule=\"evenodd\" fill-opacity=\"1\" /><path clip-path=\"url(#clip420)\" d=\"M170.27 322.327 L175.155 322.327 L175.155 328.207 L170.27 328.207 L170.27 322.327 Z\" fill=\"#000000\" fill-rule=\"evenodd\" fill-opacity=\"1\" /><path clip-path=\"url(#clip420)\" d=\"M185.386 293.647 L203.742 293.647 L203.742 297.582 L189.668 297.582 L189.668 306.054 Q190.687 305.707 191.705 305.545 Q192.724 305.36 193.742 305.36 Q199.529 305.36 202.909 308.531 Q206.289 311.702 206.289 317.119 Q206.289 322.697 202.816 325.799 Q199.344 328.878 193.025 328.878 Q190.849 328.878 188.58 328.508 Q186.335 328.137 183.928 327.396 L183.928 322.697 Q186.011 323.832 188.233 324.387 Q190.455 324.943 192.932 324.943 Q196.937 324.943 199.275 322.836 Q201.613 320.73 201.613 317.119 Q201.613 313.508 199.275 311.401 Q196.937 309.295 192.932 309.295 Q191.057 309.295 189.182 309.711 Q187.33 310.128 185.386 311.008 L185.386 293.647 Z\" fill=\"#000000\" fill-rule=\"evenodd\" fill-opacity=\"1\" /><path clip-path=\"url(#clip420)\" d=\"M-3.5638 1007.34 L-3.5638 1001.48 L32.0842 1001.48 L32.0842 1007.34 L-3.5638 1007.34 M-17.441 1007.34 L-17.441 1001.48 L-10.025 1001.48 L-10.025 1007.34 L-17.441 1007.34 Z\" fill=\"#000000\" fill-rule=\"evenodd\" fill-opacity=\"1\" /><path clip-path=\"url(#clip420)\" d=\"M10.5681 959.595 L32.0842 959.595 L32.0842 965.451 L10.759 965.451 Q5.6983 965.451 3.18385 967.425 Q0.669395 969.398 0.669395 973.345 Q0.669395 978.087 3.69311 980.824 Q6.71682 983.562 11.9367 983.562 L32.0842 983.562 L32.0842 989.45 L-3.5638 989.45 L-3.5638 983.562 L1.97437 983.562 Q-1.24032 981.461 -2.83174 978.628 Q-4.42317 975.764 -4.42317 972.04 Q-4.42317 965.897 -0.603746 962.746 Q3.18385 959.595 10.5681 959.595 Z\" fill=\"#000000\" fill-rule=\"evenodd\" fill-opacity=\"1\" /><path clip-path=\"url(#clip420)\" d=\"M-17.441 929.867 L-12.5713 929.867 L-12.5713 935.469 Q-12.5713 938.62 -11.2981 939.861 Q-10.025 941.07 -6.71482 941.07 L-3.5638 941.07 L-3.5638 931.426 L0.987681 931.426 L0.987681 941.07 L32.0842 941.07 L32.0842 946.959 L0.987681 946.959 L0.987681 952.561 L-3.5638 952.561 L-3.5638 946.959 L-6.04643 946.959 Q-11.9984 946.959 -14.7038 944.19 Q-17.441 941.421 -17.441 935.405 L-17.441 929.867 Z\" fill=\"#000000\" fill-rule=\"evenodd\" fill-opacity=\"1\" /><path clip-path=\"url(#clip420)\" d=\"M11.1728 883.715 Q11.1728 886.485 13.5281 888.076 Q15.8834 889.636 20.0848 889.636 Q24.2225 889.636 26.6096 888.076 Q28.965 886.485 28.965 883.715 Q28.965 881.01 26.6096 879.45 Q24.2225 877.859 20.0848 877.859 Q15.9153 877.859 13.56 879.45 Q11.1728 881.01 11.1728 883.715 M7.13059 883.715 Q7.13059 878.687 10.6317 875.727 Q14.1329 872.766 20.0848 872.766 Q26.0367 872.766 29.5379 875.758 Q33.0072 878.718 33.0072 883.715 Q33.0072 888.808 29.5379 891.768 Q26.0367 894.728 20.0848 894.728 Q14.101 894.728 10.6317 891.768 Q7.13059 888.776 7.13059 883.715 M-12.253 916.563 Q-12.253 919.3 -9.86585 920.891 Q-7.51054 922.451 -3.37283 922.451 Q0.828538 922.451 3.18385 920.891 Q5.53916 919.332 5.53916 916.563 Q5.53916 913.793 3.18385 912.234 Q0.828538 910.642 -3.37283 910.642 Q-7.47871 910.642 -9.86585 912.234 Q-12.253 913.825 -12.253 916.563 M-16.2952 887.821 L-16.2952 882.729 L33.0072 912.457 L33.0072 917.549 L-16.2952 887.821 M-16.2952 916.563 Q-16.2952 911.534 -12.7941 908.542 Q-9.32476 905.55 -3.37283 905.55 Q2.64276 905.55 6.11207 908.542 Q9.58138 911.502 9.58138 916.563 Q9.58138 921.623 6.11207 924.583 Q2.61094 927.512 -3.37283 927.512 Q-9.29294 927.512 -12.7941 924.551 Q-16.2952 921.591 -16.2952 916.563 Z\" fill=\"#000000\" fill-rule=\"evenodd\" fill-opacity=\"1\" /><polyline clip-path=\"url(#clip422)\" style=\"stroke:#009af9; stroke-linecap:butt; stroke-linejoin:round; stroke-width:4; stroke-opacity:1; fill:none\" points=\"\n",
       "  353.472,1782.32 365.946,1686.06 378.42,1672.31 390.895,1658.56 403.369,1637.93 415.843,1610.43 428.318,1624.18 440.792,1603.56 453.266,1617.31 465.74,1644.81 \n",
       "  478.215,1651.69 490.689,1679.19 503.163,1686.06 515.638,1686.06 528.112,1706.69 540.586,1692.94 553.061,1713.57 565.535,1713.57 578.009,1672.31 590.483,1610.43 \n",
       "  602.958,1534.8 615.432,1569.18 627.906,1582.93 640.381,1562.3 652.855,1555.43 665.329,1541.67 677.804,1541.67 690.278,1562.3 702.752,1534.8 715.226,1479.79 \n",
       "  727.701,1459.17 740.175,1466.04 752.649,1424.79 765.124,1390.41 777.598,1424.79 790.072,1362.91 802.547,1239.14 815.021,1259.77 827.495,1301.03 839.969,1349.16 \n",
       "  852.444,1328.53 864.918,1287.27 877.392,1280.4 889.867,1218.52 902.341,1211.64 914.815,1218.52 927.29,1232.27 939.764,1170.39 952.238,1163.51 964.712,1170.39 \n",
       "  977.187,1163.51 989.661,1122.26 1002.14,1115.38 1014.61,1060.38 1027.08,1101.63 1039.56,1074.13 1052.03,1081 1064.51,1053.5 1076.98,1032.87 1089.46,1053.5 \n",
       "  1101.93,1019.12 1114.4,1060.38 1126.88,998.495 1139.35,1046.63 1151.83,1087.88 1164.3,1101.63 1176.78,1115.38 1189.25,1094.75 1201.72,1039.75 1214.2,1094.75 \n",
       "  1226.67,1101.63 1239.15,1142.88 1251.62,1142.88 1264.1,1142.88 1276.57,1142.88 1289.04,1142.88 1301.52,1122.26 1313.99,1081 1326.47,1081 1338.94,1032.87 \n",
       "  1351.42,1067.25 1363.89,1046.63 1376.36,1081 1388.84,1149.76 1401.31,1142.88 1413.79,1129.13 1426.26,1122.26 1438.74,1177.26 1451.21,1149.76 1463.68,1142.88 \n",
       "  1476.16,1053.5 1488.63,1074.13 1501.11,1060.38 1513.58,1060.38 1526.06,1087.88 1538.53,1087.88 1551,1122.26 1563.48,1115.38 1575.95,1115.38 1588.43,1142.88 \n",
       "  1600.9,1122.26 1613.38,1101.63 1625.85,1101.63 1638.32,1026 1650.8,977.868 1663.27,970.993 1675.75,991.62 1688.22,1005.37 1700.7,977.868 1713.17,1039.75 \n",
       "  1725.64,1081 1738.12,1060.38 1750.59,1019.12 1763.07,1053.5 1775.54,1005.37 1788.02,957.241 1800.49,895.36 1812.97,833.479 1825.44,881.609 1837.91,847.23 \n",
       "  1850.39,867.857 1862.86,874.733 1875.34,881.609 1887.81,888.484 1900.29,922.863 1912.76,902.236 1925.23,909.111 1937.71,984.744 1950.18,1012.25 1962.66,1053.5 \n",
       "  1975.13,957.241 1987.61,957.241 2000.08,922.863 2012.55,950.365 2025.03,977.868 2037.5,957.241 2049.98,984.744 2062.45,1005.37 2074.93,977.868 2087.4,1005.37 \n",
       "  2099.87,1005.37 2112.35,1012.25 2124.82,1046.63 2137.3,1032.87 2149.77,1019.12 2162.25,1060.38 2174.72,1032.87 2187.19,1039.75 2199.67,991.62 2212.14,936.614 \n",
       "  2224.62,909.111 2237.09,874.733 2249.57,867.857 2262.04,854.106 2274.51,860.982 2286.99,902.236 2299.46,881.609 2311.94,867.857 2324.41,874.733 2336.89,860.982 \n",
       "  2349.36,881.609 2361.83,909.111 2374.31,826.603 2386.78,826.603 2399.26,792.225 2411.73,805.976 2424.21,819.727 2436.68,840.355 2449.15,847.23 2461.63,812.852 \n",
       "  2474.1,860.982 2486.58,826.603 2499.05,860.982 2511.53,922.863 2524,915.987 2536.47,936.614 2548.95,998.495 2561.42,929.738 2573.9,902.236 2586.37,929.738 \n",
       "  2598.85,943.49 2611.32,895.36 2623.79,867.857 2636.27,785.349 2648.74,805.976 2661.22,799.1 2673.69,778.473 2686.17,785.349 2698.64,792.225 2711.11,799.1 \n",
       "  2723.59,750.971 2736.06,716.592 2748.54,737.219 2761.01,716.592 2773.49,730.344 2785.96,730.344 2798.43,764.722 2810.91,799.1 2823.38,716.592 2835.86,579.078 \n",
       "  2848.33,565.327 2860.81,599.705 2873.28,544.7 2885.75,544.7 2898.23,565.327 2910.7,565.327 2923.18,634.084 2935.65,634.084 2948.13,627.208 2960.6,565.327 \n",
       "  2973.08,585.954 2985.55,551.576 2998.02,640.96 3010.5,668.462 3022.97,654.711 3035.45,675.338 3047.92,585.954 3060.4,565.327 3072.87,537.824 3085.34,558.451 \n",
       "  3097.82,551.576 3110.29,572.203 3122.77,551.576 3135.24,489.695 3147.72,489.695 3160.19,482.819 3172.66,585.954 3185.14,592.83 3197.61,640.96 3210.09,627.208 \n",
       "  3222.56,530.949 3235.04,606.581 3247.51,558.451 3259.98,530.949 3272.46,524.073 3284.93,537.824 3297.41,510.322 3309.88,585.954 3322.36,524.073 3334.83,530.949 \n",
       "  3347.3,565.327 3359.78,572.203 3372.25,572.203 3384.73,530.949 3397.2,551.576 3409.68,517.197 3422.15,517.197 3434.62,496.57 3447.1,469.067 3459.57,475.943 \n",
       "  \n",
       "  \"/>\n",
       "<polyline clip-path=\"url(#clip422)\" style=\"stroke:#e26f46; stroke-linecap:butt; stroke-linejoin:round; stroke-width:4; stroke-opacity:1; fill:none\" points=\"\n",
       "  353.472,1576.05 365.946,1493.54 378.42,1459.17 390.895,1438.54 403.369,1411.04 415.843,1383.53 428.318,1397.29 440.792,1383.53 453.266,1383.53 465.74,1424.79 \n",
       "  478.215,1424.79 490.689,1459.17 503.163,1452.29 515.638,1459.17 528.112,1493.54 540.586,1479.79 553.061,1500.42 565.535,1486.67 578.009,1438.54 590.483,1390.41 \n",
       "  602.958,1314.78 615.432,1335.4 627.906,1356.03 640.381,1328.53 652.855,1328.53 665.329,1314.78 677.804,1321.65 690.278,1335.4 702.752,1314.78 715.226,1246.02 \n",
       "  727.701,1225.39 740.175,1218.52 752.649,1170.39 765.124,1142.88 777.598,1156.64 790.072,1108.51 802.547,977.868 815.021,1012.25 827.495,1053.5 839.969,1101.63 \n",
       "  852.444,1074.13 864.918,1012.25 877.392,1005.37 889.867,957.241 902.341,964.117 914.815,977.868 927.29,977.868 939.764,895.36 952.238,895.36 964.712,895.36 \n",
       "  977.187,874.733 989.661,819.727 1002.14,805.976 1014.61,771.598 1027.08,812.852 1039.56,799.1 1052.03,785.349 1064.51,764.722 1076.98,737.219 1089.46,737.219 \n",
       "  1101.93,709.716 1114.4,764.722 1126.88,723.468 1139.35,757.846 1151.83,799.1 1164.3,799.1 1176.78,833.479 1189.25,799.1 1201.72,744.095 1214.2,812.852 \n",
       "  1226.67,819.727 1239.15,867.857 1251.62,881.609 1264.1,867.857 1276.57,867.857 1289.04,888.484 1301.52,867.857 1313.99,819.727 1326.47,819.727 1338.94,764.722 \n",
       "  1351.42,792.225 1363.89,771.598 1376.36,799.1 1388.84,867.857 1401.31,854.106 1413.79,854.106 1426.26,847.23 1438.74,881.609 1451.21,847.23 1463.68,833.479 \n",
       "  1476.16,757.846 1488.63,785.349 1501.11,778.473 1513.58,778.473 1526.06,805.976 1538.53,792.225 1551,826.603 1563.48,826.603 1575.95,819.727 1588.43,854.106 \n",
       "  1600.9,833.479 1613.38,785.349 1625.85,799.1 1638.32,716.592 1650.8,675.338 1663.27,675.338 1675.75,709.716 1688.22,716.592 1700.7,716.592 1713.17,785.349 \n",
       "  1725.64,819.727 1738.12,805.976 1750.59,764.722 1763.07,792.225 1775.54,750.971 1788.02,723.468 1800.49,695.965 1812.97,634.084 1825.44,675.338 1837.91,640.96 \n",
       "  1850.39,654.711 1862.86,647.835 1875.34,668.462 1887.81,668.462 1900.29,709.716 1912.76,682.214 1925.23,702.841 1937.71,778.473 1950.18,812.852 1962.66,840.355 \n",
       "  1975.13,757.846 1987.61,771.598 2000.08,737.219 2012.55,757.846 2025.03,799.1 2037.5,778.473 2049.98,812.852 2062.45,819.727 2074.93,778.473 2087.4,805.976 \n",
       "  2099.87,792.225 2112.35,805.976 2124.82,847.23 2137.3,840.355 2149.77,812.852 2162.25,840.355 2174.72,819.727 2187.19,826.603 2199.67,792.225 2212.14,730.344 \n",
       "  2224.62,682.214 2237.09,654.711 2249.57,640.96 2262.04,627.208 2274.51,627.208 2286.99,661.587 2299.46,647.835 2311.94,654.711 2324.41,661.587 2336.89,661.587 \n",
       "  2349.36,675.338 2361.83,695.965 2374.31,613.457 2386.78,599.705 2399.26,558.451 2411.73,565.327 2424.21,579.078 2436.68,592.83 2449.15,606.581 2461.63,592.83 \n",
       "  2474.1,620.333 2486.58,579.078 2499.05,634.084 2511.53,695.965 2524,689.089 2536.47,709.716 2548.95,778.473 2561.42,716.592 2573.9,682.214 2586.37,695.965 \n",
       "  2598.85,716.592 2611.32,661.587 2623.79,654.711 2636.27,558.451 2648.74,572.203 2661.22,551.576 2673.69,537.824 2686.17,530.949 2698.64,530.949 2711.11,551.576 \n",
       "  2723.59,510.322 2736.06,455.316 2748.54,475.943 2761.01,455.316 2773.49,469.067 2785.96,496.57 2798.43,537.824 2810.91,572.203 2823.38,496.57 2835.86,420.938 \n",
       "  2848.33,386.559 2860.81,414.062 2873.28,372.808 2885.75,379.684 2898.23,393.435 2910.7,407.186 2923.18,475.943 2935.65,475.943 2948.13,462.192 2960.6,400.311 \n",
       "  2973.08,420.938 2985.55,393.435 2998.02,482.819 3010.5,510.322 3022.97,510.322 3035.45,544.7 3047.92,462.192 3060.4,441.565 3072.87,400.311 3085.34,407.186 \n",
       "  3097.82,407.186 3110.29,414.062 3122.77,407.186 3135.24,345.305 3147.72,331.554 3160.19,324.678 3172.66,434.689 3185.14,441.565 3197.61,496.57 3210.09,510.322 \n",
       "  3222.56,427.813 3235.04,503.446 3247.51,455.316 3259.98,427.813 3272.46,427.813 3284.93,441.565 3297.41,414.062 3309.88,489.695 3322.36,434.689 3334.83,441.565 \n",
       "  3347.3,469.067 3359.78,489.695 3372.25,482.819 3384.73,448.44 3397.2,469.067 3409.68,427.813 3422.15,441.565 3434.62,427.813 3447.1,386.559 3459.57,400.311 \n",
       "  \n",
       "  \"/>\n",
       "<polyline clip-path=\"url(#clip422)\" style=\"stroke:#3da44d; stroke-linecap:butt; stroke-linejoin:round; stroke-width:4; stroke-opacity:1; fill:none\" points=\"\n",
       "  353.472,1362.91 365.946,1287.27 378.42,1252.9 390.895,1232.27 403.369,1191.01 415.843,1177.26 428.318,1191.01 440.792,1191.01 453.266,1170.39 465.74,1204.77 \n",
       "  478.215,1211.64 490.689,1246.02 503.163,1232.27 515.638,1239.14 528.112,1280.4 540.586,1273.52 553.061,1294.15 565.535,1273.52 578.009,1225.39 590.483,1184.14 \n",
       "  602.958,1108.51 615.432,1115.38 627.906,1142.88 640.381,1101.63 652.855,1101.63 665.329,1087.88 677.804,1108.51 690.278,1115.38 702.752,1101.63 715.226,1032.87 \n",
       "  727.701,1012.25 740.175,1005.37 752.649,957.241 765.124,922.863 777.598,936.614 790.072,902.236 802.547,799.1 815.021,847.23 827.495,867.857 839.969,902.236 \n",
       "  852.444,881.609 864.918,819.727 877.392,812.852 889.867,785.349 902.341,785.349 914.815,785.349 927.29,785.349 939.764,702.841 952.238,702.841 964.712,702.841 \n",
       "  977.187,668.462 989.661,606.581 1002.14,599.705 1014.61,579.078 1027.08,620.333 1039.56,599.705 1052.03,599.705 1064.51,572.203 1076.98,530.949 1089.46,537.824 \n",
       "  1101.93,510.322 1114.4,585.954 1126.88,558.451 1139.35,572.203 1151.83,613.457 1164.3,599.705 1176.78,634.084 1189.25,606.581 1201.72,551.576 1214.2,606.581 \n",
       "  1226.67,634.084 1239.15,689.089 1251.62,689.089 1264.1,682.214 1276.57,682.214 1289.04,702.841 1301.52,689.089 1313.99,647.835 1326.47,640.96 1338.94,592.83 \n",
       "  1351.42,620.333 1363.89,592.83 1376.36,613.457 1388.84,675.338 1401.31,668.462 1413.79,661.587 1426.26,654.711 1438.74,668.462 1451.21,634.084 1463.68,620.333 \n",
       "  1476.16,558.451 1488.63,585.954 1501.11,592.83 1513.58,599.705 1526.06,613.457 1538.53,599.705 1551,634.084 1563.48,634.084 1575.95,634.084 1588.43,654.711 \n",
       "  1600.9,620.333 1613.38,579.078 1625.85,585.954 1638.32,503.446 1650.8,482.819 1663.27,482.819 1675.75,524.073 1688.22,530.949 1700.7,530.949 1713.17,599.705 \n",
       "  1725.64,640.96 1738.12,620.333 1750.59,592.83 1763.07,620.333 1775.54,592.83 1788.02,585.954 1800.49,592.83 1812.97,496.57 1825.44,558.451 1837.91,524.073 \n",
       "  1850.39,544.7 1862.86,524.073 1875.34,544.7 1887.81,530.949 1900.29,579.078 1912.76,551.576 1925.23,565.327 1937.71,640.96 1950.18,668.462 1962.66,695.965 \n",
       "  1975.13,627.208 1987.61,640.96 2000.08,606.581 2012.55,620.333 2025.03,668.462 2037.5,654.711 2049.98,695.965 2062.45,668.462 2074.93,627.208 2087.4,654.711 \n",
       "  2099.87,627.208 2112.35,647.835 2124.82,689.089 2137.3,675.338 2149.77,654.711 2162.25,668.462 2174.72,654.711 2187.19,661.587 2199.67,627.208 2212.14,572.203 \n",
       "  2224.62,503.446 2237.09,475.943 2249.57,462.192 2262.04,441.565 2274.51,441.565 2286.99,469.067 2299.46,462.192 2311.94,482.819 2324.41,496.57 2336.89,503.446 \n",
       "  2349.36,510.322 2361.83,530.949 2374.31,441.565 2386.78,414.062 2399.26,379.684 2411.73,386.559 2424.21,393.435 2436.68,414.062 2449.15,420.938 2461.63,427.813 \n",
       "  2474.1,434.689 2486.58,400.311 2499.05,455.316 2511.53,530.949 2524,517.197 2536.47,537.824 2548.95,620.333 2561.42,558.451 2573.9,524.073 2586.37,544.7 \n",
       "  2598.85,565.327 2611.32,517.197 2623.79,510.322 2636.27,414.062 2648.74,420.938 2661.22,414.062 2673.69,393.435 2686.17,379.684 2698.64,386.559 2711.11,393.435 \n",
       "  2723.59,359.056 2736.06,297.175 2748.54,324.678 2761.01,297.175 2773.49,304.051 2785.96,352.181 2798.43,407.186 2810.91,441.565 2823.38,372.808 2835.86,365.932 \n",
       "  2848.33,317.802 2860.81,338.429 2873.28,304.051 2885.75,310.927 2898.23,317.802 2910.7,324.678 2923.18,427.813 2935.65,420.938 2948.13,420.938 2960.6,359.056 \n",
       "  2973.08,365.932 2985.55,345.305 2998.02,414.062 3010.5,448.44 3022.97,462.192 3035.45,496.57 3047.92,420.938 3060.4,407.186 3072.87,359.056 3085.34,365.932 \n",
       "  3097.82,365.932 3110.29,359.056 3122.77,372.808 3135.24,317.802 3147.72,297.175 3160.19,310.927 3172.66,407.186 3185.14,393.435 3197.61,475.943 3210.09,482.819 \n",
       "  3222.56,414.062 3235.04,489.695 3247.51,448.44 3259.98,427.813 3272.46,393.435 3284.93,414.062 3297.41,393.435 3309.88,489.695 3322.36,434.689 3334.83,441.565 \n",
       "  3347.3,448.44 3359.78,482.819 3372.25,462.192 3384.73,427.813 3397.2,462.192 3409.68,414.062 3422.15,434.689 3434.62,420.938 3447.1,379.684 3459.57,400.311 \n",
       "  \n",
       "  \"/>\n",
       "<polyline clip-path=\"url(#clip422)\" style=\"stroke:#c271d2; stroke-linecap:butt; stroke-linejoin:round; stroke-width:4; stroke-opacity:1; fill:none\" points=\"\n",
       "  353.472,1074.13 365.946,1012.25 378.42,964.117 390.895,943.49 403.369,902.236 415.843,909.111 428.318,929.738 440.792,943.49 453.266,915.987 465.74,943.49 \n",
       "  478.215,936.614 490.689,964.117 503.163,943.49 515.638,950.365 528.112,991.62 540.586,984.744 553.061,1005.37 565.535,991.62 578.009,936.614 590.483,909.111 \n",
       "  602.958,826.603 615.432,826.603 627.906,833.479 640.381,792.225 652.855,805.976 665.329,792.225 677.804,805.976 690.278,805.976 702.752,771.598 715.226,709.716 \n",
       "  727.701,689.089 740.175,689.089 752.649,627.208 765.124,585.954 777.598,592.83 790.072,537.824 802.547,420.938 815.021,524.073 827.495,537.824 839.969,565.327 \n",
       "  852.444,558.451 864.918,496.57 877.392,503.446 889.867,482.819 902.341,489.695 914.815,482.819 927.29,475.943 939.764,372.808 952.238,393.435 964.712,372.808 \n",
       "  977.187,331.554 989.661,297.175 1002.14,304.051 1014.61,304.051 1027.08,338.429 1039.56,324.678 1052.03,317.802 1064.51,304.051 1076.98,262.797 1089.46,283.424 \n",
       "  1101.93,249.045 1114.4,338.429 1126.88,310.927 1139.35,331.554 1151.83,352.181 1164.3,331.554 1176.78,365.932 1189.25,352.181 1201.72,310.927 1214.2,359.056 \n",
       "  1226.67,372.808 1239.15,427.813 1251.62,434.689 1264.1,420.938 1276.57,414.062 1289.04,434.689 1301.52,441.565 1313.99,400.311 1326.47,393.435 1338.94,352.181 \n",
       "  1351.42,379.684 1363.89,359.056 1376.36,379.684 1388.84,420.938 1401.31,414.062 1413.79,414.062 1426.26,400.311 1438.74,407.186 1451.21,372.808 1463.68,338.429 \n",
       "  1476.16,276.548 1488.63,297.175 1501.11,310.927 1513.58,310.927 1526.06,317.802 1538.53,297.175 1551,324.678 1563.48,331.554 1575.95,324.678 1588.43,359.056 \n",
       "  1600.9,338.429 1613.38,297.175 1625.85,297.175 1638.32,214.667 1650.8,194.04 1663.27,214.667 1675.75,255.921 1688.22,262.797 1700.7,262.797 1713.17,324.678 \n",
       "  1725.64,352.181 1738.12,352.181 1750.59,317.802 1763.07,345.305 1775.54,345.305 1788.02,365.932 1800.49,386.559 1812.97,276.548 1825.44,352.181 1837.91,317.802 \n",
       "  1850.39,338.429 1862.86,304.051 1875.34,317.802 1887.81,324.678 1900.29,372.808 1912.76,352.181 1925.23,352.181 1937.71,420.938 1950.18,441.565 1962.66,469.067 \n",
       "  1975.13,407.186 1987.61,420.938 2000.08,393.435 2012.55,407.186 2025.03,455.316 2037.5,434.689 2049.98,489.695 2062.45,455.316 2074.93,400.311 2087.4,441.565 \n",
       "  2099.87,414.062 2112.35,420.938 2124.82,462.192 2137.3,448.44 2149.77,427.813 2162.25,420.938 2174.72,427.813 2187.19,427.813 2199.67,407.186 2212.14,359.056 \n",
       "  2224.62,290.3 2237.09,262.797 2249.57,242.17 2262.04,214.667 2274.51,207.791 2286.99,228.418 2299.46,207.791 2311.94,228.418 2324.41,262.797 2336.89,255.921 \n",
       "  2349.36,304.051 2361.83,310.927 2374.31,214.667 2386.78,187.164 2399.26,132.159 2411.73,132.159 2424.21,139.035 2436.68,180.289 2449.15,173.413 2461.63,207.791 \n",
       "  2474.1,214.667 2486.58,173.413 2499.05,235.294 2511.53,317.802 2524,310.927 2536.47,345.305 2548.95,427.813 2561.42,372.808 2573.9,331.554 2586.37,352.181 \n",
       "  2598.85,372.808 2611.32,317.802 2623.79,331.554 2636.27,242.17 2648.74,235.294 2661.22,228.418 2673.69,194.04 2686.17,173.413 2698.64,180.289 2711.11,187.164 \n",
       "  2723.59,159.662 2736.06,97.7804 2748.54,132.159 2761.01,104.656 2773.49,111.532 2785.96,180.289 2798.43,242.17 2810.91,269.673 2823.38,221.543 2835.86,249.045 \n",
       "  2848.33,187.164 2860.81,194.04 2873.28,159.662 2885.75,180.289 2898.23,173.413 2910.7,207.791 2923.18,310.927 2935.65,290.3 2948.13,269.673 2960.6,214.667 \n",
       "  2973.08,228.418 2985.55,207.791 2998.02,262.797 3010.5,297.175 3022.97,324.678 3035.45,365.932 3047.92,283.424 3060.4,262.797 3072.87,207.791 3085.34,207.791 \n",
       "  3097.82,207.791 3110.29,214.667 3122.77,228.418 3135.24,180.289 3147.72,145.91 3160.19,166.537 3172.66,249.045 3185.14,235.294 3197.61,310.927 3210.09,338.429 \n",
       "  3222.56,249.045 3235.04,338.429 3247.51,304.051 3259.98,290.3 3272.46,242.17 3284.93,255.921 3297.41,235.294 3309.88,317.802 3322.36,276.548 3334.83,269.673 \n",
       "  3347.3,262.797 3359.78,304.051 3372.25,269.673 3384.73,262.797 3397.2,297.175 3409.68,249.045 3422.15,269.673 3434.62,255.921 3447.1,228.418 3459.57,255.921 \n",
       "  \n",
       "  \"/>\n",
       "<polyline clip-path=\"url(#clip422)\" style=\"stroke:#ac8d18; stroke-linecap:butt; stroke-linejoin:round; stroke-width:4; stroke-opacity:1; fill:none\" points=\"\n",
       "  353.472,1019.12 365.946,957.241 378.42,902.236 390.895,881.609 403.369,847.23 415.843,847.23 428.318,874.733 440.792,902.236 453.266,874.733 465.74,902.236 \n",
       "  478.215,902.236 490.689,909.111 503.163,888.484 515.638,895.36 528.112,936.614 540.586,929.738 553.061,950.365 565.535,943.49 578.009,881.609 590.483,881.609 \n",
       "  602.958,799.1 615.432,785.349 627.906,799.1 640.381,750.971 652.855,771.598 665.329,764.722 677.804,778.473 690.278,785.349 702.752,744.095 715.226,695.965 \n",
       "  727.701,695.965 740.175,668.462 752.649,613.457 765.124,572.203 777.598,579.078 790.072,530.949 802.547,469.067 815.021,572.203 827.495,565.327 839.969,585.954 \n",
       "  852.444,572.203 864.918,524.073 877.392,537.824 889.867,517.197 902.341,530.949 914.815,530.949 927.29,517.197 939.764,420.938 952.238,434.689 964.712,434.689 \n",
       "  977.187,386.559 989.661,359.056 1002.14,365.932 1014.61,372.808 1027.08,393.435 1039.56,379.684 1052.03,372.808 1064.51,359.056 1076.98,317.802 1089.46,345.305 \n",
       "  1101.93,297.175 1114.4,386.559 1126.88,372.808 1139.35,400.311 1151.83,427.813 1164.3,393.435 1176.78,420.938 1189.25,407.186 1201.72,379.684 1214.2,420.938 \n",
       "  1226.67,427.813 1239.15,489.695 1251.62,482.819 1264.1,469.067 1276.57,455.316 1289.04,482.819 1301.52,482.819 1313.99,448.44 1326.47,441.565 1338.94,400.311 \n",
       "  1351.42,427.813 1363.89,400.311 1376.36,414.062 1388.84,448.44 1401.31,448.44 1413.79,455.316 1426.26,448.44 1438.74,455.316 1451.21,407.186 1463.68,379.684 \n",
       "  1476.16,324.678 1488.63,338.429 1501.11,359.056 1513.58,365.932 1526.06,359.056 1538.53,359.056 1551,379.684 1563.48,386.559 1575.95,379.684 1588.43,400.311 \n",
       "  1600.9,379.684 1613.38,345.305 1625.85,345.305 1638.32,269.673 1650.8,269.673 1663.27,290.3 1675.75,338.429 1688.22,345.305 1700.7,345.305 1713.17,414.062 \n",
       "  1725.64,427.813 1738.12,434.689 1750.59,414.062 1763.07,427.813 1775.54,427.813 1788.02,455.316 1800.49,489.695 1812.97,386.559 1825.44,441.565 1837.91,414.062 \n",
       "  1850.39,434.689 1862.86,400.311 1875.34,427.813 1887.81,434.689 1900.29,482.819 1912.76,462.192 1925.23,455.316 1937.71,503.446 1950.18,530.949 1962.66,544.7 \n",
       "  1975.13,496.57 1987.61,524.073 2000.08,489.695 2012.55,510.322 2025.03,558.451 2037.5,530.949 2049.98,606.581 2062.45,565.327 2074.93,524.073 2087.4,558.451 \n",
       "  2099.87,537.824 2112.35,537.824 2124.82,579.078 2137.3,572.203 2149.77,558.451 2162.25,537.824 2174.72,551.576 2187.19,544.7 2199.67,530.949 2212.14,475.943 \n",
       "  2224.62,393.435 2237.09,365.932 2249.57,352.181 2262.04,297.175 2274.51,283.424 2286.99,310.927 2299.46,304.051 2311.94,324.678 2324.41,365.932 2336.89,379.684 \n",
       "  2349.36,400.311 2361.83,407.186 2374.31,317.802 2386.78,297.175 2399.26,255.921 2411.73,249.045 2424.21,249.045 2436.68,262.797 2449.15,276.548 2461.63,304.051 \n",
       "  2474.1,304.051 2486.58,255.921 2499.05,324.678 2511.53,407.186 2524,393.435 2536.47,427.813 2548.95,517.197 2561.42,462.192 2573.9,434.689 2586.37,434.689 \n",
       "  2598.85,462.192 2611.32,407.186 2623.79,414.062 2636.27,331.554 2648.74,331.554 2661.22,324.678 2673.69,283.424 2686.17,269.673 2698.64,269.673 2711.11,290.3 \n",
       "  2723.59,262.797 2736.06,194.04 2748.54,228.418 2761.01,207.791 2773.49,214.667 2785.96,290.3 2798.43,338.429 2810.91,359.056 2823.38,345.305 2835.86,365.932 \n",
       "  2848.33,304.051 2860.81,297.175 2873.28,276.548 2885.75,297.175 2898.23,290.3 2910.7,317.802 2923.18,420.938 2935.65,434.689 2948.13,427.813 2960.6,359.056 \n",
       "  2973.08,365.932 2985.55,352.181 2998.02,393.435 3010.5,427.813 3022.97,462.192 3035.45,517.197 3047.92,441.565 3060.4,414.062 3072.87,359.056 3085.34,359.056 \n",
       "  3097.82,359.056 3110.29,352.181 3122.77,365.932 3135.24,331.554 3147.72,290.3 3160.19,317.802 3172.66,386.559 3185.14,379.684 3197.61,462.192 3210.09,496.57 \n",
       "  3222.56,434.689 3235.04,503.446 3247.51,475.943 3259.98,455.316 3272.46,407.186 3284.93,400.311 3297.41,372.808 3309.88,462.192 3322.36,434.689 3334.83,420.938 \n",
       "  3347.3,414.062 3359.78,462.192 3372.25,427.813 3384.73,400.311 3397.2,441.565 3409.68,393.435 3422.15,420.938 3434.62,407.186 3447.1,372.808 3459.57,414.062 \n",
       "  \n",
       "  \"/>\n",
       "<path clip-path=\"url(#clip420)\" d=\"\n",
       "M2991.27 417.805 L3443.01 417.805 L3443.01 106.765 L2991.27 106.765  Z\n",
       "  \" fill=\"#ffffff\" fill-rule=\"evenodd\" fill-opacity=\"1\"/>\n",
       "<polyline clip-path=\"url(#clip420)\" style=\"stroke:#000000; stroke-linecap:butt; stroke-linejoin:round; stroke-width:4; stroke-opacity:1; fill:none\" points=\"\n",
       "  2991.27,417.805 3443.01,417.805 3443.01,106.765 2991.27,106.765 2991.27,417.805 \n",
       "  \"/>\n",
       "<polyline clip-path=\"url(#clip420)\" style=\"stroke:#009af9; stroke-linecap:butt; stroke-linejoin:round; stroke-width:4; stroke-opacity:1; fill:none\" points=\"\n",
       "  3027.86,158.605 3247.36,158.605 \n",
       "  \"/>\n",
       "<path clip-path=\"url(#clip420)\" d=\"M3285.4 141.325 L3303.75 141.325 L3303.75 145.26 L3289.68 145.26 L3289.68 153.732 Q3290.7 153.385 3291.72 153.223 Q3292.73 153.038 3293.75 153.038 Q3299.54 153.038 3302.92 156.209 Q3306.3 159.38 3306.3 164.797 Q3306.3 170.375 3302.83 173.477 Q3299.36 176.556 3293.04 176.556 Q3290.86 176.556 3288.59 176.186 Q3286.35 175.815 3283.94 175.074 L3283.94 170.375 Q3286.02 171.51 3288.24 172.065 Q3290.47 172.621 3292.94 172.621 Q3296.95 172.621 3299.29 170.514 Q3301.62 168.408 3301.62 164.797 Q3301.62 161.186 3299.29 159.079 Q3296.95 156.973 3292.94 156.973 Q3291.07 156.973 3289.19 157.389 Q3287.34 157.806 3285.4 158.686 L3285.4 141.325 Z\" fill=\"#000000\" fill-rule=\"evenodd\" fill-opacity=\"1\" /><path clip-path=\"url(#clip420)\" d=\"M3310.35 141.325 L3315.37 141.325 L3324.96 155.538 L3334.47 141.325 L3339.49 141.325 L3327.27 159.426 L3327.27 175.885 L3322.57 175.885 L3322.57 159.426 L3310.35 141.325 Z\" fill=\"#000000\" fill-rule=\"evenodd\" fill-opacity=\"1\" /><polyline clip-path=\"url(#clip420)\" style=\"stroke:#e26f46; stroke-linecap:butt; stroke-linejoin:round; stroke-width:4; stroke-opacity:1; fill:none\" points=\"\n",
       "  3027.86,210.445 3247.36,210.445 \n",
       "  \"/>\n",
       "<path clip-path=\"url(#clip420)\" d=\"M3283.94 193.165 L3306.16 193.165 L3306.16 195.155 L3293.61 227.725 L3288.73 227.725 L3300.54 197.1 L3283.94 197.1 L3283.94 193.165 Z\" fill=\"#000000\" fill-rule=\"evenodd\" fill-opacity=\"1\" /><path clip-path=\"url(#clip420)\" d=\"M3310.12 193.165 L3315.14 193.165 L3324.73 207.378 L3334.24 193.165 L3339.26 193.165 L3327.04 211.266 L3327.04 227.725 L3322.34 227.725 L3322.34 211.266 L3310.12 193.165 Z\" fill=\"#000000\" fill-rule=\"evenodd\" fill-opacity=\"1\" /><polyline clip-path=\"url(#clip420)\" style=\"stroke:#3da44d; stroke-linecap:butt; stroke-linejoin:round; stroke-width:4; stroke-opacity:1; fill:none\" points=\"\n",
       "  3027.86,262.285 3247.36,262.285 \n",
       "  \"/>\n",
       "<path clip-path=\"url(#clip420)\" d=\"M3284.61 275.629 L3292.25 275.629 L3292.25 249.264 L3283.94 250.931 L3283.94 246.671 L3292.2 245.005 L3296.88 245.005 L3296.88 275.629 L3304.52 275.629 L3304.52 279.565 L3284.61 279.565 L3284.61 275.629 Z\" fill=\"#000000\" fill-rule=\"evenodd\" fill-opacity=\"1\" /><path clip-path=\"url(#clip420)\" d=\"M3323.96 248.083 Q3320.35 248.083 3318.52 251.648 Q3316.72 255.19 3316.72 262.319 Q3316.72 269.426 3318.52 272.991 Q3320.35 276.532 3323.96 276.532 Q3327.6 276.532 3329.4 272.991 Q3331.23 269.426 3331.23 262.319 Q3331.23 255.19 3329.4 251.648 Q3327.6 248.083 3323.96 248.083 M3323.96 244.38 Q3329.77 244.38 3332.83 248.986 Q3335.91 253.569 3335.91 262.319 Q3335.91 271.046 3332.83 275.653 Q3329.77 280.236 3323.96 280.236 Q3318.15 280.236 3315.07 275.653 Q3312.02 271.046 3312.02 262.319 Q3312.02 253.569 3315.07 248.986 Q3318.15 244.38 3323.96 244.38 Z\" fill=\"#000000\" fill-rule=\"evenodd\" fill-opacity=\"1\" /><path clip-path=\"url(#clip420)\" d=\"M3338.96 245.005 L3343.98 245.005 L3353.57 259.218 L3363.08 245.005 L3368.1 245.005 L3355.88 263.106 L3355.88 279.565 L3351.18 279.565 L3351.18 263.106 L3338.96 245.005 Z\" fill=\"#000000\" fill-rule=\"evenodd\" fill-opacity=\"1\" /><polyline clip-path=\"url(#clip420)\" style=\"stroke:#c271d2; stroke-linecap:butt; stroke-linejoin:round; stroke-width:4; stroke-opacity:1; fill:none\" points=\"\n",
       "  3027.86,314.125 3247.36,314.125 \n",
       "  \"/>\n",
       "<path clip-path=\"url(#clip420)\" d=\"M3289.56 327.469 L3305.88 327.469 L3305.88 331.405 L3283.94 331.405 L3283.94 327.469 Q3286.6 324.715 3291.18 320.085 Q3295.79 315.432 3296.97 314.09 Q3299.22 311.567 3300.1 309.831 Q3301 308.071 3301 306.382 Q3301 303.627 3299.05 301.891 Q3297.13 300.155 3294.03 300.155 Q3291.83 300.155 3289.38 300.919 Q3286.95 301.683 3284.17 303.233 L3284.17 298.511 Q3286.99 297.377 3289.45 296.798 Q3291.9 296.22 3293.94 296.22 Q3299.31 296.22 3302.5 298.905 Q3305.7 301.59 3305.7 306.081 Q3305.7 308.21 3304.89 310.132 Q3304.1 312.03 3301.99 314.622 Q3301.42 315.294 3298.31 318.511 Q3295.21 321.706 3289.56 327.469 Z\" fill=\"#000000\" fill-rule=\"evenodd\" fill-opacity=\"1\" /><path clip-path=\"url(#clip420)\" d=\"M3325.7 299.923 Q3322.09 299.923 3320.26 303.488 Q3318.45 307.03 3318.45 314.159 Q3318.45 321.266 3320.26 324.831 Q3322.09 328.372 3325.7 328.372 Q3329.33 328.372 3331.14 324.831 Q3332.97 321.266 3332.97 314.159 Q3332.97 307.03 3331.14 303.488 Q3329.33 299.923 3325.7 299.923 M3325.7 296.22 Q3331.51 296.22 3334.56 300.826 Q3337.64 305.409 3337.64 314.159 Q3337.64 322.886 3334.56 327.493 Q3331.51 332.076 3325.7 332.076 Q3319.89 332.076 3316.81 327.493 Q3313.75 322.886 3313.75 314.159 Q3313.75 305.409 3316.81 300.826 Q3319.89 296.22 3325.7 296.22 Z\" fill=\"#000000\" fill-rule=\"evenodd\" fill-opacity=\"1\" /><path clip-path=\"url(#clip420)\" d=\"M3340.7 296.845 L3345.72 296.845 L3355.3 311.058 L3364.82 296.845 L3369.84 296.845 L3357.62 314.946 L3357.62 331.405 L3352.92 331.405 L3352.92 314.946 L3340.7 296.845 Z\" fill=\"#000000\" fill-rule=\"evenodd\" fill-opacity=\"1\" /><polyline clip-path=\"url(#clip420)\" style=\"stroke:#ac8d18; stroke-linecap:butt; stroke-linejoin:round; stroke-width:4; stroke-opacity:1; fill:none\" points=\"\n",
       "  3027.86,365.965 3247.36,365.965 \n",
       "  \"/>\n",
       "<path clip-path=\"url(#clip420)\" d=\"M3299.56 364.61 Q3302.92 365.328 3304.8 367.597 Q3306.69 369.865 3306.69 373.198 Q3306.69 378.314 3303.17 381.115 Q3299.66 383.916 3293.17 383.916 Q3291 383.916 3288.68 383.476 Q3286.39 383.059 3283.94 382.203 L3283.94 377.689 Q3285.88 378.823 3288.2 379.402 Q3290.51 379.981 3293.04 379.981 Q3297.43 379.981 3299.73 378.245 Q3302.04 376.509 3302.04 373.198 Q3302.04 370.143 3299.89 368.43 Q3297.76 366.694 3293.94 366.694 L3289.91 366.694 L3289.91 362.851 L3294.12 362.851 Q3297.57 362.851 3299.4 361.485 Q3301.23 360.097 3301.23 357.504 Q3301.23 354.842 3299.33 353.43 Q3297.46 351.995 3293.94 351.995 Q3292.02 351.995 3289.82 352.411 Q3287.62 352.828 3284.98 353.708 L3284.98 349.541 Q3287.64 348.8 3289.96 348.43 Q3292.3 348.06 3294.36 348.06 Q3299.68 348.06 3302.78 350.49 Q3305.88 352.898 3305.88 357.018 Q3305.88 359.888 3304.24 361.879 Q3302.6 363.847 3299.56 364.61 Z\" fill=\"#000000\" fill-rule=\"evenodd\" fill-opacity=\"1\" /><path clip-path=\"url(#clip420)\" d=\"M3325.56 351.763 Q3321.95 351.763 3320.12 355.328 Q3318.31 358.87 3318.31 365.999 Q3318.31 373.106 3320.12 376.671 Q3321.95 380.212 3325.56 380.212 Q3329.19 380.212 3331 376.671 Q3332.83 373.106 3332.83 365.999 Q3332.83 358.87 3331 355.328 Q3329.19 351.763 3325.56 351.763 M3325.56 348.06 Q3331.37 348.06 3334.42 352.666 Q3337.5 357.249 3337.5 365.999 Q3337.5 374.726 3334.42 379.333 Q3331.37 383.916 3325.56 383.916 Q3319.75 383.916 3316.67 379.333 Q3313.61 374.726 3313.61 365.999 Q3313.61 357.249 3316.67 352.666 Q3319.75 348.06 3325.56 348.06 Z\" fill=\"#000000\" fill-rule=\"evenodd\" fill-opacity=\"1\" /><path clip-path=\"url(#clip420)\" d=\"M3340.56 348.685 L3345.58 348.685 L3355.17 362.898 L3364.68 348.685 L3369.7 348.685 L3357.48 366.786 L3357.48 383.245 L3352.78 383.245 L3352.78 366.786 L3340.56 348.685 Z\" fill=\"#000000\" fill-rule=\"evenodd\" fill-opacity=\"1\" /></svg>\n"
      ]
     },
     "execution_count": 23,
     "metadata": {},
     "output_type": "execute_result"
    }
   ],
   "source": [
    "include(\"helpers.jl\"); using Plots\n",
    "\n",
    "s = tnf\n",
    "lb = [\"5Y\", \"7Y\", \"10Y\", \"20Y\", \"30Y\"]; s_train, s_test, p = h1(s, lb, 1); p"
   ]
  },
  {
   "cell_type": "markdown",
   "id": "extra-novel",
   "metadata": {},
   "source": [
    "I will be analysing correlation across maturities in `Treas TS Analysis II PIII`, where I will be taking in-depth analysis on correlation, residuals and heteroscedastic models."
   ]
  },
  {
   "cell_type": "markdown",
   "id": "gorgeous-empire",
   "metadata": {},
   "source": [
    "### Differencing Time Series"
   ]
  },
  {
   "cell_type": "markdown",
   "id": "sapphire-butter",
   "metadata": {},
   "source": [
    "Earlier, I had taken first-differences without first taking the **logarithm** of the yield curve rates, but if I want to use the Akiake Information Criterion, this would not work, because the $\\text{AIC}$ applies a log-likelihood function to the model."
   ]
  },
  {
   "cell_type": "markdown",
   "id": "quick-stopping",
   "metadata": {},
   "source": [
    "I am taking **first-differences of the log-transformed** time series data, choosing a lag of one (1) for marginal differences. This will not tell me whether or not the logarithm of the data is normally distributed but I would know whether or not the values themselves are normally distributed, using a **J-B Test**."
   ]
  },
  {
   "cell_type": "markdown",
   "id": "surprising-prairie",
   "metadata": {},
   "source": [
    "Before I log-transform the inflation series, I need to test for negative values, which I will need to do, given that logarithms do not work for negative values."
   ]
  },
  {
   "cell_type": "code",
   "execution_count": 24,
   "id": "together-equation",
   "metadata": {},
   "outputs": [
    {
     "data": {
      "text/plain": [
       "5-element Array{Int64,1}:\n",
       " 37\n",
       " 21\n",
       "  1\n",
       "  0\n",
       "  0"
      ]
     },
     "execution_count": 24,
     "metadata": {},
     "output_type": "execute_result"
    }
   ],
   "source": [
    "h5(s_train)"
   ]
  },
  {
   "cell_type": "markdown",
   "id": "17fef6af-b846-4189-ab50-e6ccbdc07326",
   "metadata": {},
   "source": [
    "Since I do find negative values in the inflation rates, I will try to apply"
   ]
  },
  {
   "cell_type": "code",
   "execution_count": 25,
   "id": "62045ea1-b925-4b9f-aeba-1d710c77fd8f",
   "metadata": {},
   "outputs": [
    {
     "data": {
      "text/html": [
       "<div class=\"data-frame\"><p>250 rows × 5 columns</p><table class=\"data-frame\"><thead><tr><th></th><th>x5</th><th>x7</th><th>x10</th><th>x20</th><th>x30</th></tr><tr><th></th><th title=\"Bool\">Bool</th><th title=\"Bool\">Bool</th><th title=\"Bool\">Bool</th><th title=\"Bool\">Bool</th><th title=\"Bool\">Bool</th></tr></thead><tbody><tr><th>1</th><td>1</td><td>1</td><td>1</td><td>0</td><td>0</td></tr><tr><th>2</th><td>1</td><td>1</td><td>0</td><td>0</td><td>0</td></tr><tr><th>3</th><td>1</td><td>1</td><td>0</td><td>0</td><td>0</td></tr><tr><th>4</th><td>1</td><td>1</td><td>0</td><td>0</td><td>0</td></tr><tr><th>5</th><td>1</td><td>1</td><td>0</td><td>0</td><td>0</td></tr><tr><th>6</th><td>1</td><td>1</td><td>0</td><td>0</td><td>0</td></tr><tr><th>7</th><td>1</td><td>1</td><td>0</td><td>0</td><td>0</td></tr><tr><th>8</th><td>1</td><td>1</td><td>0</td><td>0</td><td>0</td></tr><tr><th>9</th><td>1</td><td>1</td><td>0</td><td>0</td><td>0</td></tr><tr><th>10</th><td>1</td><td>1</td><td>0</td><td>0</td><td>0</td></tr><tr><th>11</th><td>1</td><td>1</td><td>0</td><td>0</td><td>0</td></tr><tr><th>12</th><td>1</td><td>1</td><td>0</td><td>0</td><td>0</td></tr><tr><th>13</th><td>1</td><td>1</td><td>0</td><td>0</td><td>0</td></tr><tr><th>14</th><td>1</td><td>1</td><td>0</td><td>0</td><td>0</td></tr><tr><th>15</th><td>1</td><td>1</td><td>0</td><td>0</td><td>0</td></tr><tr><th>16</th><td>1</td><td>1</td><td>0</td><td>0</td><td>0</td></tr><tr><th>17</th><td>1</td><td>1</td><td>0</td><td>0</td><td>0</td></tr><tr><th>18</th><td>1</td><td>1</td><td>0</td><td>0</td><td>0</td></tr><tr><th>19</th><td>1</td><td>1</td><td>0</td><td>0</td><td>0</td></tr><tr><th>20</th><td>1</td><td>1</td><td>0</td><td>0</td><td>0</td></tr><tr><th>21</th><td>1</td><td>0</td><td>0</td><td>0</td><td>0</td></tr><tr><th>22</th><td>1</td><td>0</td><td>0</td><td>0</td><td>0</td></tr><tr><th>23</th><td>1</td><td>1</td><td>0</td><td>0</td><td>0</td></tr><tr><th>24</th><td>1</td><td>0</td><td>0</td><td>0</td><td>0</td></tr><tr><th>25</th><td>1</td><td>0</td><td>0</td><td>0</td><td>0</td></tr><tr><th>26</th><td>1</td><td>0</td><td>0</td><td>0</td><td>0</td></tr><tr><th>27</th><td>1</td><td>0</td><td>0</td><td>0</td><td>0</td></tr><tr><th>28</th><td>1</td><td>0</td><td>0</td><td>0</td><td>0</td></tr><tr><th>29</th><td>1</td><td>0</td><td>0</td><td>0</td><td>0</td></tr><tr><th>30</th><td>1</td><td>0</td><td>0</td><td>0</td><td>0</td></tr><tr><th>&vellip;</th><td>&vellip;</td><td>&vellip;</td><td>&vellip;</td><td>&vellip;</td><td>&vellip;</td></tr></tbody></table></div>"
      ],
      "text/latex": [
       "\\begin{tabular}{r|ccccc}\n",
       "\t& x5 & x7 & x10 & x20 & x30\\\\\n",
       "\t\\hline\n",
       "\t& Bool & Bool & Bool & Bool & Bool\\\\\n",
       "\t\\hline\n",
       "\t1 & 1 & 1 & 1 & 0 & 0 \\\\\n",
       "\t2 & 1 & 1 & 0 & 0 & 0 \\\\\n",
       "\t3 & 1 & 1 & 0 & 0 & 0 \\\\\n",
       "\t4 & 1 & 1 & 0 & 0 & 0 \\\\\n",
       "\t5 & 1 & 1 & 0 & 0 & 0 \\\\\n",
       "\t6 & 1 & 1 & 0 & 0 & 0 \\\\\n",
       "\t7 & 1 & 1 & 0 & 0 & 0 \\\\\n",
       "\t8 & 1 & 1 & 0 & 0 & 0 \\\\\n",
       "\t9 & 1 & 1 & 0 & 0 & 0 \\\\\n",
       "\t10 & 1 & 1 & 0 & 0 & 0 \\\\\n",
       "\t11 & 1 & 1 & 0 & 0 & 0 \\\\\n",
       "\t12 & 1 & 1 & 0 & 0 & 0 \\\\\n",
       "\t13 & 1 & 1 & 0 & 0 & 0 \\\\\n",
       "\t14 & 1 & 1 & 0 & 0 & 0 \\\\\n",
       "\t15 & 1 & 1 & 0 & 0 & 0 \\\\\n",
       "\t16 & 1 & 1 & 0 & 0 & 0 \\\\\n",
       "\t17 & 1 & 1 & 0 & 0 & 0 \\\\\n",
       "\t18 & 1 & 1 & 0 & 0 & 0 \\\\\n",
       "\t19 & 1 & 1 & 0 & 0 & 0 \\\\\n",
       "\t20 & 1 & 1 & 0 & 0 & 0 \\\\\n",
       "\t21 & 1 & 0 & 0 & 0 & 0 \\\\\n",
       "\t22 & 1 & 0 & 0 & 0 & 0 \\\\\n",
       "\t23 & 1 & 1 & 0 & 0 & 0 \\\\\n",
       "\t24 & 1 & 0 & 0 & 0 & 0 \\\\\n",
       "\t25 & 1 & 0 & 0 & 0 & 0 \\\\\n",
       "\t26 & 1 & 0 & 0 & 0 & 0 \\\\\n",
       "\t27 & 1 & 0 & 0 & 0 & 0 \\\\\n",
       "\t28 & 1 & 0 & 0 & 0 & 0 \\\\\n",
       "\t29 & 1 & 0 & 0 & 0 & 0 \\\\\n",
       "\t30 & 1 & 0 & 0 & 0 & 0 \\\\\n",
       "\t$\\dots$ & $\\dots$ & $\\dots$ & $\\dots$ & $\\dots$ & $\\dots$ \\\\\n",
       "\\end{tabular}\n"
      ],
      "text/plain": [
       "\u001b[1m250×5 DataFrame\u001b[0m\n",
       "\u001b[1m Row \u001b[0m│\u001b[1m x5    \u001b[0m\u001b[1m x7    \u001b[0m\u001b[1m x10   \u001b[0m\u001b[1m x20   \u001b[0m\u001b[1m x30   \u001b[0m\n",
       "\u001b[1m     \u001b[0m│\u001b[90m Bool  \u001b[0m\u001b[90m Bool  \u001b[0m\u001b[90m Bool  \u001b[0m\u001b[90m Bool  \u001b[0m\u001b[90m Bool  \u001b[0m\n",
       "─────┼───────────────────────────────────\n",
       "   1 │  true   true   true  false  false\n",
       "   2 │  true   true  false  false  false\n",
       "   3 │  true   true  false  false  false\n",
       "   4 │  true   true  false  false  false\n",
       "   5 │  true   true  false  false  false\n",
       "   6 │  true   true  false  false  false\n",
       "   7 │  true   true  false  false  false\n",
       "   8 │  true   true  false  false  false\n",
       "   9 │  true   true  false  false  false\n",
       "  10 │  true   true  false  false  false\n",
       "  11 │  true   true  false  false  false\n",
       "  ⋮  │   ⋮      ⋮      ⋮      ⋮      ⋮\n",
       " 241 │ false  false  false  false  false\n",
       " 242 │ false  false  false  false  false\n",
       " 243 │ false  false  false  false  false\n",
       " 244 │ false  false  false  false  false\n",
       " 245 │ false  false  false  false  false\n",
       " 246 │ false  false  false  false  false\n",
       " 247 │ false  false  false  false  false\n",
       " 248 │ false  false  false  false  false\n",
       " 249 │ false  false  false  false  false\n",
       " 250 │ false  false  false  false  false\n",
       "\u001b[36m                         229 rows omitted\u001b[0m"
      ]
     },
     "execution_count": 25,
     "metadata": {},
     "output_type": "execute_result"
    }
   ],
   "source": [
    "B = s_train .< 0"
   ]
  },
  {
   "cell_type": "markdown",
   "id": "f3089f02-3dc8-467d-8c71-271db9558d66",
   "metadata": {},
   "source": [
    "which is a boolean matrix, similar to the one I used in `Treas Exploratory Analysis`. Replacing these negative values with identifiers"
   ]
  },
  {
   "cell_type": "code",
   "execution_count": 29,
   "id": "78390873-b21a-4554-817d-54d8a3901f98",
   "metadata": {},
   "outputs": [],
   "source": [
    "for I in 1:size(B)[1]\n",
    "    for J in 1:size(B)[2]\n",
    "        if B[I, J] == 1\n",
    "            s_train[I, J] = 1\n",
    "        end\n",
    "    end\n",
    "end"
   ]
  },
  {
   "cell_type": "code",
   "execution_count": 28,
   "id": "f7bdbb95-ff4a-4220-987c-d5730ac03e61",
   "metadata": {},
   "outputs": [
    {
     "data": {
      "text/html": [
       "<div class=\"data-frame\"><p>250 rows × 5 columns</p><table class=\"data-frame\"><thead><tr><th></th><th>x5</th><th>x7</th><th>x10</th><th>x20</th><th>x30</th></tr><tr><th></th><th title=\"Float64\">Float64</th><th title=\"Float64\">Float64</th><th title=\"Float64\">Float64</th><th title=\"Float64\">Float64</th><th title=\"Float64\">Float64</th></tr></thead><tbody><tr><th>1</th><td>1.0</td><td>1.0</td><td>1.0</td><td>0.39</td><td>0.47</td></tr><tr><th>2</th><td>1.0</td><td>1.0</td><td>0.08</td><td>0.48</td><td>0.56</td></tr><tr><th>3</th><td>1.0</td><td>1.0</td><td>0.13</td><td>0.55</td><td>0.64</td></tr><tr><th>4</th><td>1.0</td><td>1.0</td><td>0.16</td><td>0.58</td><td>0.67</td></tr><tr><th>5</th><td>1.0</td><td>1.0</td><td>0.22</td><td>0.64</td><td>0.72</td></tr><tr><th>6</th><td>1.0</td><td>1.0</td><td>0.24</td><td>0.63</td><td>0.72</td></tr><tr><th>7</th><td>1.0</td><td>1.0</td><td>0.22</td><td>0.6</td><td>0.68</td></tr><tr><th>8</th><td>1.0</td><td>1.0</td><td>0.22</td><td>0.58</td><td>0.64</td></tr><tr><th>9</th><td>1.0</td><td>1.0</td><td>0.25</td><td>0.62</td><td>0.68</td></tr><tr><th>10</th><td>1.0</td><td>1.0</td><td>0.2</td><td>0.58</td><td>0.64</td></tr><tr><th>11</th><td>1.0</td><td>1.0</td><td>0.19</td><td>0.59</td><td>0.64</td></tr><tr><th>12</th><td>1.0</td><td>1.0</td><td>0.14</td><td>0.55</td><td>0.63</td></tr><tr><th>13</th><td>1.0</td><td>1.0</td><td>0.16</td><td>0.58</td><td>0.66</td></tr><tr><th>14</th><td>1.0</td><td>1.0</td><td>0.15</td><td>0.57</td><td>0.65</td></tr><tr><th>15</th><td>1.0</td><td>1.0</td><td>0.09</td><td>0.51</td><td>0.59</td></tr><tr><th>16</th><td>1.0</td><td>1.0</td><td>0.1</td><td>0.52</td><td>0.6</td></tr><tr><th>17</th><td>1.0</td><td>1.0</td><td>0.07</td><td>0.49</td><td>0.57</td></tr><tr><th>18</th><td>1.0</td><td>1.0</td><td>0.1</td><td>0.51</td><td>0.58</td></tr><tr><th>19</th><td>1.0</td><td>1.0</td><td>0.17</td><td>0.59</td><td>0.67</td></tr><tr><th>20</th><td>1.0</td><td>1.0</td><td>0.23</td><td>0.63</td><td>0.67</td></tr><tr><th>21</th><td>1.0</td><td>0.04</td><td>0.34</td><td>0.75</td><td>0.79</td></tr><tr><th>22</th><td>1.0</td><td>0.01</td><td>0.33</td><td>0.75</td><td>0.81</td></tr><tr><th>23</th><td>1.0</td><td>1.0</td><td>0.29</td><td>0.74</td><td>0.79</td></tr><tr><th>24</th><td>1.0</td><td>0.02</td><td>0.35</td><td>0.8</td><td>0.86</td></tr><tr><th>25</th><td>1.0</td><td>0.02</td><td>0.35</td><td>0.78</td><td>0.83</td></tr><tr><th>26</th><td>1.0</td><td>0.04</td><td>0.37</td><td>0.8</td><td>0.84</td></tr><tr><th>27</th><td>1.0</td><td>0.03</td><td>0.34</td><td>0.78</td><td>0.82</td></tr><tr><th>28</th><td>1.0</td><td>0.01</td><td>0.33</td><td>0.78</td><td>0.81</td></tr><tr><th>29</th><td>1.0</td><td>0.04</td><td>0.35</td><td>0.83</td><td>0.87</td></tr><tr><th>30</th><td>1.0</td><td>0.14</td><td>0.45</td><td>0.92</td><td>0.94</td></tr><tr><th>&vellip;</th><td>&vellip;</td><td>&vellip;</td><td>&vellip;</td><td>&vellip;</td><td>&vellip;</td></tr></tbody></table></div>"
      ],
      "text/latex": [
       "\\begin{tabular}{r|ccccc}\n",
       "\t& x5 & x7 & x10 & x20 & x30\\\\\n",
       "\t\\hline\n",
       "\t& Float64 & Float64 & Float64 & Float64 & Float64\\\\\n",
       "\t\\hline\n",
       "\t1 & 1.0 & 1.0 & 1.0 & 0.39 & 0.47 \\\\\n",
       "\t2 & 1.0 & 1.0 & 0.08 & 0.48 & 0.56 \\\\\n",
       "\t3 & 1.0 & 1.0 & 0.13 & 0.55 & 0.64 \\\\\n",
       "\t4 & 1.0 & 1.0 & 0.16 & 0.58 & 0.67 \\\\\n",
       "\t5 & 1.0 & 1.0 & 0.22 & 0.64 & 0.72 \\\\\n",
       "\t6 & 1.0 & 1.0 & 0.24 & 0.63 & 0.72 \\\\\n",
       "\t7 & 1.0 & 1.0 & 0.22 & 0.6 & 0.68 \\\\\n",
       "\t8 & 1.0 & 1.0 & 0.22 & 0.58 & 0.64 \\\\\n",
       "\t9 & 1.0 & 1.0 & 0.25 & 0.62 & 0.68 \\\\\n",
       "\t10 & 1.0 & 1.0 & 0.2 & 0.58 & 0.64 \\\\\n",
       "\t11 & 1.0 & 1.0 & 0.19 & 0.59 & 0.64 \\\\\n",
       "\t12 & 1.0 & 1.0 & 0.14 & 0.55 & 0.63 \\\\\n",
       "\t13 & 1.0 & 1.0 & 0.16 & 0.58 & 0.66 \\\\\n",
       "\t14 & 1.0 & 1.0 & 0.15 & 0.57 & 0.65 \\\\\n",
       "\t15 & 1.0 & 1.0 & 0.09 & 0.51 & 0.59 \\\\\n",
       "\t16 & 1.0 & 1.0 & 0.1 & 0.52 & 0.6 \\\\\n",
       "\t17 & 1.0 & 1.0 & 0.07 & 0.49 & 0.57 \\\\\n",
       "\t18 & 1.0 & 1.0 & 0.1 & 0.51 & 0.58 \\\\\n",
       "\t19 & 1.0 & 1.0 & 0.17 & 0.59 & 0.67 \\\\\n",
       "\t20 & 1.0 & 1.0 & 0.23 & 0.63 & 0.67 \\\\\n",
       "\t21 & 1.0 & 0.04 & 0.34 & 0.75 & 0.79 \\\\\n",
       "\t22 & 1.0 & 0.01 & 0.33 & 0.75 & 0.81 \\\\\n",
       "\t23 & 1.0 & 1.0 & 0.29 & 0.74 & 0.79 \\\\\n",
       "\t24 & 1.0 & 0.02 & 0.35 & 0.8 & 0.86 \\\\\n",
       "\t25 & 1.0 & 0.02 & 0.35 & 0.78 & 0.83 \\\\\n",
       "\t26 & 1.0 & 0.04 & 0.37 & 0.8 & 0.84 \\\\\n",
       "\t27 & 1.0 & 0.03 & 0.34 & 0.78 & 0.82 \\\\\n",
       "\t28 & 1.0 & 0.01 & 0.33 & 0.78 & 0.81 \\\\\n",
       "\t29 & 1.0 & 0.04 & 0.35 & 0.83 & 0.87 \\\\\n",
       "\t30 & 1.0 & 0.14 & 0.45 & 0.92 & 0.94 \\\\\n",
       "\t$\\dots$ & $\\dots$ & $\\dots$ & $\\dots$ & $\\dots$ & $\\dots$ \\\\\n",
       "\\end{tabular}\n"
      ],
      "text/plain": [
       "\u001b[1m250×5 DataFrame\u001b[0m\n",
       "\u001b[1m Row \u001b[0m│\u001b[1m x5      \u001b[0m\u001b[1m x7      \u001b[0m\u001b[1m x10     \u001b[0m\u001b[1m x20     \u001b[0m\u001b[1m x30     \u001b[0m\n",
       "\u001b[1m     \u001b[0m│\u001b[90m Float64 \u001b[0m\u001b[90m Float64 \u001b[0m\u001b[90m Float64 \u001b[0m\u001b[90m Float64 \u001b[0m\u001b[90m Float64 \u001b[0m\n",
       "─────┼─────────────────────────────────────────────\n",
       "   1 │    1.0      1.0      1.0      0.39     0.47\n",
       "   2 │    1.0      1.0      0.08     0.48     0.56\n",
       "   3 │    1.0      1.0      0.13     0.55     0.64\n",
       "   4 │    1.0      1.0      0.16     0.58     0.67\n",
       "   5 │    1.0      1.0      0.22     0.64     0.72\n",
       "   6 │    1.0      1.0      0.24     0.63     0.72\n",
       "   7 │    1.0      1.0      0.22     0.6      0.68\n",
       "   8 │    1.0      1.0      0.22     0.58     0.64\n",
       "   9 │    1.0      1.0      0.25     0.62     0.68\n",
       "  10 │    1.0      1.0      0.2      0.58     0.64\n",
       "  11 │    1.0      1.0      0.19     0.59     0.64\n",
       "  ⋮  │    ⋮        ⋮        ⋮        ⋮        ⋮\n",
       " 241 │    1.13     1.27     1.3      1.57     1.35\n",
       " 242 │    1.12     1.24     1.25     1.51     1.28\n",
       " 243 │    1.12     1.25     1.28     1.56     1.33\n",
       " 244 │    1.18     1.3      1.33     1.57     1.37\n",
       " 245 │    1.15     1.27     1.28     1.52     1.31\n",
       " 246 │    1.2      1.33     1.35     1.59     1.38\n",
       " 247 │    1.2      1.31     1.32     1.56     1.34\n",
       " 248 │    1.23     1.33     1.34     1.58     1.36\n",
       " 249 │    1.27     1.39     1.4      1.62     1.41\n",
       " 250 │    1.26     1.37     1.37     1.58     1.35\n",
       "\u001b[36m                                   229 rows omitted\u001b[0m"
      ]
     },
     "execution_count": 28,
     "metadata": {},
     "output_type": "execute_result"
    }
   ],
   "source": [
    "tnf"
   ]
  },
  {
   "cell_type": "markdown",
   "id": "living-durham",
   "metadata": {},
   "source": [
    "now take the first-differences of log-transformed inflation rates, and plot to see what it looks like."
   ]
  },
  {
   "cell_type": "code",
   "execution_count": 30,
   "id": "continuous-commitment",
   "metadata": {},
   "outputs": [
    {
     "data": {
      "image/svg+xml": [
       "<?xml version=\"1.0\" encoding=\"utf-8\"?>\n",
       "<svg xmlns=\"http://www.w3.org/2000/svg\" xmlns:xlink=\"http://www.w3.org/1999/xlink\" width=\"900\" height=\"500\" viewBox=\"0 0 3600 2000\">\n",
       "<defs>\n",
       "  <clipPath id=\"clip460\">\n",
       "    <rect x=\"0\" y=\"0\" width=\"3600\" height=\"2000\"/>\n",
       "  </clipPath>\n",
       "</defs>\n",
       "<path clip-path=\"url(#clip460)\" d=\"\n",
       "M0 2000 L3600 2000 L3600 0 L0 0  Z\n",
       "  \" fill=\"#ffffff\" fill-rule=\"evenodd\" fill-opacity=\"1\"/>\n",
       "<defs>\n",
       "  <clipPath id=\"clip461\">\n",
       "    <rect x=\"720\" y=\"0\" width=\"2521\" height=\"2000\"/>\n",
       "  </clipPath>\n",
       "</defs>\n",
       "<path clip-path=\"url(#clip460)\" d=\"\n",
       "M161.191 1888.21 L3552.76 1888.21 L3552.76 113.392 L161.191 113.392  Z\n",
       "  \" fill=\"#ffffff\" fill-rule=\"evenodd\" fill-opacity=\"1\"/>\n",
       "<defs>\n",
       "  <clipPath id=\"clip462\">\n",
       "    <rect x=\"161\" y=\"113\" width=\"3393\" height=\"1776\"/>\n",
       "  </clipPath>\n",
       "</defs>\n",
       "<polyline clip-path=\"url(#clip462)\" style=\"stroke:#000000; stroke-linecap:butt; stroke-linejoin:round; stroke-width:2; stroke-opacity:0.1; fill:none\" points=\"\n",
       "  244.277,1888.21 244.277,113.392 \n",
       "  \"/>\n",
       "<polyline clip-path=\"url(#clip462)\" style=\"stroke:#000000; stroke-linecap:butt; stroke-linejoin:round; stroke-width:2; stroke-opacity:0.1; fill:none\" points=\"\n",
       "  889.356,1888.21 889.356,113.392 \n",
       "  \"/>\n",
       "<polyline clip-path=\"url(#clip462)\" style=\"stroke:#000000; stroke-linecap:butt; stroke-linejoin:round; stroke-width:2; stroke-opacity:0.1; fill:none\" points=\"\n",
       "  1534.43,1888.21 1534.43,113.392 \n",
       "  \"/>\n",
       "<polyline clip-path=\"url(#clip462)\" style=\"stroke:#000000; stroke-linecap:butt; stroke-linejoin:round; stroke-width:2; stroke-opacity:0.1; fill:none\" points=\"\n",
       "  2179.51,1888.21 2179.51,113.392 \n",
       "  \"/>\n",
       "<polyline clip-path=\"url(#clip462)\" style=\"stroke:#000000; stroke-linecap:butt; stroke-linejoin:round; stroke-width:2; stroke-opacity:0.1; fill:none\" points=\"\n",
       "  2824.59,1888.21 2824.59,113.392 \n",
       "  \"/>\n",
       "<polyline clip-path=\"url(#clip462)\" style=\"stroke:#000000; stroke-linecap:butt; stroke-linejoin:round; stroke-width:2; stroke-opacity:0.1; fill:none\" points=\"\n",
       "  3469.67,1888.21 3469.67,113.392 \n",
       "  \"/>\n",
       "<polyline clip-path=\"url(#clip460)\" style=\"stroke:#000000; stroke-linecap:butt; stroke-linejoin:round; stroke-width:4; stroke-opacity:1; fill:none\" points=\"\n",
       "  161.191,1888.21 3552.76,1888.21 \n",
       "  \"/>\n",
       "<polyline clip-path=\"url(#clip460)\" style=\"stroke:#000000; stroke-linecap:butt; stroke-linejoin:round; stroke-width:4; stroke-opacity:1; fill:none\" points=\"\n",
       "  244.277,1888.21 244.277,1869.31 \n",
       "  \"/>\n",
       "<polyline clip-path=\"url(#clip460)\" style=\"stroke:#000000; stroke-linecap:butt; stroke-linejoin:round; stroke-width:4; stroke-opacity:1; fill:none\" points=\"\n",
       "  889.356,1888.21 889.356,1869.31 \n",
       "  \"/>\n",
       "<polyline clip-path=\"url(#clip460)\" style=\"stroke:#000000; stroke-linecap:butt; stroke-linejoin:round; stroke-width:4; stroke-opacity:1; fill:none\" points=\"\n",
       "  1534.43,1888.21 1534.43,1869.31 \n",
       "  \"/>\n",
       "<polyline clip-path=\"url(#clip460)\" style=\"stroke:#000000; stroke-linecap:butt; stroke-linejoin:round; stroke-width:4; stroke-opacity:1; fill:none\" points=\"\n",
       "  2179.51,1888.21 2179.51,1869.31 \n",
       "  \"/>\n",
       "<polyline clip-path=\"url(#clip460)\" style=\"stroke:#000000; stroke-linecap:butt; stroke-linejoin:round; stroke-width:4; stroke-opacity:1; fill:none\" points=\"\n",
       "  2824.59,1888.21 2824.59,1869.31 \n",
       "  \"/>\n",
       "<polyline clip-path=\"url(#clip460)\" style=\"stroke:#000000; stroke-linecap:butt; stroke-linejoin:round; stroke-width:4; stroke-opacity:1; fill:none\" points=\"\n",
       "  3469.67,1888.21 3469.67,1869.31 \n",
       "  \"/>\n",
       "<path clip-path=\"url(#clip460)\" d=\"M244.277 1927 Q240.666 1927 238.837 1930.56 Q237.032 1934.11 237.032 1941.23 Q237.032 1948.34 238.837 1951.91 Q240.666 1955.45 244.277 1955.45 Q247.911 1955.45 249.717 1951.91 Q251.545 1948.34 251.545 1941.23 Q251.545 1934.11 249.717 1930.56 Q247.911 1927 244.277 1927 M244.277 1923.29 Q250.087 1923.29 253.143 1927.9 Q256.221 1932.48 256.221 1941.23 Q256.221 1949.96 253.143 1954.57 Q250.087 1959.15 244.277 1959.15 Q238.467 1959.15 235.388 1954.57 Q232.333 1949.96 232.333 1941.23 Q232.333 1932.48 235.388 1927.9 Q238.467 1923.29 244.277 1923.29 Z\" fill=\"#000000\" fill-rule=\"evenodd\" fill-opacity=\"1\" /><path clip-path=\"url(#clip460)\" d=\"M864.055 1923.92 L882.411 1923.92 L882.411 1927.86 L868.337 1927.86 L868.337 1936.33 Q869.356 1935.98 870.374 1935.82 Q871.393 1935.63 872.411 1935.63 Q878.198 1935.63 881.578 1938.8 Q884.957 1941.98 884.957 1947.39 Q884.957 1952.97 881.485 1956.07 Q878.013 1959.15 871.694 1959.15 Q869.518 1959.15 867.249 1958.78 Q865.004 1958.41 862.596 1957.67 L862.596 1952.97 Q864.68 1954.1 866.902 1954.66 Q869.124 1955.22 871.601 1955.22 Q875.606 1955.22 877.944 1953.11 Q880.282 1951 880.282 1947.39 Q880.282 1943.78 877.944 1941.67 Q875.606 1939.57 871.601 1939.57 Q869.726 1939.57 867.851 1939.98 Q865.999 1940.4 864.055 1941.28 L864.055 1923.92 Z\" fill=\"#000000\" fill-rule=\"evenodd\" fill-opacity=\"1\" /><path clip-path=\"url(#clip460)\" d=\"M904.17 1927 Q900.559 1927 898.73 1930.56 Q896.925 1934.11 896.925 1941.23 Q896.925 1948.34 898.73 1951.91 Q900.559 1955.45 904.17 1955.45 Q907.805 1955.45 909.61 1951.91 Q911.439 1948.34 911.439 1941.23 Q911.439 1934.11 909.61 1930.56 Q907.805 1927 904.17 1927 M904.17 1923.29 Q909.98 1923.29 913.036 1927.9 Q916.115 1932.48 916.115 1941.23 Q916.115 1949.96 913.036 1954.57 Q909.98 1959.15 904.17 1959.15 Q898.36 1959.15 895.281 1954.57 Q892.226 1949.96 892.226 1941.23 Q892.226 1932.48 895.281 1927.9 Q898.36 1923.29 904.17 1923.29 Z\" fill=\"#000000\" fill-rule=\"evenodd\" fill-opacity=\"1\" /><path clip-path=\"url(#clip460)\" d=\"M1494.04 1954.54 L1501.68 1954.54 L1501.68 1928.18 L1493.37 1929.85 L1493.37 1925.59 L1501.63 1923.92 L1506.31 1923.92 L1506.31 1954.54 L1513.95 1954.54 L1513.95 1958.48 L1494.04 1958.48 L1494.04 1954.54 Z\" fill=\"#000000\" fill-rule=\"evenodd\" fill-opacity=\"1\" /><path clip-path=\"url(#clip460)\" d=\"M1533.39 1927 Q1529.78 1927 1527.95 1930.56 Q1526.15 1934.11 1526.15 1941.23 Q1526.15 1948.34 1527.95 1951.91 Q1529.78 1955.45 1533.39 1955.45 Q1537.03 1955.45 1538.83 1951.91 Q1540.66 1948.34 1540.66 1941.23 Q1540.66 1934.11 1538.83 1930.56 Q1537.03 1927 1533.39 1927 M1533.39 1923.29 Q1539.2 1923.29 1542.26 1927.9 Q1545.34 1932.48 1545.34 1941.23 Q1545.34 1949.96 1542.26 1954.57 Q1539.2 1959.15 1533.39 1959.15 Q1527.58 1959.15 1524.5 1954.57 Q1521.45 1949.96 1521.45 1941.23 Q1521.45 1932.48 1524.5 1927.9 Q1527.58 1923.29 1533.39 1923.29 Z\" fill=\"#000000\" fill-rule=\"evenodd\" fill-opacity=\"1\" /><path clip-path=\"url(#clip460)\" d=\"M1563.55 1927 Q1559.94 1927 1558.11 1930.56 Q1556.31 1934.11 1556.31 1941.23 Q1556.31 1948.34 1558.11 1951.91 Q1559.94 1955.45 1563.55 1955.45 Q1567.19 1955.45 1568.99 1951.91 Q1570.82 1948.34 1570.82 1941.23 Q1570.82 1934.11 1568.99 1930.56 Q1567.19 1927 1563.55 1927 M1563.55 1923.29 Q1569.36 1923.29 1572.42 1927.9 Q1575.5 1932.48 1575.5 1941.23 Q1575.5 1949.96 1572.42 1954.57 Q1569.36 1959.15 1563.55 1959.15 Q1557.74 1959.15 1554.67 1954.57 Q1551.61 1949.96 1551.61 1941.23 Q1551.61 1932.48 1554.67 1927.9 Q1557.74 1923.29 1563.55 1923.29 Z\" fill=\"#000000\" fill-rule=\"evenodd\" fill-opacity=\"1\" /><path clip-path=\"url(#clip460)\" d=\"M2139.12 1954.54 L2146.76 1954.54 L2146.76 1928.18 L2138.45 1929.85 L2138.45 1925.59 L2146.71 1923.92 L2151.39 1923.92 L2151.39 1954.54 L2159.03 1954.54 L2159.03 1958.48 L2139.12 1958.48 L2139.12 1954.54 Z\" fill=\"#000000\" fill-rule=\"evenodd\" fill-opacity=\"1\" /><path clip-path=\"url(#clip460)\" d=\"M2168.52 1923.92 L2186.87 1923.92 L2186.87 1927.86 L2172.8 1927.86 L2172.8 1936.33 Q2173.82 1935.98 2174.84 1935.82 Q2175.86 1935.63 2176.87 1935.63 Q2182.66 1935.63 2186.04 1938.8 Q2189.42 1941.98 2189.42 1947.39 Q2189.42 1952.97 2185.95 1956.07 Q2182.48 1959.15 2176.16 1959.15 Q2173.98 1959.15 2171.71 1958.78 Q2169.47 1958.41 2167.06 1957.67 L2167.06 1952.97 Q2169.14 1954.1 2171.36 1954.66 Q2173.59 1955.22 2176.06 1955.22 Q2180.07 1955.22 2182.41 1953.11 Q2184.74 1951 2184.74 1947.39 Q2184.74 1943.78 2182.41 1941.67 Q2180.07 1939.57 2176.06 1939.57 Q2174.19 1939.57 2172.31 1939.98 Q2170.46 1940.4 2168.52 1941.28 L2168.52 1923.92 Z\" fill=\"#000000\" fill-rule=\"evenodd\" fill-opacity=\"1\" /><path clip-path=\"url(#clip460)\" d=\"M2208.63 1927 Q2205.02 1927 2203.19 1930.56 Q2201.39 1934.11 2201.39 1941.23 Q2201.39 1948.34 2203.19 1951.91 Q2205.02 1955.45 2208.63 1955.45 Q2212.27 1955.45 2214.07 1951.91 Q2215.9 1948.34 2215.9 1941.23 Q2215.9 1934.11 2214.07 1930.56 Q2212.27 1927 2208.63 1927 M2208.63 1923.29 Q2214.44 1923.29 2217.5 1927.9 Q2220.58 1932.48 2220.58 1941.23 Q2220.58 1949.96 2217.5 1954.57 Q2214.44 1959.15 2208.63 1959.15 Q2202.82 1959.15 2199.74 1954.57 Q2196.69 1949.96 2196.69 1941.23 Q2196.69 1932.48 2199.74 1927.9 Q2202.82 1923.29 2208.63 1923.29 Z\" fill=\"#000000\" fill-rule=\"evenodd\" fill-opacity=\"1\" /><path clip-path=\"url(#clip460)\" d=\"M2788.28 1954.54 L2804.6 1954.54 L2804.6 1958.48 L2782.66 1958.48 L2782.66 1954.54 Q2785.32 1951.79 2789.9 1947.16 Q2794.51 1942.51 2795.69 1941.17 Q2797.94 1938.64 2798.82 1936.91 Q2799.72 1935.15 2799.72 1933.46 Q2799.72 1930.7 2797.77 1928.97 Q2795.85 1927.23 2792.75 1927.23 Q2790.55 1927.23 2788.1 1927.99 Q2785.67 1928.76 2782.89 1930.31 L2782.89 1925.59 Q2785.71 1924.45 2788.17 1923.87 Q2790.62 1923.29 2792.66 1923.29 Q2798.03 1923.29 2801.22 1925.98 Q2804.42 1928.67 2804.42 1933.16 Q2804.42 1935.29 2803.61 1937.21 Q2802.82 1939.1 2800.71 1941.7 Q2800.14 1942.37 2797.03 1945.59 Q2793.93 1948.78 2788.28 1954.54 Z\" fill=\"#000000\" fill-rule=\"evenodd\" fill-opacity=\"1\" /><path clip-path=\"url(#clip460)\" d=\"M2824.42 1927 Q2820.81 1927 2818.98 1930.56 Q2817.17 1934.11 2817.17 1941.23 Q2817.17 1948.34 2818.98 1951.91 Q2820.81 1955.45 2824.42 1955.45 Q2828.05 1955.45 2829.86 1951.91 Q2831.69 1948.34 2831.69 1941.23 Q2831.69 1934.11 2829.86 1930.56 Q2828.05 1927 2824.42 1927 M2824.42 1923.29 Q2830.23 1923.29 2833.28 1927.9 Q2836.36 1932.48 2836.36 1941.23 Q2836.36 1949.96 2833.28 1954.57 Q2830.23 1959.15 2824.42 1959.15 Q2818.61 1959.15 2815.53 1954.57 Q2812.47 1949.96 2812.47 1941.23 Q2812.47 1932.48 2815.53 1927.9 Q2818.61 1923.29 2824.42 1923.29 Z\" fill=\"#000000\" fill-rule=\"evenodd\" fill-opacity=\"1\" /><path clip-path=\"url(#clip460)\" d=\"M2854.58 1927 Q2850.97 1927 2849.14 1930.56 Q2847.33 1934.11 2847.33 1941.23 Q2847.33 1948.34 2849.14 1951.91 Q2850.97 1955.45 2854.58 1955.45 Q2858.21 1955.45 2860.02 1951.91 Q2861.85 1948.34 2861.85 1941.23 Q2861.85 1934.11 2860.02 1930.56 Q2858.21 1927 2854.58 1927 M2854.58 1923.29 Q2860.39 1923.29 2863.45 1927.9 Q2866.52 1932.48 2866.52 1941.23 Q2866.52 1949.96 2863.45 1954.57 Q2860.39 1959.15 2854.58 1959.15 Q2848.77 1959.15 2845.69 1954.57 Q2842.64 1949.96 2842.64 1941.23 Q2842.64 1932.48 2845.69 1927.9 Q2848.77 1923.29 2854.58 1923.29 Z\" fill=\"#000000\" fill-rule=\"evenodd\" fill-opacity=\"1\" /><path clip-path=\"url(#clip460)\" d=\"M3433.36 1954.54 L3449.68 1954.54 L3449.68 1958.48 L3427.74 1958.48 L3427.74 1954.54 Q3430.4 1951.79 3434.98 1947.16 Q3439.59 1942.51 3440.77 1941.17 Q3443.01 1938.64 3443.89 1936.91 Q3444.8 1935.15 3444.8 1933.46 Q3444.8 1930.7 3442.85 1928.97 Q3440.93 1927.23 3437.83 1927.23 Q3435.63 1927.23 3433.18 1927.99 Q3430.75 1928.76 3427.97 1930.31 L3427.97 1925.59 Q3430.79 1924.45 3433.25 1923.87 Q3435.7 1923.29 3437.74 1923.29 Q3443.11 1923.29 3446.3 1925.98 Q3449.5 1928.67 3449.5 1933.16 Q3449.5 1935.29 3448.69 1937.21 Q3447.9 1939.1 3445.79 1941.7 Q3445.21 1942.37 3442.11 1945.59 Q3439.01 1948.78 3433.36 1954.54 Z\" fill=\"#000000\" fill-rule=\"evenodd\" fill-opacity=\"1\" /><path clip-path=\"url(#clip460)\" d=\"M3459.54 1923.92 L3477.9 1923.92 L3477.9 1927.86 L3463.82 1927.86 L3463.82 1936.33 Q3464.84 1935.98 3465.86 1935.82 Q3466.88 1935.63 3467.9 1935.63 Q3473.69 1935.63 3477.07 1938.8 Q3480.45 1941.98 3480.45 1947.39 Q3480.45 1952.97 3476.97 1956.07 Q3473.5 1959.15 3467.18 1959.15 Q3465.01 1959.15 3462.74 1958.78 Q3460.49 1958.41 3458.08 1957.67 L3458.08 1952.97 Q3460.17 1954.1 3462.39 1954.66 Q3464.61 1955.22 3467.09 1955.22 Q3471.09 1955.22 3473.43 1953.11 Q3475.77 1951 3475.77 1947.39 Q3475.77 1943.78 3473.43 1941.67 Q3471.09 1939.57 3467.09 1939.57 Q3465.21 1939.57 3463.34 1939.98 Q3461.49 1940.4 3459.54 1941.28 L3459.54 1923.92 Z\" fill=\"#000000\" fill-rule=\"evenodd\" fill-opacity=\"1\" /><path clip-path=\"url(#clip460)\" d=\"M3499.66 1927 Q3496.05 1927 3494.22 1930.56 Q3492.41 1934.11 3492.41 1941.23 Q3492.41 1948.34 3494.22 1951.91 Q3496.05 1955.45 3499.66 1955.45 Q3503.29 1955.45 3505.1 1951.91 Q3506.93 1948.34 3506.93 1941.23 Q3506.93 1934.11 3505.1 1930.56 Q3503.29 1927 3499.66 1927 M3499.66 1923.29 Q3505.47 1923.29 3508.52 1927.9 Q3511.6 1932.48 3511.6 1941.23 Q3511.6 1949.96 3508.52 1954.57 Q3505.47 1959.15 3499.66 1959.15 Q3493.85 1959.15 3490.77 1954.57 Q3487.71 1949.96 3487.71 1941.23 Q3487.71 1932.48 3490.77 1927.9 Q3493.85 1923.29 3499.66 1923.29 Z\" fill=\"#000000\" fill-rule=\"evenodd\" fill-opacity=\"1\" /><polyline clip-path=\"url(#clip462)\" style=\"stroke:#000000; stroke-linecap:butt; stroke-linejoin:round; stroke-width:2; stroke-opacity:0.1; fill:none\" points=\"\n",
       "  161.191,1855.27 3552.76,1855.27 \n",
       "  \"/>\n",
       "<polyline clip-path=\"url(#clip462)\" style=\"stroke:#000000; stroke-linecap:butt; stroke-linejoin:round; stroke-width:2; stroke-opacity:0.1; fill:none\" points=\"\n",
       "  161.191,1462.1 3552.76,1462.1 \n",
       "  \"/>\n",
       "<polyline clip-path=\"url(#clip462)\" style=\"stroke:#000000; stroke-linecap:butt; stroke-linejoin:round; stroke-width:2; stroke-opacity:0.1; fill:none\" points=\"\n",
       "  161.191,1068.93 3552.76,1068.93 \n",
       "  \"/>\n",
       "<polyline clip-path=\"url(#clip462)\" style=\"stroke:#000000; stroke-linecap:butt; stroke-linejoin:round; stroke-width:2; stroke-opacity:0.1; fill:none\" points=\"\n",
       "  161.191,675.761 3552.76,675.761 \n",
       "  \"/>\n",
       "<polyline clip-path=\"url(#clip462)\" style=\"stroke:#000000; stroke-linecap:butt; stroke-linejoin:round; stroke-width:2; stroke-opacity:0.1; fill:none\" points=\"\n",
       "  161.191,282.59 3552.76,282.59 \n",
       "  \"/>\n",
       "<polyline clip-path=\"url(#clip460)\" style=\"stroke:#000000; stroke-linecap:butt; stroke-linejoin:round; stroke-width:4; stroke-opacity:1; fill:none\" points=\"\n",
       "  161.191,1888.21 161.191,113.392 \n",
       "  \"/>\n",
       "<polyline clip-path=\"url(#clip460)\" style=\"stroke:#000000; stroke-linecap:butt; stroke-linejoin:round; stroke-width:4; stroke-opacity:1; fill:none\" points=\"\n",
       "  161.191,1855.27 180.089,1855.27 \n",
       "  \"/>\n",
       "<polyline clip-path=\"url(#clip460)\" style=\"stroke:#000000; stroke-linecap:butt; stroke-linejoin:round; stroke-width:4; stroke-opacity:1; fill:none\" points=\"\n",
       "  161.191,1462.1 180.089,1462.1 \n",
       "  \"/>\n",
       "<polyline clip-path=\"url(#clip460)\" style=\"stroke:#000000; stroke-linecap:butt; stroke-linejoin:round; stroke-width:4; stroke-opacity:1; fill:none\" points=\"\n",
       "  161.191,1068.93 180.089,1068.93 \n",
       "  \"/>\n",
       "<polyline clip-path=\"url(#clip460)\" style=\"stroke:#000000; stroke-linecap:butt; stroke-linejoin:round; stroke-width:4; stroke-opacity:1; fill:none\" points=\"\n",
       "  161.191,675.761 180.089,675.761 \n",
       "  \"/>\n",
       "<polyline clip-path=\"url(#clip460)\" style=\"stroke:#000000; stroke-linecap:butt; stroke-linejoin:round; stroke-width:4; stroke-opacity:1; fill:none\" points=\"\n",
       "  161.191,282.59 180.089,282.59 \n",
       "  \"/>\n",
       "<path clip-path=\"url(#clip460)\" d=\"M44.9921 1855.72 L74.6679 1855.72 L74.6679 1859.66 L44.9921 1859.66 L44.9921 1855.72 Z\" fill=\"#000000\" fill-rule=\"evenodd\" fill-opacity=\"1\" /><path clip-path=\"url(#clip460)\" d=\"M97.6076 1842.07 L85.8021 1860.52 L97.6076 1860.52 L97.6076 1842.07 M96.3807 1837.99 L102.26 1837.99 L102.26 1860.52 L107.191 1860.52 L107.191 1864.4 L102.26 1864.4 L102.26 1872.55 L97.6076 1872.55 L97.6076 1864.4 L82.0058 1864.4 L82.0058 1859.89 L96.3807 1837.99 Z\" fill=\"#000000\" fill-rule=\"evenodd\" fill-opacity=\"1\" /><path clip-path=\"url(#clip460)\" d=\"M47.0754 1462.55 L76.7512 1462.55 L76.7512 1466.49 L47.0754 1466.49 L47.0754 1462.55 Z\" fill=\"#000000\" fill-rule=\"evenodd\" fill-opacity=\"1\" /><path clip-path=\"url(#clip460)\" d=\"M90.8715 1475.45 L107.191 1475.45 L107.191 1479.38 L85.2465 1479.38 L85.2465 1475.45 Q87.9086 1472.69 92.4919 1468.06 Q97.0983 1463.41 98.2789 1462.07 Q100.524 1459.54 101.404 1457.81 Q102.307 1456.05 102.307 1454.36 Q102.307 1451.6 100.362 1449.87 Q98.4409 1448.13 95.3391 1448.13 Q93.14 1448.13 90.6863 1448.9 Q88.2558 1449.66 85.478 1451.21 L85.478 1446.49 Q88.3021 1445.35 90.7558 1444.78 Q93.2095 1444.2 95.2465 1444.2 Q100.617 1444.2 103.811 1446.88 Q107.006 1449.57 107.006 1454.06 Q107.006 1456.19 106.196 1458.11 Q105.408 1460.01 103.302 1462.6 Q102.723 1463.27 99.6215 1466.49 Q96.5196 1469.68 90.8715 1475.45 Z\" fill=\"#000000\" fill-rule=\"evenodd\" fill-opacity=\"1\" /><path clip-path=\"url(#clip460)\" d=\"M95.2465 1054.73 Q91.6354 1054.73 89.8067 1058.29 Q88.0012 1061.84 88.0012 1068.97 Q88.0012 1076.07 89.8067 1079.64 Q91.6354 1083.18 95.2465 1083.18 Q98.8807 1083.18 100.686 1079.64 Q102.515 1076.07 102.515 1068.97 Q102.515 1061.84 100.686 1058.29 Q98.8807 1054.73 95.2465 1054.73 M95.2465 1051.03 Q101.057 1051.03 104.112 1055.63 Q107.191 1060.22 107.191 1068.97 Q107.191 1077.69 104.112 1082.3 Q101.057 1086.88 95.2465 1086.88 Q89.4363 1086.88 86.3576 1082.3 Q83.3021 1077.69 83.3021 1068.97 Q83.3021 1060.22 86.3576 1055.63 Q89.4363 1051.03 95.2465 1051.03 Z\" fill=\"#000000\" fill-rule=\"evenodd\" fill-opacity=\"1\" /><path clip-path=\"url(#clip460)\" d=\"M90.8715 689.106 L107.191 689.106 L107.191 693.041 L85.2465 693.041 L85.2465 689.106 Q87.9086 686.351 92.4919 681.721 Q97.0983 677.069 98.2789 675.726 Q100.524 673.203 101.404 671.467 Q102.307 669.708 102.307 668.018 Q102.307 665.263 100.362 663.527 Q98.4409 661.791 95.3391 661.791 Q93.14 661.791 90.6863 662.555 Q88.2558 663.319 85.478 664.87 L85.478 660.147 Q88.3021 659.013 90.7558 658.434 Q93.2095 657.856 95.2465 657.856 Q100.617 657.856 103.811 660.541 Q107.006 663.226 107.006 667.717 Q107.006 669.846 106.196 671.768 Q105.408 673.666 103.302 676.258 Q102.723 676.93 99.6215 680.147 Q96.5196 683.342 90.8715 689.106 Z\" fill=\"#000000\" fill-rule=\"evenodd\" fill-opacity=\"1\" /><path clip-path=\"url(#clip460)\" d=\"M97.6076 269.384 L85.8021 287.833 L97.6076 287.833 L97.6076 269.384 M96.3807 265.31 L102.26 265.31 L102.26 287.833 L107.191 287.833 L107.191 291.722 L102.26 291.722 L102.26 299.87 L97.6076 299.87 L97.6076 291.722 L82.0058 291.722 L82.0058 287.208 L96.3807 265.31 Z\" fill=\"#000000\" fill-rule=\"evenodd\" fill-opacity=\"1\" /><path clip-path=\"url(#clip460)\" d=\"M1524.72 12.096 L1559.47 12.096 L1559.47 18.9825 L1532.9 18.9825 L1532.9 36.8065 L1556.88 36.8065 L1556.88 43.6931 L1532.9 43.6931 L1532.9 72.576 L1524.72 72.576 L1524.72 12.096 Z\" fill=\"#000000\" fill-rule=\"evenodd\" fill-opacity=\"1\" /><path clip-path=\"url(#clip460)\" d=\"M1566.08 27.2059 L1573.53 27.2059 L1573.53 72.576 L1566.08 72.576 L1566.08 27.2059 M1566.08 9.54393 L1573.53 9.54393 L1573.53 18.9825 L1566.08 18.9825 L1566.08 9.54393 Z\" fill=\"#000000\" fill-rule=\"evenodd\" fill-opacity=\"1\" /><path clip-path=\"url(#clip460)\" d=\"M1615.42 34.1734 Q1614.16 33.4443 1612.66 33.1202 Q1611.21 32.7556 1609.42 32.7556 Q1603.1 32.7556 1599.7 36.8875 Q1596.34 40.9789 1596.34 48.6757 L1596.34 72.576 L1588.84 72.576 L1588.84 27.2059 L1596.34 27.2059 L1596.34 34.2544 Q1598.69 30.1225 1602.46 28.1376 Q1606.22 26.1121 1611.61 26.1121 Q1612.38 26.1121 1613.31 26.2337 Q1614.24 26.3147 1615.38 26.5172 L1615.42 34.1734 Z\" fill=\"#000000\" fill-rule=\"evenodd\" fill-opacity=\"1\" /><path clip-path=\"url(#clip460)\" d=\"M1652.16 28.5427 L1652.16 35.5912 Q1649 33.9709 1645.6 33.1607 Q1642.19 32.3505 1638.55 32.3505 Q1633 32.3505 1630.2 34.0519 Q1627.45 35.7533 1627.45 39.156 Q1627.45 41.7486 1629.43 43.2475 Q1631.42 44.7058 1637.41 46.0426 L1639.97 46.6097 Q1647.91 48.3111 1651.23 51.4303 Q1654.59 54.509 1654.59 60.0587 Q1654.59 66.3781 1649.57 70.0644 Q1644.58 73.7508 1635.83 73.7508 Q1632.19 73.7508 1628.22 73.0216 Q1624.29 72.3329 1619.91 70.9151 L1619.91 63.2184 Q1624.05 65.3654 1628.06 66.4591 Q1632.07 67.5124 1636 67.5124 Q1641.26 67.5124 1644.1 65.73 Q1646.93 63.9071 1646.93 60.6258 Q1646.93 57.5877 1644.87 55.9673 Q1642.84 54.3469 1635.92 52.8481 L1633.32 52.2405 Q1626.4 50.7821 1623.32 47.7845 Q1620.24 44.7463 1620.24 39.4801 Q1620.24 33.0797 1624.78 29.5959 Q1629.31 26.1121 1637.66 26.1121 Q1641.79 26.1121 1645.44 26.7198 Q1649.08 27.3274 1652.16 28.5427 Z\" fill=\"#000000\" fill-rule=\"evenodd\" fill-opacity=\"1\" /><path clip-path=\"url(#clip460)\" d=\"M1673.83 14.324 L1673.83 27.2059 L1689.18 27.2059 L1689.18 32.9987 L1673.83 32.9987 L1673.83 57.6282 Q1673.83 63.1779 1675.33 64.7578 Q1676.87 66.3376 1681.53 66.3376 L1689.18 66.3376 L1689.18 72.576 L1681.53 72.576 Q1672.9 72.576 1669.62 69.3758 Q1666.34 66.1351 1666.34 57.6282 L1666.34 32.9987 L1660.87 32.9987 L1660.87 27.2059 L1666.34 27.2059 L1666.34 14.324 L1673.83 14.324 Z\" fill=\"#000000\" fill-rule=\"evenodd\" fill-opacity=\"1\" /><path clip-path=\"url(#clip460)\" d=\"M1695.22 46.5287 L1717.06 46.5287 L1717.06 53.1722 L1695.22 53.1722 L1695.22 46.5287 Z\" fill=\"#000000\" fill-rule=\"evenodd\" fill-opacity=\"1\" /><path clip-path=\"url(#clip460)\" d=\"M1737.43 18.8205 L1737.43 65.8515 L1747.32 65.8515 Q1759.83 65.8515 1765.63 60.1802 Q1771.46 54.509 1771.46 42.2752 Q1771.46 30.1225 1765.63 24.4918 Q1759.83 18.8205 1747.32 18.8205 L1737.43 18.8205 M1729.25 12.096 L1746.06 12.096 Q1763.64 12.096 1771.86 19.4281 Q1780.09 26.7198 1780.09 42.2752 Q1780.09 57.9117 1771.82 65.2439 Q1763.56 72.576 1746.06 72.576 L1729.25 72.576 L1729.25 12.096 Z\" fill=\"#000000\" fill-rule=\"evenodd\" fill-opacity=\"1\" /><path clip-path=\"url(#clip460)\" d=\"M1792.81 27.2059 L1800.26 27.2059 L1800.26 72.576 L1792.81 72.576 L1792.81 27.2059 M1792.81 9.54393 L1800.26 9.54393 L1800.26 18.9825 L1792.81 18.9825 L1792.81 9.54393 Z\" fill=\"#000000\" fill-rule=\"evenodd\" fill-opacity=\"1\" /><path clip-path=\"url(#clip460)\" d=\"M1838.83 9.54393 L1838.83 15.7418 L1831.7 15.7418 Q1827.69 15.7418 1826.11 17.3622 Q1824.57 18.9825 1824.57 23.1955 L1824.57 27.2059 L1836.84 27.2059 L1836.84 32.9987 L1824.57 32.9987 L1824.57 72.576 L1817.07 72.576 L1817.07 32.9987 L1809.94 32.9987 L1809.94 27.2059 L1817.07 27.2059 L1817.07 24.0462 Q1817.07 16.471 1820.6 13.0277 Q1824.12 9.54393 1831.78 9.54393 L1838.83 9.54393 Z\" fill=\"#000000\" fill-rule=\"evenodd\" fill-opacity=\"1\" /><path clip-path=\"url(#clip460)\" d=\"M1868.03 9.54393 L1868.03 15.7418 L1860.9 15.7418 Q1856.89 15.7418 1855.31 17.3622 Q1853.77 18.9825 1853.77 23.1955 L1853.77 27.2059 L1866.05 27.2059 L1866.05 32.9987 L1853.77 32.9987 L1853.77 72.576 L1846.28 72.576 L1846.28 32.9987 L1839.15 32.9987 L1839.15 27.2059 L1846.28 27.2059 L1846.28 24.0462 Q1846.28 16.471 1849.8 13.0277 Q1853.33 9.54393 1860.98 9.54393 L1868.03 9.54393 Z\" fill=\"#000000\" fill-rule=\"evenodd\" fill-opacity=\"1\" /><path clip-path=\"url(#clip460)\" d=\"M1913.08 48.0275 L1913.08 51.6733 L1878.81 51.6733 Q1879.29 59.3701 1883.43 63.421 Q1887.6 67.4314 1895.01 67.4314 Q1899.31 67.4314 1903.32 66.3781 Q1907.37 65.3249 1911.34 63.2184 L1911.34 70.267 Q1907.33 71.9684 1903.11 72.8596 Q1898.9 73.7508 1894.57 73.7508 Q1883.71 73.7508 1877.35 67.4314 Q1871.03 61.1119 1871.03 50.3365 Q1871.03 39.1965 1877.03 32.6746 Q1883.06 26.1121 1893.27 26.1121 Q1902.42 26.1121 1907.73 32.0264 Q1913.08 37.9003 1913.08 48.0275 M1905.62 45.84 Q1905.54 39.7232 1902.18 36.0774 Q1898.86 32.4315 1893.35 32.4315 Q1887.11 32.4315 1883.34 35.9558 Q1879.62 39.4801 1879.05 45.8805 L1905.62 45.84 Z\" fill=\"#000000\" fill-rule=\"evenodd\" fill-opacity=\"1\" /><path clip-path=\"url(#clip460)\" d=\"M1951.6 34.1734 Q1950.35 33.4443 1948.85 33.1202 Q1947.39 32.7556 1945.61 32.7556 Q1939.29 32.7556 1935.89 36.8875 Q1932.52 40.9789 1932.52 48.6757 L1932.52 72.576 L1925.03 72.576 L1925.03 27.2059 L1932.52 27.2059 L1932.52 34.2544 Q1934.87 30.1225 1938.64 28.1376 Q1942.41 26.1121 1947.79 26.1121 Q1948.56 26.1121 1949.5 26.2337 Q1950.43 26.3147 1951.56 26.5172 L1951.6 34.1734 Z\" fill=\"#000000\" fill-rule=\"evenodd\" fill-opacity=\"1\" /><path clip-path=\"url(#clip460)\" d=\"M1996.41 48.0275 L1996.41 51.6733 L1962.13 51.6733 Q1962.62 59.3701 1966.75 63.421 Q1970.93 67.4314 1978.34 67.4314 Q1982.63 67.4314 1986.64 66.3781 Q1990.69 65.3249 1994.66 63.2184 L1994.66 70.267 Q1990.65 71.9684 1986.44 72.8596 Q1982.23 73.7508 1977.89 73.7508 Q1967.04 73.7508 1960.68 67.4314 Q1954.36 61.1119 1954.36 50.3365 Q1954.36 39.1965 1960.35 32.6746 Q1966.39 26.1121 1976.6 26.1121 Q1985.75 26.1121 1991.06 32.0264 Q1996.41 37.9003 1996.41 48.0275 M1988.95 45.84 Q1988.87 39.7232 1985.51 36.0774 Q1982.19 32.4315 1976.68 32.4315 Q1970.44 32.4315 1966.67 35.9558 Q1962.95 39.4801 1962.38 45.8805 L1988.95 45.84 Z\" fill=\"#000000\" fill-rule=\"evenodd\" fill-opacity=\"1\" /><path clip-path=\"url(#clip460)\" d=\"M2046.35 45.1919 L2046.35 72.576 L2038.9 72.576 L2038.9 45.4349 Q2038.9 38.994 2036.39 35.7938 Q2033.88 32.5936 2028.85 32.5936 Q2022.82 32.5936 2019.33 36.4419 Q2015.85 40.2903 2015.85 46.9338 L2015.85 72.576 L2008.36 72.576 L2008.36 27.2059 L2015.85 27.2059 L2015.85 34.2544 Q2018.52 30.163 2022.13 28.1376 Q2025.77 26.1121 2030.51 26.1121 Q2038.33 26.1121 2042.34 30.9732 Q2046.35 35.7938 2046.35 45.1919 Z\" fill=\"#000000\" fill-rule=\"evenodd\" fill-opacity=\"1\" /><path clip-path=\"url(#clip460)\" d=\"M2093.87 28.9478 L2093.87 35.9153 Q2090.71 34.1734 2087.51 33.3227 Q2084.35 32.4315 2081.11 32.4315 Q2073.86 32.4315 2069.85 37.0496 Q2065.84 41.6271 2065.84 49.9314 Q2065.84 58.2358 2069.85 62.8538 Q2073.86 67.4314 2081.11 67.4314 Q2084.35 67.4314 2087.51 66.5807 Q2090.71 65.6895 2093.87 63.9476 L2093.87 70.8341 Q2090.75 72.2924 2087.39 73.0216 Q2084.07 73.7508 2080.3 73.7508 Q2070.05 73.7508 2064.02 67.3098 Q2057.98 60.8689 2057.98 49.9314 Q2057.98 38.832 2064.06 32.472 Q2070.17 26.1121 2080.79 26.1121 Q2084.23 26.1121 2087.51 26.8413 Q2090.79 27.5299 2093.87 28.9478 Z\" fill=\"#000000\" fill-rule=\"evenodd\" fill-opacity=\"1\" /><path clip-path=\"url(#clip460)\" d=\"M2145.64 48.0275 L2145.64 51.6733 L2111.37 51.6733 Q2111.86 59.3701 2115.99 63.421 Q2120.16 67.4314 2127.57 67.4314 Q2131.87 67.4314 2135.88 66.3781 Q2139.93 65.3249 2143.9 63.2184 L2143.9 70.267 Q2139.89 71.9684 2135.68 72.8596 Q2131.46 73.7508 2127.13 73.7508 Q2116.27 73.7508 2109.91 67.4314 Q2103.59 61.1119 2103.59 50.3365 Q2103.59 39.1965 2109.59 32.6746 Q2115.62 26.1121 2125.83 26.1121 Q2134.99 26.1121 2140.29 32.0264 Q2145.64 37.9003 2145.64 48.0275 M2138.19 45.84 Q2138.11 39.7232 2134.74 36.0774 Q2131.42 32.4315 2125.91 32.4315 Q2119.67 32.4315 2115.91 35.9558 Q2112.18 39.4801 2111.61 45.8805 L2138.19 45.84 Z\" fill=\"#000000\" fill-rule=\"evenodd\" fill-opacity=\"1\" /><path clip-path=\"url(#clip460)\" d=\"M2186.8 28.5427 L2186.8 35.5912 Q2183.64 33.9709 2180.24 33.1607 Q2176.83 32.3505 2173.19 32.3505 Q2167.64 32.3505 2164.84 34.0519 Q2162.09 35.7533 2162.09 39.156 Q2162.09 41.7486 2164.07 43.2475 Q2166.06 44.7058 2172.05 46.0426 L2174.6 46.6097 Q2182.54 48.3111 2185.87 51.4303 Q2189.23 54.509 2189.23 60.0587 Q2189.23 66.3781 2184.21 70.0644 Q2179.22 73.7508 2170.47 73.7508 Q2166.83 73.7508 2162.86 73.0216 Q2158.93 72.3329 2154.55 70.9151 L2154.55 63.2184 Q2158.68 65.3654 2162.7 66.4591 Q2166.71 67.5124 2170.63 67.5124 Q2175.9 67.5124 2178.74 65.73 Q2181.57 63.9071 2181.57 60.6258 Q2181.57 57.5877 2179.51 55.9673 Q2177.48 54.3469 2170.55 52.8481 L2167.96 52.2405 Q2161.03 50.7821 2157.96 47.7845 Q2154.88 44.7463 2154.88 39.4801 Q2154.88 33.0797 2159.41 29.5959 Q2163.95 26.1121 2172.3 26.1121 Q2176.43 26.1121 2180.07 26.7198 Q2183.72 27.3274 2186.8 28.5427 Z\" fill=\"#000000\" fill-rule=\"evenodd\" fill-opacity=\"1\" /><polyline clip-path=\"url(#clip462)\" style=\"stroke:#009af9; stroke-linecap:butt; stroke-linejoin:round; stroke-width:4; stroke-opacity:1; fill:none\" points=\"\n",
       "  257.179,1068.93 270.08,1068.93 282.982,1068.93 295.883,1068.93 308.785,1068.93 321.686,1068.93 334.588,1068.93 347.49,1068.93 360.391,1068.93 373.293,1068.93 \n",
       "  386.194,1068.93 399.096,1068.93 411.997,1068.93 424.899,1068.93 437.801,1068.93 450.702,1068.93 463.604,1068.93 476.505,1068.93 489.407,1068.93 502.308,1068.93 \n",
       "  515.21,1068.93 528.112,1068.93 541.013,1068.93 553.915,1068.93 566.816,1068.93 579.718,1068.93 592.619,1068.93 605.521,1068.93 618.423,1068.93 631.324,1068.93 \n",
       "  644.226,1068.93 657.127,1068.93 670.029,1068.93 682.93,1068.93 695.832,1068.93 708.734,1441.88 721.635,1112.8 734.537,1205.19 747.438,515.856 760.34,1837.98 \n",
       "  773.241,796.406 786.143,1045.78 799.045,932.669 811.946,1058.3 824.848,1079.56 837.749,1092.09 850.651,981.198 863.552,1061.22 876.454,1076.64 889.356,1061.22 \n",
       "  902.257,1028.11 915.159,1062.88 928.06,1026.26 940.962,1100.04 953.863,1047.66 966.765,1074.04 979.667,1049.26 992.568,1055.37 1005.47,1082.49 1018.37,1046.82 \n",
       "  1031.27,1095.78 1044.17,1029.92 1057.08,1098.58 1069.98,1098.47 1082.88,1079.86 1095.78,1080.5 1108.68,1051.83 1121.58,1029.48 1134.49,1108.38 1147.39,1074.47 \n",
       "  1160.29,1105.9 1173.19,1068.93 1186.09,1068.93 1198.99,1068.93 1211.89,1068.93 1224.8,1049.58 1237.7,1035.15 1250.6,1068.93 1263.5,1035.69 1276.4,1092.09 \n",
       "  1289.3,1054.71 1302.21,1093.23 1315.11,1128.96 1328.01,1062.03 1340.91,1055.82 1353.81,1062.69 1366.71,1125.49 1379.62,1038.63 1392.52,1062.03 1405.42,996.121 \n",
       "  1418.32,1083.5 1431.22,1059.1 1444.12,1068.93 1457.02,1089.11 1469.93,1068.93 1482.83,1097.47 1495.73,1062.88 1508.63,1068.93 1521.53,1094.33 1534.43,1049.58 \n",
       "  1547.34,1051.31 1560.24,1068.93 1573.14,1015.21 1586.04,1041.08 1598.94,1065.26 1611.84,1080.17 1624.75,1076.8 1637.65,1053.5 1650.55,1105.52 1663.45,1097.75 \n",
       "  1676.35,1053.99 1689.25,1042.08 1702.15,1091.04 1715.06,1038.63 1727.96,1042.68 1740.86,1039.63 1753.76,1043.44 1766.66,1088.47 1779.56,1054.78 1792.47,1077.3 \n",
       "  1805.37,1071.8 1818.27,1071.84 1831.17,1071.89 1844.07,1084.42 1856.97,1059.49 1869.87,1072.03 1882.78,1106.65 1895.68,1084.67 1908.58,1095.18 1921.48,1012.38 \n",
       "  1934.38,1068.93 1947.28,1052.12 1960.19,1082.26 1973.09,1083.23 1985.99,1058.11 1998.89,1083.5 2011.79,1080.61 2024.69,1053.5 2037.6,1084.36 2050.5,1068.93 \n",
       "  2063.4,1072.98 2076.3,1090.56 2089.2,1059.99 2102.1,1060.38 2115,1095.78 2127.91,1050.63 2140.81,1073.35 2153.71,1039.91 2166.61,1040.29 2179.51,1056.04 \n",
       "  2192.41,1053.92 2205.32,1066.06 2218.22,1063.31 2231.12,1071.72 2244.02,1086.55 2256.92,1059.93 2269.82,1063.15 2282.73,1071.8 2295.63,1063.23 2308.53,1077.54 \n",
       "  2321.43,1081.03 2334.33,1034.66 2347.23,1068.93 2360.13,1056.24 2373.04,1073.91 2385.94,1074.04 2398.84,1076.85 2411.74,1071.64 2424.64,1055.73 2437.54,1087.67 \n",
       "  2450.45,1055.37 2463.35,1082.49 2476.25,1095.99 2489.15,1065.73 2502.05,1078.68 2514.95,1101.47 2527.86,1033.09 2540.76,1056.24 2553.66,1081.62 2566.56,1075.6 \n",
       "  2579.46,1046.53 2592.36,1057.19 2605.26,1037.41 2618.17,1076.35 2631.07,1066.43 2643.97,1061.6 2656.87,1071.34 2669.77,1071.37 2682.67,1071.4 2695.58,1052.24 \n",
       "  2708.48,1057.82 2721.38,1075.52 2734.28,1062.34 2747.18,1073.3 2760.08,1068.93 2772.98,1080.3 2785.89,1081 2798.79,1041.13 2811.69,1029.88 2824.59,1065.42 \n",
       "  2837.49,1077.83 2850.39,1054.88 2863.3,1068.93 2876.2,1074.08 2889.1,1068.93 2902,1087.15 2914.9,1068.93 2927.8,1067.03 2940.71,1052.62 2953.61,1074.22 \n",
       "  2966.51,1060.19 2979.41,1092.51 2992.31,1076.8 3005.21,1064.96 3018.11,1074.92 3031.02,1044.21 3043.92,1063.64 3056.82,1062.09 3069.72,1074.04 3082.62,1067.21 \n",
       "  3095.52,1074.13 3108.43,1063.73 3121.33,1054.12 3134.23,1068.93 3147.13,1067.35 3160.03,1094.06 3172.93,1070.73 3185.84,1081.98 3198.74,1065.11 3211.64,1044.1 \n",
       "  3224.54,1088.17 3237.44,1056.47 3250.34,1062.15 3263.24,1067.27 3276.15,1072.26 3289.05,1062.32 3301.95,1087.67 3314.85,1053.47 3327.75,1070.59 3340.65,1077.44 \n",
       "  3353.56,1070.68 3366.46,1068.93 3379.36,1058.67 3392.26,1073.99 3405.16,1060.56 3418.06,1068.93 3430.97,1064.08 3443.87,1062.64 3456.77,1070.49 \n",
       "  \"/>\n",
       "<polyline clip-path=\"url(#clip462)\" style=\"stroke:#e26f46; stroke-linecap:butt; stroke-linejoin:round; stroke-width:4; stroke-opacity:1; fill:none\" points=\"\n",
       "  257.179,1068.93 270.08,1068.93 282.982,1068.93 295.883,1068.93 308.785,1068.93 321.686,1068.93 334.588,1068.93 347.49,1068.93 360.391,1068.93 373.293,1068.93 \n",
       "  386.194,1068.93 399.096,1068.93 411.997,1068.93 424.899,1068.93 437.801,1068.93 450.702,1068.93 463.604,1068.93 476.505,1068.93 489.407,1068.93 502.308,1701.71 \n",
       "  515.21,1341.46 528.112,163.623 541.013,1837.98 553.915,1068.93 566.816,932.669 579.718,1125.49 592.619,1284.9 605.521,796.406 618.423,822.657 631.324,1030.76 \n",
       "  644.226,1057.69 657.127,1004.35 670.029,1039.75 682.93,1082.98 695.832,1023.61 708.734,981.661 721.635,1088.41 734.537,1095.18 747.438,1104.77 760.34,1047.66 \n",
       "  773.241,1028.11 786.143,1064.88 799.045,1042.68 811.946,1072.47 824.848,1076.21 837.749,1068.93 850.651,1028.81 863.552,1068.93 876.454,1068.93 889.356,1060.06 \n",
       "  902.257,1047.07 915.159,1063.82 928.06,1056.72 940.962,1083.68 953.863,1063.89 966.765,1064.02 979.667,1061.78 992.568,1059.79 1005.47,1068.93 1018.37,1060.19 \n",
       "  1031.27,1086.81 1044.17,1055.37 1057.08,1080.17 1069.98,1083.32 1082.88,1068.93 1095.78,1081.78 1108.68,1056.08 1121.58,1049.97 1134.49,1092.93 1147.39,1071.5 \n",
       "  1160.29,1087.93 1173.19,1074.71 1186.09,1063.15 1198.99,1068.93 1211.89,1077.67 1224.8,1060.19 1237.7,1049.94 1250.6,1068.93 1263.5,1049.26 1276.4,1078.52 \n",
       "  1289.3,1061.69 1302.21,1078.64 1315.11,1095.54 1328.01,1063.31 1340.91,1068.93 1353.81,1066.18 1366.71,1083.08 1379.62,1054.78 1392.52,1063.55 1405.42,1041.69 \n",
       "  1418.32,1078.41 1431.22,1066.52 1444.12,1068.93 1457.02,1078.76 1469.93,1063.95 1482.83,1081.62 1495.73,1068.93 1508.63,1066.33 1521.53,1082.31 1534.43,1060.8 \n",
       "  1547.34,1051.16 1560.24,1073.85 1573.14,1041.13 1586.04,1056.38 1598.94,1068.93 1611.84,1079.34 1624.75,1071.08 1637.65,1068.93 1650.55,1091.82 1663.45,1081.46 \n",
       "  1676.35,1063.82 1689.25,1054.36 1702.15,1078.52 1715.06,1054.71 1727.96,1059.99 1740.86,1060.38 1753.76,1050.96 1766.66,1080.73 1779.56,1059.05 1792.47,1072.82 \n",
       "  1805.37,1066.98 1818.27,1074.86 1831.17,1068.93 1844.07,1081.35 1856.97,1060.56 1869.87,1075.17 1882.78,1093.68 1895.68,1081.3 1908.58,1079.42 1921.48,1039.01 \n",
       "  1934.38,1073.61 1947.28,1057.43 1960.19,1075.75 1973.09,1083.32 1985.99,1061.6 1998.89,1081.3 2011.79,1071.5 2024.69,1053.99 2037.6,1078.76 2050.5,1063.95 \n",
       "  2063.4,1073.91 2076.3,1084.67 2089.2,1066.22 2102.1,1058.44 2115,1079.42 2127.91,1061.01 2140.81,1071.54 2153.71,1056.24 2166.61,1047.97 2179.51,1054.05 \n",
       "  2192.41,1060.91 2205.32,1065.04 2218.22,1065.11 2231.12,1068.93 2244.02,1078.62 2256.92,1065 2269.82,1070.89 2282.73,1070.91 2295.63,1068.93 2308.53,1072.94 \n",
       "  2321.43,1075.11 2334.33,1045.31 2347.23,1065.26 2360.13,1058.3 2373.04,1070.66 2385.94,1072.44 2398.84,1072.51 2411.74,1072.57 2424.64,1065.29 2437.54,1076.28 \n",
       "  2450.45,1058.01 2463.35,1083.64 2476.25,1086.91 2489.15,1066.85 2502.05,1075.24 2514.95,1091.55 2527.86,1048.46 2540.76,1058.42 2553.66,1073.07 2566.56,1075.31 \n",
       "  2579.46,1052.37 2592.36,1066.96 2605.26,1043.17 2618.17,1072.41 2631.07,1063.73 2643.97,1065.54 2656.87,1067.26 2669.77,1068.93 2682.67,1073.99 2695.58,1058.93 \n",
       "  2708.48,1056.35 2721.38,1073.56 2734.28,1064.31 2747.18,1072 2760.08,1075.22 2772.98,1078.76 2785.89,1077.52 2798.79,1050.51 2811.69,1052.09 2824.59,1061.73 \n",
       "  2837.49,1074.67 2850.39,1060.38 2863.3,1070.33 2876.2,1071.76 2889.1,1071.8 2902,1083.95 2914.9,1068.93 2927.8,1065.84 2940.71,1055.57 2953.61,1073.28 \n",
       "  2966.51,1063.15 2979.41,1088.38 2992.31,1075.32 3005.21,1068.93 3018.11,1077.23 3031.02,1049.58 3043.92,1064.38 3056.82,1060.13 3069.72,1070.37 3082.62,1068.93 \n",
       "  3095.52,1070.38 3108.43,1067.48 3121.33,1056.33 3134.23,1066.24 3147.13,1067.6 3160.03,1091.42 3172.93,1070.43 3185.84,1081.32 3198.74,1072.15 3211.64,1050.34 \n",
       "  3224.54,1085.9 3237.44,1057.96 3250.34,1062.93 3263.24,1068.93 3276.15,1071.91 3289.05,1063.02 3301.95,1085.64 3314.85,1056.64 3327.75,1070.43 3340.65,1075.03 \n",
       "  3353.56,1073.63 3366.46,1067.35 3379.36,1061.22 3392.26,1073.52 3405.16,1059.86 3418.06,1071.91 3430.97,1065.95 3443.87,1060.26 3456.77,1071.78 \n",
       "  \"/>\n",
       "<polyline clip-path=\"url(#clip462)\" style=\"stroke:#3da44d; stroke-linecap:butt; stroke-linejoin:round; stroke-width:4; stroke-opacity:1; fill:none\" points=\"\n",
       "  257.179,1565.45 270.08,973.488 282.982,1028.11 295.883,1006.33 308.785,1051.83 321.686,1086.04 334.588,1068.93 347.49,1043.8 360.391,1112.8 373.293,1079.01 \n",
       "  386.194,1128.96 399.096,1042.68 411.997,1081.62 424.899,1169.35 437.801,1048.22 450.702,1139.05 463.604,998.814 476.505,964.618 489.407,1009.51 502.308,992.093 \n",
       "  515.21,1074.8 528.112,1094.33 541.013,1031.96 553.915,1068.93 566.816,1058.01 579.718,1085.55 592.619,1074.8 605.521,1057.36 618.423,1019.53 631.324,1056.24 \n",
       "  644.226,1064.88 657.127,1042.68 670.029,1052.12 682.93,1075.48 695.832,1052.94 708.734,1027.54 721.635,1087.17 734.537,1077.3 747.438,1083.72 760.34,1059.93 \n",
       "  773.241,1044.15 786.143,1066.36 799.045,1058.98 811.946,1068.93 824.848,1068.93 837.749,1068.93 850.651,1041.77 863.552,1068.93 876.454,1068.93 889.356,1058.64 \n",
       "  902.257,1051.66 915.159,1067.1 928.06,1063.55 940.962,1079.86 953.863,1063.39 966.765,1068.93 979.667,1061.78 992.568,1058.67 1005.47,1070.6 1018.37,1062.32 \n",
       "  1031.27,1087.67 1044.17,1061.91 1057.08,1072.41 1069.98,1079.76 1082.88,1065.26 1095.78,1078.25 1108.68,1061.44 1121.58,1054.76 1134.49,1083.11 1147.39,1076.42 \n",
       "  1160.29,1084.83 1173.19,1068.93 1186.09,1066.87 1198.99,1068.93 1211.89,1075.17 1224.8,1064.75 1237.7,1056.89 1250.6,1066.99 1263.5,1055.88 1276.4,1076.28 \n",
       "  1289.3,1061.58 1302.21,1074.42 1315.11,1086.37 1328.01,1066.91 1340.91,1066.94 1353.81,1066.96 1366.71,1072.9 1379.62,1059.15 1392.52,1065.15 1405.42,1052.76 \n",
       "  1418.32,1075.95 1431.22,1070.73 1444.12,1070.74 1457.02,1072.61 1469.93,1065.26 1482.83,1078.25 1495.73,1068.93 1508.63,1068.93 1521.53,1074.74 1534.43,1059.34 \n",
       "  1547.34,1058.01 1560.24,1070.71 1573.14,1048.58 1586.04,1064.16 1598.94,1068.93 1611.84,1078.6 1624.75,1070.59 1637.65,1068.93 1650.55,1086.34 1663.45,1080.17 \n",
       "  1676.35,1063.23 1689.25,1061.58 1702.15,1076.28 1715.06,1061.58 1727.96,1067.14 1740.86,1070.73 1753.76,1045.18 1766.66,1083.87 1779.56,1060.49 1792.47,1073.95 \n",
       "  1805.37,1063.91 1818.27,1073.95 1831.17,1065.57 1844.07,1080.95 1856.97,1061.97 1869.87,1072.38 1882.78,1089.06 1895.68,1076.8 1908.58,1077.12 1921.48,1049.06 \n",
       "  1934.38,1072.75 1947.28,1059.52 1960.19,1072.64 1973.09,1082.49 1985.99,1064.96 1998.89,1081.1 2011.79,1060.74 2024.69,1057.25 2037.6,1076.64 2050.5,1061.22 \n",
       "  2063.4,1074.69 2076.3,1080.97 2089.2,1064.84 2102.1,1062.94 2115,1072.9 2127.91,1064.96 2140.81,1070.91 2153.71,1059.25 2166.61,1054.36 2179.51,1052.12 \n",
       "  2192.41,1062.59 2205.32,1065.84 2218.22,1064.38 2231.12,1068.93 2244.02,1075.03 2256.92,1067.39 2269.82,1073.59 2282.73,1072.1 2295.63,1070.54 2308.53,1070.55 \n",
       "  2321.43,1073.87 2334.33,1048.39 2347.23,1063.02 2360.13,1061.78 2373.04,1070.34 2385.94,1070.35 2398.84,1073.25 2411.74,1070.39 2424.64,1070.4 2437.54,1070.41 \n",
       "  2450.45,1061.62 2463.35,1080.76 2476.25,1086.45 2489.15,1065.63 2502.05,1073.91 2514.95,1090.2 2527.86,1052.76 2540.76,1060.49 2553.66,1073.95 2566.56,1074.08 \n",
       "  2579.46,1057.12 2592.36,1067.3 2605.26,1047.41 2618.17,1070.39 2631.07,1067.47 2643.97,1064.61 2656.87,1066.1 2669.77,1070.34 2682.67,1070.35 2695.58,1061.93 \n",
       "  2708.48,1056.93 2721.38,1074.17 2734.28,1063.69 2747.18,1070.23 2760.08,1078.26 2772.98,1080.17 2785.89,1076.29 2798.79,1054.47 2811.69,1067.54 2824.59,1059.47 \n",
       "  2837.49,1072.93 2850.39,1062.31 2863.3,1070.24 2876.2,1070.25 2889.1,1070.26 2902,1089.94 2914.9,1067.46 2927.8,1068.93 2940.71,1056.15 2953.61,1070.31 \n",
       "  2966.51,1064.82 2979.41,1082.98 2992.31,1076.35 3005.21,1071.98 3018.11,1076.76 3031.02,1052.09 3043.92,1066.02 3056.82,1059.06 3069.72,1070.31 3082.62,1068.93 \n",
       "  3095.52,1067.55 3108.43,1071.7 3121.33,1058.08 3134.23,1065.01 3147.13,1071.54 3160.03,1088.19 3172.93,1066.06 3185.84,1086.81 3198.74,1070.5 3211.64,1053.8 \n",
       "  3224.54,1085.64 3237.44,1059.64 3250.34,1064.45 3263.24,1061.68 3276.15,1073.25 3289.05,1064.61 3301.95,1089.96 3314.85,1056.64 3327.75,1070.43 3340.65,1070.44 \n",
       "  3353.56,1076.64 3366.46,1064.27 3379.36,1061.4 3392.26,1076.46 3405.16,1058.46 3418.06,1073.35 3430.97,1065.98 3443.87,1060.32 3456.77,1073.19 \n",
       "  \"/>\n",
       "<polyline clip-path=\"url(#clip462)\" style=\"stroke:#c271d2; stroke-linecap:butt; stroke-linejoin:round; stroke-width:4; stroke-opacity:1; fill:none\" points=\"\n",
       "  257.179,1028.11 270.08,1042.17 282.982,1058.49 295.883,1049.58 308.785,1072.03 321.686,1078.52 334.588,1075.6 347.49,1055.82 360.391,1082.04 373.293,1065.57 \n",
       "  386.194,1082.73 399.096,1058.49 411.997,1072.35 424.899,1090.8 437.801,1065.11 450.702,1080.61 463.604,1061.07 476.505,1040.29 489.407,1056.04 502.308,1034.66 \n",
       "  515.21,1068.93 528.112,1071.57 541.013,1053.61 553.915,1073.91 566.816,1063.95 579.718,1073.91 592.619,1068.93 605.521,1056.72 618.423,1048.69 631.324,1062.62 \n",
       "  644.226,1068.93 657.127,1051.14 670.029,1057.9 682.93,1070.73 695.832,1055.01 708.734,1042.26 721.635,1092.27 734.537,1072.26 747.438,1075.77 760.34,1067.2 \n",
       "  773.241,1053.99 786.143,1070.54 799.045,1064.16 811.946,1070.51 824.848,1067.35 837.749,1067.36 850.651,1046.82 863.552,1073.16 876.454,1064.7 889.356,1060.74 \n",
       "  902.257,1062.36 915.159,1070.23 928.06,1068.93 940.962,1075.55 953.863,1066.26 966.765,1067.61 979.667,1066.31 992.568,1061.27 1005.47,1072.72 1018.37,1062.65 \n",
       "  1031.27,1085.7 1044.17,1063.62 1057.08,1072.9 1069.98,1072.98 1082.88,1064.88 1095.78,1075.73 1108.68,1066.18 1121.58,1060.91 1134.49,1078.33 1147.39,1071.7 \n",
       "  1160.29,1080.41 1173.19,1070.41 1186.09,1065.98 1198.99,1067.47 1211.89,1073.35 1224.8,1070.43 1237.7,1060.13 1250.6,1067.5 1263.5,1060.56 1276.4,1074.47 \n",
       "  1289.3,1064.76 1302.21,1073.1 1315.11,1077.54 1328.01,1067.47 1340.91,1068.93 1353.81,1066.04 1366.71,1070.37 1379.62,1061.83 1392.52,1062.08 1405.42,1057.17 \n",
       "  1418.32,1072.77 1431.22,1071.54 1444.12,1068.93 1457.02,1070.25 1469.93,1065.01 1482.83,1074.17 1495.73,1070.26 1508.63,1067.6 1521.53,1075.69 1534.43,1064.85 \n",
       "  1547.34,1061.01 1560.24,1068.93 1573.14,1053.99 1586.04,1065.37 1598.94,1072.49 1611.84,1076.26 1624.75,1070.18 1637.65,1068.93 1650.55,1080.54 1663.45,1074.32 \n",
       "  1676.35,1068.93 1689.25,1062.22 1702.15,1074.28 1715.06,1068.93 1727.96,1073.04 1740.86,1073.13 1753.76,1047.51 1766.66,1083.4 1779.56,1062.22 1792.47,1072.93 \n",
       "  1805.37,1062.31 1818.27,1071.55 1831.17,1070.26 1844.07,1078.46 1856.97,1064.79 1869.87,1068.93 1882.78,1083.08 1895.68,1073.38 1908.58,1075.03 1921.48,1055.47 \n",
       "  1934.38,1071.84 1947.28,1063.15 1960.19,1071.8 1973.09,1079.32 1985.99,1064.41 1998.89,1081.22 2011.79,1061.16 2024.69,1057.1 2037.6,1077.74 2050.5,1063.02 \n",
       "  2063.4,1070.39 2076.3,1077.94 2089.2,1065.88 2102.1,1064.45 2115,1067.46 2127.91,1070.4 2140.81,1068.93 2153.71,1064.55 2166.61,1059.06 2179.51,1055.64 \n",
       "  2192.41,1063.86 2205.32,1065.21 2218.22,1064.08 2231.12,1067.74 2244.02,1072.54 2256.92,1065.32 2269.82,1072.54 2282.73,1075.09 2295.63,1067.68 2308.53,1077.84 \n",
       "  2321.43,1070.24 2334.33,1051.39 2347.23,1064.19 2360.13,1059.79 2373.04,1068.93 2385.94,1070.05 2398.84,1075.79 2411.74,1067.77 2424.64,1074.8 2437.54,1070.13 \n",
       "  2450.45,1061.87 2463.35,1079.62 2476.25,1084.16 2489.15,1067.62 2502.05,1075.6 2514.95,1085.91 2527.86,1057.45 2540.76,1060.74 2553.66,1072.98 2566.56,1073.07 \n",
       "  2579.46,1058.08 2592.36,1071.59 2605.26,1052.27 2618.17,1067.71 2631.07,1067.71 2643.97,1062.96 2656.87,1065.43 2669.77,1070.09 2682.67,1070.1 2695.58,1064.31 \n",
       "  2708.48,1058.9 2721.38,1074.44 2734.28,1064.51 2747.18,1070.03 2760.08,1080.23 2772.98,1079.69 2785.89,1073.91 2798.79,1060.3 2811.69,1073.82 2824.59,1058.11 \n",
       "  2837.49,1070.1 2850.39,1063.13 2863.3,1072.39 2876.2,1067.77 2889.1,1074.8 2902,1087.67 2914.9,1065.04 2927.8,1065.11 2940.71,1059.1 2953.61,1071.34 \n",
       "  2966.51,1065.32 2979.41,1078.7 2992.31,1075.29 3005.21,1074.17 3018.11,1077.07 3031.02,1052.98 3043.92,1065.14 3056.82,1059.16 3069.72,1068.93 3082.62,1068.93 \n",
       "  3095.52,1070.13 3108.43,1071.34 3121.33,1060.62 3134.23,1063.2 3147.13,1072.35 3160.03,1083.23 3172.93,1066.47 3185.84,1082.84 3198.74,1074.24 3211.64,1052.16 \n",
       "  3224.54,1085.7 3237.44,1062.31 3250.34,1066.34 3263.24,1060.14 3276.15,1071.4 3289.05,1065.23 3301.95,1084.16 3314.85,1061.17 3327.75,1067.67 3340.65,1067.68 \n",
       "  3353.56,1076.59 3366.46,1062.53 3379.36,1067.68 3392.26,1075.29 3405.16,1060.08 3418.06,1072.68 3430.97,1066.43 3443.87,1064.02 3456.77,1073.85 \n",
       "  \"/>\n",
       "<polyline clip-path=\"url(#clip462)\" style=\"stroke:#ac8d18; stroke-linecap:butt; stroke-linejoin:round; stroke-width:4; stroke-opacity:1; fill:none\" points=\"\n",
       "  257.179,1034.49 270.08,1042.68 282.982,1059.93 295.883,1054.78 308.785,1068.93 321.686,1080.17 334.588,1080.85 347.49,1057.01 360.391,1080.85 373.293,1068.93 \n",
       "  386.194,1072.03 399.096,1059.79 411.997,1071.93 424.899,1087.97 437.801,1065.63 450.702,1079.01 463.604,1065.51 476.505,1040.57 489.407,1068.93 502.308,1036.54 \n",
       "  515.21,1064.02 528.112,1073.85 541.013,1052.24 553.915,1075.91 566.816,1066.58 579.718,1073.67 592.619,1071.34 605.521,1054.88 618.423,1053.72 631.324,1068.93 \n",
       "  644.226,1060.74 657.127,1053.5 670.029,1058.11 682.93,1070.69 695.832,1056.91 708.734,1054.48 721.635,1093.64 734.537,1067.18 747.438,1074.22 760.34,1065.39 \n",
       "  773.241,1057.01 786.143,1072.26 799.045,1063.95 811.946,1072.24 824.848,1068.93 837.749,1065.63 850.651,1047.24 863.552,1071.89 876.454,1068.93 889.356,1058.77 \n",
       "  902.257,1063.35 915.159,1070.31 928.06,1070.32 940.962,1073.16 953.863,1066.1 966.765,1067.53 979.667,1066.16 992.568,1060.85 1005.47,1074.28 1018.37,1059.66 \n",
       "  1031.27,1086.51 1044.17,1066.12 1057.08,1074.59 1069.98,1074.76 1082.88,1061.68 1095.78,1074.71 1108.68,1066.02 1121.58,1063.23 1134.49,1077.54 1147.39,1070.4 \n",
       "  1160.29,1082.71 1173.19,1067.35 1186.09,1065.81 1198.99,1065.86 1211.89,1075.12 1224.8,1068.93 1237.7,1061.22 1250.6,1067.42 1263.5,1060.13 1276.4,1074.76 \n",
       "  1289.3,1063.11 1302.21,1071.82 1315.11,1076.35 1328.01,1068.93 1340.91,1070.45 1353.81,1067.41 1366.71,1070.45 1379.62,1058.54 1392.52,1063.23 1405.42,1058.01 \n",
       "  1418.32,1071.61 1431.22,1073.01 1444.12,1070.31 1457.02,1067.55 1469.93,1068.93 1482.83,1073.1 1495.73,1070.34 1508.63,1067.52 1521.53,1073.19 1534.43,1064.67 \n",
       "  1547.34,1062.03 1560.24,1068.93 1573.14,1054.56 1586.04,1068.93 1598.94,1072.75 1611.84,1078.14 1624.75,1070.28 1637.65,1068.93 1650.55,1082.98 1663.45,1071.87 \n",
       "  1676.35,1070.41 1689.25,1064.51 1702.15,1071.87 1715.06,1068.93 1727.96,1074.93 1740.86,1076.7 1753.76,1046.48 1766.66,1080.58 1779.56,1063.02 1792.47,1073.35 \n",
       "  1805.37,1061.62 1818.27,1074.76 1831.17,1070.41 1844.07,1079.64 1856.97,1064.27 1869.87,1067.4 1882.78,1079.9 1895.68,1075.48 1908.58,1072.29 1921.48,1057.41 \n",
       "  1934.38,1075.43 1947.28,1060.84 1960.19,1073.75 1973.09,1080.65 1985.99,1062.15 1998.89,1088.17 2011.79,1058.21 2024.69,1058.76 2037.6,1077.37 2050.5,1063.82 \n",
       "  2063.4,1068.93 2076.3,1079.28 2089.2,1067.17 2102.1,1065.45 2115,1063.82 2127.91,1072.32 2140.81,1067.23 2153.71,1065.57 2166.61,1056.04 2179.51,1051.05 \n",
       "  2192.41,1063.31 2205.32,1066.18 2218.22,1058.3 2231.12,1066.36 2244.02,1074.1 2256.92,1067.63 2269.82,1072.88 2282.73,1077.07 2295.63,1071.72 2308.53,1073.19 \n",
       "  2321.43,1070.37 2334.33,1050.98 2347.23,1065.01 2360.13,1061.32 2373.04,1067.69 2385.94,1068.93 2398.84,1071.42 2411.74,1071.45 2424.64,1074.07 2437.54,1068.93 \n",
       "  2450.45,1060.02 2463.35,1081.78 2476.25,1085.55 2489.15,1066.06 2502.05,1076.19 2514.95,1089.15 2527.86,1056.24 2540.76,1062.88 2553.66,1068.93 2566.56,1074.98 \n",
       "  2579.46,1057.01 2592.36,1070.38 2605.26,1052.19 2618.17,1068.93 2631.07,1067.6 2643.97,1061.12 2656.87,1066.39 2669.77,1068.93 2682.67,1072.75 2695.58,1063.86 \n",
       "  2708.48,1056.79 2721.38,1074.91 2734.28,1065.32 2747.18,1070.13 2760.08,1082.58 2772.98,1078.14 2785.89,1073.01 2798.79,1066.2 2811.69,1073.04 2824.59,1056.85 \n",
       "  2837.49,1067.63 2850.39,1065.09 2863.3,1072.77 2876.2,1067.64 2889.1,1074.14 2902,1089.79 2914.9,1071.89 2927.8,1067.45 2940.71,1054.68 2953.61,1070.31 \n",
       "  2966.51,1066.18 2979.41,1077.3 2992.31,1076.19 3005.21,1076.46 3018.11,1081.62 3031.02,1051.69 3043.92,1063.02 3056.82,1057.61 3069.72,1068.93 3082.62,1068.93 \n",
       "  3095.52,1067.56 3108.43,1071.68 3121.33,1062.13 3134.23,1061.07 3147.13,1074.14 3160.03,1082.59 3172.93,1067.52 3185.84,1086.55 3198.74,1076.76 3211.64,1055.05 \n",
       "  3224.54,1084.42 3237.44,1062.59 3250.34,1064.31 3263.24,1058.54 3276.15,1067.49 3289.05,1063.27 3301.95,1087.95 3314.85,1062.88 3327.75,1065.98 3340.65,1067.47 \n",
       "  3353.56,1079.4 3366.46,1061.4 3379.36,1063.11 3392.26,1077.74 3405.16,1058.7 3418.06,1074.71 3430.97,1066.02 3443.87,1061.83 3456.77,1077.48 \n",
       "  \"/>\n",
       "<path clip-path=\"url(#clip460)\" d=\"\n",
       "M274.243 483.593 L736.986 483.593 L736.986 172.553 L274.243 172.553  Z\n",
       "  \" fill=\"#ffffff\" fill-rule=\"evenodd\" fill-opacity=\"1\"/>\n",
       "<polyline clip-path=\"url(#clip460)\" style=\"stroke:#000000; stroke-linecap:butt; stroke-linejoin:round; stroke-width:4; stroke-opacity:1; fill:none\" points=\"\n",
       "  274.243,483.593 736.986,483.593 736.986,172.553 274.243,172.553 274.243,483.593 \n",
       "  \"/>\n",
       "<polyline clip-path=\"url(#clip460)\" style=\"stroke:#009af9; stroke-linecap:butt; stroke-linejoin:round; stroke-width:4; stroke-opacity:1; fill:none\" points=\"\n",
       "  311.927,224.393 538.031,224.393 \n",
       "  \"/>\n",
       "<path clip-path=\"url(#clip460)\" d=\"M577.174 207.113 L595.53 207.113 L595.53 211.048 L581.456 211.048 L581.456 219.52 Q582.475 219.173 583.493 219.011 Q584.512 218.826 585.53 218.826 Q591.317 218.826 594.697 221.997 Q598.076 225.168 598.076 230.585 Q598.076 236.163 594.604 239.265 Q591.132 242.344 584.813 242.344 Q582.637 242.344 580.368 241.974 Q578.123 241.603 575.715 240.862 L575.715 236.163 Q577.799 237.298 580.021 237.853 Q582.243 238.409 584.72 238.409 Q588.725 238.409 591.063 236.302 Q593.401 234.196 593.401 230.585 Q593.401 226.974 591.063 224.867 Q588.725 222.761 584.72 222.761 Q582.845 222.761 580.97 223.177 Q579.118 223.594 577.174 224.474 L577.174 207.113 Z\" fill=\"#000000\" fill-rule=\"evenodd\" fill-opacity=\"1\" /><path clip-path=\"url(#clip460)\" d=\"M602.127 207.113 L607.15 207.113 L616.734 221.326 L626.248 207.113 L631.271 207.113 L619.049 225.214 L619.049 241.673 L614.35 241.673 L614.35 225.214 L602.127 207.113 Z\" fill=\"#000000\" fill-rule=\"evenodd\" fill-opacity=\"1\" /><polyline clip-path=\"url(#clip460)\" style=\"stroke:#e26f46; stroke-linecap:butt; stroke-linejoin:round; stroke-width:4; stroke-opacity:1; fill:none\" points=\"\n",
       "  311.927,276.233 538.031,276.233 \n",
       "  \"/>\n",
       "<path clip-path=\"url(#clip460)\" d=\"M575.715 258.953 L597.938 258.953 L597.938 260.943 L585.391 293.513 L580.507 293.513 L592.313 262.888 L575.715 262.888 L575.715 258.953 Z\" fill=\"#000000\" fill-rule=\"evenodd\" fill-opacity=\"1\" /><path clip-path=\"url(#clip460)\" d=\"M601.896 258.953 L606.919 258.953 L616.502 273.166 L626.016 258.953 L631.039 258.953 L618.817 277.054 L618.817 293.513 L614.118 293.513 L614.118 277.054 L601.896 258.953 Z\" fill=\"#000000\" fill-rule=\"evenodd\" fill-opacity=\"1\" /><polyline clip-path=\"url(#clip460)\" style=\"stroke:#3da44d; stroke-linecap:butt; stroke-linejoin:round; stroke-width:4; stroke-opacity:1; fill:none\" points=\"\n",
       "  311.927,328.073 538.031,328.073 \n",
       "  \"/>\n",
       "<path clip-path=\"url(#clip460)\" d=\"M576.387 341.417 L584.026 341.417 L584.026 315.052 L575.715 316.719 L575.715 312.459 L583.979 310.793 L588.655 310.793 L588.655 341.417 L596.294 341.417 L596.294 345.353 L576.387 345.353 L576.387 341.417 Z\" fill=\"#000000\" fill-rule=\"evenodd\" fill-opacity=\"1\" /><path clip-path=\"url(#clip460)\" d=\"M615.738 313.871 Q612.127 313.871 610.299 317.436 Q608.493 320.978 608.493 328.107 Q608.493 335.214 610.299 338.779 Q612.127 342.32 615.738 342.32 Q619.373 342.32 621.178 338.779 Q623.007 335.214 623.007 328.107 Q623.007 320.978 621.178 317.436 Q619.373 313.871 615.738 313.871 M615.738 310.168 Q621.549 310.168 624.604 314.774 Q627.683 319.357 627.683 328.107 Q627.683 336.834 624.604 341.441 Q621.549 346.024 615.738 346.024 Q609.928 346.024 606.85 341.441 Q603.794 336.834 603.794 328.107 Q603.794 319.357 606.85 314.774 Q609.928 310.168 615.738 310.168 Z\" fill=\"#000000\" fill-rule=\"evenodd\" fill-opacity=\"1\" /><path clip-path=\"url(#clip460)\" d=\"M630.738 310.793 L635.761 310.793 L645.345 325.006 L654.859 310.793 L659.882 310.793 L647.66 328.894 L647.66 345.353 L642.96 345.353 L642.96 328.894 L630.738 310.793 Z\" fill=\"#000000\" fill-rule=\"evenodd\" fill-opacity=\"1\" /><polyline clip-path=\"url(#clip460)\" style=\"stroke:#c271d2; stroke-linecap:butt; stroke-linejoin:round; stroke-width:4; stroke-opacity:1; fill:none\" points=\"\n",
       "  311.927,379.913 538.031,379.913 \n",
       "  \"/>\n",
       "<path clip-path=\"url(#clip460)\" d=\"M581.34 393.257 L597.66 393.257 L597.66 397.193 L575.715 397.193 L575.715 393.257 Q578.378 390.503 582.961 385.873 Q587.567 381.221 588.748 379.878 Q590.993 377.355 591.873 375.619 Q592.776 373.859 592.776 372.17 Q592.776 369.415 590.831 367.679 Q588.91 365.943 585.808 365.943 Q583.609 365.943 581.155 366.707 Q578.725 367.471 575.947 369.022 L575.947 364.299 Q578.771 363.165 581.225 362.586 Q583.678 362.008 585.715 362.008 Q591.086 362.008 594.28 364.693 Q597.475 367.378 597.475 371.869 Q597.475 373.998 596.664 375.92 Q595.877 377.818 593.771 380.41 Q593.192 381.082 590.09 384.299 Q586.989 387.494 581.34 393.257 Z\" fill=\"#000000\" fill-rule=\"evenodd\" fill-opacity=\"1\" /><path clip-path=\"url(#clip460)\" d=\"M617.475 365.711 Q613.863 365.711 612.035 369.276 Q610.229 372.818 610.229 379.947 Q610.229 387.054 612.035 390.619 Q613.863 394.16 617.475 394.16 Q621.109 394.16 622.914 390.619 Q624.743 387.054 624.743 379.947 Q624.743 372.818 622.914 369.276 Q621.109 365.711 617.475 365.711 M617.475 362.008 Q623.285 362.008 626.34 366.614 Q629.419 371.197 629.419 379.947 Q629.419 388.674 626.34 393.281 Q623.285 397.864 617.475 397.864 Q611.664 397.864 608.586 393.281 Q605.53 388.674 605.53 379.947 Q605.53 371.197 608.586 366.614 Q611.664 362.008 617.475 362.008 Z\" fill=\"#000000\" fill-rule=\"evenodd\" fill-opacity=\"1\" /><path clip-path=\"url(#clip460)\" d=\"M632.474 362.633 L637.498 362.633 L647.081 376.846 L656.595 362.633 L661.618 362.633 L649.396 380.734 L649.396 397.193 L644.697 397.193 L644.697 380.734 L632.474 362.633 Z\" fill=\"#000000\" fill-rule=\"evenodd\" fill-opacity=\"1\" /><polyline clip-path=\"url(#clip460)\" style=\"stroke:#ac8d18; stroke-linecap:butt; stroke-linejoin:round; stroke-width:4; stroke-opacity:1; fill:none\" points=\"\n",
       "  311.927,431.753 538.031,431.753 \n",
       "  \"/>\n",
       "<path clip-path=\"url(#clip460)\" d=\"M591.34 430.398 Q594.697 431.116 596.572 433.385 Q598.47 435.653 598.47 438.986 Q598.47 444.102 594.951 446.903 Q591.433 449.704 584.952 449.704 Q582.776 449.704 580.461 449.264 Q578.169 448.847 575.715 447.991 L575.715 443.477 Q577.66 444.611 579.975 445.19 Q582.29 445.769 584.813 445.769 Q589.211 445.769 591.502 444.033 Q593.817 442.297 593.817 438.986 Q593.817 435.931 591.664 434.218 Q589.535 432.482 585.715 432.482 L581.688 432.482 L581.688 428.639 L585.901 428.639 Q589.35 428.639 591.178 427.274 Q593.007 425.885 593.007 423.292 Q593.007 420.63 591.109 419.218 Q589.234 417.783 585.715 417.783 Q583.794 417.783 581.595 418.199 Q579.396 418.616 576.757 419.496 L576.757 415.329 Q579.419 414.588 581.734 414.218 Q584.072 413.848 586.132 413.848 Q591.456 413.848 594.558 416.278 Q597.66 418.686 597.66 422.806 Q597.66 425.676 596.016 427.667 Q594.373 429.635 591.34 430.398 Z\" fill=\"#000000\" fill-rule=\"evenodd\" fill-opacity=\"1\" /><path clip-path=\"url(#clip460)\" d=\"M617.336 417.551 Q613.725 417.551 611.896 421.116 Q610.09 424.658 610.09 431.787 Q610.09 438.894 611.896 442.459 Q613.725 446 617.336 446 Q620.97 446 622.775 442.459 Q624.604 438.894 624.604 431.787 Q624.604 424.658 622.775 421.116 Q620.97 417.551 617.336 417.551 M617.336 413.848 Q623.146 413.848 626.201 418.454 Q629.28 423.037 629.28 431.787 Q629.28 440.514 626.201 445.121 Q623.146 449.704 617.336 449.704 Q611.525 449.704 608.447 445.121 Q605.391 440.514 605.391 431.787 Q605.391 423.037 608.447 418.454 Q611.525 413.848 617.336 413.848 Z\" fill=\"#000000\" fill-rule=\"evenodd\" fill-opacity=\"1\" /><path clip-path=\"url(#clip460)\" d=\"M632.336 414.473 L637.359 414.473 L646.942 428.686 L656.456 414.473 L661.479 414.473 L649.257 432.574 L649.257 449.033 L644.558 449.033 L644.558 432.574 L632.336 414.473 Z\" fill=\"#000000\" fill-rule=\"evenodd\" fill-opacity=\"1\" /></svg>\n"
      ]
     },
     "execution_count": 30,
     "metadata": {},
     "output_type": "execute_result"
    }
   ],
   "source": [
    "s_diff = diff(log.(Matrix(s_train)), dims = 1); lb = [\"5Y\", \"7Y\", \"10Y\", \"20Y\", \"30Y\"]\n",
    "h4(s_diff, \"First-Differences\", 1, 5, lb)"
   ]
  },
  {
   "cell_type": "markdown",
   "id": "controlled-surveillance",
   "metadata": {},
   "source": [
    "It seems to be more \"stationary\", so there is at least one order of differencing in the series."
   ]
  },
  {
   "cell_type": "markdown",
   "id": "center-joint",
   "metadata": {},
   "source": [
    "### Running Augmented Dickey-Fuller (ADF) Test to $\\text{Confirm}^*$ Stationarity"
   ]
  },
  {
   "cell_type": "markdown",
   "id": "wrong-bobby",
   "metadata": {},
   "source": [
    "**Some clarifications**: the following models are on log-transformed first-differences, not the original data. The first-differences may be, e.g., a white noise series, and the original data could be a series based on a log-normal or Cauchy variable, which is why a data-driven approach to modeling is more precise, to let the data speak for itself, after removing non-stationarity and thereby, determining the differencing order of the series."
   ]
  },
  {
   "cell_type": "markdown",
   "id": "unauthorized-wyoming",
   "metadata": {},
   "source": [
    "Here, I am testing for unit root, thereby confirming$^*$ that the differenced time series is either stationary or trend-stationary. If there is no unit root ($H_0$), the time series would be a random walk\n",
    "\n",
    "$$\n",
    "    H_0: \\hat{Y_t} = \\mu + \\beta_t + \\phi Y_{t - 1} + \\epsilon_t\n",
    "$$\n",
    "\n",
    "for $\\phi \\neq 0$, where the constant term, $\\mu$ (not always zero), is depicted for completion of the formula, as well as the error term, $\\epsilon_t$."
   ]
  },
  {
   "cell_type": "markdown",
   "id": "coupled-sigma",
   "metadata": {},
   "source": [
    "$^*$under the $5\\%$ confidence level"
   ]
  },
  {
   "cell_type": "markdown",
   "id": "opponent-shelf",
   "metadata": {},
   "source": [
    "I then test for $H_0$, that there is a unit root, against $H_a$, that there is no unit root present and the time series is neither stationary nor trend stationary (indicating that there is no regression to the mean). There are many nonstationary models, some involving an $\\text{AR}$ term, others an $\\text{MA}$ term and some a combination of both. Some models are volatility models, like $\\text{GARCH}$; I will be modeling volatility in `Treas TS Analysis II`.\n",
    "\n",
    "Also, for completion of the formula, $\\beta_t$ is introduced, but with no linear trend in the data, by $\\textit{modus ponendo ponens}$, I have that\n",
    "\n",
    "$$\n",
    "    \\beta_t = 0\\ \\forall t \\rightarrow H_0 : \\hat{Y_t} = \\mu + \\phi Y_{t-1} + \\epsilon_t \\\\\n",
    "    \\beta_t = 0\\ \\forall t \\\\\n",
    "    \\therefore H_0 : \\hat{Y_t} = \\mu + \\phi Y_{t-1} + \\epsilon_t\n",
    "$$\n",
    "\n",
    "The constant term, $\\mu$, can be replaced with $\\mu = 0$, further simplifying the model to $H_0 : \\hat{Y_t} = \\phi Y_{t-1} + \\epsilon_t$, but what if $\\mu \\neq 0$? I will be investigating the constant term in `Treas TS Analysis III`.\n",
    "\n",
    "If the $\\text{ADF}$ test on first-differences results in stationarity, I would succeed. Otherwise, I would need to difference again, taking another $\\text{ADF}$ test, and repeating for as along as there is nonstationarity left in the model. The end result would be that I can model a time series for $\\text{ARIMA}(p, d, q)$, as in the precedure illustrated below.\n",
    "\n",
    "$$\n",
    "    \\text{let}\\ W_t = Y_t - Y_{t - 1} \\\\~\\\\\n",
    "    \\therefore \\forall t:\n",
    "    W_t = \\mu + \\overbrace{\\phi_1 W_{t -1} + \\phi_2 W_{t - 2} + \\cdots + \\phi_p W_{t - p}}^{\\text{lagged W values}} + \\epsilon_t - \\underbrace{\\theta_1 \\epsilon_{t - 1} - \\theta_2 \\epsilon_{t - 2} - \\cdots - \\theta_q \\epsilon_{t - q}}_{\\text{lagged error terms}} \\quad \\forall \\phi \\in (-1, 1), \\quad \\forall \\theta \\in [-1, 1] \\quad \\backslash 0\n",
    "$$\n",
    "\n",
    "where $\\epsilon_t \\sim \\mathcal{N}(\\mu_\\epsilon, \\sigma^2_\\epsilon)$ is an error term, and $\\theta \\in [-1, 1]$, for invertibility of the lagged errors. Taking a lag of $k = \\lfloor(n - 1)^{(1 \\ / \\ m)}\\rfloor$, where $m = 3$ and $n$ is the number of time periods for the univariate regressor, I then have"
   ]
  },
  {
   "cell_type": "code",
   "execution_count": null,
   "id": "crucial-geometry",
   "metadata": {},
   "outputs": [],
   "source": [
    "using HypothesisTests\n",
    "\n",
    "Y = s_diff\n",
    "m = 3\n",
    "[ADFTest(Y[:, C], Symbol(\"constant\"), trunc(Int, (length(Y)-1)^(1/m))) for C in 1:5]"
   ]
  },
  {
   "cell_type": "markdown",
   "id": "prostate-roller",
   "metadata": {},
   "source": [
    "This results in rejection of the $H_0$ hypothesis for all tests, which means that there is no unit root for the first-differences of the inflation rates. This means that there is stationarity in the data, since there is no $\\beta$ defining a linear trend in the series (i.e., not a trend-stationary time series), which means that the differencing order $d = 1$. I will now evaluate how \"normal\" the time series are distributed, at the $5\\%$ confidence level ($\\alpha = 5\\%$), using the Jarque-Bera test."
   ]
  },
  {
   "cell_type": "markdown",
   "id": "inside-accuracy",
   "metadata": {},
   "source": [
    "### Running Jarque-Bera Lagrange Multiplier Test to Evaluate Normality and Further Notes on Log-Transformed First-Differences"
   ]
  },
  {
   "cell_type": "markdown",
   "id": "beginning-cycling",
   "metadata": {},
   "source": [
    "When I first tackled this section, I thought I was unable to perform log-normal transformation on the $7$ and $10$ year real CMT rates, since five (5) of the real yield curve rate entries are $< 0$ for the $7$ year and nine (9) of the entries are $< 0$ for the $10$ year, but then I looked at it again, and I was taking logarithms for the original data (nominal and real CMT values) and not the inflation rates themselves.\n",
    "\n",
    "In addition, I must keep in mind that there is a difference between a normal and log-normal series distribution. A series could be normally distributed but not log-normally distributed. A series that is log-normally distributed is normally distributed **in its logarithm**.\n",
    "\n",
    "If I want to find out if a series that is normally distributed **in its random variable** (each stochastic process involves a random variable) is also normally distributed **in its logarithm**, I would need to perform a **J-B test** on the log-variable in question (or series determined by such log-variable), prior to differencing the logirthm of inflation rates in the yield curve.\n",
    "\n",
    "$\\therefore$\n",
    "\n",
    "Following the equation\n",
    "\n",
    "$\\log{(B)} - \\log{(A)} = \\log{\\left(\\frac{B}{A}\\right)}$\n",
    "\n",
    "NOT\n",
    "\n",
    "$\\log({B}) - \\log({A}) \\neq \\log{(B - A)} = \\log{(C)}, \\quad \\text{where}\\ C = B - A$\n",
    "\n",
    "I would first need to make sure that the logarithm of each inflation rate is nonnegative and then take first-differences (finding negative nominal or real values has nothing to do with the process at hand, provided that the inflation rates are nonnegative), which is why"
   ]
  },
  {
   "cell_type": "code",
   "execution_count": null,
   "id": "champion-border",
   "metadata": {},
   "outputs": [],
   "source": [
    "h5(tnf)"
   ]
  },
  {
   "cell_type": "markdown",
   "id": "intelligent-heath",
   "metadata": {},
   "source": [
    "which means that none of the inflation rates are negative. Furthermore,"
   ]
  },
  {
   "cell_type": "code",
   "execution_count": null,
   "id": "streaming-underwear",
   "metadata": {},
   "outputs": [],
   "source": [
    "Y = s_diff\n",
    "[JarqueBeraTest(Y[:, C]) for C in 1:5]"
   ]
  },
  {
   "cell_type": "markdown",
   "id": "regular-sessions",
   "metadata": {},
   "source": [
    "**Note:** As of $18$ Jan $2022$, the above error is no longer relevant, since I moved all the analysis on the original `tux` and `tuy` dataframes to `Exploratory Analysis`."
   ]
  },
  {
   "cell_type": "markdown",
   "id": "legitimate-gnome",
   "metadata": {},
   "source": [
    "$\\therefore$\n",
    "\n",
    "Log-transformed first-differences for Year (10) bond CMT inflation are normally distributed. Rejecting at the $5\\%$ confidence level, the $5$, $7$, $20$ and $30$ year inflation series have skewness and excess kurtosis greater than zero (0) (and no unit root at the $5\\%$ level for $2021$ as per the ADF test results).\n",
    "\n",
    "I can confortably reject $H_0$ for all inflation rates, except the $10$Y bond, establishing that these series are not normal in their logarithm or log-normal for any predictive model that can be built based on these test results, with $95\\%$ confidence. The $10$Y bond is log-normal for fiscal year $2021$, however.\n",
    "\n",
    "Regardless, it is best practice to use the first-differences of log transformations for Treasury securities with maturities $C \\in \\{5, 7, 10, 20, 30\\}$ years, due to the $\\text{AIC}$ condition mentioned earlier."
   ]
  },
  {
   "cell_type": "markdown",
   "id": "adopted-bridal",
   "metadata": {},
   "source": [
    "## Plotting ACF and PACF $+$ Akiake Information Criterion (AIC) Statespace Modeling"
   ]
  },
  {
   "cell_type": "markdown",
   "id": "lasting-perth",
   "metadata": {},
   "source": [
    "$\n",
    "    W_t = \\mu + \\overbrace{\\phi_1 W_{t -1} + \\phi_2 W_{t - 2} + \\cdots + \\phi_p W_{t - p}}^{\\text{lagged W values}} + \\epsilon_t - \\underbrace{\\theta_1 \\epsilon_{t - 1} - \\theta_2 \\epsilon_{t - 2} - \\cdots - \\theta_q \\epsilon_{t - q}}_{\\text{lagged error terms}} \\quad \\forall \\phi \\in (-1, 1) \\quad \\forall \\theta \\in [-1, 1] \\quad \\backslash 0\n",
    "$"
   ]
  },
  {
   "cell_type": "markdown",
   "id": "sixth-mobile",
   "metadata": {},
   "source": [
    "### ACF & PACF: Selecting the Moving Average (MA) and Autoregressive (AR) Terms"
   ]
  },
  {
   "cell_type": "markdown",
   "id": "convenient-throat",
   "metadata": {},
   "source": [
    "I will now determine the ACF and PACF for the above differenced time series. With a **differencing parameter $d = 1$**, the other two parameters in an $\\text{ARIMA}(p, 1, q)$ model, the **$p$ (lagged Y values)** and the **$q$ (lagged errors)** in the inflation data will be determined subsequently. Two functions come to mind: the autocorrelation function (ACF) and its partial counterpart, the PACF."
   ]
  },
  {
   "cell_type": "code",
   "execution_count": null,
   "id": "flying-developer",
   "metadata": {
    "tags": []
   },
   "outputs": [],
   "source": [
    "using StatsBase\n",
    "\n",
    "Y = s_diff[:, 3]\n",
    "total_lags = 20\n",
    "\n",
    "s1 = scatter(collect(1:total_lags), autocor(Y, collect(1:total_lags)), title = \"ACF\", label = \"10 Year CMT Bond ACF Variation\")\n",
    "s2 = scatter(collect(1:total_lags), pacf(Y, collect(1:total_lags)), title = \"PACF\", ylim = [-0.4,0.4], label = \"10 Year CMT Bond PACF Variation\");\n",
    "\n",
    "plot(s1, s2, layout = (2, 1), size = (900, 500))"
   ]
  },
  {
   "cell_type": "markdown",
   "id": "satisfactory-athletics",
   "metadata": {},
   "source": [
    "I honestly don't know how to interpret these charts too well. In the `R` programming language it is a lot easier, so I will try"
   ]
  },
  {
   "cell_type": "markdown",
   "id": "trying-award",
   "metadata": {},
   "source": [
    "$\\forall$ bond CMT inflation series"
   ]
  },
  {
   "cell_type": "code",
   "execution_count": null,
   "id": "handmade-crowd",
   "metadata": {},
   "outputs": [],
   "source": [
    "using RCall\n",
    "\n",
    "Y = s_diff\n",
    "@rput Y\n",
    "R\"\"\"\n",
    "    options(warn=-1)\n",
    "\n",
    "    par(mfrow=c(1, 1))\n",
    "    require(\"tseries\")\n",
    "\n",
    "    pacf(Y[, 1], lag = 20, ylim = c(-0.4, 0.4))\n",
    "    acf(Y[, 1], lag = 20, ylim = c(-0.4, 0.4))\n",
    "\n",
    "    pacf(Y[, 2], lag = 20, ylim = c(-0.4, 0.4))\n",
    "    acf(Y[, 2], lag = 20, ylim = c(-0.4, 0.4))\n",
    "\n",
    "    pacf(Y[, 3], lag = 20, ylim = c(-0.4, 0.4))\n",
    "    acf(Y[, 3], lag = 20, ylim = c(-0.4, 0.4))\n",
    "\n",
    "    pacf(Y[, 4], lag = 20, ylim = c(-0.4, 0.4))\n",
    "    acf(Y[, 4], lag = 20, ylim = c(-0.4, 0.4))\n",
    "\n",
    "    pacf(Y[, 5], lag = 20, ylim = c(-0.4, 0.4))\n",
    "    acf(Y[, 5], lag = 20, ylim = c(-0.4, 0.4))\n",
    "\"\"\""
   ]
  },
  {
   "cell_type": "markdown",
   "id": "supreme-hebrew",
   "metadata": {},
   "source": [
    "The auto-regressive series is independently distributed, but I have to gain more insight using the Akiake Information Criterion and the log-likelihood function."
   ]
  },
  {
   "cell_type": "markdown",
   "id": "suburban-humidity",
   "metadata": {},
   "source": [
    "### The Akiake Information Criterion"
   ]
  },
  {
   "cell_type": "markdown",
   "id": "toxic-range",
   "metadata": {},
   "source": [
    "The Akiake Information Criterion says that"
   ]
  },
  {
   "cell_type": "markdown",
   "id": "cloudy-metabolism",
   "metadata": {},
   "source": [
    "$$\n",
    "    \\text{AIC} = -\\frac{2}{T}\\ln(\\text{likelihood)} + \\frac{2}{T}\\times \\text{(number of parameters)}\n",
    "$$"
   ]
  },
  {
   "cell_type": "markdown",
   "id": "lonely-neutral",
   "metadata": {},
   "source": [
    "where $T$ is the sample size. I would first need to find what the log-likelihood function has to say about the data."
   ]
  },
  {
   "cell_type": "markdown",
   "id": "aquatic-savannah",
   "metadata": {},
   "source": [
    "### The Log-Likelihood Function"
   ]
  },
  {
   "cell_type": "markdown",
   "id": "committed-dimension",
   "metadata": {},
   "source": [
    "For the AIC, the log-likelihood is evaluated at the maximum likelihood estimates. The following is incorrect, because later I realize that I am working with an $\\text{ARIMA}$ model, and the following is an $\\text{AR}$ process I copied from Dr. Ruey Tsay's Financial Time Series textbook (p. 45). I need to model both $\\text{AR}$ and $\\text{MA}$."
   ]
  },
  {
   "cell_type": "markdown",
   "id": "biological-hayes",
   "metadata": {},
   "source": [
    "**Maturity $T = 5$Y**"
   ]
  },
  {
   "cell_type": "code",
   "execution_count": null,
   "id": "greek-combination",
   "metadata": {},
   "outputs": [],
   "source": [
    "Y = s_diff[:, 1]\n",
    "@rput Y\n",
    "R\"\"\"\n",
    "    ord=ar(Y, method = \"mle\")\n",
    "    ord$aic\n",
    "\"\"\""
   ]
  },
  {
   "cell_type": "markdown",
   "id": "north-classification",
   "metadata": {},
   "source": [
    "The minimum occurs at $p = 1$. Therefore, $\\text{AR}(1)$ is preferred by the criterion, and"
   ]
  },
  {
   "cell_type": "code",
   "execution_count": null,
   "id": "single-dependence",
   "metadata": {},
   "outputs": [],
   "source": [
    "R\"ord$order\""
   ]
  },
  {
   "cell_type": "markdown",
   "id": "dietary-medicine",
   "metadata": {},
   "source": [
    "$\\therefore$ an $\\text{AR}(1)$ model \"seems\" to best fit the data."
   ]
  },
  {
   "cell_type": "markdown",
   "id": "spread-moral",
   "metadata": {},
   "source": [
    "**Maturity $T = 7$Y**"
   ]
  },
  {
   "cell_type": "code",
   "execution_count": null,
   "id": "musical-insurance",
   "metadata": {},
   "outputs": [],
   "source": [
    "Y = s_diff[:, 2]\n",
    "@rput Y\n",
    "R\"\"\"\n",
    "    ord=ar(Y, method = \"mle\")\n",
    "    ord$aic\n",
    "\"\"\""
   ]
  },
  {
   "cell_type": "markdown",
   "id": "minor-valuation",
   "metadata": {},
   "source": [
    "The minimum occurs at $p = 0$. Therefore, $\\text{AR}(0)$ is preferred by the criterion, and"
   ]
  },
  {
   "cell_type": "code",
   "execution_count": null,
   "id": "frank-communication",
   "metadata": {},
   "outputs": [],
   "source": [
    "R\"ord$order\""
   ]
  },
  {
   "cell_type": "markdown",
   "id": "worldwide-payroll",
   "metadata": {},
   "source": [
    "$\\therefore$ an $\\text{AR}(0)$ model \"seems\" to best fits the data."
   ]
  },
  {
   "cell_type": "markdown",
   "id": "underlying-input",
   "metadata": {},
   "source": [
    "**Maturity $T = 10$Y**"
   ]
  },
  {
   "cell_type": "code",
   "execution_count": null,
   "id": "changed-judgment",
   "metadata": {},
   "outputs": [],
   "source": [
    "Y = s_diff[:, 3]\n",
    "@rput Y\n",
    "R\"\"\"\n",
    "    ord=ar(Y, method = \"mle\")\n",
    "    ord$aic\n",
    "\"\"\""
   ]
  },
  {
   "cell_type": "markdown",
   "id": "backed-pontiac",
   "metadata": {},
   "source": [
    "The minimum occurs at $p = 0$. Therefore, $\\text{AR}(0)$ is preferred by the criterion, and"
   ]
  },
  {
   "cell_type": "code",
   "execution_count": null,
   "id": "outer-contrast",
   "metadata": {},
   "outputs": [],
   "source": [
    "R\"ord$order\""
   ]
  },
  {
   "cell_type": "markdown",
   "id": "adapted-still",
   "metadata": {},
   "source": [
    "$\\therefore$ an $\\text{AR}(0)$ model \"seems\" to best fit the data."
   ]
  },
  {
   "cell_type": "markdown",
   "id": "dependent-genome",
   "metadata": {},
   "source": [
    "**Maturity $T = 20$Y**"
   ]
  },
  {
   "cell_type": "code",
   "execution_count": null,
   "id": "thousand-title",
   "metadata": {},
   "outputs": [],
   "source": [
    "Y = s_diff[:, 4]\n",
    "@rput Y\n",
    "R\"\"\"\n",
    "    ord=ar(Y, method = \"mle\")\n",
    "    ord$aic\n",
    "\"\"\""
   ]
  },
  {
   "cell_type": "markdown",
   "id": "liable-chamber",
   "metadata": {},
   "source": [
    "The minimum occurs at $p = 3$. Therefore, $\\text{AR}(3)$ is preferred by the criterion, and"
   ]
  },
  {
   "cell_type": "code",
   "execution_count": null,
   "id": "direct-bubble",
   "metadata": {},
   "outputs": [],
   "source": [
    "R\"ord$order\""
   ]
  },
  {
   "cell_type": "markdown",
   "id": "interested-grammar",
   "metadata": {},
   "source": [
    "$\\therefore$ an $\\text{AR}(3)$ model \"seems\" to best fit the data."
   ]
  },
  {
   "cell_type": "markdown",
   "id": "contemporary-mounting",
   "metadata": {},
   "source": [
    "**Maturity $T = 30$Y**"
   ]
  },
  {
   "cell_type": "code",
   "execution_count": null,
   "id": "pleasant-semiconductor",
   "metadata": {},
   "outputs": [],
   "source": [
    "Y = s_diff[:, 5]\n",
    "@rput Y\n",
    "R\"\"\"\n",
    "    ord=ar(Y, method = \"mle\")\n",
    "    ord$aic\n",
    "\"\"\""
   ]
  },
  {
   "cell_type": "markdown",
   "id": "stopped-refrigerator",
   "metadata": {},
   "source": [
    "The minimum occurs at $p = 5$. Therefore, $\\text{AR}(5)$ is preferred by the criterion, and"
   ]
  },
  {
   "cell_type": "code",
   "execution_count": null,
   "id": "bigger-version",
   "metadata": {},
   "outputs": [],
   "source": [
    "R\"ord$order\""
   ]
  },
  {
   "cell_type": "markdown",
   "id": "solved-azerbaijan",
   "metadata": {},
   "source": [
    "$\\therefore$ an $\\text{AR}(5)$ model \"seems\" to best fit the data; however, none of the above is true, because I was finding log-likelihood of the $\\text{AR}$ component, alone, instead of $\\text{AR}$ in tandem with $\\text{MA}$."
   ]
  },
  {
   "cell_type": "markdown",
   "id": "appreciated-seeking",
   "metadata": {},
   "source": [
    "## Constructing ARIMA Models"
   ]
  },
  {
   "cell_type": "markdown",
   "id": "individual-enlargement",
   "metadata": {},
   "source": [
    "With the information I have, I may proceed to construct $\\text{ARIMA}(p, 1, q)$ models in `Python`."
   ]
  },
  {
   "cell_type": "markdown",
   "id": "solar-renaissance",
   "metadata": {},
   "source": [
    "I am saving each column of `s_diff` as comma-split value (CSV) files for maturities corrensponding to $T \\in [5, 7, 10, 20, 30]$ and switching to the Python kernel for executing `Python` code for a precise statspace modeling approach, but first to save the first-differences as a CSV file."
   ]
  },
  {
   "cell_type": "code",
   "execution_count": null,
   "id": "clinical-constraint",
   "metadata": {},
   "outputs": [],
   "source": [
    "using CSV\n",
    "\n",
    "CSV.write(\"log_diff.csv\", (x5 = s_diff[:, 1], x7 = s_diff[:, 2], x10 = s_diff[:, 3], x20 = s_diff[:, 4], x30 = s_diff[:, 5]));"
   ]
  },
  {
   "cell_type": "markdown",
   "id": "cellular-space",
   "metadata": {},
   "source": [
    "Switching to `Python` kernel to `list` available packages"
   ]
  },
  {
   "cell_type": "code",
   "execution_count": null,
   "id": "exempt-hospital",
   "metadata": {
    "tags": []
   },
   "outputs": [],
   "source": [
    "pip list"
   ]
  },
  {
   "cell_type": "markdown",
   "id": "nasty-longitude",
   "metadata": {},
   "source": [
    "and seeing that all of the packages I need are available, I may safely continue. Earlier I had to install `statsmodels` and `matplotlib` using the `Anaconda Powershell Prompt` and calling `python -m pip` to"
   ]
  },
  {
   "cell_type": "markdown",
   "id": "found-pollution",
   "metadata": {},
   "source": [
    "```python\n",
    "install matplotlib, statsmodels\n",
    "```"
   ]
  },
  {
   "cell_type": "markdown",
   "id": "cathedral-craps",
   "metadata": {},
   "source": [
    "Then, I import required packages"
   ]
  },
  {
   "cell_type": "code",
   "execution_count": null,
   "id": "frozen-master",
   "metadata": {},
   "outputs": [],
   "source": [
    "from statsmodels.graphics.tsaplots import plot_pacf\n",
    "from statsmodels.graphics.tsaplots import plot_acf\n",
    "from statsmodels.tsa.arima_process import ArmaProcess\n",
    "from statsmodels.stats.diagnostic import acorr_ljungbox\n",
    "from statsmodels.tsa.statespace.sarimax import SARIMAX\n",
    "from statsmodels.tsa.stattools import adfuller\n",
    "from statsmodels.tsa.stattools import pacf\n",
    "from statsmodels.tsa.stattools import acf\n",
    "from tqdm import tqdm_notebook\n",
    "import matplotlib.pyplot as plt\n",
    "import numpy as np\n",
    "import pandas as pd\n",
    "import math as mt\n",
    "\n",
    "import warnings\n",
    "warnings.filterwarnings('ignore')\n",
    "\n",
    "%matplotlib inline"
   ]
  },
  {
   "cell_type": "markdown",
   "id": "enabling-hanging",
   "metadata": {
    "tags": []
   },
   "source": [
    "and define the following $\\text{ARIMA}(p, d, q)$ optimizer."
   ]
  },
  {
   "cell_type": "code",
   "execution_count": null,
   "id": "sonic-bibliography",
   "metadata": {},
   "outputs": [],
   "source": [
    "def optimize_ARIMA(order_list, exog):\n",
    "    \"\"\"\n",
    "        Return dataframe with parameters and corresponding AIC\n",
    "        \n",
    "        order_list - list with (p, d, q) tuples\n",
    "        exog - the exogenous variable\n",
    "    \"\"\"\n",
    "    \n",
    "    results = []\n",
    "    \n",
    "    for order in tqdm_notebook(order_list):\n",
    "        try: \n",
    "            model = SARIMAX(exog, order=order).fit(disp=-1)\n",
    "        except:\n",
    "            continue\n",
    "            \n",
    "        aic = model.aic\n",
    "        results.append([order, aic])\n",
    "        \n",
    "    result_df = pd.DataFrame(results)\n",
    "    result_df.columns = ['(p, d, q)', 'AIC']\n",
    "    #Sort in ascending order, lower AIC is better\n",
    "    result_df = result_df.sort_values(by='AIC', ascending=True).reset_index(drop=True)\n",
    "    \n",
    "    return result_df"
   ]
  },
  {
   "cell_type": "markdown",
   "id": "olive-monte",
   "metadata": {},
   "source": [
    "I read the log-differenced series saved earlier in this notebook."
   ]
  },
  {
   "cell_type": "code",
   "execution_count": null,
   "id": "norman-raleigh",
   "metadata": {},
   "outputs": [],
   "source": [
    "data = pd.read_csv(\"log_diff.csv\")\n",
    "data.head()"
   ]
  },
  {
   "cell_type": "markdown",
   "id": "seeing-highlight",
   "metadata": {},
   "source": [
    "I figured I also needed to install these for profiling:\n",
    "\n",
    "```python\n",
    "pip install ipywidgets widgetsnbextension pandas-profiling\n",
    "```"
   ]
  },
  {
   "cell_type": "markdown",
   "id": "violent-forest",
   "metadata": {},
   "source": [
    "Setting up the problem"
   ]
  },
  {
   "cell_type": "code",
   "execution_count": null,
   "id": "chubby-wheat",
   "metadata": {},
   "outputs": [],
   "source": [
    "import itertools\n",
    "\n",
    "ps = range(0, 8, 1)\n",
    "d = 1\n",
    "qs = range(0, 8, 1)\n",
    "\n",
    "# Create a list with all possible combination of parameters\n",
    "parameters = itertools.product(ps, qs)\n",
    "parameters_list = list(parameters)"
   ]
  },
  {
   "cell_type": "markdown",
   "id": "hairy-celebration",
   "metadata": {},
   "source": [
    "I find out that I was wrong to assume that I have an $\\text{AR}(3)$ model for the $20$Y CMT bond yield curve rates, because"
   ]
  },
  {
   "cell_type": "code",
   "execution_count": null,
   "id": "square-favor",
   "metadata": {},
   "outputs": [],
   "source": [
    "order_list = []\n",
    "\n",
    "for each in parameters_list:\n",
    "    each = list(each)\n",
    "    each.insert(1, 1)\n",
    "    each = tuple(each)\n",
    "    order_list.append(each)\n",
    "\n",
    "result_df = optimize_ARIMA(order_list, exog=data[\"x20\"])\n",
    "result_df"
   ]
  },
  {
   "cell_type": "markdown",
   "id": "thick-reception",
   "metadata": {},
   "source": [
    "indicates that the Treasury bond with $20$Y maturity follows an $\\text{ARIMA}(3, 1, 1)$ model, as preferred by the criterion in $2021$. Likewise, for the $30$Y bonds, on average, I have"
   ]
  },
  {
   "cell_type": "code",
   "execution_count": null,
   "id": "mature-header",
   "metadata": {},
   "outputs": [],
   "source": [
    "order_list = []\n",
    "\n",
    "for each in parameters_list:\n",
    "    each = list(each)\n",
    "    each.insert(1, 1)\n",
    "    each = tuple(each)\n",
    "    order_list.append(each)\n",
    "\n",
    "result_df = optimize_ARIMA(order_list, exog=data[\"x30\"])\n",
    "result_df"
   ]
  },
  {
   "cell_type": "markdown",
   "id": "comparable-trainer",
   "metadata": {},
   "source": [
    "which means that an $\\text{ARIMA}(2, 1, 3)$ model is preferred by the criterion and not an $\\text{AR}(5)$. It is worthwhile running similar combinatorial tests on $(p, 1, q)$ for the $5$Y, $7$Y and $10$Y notes, where"
   ]
  },
  {
   "cell_type": "code",
   "execution_count": null,
   "id": "simplified-headquarters",
   "metadata": {},
   "outputs": [],
   "source": [
    "order_list = []\n",
    "\n",
    "for each in parameters_list:\n",
    "    each = list(each)\n",
    "    each.insert(1, 1)\n",
    "    each = tuple(each)\n",
    "    order_list.append(each)\n",
    "\n",
    "result_df = optimize_ARIMA(order_list, exog=data[\"x5\"])\n",
    "result_df"
   ]
  },
  {
   "cell_type": "markdown",
   "id": "collected-penguin",
   "metadata": {},
   "source": [
    ","
   ]
  },
  {
   "cell_type": "code",
   "execution_count": null,
   "id": "suburban-index",
   "metadata": {},
   "outputs": [],
   "source": [
    "order_list = []\n",
    "\n",
    "for each in parameters_list:\n",
    "    each = list(each)\n",
    "    each.insert(1, 1)\n",
    "    each = tuple(each)\n",
    "    order_list.append(each)\n",
    "\n",
    "result_df = optimize_ARIMA(order_list, exog=data[\"x7\"])\n",
    "result_df"
   ]
  },
  {
   "cell_type": "markdown",
   "id": "supported-values",
   "metadata": {},
   "source": [
    "and"
   ]
  },
  {
   "cell_type": "code",
   "execution_count": null,
   "id": "through-mainstream",
   "metadata": {},
   "outputs": [],
   "source": [
    "order_list = []\n",
    "\n",
    "for each in parameters_list:\n",
    "    each = list(each)\n",
    "    each.insert(1, 1)\n",
    "    each = tuple(each)\n",
    "    order_list.append(each)\n",
    "\n",
    "result_df = optimize_ARIMA(order_list, exog=data[\"x10\"])\n",
    "result_df"
   ]
  },
  {
   "cell_type": "markdown",
   "id": "valuable-fever",
   "metadata": {},
   "source": [
    "all indicate that I had non-optimal $\\text{AR}$ models. It is interesting to note that there is no change in the model chosen by the criterion when changing from performing first-differences directly versus performing first-differences on the logarithm, but log-transformed values are more precise due to the algorithm used by $\\text{AIC}$ (more on this [later](Treas%20TS%20Analysis%20I.ipynb#State%20Space%20Model%20Results)).\n",
    "\n",
    "Earlier I did have an understanding that log transformations does not work for long forecast horizons. Log transformation is often used for time series with nonlinear trends. There is infinite variance at forecast horizons lagging too far from the forecast origin.\n",
    "\n",
    "It is important to emphasize that to determine parameters, it is best to use optimized statespace modeling than it is to determine visually or via a non-optimal $\\text{AR}$ modeling approach."
   ]
  },
  {
   "cell_type": "markdown",
   "id": "front-newsletter",
   "metadata": {},
   "source": [
    "## Statespace Model Results"
   ]
  },
  {
   "cell_type": "markdown",
   "id": "closed-contribution",
   "metadata": {},
   "source": [
    "I can now determine **statespace model results**, such as $\\text{AR}$ and $\\text{MA}$ coefficients, standard errors, $z$ scores, Bayesian Information Criterion and Hannan-Quinn Information Criterion, as well as Ljung-Box statistics, for each of the $\\text{ARIMA}(p, 1, q)$ models.\n",
    "\n",
    "I got a high forecasting error rate when I took my first attempt at forecasting in `Treas TS Analysis II`. This was because I was using the wrong series. I am supposed to use the `tnf` inflation series and not the transformed `log_diff` series."
   ]
  },
  {
   "cell_type": "code",
   "execution_count": null,
   "id": "stretch-calendar",
   "metadata": {},
   "outputs": [],
   "source": [
    "from statsmodels.tsa.arima.model import ARIMA\n",
    "\n",
    "data       = pd.read_csv(\"tnf.csv\")\n",
    "idx        = [0, 1, 2, 3, 4]\n",
    "key        = ['x5', 'x7', 'x10', 'x20', 'x30']\n",
    "order_list = [(1, 1, 1), (0, 1, 1), (0, 1, 1), (3, 1, 1), (2, 1, 3)]\n",
    "\n",
    "mods = []\n",
    "for i in idx:\n",
    "    mods.append(SARIMAX(endog=data[key[i]], order=order_list[i]))\n",
    "\n",
    "fit = []\n",
    "for mod in mods:\n",
    "    fit.append(mod.fit())\n",
    "\n",
    "for each in fit:\n",
    "    print(each.summary())"
   ]
  },
  {
   "cell_type": "markdown",
   "id": "initial-scratch",
   "metadata": {},
   "source": [
    "As can be checked above, the arima models are summarized in the following table, where $T$ is the maturity, $(p, d, q)$ are the $\\text{AR}$, $\\text{D}$ and $\\text{MA}$ orders of the **Fitted Model** and $σ^2$ is the variance of each respective model."
   ]
  },
  {
   "cell_type": "markdown",
   "id": "attached-passage",
   "metadata": {},
   "source": [
    "$$\n",
    "    \\begin{matrix}\n",
    "        \\text{T} & (p, d, q) & \\text{Fitted Model} & \\sigma^2 \\\\\n",
    "        05 & (1, 1, 1) & 0.4823w_{t - 1} - 0.3777\\epsilon_{t - 1} & 0.0008 \\\\\n",
    "        07 & (0, 1, 1) & 0.0457\\epsilon_{t - 1} & 0.0007 \\\\\n",
    "        10 & (0, 1, 1) & 0.0464\\epsilon_{t - 1} & 0.0006 \\\\\n",
    "        20 & (3, 1, 1) & \\ \\ 0.0475w_{t - 1} + 0.1282w_{t - 2} - 0.1576w_{t - 3} + 0.0530\\epsilon_{t - 1} \\ \\ \\quad\\quad\\quad\\quad & 0.0005 \\\\\n",
    "        30 & (2, 1, 3) & -0.0019w_{t - 1} + 0.5278w_{t - 2} + 0.1446\\epsilon_{t - 1} - 0.4749\\epsilon_{t - 2} - 0.2370\\epsilon_{t - 3} & 0.0005\n",
    "    \\end{matrix}\n",
    "$$"
   ]
  },
  {
   "cell_type": "markdown",
   "id": "english-repeat",
   "metadata": {},
   "source": [
    "**Error Series**"
   ]
  },
  {
   "cell_type": "markdown",
   "id": "framed-doubt",
   "metadata": {},
   "source": [
    "Here are the error series:"
   ]
  },
  {
   "cell_type": "code",
   "execution_count": null,
   "id": "focused-oklahoma",
   "metadata": {},
   "outputs": [],
   "source": [
    "plt.clf() # clear figs\n",
    "plt.cla() # clear axes\n",
    "\n",
    "a = pd.read_csv(\"tnf.csv\")\n",
    "x = [a['x5'], a['x7'], a['x10'], a['x20'], a['x30']]\n",
    "\n",
    "y = []\n",
    "for each in fit:\n",
    "    y.append(each.predict(dynamic=False)[2:249])\n",
    "\n",
    "plt.xlim(0, 250)\n",
    "plt.ylim(-0.075, 0.125)\n",
    "\n",
    "plt.xlabel(\"days\")\n",
    "plt.ylabel(\"error\")\n",
    "\n",
    "avg_err = [0.0] * 5; c = 5\n",
    "while c > 0:\n",
    "    c -= 1\n",
    "    avg_err[c-1] = (1 - y[c] / x[c])\n",
    "    plt.plot(1 - y[c] / x[c])\n",
    "\n",
    "handle = [\"5Y\", \"7Y\", \"10Y\", \"20Y\", \"30Y\"]\n",
    "plt.legend(handle, loc = \"upper left\")\n",
    "\n",
    "plt.show()"
   ]
  },
  {
   "cell_type": "markdown",
   "id": "governmental-slovak",
   "metadata": {},
   "source": [
    "**Average Error Rates**"
   ]
  },
  {
   "cell_type": "markdown",
   "id": "analyzed-manhattan",
   "metadata": {},
   "source": [
    "<p font-color:\"navy\">and here are the prediction error rates of the forecasts:</p>"
   ]
  },
  {
   "cell_type": "code",
   "execution_count": null,
   "id": "decreased-aaron",
   "metadata": {},
   "outputs": [],
   "source": [
    "ϵ = []\n",
    "\n",
    "for each in avg_err:\n",
    "    ϵ.append(np.mean(each[2:249]))\n",
    "\n",
    "plt.bar(x = [1, 2, 3, 4, 5], height = ϵ)"
   ]
  },
  {
   "cell_type": "markdown",
   "id": "skilled-supplement",
   "metadata": {},
   "source": [
    "The $\\text{ARIMA}$ models is now optimal."
   ]
  },
  {
   "cell_type": "markdown",
   "id": "negative-botswana",
   "metadata": {},
   "source": [
    "I use"
   ]
  },
  {
   "cell_type": "markdown",
   "id": "novel-solution",
   "metadata": {},
   "source": [
    "$$\n",
    "    W_t = \\mu + \\overbrace{\\phi_1 W_{t -1} + \\phi_2 W_{t - 2} + \\cdots + \\phi_p W_{t - p}}^{\\text{lagged W values}} + \\epsilon_t - \\underbrace{\\theta_1 \\epsilon_{t - 1} - \\theta_2 \\epsilon_{t - 2} - \\cdots - \\theta_q \\epsilon_{t - q}}_{\\text{lagged error terms}} \\quad \\forall \\phi \\in (-1, 1) \\quad \\forall \\theta \\in [-1, 1] \\quad \\backslash 0\n",
    "$$"
   ]
  },
  {
   "cell_type": "markdown",
   "id": "monthly-prediction",
   "metadata": {},
   "source": [
    "as my template."
   ]
  },
  {
   "cell_type": "markdown",
   "id": "likely-window",
   "metadata": {},
   "source": [
    "It is good to be mindful of the fact that the coefficients of the lagged values and errors do change if using a simple differencing as opposed to making a log transformation before differencing each observation in the series. However, the variance of each model is less for the first-differences of log-transformations; hence, log-transformed first-differences are more precise for any predictive model that can be constructed using the $\\text{AIC}$, due to the log-likelihood condition"
   ]
  },
  {
   "cell_type": "markdown",
   "id": "driving-poster",
   "metadata": {},
   "source": [
    "## $\\text{ARIMA}(p, 1, q)$ Model Results"
   ]
  },
  {
   "cell_type": "markdown",
   "id": "proud-beijing",
   "metadata": {},
   "source": [
    "Here, I am comparing the statespace $\\text{SARIMAX}$ model from `statsmodels.tsa.statespace.sarimax` to the $\\text{ARIMA}$ model from `statsmodels.tsa.arima.model`."
   ]
  },
  {
   "cell_type": "code",
   "execution_count": null,
   "id": "frequent-public",
   "metadata": {},
   "outputs": [],
   "source": [
    "from statsmodels.tsa.arima.model import ARIMA\n",
    "\n",
    "tnf = pd.read_csv(\"tnf.csv\")\n",
    "idx = [0, 1, 2, 3, 4]\n",
    "key = ['x5', 'x7', 'x10', 'x20', 'x30']\n",
    "order_list = [(1, 1, 1), (0, 1, 1), (0, 1, 1), (3, 1, 1), (2, 1, 3)]\n",
    "\n",
    "mods = []\n",
    "for i in idx:\n",
    "    mods.append(ARIMA(endog=tnf[key[i]], order=order_list[i]))\n",
    "\n",
    "fit = []\n",
    "for mod in mods:\n",
    "    fit.append(mod.fit())\n",
    "\n",
    "for each in fit:\n",
    "    print(each.summary())"
   ]
  },
  {
   "cell_type": "markdown",
   "id": "humanitarian-breast",
   "metadata": {},
   "source": [
    "$$\n",
    "    \\begin{matrix}\n",
    "        \\text{T} & (p, d, q) & \\text{Fitted Model} & \\sigma^2 \\\\\n",
    "        05 & (1, 1, 1) & 0.4823w_{t - 1} - 0.3777\\epsilon_{t - 1} & 0.0008 \\\\\n",
    "        07 & (0, 1, 1) & 0.0457\\epsilon_{t - 1} & 0.0007 \\\\\n",
    "        10 & (0, 1, 1) & 0.0464\\epsilon_{t - 1} & 0.0006 \\\\\n",
    "        20 & (3, 1, 1) & \\ \\ 0.0475w_{t - 1} + 0.1282w_{t - 2} - 0.1576w_{t - 3} + 0.0530\\epsilon_{t - 1} \\ \\ \\quad\\quad\\quad\\quad & 0.0005 \\\\\n",
    "        30 & (2, 1, 3) & -0.0019w_{t - 1} + 0.5278w_{t - 2} + 0.1446\\epsilon_{t - 1} - 0.4749\\epsilon_{t - 2} - 0.2370\\epsilon_{t - 3} & 0.0005\n",
    "    \\end{matrix}\n",
    "$$"
   ]
  },
  {
   "cell_type": "markdown",
   "id": "curious-graham",
   "metadata": {},
   "source": [
    "**Error Series**"
   ]
  },
  {
   "cell_type": "code",
   "execution_count": null,
   "id": "electronic-genius",
   "metadata": {},
   "outputs": [],
   "source": [
    "plt.clf() # clear figs\n",
    "plt.cla() # clear axes\n",
    "\n",
    "a = pd.read_csv(\"tnf.csv\")\n",
    "x = [a['x5'], a['x7'], a['x10'], a['x20'], a['x30']]\n",
    "\n",
    "y = []\n",
    "for each in fit:\n",
    "    y.append(each.predict(dynamic=False)[2:249])\n",
    "\n",
    "plt.xlim(0, 250)\n",
    "plt.ylim(-0.075, 0.125)\n",
    "\n",
    "plt.xlabel(\"days\")\n",
    "plt.ylabel(\"error\")\n",
    "\n",
    "avg_err = [0.0] * 5; c = 5\n",
    "while c > 0:\n",
    "    c -= 1\n",
    "    avg_err[c-1] = (1 - y[c] / x[c])\n",
    "    plt.plot(1 - y[c] / x[c])\n",
    "\n",
    "handle = [\"5Y\", \"7Y\", \"10Y\", \"20Y\", \"30Y\"]\n",
    "plt.legend(handle, loc = \"upper left\")\n",
    "\n",
    "plt.show()"
   ]
  },
  {
   "cell_type": "markdown",
   "id": "introductory-merchant",
   "metadata": {},
   "source": [
    "**Average Error Rates**"
   ]
  },
  {
   "cell_type": "code",
   "execution_count": null,
   "id": "vietnamese-preparation",
   "metadata": {},
   "outputs": [],
   "source": [
    "ϵ = []\n",
    "\n",
    "for each in avg_err:\n",
    "    ϵ.append(np.mean(each[2:249]))\n",
    "\n",
    "plt.bar(x = [1, 2, 3, 4, 5], height = ϵ)"
   ]
  },
  {
   "cell_type": "markdown",
   "id": "mounted-lodging",
   "metadata": {},
   "source": [
    "The models generated from the `statsmodels.tsa.statespace.sarimax` and `statsmodels.tsa.arima.model` packages are equal!"
   ]
  },
  {
   "cell_type": "markdown",
   "id": "closing-austin",
   "metadata": {},
   "source": [
    "## Saving Python Models for Later"
   ]
  },
  {
   "cell_type": "code",
   "execution_count": null,
   "id": "defined-participant",
   "metadata": {},
   "outputs": [],
   "source": [
    "import pickle\n",
    "\n",
    "pickle.dump(fit, open(\"C:\\\\Users\\\\Owner\\\\Documents\\\\Economics\\\\Financial Economics\\\\Research\\\\Securities Experiment\\\\mod\", \"wb\"))"
   ]
  },
  {
   "cell_type": "markdown",
   "id": "innocent-firmware",
   "metadata": {},
   "source": [
    "# Using Ljung-Box Statistics to Test for Residuals Without Autocorrelation"
   ]
  },
  {
   "cell_type": "markdown",
   "id": "chubby-raising",
   "metadata": {},
   "source": [
    "## A Foreword"
   ]
  },
  {
   "cell_type": "markdown",
   "id": "mental-delta",
   "metadata": {},
   "source": [
    "Beforing starting this section, I pause and ask myself, \"What are the residuals?\". I remember when I took statistics that there was a residual sum of squares, which looked a little like this\n",
    "\n",
    "$\n",
    "    SS_{\\text{res}} = SS_{\\text{tot}} - SS_{\\text{exp}}\n",
    "$"
   ]
  },
  {
   "cell_type": "code",
   "execution_count": null,
   "id": "legendary-integral",
   "metadata": {},
   "outputs": [],
   "source": [
    "Y = dict(\n",
    "    Y05 = 0,\n",
    "    Y07 = 1,\n",
    "    Y10 = 2,\n",
    "    Y20 = 3,\n",
    "    Y30 = 4\n",
    ")"
   ]
  },
  {
   "cell_type": "markdown",
   "id": "noticed-instruction",
   "metadata": {},
   "source": [
    "However, since I am working with one regressor (i.e., an auto-regressive process), more pressure is placed on *maximizing* the explained sum of squares and *minimizing* the residuals (for the auto-regressive process), Knowing what each lagged error is going to be, with 95% confidence, is very helpful."
   ]
  },
  {
   "cell_type": "markdown",
   "id": "increased-skating",
   "metadata": {},
   "source": [
    "For $T \\in \\{5, 7. 10, 20, 30\\}$, I found $\\text{ARIMA}$ models with $\\sigma^2 \\in \\{0.0008, 0.0007, 0.0006, 0.0005, 0.0005\\}$ for estimation errors $\\epsilon$. The goal of this section is to study the residuals, which the ideal case would present a white noise with no autocorrelation. In `Treas TS Analysis II`, I will take this analysis further by considering various volatility models, such as `T-GARCH`, which will give more insights into the resudual variation.\n",
    "\n",
    "For a Ljung Box test $\\mathcal{L}$\n",
    "\n",
    "$$H^\\mathcal{L} = \\begin{cases}\n",
    "    H_0: \\text{there is no autocorrelation} & \\text{if}\\ p \\lt 0.05 \\\\\n",
    "    H_a: \\text{there is autocorrelation} & \\text{if}\\ p \\geq 0.05\n",
    "\\end{cases}$$\n",
    "\n",
    "where $H_0$ would indicate uncorrelated residuals and $H_a$, correlated residuals, with p-value $p$ denoting the confidence level of the right tail test, therefore, the residual series comes from and independent, and identically-distributed (iid) randome variable."
   ]
  },
  {
   "cell_type": "markdown",
   "id": "approximate-campus",
   "metadata": {},
   "source": [
    "**Ljung-Box test for 05Y Note CMT**"
   ]
  },
  {
   "cell_type": "code",
   "execution_count": null,
   "id": "recreational-forge",
   "metadata": {},
   "outputs": [],
   "source": [
    "ljung_box, p_value = acorr_ljungbox(fit[Y[\"Y05\"]].resid)\n",
    "print(f'Ljung-Box test: {ljung_box[:10]}')\n",
    "print(f'p-value: {p_value[:10]}')"
   ]
  },
  {
   "cell_type": "markdown",
   "id": "experimental-location",
   "metadata": {},
   "source": [
    "**Ljung-Box test for 07Y Note CMT**"
   ]
  },
  {
   "cell_type": "code",
   "execution_count": null,
   "id": "enabling-morning",
   "metadata": {},
   "outputs": [],
   "source": [
    "ljung_box, p_value = acorr_ljungbox(fit[Y[\"Y07\"]].resid)\n",
    "print(f'Ljung-Box test: {ljung_box[:10]}')\n",
    "print(f'p-value: {p_value[:10]}')"
   ]
  },
  {
   "cell_type": "markdown",
   "id": "wired-decade",
   "metadata": {},
   "source": [
    "**Ljung-Box test for 10Y Bond CMT**"
   ]
  },
  {
   "cell_type": "code",
   "execution_count": null,
   "id": "indie-tournament",
   "metadata": {},
   "outputs": [],
   "source": [
    "ljung_box, p_value = acorr_ljungbox(fit[Y[\"Y10\"]].resid)\n",
    "print(f'Ljung-Box test: {ljung_box[:10]}')\n",
    "print(f'p-value: {p_value[:10]}')"
   ]
  },
  {
   "cell_type": "markdown",
   "id": "massive-dylan",
   "metadata": {},
   "source": [
    "**Ljung-Box test for 20Y Bond CMT**"
   ]
  },
  {
   "cell_type": "code",
   "execution_count": null,
   "id": "spare-bacteria",
   "metadata": {},
   "outputs": [],
   "source": [
    "ljung_box, p_value = acorr_ljungbox(fit[Y[\"Y20\"]].resid)\n",
    "print(f'Ljung-Box test: {ljung_box[:10]}')\n",
    "print(f'p-value: {p_value[:10]}')"
   ]
  },
  {
   "cell_type": "markdown",
   "id": "spoken-colombia",
   "metadata": {},
   "source": [
    "**Ljung-Box test for 30Y Bond CMT**"
   ]
  },
  {
   "cell_type": "code",
   "execution_count": null,
   "id": "numerous-hospital",
   "metadata": {},
   "outputs": [],
   "source": [
    "ljung_box, p_value = acorr_ljungbox(fit[Y[\"Y30\"]].resid)\n",
    "print(f'Ljung-Box test: {ljung_box[:10]}')\n",
    "print(f'p-value: {p_value[:10]}')"
   ]
  },
  {
   "cell_type": "markdown",
   "id": "beautiful-carry",
   "metadata": {},
   "source": [
    "## Plotting ACF and PACF of the Residuals to Support Ljung Box Test Results"
   ]
  },
  {
   "cell_type": "markdown",
   "id": "challenging-astrology",
   "metadata": {},
   "source": [
    "PACF and ACF plots can be constructed to visually support the Ljung Box tests above."
   ]
  },
  {
   "cell_type": "code",
   "execution_count": null,
   "id": "addressed-machine",
   "metadata": {},
   "outputs": [],
   "source": [
    "I = 5\n",
    "while(I > 0):\n",
    "    I = I - 1\n",
    "    plot_pacf(fit[I].resid)\n",
    "    plot_acf(fit[I].resid)"
   ]
  },
  {
   "cell_type": "markdown",
   "id": "twelve-medication",
   "metadata": {},
   "source": [
    "No significant support for the alternative hypothesis exists for neither the PACF, nor the ACF plots.  which means that the residuals are independent, each draw from an iid variable with $\\epsilon \\sim N(\\mu, \\sigma^2)$.\n",
    "\n",
    "I also need to stress test the models to see if they break, and when they break, where do they break and why do they break? The **Markov Chain Monte Carlo** test is a test of durability$^?$. How would the model react if there were, say, a Poisson Arrival? How would the residuals change? MCMC simulations will be conducted under `Treas TS Analysis II PII`.\n",
    "\n",
    "It is also worthwhile exploring stochastic processes that are **heteroscedastic**, such as those that fall in the family of **General Autoregressive Conditional Heteroscedasticity** models (the **Extended GARCH** model, the **TGARCH** model, the **CHARMA** model, &c). A **Vector Autoregressive Fractional Integrated Moving Average (VARFIMA)** model could also be tried later on, and other models within the VARFIMA family that go beyond a simple ARIMA model. I may conclude with **Fourier Analysis** and **Spectral Analysis** representations of the financial time series."
   ]
  },
  {
   "cell_type": "markdown",
   "id": "three-explorer",
   "metadata": {},
   "source": [
    "## Summary and Next Steps"
   ]
  },
  {
   "cell_type": "markdown",
   "id": "durable-conditioning",
   "metadata": {},
   "source": [
    "In this notebook, I learned that statespace models do work better than visualisation. Visualisation is still very powerful for collecting an overall, holistic view of the data, analyzing trends, performing cummulative sums and other summary statistics, such as boxplots for finding outliers in the financial data, knowing what the mean and kurtosis are, and finally, a visual summary can allow the data to speak for itself when it comes to densities, distributions and something not covered here: volatility surfaces."
   ]
  },
  {
   "cell_type": "markdown",
   "id": "front-working",
   "metadata": {},
   "source": [
    "In the next series of notebooks, I will be touching on each of the following:\n",
    "\n",
    "1. Cross-Validation and Testing on New Data\n",
    "2. Time-Series Forecasting\n",
    "3. Vector Autoregressive Fractional Integrated Moving Average\n",
    "4. Markov Chain Monte Carlo\n",
    "5. Heteroscedastic Models\n",
    "6. Fourier Analysis and Spectral Analysis"
   ]
  }
 ],
 "metadata": {
  "kernelspec": {
   "display_name": "Julia 1.5.3",
   "language": "julia",
   "name": "julia-1.5"
  },
  "language_info": {
   "file_extension": ".jl",
   "mimetype": "application/julia",
   "name": "julia",
   "version": "1.5.3"
  }
 },
 "nbformat": 4,
 "nbformat_minor": 5
}
