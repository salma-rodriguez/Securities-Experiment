{
 "cells": [
  {
   "cell_type": "markdown",
   "id": "apart-conviction",
   "metadata": {},
   "source": [
    "# Time Series Analysis I"
   ]
  },
  {
   "cell_type": "markdown",
   "id": "latest-balance",
   "metadata": {},
   "source": [
    "## Categories of Bonds"
   ]
  },
  {
   "cell_type": "markdown",
   "id": "editorial-camel",
   "metadata": {},
   "source": [
    "| $\\text{Type}$     | $\\text{Maturity}$                        |\n",
    "| ----------------- | ---------------------------------------- |\n",
    "| $\\text{Bill (b)}$ | $1\\text{m} \\leq \\text{T} \\lt 1\\text{Y}$  |\n",
    "| $\\text{Note (N)}$ | $1\\text{Y} \\leq \\text{T} \\lt 10\\text{Y}$ |\n",
    "| $\\text{Bond (B)}$ | $\\quad\\quad\\ \\text{T} \\geq 10\\text{Y}$   |"
   ]
  },
  {
   "cell_type": "markdown",
   "id": "negative-speaking",
   "metadata": {},
   "source": [
    "## What is a Constant Maturity Treasury?"
   ]
  },
  {
   "cell_type": "markdown",
   "id": "directed-tyler",
   "metadata": {},
   "source": [
    "According to [Investopedia](https://www.investopedia.com/terms/c/constantmaturity.asp), Constant Maturity is an adjustment for equivalent maturity, used by the Federal Reserve Board to compute an index based on the average yield of various Treasury securities, maturing at different periods."
   ]
  },
  {
   "cell_type": "markdown",
   "id": "looking-scott",
   "metadata": {},
   "source": [
    "One would use constant maturity yields as reference for pricing all kinds of depts or fixed income securities, fixed income securities being by far the largest type of security in U.S. securities markets."
   ]
  },
  {
   "cell_type": "markdown",
   "id": "suffering-muscle",
   "metadata": {},
   "source": [
    "## Nominal Yield Curve Rates vs. Real Yield Curve Rates"
   ]
  },
  {
   "cell_type": "markdown",
   "id": "textile-thong",
   "metadata": {},
   "source": [
    "According to the Board of Governors of the Federal Reserve System, a [nominal Treasury security](https://www.federalreserve.gov/data/nominal-yield-curve.htm) is an issuance that specifies principal and interest as fixed dollar amounts to the holder. Since Treasury securities are backed by the full faith and credit of the U.S. government, the returns investors can earn on them are often used as a “risk-free” benchmark in finance research and investment practice. These securities are a promise to repay the principal (with interest if a note or a bond) to the holder (can be a public or private entity). Therefore, the real yield curve rate would be adjusted for inflation of interest rates, thereby used to determine risk-neutral cashflow.\n",
    "\n",
    "The **nominal yield curve rate** adds a market average of the expected inflation risk premium to the real. Investors must be compensated for the risk of inflation in bond yields. The real yield determines the cashflow an investor in secondary markets can obtain by purchasing $\\text{TIPS}$, which are Inflation Protected Securities offered by the U.S. Treasury department and other stakeholders that offer similar inflation protection to investors."
   ]
  },
  {
   "cell_type": "markdown",
   "id": "statistical-latter",
   "metadata": {},
   "source": [
    "## Statement of Purpose"
   ]
  },
  {
   "cell_type": "markdown",
   "id": "atmospheric-network",
   "metadata": {},
   "source": [
    "The purpose of this time series analysis is to build from my US Treasury Securities Exploratory Analysis, using a **data-driven approach** to modeling. I will be determining yield stability, choosing the best data-driven ARIMA model for the different categories of CMTs and draw conclusions about any experimental forecast that can be built after constructing models with nonstationarity removed. The nonstationarity will be analyzed later using residual plots and volatility models in `Treas TS Analysis II`."
   ]
  },
  {
   "cell_type": "markdown",
   "id": "eleven-criterion",
   "metadata": {},
   "source": [
    "`] add Turing@0.13.0`"
   ]
  },
  {
   "cell_type": "markdown",
   "id": "specific-producer",
   "metadata": {},
   "source": [
    "## Loading Yield Curve Rate Inflation `CSV` File"
   ]
  },
  {
   "cell_type": "code",
   "execution_count": 1,
   "id": "ancient-first",
   "metadata": {},
   "outputs": [
    {
     "data": {
      "text/html": [
       "<div class=\"data-frame\"><p>250 rows × 5 columns</p><table class=\"data-frame\"><thead><tr><th></th><th>x5</th><th>x7</th><th>x10</th><th>x20</th><th>x30</th></tr><tr><th></th><th title=\"Float64\">Float64</th><th title=\"Float64\">Float64</th><th title=\"Float64\">Float64</th><th title=\"Float64\">Float64</th><th title=\"Float64\">Float64</th></tr></thead><tbody><tr><th>1</th><td>1.49239</td><td>1.58039</td><td>1.69647</td><td>1.75519</td><td>1.78426</td></tr><tr><th>2</th><td>1.4913</td><td>1.562</td><td>1.6829</td><td>1.74316</td><td>1.7758</td></tr><tr><th>3</th><td>1.57973</td><td>1.64966</td><td>1.75581</td><td>1.78013</td><td>1.80855</td></tr><tr><th>4</th><td>1.61299</td><td>1.68424</td><td>1.77541</td><td>1.80426</td><td>1.81202</td></tr><tr><th>5</th><td>1.66448</td><td>1.71853</td><td>1.81737</td><td>1.8489</td><td>1.85057</td></tr><tr><th>6</th><td>1.6773</td><td>1.74478</td><td>1.82976</td><td>1.84744</td><td>1.8689</td></tr><tr><th>7</th><td>1.65266</td><td>1.71964</td><td>1.81201</td><td>1.8382</td><td>1.85974</td></tr><tr><th>8</th><td>1.66312</td><td>1.73871</td><td>1.82968</td><td>1.85278</td><td>1.86454</td></tr><tr><th>9</th><td>1.64498</td><td>1.7151</td><td>1.80905</td><td>1.84094</td><td>1.8623</td></tr><tr><th>10</th><td>1.63103</td><td>1.71346</td><td>1.80871</td><td>1.83844</td><td>1.86782</td></tr><tr><th>11</th><td>1.63673</td><td>1.71764</td><td>1.81853</td><td>1.85868</td><td>1.86832</td></tr><tr><th>12</th><td>1.64174</td><td>1.71471</td><td>1.78694</td><td>1.83042</td><td>1.86042</td></tr><tr><th>13</th><td>1.67454</td><td>1.75048</td><td>1.82585</td><td>1.84901</td><td>1.87772</td></tr><tr><th>14</th><td>1.63304</td><td>1.71292</td><td>1.7923</td><td>1.82303</td><td>1.86085</td></tr><tr><th>15</th><td>1.64423</td><td>1.71023</td><td>1.79572</td><td>1.82999</td><td>1.859</td></tr><tr><th>16</th><td>1.61768</td><td>1.68484</td><td>1.77221</td><td>1.80021</td><td>1.84082</td></tr><tr><th>17</th><td>1.64177</td><td>1.70579</td><td>1.78899</td><td>1.81147</td><td>1.84365</td></tr><tr><th>18</th><td>1.62448</td><td>1.69053</td><td>1.77558</td><td>1.80457</td><td>1.83438</td></tr><tr><th>19</th><td>1.62178</td><td>1.67743</td><td>1.77533</td><td>1.80915</td><td>1.83811</td></tr><tr><th>20</th><td>1.67989</td><td>1.75002</td><td>1.83752</td><td>1.86851</td><td>1.89081</td></tr><tr><th>21</th><td>1.69706</td><td>1.7595</td><td>1.84919</td><td>1.88645</td><td>1.91466</td></tr><tr><th>22</th><td>1.72448</td><td>1.79139</td><td>1.87684</td><td>1.89875</td><td>1.92404</td></tr><tr><th>23</th><td>1.72067</td><td>1.7906</td><td>1.86741</td><td>1.90811</td><td>1.92446</td></tr><tr><th>24</th><td>1.71625</td><td>1.788</td><td>1.86709</td><td>1.89956</td><td>1.9189</td></tr><tr><th>25</th><td>1.7128</td><td>1.78176</td><td>1.857</td><td>1.88044</td><td>1.90089</td></tr><tr><th>26</th><td>1.68875</td><td>1.7539</td><td>1.83644</td><td>1.87193</td><td>1.89145</td></tr><tr><th>27</th><td>1.69053</td><td>1.75739</td><td>1.81973</td><td>1.85431</td><td>1.87294</td></tr><tr><th>28</th><td>1.68994</td><td>1.76019</td><td>1.81668</td><td>1.85602</td><td>1.8747</td></tr><tr><th>29</th><td>1.70818</td><td>1.77284</td><td>1.8335</td><td>1.86733</td><td>1.88437</td></tr><tr><th>30</th><td>1.75506</td><td>1.80521</td><td>1.86015</td><td>1.88639</td><td>1.89919</td></tr><tr><th>&vellip;</th><td>&vellip;</td><td>&vellip;</td><td>&vellip;</td><td>&vellip;</td><td>&vellip;</td></tr></tbody></table></div>"
      ],
      "text/latex": [
       "\\begin{tabular}{r|ccccc}\n",
       "\t& x5 & x7 & x10 & x20 & x30\\\\\n",
       "\t\\hline\n",
       "\t& Float64 & Float64 & Float64 & Float64 & Float64\\\\\n",
       "\t\\hline\n",
       "\t1 & 1.49239 & 1.58039 & 1.69647 & 1.75519 & 1.78426 \\\\\n",
       "\t2 & 1.4913 & 1.562 & 1.6829 & 1.74316 & 1.7758 \\\\\n",
       "\t3 & 1.57973 & 1.64966 & 1.75581 & 1.78013 & 1.80855 \\\\\n",
       "\t4 & 1.61299 & 1.68424 & 1.77541 & 1.80426 & 1.81202 \\\\\n",
       "\t5 & 1.66448 & 1.71853 & 1.81737 & 1.8489 & 1.85057 \\\\\n",
       "\t6 & 1.6773 & 1.74478 & 1.82976 & 1.84744 & 1.8689 \\\\\n",
       "\t7 & 1.65266 & 1.71964 & 1.81201 & 1.8382 & 1.85974 \\\\\n",
       "\t8 & 1.66312 & 1.73871 & 1.82968 & 1.85278 & 1.86454 \\\\\n",
       "\t9 & 1.64498 & 1.7151 & 1.80905 & 1.84094 & 1.8623 \\\\\n",
       "\t10 & 1.63103 & 1.71346 & 1.80871 & 1.83844 & 1.86782 \\\\\n",
       "\t11 & 1.63673 & 1.71764 & 1.81853 & 1.85868 & 1.86832 \\\\\n",
       "\t12 & 1.64174 & 1.71471 & 1.78694 & 1.83042 & 1.86042 \\\\\n",
       "\t13 & 1.67454 & 1.75048 & 1.82585 & 1.84901 & 1.87772 \\\\\n",
       "\t14 & 1.63304 & 1.71292 & 1.7923 & 1.82303 & 1.86085 \\\\\n",
       "\t15 & 1.64423 & 1.71023 & 1.79572 & 1.82999 & 1.859 \\\\\n",
       "\t16 & 1.61768 & 1.68484 & 1.77221 & 1.80021 & 1.84082 \\\\\n",
       "\t17 & 1.64177 & 1.70579 & 1.78899 & 1.81147 & 1.84365 \\\\\n",
       "\t18 & 1.62448 & 1.69053 & 1.77558 & 1.80457 & 1.83438 \\\\\n",
       "\t19 & 1.62178 & 1.67743 & 1.77533 & 1.80915 & 1.83811 \\\\\n",
       "\t20 & 1.67989 & 1.75002 & 1.83752 & 1.86851 & 1.89081 \\\\\n",
       "\t21 & 1.69706 & 1.7595 & 1.84919 & 1.88645 & 1.91466 \\\\\n",
       "\t22 & 1.72448 & 1.79139 & 1.87684 & 1.89875 & 1.92404 \\\\\n",
       "\t23 & 1.72067 & 1.7906 & 1.86741 & 1.90811 & 1.92446 \\\\\n",
       "\t24 & 1.71625 & 1.788 & 1.86709 & 1.89956 & 1.9189 \\\\\n",
       "\t25 & 1.7128 & 1.78176 & 1.857 & 1.88044 & 1.90089 \\\\\n",
       "\t26 & 1.68875 & 1.7539 & 1.83644 & 1.87193 & 1.89145 \\\\\n",
       "\t27 & 1.69053 & 1.75739 & 1.81973 & 1.85431 & 1.87294 \\\\\n",
       "\t28 & 1.68994 & 1.76019 & 1.81668 & 1.85602 & 1.8747 \\\\\n",
       "\t29 & 1.70818 & 1.77284 & 1.8335 & 1.86733 & 1.88437 \\\\\n",
       "\t30 & 1.75506 & 1.80521 & 1.86015 & 1.88639 & 1.89919 \\\\\n",
       "\t$\\dots$ & $\\dots$ & $\\dots$ & $\\dots$ & $\\dots$ & $\\dots$ \\\\\n",
       "\\end{tabular}\n"
      ],
      "text/plain": [
       "\u001b[1m250×5 DataFrame\u001b[0m\n",
       "\u001b[1m Row \u001b[0m│\u001b[1m x5      \u001b[0m\u001b[1m x7      \u001b[0m\u001b[1m x10     \u001b[0m\u001b[1m x20     \u001b[0m\u001b[1m x30     \u001b[0m\n",
       "\u001b[1m     \u001b[0m│\u001b[90m Float64 \u001b[0m\u001b[90m Float64 \u001b[0m\u001b[90m Float64 \u001b[0m\u001b[90m Float64 \u001b[0m\u001b[90m Float64 \u001b[0m\n",
       "─────┼─────────────────────────────────────────────\n",
       "   1 │ 1.49239  1.58039  1.69647  1.75519  1.78426\n",
       "   2 │ 1.4913   1.562    1.6829   1.74316  1.7758\n",
       "   3 │ 1.57973  1.64966  1.75581  1.78013  1.80855\n",
       "   4 │ 1.61299  1.68424  1.77541  1.80426  1.81202\n",
       "   5 │ 1.66448  1.71853  1.81737  1.8489   1.85057\n",
       "   6 │ 1.6773   1.74478  1.82976  1.84744  1.8689\n",
       "   7 │ 1.65266  1.71964  1.81201  1.8382   1.85974\n",
       "   8 │ 1.66312  1.73871  1.82968  1.85278  1.86454\n",
       "   9 │ 1.64498  1.7151   1.80905  1.84094  1.8623\n",
       "  10 │ 1.63103  1.71346  1.80871  1.83844  1.86782\n",
       "  11 │ 1.63673  1.71764  1.81853  1.85868  1.86832\n",
       "  ⋮  │    ⋮        ⋮        ⋮        ⋮        ⋮\n",
       " 241 │ 1.65336  1.72973  1.74711  1.83807  1.79206\n",
       " 242 │ 1.67641  1.75649  1.75699  1.86072  1.81368\n",
       " 243 │ 1.68054  1.75174  1.77342  1.86839  1.82998\n",
       " 244 │ 1.67339  1.74488  1.76697  1.86307  1.81576\n",
       " 245 │ 1.66725  1.74024  1.75401  1.84792  1.8008\n",
       " 246 │ 1.66942  1.73784  1.74652  1.84713  1.80154\n",
       " 247 │ 1.66294  1.75307  1.74323  1.83391  1.7918\n",
       " 248 │ 1.64185  1.7158   1.72914  1.81777  1.77865\n",
       " 249 │ 1.66026  1.73483  1.74799  1.83152  1.78778\n",
       " 250 │ 1.68288  1.76314  1.77044  1.85767  1.81262\n",
       "\u001b[36m                                   229 rows omitted\u001b[0m"
      ]
     },
     "execution_count": 1,
     "metadata": {},
     "output_type": "execute_result"
    }
   ],
   "source": [
    "using CSV, DataFrames\n",
    "\n",
    "tnf = CSV.read(\"tnf.csv\", DataFrame)"
   ]
  },
  {
   "cell_type": "markdown",
   "id": "atmospheric-specific",
   "metadata": {},
   "source": [
    "I have the dataset to be analyzed."
   ]
  },
  {
   "cell_type": "markdown",
   "id": "numeric-ambassador",
   "metadata": {},
   "source": [
    "## Time Series Analysis"
   ]
  },
  {
   "cell_type": "markdown",
   "id": "general-appointment",
   "metadata": {},
   "source": [
    "The `tnf` dataset contains the inflation rates for CMT maturities $T \\in [5, 7, 10, 20, 30]$ years. Recall that this inflation analysis is only for columns $10$ to $14$ of the original datasets, because columns $10$ to $14$ were the only nonempty columns in the `R_CMT` dataset.\n",
    "\n",
    "This analysis continues with a data-driven approach to modelling. Linear methods can be used to solve certain nonlinear problems, but since they are nonlinear, a top-down approach, where one chooses a known statistical PDF kernel function, does not work on nonlinear stochastic processes."
   ]
  },
  {
   "cell_type": "markdown",
   "id": "selected-headline",
   "metadata": {},
   "source": [
    "### Building (Test) and Training Sets & Plotting Results as Done Earlier"
   ]
  },
  {
   "cell_type": "markdown",
   "id": "virgin-quebec",
   "metadata": {},
   "source": [
    "As metnioned in my `Treas Exploratory Analysis`, there seems to be correlation across maturities in the Treasury yield curve inflation. Here is a rework of these results."
   ]
  },
  {
   "cell_type": "code",
   "execution_count": 2,
   "id": "executed-algebra",
   "metadata": {},
   "outputs": [
    {
     "data": {
      "image/svg+xml": [
       "<?xml version=\"1.0\" encoding=\"utf-8\"?>\n",
       "<svg xmlns=\"http://www.w3.org/2000/svg\" xmlns:xlink=\"http://www.w3.org/1999/xlink\" width=\"900\" height=\"500\" viewBox=\"0 0 3600 2000\">\n",
       "<defs>\n",
       "  <clipPath id=\"clip190\">\n",
       "    <rect x=\"0\" y=\"0\" width=\"3600\" height=\"2000\"/>\n",
       "  </clipPath>\n",
       "</defs>\n",
       "<path clip-path=\"url(#clip190)\" d=\"\n",
       "M0 2000 L3600 2000 L3600 0 L0 0  Z\n",
       "  \" fill=\"#ffffff\" fill-rule=\"evenodd\" fill-opacity=\"1\"/>\n",
       "<defs>\n",
       "  <clipPath id=\"clip191\">\n",
       "    <rect x=\"720\" y=\"0\" width=\"2521\" height=\"2000\"/>\n",
       "  </clipPath>\n",
       "</defs>\n",
       "<path clip-path=\"url(#clip190)\" d=\"\n",
       "M223.113 1832.86 L3552.76 1832.86 L3552.76 47.2441 L223.113 47.2441  Z\n",
       "  \" fill=\"#ffffff\" fill-rule=\"evenodd\" fill-opacity=\"1\"/>\n",
       "<defs>\n",
       "  <clipPath id=\"clip192\">\n",
       "    <rect x=\"223\" y=\"47\" width=\"3331\" height=\"1787\"/>\n",
       "  </clipPath>\n",
       "</defs>\n",
       "<polyline clip-path=\"url(#clip192)\" style=\"stroke:#000000; stroke-linecap:butt; stroke-linejoin:round; stroke-width:2; stroke-opacity:0.1; fill:none\" points=\"\n",
       "  304.733,1832.86 304.733,47.2441 \n",
       "  \"/>\n",
       "<polyline clip-path=\"url(#clip192)\" style=\"stroke:#000000; stroke-linecap:butt; stroke-linejoin:round; stroke-width:2; stroke-opacity:0.1; fill:none\" points=\"\n",
       "  935.491,1832.86 935.491,47.2441 \n",
       "  \"/>\n",
       "<polyline clip-path=\"url(#clip192)\" style=\"stroke:#000000; stroke-linecap:butt; stroke-linejoin:round; stroke-width:2; stroke-opacity:0.1; fill:none\" points=\"\n",
       "  1566.25,1832.86 1566.25,47.2441 \n",
       "  \"/>\n",
       "<polyline clip-path=\"url(#clip192)\" style=\"stroke:#000000; stroke-linecap:butt; stroke-linejoin:round; stroke-width:2; stroke-opacity:0.1; fill:none\" points=\"\n",
       "  2197.01,1832.86 2197.01,47.2441 \n",
       "  \"/>\n",
       "<polyline clip-path=\"url(#clip192)\" style=\"stroke:#000000; stroke-linecap:butt; stroke-linejoin:round; stroke-width:2; stroke-opacity:0.1; fill:none\" points=\"\n",
       "  2827.76,1832.86 2827.76,47.2441 \n",
       "  \"/>\n",
       "<polyline clip-path=\"url(#clip192)\" style=\"stroke:#000000; stroke-linecap:butt; stroke-linejoin:round; stroke-width:2; stroke-opacity:0.1; fill:none\" points=\"\n",
       "  3458.52,1832.86 3458.52,47.2441 \n",
       "  \"/>\n",
       "<polyline clip-path=\"url(#clip190)\" style=\"stroke:#000000; stroke-linecap:butt; stroke-linejoin:round; stroke-width:4; stroke-opacity:1; fill:none\" points=\"\n",
       "  223.113,1832.86 3552.76,1832.86 \n",
       "  \"/>\n",
       "<polyline clip-path=\"url(#clip190)\" style=\"stroke:#000000; stroke-linecap:butt; stroke-linejoin:round; stroke-width:4; stroke-opacity:1; fill:none\" points=\"\n",
       "  304.733,1832.86 304.733,1813.96 \n",
       "  \"/>\n",
       "<polyline clip-path=\"url(#clip190)\" style=\"stroke:#000000; stroke-linecap:butt; stroke-linejoin:round; stroke-width:4; stroke-opacity:1; fill:none\" points=\"\n",
       "  935.491,1832.86 935.491,1813.96 \n",
       "  \"/>\n",
       "<polyline clip-path=\"url(#clip190)\" style=\"stroke:#000000; stroke-linecap:butt; stroke-linejoin:round; stroke-width:4; stroke-opacity:1; fill:none\" points=\"\n",
       "  1566.25,1832.86 1566.25,1813.96 \n",
       "  \"/>\n",
       "<polyline clip-path=\"url(#clip190)\" style=\"stroke:#000000; stroke-linecap:butt; stroke-linejoin:round; stroke-width:4; stroke-opacity:1; fill:none\" points=\"\n",
       "  2197.01,1832.86 2197.01,1813.96 \n",
       "  \"/>\n",
       "<polyline clip-path=\"url(#clip190)\" style=\"stroke:#000000; stroke-linecap:butt; stroke-linejoin:round; stroke-width:4; stroke-opacity:1; fill:none\" points=\"\n",
       "  2827.76,1832.86 2827.76,1813.96 \n",
       "  \"/>\n",
       "<polyline clip-path=\"url(#clip190)\" style=\"stroke:#000000; stroke-linecap:butt; stroke-linejoin:round; stroke-width:4; stroke-opacity:1; fill:none\" points=\"\n",
       "  3458.52,1832.86 3458.52,1813.96 \n",
       "  \"/>\n",
       "<path clip-path=\"url(#clip190)\" d=\"M304.733 1871.65 Q301.122 1871.65 299.293 1875.22 Q297.488 1878.76 297.488 1885.89 Q297.488 1892.99 299.293 1896.56 Q301.122 1900.1 304.733 1900.1 Q308.367 1900.1 310.173 1896.56 Q312.001 1892.99 312.001 1885.89 Q312.001 1878.76 310.173 1875.22 Q308.367 1871.65 304.733 1871.65 M304.733 1867.95 Q310.543 1867.95 313.599 1872.55 Q316.677 1877.14 316.677 1885.89 Q316.677 1894.61 313.599 1899.22 Q310.543 1903.8 304.733 1903.8 Q298.923 1903.8 295.844 1899.22 Q292.789 1894.61 292.789 1885.89 Q292.789 1877.14 295.844 1872.55 Q298.923 1867.95 304.733 1867.95 Z\" fill=\"#000000\" fill-rule=\"evenodd\" fill-opacity=\"1\" /><path clip-path=\"url(#clip190)\" d=\"M910.19 1868.57 L928.546 1868.57 L928.546 1872.51 L914.472 1872.51 L914.472 1880.98 Q915.491 1880.63 916.509 1880.47 Q917.528 1880.28 918.546 1880.28 Q924.333 1880.28 927.713 1883.46 Q931.092 1886.63 931.092 1892.04 Q931.092 1897.62 927.62 1900.72 Q924.148 1903.8 917.829 1903.8 Q915.653 1903.8 913.384 1903.43 Q911.139 1903.06 908.731 1902.32 L908.731 1897.62 Q910.815 1898.76 913.037 1899.31 Q915.259 1899.87 917.736 1899.87 Q921.741 1899.87 924.079 1897.76 Q926.416 1895.66 926.416 1892.04 Q926.416 1888.43 924.079 1886.33 Q921.741 1884.22 917.736 1884.22 Q915.861 1884.22 913.986 1884.64 Q912.134 1885.05 910.19 1885.93 L910.19 1868.57 Z\" fill=\"#000000\" fill-rule=\"evenodd\" fill-opacity=\"1\" /><path clip-path=\"url(#clip190)\" d=\"M950.305 1871.65 Q946.694 1871.65 944.865 1875.22 Q943.06 1878.76 943.06 1885.89 Q943.06 1892.99 944.865 1896.56 Q946.694 1900.1 950.305 1900.1 Q953.939 1900.1 955.745 1896.56 Q957.574 1892.99 957.574 1885.89 Q957.574 1878.76 955.745 1875.22 Q953.939 1871.65 950.305 1871.65 M950.305 1867.95 Q956.115 1867.95 959.171 1872.55 Q962.25 1877.14 962.25 1885.89 Q962.25 1894.61 959.171 1899.22 Q956.115 1903.8 950.305 1903.8 Q944.495 1903.8 941.416 1899.22 Q938.361 1894.61 938.361 1885.89 Q938.361 1877.14 941.416 1872.55 Q944.495 1867.95 950.305 1867.95 Z\" fill=\"#000000\" fill-rule=\"evenodd\" fill-opacity=\"1\" /><path clip-path=\"url(#clip190)\" d=\"M1525.85 1899.2 L1533.49 1899.2 L1533.49 1872.83 L1525.18 1874.5 L1525.18 1870.24 L1533.45 1868.57 L1538.12 1868.57 L1538.12 1899.2 L1545.76 1899.2 L1545.76 1903.13 L1525.85 1903.13 L1525.85 1899.2 Z\" fill=\"#000000\" fill-rule=\"evenodd\" fill-opacity=\"1\" /><path clip-path=\"url(#clip190)\" d=\"M1565.21 1871.65 Q1561.6 1871.65 1559.77 1875.22 Q1557.96 1878.76 1557.96 1885.89 Q1557.96 1892.99 1559.77 1896.56 Q1561.6 1900.1 1565.21 1900.1 Q1568.84 1900.1 1570.65 1896.56 Q1572.47 1892.99 1572.47 1885.89 Q1572.47 1878.76 1570.65 1875.22 Q1568.84 1871.65 1565.21 1871.65 M1565.21 1867.95 Q1571.02 1867.95 1574.07 1872.55 Q1577.15 1877.14 1577.15 1885.89 Q1577.15 1894.61 1574.07 1899.22 Q1571.02 1903.8 1565.21 1903.8 Q1559.4 1903.8 1556.32 1899.22 Q1553.26 1894.61 1553.26 1885.89 Q1553.26 1877.14 1556.32 1872.55 Q1559.4 1867.95 1565.21 1867.95 Z\" fill=\"#000000\" fill-rule=\"evenodd\" fill-opacity=\"1\" /><path clip-path=\"url(#clip190)\" d=\"M1595.37 1871.65 Q1591.76 1871.65 1589.93 1875.22 Q1588.12 1878.76 1588.12 1885.89 Q1588.12 1892.99 1589.93 1896.56 Q1591.76 1900.1 1595.37 1900.1 Q1599 1900.1 1600.81 1896.56 Q1602.64 1892.99 1602.64 1885.89 Q1602.64 1878.76 1600.81 1875.22 Q1599 1871.65 1595.37 1871.65 M1595.37 1867.95 Q1601.18 1867.95 1604.23 1872.55 Q1607.31 1877.14 1607.31 1885.89 Q1607.31 1894.61 1604.23 1899.22 Q1601.18 1903.8 1595.37 1903.8 Q1589.56 1903.8 1586.48 1899.22 Q1583.42 1894.61 1583.42 1885.89 Q1583.42 1877.14 1586.48 1872.55 Q1589.56 1867.95 1595.37 1867.95 Z\" fill=\"#000000\" fill-rule=\"evenodd\" fill-opacity=\"1\" /><path clip-path=\"url(#clip190)\" d=\"M2156.61 1899.2 L2164.25 1899.2 L2164.25 1872.83 L2155.94 1874.5 L2155.94 1870.24 L2164.2 1868.57 L2168.88 1868.57 L2168.88 1899.2 L2176.52 1899.2 L2176.52 1903.13 L2156.61 1903.13 L2156.61 1899.2 Z\" fill=\"#000000\" fill-rule=\"evenodd\" fill-opacity=\"1\" /><path clip-path=\"url(#clip190)\" d=\"M2186.01 1868.57 L2204.37 1868.57 L2204.37 1872.51 L2190.29 1872.51 L2190.29 1880.98 Q2191.31 1880.63 2192.33 1880.47 Q2193.35 1880.28 2194.37 1880.28 Q2200.15 1880.28 2203.53 1883.46 Q2206.91 1886.63 2206.91 1892.04 Q2206.91 1897.62 2203.44 1900.72 Q2199.97 1903.8 2193.65 1903.8 Q2191.47 1903.8 2189.2 1903.43 Q2186.96 1903.06 2184.55 1902.32 L2184.55 1897.62 Q2186.64 1898.76 2188.86 1899.31 Q2191.08 1899.87 2193.56 1899.87 Q2197.56 1899.87 2199.9 1897.76 Q2202.24 1895.66 2202.24 1892.04 Q2202.24 1888.43 2199.9 1886.33 Q2197.56 1884.22 2193.56 1884.22 Q2191.68 1884.22 2189.81 1884.64 Q2187.95 1885.05 2186.01 1885.93 L2186.01 1868.57 Z\" fill=\"#000000\" fill-rule=\"evenodd\" fill-opacity=\"1\" /><path clip-path=\"url(#clip190)\" d=\"M2226.13 1871.65 Q2222.51 1871.65 2220.69 1875.22 Q2218.88 1878.76 2218.88 1885.89 Q2218.88 1892.99 2220.69 1896.56 Q2222.51 1900.1 2226.13 1900.1 Q2229.76 1900.1 2231.57 1896.56 Q2233.39 1892.99 2233.39 1885.89 Q2233.39 1878.76 2231.57 1875.22 Q2229.76 1871.65 2226.13 1871.65 M2226.13 1867.95 Q2231.94 1867.95 2234.99 1872.55 Q2238.07 1877.14 2238.07 1885.89 Q2238.07 1894.61 2234.99 1899.22 Q2231.94 1903.8 2226.13 1903.8 Q2220.32 1903.8 2217.24 1899.22 Q2214.18 1894.61 2214.18 1885.89 Q2214.18 1877.14 2217.24 1872.55 Q2220.32 1867.95 2226.13 1867.95 Z\" fill=\"#000000\" fill-rule=\"evenodd\" fill-opacity=\"1\" /><path clip-path=\"url(#clip190)\" d=\"M2791.46 1899.2 L2807.77 1899.2 L2807.77 1903.13 L2785.83 1903.13 L2785.83 1899.2 Q2788.49 1896.44 2793.08 1891.81 Q2797.68 1887.16 2798.86 1885.82 Q2801.11 1883.29 2801.99 1881.56 Q2802.89 1879.8 2802.89 1878.11 Q2802.89 1875.35 2800.95 1873.62 Q2799.02 1871.88 2795.92 1871.88 Q2793.72 1871.88 2791.27 1872.65 Q2788.84 1873.41 2786.06 1874.96 L2786.06 1870.24 Q2788.89 1869.1 2791.34 1868.53 Q2793.79 1867.95 2795.83 1867.95 Q2801.2 1867.95 2804.4 1870.63 Q2807.59 1873.32 2807.59 1877.81 Q2807.59 1879.94 2806.78 1881.86 Q2805.99 1883.76 2803.89 1886.35 Q2803.31 1887.02 2800.21 1890.24 Q2797.1 1893.43 2791.46 1899.2 Z\" fill=\"#000000\" fill-rule=\"evenodd\" fill-opacity=\"1\" /><path clip-path=\"url(#clip190)\" d=\"M2827.59 1871.65 Q2823.98 1871.65 2822.15 1875.22 Q2820.34 1878.76 2820.34 1885.89 Q2820.34 1892.99 2822.15 1896.56 Q2823.98 1900.1 2827.59 1900.1 Q2831.22 1900.1 2833.03 1896.56 Q2834.86 1892.99 2834.86 1885.89 Q2834.86 1878.76 2833.03 1875.22 Q2831.22 1871.65 2827.59 1871.65 M2827.59 1867.95 Q2833.4 1867.95 2836.46 1872.55 Q2839.53 1877.14 2839.53 1885.89 Q2839.53 1894.61 2836.46 1899.22 Q2833.4 1903.8 2827.59 1903.8 Q2821.78 1903.8 2818.7 1899.22 Q2815.65 1894.61 2815.65 1885.89 Q2815.65 1877.14 2818.7 1872.55 Q2821.78 1867.95 2827.59 1867.95 Z\" fill=\"#000000\" fill-rule=\"evenodd\" fill-opacity=\"1\" /><path clip-path=\"url(#clip190)\" d=\"M2857.75 1871.65 Q2854.14 1871.65 2852.31 1875.22 Q2850.51 1878.76 2850.51 1885.89 Q2850.51 1892.99 2852.31 1896.56 Q2854.14 1900.1 2857.75 1900.1 Q2861.39 1900.1 2863.19 1896.56 Q2865.02 1892.99 2865.02 1885.89 Q2865.02 1878.76 2863.19 1875.22 Q2861.39 1871.65 2857.75 1871.65 M2857.75 1867.95 Q2863.56 1867.95 2866.62 1872.55 Q2869.7 1877.14 2869.7 1885.89 Q2869.7 1894.61 2866.62 1899.22 Q2863.56 1903.8 2857.75 1903.8 Q2851.94 1903.8 2848.86 1899.22 Q2845.81 1894.61 2845.81 1885.89 Q2845.81 1877.14 2848.86 1872.55 Q2851.94 1867.95 2857.75 1867.95 Z\" fill=\"#000000\" fill-rule=\"evenodd\" fill-opacity=\"1\" /><path clip-path=\"url(#clip190)\" d=\"M3422.21 1899.2 L3438.53 1899.2 L3438.53 1903.13 L3416.59 1903.13 L3416.59 1899.2 Q3419.25 1896.44 3423.83 1891.81 Q3428.44 1887.16 3429.62 1885.82 Q3431.87 1883.29 3432.75 1881.56 Q3433.65 1879.8 3433.65 1878.11 Q3433.65 1875.35 3431.7 1873.62 Q3429.78 1871.88 3426.68 1871.88 Q3424.48 1871.88 3422.03 1872.65 Q3419.6 1873.41 3416.82 1874.96 L3416.82 1870.24 Q3419.64 1869.1 3422.1 1868.53 Q3424.55 1867.95 3426.59 1867.95 Q3431.96 1867.95 3435.15 1870.63 Q3438.35 1873.32 3438.35 1877.81 Q3438.35 1879.94 3437.54 1881.86 Q3436.75 1883.76 3434.64 1886.35 Q3434.06 1887.02 3430.96 1890.24 Q3427.86 1893.43 3422.21 1899.2 Z\" fill=\"#000000\" fill-rule=\"evenodd\" fill-opacity=\"1\" /><path clip-path=\"url(#clip190)\" d=\"M3448.39 1868.57 L3466.75 1868.57 L3466.75 1872.51 L3452.68 1872.51 L3452.68 1880.98 Q3453.69 1880.63 3454.71 1880.47 Q3455.73 1880.28 3456.75 1880.28 Q3462.54 1880.28 3465.92 1883.46 Q3469.3 1886.63 3469.3 1892.04 Q3469.3 1897.62 3465.82 1900.72 Q3462.35 1903.8 3456.03 1903.8 Q3453.86 1903.8 3451.59 1903.43 Q3449.34 1903.06 3446.94 1902.32 L3446.94 1897.62 Q3449.02 1898.76 3451.24 1899.31 Q3453.46 1899.87 3455.94 1899.87 Q3459.94 1899.87 3462.28 1897.76 Q3464.62 1895.66 3464.62 1892.04 Q3464.62 1888.43 3462.28 1886.33 Q3459.94 1884.22 3455.94 1884.22 Q3454.06 1884.22 3452.19 1884.64 Q3450.34 1885.05 3448.39 1885.93 L3448.39 1868.57 Z\" fill=\"#000000\" fill-rule=\"evenodd\" fill-opacity=\"1\" /><path clip-path=\"url(#clip190)\" d=\"M3488.51 1871.65 Q3484.9 1871.65 3483.07 1875.22 Q3481.26 1878.76 3481.26 1885.89 Q3481.26 1892.99 3483.07 1896.56 Q3484.9 1900.1 3488.51 1900.1 Q3492.14 1900.1 3493.95 1896.56 Q3495.78 1892.99 3495.78 1885.89 Q3495.78 1878.76 3493.95 1875.22 Q3492.14 1871.65 3488.51 1871.65 M3488.51 1867.95 Q3494.32 1867.95 3497.37 1872.55 Q3500.45 1877.14 3500.45 1885.89 Q3500.45 1894.61 3497.37 1899.22 Q3494.32 1903.8 3488.51 1903.8 Q3482.7 1903.8 3479.62 1899.22 Q3476.56 1894.61 3476.56 1885.89 Q3476.56 1877.14 3479.62 1872.55 Q3482.7 1867.95 3488.51 1867.95 Z\" fill=\"#000000\" fill-rule=\"evenodd\" fill-opacity=\"1\" /><path clip-path=\"url(#clip190)\" d=\"M1840.4 1965.49 L1840.4 1946.2 L1846.25 1946.2 L1846.25 1995.72 L1840.4 1995.72 L1840.4 1990.38 Q1838.55 1993.56 1835.72 1995.12 Q1832.92 1996.65 1828.97 1996.65 Q1822.51 1996.65 1818.44 1991.49 Q1814.39 1986.33 1814.39 1977.93 Q1814.39 1969.53 1818.44 1964.37 Q1822.51 1959.22 1828.97 1959.22 Q1832.92 1959.22 1835.72 1960.78 Q1838.55 1962.3 1840.4 1965.49 M1820.44 1977.93 Q1820.44 1984.39 1823.08 1988.08 Q1825.76 1991.75 1830.4 1991.75 Q1835.05 1991.75 1837.72 1988.08 Q1840.4 1984.39 1840.4 1977.93 Q1840.4 1971.47 1837.72 1967.81 Q1835.05 1964.12 1830.4 1964.12 Q1825.76 1964.12 1823.08 1967.81 Q1820.44 1971.47 1820.44 1977.93 Z\" fill=\"#000000\" fill-rule=\"evenodd\" fill-opacity=\"1\" /><path clip-path=\"url(#clip190)\" d=\"M1874.52 1977.8 Q1867.42 1977.8 1864.68 1979.43 Q1861.95 1981.05 1861.95 1984.97 Q1861.95 1988.08 1863.98 1989.93 Q1866.05 1991.75 1869.59 1991.75 Q1874.46 1991.75 1877.38 1988.31 Q1880.34 1984.84 1880.34 1979.11 L1880.34 1977.8 L1874.52 1977.8 M1886.2 1975.39 L1886.2 1995.72 L1880.34 1995.72 L1880.34 1990.31 Q1878.34 1993.56 1875.35 1995.12 Q1872.35 1996.65 1868.03 1996.65 Q1862.55 1996.65 1859.3 1993.59 Q1856.09 1990.5 1856.09 1985.35 Q1856.09 1979.33 1860.1 1976.28 Q1864.14 1973.22 1872.13 1973.22 L1880.34 1973.22 L1880.34 1972.65 Q1880.34 1968.61 1877.67 1966.41 Q1875.03 1964.18 1870.22 1964.18 Q1867.17 1964.18 1864.27 1964.91 Q1861.37 1965.65 1858.7 1967.11 L1858.7 1961.7 Q1861.91 1960.46 1864.94 1959.85 Q1867.96 1959.22 1870.83 1959.22 Q1878.56 1959.22 1882.38 1963.23 Q1886.2 1967.24 1886.2 1975.39 Z\" fill=\"#000000\" fill-rule=\"evenodd\" fill-opacity=\"1\" /><path clip-path=\"url(#clip190)\" d=\"M1913.09 1999.03 Q1910.61 2005.4 1908.26 2007.34 Q1905.9 2009.28 1901.95 2009.28 L1897.28 2009.28 L1897.28 2004.38 L1900.71 2004.38 Q1903.13 2004.38 1904.47 2003.24 Q1905.81 2002.09 1907.43 1997.82 L1908.48 1995.15 L1894.06 1960.08 L1900.27 1960.08 L1911.41 1987.96 L1922.55 1960.08 L1928.75 1960.08 L1913.09 1999.03 Z\" fill=\"#000000\" fill-rule=\"evenodd\" fill-opacity=\"1\" /><path clip-path=\"url(#clip190)\" d=\"M1959.56 1961.13 L1959.56 1966.66 Q1957.08 1965.39 1954.41 1964.75 Q1951.73 1964.12 1948.87 1964.12 Q1944.51 1964.12 1942.31 1965.45 Q1940.15 1966.79 1940.15 1969.47 Q1940.15 1971.5 1941.71 1972.68 Q1943.27 1973.83 1947.98 1974.88 L1949.98 1975.32 Q1956.22 1976.66 1958.83 1979.11 Q1961.47 1981.53 1961.47 1985.89 Q1961.47 1990.85 1957.53 1993.75 Q1953.61 1996.65 1946.74 1996.65 Q1943.87 1996.65 1940.75 1996.07 Q1937.67 1995.53 1934.23 1994.42 L1934.23 1988.37 Q1937.48 1990.06 1940.63 1990.92 Q1943.78 1991.75 1946.86 1991.75 Q1951 1991.75 1953.23 1990.34 Q1955.46 1988.91 1955.46 1986.33 Q1955.46 1983.95 1953.84 1982.67 Q1952.24 1981.4 1946.8 1980.22 L1944.76 1979.75 Q1939.32 1978.6 1936.9 1976.24 Q1934.48 1973.86 1934.48 1969.72 Q1934.48 1964.69 1938.05 1961.95 Q1941.61 1959.22 1948.17 1959.22 Q1951.42 1959.22 1954.28 1959.69 Q1957.15 1960.17 1959.56 1961.13 Z\" fill=\"#000000\" fill-rule=\"evenodd\" fill-opacity=\"1\" /><polyline clip-path=\"url(#clip192)\" style=\"stroke:#000000; stroke-linecap:butt; stroke-linejoin:round; stroke-width:2; stroke-opacity:0.1; fill:none\" points=\"\n",
       "  223.113,1430.65 3552.76,1430.65 \n",
       "  \"/>\n",
       "<polyline clip-path=\"url(#clip192)\" style=\"stroke:#000000; stroke-linecap:butt; stroke-linejoin:round; stroke-width:2; stroke-opacity:0.1; fill:none\" points=\"\n",
       "  223.113,993.837 3552.76,993.837 \n",
       "  \"/>\n",
       "<polyline clip-path=\"url(#clip192)\" style=\"stroke:#000000; stroke-linecap:butt; stroke-linejoin:round; stroke-width:2; stroke-opacity:0.1; fill:none\" points=\"\n",
       "  223.113,557.023 3552.76,557.023 \n",
       "  \"/>\n",
       "<polyline clip-path=\"url(#clip192)\" style=\"stroke:#000000; stroke-linecap:butt; stroke-linejoin:round; stroke-width:2; stroke-opacity:0.1; fill:none\" points=\"\n",
       "  223.113,120.209 3552.76,120.209 \n",
       "  \"/>\n",
       "<polyline clip-path=\"url(#clip190)\" style=\"stroke:#000000; stroke-linecap:butt; stroke-linejoin:round; stroke-width:4; stroke-opacity:1; fill:none\" points=\"\n",
       "  223.113,1832.86 223.113,47.2441 \n",
       "  \"/>\n",
       "<polyline clip-path=\"url(#clip190)\" style=\"stroke:#000000; stroke-linecap:butt; stroke-linejoin:round; stroke-width:4; stroke-opacity:1; fill:none\" points=\"\n",
       "  223.113,1430.65 242.011,1430.65 \n",
       "  \"/>\n",
       "<polyline clip-path=\"url(#clip190)\" style=\"stroke:#000000; stroke-linecap:butt; stroke-linejoin:round; stroke-width:4; stroke-opacity:1; fill:none\" points=\"\n",
       "  223.113,993.837 242.011,993.837 \n",
       "  \"/>\n",
       "<polyline clip-path=\"url(#clip190)\" style=\"stroke:#000000; stroke-linecap:butt; stroke-linejoin:round; stroke-width:4; stroke-opacity:1; fill:none\" points=\"\n",
       "  223.113,557.023 242.011,557.023 \n",
       "  \"/>\n",
       "<polyline clip-path=\"url(#clip190)\" style=\"stroke:#000000; stroke-linecap:butt; stroke-linejoin:round; stroke-width:4; stroke-opacity:1; fill:none\" points=\"\n",
       "  223.113,120.209 242.011,120.209 \n",
       "  \"/>\n",
       "<path clip-path=\"url(#clip190)\" d=\"M102.261 1444 L109.9 1444 L109.9 1417.63 L101.59 1419.3 L101.59 1415.04 L109.854 1413.37 L114.53 1413.37 L114.53 1444 L122.169 1444 L122.169 1447.93 L102.261 1447.93 L102.261 1444 Z\" fill=\"#000000\" fill-rule=\"evenodd\" fill-opacity=\"1\" /><path clip-path=\"url(#clip190)\" d=\"M131.613 1442.05 L136.497 1442.05 L136.497 1447.93 L131.613 1447.93 L131.613 1442.05 Z\" fill=\"#000000\" fill-rule=\"evenodd\" fill-opacity=\"1\" /><path clip-path=\"url(#clip190)\" d=\"M159.53 1417.45 L147.724 1435.89 L159.53 1435.89 L159.53 1417.45 M158.303 1413.37 L164.182 1413.37 L164.182 1435.89 L169.113 1435.89 L169.113 1439.78 L164.182 1439.78 L164.182 1447.93 L159.53 1447.93 L159.53 1439.78 L143.928 1439.78 L143.928 1435.27 L158.303 1413.37 Z\" fill=\"#000000\" fill-rule=\"evenodd\" fill-opacity=\"1\" /><path clip-path=\"url(#clip190)\" d=\"M102.586 1007.18 L110.224 1007.18 L110.224 980.816 L101.914 982.483 L101.914 978.224 L110.178 976.557 L114.854 976.557 L114.854 1007.18 L122.493 1007.18 L122.493 1011.12 L102.586 1011.12 L102.586 1007.18 Z\" fill=\"#000000\" fill-rule=\"evenodd\" fill-opacity=\"1\" /><path clip-path=\"url(#clip190)\" d=\"M131.937 1005.24 L136.821 1005.24 L136.821 1011.12 L131.937 1011.12 L131.937 1005.24 Z\" fill=\"#000000\" fill-rule=\"evenodd\" fill-opacity=\"1\" /><path clip-path=\"url(#clip190)\" d=\"M157.585 991.973 Q154.437 991.973 152.585 994.126 Q150.757 996.279 150.757 1000.03 Q150.757 1003.76 152.585 1005.93 Q154.437 1008.08 157.585 1008.08 Q160.733 1008.08 162.562 1005.93 Q164.414 1003.76 164.414 1000.03 Q164.414 996.279 162.562 994.126 Q160.733 991.973 157.585 991.973 M166.868 977.321 L166.868 981.58 Q165.108 980.747 163.303 980.307 Q161.52 979.867 159.761 979.867 Q155.132 979.867 152.678 982.992 Q150.247 986.117 149.9 992.436 Q151.266 990.423 153.326 989.358 Q155.386 988.27 157.863 988.27 Q163.071 988.27 166.081 991.441 Q169.113 994.589 169.113 1000.03 Q169.113 1005.35 165.965 1008.57 Q162.817 1011.79 157.585 1011.79 Q151.59 1011.79 148.419 1007.2 Q145.247 1002.6 145.247 993.872 Q145.247 985.677 149.136 980.816 Q153.025 975.932 159.576 975.932 Q161.335 975.932 163.118 976.279 Q164.923 976.626 166.868 977.321 Z\" fill=\"#000000\" fill-rule=\"evenodd\" fill-opacity=\"1\" /><path clip-path=\"url(#clip190)\" d=\"M102.84 570.368 L110.479 570.368 L110.479 544.002 L102.169 545.669 L102.169 541.409 L110.433 539.743 L115.109 539.743 L115.109 570.368 L122.747 570.368 L122.747 574.303 L102.84 574.303 L102.84 570.368 Z\" fill=\"#000000\" fill-rule=\"evenodd\" fill-opacity=\"1\" /><path clip-path=\"url(#clip190)\" d=\"M132.192 568.423 L137.076 568.423 L137.076 574.303 L132.192 574.303 L132.192 568.423 Z\" fill=\"#000000\" fill-rule=\"evenodd\" fill-opacity=\"1\" /><path clip-path=\"url(#clip190)\" d=\"M157.261 557.891 Q153.928 557.891 152.007 559.673 Q150.108 561.456 150.108 564.581 Q150.108 567.706 152.007 569.488 Q153.928 571.27 157.261 571.27 Q160.594 571.27 162.516 569.488 Q164.437 567.682 164.437 564.581 Q164.437 561.456 162.516 559.673 Q160.618 557.891 157.261 557.891 M152.585 555.9 Q149.576 555.159 147.886 553.099 Q146.22 551.039 146.22 548.076 Q146.22 543.933 149.159 541.525 Q152.122 539.118 157.261 539.118 Q162.423 539.118 165.363 541.525 Q168.303 543.933 168.303 548.076 Q168.303 551.039 166.613 553.099 Q164.946 555.159 161.96 555.9 Q165.34 556.687 167.215 558.979 Q169.113 561.27 169.113 564.581 Q169.113 569.604 166.034 572.289 Q162.979 574.974 157.261 574.974 Q151.544 574.974 148.465 572.289 Q145.409 569.604 145.409 564.581 Q145.409 561.27 147.307 558.979 Q149.206 556.687 152.585 555.9 M150.872 548.516 Q150.872 551.201 152.539 552.706 Q154.229 554.21 157.261 554.21 Q160.27 554.21 161.96 552.706 Q163.673 551.201 163.673 548.516 Q163.673 545.831 161.96 544.326 Q160.27 542.821 157.261 542.821 Q154.229 542.821 152.539 544.326 Q150.872 545.831 150.872 548.516 Z\" fill=\"#000000\" fill-rule=\"evenodd\" fill-opacity=\"1\" /><path clip-path=\"url(#clip190)\" d=\"M105.965 133.553 L122.284 133.553 L122.284 137.489 L100.34 137.489 L100.34 133.553 Q103.002 130.799 107.585 126.169 Q112.192 121.516 113.372 120.174 Q115.618 117.651 116.497 115.915 Q117.4 114.155 117.4 112.466 Q117.4 109.711 115.456 107.975 Q113.535 106.239 110.433 106.239 Q108.234 106.239 105.78 107.003 Q103.349 107.767 100.572 109.317 L100.572 104.595 Q103.396 103.461 105.849 102.882 Q108.303 102.304 110.34 102.304 Q115.71 102.304 118.905 104.989 Q122.099 107.674 122.099 112.165 Q122.099 114.294 121.289 116.216 Q120.502 118.114 118.396 120.706 Q117.817 121.378 114.715 124.595 Q111.613 127.79 105.965 133.553 Z\" fill=\"#000000\" fill-rule=\"evenodd\" fill-opacity=\"1\" /><path clip-path=\"url(#clip190)\" d=\"M132.099 131.609 L136.983 131.609 L136.983 137.489 L132.099 137.489 L132.099 131.609 Z\" fill=\"#000000\" fill-rule=\"evenodd\" fill-opacity=\"1\" /><path clip-path=\"url(#clip190)\" d=\"M157.169 106.007 Q153.557 106.007 151.729 109.572 Q149.923 113.114 149.923 120.243 Q149.923 127.35 151.729 130.915 Q153.557 134.456 157.169 134.456 Q160.803 134.456 162.608 130.915 Q164.437 127.35 164.437 120.243 Q164.437 113.114 162.608 109.572 Q160.803 106.007 157.169 106.007 M157.169 102.304 Q162.979 102.304 166.034 106.91 Q169.113 111.493 169.113 120.243 Q169.113 128.97 166.034 133.577 Q162.979 138.16 157.169 138.16 Q151.358 138.16 148.28 133.577 Q145.224 128.97 145.224 120.243 Q145.224 111.493 148.28 106.91 Q151.358 102.304 157.169 102.304 Z\" fill=\"#000000\" fill-rule=\"evenodd\" fill-opacity=\"1\" /><path clip-path=\"url(#clip190)\" d=\"M-3.5638 1007.34 L-3.5638 1001.48 L32.0842 1001.48 L32.0842 1007.34 L-3.5638 1007.34 M-17.441 1007.34 L-17.441 1001.48 L-10.025 1001.48 L-10.025 1007.34 L-17.441 1007.34 Z\" fill=\"#000000\" fill-rule=\"evenodd\" fill-opacity=\"1\" /><path clip-path=\"url(#clip190)\" d=\"M10.5681 959.595 L32.0842 959.595 L32.0842 965.451 L10.759 965.451 Q5.6983 965.451 3.18385 967.425 Q0.669395 969.398 0.669395 973.345 Q0.669395 978.087 3.69311 980.824 Q6.71682 983.562 11.9367 983.562 L32.0842 983.562 L32.0842 989.45 L-3.5638 989.45 L-3.5638 983.562 L1.97437 983.562 Q-1.24032 981.461 -2.83174 978.628 Q-4.42317 975.764 -4.42317 972.04 Q-4.42317 965.897 -0.603746 962.746 Q3.18385 959.595 10.5681 959.595 Z\" fill=\"#000000\" fill-rule=\"evenodd\" fill-opacity=\"1\" /><path clip-path=\"url(#clip190)\" d=\"M-17.441 929.867 L-12.5713 929.867 L-12.5713 935.469 Q-12.5713 938.62 -11.2981 939.861 Q-10.025 941.07 -6.71482 941.07 L-3.5638 941.07 L-3.5638 931.426 L0.987681 931.426 L0.987681 941.07 L32.0842 941.07 L32.0842 946.959 L0.987681 946.959 L0.987681 952.561 L-3.5638 952.561 L-3.5638 946.959 L-6.04643 946.959 Q-11.9984 946.959 -14.7038 944.19 Q-17.441 941.421 -17.441 935.405 L-17.441 929.867 Z\" fill=\"#000000\" fill-rule=\"evenodd\" fill-opacity=\"1\" /><path clip-path=\"url(#clip190)\" d=\"M11.1728 883.715 Q11.1728 886.485 13.5281 888.076 Q15.8834 889.636 20.0848 889.636 Q24.2225 889.636 26.6096 888.076 Q28.965 886.485 28.965 883.715 Q28.965 881.01 26.6096 879.45 Q24.2225 877.859 20.0848 877.859 Q15.9153 877.859 13.56 879.45 Q11.1728 881.01 11.1728 883.715 M7.13059 883.715 Q7.13059 878.687 10.6317 875.727 Q14.1329 872.766 20.0848 872.766 Q26.0367 872.766 29.5379 875.758 Q33.0072 878.718 33.0072 883.715 Q33.0072 888.808 29.5379 891.768 Q26.0367 894.728 20.0848 894.728 Q14.101 894.728 10.6317 891.768 Q7.13059 888.776 7.13059 883.715 M-12.253 916.563 Q-12.253 919.3 -9.86585 920.891 Q-7.51054 922.451 -3.37283 922.451 Q0.828538 922.451 3.18385 920.891 Q5.53916 919.332 5.53916 916.563 Q5.53916 913.793 3.18385 912.234 Q0.828538 910.642 -3.37283 910.642 Q-7.47871 910.642 -9.86585 912.234 Q-12.253 913.825 -12.253 916.563 M-16.2952 887.821 L-16.2952 882.729 L33.0072 912.457 L33.0072 917.549 L-16.2952 887.821 M-16.2952 916.563 Q-16.2952 911.534 -12.7941 908.542 Q-9.32476 905.55 -3.37283 905.55 Q2.64276 905.55 6.11207 908.542 Q9.58138 911.502 9.58138 916.563 Q9.58138 921.623 6.11207 924.583 Q2.61094 927.512 -3.37283 927.512 Q-9.29294 927.512 -12.7941 924.551 Q-16.2952 921.591 -16.2952 916.563 Z\" fill=\"#000000\" fill-rule=\"evenodd\" fill-opacity=\"1\" /><polyline clip-path=\"url(#clip192)\" style=\"stroke:#009af9; stroke-linecap:butt; stroke-linejoin:round; stroke-width:4; stroke-opacity:1; fill:none\" points=\"\n",
       "  317.348,1228.87 329.963,1231.24 342.578,1038.11 355.194,965.466 367.809,853.015 380.424,824.997 393.039,878.828 405.654,855.985 418.269,895.597 430.884,926.065 \n",
       "  443.5,913.625 456.115,902.685 468.73,831.028 481.345,921.68 493.96,897.24 506.575,955.225 519.191,902.613 531.806,940.369 544.421,946.261 557.036,819.356 \n",
       "  569.651,781.853 582.266,721.966 594.881,730.276 607.497,739.939 620.112,747.48 632.727,799.998 645.342,796.111 657.957,797.41 670.572,757.571 683.187,655.179 \n",
       "  695.803,680.704 708.418,658.014 721.033,636.641 733.648,587.582 746.263,549.407 758.878,509.81 771.494,519.363 784.109,519.732 796.724,476.922 809.339,476.402 \n",
       "  821.954,438.017 834.569,466.939 847.184,499.763 859.8,538.893 872.415,549.145 885.03,562.315 897.645,508.294 910.26,536.848 922.875,467.509 935.491,443.477 \n",
       "  948.106,436.571 960.721,390.664 973.336,438.308 985.951,388.329 998.566,415.934 1011.18,546.655 1023.8,618.782 1036.41,668.504 1049.03,696.216 1061.64,724.676 \n",
       "  1074.26,607.606 1086.87,512.044 1099.49,543.857 1112.1,526.107 1124.72,539.166 1137.33,570.088 1149.95,544.681 1162.56,554.035 1175.18,485.42 1187.79,520.501 \n",
       "  1200.41,434.219 1213.02,456.029 1225.64,423.093 1238.25,463.143 1250.87,415.521 1263.48,403.753 1276.1,399.606 1288.71,403.424 1301.33,422.925 1313.95,427.267 \n",
       "  1326.56,418.45 1339.18,436.962 1351.79,482.245 1364.41,598.018 1377.02,550.093 1389.64,532.133 1402.25,640.697 1414.87,673.349 1427.48,710.899 1440.1,661.022 \n",
       "  1452.71,710.406 1465.33,667.29 1477.94,693.435 1490.56,655.85 1503.17,747.242 1515.79,744.016 1528.4,727.85 1541.02,815.35 1553.63,947.76 1566.25,953.082 \n",
       "  1578.86,1041.75 1591.48,1007.05 1604.09,1007.62 1616.71,1042.75 1629.32,1079.31 1641.94,1018.37 1654.55,1014.72 1667.17,1027.1 1679.78,979.737 1692.4,1003.7 \n",
       "  1705.01,1051.21 1717.63,1152.42 1730.25,1183.94 1742.86,1260.52 1755.48,1331.1 1768.09,1233 1780.71,1139.71 1793.32,1043.69 1805.94,1002.11 1818.55,1054.71 \n",
       "  1831.17,1168.44 1843.78,1085.41 1856.4,1143.37 1869.01,1155.23 1881.63,1146.8 1894.24,1219.08 1906.86,1197.38 1919.47,1105.27 1932.09,1101.92 1944.7,1072.74 \n",
       "  1957.32,1023.54 1969.93,937.182 1982.55,950.937 1995.16,963.583 2007.78,932.532 2020.39,996.993 2033.01,1003.88 2045.62,1002.2 2058.24,1016.32 2070.85,978.828 \n",
       "  2083.47,1013.45 2096.08,1004.01 2108.7,1060.25 2121.31,1054.22 2133.93,1038.99 2146.55,1077.19 2159.16,1267.68 2171.78,1323.63 2184.39,1462.61 2197.01,1433.77 \n",
       "  2209.62,1467.83 2222.24,1364.09 2234.85,1337.44 2247.47,1458.52 2260.08,1351.97 2272.7,1507.6 2285.31,1556.29 2297.93,1558.44 2310.54,1514.68 2323.16,1558.64 \n",
       "  2335.77,1556.05 2348.39,1532.62 2361,1549.23 2373.62,1559.25 2386.23,1515.89 2398.85,1524.15 2411.46,1457.77 2424.08,1543.39 2436.69,1664.6 2449.31,1629.01 \n",
       "  2461.92,1532.64 2474.54,1538.9 2487.15,1464.33 2499.77,1425.07 2512.38,1426.93 2525,1374.63 2537.61,1290.13 2550.23,1261.43 2562.85,1306.67 2575.46,1422.15 \n",
       "  2588.08,1406.64 2600.69,1379.25 2613.31,1378.28 2625.92,1452.57 2638.54,1413.54 2651.15,1434.28 2663.77,1518.47 2676.38,1535.96 2689,1579.99 2701.61,1667.95 \n",
       "  2714.23,1748.72 2726.84,1709.51 2739.46,1707.15 2752.07,1753.42 2764.69,1782.32 2777.3,1672.49 2789.92,1551.57 2802.53,1578.51 2815.15,1537.18 2827.76,1179.46 \n",
       "  2840.38,1174.96 2852.99,1148.4 2865.61,1157.11 2878.22,1173.12 2890.84,1173.12 2903.45,1113.26 2916.07,1136.72 2928.68,1191.98 2941.3,1286.94 2953.91,1340.2 \n",
       "  2966.53,1211.55 2979.14,1075.86 2991.76,1041.44 3004.38,1051.19 3016.99,977.594 3029.61,936.335 3042.22,986.14 3054.84,1046.04 3067.45,1135.37 3080.07,1160.77 \n",
       "  3092.68,1134.87 3105.3,1147.54 3117.91,1187.14 3130.53,1141.17 3143.14,1154.79 3155.76,1141.15 3168.37,1172.86 3180.99,1132.6 3193.6,1210.77 3206.22,1132.59 \n",
       "  3218.83,1189.77 3231.45,1114.58 3244.06,1113.17 3256.68,1018.7 3269.29,1019.22 3281.91,1011.04 3294.52,1000.02 3307.14,945.342 3319.75,957.481 3332.37,897.366 \n",
       "  3344.98,877.293 3357.6,826.95 3370.21,817.93 3382.83,833.557 3395.44,846.969 3408.06,842.227 3420.68,856.374 3433.29,902.438 3445.91,862.227 3458.52,812.815 \n",
       "  \n",
       "  \"/>\n",
       "<polyline clip-path=\"url(#clip192)\" style=\"stroke:#e26f46; stroke-linecap:butt; stroke-linejoin:round; stroke-width:4; stroke-opacity:1; fill:none\" points=\"\n",
       "  317.348,1036.68 329.963,1076.84 342.578,885.367 355.194,809.851 367.809,734.961 380.424,677.618 393.039,732.535 405.654,690.887 418.269,742.45 430.884,746.021 \n",
       "  443.5,736.907 456.115,743.291 468.73,665.184 481.345,747.203 493.96,753.098 506.575,808.536 519.191,762.788 531.806,796.113 544.421,824.729 557.036,666.174 \n",
       "  569.651,645.469 582.266,575.839 594.881,577.56 607.497,583.225 620.112,596.849 632.727,657.702 645.342,650.082 657.957,643.973 670.572,616.346 683.187,545.639 \n",
       "  695.803,569.361 708.418,540.85 721.033,523.163 733.648,476.841 746.263,435.765 758.878,413.746 771.494,396.476 784.109,400.501 796.724,357.98 809.339,331.775 \n",
       "  821.954,289.664 834.569,333.332 847.184,364.128 859.8,406.031 872.415,422.189 885.03,459.993 897.645,421.536 910.26,443.307 922.875,379.927 935.491,330.183 \n",
       "  948.106,333.815 960.721,285.359 973.336,326.571 985.951,276.381 998.566,295.406 1011.18,420.787 1023.8,480.187 1036.41,536.169 1049.03,574.491 1061.64,595.458 \n",
       "  1074.26,501.609 1086.87,409.635 1099.49,418.769 1112.1,404.714 1124.72,432.397 1137.33,440.483 1149.95,419.95 1162.56,431.644 1175.18,369.215 1187.79,390.105 \n",
       "  1200.41,305.721 1213.02,327.647 1225.64,306.966 1238.25,349.289 1250.87,340.73 1263.48,312.265 1276.1,308.96 1288.71,321.261 1301.33,308.993 1313.95,310.668 \n",
       "  1326.56,323.371 1339.18,336.377 1351.79,381.085 1364.41,476.566 1377.02,428.097 1389.64,417.565 1402.25,504.876 1414.87,534.413 1427.48,585.247 1440.1,496.299 \n",
       "  1452.71,584.776 1465.33,553.268 1477.94,598.911 1490.56,564.418 1503.17,641.957 1515.79,641.369 1528.4,587.847 1541.02,697.334 1553.63,828.623 1566.25,782.559 \n",
       "  1578.86,864.23 1591.48,804.712 1604.09,844.505 1616.71,864.048 1629.32,872.927 1641.94,820.754 1654.55,792.704 1667.17,826.9 1679.78,811.019 1692.4,831.818 \n",
       "  1705.01,882.109 1717.63,948.323 1730.25,1002.13 1742.86,1094.63 1755.48,1156.52 1768.09,1085.43 1780.71,982.779 1793.32,878.701 1805.94,843.643 1818.55,889.377 \n",
       "  1831.17,990.017 1843.78,914.891 1856.4,962.004 1869.01,980.143 1881.63,973.577 1894.24,1061.72 1906.86,1060.13 1919.47,952.501 1932.09,947.432 1944.7,921.433 \n",
       "  1957.32,862.439 1969.93,792.361 1982.55,780.803 1995.16,774.862 2007.78,735.841 2020.39,812.384 2033.01,806.522 2045.62,799.791 2058.24,792.411 2070.85,774.534 \n",
       "  2083.47,797.557 2096.08,803.095 2108.7,853.901 2121.31,879.608 2133.93,860.139 2146.55,877.992 2159.16,1059.37 2171.78,1104.28 2184.39,1271.3 2197.01,1208.79 \n",
       "  2209.62,1244.44 2222.24,1143.87 2234.85,1107.97 2247.47,1237.38 2260.08,1154.51 2272.7,1292.84 2285.31,1342.48 2297.93,1332.97 2310.54,1287.73 2323.16,1345.02 \n",
       "  2335.77,1322.53 2348.39,1320.09 2361,1333.15 2373.62,1337.55 2386.23,1319.01 2398.85,1309.06 2411.46,1217.94 2424.08,1291.27 2436.69,1412.2 2449.31,1379.75 \n",
       "  2461.92,1270.52 2474.54,1278.41 2487.15,1228.88 2499.77,1171.32 2512.38,1181.96 2525,1138.71 2537.61,1037.29 2550.23,1029.56 2562.85,1033.39 2575.46,1149.1 \n",
       "  2588.08,1160.22 2600.69,1134.27 2613.31,1157.99 2625.92,1219.26 2638.54,1189.89 2651.15,1210.37 2663.77,1313.37 2676.38,1297.3 2689,1326.36 2701.61,1385.61 \n",
       "  2714.23,1461.21 2726.84,1436.8 2739.46,1419.69 2752.07,1477.89 2764.69,1472.23 2777.3,1401.23 2789.92,1276.73 2802.53,1298.06 2815.15,1298.87 2827.76,1056.59 \n",
       "  2840.38,1028.71 2852.99,1022.48 2865.61,1062.41 2878.22,1044.16 2890.84,1036.97 2903.45,967.239 2916.07,999.847 2928.68,1072.54 2941.3,1147.45 2953.91,1200.69 \n",
       "  2966.53,1102.32 2979.14,973.938 2991.76,891.061 3004.38,906.068 3016.99,843.451 3029.61,773.886 3042.22,830.18 3054.84,921.763 3067.45,1007.51 3080.07,1015.92 \n",
       "  3092.68,988.13 3105.3,1018.36 3117.91,1058.73 3130.53,982.519 3143.14,995.481 3155.76,981.193 3168.37,995.361 3180.99,988.567 3193.6,999.345 3206.22,922.922 \n",
       "  3218.83,990.753 3231.45,909.803 3244.06,911.668 3256.68,828.341 3269.29,853.831 3281.91,839.537 3294.52,830.316 3307.14,763.066 3319.75,807.317 3332.37,746.096 \n",
       "  3344.98,710.495 3357.6,652.045 3370.21,662.417 3382.83,677.42 3395.44,687.536 3408.06,692.796 3420.68,659.526 3433.29,740.913 3445.91,699.359 3458.52,637.525 \n",
       "  \n",
       "  \"/>\n",
       "<polyline clip-path=\"url(#clip192)\" style=\"stroke:#3da44d; stroke-linecap:butt; stroke-linejoin:round; stroke-width:4; stroke-opacity:1; fill:none\" points=\"\n",
       "  317.348,783.135 329.963,812.788 342.578,653.548 355.194,610.738 367.809,519.096 380.424,492.018 393.039,530.792 405.654,492.191 418.269,537.259 430.884,538.01 \n",
       "  443.5,516.548 456.115,585.545 468.73,500.565 481.345,573.834 493.96,566.373 506.575,617.722 519.191,581.061 531.806,610.347 544.421,610.904 557.036,475.081 \n",
       "  569.651,449.588 582.266,389.203 594.881,409.792 607.497,410.502 620.112,432.531 632.727,477.424 645.342,513.92 657.957,520.582 670.572,483.863 683.187,425.642 \n",
       "  695.803,448.999 708.418,434.499 721.033,399.575 733.648,356.892 746.263,312.278 758.878,306.999 771.494,284.774 784.109,293.536 796.724,270.184 809.339,239.9 \n",
       "  821.954,217.341 834.569,254.636 847.184,283.289 859.8,305.999 872.415,329.633 885.03,344.548 897.645,322.93 910.26,338.36 922.875,302.972 935.491,252.321 \n",
       "  948.106,247.057 960.721,218.112 973.336,231.605 985.951,201.137 998.566,212.929 1011.18,333.228 1023.8,376.763 1036.41,421.012 1049.03,471.588 1061.64,484.99 \n",
       "  1074.26,391.319 1086.87,344.272 1099.49,330.764 1112.1,321.567 1124.72,343.176 1137.33,328.846 1149.95,313.807 1162.56,307.287 1175.18,252.858 1187.79,257.962 \n",
       "  1200.41,219.04 1213.02,241.005 1225.64,210.14 1238.25,253.251 1250.87,225.077 1263.48,232.245 1276.1,219.11 1288.71,199.327 1301.33,169.597 1313.95,185.517 \n",
       "  1326.56,205.855 1339.18,221.604 1351.79,277.217 1364.41,361.42 1377.02,311.142 1389.64,313.165 1402.25,407.849 1414.87,413.492 1427.48,450.32 1440.1,391.765 \n",
       "  1452.71,452.845 1465.33,430.941 1477.94,490.907 1490.56,469.16 1503.17,532.502 1515.79,530.298 1528.4,485.879 1541.02,573.122 1553.63,700.975 1566.25,643.846 \n",
       "  1578.86,717.949 1591.48,675.596 1604.09,690.103 1616.71,695.104 1629.32,702.102 1641.94,684.096 1654.55,658.13 1667.17,714.219 1679.78,687.77 1692.4,704.93 \n",
       "  1705.01,730.87 1717.63,760.602 1730.25,819.98 1742.86,925.318 1755.48,973.315 1768.09,912.275 1780.71,833.729 1793.32,686.093 1805.94,718.609 1818.55,757.215 \n",
       "  1831.17,841.553 1843.78,773.246 1856.4,810.098 1869.01,807.374 1881.63,806.704 1894.24,886.143 1906.86,878.359 1919.47,801.333 1932.09,769.308 1944.7,747.089 \n",
       "  1957.32,681.919 1969.93,631.179 1982.55,616.379 1995.16,617.115 2007.78,562.14 2020.39,659.224 2033.01,568.269 2045.62,557.315 2058.24,571.409 2070.85,526.749 \n",
       "  2083.47,578.35 2096.08,547.437 2108.7,596.308 2121.31,633.197 2133.93,605.223 2146.55,636.575 2159.16,773.991 2171.78,854.541 2184.39,990.762 2197.01,945.752 \n",
       "  2209.62,954.969 2222.24,878.815 2234.85,868.139 2247.47,969.934 2260.08,931.137 2272.7,1065.95 2285.31,1115.41 2297.93,1117.4 2310.54,1071.79 2323.16,1144.5 \n",
       "  2335.77,1120.51 2348.39,1095.65 2361,1135.08 2373.62,1124.28 2386.23,1104.22 2398.85,1093.6 2411.46,1021.15 2424.08,1111.03 2436.69,1207.4 2449.31,1190.87 \n",
       "  2461.92,1088.66 2474.54,1118.2 2487.15,1059.76 2499.77,1001.68 2512.38,998.415 2525,939.233 2537.61,845.683 2550.23,850.33 2562.85,867.508 2575.46,1008.5 \n",
       "  2588.08,977.948 2600.69,964.168 2613.31,966.237 2625.92,1044.11 2638.54,1000.3 2651.15,1065.86 2663.77,1136.16 2676.38,1137.45 2689,1167.91 2701.61,1214.03 \n",
       "  2714.23,1254.18 2726.84,1215.42 2739.46,1190.81 2752.07,1254.98 2764.69,1243.49 2777.3,1159.1 2789.92,1074.81 2802.53,1074.49 2815.15,1061.24 2827.76,1020.13 \n",
       "  2840.38,999.304 2852.99,982.049 2865.61,982.047 2878.22,961.862 2890.84,947.867 2903.45,889.063 2916.07,900.136 2928.68,971.854 2941.3,1052.57 2953.91,1122.52 \n",
       "  2966.53,1007.02 2979.14,898.026 2991.76,829.435 3004.38,853.617 3016.99,797.589 3029.61,747.657 3042.22,783.79 3054.84,864.439 3067.45,945.602 3080.07,936.769 \n",
       "  3092.68,931.783 3105.3,938.698 3117.91,998.513 3130.53,938.687 3143.14,952.958 3155.76,953.121 3168.37,947.098 3180.99,938.484 3193.6,966.473 3206.22,894.885 \n",
       "  3218.83,928.529 3231.45,861.382 3244.06,845.87 3256.68,794.499 3269.29,805.911 3281.91,761.194 3294.52,801.195 3307.14,726.919 3319.75,780.351 3332.37,700.267 \n",
       "  3344.98,672.543 3357.6,650.949 3370.21,615.078 3382.83,629.152 3395.44,657.466 3408.06,673.825 3420.68,681.021 3433.29,711.795 3445.91,670.623 3458.52,621.586 \n",
       "  \n",
       "  \"/>\n",
       "<polyline clip-path=\"url(#clip192)\" style=\"stroke:#c271d2; stroke-linecap:butt; stroke-linejoin:round; stroke-width:4; stroke-opacity:1; fill:none\" points=\"\n",
       "  317.348,654.887 329.963,681.159 342.578,600.422 355.194,547.708 367.809,450.224 380.424,453.417 393.039,473.583 405.654,441.748 418.269,467.6 430.884,473.056 \n",
       "  443.5,428.855 456.115,490.583 468.73,449.977 481.345,506.728 493.96,491.529 506.575,556.575 519.191,531.971 531.806,547.039 544.421,537.039 557.036,407.401 \n",
       "  569.651,368.219 582.266,341.355 594.881,320.909 607.497,339.585 620.112,381.336 632.727,399.916 645.342,438.41 657.957,434.665 670.572,409.971 683.187,368.347 \n",
       "  695.803,390.533 708.418,386.006 721.033,337.681 733.648,302.131 746.263,228.338 758.878,209.699 771.494,196.981 784.109,221.394 796.724,186.995 809.339,163.248 \n",
       "  821.954,137.6 834.569,166.454 847.184,188.415 859.8,225.78 872.415,243.218 885.03,278.635 897.645,260.627 910.26,288.36 922.875,268.138 935.491,181.978 \n",
       "  948.106,154.333 960.721,133.213 973.336,136.408 985.951,108.085 998.566,116.238 1011.18,206.866 1023.8,266.34 1036.41,309.576 1049.03,388.205 1061.64,401.279 \n",
       "  1074.26,313.224 1086.87,273.6 1099.49,268.053 1112.1,248.722 1124.72,260.004 1137.33,271.217 1149.95,253.236 1162.56,251.945 1175.18,193.864 1187.79,214.473 \n",
       "  1200.41,177.289 1213.02,196.297 1225.64,164.03 1238.25,177.342 1250.87,180.063 1263.48,166.638 1276.1,144.554 1288.71,138.716 1301.33,97.7804 1313.95,117.206 \n",
       "  1326.56,131.686 1339.18,153.601 1351.79,221.032 1364.41,277.267 1377.02,249.988 1389.64,255.883 1402.25,307.471 1414.87,333.669 1427.48,334.138 1440.1,279.336 \n",
       "  1452.71,325.686 1465.33,316.69 1477.94,378.237 1490.56,387.954 1503.17,448.123 1515.79,410.952 1528.4,345.085 1541.02,410.094 1553.63,524.225 1566.25,472.888 \n",
       "  1578.86,538.552 1591.48,521.735 1604.09,546.727 1616.71,545.076 1629.32,552.425 1641.94,494.89 1654.55,469.872 1667.17,517.937 1679.78,556.162 1692.4,564.442 \n",
       "  1705.01,584.741 1717.63,615.287 1730.25,654.116 1742.86,749.699 1755.48,792.804 1768.09,748.633 1780.71,687.6 1793.32,531.434 1805.94,595.301 1818.55,610.38 \n",
       "  1831.17,677.276 1843.78,617.57 1856.4,655.079 1869.01,652.087 1881.63,665.211 1894.24,734.341 1906.86,751.988 1919.47,638.744 1932.09,649.313 1944.7,613 \n",
       "  1957.32,538.963 1969.93,490.883 1982.55,466.366 1995.16,478.726 2007.78,435.084 2020.39,540.011 2033.01,478.248 2045.62,443.486 2058.24,424.897 2070.85,402.546 \n",
       "  2083.47,420.14 2096.08,395.506 2108.7,439.225 2121.31,466.473 2133.93,452.002 2146.55,478.11 2159.16,612.695 2171.78,709.121 2184.39,793.807 2197.01,805.889 \n",
       "  2209.62,798.4 2222.24,732.375 2234.85,712.784 2247.47,860.488 2260.08,832.659 2272.7,966.311 2285.31,923.94 2297.93,954.351 2310.54,964.555 2323.16,953.925 \n",
       "  2335.77,1007.11 2348.39,965.811 2361,934.513 2373.62,898.699 2386.23,870.657 2398.85,813.527 2411.46,753.644 2424.08,941.129 2436.69,930.37 2449.31,1006.42 \n",
       "  2461.92,926.017 2474.54,960.733 2487.15,904.08 2499.77,854.085 2512.38,861.432 2525,813.985 2537.61,722.187 2550.23,721.699 2562.85,737.844 2575.46,877.968 \n",
       "  2588.08,867.078 2600.69,843.429 2613.31,835.677 2625.92,897.026 2638.54,871.769 2651.15,930.577 2663.77,988.25 2676.38,999.614 2689,990.351 2701.61,1015.25 \n",
       "  2714.23,1038.56 2726.84,1036.88 2739.46,1019.79 2752.07,1075.89 2764.69,1084.52 2777.3,996.159 2789.92,901.178 2802.53,878.673 2815.15,868.779 2827.76,879.713 \n",
       "  2840.38,845.938 2852.99,808.606 2865.61,805.878 2878.22,803.039 2890.84,755.647 2903.45,721.601 2916.07,702.167 2928.68,783.354 2941.3,872.842 2953.91,918.939 \n",
       "  2966.53,822.361 2979.14,687.541 2991.76,599.234 3004.38,614.986 3016.99,536.239 3029.61,490.767 3042.22,520.754 3054.84,609.065 3067.45,662.671 3080.07,673.565 \n",
       "  3092.68,658.783 3105.3,678.079 3117.91,724.513 3130.53,677.051 3143.14,683.205 3155.76,673.851 3168.37,679.46 3180.99,692.85 3193.6,737.014 3206.22,617.522 \n",
       "  3218.83,671.213 3231.45,614.226 3244.06,600.387 3256.68,569.483 3269.29,565.606 3281.91,575.015 3294.52,595.161 3307.14,530.25 3319.75,575.614 3332.37,516.873 \n",
       "  3344.98,473.869 3357.6,424.406 3370.21,407.659 3382.83,419.269 3395.44,452.364 3408.06,454.079 3420.68,482.959 3433.29,518.21 3445.91,488.192 3458.52,431.076 \n",
       "  \n",
       "  \"/>\n",
       "<polyline clip-path=\"url(#clip192)\" style=\"stroke:#ac8d18; stroke-linecap:butt; stroke-linejoin:round; stroke-width:4; stroke-opacity:1; fill:none\" points=\"\n",
       "  317.348,591.391 329.963,609.875 342.578,538.36 355.194,530.775 367.809,446.57 380.424,406.542 393.039,426.551 405.654,416.069 418.269,420.966 430.884,408.897 \n",
       "  443.5,407.796 456.115,425.061 468.73,387.286 481.345,424.12 493.96,428.167 506.575,467.873 519.191,461.682 531.806,481.926 544.421,473.794 557.036,358.692 \n",
       "  569.651,306.597 582.266,286.102 594.881,285.187 607.497,297.337 620.112,336.672 632.727,357.3 645.342,397.725 657.957,393.87 670.572,372.753 683.187,340.391 \n",
       "  695.803,352.426 708.418,332.341 721.033,315.194 733.648,265.622 746.263,218.492 758.878,204.387 771.494,185.235 784.109,202.087 796.724,187.085 809.339,170.665 \n",
       "  821.954,124.419 834.569,157.1 847.184,195.328 859.8,228.11 872.415,231.164 885.03,261.625 897.645,244.76 910.26,250.877 922.875,196.45 935.491,171.611 \n",
       "  948.106,148.263 960.721,132.809 973.336,137.596 985.951,103.241 998.566,112.866 1011.18,183.717 1023.8,246.915 1036.41,302.528 1049.03,362.83 1061.64,380.515 \n",
       "  1074.26,303.024 1086.87,249.984 1099.49,261.38 1112.1,249.248 1124.72,263.169 1137.33,250.772 1149.95,236.039 1162.56,242.069 1175.18,204.586 1187.79,198.379 \n",
       "  1200.41,169.794 1213.02,186.342 1225.64,173.889 1238.25,176.555 1250.87,167.834 1263.48,165.915 1276.1,147.938 1288.71,132.728 1301.33,104.033 1313.95,116.502 \n",
       "  1326.56,123.048 1339.18,136.238 1351.79,189.422 1364.41,259.17 1377.02,214.838 1389.64,234.831 1402.25,302.1 1414.87,331.24 1427.48,322.174 1440.1,241.759 \n",
       "  1452.71,318.046 1465.33,278.534 1477.94,337.262 1490.56,332.627 1503.17,386.729 1515.79,377.964 1528.4,340.411 1541.02,384.084 1553.63,458.912 1566.25,417.533 \n",
       "  1578.86,488.185 1591.48,448.75 1604.09,472.794 1616.71,478.23 1629.32,528.25 1641.94,491.571 1654.55,450.977 1667.17,515.416 1679.78,534.485 1692.4,560.701 \n",
       "  1705.01,565.733 1717.63,573.305 1730.25,615.429 1742.86,725.434 1755.48,747.253 1768.09,708.274 1780.71,624.511 1793.32,527.409 1805.94,552.696 1818.55,582.517 \n",
       "  1831.17,676.142 1843.78,608.829 1856.4,657.888 1869.01,677.754 1881.63,697.738 1894.24,737.143 1906.86,744.375 1919.47,648.832 1932.09,618.142 1944.7,586.3 \n",
       "  1957.32,538.172 1969.93,458.779 1982.55,462.857 1995.16,465.587 2007.78,444.401 2020.39,515.456 2033.01,519.854 2045.62,510.308 2058.24,483.45 2070.85,452.768 \n",
       "  2083.47,483.361 2096.08,477.025 2108.7,526.284 2121.31,541.311 2133.93,528.003 2146.55,540.19 2159.16,702.191 2171.78,771.972 2184.39,888.119 2197.01,874.687 \n",
       "  2209.62,871.3 2222.24,758.582 2234.85,748.256 2247.47,847.294 2260.08,853.054 2272.7,1009.42 2285.31,1050.41 2297.93,1068.7 2310.54,1014.66 2323.16,1074.19 \n",
       "  2335.77,1061.84 2348.39,996.021 2361,1004.71 2373.62,983.823 2386.23,974.108 2398.85,959.608 2411.46,863.192 2424.08,966.499 2436.69,1030.65 2449.31,1027.28 \n",
       "  2461.92,937.167 2474.54,976.425 2487.15,914.85 2499.77,884.622 2512.38,863.885 2525,906.557 2537.61,732.727 2550.23,740.731 2562.85,763.701 2575.46,866.851 \n",
       "  2588.08,877.5 2600.69,845.298 2613.31,850.748 2625.92,911.03 2638.54,865.287 2651.15,916.667 2663.77,992.941 2676.38,1007.65 2689,1005.95 2701.61,1042.52 \n",
       "  2714.23,1084.06 2726.84,1031.86 2739.46,1013.27 2752.07,1090.57 2764.69,1089.56 2777.3,1006.95 2789.92,918.539 2802.53,913.391 2815.15,920.518 2827.76,877.033 \n",
       "  2840.38,847.795 2852.99,825.38 2865.61,809.08 2878.22,807.011 2890.84,780.335 2903.45,716.962 2916.07,717.954 2928.68,802.766 2941.3,868.434 2953.91,950.228 \n",
       "  2966.53,836.575 2979.14,743.379 2991.76,640.485 3004.38,649.232 3016.99,588.648 3029.61,547.072 3042.22,593.243 3054.84,651.46 3067.45,707.735 3080.07,733.904 \n",
       "  3092.68,702.975 3105.3,716.608 3117.91,753.554 3130.53,710.62 3143.14,711.852 3155.76,696.288 3168.37,696.843 3180.99,723.418 3193.6,758.835 3206.22,688.447 \n",
       "  3218.83,711.076 3231.45,661.98 3244.06,671.866 3256.68,602.305 3269.29,638.842 3281.91,639.456 3294.52,651.123 3307.14,586.045 3319.75,636.667 3332.37,608.091 \n",
       "  3344.98,574.356 3357.6,527.145 3370.21,491.546 3382.83,522.591 3395.44,555.278 3408.06,553.653 3420.68,574.923 3433.29,603.655 3445.91,583.719 3458.52,529.451 \n",
       "  \n",
       "  \"/>\n",
       "<path clip-path=\"url(#clip190)\" d=\"\n",
       "M2985.91 417.805 L3441.77 417.805 L3441.77 106.765 L2985.91 106.765  Z\n",
       "  \" fill=\"#ffffff\" fill-rule=\"evenodd\" fill-opacity=\"1\"/>\n",
       "<polyline clip-path=\"url(#clip190)\" style=\"stroke:#000000; stroke-linecap:butt; stroke-linejoin:round; stroke-width:4; stroke-opacity:1; fill:none\" points=\"\n",
       "  2985.91,417.805 3441.77,417.805 3441.77,106.765 2985.91,106.765 2985.91,417.805 \n",
       "  \"/>\n",
       "<polyline clip-path=\"url(#clip190)\" style=\"stroke:#009af9; stroke-linecap:butt; stroke-linejoin:round; stroke-width:4; stroke-opacity:1; fill:none\" points=\"\n",
       "  3022.9,158.605 3244.88,158.605 \n",
       "  \"/>\n",
       "<path clip-path=\"url(#clip190)\" d=\"M3283.33 141.325 L3301.69 141.325 L3301.69 145.26 L3287.61 145.26 L3287.61 153.732 Q3288.63 153.385 3289.65 153.223 Q3290.67 153.038 3291.69 153.038 Q3297.48 153.038 3300.85 156.209 Q3304.23 159.38 3304.23 164.797 Q3304.23 170.375 3300.76 173.477 Q3297.29 176.556 3290.97 176.556 Q3288.79 176.556 3286.53 176.186 Q3284.28 175.815 3281.87 175.074 L3281.87 170.375 Q3283.96 171.51 3286.18 172.065 Q3288.4 172.621 3290.88 172.621 Q3294.88 172.621 3297.22 170.514 Q3299.56 168.408 3299.56 164.797 Q3299.56 161.186 3297.22 159.079 Q3294.88 156.973 3290.88 156.973 Q3289 156.973 3287.13 157.389 Q3285.28 157.806 3283.33 158.686 L3283.33 141.325 Z\" fill=\"#000000\" fill-rule=\"evenodd\" fill-opacity=\"1\" /><path clip-path=\"url(#clip190)\" d=\"M3308.29 141.325 L3313.31 141.325 L3322.89 155.538 L3332.41 141.325 L3337.43 141.325 L3325.21 159.426 L3325.21 175.885 L3320.51 175.885 L3320.51 159.426 L3308.29 141.325 Z\" fill=\"#000000\" fill-rule=\"evenodd\" fill-opacity=\"1\" /><polyline clip-path=\"url(#clip190)\" style=\"stroke:#e26f46; stroke-linecap:butt; stroke-linejoin:round; stroke-width:4; stroke-opacity:1; fill:none\" points=\"\n",
       "  3022.9,210.445 3244.88,210.445 \n",
       "  \"/>\n",
       "<path clip-path=\"url(#clip190)\" d=\"M3281.87 193.165 L3304.1 193.165 L3304.1 195.155 L3291.55 227.725 L3286.67 227.725 L3298.47 197.1 L3281.87 197.1 L3281.87 193.165 Z\" fill=\"#000000\" fill-rule=\"evenodd\" fill-opacity=\"1\" /><path clip-path=\"url(#clip190)\" d=\"M3308.05 193.165 L3313.08 193.165 L3322.66 207.378 L3332.17 193.165 L3337.2 193.165 L3324.98 211.266 L3324.98 227.725 L3320.28 227.725 L3320.28 211.266 L3308.05 193.165 Z\" fill=\"#000000\" fill-rule=\"evenodd\" fill-opacity=\"1\" /><polyline clip-path=\"url(#clip190)\" style=\"stroke:#3da44d; stroke-linecap:butt; stroke-linejoin:round; stroke-width:4; stroke-opacity:1; fill:none\" points=\"\n",
       "  3022.9,262.285 3244.88,262.285 \n",
       "  \"/>\n",
       "<path clip-path=\"url(#clip190)\" d=\"M3282.54 275.629 L3290.18 275.629 L3290.18 249.264 L3281.87 250.931 L3281.87 246.671 L3290.14 245.005 L3294.81 245.005 L3294.81 275.629 L3302.45 275.629 L3302.45 279.565 L3282.54 279.565 L3282.54 275.629 Z\" fill=\"#000000\" fill-rule=\"evenodd\" fill-opacity=\"1\" /><path clip-path=\"url(#clip190)\" d=\"M3321.9 248.083 Q3318.29 248.083 3316.46 251.648 Q3314.65 255.19 3314.65 262.319 Q3314.65 269.426 3316.46 272.991 Q3318.29 276.532 3321.9 276.532 Q3325.53 276.532 3327.34 272.991 Q3329.16 269.426 3329.16 262.319 Q3329.16 255.19 3327.34 251.648 Q3325.53 248.083 3321.9 248.083 M3321.9 244.38 Q3327.71 244.38 3330.76 248.986 Q3333.84 253.569 3333.84 262.319 Q3333.84 271.046 3330.76 275.653 Q3327.71 280.236 3321.9 280.236 Q3316.09 280.236 3313.01 275.653 Q3309.95 271.046 3309.95 262.319 Q3309.95 253.569 3313.01 248.986 Q3316.09 244.38 3321.9 244.38 Z\" fill=\"#000000\" fill-rule=\"evenodd\" fill-opacity=\"1\" /><path clip-path=\"url(#clip190)\" d=\"M3336.9 245.005 L3341.92 245.005 L3351.5 259.218 L3361.02 245.005 L3366.04 245.005 L3353.82 263.106 L3353.82 279.565 L3349.12 279.565 L3349.12 263.106 L3336.9 245.005 Z\" fill=\"#000000\" fill-rule=\"evenodd\" fill-opacity=\"1\" /><polyline clip-path=\"url(#clip190)\" style=\"stroke:#c271d2; stroke-linecap:butt; stroke-linejoin:round; stroke-width:4; stroke-opacity:1; fill:none\" points=\"\n",
       "  3022.9,314.125 3244.88,314.125 \n",
       "  \"/>\n",
       "<path clip-path=\"url(#clip190)\" d=\"M3287.5 327.469 L3303.82 327.469 L3303.82 331.405 L3281.87 331.405 L3281.87 327.469 Q3284.54 324.715 3289.12 320.085 Q3293.73 315.432 3294.91 314.09 Q3297.15 311.567 3298.03 309.831 Q3298.93 308.071 3298.93 306.382 Q3298.93 303.627 3296.99 301.891 Q3295.07 300.155 3291.97 300.155 Q3289.77 300.155 3287.31 300.919 Q3284.88 301.683 3282.1 303.233 L3282.1 298.511 Q3284.93 297.377 3287.38 296.798 Q3289.84 296.22 3291.87 296.22 Q3297.24 296.22 3300.44 298.905 Q3303.63 301.59 3303.63 306.081 Q3303.63 308.21 3302.82 310.132 Q3302.04 312.03 3299.93 314.622 Q3299.35 315.294 3296.25 318.511 Q3293.15 321.706 3287.5 327.469 Z\" fill=\"#000000\" fill-rule=\"evenodd\" fill-opacity=\"1\" /><path clip-path=\"url(#clip190)\" d=\"M3323.63 299.923 Q3320.02 299.923 3318.19 303.488 Q3316.39 307.03 3316.39 314.159 Q3316.39 321.266 3318.19 324.831 Q3320.02 328.372 3323.63 328.372 Q3327.27 328.372 3329.07 324.831 Q3330.9 321.266 3330.9 314.159 Q3330.9 307.03 3329.07 303.488 Q3327.27 299.923 3323.63 299.923 M3323.63 296.22 Q3329.44 296.22 3332.5 300.826 Q3335.58 305.409 3335.58 314.159 Q3335.58 322.886 3332.5 327.493 Q3329.44 332.076 3323.63 332.076 Q3317.82 332.076 3314.74 327.493 Q3311.69 322.886 3311.69 314.159 Q3311.69 305.409 3314.74 300.826 Q3317.82 296.22 3323.63 296.22 Z\" fill=\"#000000\" fill-rule=\"evenodd\" fill-opacity=\"1\" /><path clip-path=\"url(#clip190)\" d=\"M3338.63 296.845 L3343.66 296.845 L3353.24 311.058 L3362.75 296.845 L3367.78 296.845 L3355.55 314.946 L3355.55 331.405 L3350.85 331.405 L3350.85 314.946 L3338.63 296.845 Z\" fill=\"#000000\" fill-rule=\"evenodd\" fill-opacity=\"1\" /><polyline clip-path=\"url(#clip190)\" style=\"stroke:#ac8d18; stroke-linecap:butt; stroke-linejoin:round; stroke-width:4; stroke-opacity:1; fill:none\" points=\"\n",
       "  3022.9,365.965 3244.88,365.965 \n",
       "  \"/>\n",
       "<path clip-path=\"url(#clip190)\" d=\"M3297.5 364.61 Q3300.85 365.328 3302.73 367.597 Q3304.63 369.865 3304.63 373.198 Q3304.63 378.314 3301.11 381.115 Q3297.59 383.916 3291.11 383.916 Q3288.93 383.916 3286.62 383.476 Q3284.33 383.059 3281.87 382.203 L3281.87 377.689 Q3283.82 378.823 3286.13 379.402 Q3288.45 379.981 3290.97 379.981 Q3295.37 379.981 3297.66 378.245 Q3299.98 376.509 3299.98 373.198 Q3299.98 370.143 3297.82 368.43 Q3295.69 366.694 3291.87 366.694 L3287.85 366.694 L3287.85 362.851 L3292.06 362.851 Q3295.51 362.851 3297.34 361.485 Q3299.16 360.097 3299.16 357.504 Q3299.16 354.842 3297.27 353.43 Q3295.39 351.995 3291.87 351.995 Q3289.95 351.995 3287.75 352.411 Q3285.55 352.828 3282.92 353.708 L3282.92 349.541 Q3285.58 348.8 3287.89 348.43 Q3290.23 348.06 3292.29 348.06 Q3297.61 348.06 3300.72 350.49 Q3303.82 352.898 3303.82 357.018 Q3303.82 359.888 3302.17 361.879 Q3300.53 363.847 3297.5 364.61 Z\" fill=\"#000000\" fill-rule=\"evenodd\" fill-opacity=\"1\" /><path clip-path=\"url(#clip190)\" d=\"M3323.49 351.763 Q3319.88 351.763 3318.05 355.328 Q3316.25 358.87 3316.25 365.999 Q3316.25 373.106 3318.05 376.671 Q3319.88 380.212 3323.49 380.212 Q3327.13 380.212 3328.93 376.671 Q3330.76 373.106 3330.76 365.999 Q3330.76 358.87 3328.93 355.328 Q3327.13 351.763 3323.49 351.763 M3323.49 348.06 Q3329.3 348.06 3332.36 352.666 Q3335.44 357.249 3335.44 365.999 Q3335.44 374.726 3332.36 379.333 Q3329.3 383.916 3323.49 383.916 Q3317.68 383.916 3314.6 379.333 Q3311.55 374.726 3311.55 365.999 Q3311.55 357.249 3314.6 352.666 Q3317.68 348.06 3323.49 348.06 Z\" fill=\"#000000\" fill-rule=\"evenodd\" fill-opacity=\"1\" /><path clip-path=\"url(#clip190)\" d=\"M3338.49 348.685 L3343.52 348.685 L3353.1 362.898 L3362.61 348.685 L3367.64 348.685 L3355.41 366.786 L3355.41 383.245 L3350.72 383.245 L3350.72 366.786 L3338.49 348.685 Z\" fill=\"#000000\" fill-rule=\"evenodd\" fill-opacity=\"1\" /></svg>\n"
      ]
     },
     "execution_count": 2,
     "metadata": {},
     "output_type": "execute_result"
    }
   ],
   "source": [
    "include(\"helpers.jl\"); using Plots\n",
    "\n",
    "s = tnf\n",
    "lb = [\"5Y\", \"7Y\", \"10Y\", \"20Y\", \"30Y\"]; s_train, s_test, p = h1(s, lb, 1); p"
   ]
  },
  {
   "cell_type": "markdown",
   "id": "extra-novel",
   "metadata": {},
   "source": [
    "I will be analysing correlation across maturities in `Treas TS Analysis II`."
   ]
  },
  {
   "cell_type": "markdown",
   "id": "gorgeous-empire",
   "metadata": {},
   "source": [
    "### Differencing Time Series"
   ]
  },
  {
   "cell_type": "markdown",
   "id": "sapphire-butter",
   "metadata": {},
   "source": [
    "Earlier, I had taken first-differences without first taking the **logarithm** of the yield curve rates, but if I want to use the Akiake Information Criterion, this would not work, because the $\\text{AIC}$ applies a log-likelihood function to the model."
   ]
  },
  {
   "cell_type": "markdown",
   "id": "quick-stopping",
   "metadata": {},
   "source": [
    "I am taking **first-differences of the log-transformed** time series data, choosing a lag of one (1) for marginal differences. This will not tell me whether or not the logarithm of the data is normally distributed but I would know whether or not the values themselves are normally distributed, using a **J-B Test**."
   ]
  },
  {
   "cell_type": "markdown",
   "id": "surprising-prairie",
   "metadata": {},
   "source": [
    "Before I log-transform the inflation series, I need to test for negative values, which I will need to do, given that logarithms do not work for negative values."
   ]
  },
  {
   "cell_type": "code",
   "execution_count": 3,
   "id": "together-equation",
   "metadata": {},
   "outputs": [
    {
     "data": {
      "text/plain": [
       "5-element Array{Int64,1}:\n",
       " 0\n",
       " 0\n",
       " 0\n",
       " 0\n",
       " 0"
      ]
     },
     "execution_count": 3,
     "metadata": {},
     "output_type": "execute_result"
    }
   ],
   "source": [
    "h5(s_train)"
   ]
  },
  {
   "cell_type": "markdown",
   "id": "living-durham",
   "metadata": {},
   "source": [
    "Not finding any negative value in the inflation rates, I now take the first-differences of log-transformed inflation rates, and plot to see what it looks like."
   ]
  },
  {
   "cell_type": "code",
   "execution_count": 4,
   "id": "continuous-commitment",
   "metadata": {},
   "outputs": [
    {
     "data": {
      "image/svg+xml": [
       "<?xml version=\"1.0\" encoding=\"utf-8\"?>\n",
       "<svg xmlns=\"http://www.w3.org/2000/svg\" xmlns:xlink=\"http://www.w3.org/1999/xlink\" width=\"900\" height=\"500\" viewBox=\"0 0 3600 2000\">\n",
       "<defs>\n",
       "  <clipPath id=\"clip230\">\n",
       "    <rect x=\"0\" y=\"0\" width=\"3600\" height=\"2000\"/>\n",
       "  </clipPath>\n",
       "</defs>\n",
       "<path clip-path=\"url(#clip230)\" d=\"\n",
       "M0 2000 L3600 2000 L3600 0 L0 0  Z\n",
       "  \" fill=\"#ffffff\" fill-rule=\"evenodd\" fill-opacity=\"1\"/>\n",
       "<defs>\n",
       "  <clipPath id=\"clip231\">\n",
       "    <rect x=\"720\" y=\"0\" width=\"2521\" height=\"2000\"/>\n",
       "  </clipPath>\n",
       "</defs>\n",
       "<path clip-path=\"url(#clip230)\" d=\"\n",
       "M235.103 1888.21 L3552.76 1888.21 L3552.76 113.392 L235.103 113.392  Z\n",
       "  \" fill=\"#ffffff\" fill-rule=\"evenodd\" fill-opacity=\"1\"/>\n",
       "<defs>\n",
       "  <clipPath id=\"clip232\">\n",
       "    <rect x=\"235\" y=\"113\" width=\"3319\" height=\"1776\"/>\n",
       "  </clipPath>\n",
       "</defs>\n",
       "<polyline clip-path=\"url(#clip232)\" style=\"stroke:#000000; stroke-linecap:butt; stroke-linejoin:round; stroke-width:2; stroke-opacity:0.1; fill:none\" points=\"\n",
       "  316.378,1888.21 316.378,113.392 \n",
       "  \"/>\n",
       "<polyline clip-path=\"url(#clip232)\" style=\"stroke:#000000; stroke-linecap:butt; stroke-linejoin:round; stroke-width:2; stroke-opacity:0.1; fill:none\" points=\"\n",
       "  947.398,1888.21 947.398,113.392 \n",
       "  \"/>\n",
       "<polyline clip-path=\"url(#clip232)\" style=\"stroke:#000000; stroke-linecap:butt; stroke-linejoin:round; stroke-width:2; stroke-opacity:0.1; fill:none\" points=\"\n",
       "  1578.42,1888.21 1578.42,113.392 \n",
       "  \"/>\n",
       "<polyline clip-path=\"url(#clip232)\" style=\"stroke:#000000; stroke-linecap:butt; stroke-linejoin:round; stroke-width:2; stroke-opacity:0.1; fill:none\" points=\"\n",
       "  2209.44,1888.21 2209.44,113.392 \n",
       "  \"/>\n",
       "<polyline clip-path=\"url(#clip232)\" style=\"stroke:#000000; stroke-linecap:butt; stroke-linejoin:round; stroke-width:2; stroke-opacity:0.1; fill:none\" points=\"\n",
       "  2840.46,1888.21 2840.46,113.392 \n",
       "  \"/>\n",
       "<polyline clip-path=\"url(#clip232)\" style=\"stroke:#000000; stroke-linecap:butt; stroke-linejoin:round; stroke-width:2; stroke-opacity:0.1; fill:none\" points=\"\n",
       "  3471.48,1888.21 3471.48,113.392 \n",
       "  \"/>\n",
       "<polyline clip-path=\"url(#clip230)\" style=\"stroke:#000000; stroke-linecap:butt; stroke-linejoin:round; stroke-width:4; stroke-opacity:1; fill:none\" points=\"\n",
       "  235.103,1888.21 3552.76,1888.21 \n",
       "  \"/>\n",
       "<polyline clip-path=\"url(#clip230)\" style=\"stroke:#000000; stroke-linecap:butt; stroke-linejoin:round; stroke-width:4; stroke-opacity:1; fill:none\" points=\"\n",
       "  316.378,1888.21 316.378,1869.31 \n",
       "  \"/>\n",
       "<polyline clip-path=\"url(#clip230)\" style=\"stroke:#000000; stroke-linecap:butt; stroke-linejoin:round; stroke-width:4; stroke-opacity:1; fill:none\" points=\"\n",
       "  947.398,1888.21 947.398,1869.31 \n",
       "  \"/>\n",
       "<polyline clip-path=\"url(#clip230)\" style=\"stroke:#000000; stroke-linecap:butt; stroke-linejoin:round; stroke-width:4; stroke-opacity:1; fill:none\" points=\"\n",
       "  1578.42,1888.21 1578.42,1869.31 \n",
       "  \"/>\n",
       "<polyline clip-path=\"url(#clip230)\" style=\"stroke:#000000; stroke-linecap:butt; stroke-linejoin:round; stroke-width:4; stroke-opacity:1; fill:none\" points=\"\n",
       "  2209.44,1888.21 2209.44,1869.31 \n",
       "  \"/>\n",
       "<polyline clip-path=\"url(#clip230)\" style=\"stroke:#000000; stroke-linecap:butt; stroke-linejoin:round; stroke-width:4; stroke-opacity:1; fill:none\" points=\"\n",
       "  2840.46,1888.21 2840.46,1869.31 \n",
       "  \"/>\n",
       "<polyline clip-path=\"url(#clip230)\" style=\"stroke:#000000; stroke-linecap:butt; stroke-linejoin:round; stroke-width:4; stroke-opacity:1; fill:none\" points=\"\n",
       "  3471.48,1888.21 3471.48,1869.31 \n",
       "  \"/>\n",
       "<path clip-path=\"url(#clip230)\" d=\"M316.378 1927 Q312.767 1927 310.938 1930.56 Q309.133 1934.11 309.133 1941.23 Q309.133 1948.34 310.938 1951.91 Q312.767 1955.45 316.378 1955.45 Q320.012 1955.45 321.818 1951.91 Q323.646 1948.34 323.646 1941.23 Q323.646 1934.11 321.818 1930.56 Q320.012 1927 316.378 1927 M316.378 1923.29 Q322.188 1923.29 325.244 1927.9 Q328.322 1932.48 328.322 1941.23 Q328.322 1949.96 325.244 1954.57 Q322.188 1959.15 316.378 1959.15 Q310.568 1959.15 307.489 1954.57 Q304.434 1949.96 304.434 1941.23 Q304.434 1932.48 307.489 1927.9 Q310.568 1923.29 316.378 1923.29 Z\" fill=\"#000000\" fill-rule=\"evenodd\" fill-opacity=\"1\" /><path clip-path=\"url(#clip230)\" d=\"M922.098 1923.92 L940.454 1923.92 L940.454 1927.86 L926.38 1927.86 L926.38 1936.33 Q927.399 1935.98 928.417 1935.82 Q929.436 1935.63 930.454 1935.63 Q936.241 1935.63 939.621 1938.8 Q943 1941.98 943 1947.39 Q943 1952.97 939.528 1956.07 Q936.056 1959.15 929.737 1959.15 Q927.561 1959.15 925.292 1958.78 Q923.047 1958.41 920.639 1957.67 L920.639 1952.97 Q922.723 1954.1 924.945 1954.66 Q927.167 1955.22 929.644 1955.22 Q933.649 1955.22 935.986 1953.11 Q938.324 1951 938.324 1947.39 Q938.324 1943.78 935.986 1941.67 Q933.649 1939.57 929.644 1939.57 Q927.769 1939.57 925.894 1939.98 Q924.042 1940.4 922.098 1941.28 L922.098 1923.92 Z\" fill=\"#000000\" fill-rule=\"evenodd\" fill-opacity=\"1\" /><path clip-path=\"url(#clip230)\" d=\"M962.213 1927 Q958.602 1927 956.773 1930.56 Q954.968 1934.11 954.968 1941.23 Q954.968 1948.34 956.773 1951.91 Q958.602 1955.45 962.213 1955.45 Q965.847 1955.45 967.653 1951.91 Q969.482 1948.34 969.482 1941.23 Q969.482 1934.11 967.653 1930.56 Q965.847 1927 962.213 1927 M962.213 1923.29 Q968.023 1923.29 971.079 1927.9 Q974.158 1932.48 974.158 1941.23 Q974.158 1949.96 971.079 1954.57 Q968.023 1959.15 962.213 1959.15 Q956.403 1959.15 953.324 1954.57 Q950.269 1949.96 950.269 1941.23 Q950.269 1932.48 953.324 1927.9 Q956.403 1923.29 962.213 1923.29 Z\" fill=\"#000000\" fill-rule=\"evenodd\" fill-opacity=\"1\" /><path clip-path=\"url(#clip230)\" d=\"M1538.03 1954.54 L1545.66 1954.54 L1545.66 1928.18 L1537.35 1929.85 L1537.35 1925.59 L1545.62 1923.92 L1550.29 1923.92 L1550.29 1954.54 L1557.93 1954.54 L1557.93 1958.48 L1538.03 1958.48 L1538.03 1954.54 Z\" fill=\"#000000\" fill-rule=\"evenodd\" fill-opacity=\"1\" /><path clip-path=\"url(#clip230)\" d=\"M1577.38 1927 Q1573.77 1927 1571.94 1930.56 Q1570.13 1934.11 1570.13 1941.23 Q1570.13 1948.34 1571.94 1951.91 Q1573.77 1955.45 1577.38 1955.45 Q1581.01 1955.45 1582.82 1951.91 Q1584.65 1948.34 1584.65 1941.23 Q1584.65 1934.11 1582.82 1930.56 Q1581.01 1927 1577.38 1927 M1577.38 1923.29 Q1583.19 1923.29 1586.24 1927.9 Q1589.32 1932.48 1589.32 1941.23 Q1589.32 1949.96 1586.24 1954.57 Q1583.19 1959.15 1577.38 1959.15 Q1571.57 1959.15 1568.49 1954.57 Q1565.43 1949.96 1565.43 1941.23 Q1565.43 1932.48 1568.49 1927.9 Q1571.57 1923.29 1577.38 1923.29 Z\" fill=\"#000000\" fill-rule=\"evenodd\" fill-opacity=\"1\" /><path clip-path=\"url(#clip230)\" d=\"M1607.54 1927 Q1603.93 1927 1602.1 1930.56 Q1600.29 1934.11 1600.29 1941.23 Q1600.29 1948.34 1602.1 1951.91 Q1603.93 1955.45 1607.54 1955.45 Q1611.17 1955.45 1612.98 1951.91 Q1614.81 1948.34 1614.81 1941.23 Q1614.81 1934.11 1612.98 1930.56 Q1611.17 1927 1607.54 1927 M1607.54 1923.29 Q1613.35 1923.29 1616.4 1927.9 Q1619.48 1932.48 1619.48 1941.23 Q1619.48 1949.96 1616.4 1954.57 Q1613.35 1959.15 1607.54 1959.15 Q1601.73 1959.15 1598.65 1954.57 Q1595.59 1949.96 1595.59 1941.23 Q1595.59 1932.48 1598.65 1927.9 Q1601.73 1923.29 1607.54 1923.29 Z\" fill=\"#000000\" fill-rule=\"evenodd\" fill-opacity=\"1\" /><path clip-path=\"url(#clip230)\" d=\"M2169.05 1954.54 L2176.69 1954.54 L2176.69 1928.18 L2168.37 1929.85 L2168.37 1925.59 L2176.64 1923.92 L2181.31 1923.92 L2181.31 1954.54 L2188.95 1954.54 L2188.95 1958.48 L2169.05 1958.48 L2169.05 1954.54 Z\" fill=\"#000000\" fill-rule=\"evenodd\" fill-opacity=\"1\" /><path clip-path=\"url(#clip230)\" d=\"M2198.44 1923.92 L2216.8 1923.92 L2216.8 1927.86 L2202.73 1927.86 L2202.73 1936.33 Q2203.75 1935.98 2204.76 1935.82 Q2205.78 1935.63 2206.8 1935.63 Q2212.59 1935.63 2215.97 1938.8 Q2219.35 1941.98 2219.35 1947.39 Q2219.35 1952.97 2215.87 1956.07 Q2212.4 1959.15 2206.08 1959.15 Q2203.91 1959.15 2201.64 1958.78 Q2199.39 1958.41 2196.99 1957.67 L2196.99 1952.97 Q2199.07 1954.1 2201.29 1954.66 Q2203.51 1955.22 2205.99 1955.22 Q2210 1955.22 2212.33 1953.11 Q2214.67 1951 2214.67 1947.39 Q2214.67 1943.78 2212.33 1941.67 Q2210 1939.57 2205.99 1939.57 Q2204.12 1939.57 2202.24 1939.98 Q2200.39 1940.4 2198.44 1941.28 L2198.44 1923.92 Z\" fill=\"#000000\" fill-rule=\"evenodd\" fill-opacity=\"1\" /><path clip-path=\"url(#clip230)\" d=\"M2238.56 1927 Q2234.95 1927 2233.12 1930.56 Q2231.31 1934.11 2231.31 1941.23 Q2231.31 1948.34 2233.12 1951.91 Q2234.95 1955.45 2238.56 1955.45 Q2242.19 1955.45 2244 1951.91 Q2245.83 1948.34 2245.83 1941.23 Q2245.83 1934.11 2244 1930.56 Q2242.19 1927 2238.56 1927 M2238.56 1923.29 Q2244.37 1923.29 2247.43 1927.9 Q2250.5 1932.48 2250.5 1941.23 Q2250.5 1949.96 2247.43 1954.57 Q2244.37 1959.15 2238.56 1959.15 Q2232.75 1959.15 2229.67 1954.57 Q2226.62 1949.96 2226.62 1941.23 Q2226.62 1932.48 2229.67 1927.9 Q2232.75 1923.29 2238.56 1923.29 Z\" fill=\"#000000\" fill-rule=\"evenodd\" fill-opacity=\"1\" /><path clip-path=\"url(#clip230)\" d=\"M2804.15 1954.54 L2820.47 1954.54 L2820.47 1958.48 L2798.53 1958.48 L2798.53 1954.54 Q2801.19 1951.79 2805.77 1947.16 Q2810.38 1942.51 2811.56 1941.17 Q2813.81 1938.64 2814.68 1936.91 Q2815.59 1935.15 2815.59 1933.46 Q2815.59 1930.7 2813.64 1928.97 Q2811.72 1927.23 2808.62 1927.23 Q2806.42 1927.23 2803.97 1927.99 Q2801.54 1928.76 2798.76 1930.31 L2798.76 1925.59 Q2801.58 1924.45 2804.04 1923.87 Q2806.49 1923.29 2808.53 1923.29 Q2813.9 1923.29 2817.09 1925.98 Q2820.29 1928.67 2820.29 1933.16 Q2820.29 1935.29 2819.48 1937.21 Q2818.69 1939.1 2816.58 1941.7 Q2816 1942.37 2812.9 1945.59 Q2809.8 1948.78 2804.15 1954.54 Z\" fill=\"#000000\" fill-rule=\"evenodd\" fill-opacity=\"1\" /><path clip-path=\"url(#clip230)\" d=\"M2840.29 1927 Q2836.68 1927 2834.85 1930.56 Q2833.04 1934.11 2833.04 1941.23 Q2833.04 1948.34 2834.85 1951.91 Q2836.68 1955.45 2840.29 1955.45 Q2843.92 1955.45 2845.73 1951.91 Q2847.55 1948.34 2847.55 1941.23 Q2847.55 1934.11 2845.73 1930.56 Q2843.92 1927 2840.29 1927 M2840.29 1923.29 Q2846.1 1923.29 2849.15 1927.9 Q2852.23 1932.48 2852.23 1941.23 Q2852.23 1949.96 2849.15 1954.57 Q2846.1 1959.15 2840.29 1959.15 Q2834.48 1959.15 2831.4 1954.57 Q2828.34 1949.96 2828.34 1941.23 Q2828.34 1932.48 2831.4 1927.9 Q2834.48 1923.29 2840.29 1923.29 Z\" fill=\"#000000\" fill-rule=\"evenodd\" fill-opacity=\"1\" /><path clip-path=\"url(#clip230)\" d=\"M2870.45 1927 Q2866.84 1927 2865.01 1930.56 Q2863.2 1934.11 2863.2 1941.23 Q2863.2 1948.34 2865.01 1951.91 Q2866.84 1955.45 2870.45 1955.45 Q2874.08 1955.45 2875.89 1951.91 Q2877.72 1948.34 2877.72 1941.23 Q2877.72 1934.11 2875.89 1930.56 Q2874.08 1927 2870.45 1927 M2870.45 1923.29 Q2876.26 1923.29 2879.31 1927.9 Q2882.39 1932.48 2882.39 1941.23 Q2882.39 1949.96 2879.31 1954.57 Q2876.26 1959.15 2870.45 1959.15 Q2864.64 1959.15 2861.56 1954.57 Q2858.5 1949.96 2858.5 1941.23 Q2858.5 1932.48 2861.56 1927.9 Q2864.64 1923.29 2870.45 1923.29 Z\" fill=\"#000000\" fill-rule=\"evenodd\" fill-opacity=\"1\" /><path clip-path=\"url(#clip230)\" d=\"M3435.17 1954.54 L3451.49 1954.54 L3451.49 1958.48 L3429.55 1958.48 L3429.55 1954.54 Q3432.21 1951.79 3436.79 1947.16 Q3441.4 1942.51 3442.58 1941.17 Q3444.83 1938.64 3445.71 1936.91 Q3446.61 1935.15 3446.61 1933.46 Q3446.61 1930.7 3444.66 1928.97 Q3442.74 1927.23 3439.64 1927.23 Q3437.44 1927.23 3434.99 1927.99 Q3432.56 1928.76 3429.78 1930.31 L3429.78 1925.59 Q3432.6 1924.45 3435.06 1923.87 Q3437.51 1923.29 3439.55 1923.29 Q3444.92 1923.29 3448.11 1925.98 Q3451.31 1928.67 3451.31 1933.16 Q3451.31 1935.29 3450.5 1937.21 Q3449.71 1939.1 3447.6 1941.7 Q3447.02 1942.37 3443.92 1945.59 Q3440.82 1948.78 3435.17 1954.54 Z\" fill=\"#000000\" fill-rule=\"evenodd\" fill-opacity=\"1\" /><path clip-path=\"url(#clip230)\" d=\"M3461.35 1923.92 L3479.71 1923.92 L3479.71 1927.86 L3465.64 1927.86 L3465.64 1936.33 Q3466.65 1935.98 3467.67 1935.82 Q3468.69 1935.63 3469.71 1935.63 Q3475.5 1935.63 3478.88 1938.8 Q3482.26 1941.98 3482.26 1947.39 Q3482.26 1952.97 3478.78 1956.07 Q3475.31 1959.15 3468.99 1959.15 Q3466.82 1959.15 3464.55 1958.78 Q3462.3 1958.41 3459.89 1957.67 L3459.89 1952.97 Q3461.98 1954.1 3464.2 1954.66 Q3466.42 1955.22 3468.9 1955.22 Q3472.9 1955.22 3475.24 1953.11 Q3477.58 1951 3477.58 1947.39 Q3477.58 1943.78 3475.24 1941.67 Q3472.9 1939.57 3468.9 1939.57 Q3467.02 1939.57 3465.15 1939.98 Q3463.3 1940.4 3461.35 1941.28 L3461.35 1923.92 Z\" fill=\"#000000\" fill-rule=\"evenodd\" fill-opacity=\"1\" /><path clip-path=\"url(#clip230)\" d=\"M3501.47 1927 Q3497.86 1927 3496.03 1930.56 Q3494.22 1934.11 3494.22 1941.23 Q3494.22 1948.34 3496.03 1951.91 Q3497.86 1955.45 3501.47 1955.45 Q3505.1 1955.45 3506.91 1951.91 Q3508.74 1948.34 3508.74 1941.23 Q3508.74 1934.11 3506.91 1930.56 Q3505.1 1927 3501.47 1927 M3501.47 1923.29 Q3507.28 1923.29 3510.33 1927.9 Q3513.41 1932.48 3513.41 1941.23 Q3513.41 1949.96 3510.33 1954.57 Q3507.28 1959.15 3501.47 1959.15 Q3495.66 1959.15 3492.58 1954.57 Q3489.52 1949.96 3489.52 1941.23 Q3489.52 1932.48 3492.58 1927.9 Q3495.66 1923.29 3501.47 1923.29 Z\" fill=\"#000000\" fill-rule=\"evenodd\" fill-opacity=\"1\" /><polyline clip-path=\"url(#clip232)\" style=\"stroke:#000000; stroke-linecap:butt; stroke-linejoin:round; stroke-width:2; stroke-opacity:0.1; fill:none\" points=\"\n",
       "  235.103,1765.29 3552.76,1765.29 \n",
       "  \"/>\n",
       "<polyline clip-path=\"url(#clip232)\" style=\"stroke:#000000; stroke-linecap:butt; stroke-linejoin:round; stroke-width:2; stroke-opacity:0.1; fill:none\" points=\"\n",
       "  235.103,1278.2 3552.76,1278.2 \n",
       "  \"/>\n",
       "<polyline clip-path=\"url(#clip232)\" style=\"stroke:#000000; stroke-linecap:butt; stroke-linejoin:round; stroke-width:2; stroke-opacity:0.1; fill:none\" points=\"\n",
       "  235.103,791.112 3552.76,791.112 \n",
       "  \"/>\n",
       "<polyline clip-path=\"url(#clip232)\" style=\"stroke:#000000; stroke-linecap:butt; stroke-linejoin:round; stroke-width:2; stroke-opacity:0.1; fill:none\" points=\"\n",
       "  235.103,304.021 3552.76,304.021 \n",
       "  \"/>\n",
       "<polyline clip-path=\"url(#clip230)\" style=\"stroke:#000000; stroke-linecap:butt; stroke-linejoin:round; stroke-width:4; stroke-opacity:1; fill:none\" points=\"\n",
       "  235.103,1888.21 235.103,113.392 \n",
       "  \"/>\n",
       "<polyline clip-path=\"url(#clip230)\" style=\"stroke:#000000; stroke-linecap:butt; stroke-linejoin:round; stroke-width:4; stroke-opacity:1; fill:none\" points=\"\n",
       "  235.103,1765.29 254,1765.29 \n",
       "  \"/>\n",
       "<polyline clip-path=\"url(#clip230)\" style=\"stroke:#000000; stroke-linecap:butt; stroke-linejoin:round; stroke-width:4; stroke-opacity:1; fill:none\" points=\"\n",
       "  235.103,1278.2 254,1278.2 \n",
       "  \"/>\n",
       "<polyline clip-path=\"url(#clip230)\" style=\"stroke:#000000; stroke-linecap:butt; stroke-linejoin:round; stroke-width:4; stroke-opacity:1; fill:none\" points=\"\n",
       "  235.103,791.112 254,791.112 \n",
       "  \"/>\n",
       "<polyline clip-path=\"url(#clip230)\" style=\"stroke:#000000; stroke-linecap:butt; stroke-linejoin:round; stroke-width:4; stroke-opacity:1; fill:none\" points=\"\n",
       "  235.103,304.021 254,304.021 \n",
       "  \"/>\n",
       "<path clip-path=\"url(#clip230)\" d=\"M44.9921 1765.74 L74.6679 1765.74 L74.6679 1769.68 L44.9921 1769.68 L44.9921 1765.74 Z\" fill=\"#000000\" fill-rule=\"evenodd\" fill-opacity=\"1\" /><path clip-path=\"url(#clip230)\" d=\"M94.7604 1751.09 Q91.1493 1751.09 89.3206 1754.66 Q87.515 1758.2 87.515 1765.33 Q87.515 1772.43 89.3206 1776 Q91.1493 1779.54 94.7604 1779.54 Q98.3946 1779.54 100.2 1776 Q102.029 1772.43 102.029 1765.33 Q102.029 1758.2 100.2 1754.66 Q98.3946 1751.09 94.7604 1751.09 M94.7604 1747.39 Q100.571 1747.39 103.626 1751.99 Q106.705 1756.58 106.705 1765.33 Q106.705 1774.05 103.626 1778.66 Q100.571 1783.24 94.7604 1783.24 Q88.9502 1783.24 85.8715 1778.66 Q82.816 1774.05 82.816 1765.33 Q82.816 1756.58 85.8715 1751.99 Q88.9502 1747.39 94.7604 1747.39 Z\" fill=\"#000000\" fill-rule=\"evenodd\" fill-opacity=\"1\" /><path clip-path=\"url(#clip230)\" d=\"M114.922 1776.69 L119.807 1776.69 L119.807 1782.57 L114.922 1782.57 L114.922 1776.69 Z\" fill=\"#000000\" fill-rule=\"evenodd\" fill-opacity=\"1\" /><path clip-path=\"url(#clip230)\" d=\"M139.992 1751.09 Q136.381 1751.09 134.552 1754.66 Q132.746 1758.2 132.746 1765.33 Q132.746 1772.43 134.552 1776 Q136.381 1779.54 139.992 1779.54 Q143.626 1779.54 145.431 1776 Q147.26 1772.43 147.26 1765.33 Q147.26 1758.2 145.431 1754.66 Q143.626 1751.09 139.992 1751.09 M139.992 1747.39 Q145.802 1747.39 148.857 1751.99 Q151.936 1756.58 151.936 1765.33 Q151.936 1774.05 148.857 1778.66 Q145.802 1783.24 139.992 1783.24 Q134.181 1783.24 131.103 1778.66 Q128.047 1774.05 128.047 1765.33 Q128.047 1756.58 131.103 1751.99 Q134.181 1747.39 139.992 1747.39 Z\" fill=\"#000000\" fill-rule=\"evenodd\" fill-opacity=\"1\" /><path clip-path=\"url(#clip230)\" d=\"M160.2 1748.01 L178.556 1748.01 L178.556 1751.95 L164.482 1751.95 L164.482 1760.42 Q165.501 1760.07 166.519 1759.91 Q167.538 1759.73 168.556 1759.73 Q174.343 1759.73 177.723 1762.9 Q181.103 1766.07 181.103 1771.48 Q181.103 1777.06 177.63 1780.17 Q174.158 1783.24 167.839 1783.24 Q165.663 1783.24 163.394 1782.87 Q161.149 1782.5 158.742 1781.76 L158.742 1777.06 Q160.825 1778.2 163.047 1778.75 Q165.269 1779.31 167.746 1779.31 Q171.751 1779.31 174.089 1777.2 Q176.427 1775.1 176.427 1771.48 Q176.427 1767.87 174.089 1765.77 Q171.751 1763.66 167.746 1763.66 Q165.871 1763.66 163.996 1764.08 Q162.144 1764.49 160.2 1765.37 L160.2 1748.01 Z\" fill=\"#000000\" fill-rule=\"evenodd\" fill-opacity=\"1\" /><path clip-path=\"url(#clip230)\" d=\"M93.765 1264 Q90.1539 1264 88.3252 1267.57 Q86.5197 1271.11 86.5197 1278.24 Q86.5197 1285.34 88.3252 1288.91 Q90.1539 1292.45 93.765 1292.45 Q97.3993 1292.45 99.2048 1288.91 Q101.033 1285.34 101.033 1278.24 Q101.033 1271.11 99.2048 1267.57 Q97.3993 1264 93.765 1264 M93.765 1260.3 Q99.5752 1260.3 102.631 1264.9 Q105.709 1269.49 105.709 1278.24 Q105.709 1286.96 102.631 1291.57 Q99.5752 1296.15 93.765 1296.15 Q87.9549 1296.15 84.8762 1291.57 Q81.8206 1286.96 81.8206 1278.24 Q81.8206 1269.49 84.8762 1264.9 Q87.9549 1260.3 93.765 1260.3 Z\" fill=\"#000000\" fill-rule=\"evenodd\" fill-opacity=\"1\" /><path clip-path=\"url(#clip230)\" d=\"M113.927 1289.6 L118.811 1289.6 L118.811 1295.48 L113.927 1295.48 L113.927 1289.6 Z\" fill=\"#000000\" fill-rule=\"evenodd\" fill-opacity=\"1\" /><path clip-path=\"url(#clip230)\" d=\"M138.996 1264 Q135.385 1264 133.556 1267.57 Q131.751 1271.11 131.751 1278.24 Q131.751 1285.34 133.556 1288.91 Q135.385 1292.45 138.996 1292.45 Q142.63 1292.45 144.436 1288.91 Q146.265 1285.34 146.265 1278.24 Q146.265 1271.11 144.436 1267.57 Q142.63 1264 138.996 1264 M138.996 1260.3 Q144.806 1260.3 147.862 1264.9 Q150.941 1269.49 150.941 1278.24 Q150.941 1286.96 147.862 1291.57 Q144.806 1296.15 138.996 1296.15 Q133.186 1296.15 130.107 1291.57 Q127.052 1286.96 127.052 1278.24 Q127.052 1269.49 130.107 1264.9 Q133.186 1260.3 138.996 1260.3 Z\" fill=\"#000000\" fill-rule=\"evenodd\" fill-opacity=\"1\" /><path clip-path=\"url(#clip230)\" d=\"M169.158 1264 Q165.547 1264 163.718 1267.57 Q161.913 1271.11 161.913 1278.24 Q161.913 1285.34 163.718 1288.91 Q165.547 1292.45 169.158 1292.45 Q172.792 1292.45 174.598 1288.91 Q176.427 1285.34 176.427 1278.24 Q176.427 1271.11 174.598 1267.57 Q172.792 1264 169.158 1264 M169.158 1260.3 Q174.968 1260.3 178.024 1264.9 Q181.103 1269.49 181.103 1278.24 Q181.103 1286.96 178.024 1291.57 Q174.968 1296.15 169.158 1296.15 Q163.348 1296.15 160.269 1291.57 Q157.214 1286.96 157.214 1278.24 Q157.214 1269.49 160.269 1264.9 Q163.348 1260.3 169.158 1260.3 Z\" fill=\"#000000\" fill-rule=\"evenodd\" fill-opacity=\"1\" /><path clip-path=\"url(#clip230)\" d=\"M94.7604 776.91 Q91.1493 776.91 89.3206 780.475 Q87.515 784.017 87.515 791.146 Q87.515 798.253 89.3206 801.817 Q91.1493 805.359 94.7604 805.359 Q98.3946 805.359 100.2 801.817 Q102.029 798.253 102.029 791.146 Q102.029 784.017 100.2 780.475 Q98.3946 776.91 94.7604 776.91 M94.7604 773.207 Q100.571 773.207 103.626 777.813 Q106.705 782.396 106.705 791.146 Q106.705 799.873 103.626 804.479 Q100.571 809.063 94.7604 809.063 Q88.9502 809.063 85.8715 804.479 Q82.816 799.873 82.816 791.146 Q82.816 782.396 85.8715 777.813 Q88.9502 773.207 94.7604 773.207 Z\" fill=\"#000000\" fill-rule=\"evenodd\" fill-opacity=\"1\" /><path clip-path=\"url(#clip230)\" d=\"M114.922 802.512 L119.807 802.512 L119.807 808.392 L114.922 808.392 L114.922 802.512 Z\" fill=\"#000000\" fill-rule=\"evenodd\" fill-opacity=\"1\" /><path clip-path=\"url(#clip230)\" d=\"M139.992 776.91 Q136.381 776.91 134.552 780.475 Q132.746 784.017 132.746 791.146 Q132.746 798.253 134.552 801.817 Q136.381 805.359 139.992 805.359 Q143.626 805.359 145.431 801.817 Q147.26 798.253 147.26 791.146 Q147.26 784.017 145.431 780.475 Q143.626 776.91 139.992 776.91 M139.992 773.207 Q145.802 773.207 148.857 777.813 Q151.936 782.396 151.936 791.146 Q151.936 799.873 148.857 804.479 Q145.802 809.063 139.992 809.063 Q134.181 809.063 131.103 804.479 Q128.047 799.873 128.047 791.146 Q128.047 782.396 131.103 777.813 Q134.181 773.207 139.992 773.207 Z\" fill=\"#000000\" fill-rule=\"evenodd\" fill-opacity=\"1\" /><path clip-path=\"url(#clip230)\" d=\"M160.2 773.832 L178.556 773.832 L178.556 777.767 L164.482 777.767 L164.482 786.239 Q165.501 785.892 166.519 785.73 Q167.538 785.544 168.556 785.544 Q174.343 785.544 177.723 788.716 Q181.103 791.887 181.103 797.304 Q181.103 802.882 177.63 805.984 Q174.158 809.063 167.839 809.063 Q165.663 809.063 163.394 808.692 Q161.149 808.322 158.742 807.581 L158.742 802.882 Q160.825 804.017 163.047 804.572 Q165.269 805.128 167.746 805.128 Q171.751 805.128 174.089 803.021 Q176.427 800.915 176.427 797.304 Q176.427 793.693 174.089 791.586 Q171.751 789.48 167.746 789.48 Q165.871 789.48 163.996 789.896 Q162.144 790.313 160.2 791.193 L160.2 773.832 Z\" fill=\"#000000\" fill-rule=\"evenodd\" fill-opacity=\"1\" /><path clip-path=\"url(#clip230)\" d=\"M93.765 289.82 Q90.1539 289.82 88.3252 293.385 Q86.5197 296.926 86.5197 304.056 Q86.5197 311.162 88.3252 314.727 Q90.1539 318.269 93.765 318.269 Q97.3993 318.269 99.2048 314.727 Q101.033 311.162 101.033 304.056 Q101.033 296.926 99.2048 293.385 Q97.3993 289.82 93.765 289.82 M93.765 286.116 Q99.5752 286.116 102.631 290.723 Q105.709 295.306 105.709 304.056 Q105.709 312.783 102.631 317.389 Q99.5752 321.972 93.765 321.972 Q87.9549 321.972 84.8762 317.389 Q81.8206 312.783 81.8206 304.056 Q81.8206 295.306 84.8762 290.723 Q87.9549 286.116 93.765 286.116 Z\" fill=\"#000000\" fill-rule=\"evenodd\" fill-opacity=\"1\" /><path clip-path=\"url(#clip230)\" d=\"M113.927 315.421 L118.811 315.421 L118.811 321.301 L113.927 321.301 L113.927 315.421 Z\" fill=\"#000000\" fill-rule=\"evenodd\" fill-opacity=\"1\" /><path clip-path=\"url(#clip230)\" d=\"M129.806 317.366 L137.445 317.366 L137.445 291 L129.135 292.667 L129.135 288.408 L137.399 286.741 L142.075 286.741 L142.075 317.366 L149.714 317.366 L149.714 321.301 L129.806 321.301 L129.806 317.366 Z\" fill=\"#000000\" fill-rule=\"evenodd\" fill-opacity=\"1\" /><path clip-path=\"url(#clip230)\" d=\"M169.158 289.82 Q165.547 289.82 163.718 293.385 Q161.913 296.926 161.913 304.056 Q161.913 311.162 163.718 314.727 Q165.547 318.269 169.158 318.269 Q172.792 318.269 174.598 314.727 Q176.427 311.162 176.427 304.056 Q176.427 296.926 174.598 293.385 Q172.792 289.82 169.158 289.82 M169.158 286.116 Q174.968 286.116 178.024 290.723 Q181.103 295.306 181.103 304.056 Q181.103 312.783 178.024 317.389 Q174.968 321.972 169.158 321.972 Q163.348 321.972 160.269 317.389 Q157.214 312.783 157.214 304.056 Q157.214 295.306 160.269 290.723 Q163.348 286.116 169.158 286.116 Z\" fill=\"#000000\" fill-rule=\"evenodd\" fill-opacity=\"1\" /><path clip-path=\"url(#clip230)\" d=\"M1561.67 12.096 L1596.43 12.096 L1596.43 18.9825 L1569.86 18.9825 L1569.86 36.8065 L1593.84 36.8065 L1593.84 43.6931 L1569.86 43.6931 L1569.86 72.576 L1561.67 72.576 L1561.67 12.096 Z\" fill=\"#000000\" fill-rule=\"evenodd\" fill-opacity=\"1\" /><path clip-path=\"url(#clip230)\" d=\"M1603.03 27.2059 L1610.49 27.2059 L1610.49 72.576 L1603.03 72.576 L1603.03 27.2059 M1603.03 9.54393 L1610.49 9.54393 L1610.49 18.9825 L1603.03 18.9825 L1603.03 9.54393 Z\" fill=\"#000000\" fill-rule=\"evenodd\" fill-opacity=\"1\" /><path clip-path=\"url(#clip230)\" d=\"M1652.37 34.1734 Q1651.12 33.4443 1649.62 33.1202 Q1648.16 32.7556 1646.38 32.7556 Q1640.06 32.7556 1636.66 36.8875 Q1633.29 40.9789 1633.29 48.6757 L1633.29 72.576 L1625.8 72.576 L1625.8 27.2059 L1633.29 27.2059 L1633.29 34.2544 Q1635.64 30.1225 1639.41 28.1376 Q1643.18 26.1121 1648.57 26.1121 Q1649.34 26.1121 1650.27 26.2337 Q1651.2 26.3147 1652.33 26.5172 L1652.37 34.1734 Z\" fill=\"#000000\" fill-rule=\"evenodd\" fill-opacity=\"1\" /><path clip-path=\"url(#clip230)\" d=\"M1689.12 28.5427 L1689.12 35.5912 Q1685.96 33.9709 1682.55 33.1607 Q1679.15 32.3505 1675.5 32.3505 Q1669.95 32.3505 1667.16 34.0519 Q1664.4 35.7533 1664.4 39.156 Q1664.4 41.7486 1666.39 43.2475 Q1668.37 44.7058 1674.37 46.0426 L1676.92 46.6097 Q1684.86 48.3111 1688.18 51.4303 Q1691.55 54.509 1691.55 60.0587 Q1691.55 66.3781 1686.52 70.0644 Q1681.54 73.7508 1672.79 73.7508 Q1669.14 73.7508 1665.17 73.0216 Q1661.25 72.3329 1656.87 70.9151 L1656.87 63.2184 Q1661 65.3654 1665.01 66.4591 Q1669.02 67.5124 1672.95 67.5124 Q1678.22 67.5124 1681.05 65.73 Q1683.89 63.9071 1683.89 60.6258 Q1683.89 57.5877 1681.82 55.9673 Q1679.8 54.3469 1672.87 52.8481 L1670.28 52.2405 Q1663.35 50.7821 1660.27 47.7845 Q1657.19 44.7463 1657.19 39.4801 Q1657.19 33.0797 1661.73 29.5959 Q1666.27 26.1121 1674.61 26.1121 Q1678.75 26.1121 1682.39 26.7198 Q1686.04 27.3274 1689.12 28.5427 Z\" fill=\"#000000\" fill-rule=\"evenodd\" fill-opacity=\"1\" /><path clip-path=\"url(#clip230)\" d=\"M1710.79 14.324 L1710.79 27.2059 L1726.14 27.2059 L1726.14 32.9987 L1710.79 32.9987 L1710.79 57.6282 Q1710.79 63.1779 1712.29 64.7578 Q1713.83 66.3376 1718.48 66.3376 L1726.14 66.3376 L1726.14 72.576 L1718.48 72.576 Q1709.86 72.576 1706.57 69.3758 Q1703.29 66.1351 1703.29 57.6282 L1703.29 32.9987 L1697.82 32.9987 L1697.82 27.2059 L1703.29 27.2059 L1703.29 14.324 L1710.79 14.324 Z\" fill=\"#000000\" fill-rule=\"evenodd\" fill-opacity=\"1\" /><path clip-path=\"url(#clip230)\" d=\"M1732.18 46.5287 L1754.01 46.5287 L1754.01 53.1722 L1732.18 53.1722 L1732.18 46.5287 Z\" fill=\"#000000\" fill-rule=\"evenodd\" fill-opacity=\"1\" /><path clip-path=\"url(#clip230)\" d=\"M1774.39 18.8205 L1774.39 65.8515 L1784.27 65.8515 Q1796.79 65.8515 1802.58 60.1802 Q1808.41 54.509 1808.41 42.2752 Q1808.41 30.1225 1802.58 24.4918 Q1796.79 18.8205 1784.27 18.8205 L1774.39 18.8205 M1766.2 12.096 L1783.02 12.096 Q1800.6 12.096 1808.82 19.4281 Q1817.04 26.7198 1817.04 42.2752 Q1817.04 57.9117 1808.78 65.2439 Q1800.52 72.576 1783.02 72.576 L1766.2 72.576 L1766.2 12.096 Z\" fill=\"#000000\" fill-rule=\"evenodd\" fill-opacity=\"1\" /><path clip-path=\"url(#clip230)\" d=\"M1829.76 27.2059 L1837.22 27.2059 L1837.22 72.576 L1829.76 72.576 L1829.76 27.2059 M1829.76 9.54393 L1837.22 9.54393 L1837.22 18.9825 L1829.76 18.9825 L1829.76 9.54393 Z\" fill=\"#000000\" fill-rule=\"evenodd\" fill-opacity=\"1\" /><path clip-path=\"url(#clip230)\" d=\"M1875.78 9.54393 L1875.78 15.7418 L1868.65 15.7418 Q1864.64 15.7418 1863.06 17.3622 Q1861.52 18.9825 1861.52 23.1955 L1861.52 27.2059 L1873.8 27.2059 L1873.8 32.9987 L1861.52 32.9987 L1861.52 72.576 L1854.03 72.576 L1854.03 32.9987 L1846.9 32.9987 L1846.9 27.2059 L1854.03 27.2059 L1854.03 24.0462 Q1854.03 16.471 1857.55 13.0277 Q1861.08 9.54393 1868.73 9.54393 L1875.78 9.54393 Z\" fill=\"#000000\" fill-rule=\"evenodd\" fill-opacity=\"1\" /><path clip-path=\"url(#clip230)\" d=\"M1904.99 9.54393 L1904.99 15.7418 L1897.86 15.7418 Q1893.85 15.7418 1892.27 17.3622 Q1890.73 18.9825 1890.73 23.1955 L1890.73 27.2059 L1903 27.2059 L1903 32.9987 L1890.73 32.9987 L1890.73 72.576 L1883.23 72.576 L1883.23 32.9987 L1876.11 32.9987 L1876.11 27.2059 L1883.23 27.2059 L1883.23 24.0462 Q1883.23 16.471 1886.76 13.0277 Q1890.28 9.54393 1897.94 9.54393 L1904.99 9.54393 Z\" fill=\"#000000\" fill-rule=\"evenodd\" fill-opacity=\"1\" /><path clip-path=\"url(#clip230)\" d=\"M1950.03 48.0275 L1950.03 51.6733 L1915.76 51.6733 Q1916.25 59.3701 1920.38 63.421 Q1924.55 67.4314 1931.97 67.4314 Q1936.26 67.4314 1940.27 66.3781 Q1944.32 65.3249 1948.29 63.2184 L1948.29 70.267 Q1944.28 71.9684 1940.07 72.8596 Q1935.86 73.7508 1931.52 73.7508 Q1920.67 73.7508 1914.31 67.4314 Q1907.99 61.1119 1907.99 50.3365 Q1907.99 39.1965 1913.98 32.6746 Q1920.02 26.1121 1930.23 26.1121 Q1939.38 26.1121 1944.69 32.0264 Q1950.03 37.9003 1950.03 48.0275 M1942.58 45.84 Q1942.5 39.7232 1939.14 36.0774 Q1935.82 32.4315 1930.31 32.4315 Q1924.07 32.4315 1920.3 35.9558 Q1916.57 39.4801 1916.01 45.8805 L1942.58 45.84 Z\" fill=\"#000000\" fill-rule=\"evenodd\" fill-opacity=\"1\" /><path clip-path=\"url(#clip230)\" d=\"M1988.56 34.1734 Q1987.3 33.4443 1985.8 33.1202 Q1984.35 32.7556 1982.56 32.7556 Q1976.24 32.7556 1972.84 36.8875 Q1969.48 40.9789 1969.48 48.6757 L1969.48 72.576 L1961.98 72.576 L1961.98 27.2059 L1969.48 27.2059 L1969.48 34.2544 Q1971.83 30.1225 1975.6 28.1376 Q1979.36 26.1121 1984.75 26.1121 Q1985.52 26.1121 1986.45 26.2337 Q1987.38 26.3147 1988.52 26.5172 L1988.56 34.1734 Z\" fill=\"#000000\" fill-rule=\"evenodd\" fill-opacity=\"1\" /><path clip-path=\"url(#clip230)\" d=\"M2033.36 48.0275 L2033.36 51.6733 L1999.09 51.6733 Q1999.58 59.3701 2003.71 63.421 Q2007.88 67.4314 2015.29 67.4314 Q2019.59 67.4314 2023.6 66.3781 Q2027.65 65.3249 2031.62 63.2184 L2031.62 70.267 Q2027.61 71.9684 2023.4 72.8596 Q2019.18 73.7508 2014.85 73.7508 Q2003.99 73.7508 1997.63 67.4314 Q1991.31 61.1119 1991.31 50.3365 Q1991.31 39.1965 1997.31 32.6746 Q2003.34 26.1121 2013.55 26.1121 Q2022.71 26.1121 2028.01 32.0264 Q2033.36 37.9003 2033.36 48.0275 M2025.91 45.84 Q2025.83 39.7232 2022.46 36.0774 Q2019.14 32.4315 2013.63 32.4315 Q2007.4 32.4315 2003.63 35.9558 Q1999.9 39.4801 1999.33 45.8805 L2025.91 45.84 Z\" fill=\"#000000\" fill-rule=\"evenodd\" fill-opacity=\"1\" /><path clip-path=\"url(#clip230)\" d=\"M2083.31 45.1919 L2083.31 72.576 L2075.86 72.576 L2075.86 45.4349 Q2075.86 38.994 2073.34 35.7938 Q2070.83 32.5936 2065.81 32.5936 Q2059.77 32.5936 2056.29 36.4419 Q2052.81 40.2903 2052.81 46.9338 L2052.81 72.576 L2045.31 72.576 L2045.31 27.2059 L2052.81 27.2059 L2052.81 34.2544 Q2055.48 30.163 2059.08 28.1376 Q2062.73 26.1121 2067.47 26.1121 Q2075.29 26.1121 2079.3 30.9732 Q2083.31 35.7938 2083.31 45.1919 Z\" fill=\"#000000\" fill-rule=\"evenodd\" fill-opacity=\"1\" /><path clip-path=\"url(#clip230)\" d=\"M2130.83 28.9478 L2130.83 35.9153 Q2127.67 34.1734 2124.47 33.3227 Q2121.31 32.4315 2118.07 32.4315 Q2110.81 32.4315 2106.8 37.0496 Q2102.79 41.6271 2102.79 49.9314 Q2102.79 58.2358 2106.8 62.8538 Q2110.81 67.4314 2118.07 67.4314 Q2121.31 67.4314 2124.47 66.5807 Q2127.67 65.6895 2130.83 63.9476 L2130.83 70.8341 Q2127.71 72.2924 2124.34 73.0216 Q2121.02 73.7508 2117.26 73.7508 Q2107.01 73.7508 2100.97 67.3098 Q2094.94 60.8689 2094.94 49.9314 Q2094.94 38.832 2101.01 32.472 Q2107.13 26.1121 2117.74 26.1121 Q2121.18 26.1121 2124.47 26.8413 Q2127.75 27.5299 2130.83 28.9478 Z\" fill=\"#000000\" fill-rule=\"evenodd\" fill-opacity=\"1\" /><path clip-path=\"url(#clip230)\" d=\"M2182.6 48.0275 L2182.6 51.6733 L2148.33 51.6733 Q2148.81 59.3701 2152.94 63.421 Q2157.12 67.4314 2164.53 67.4314 Q2168.82 67.4314 2172.83 66.3781 Q2176.88 65.3249 2180.85 63.2184 L2180.85 70.267 Q2176.84 71.9684 2172.63 72.8596 Q2168.42 73.7508 2164.08 73.7508 Q2153.23 73.7508 2146.87 67.4314 Q2140.55 61.1119 2140.55 50.3365 Q2140.55 39.1965 2146.54 32.6746 Q2152.58 26.1121 2162.79 26.1121 Q2171.94 26.1121 2177.25 32.0264 Q2182.6 37.9003 2182.6 48.0275 M2175.14 45.84 Q2175.06 39.7232 2171.7 36.0774 Q2168.38 32.4315 2162.87 32.4315 Q2156.63 32.4315 2152.86 35.9558 Q2149.14 39.4801 2148.57 45.8805 L2175.14 45.84 Z\" fill=\"#000000\" fill-rule=\"evenodd\" fill-opacity=\"1\" /><path clip-path=\"url(#clip230)\" d=\"M2223.75 28.5427 L2223.75 35.5912 Q2220.59 33.9709 2217.19 33.1607 Q2213.79 32.3505 2210.14 32.3505 Q2204.59 32.3505 2201.8 34.0519 Q2199.04 35.7533 2199.04 39.156 Q2199.04 41.7486 2201.03 43.2475 Q2203.01 44.7058 2209.01 46.0426 L2211.56 46.6097 Q2219.5 48.3111 2222.82 51.4303 Q2226.18 54.509 2226.18 60.0587 Q2226.18 66.3781 2221.16 70.0644 Q2216.18 73.7508 2207.43 73.7508 Q2203.78 73.7508 2199.81 73.0216 Q2195.88 72.3329 2191.51 70.9151 L2191.51 63.2184 Q2195.64 65.3654 2199.65 66.4591 Q2203.66 67.5124 2207.59 67.5124 Q2212.86 67.5124 2215.69 65.73 Q2218.53 63.9071 2218.53 60.6258 Q2218.53 57.5877 2216.46 55.9673 Q2214.44 54.3469 2207.51 52.8481 L2204.92 52.2405 Q2197.99 50.7821 2194.91 47.7845 Q2191.83 44.7463 2191.83 39.4801 Q2191.83 33.0797 2196.37 29.5959 Q2200.91 26.1121 2209.25 26.1121 Q2213.38 26.1121 2217.03 26.7198 Q2220.68 27.3274 2223.75 28.5427 Z\" fill=\"#000000\" fill-rule=\"evenodd\" fill-opacity=\"1\" /><polyline clip-path=\"url(#clip232)\" style=\"stroke:#009af9; stroke-linecap:butt; stroke-linejoin:round; stroke-width:4; stroke-opacity:1; fill:none\" points=\"\n",
       "  328.998,1285.3 341.619,717.037 354.239,1075.22 366.86,972.101 379.48,1203.41 392.1,1422.41 404.721,1216.74 417.341,1385.02 429.962,1361.17 442.582,1244.24 \n",
       "  455.202,1248.43 467.823,1085.44 480.443,1522.71 493.064,1211.68 505.684,1436.78 518.305,1134.21 530.925,1381.32 543.545,1294.39 556.166,935.281 568.786,1179.13 \n",
       "  581.407,1122.06 594.027,1299.72 606.647,1303.28 619.268,1297.82 631.888,1415.94 644.509,1267.94 657.129,1281.63 669.749,1173.61 682.37,1014.44 694.99,1343.29 \n",
       "  707.611,1220.32 720.231,1223.99 732.851,1154.91 745.472,1183.33 758.092,1180.76 770.713,1301.62 783.333,1279.11 795.954,1173.68 808.574,1276.94 821.194,1185.44 \n",
       "  833.815,1348.01 846.435,1358.04 859.056,1374.25 871.676,1303.52 884.296,1310.83 896.917,1145.07 909.537,1348.35 922.158,1108.74 934.778,1220.15 947.398,1261.58 \n",
       "  960.019,1168.45 972.639,1392.13 985.26,1158.72 997.88,1344.01 1010.5,1596.03 1023.12,1458.11 1035.74,1404.19 1048.36,1349.13 1060.98,1351.59 1073.6,979.796 \n",
       "  1086.22,1041.22 1098.84,1356.46 1111.46,1234.46 1124.08,1310.36 1136.7,1354.78 1149.33,1215.24 1161.95,1301.34 1174.57,1109.77 1187.19,1363.95 1199.81,1068.63 \n",
       "  1212.43,1330.75 1225.05,1198.95 1237.67,1374.65 1250.29,1163.62 1262.91,1250.1 1275.53,1268.32 1288.15,1287.3 1300.77,1324.82 1313.39,1288.61 1326.01,1257.07 \n",
       "  1338.63,1322.61 1351.25,1387.7 1363.87,1563.88 1376.49,1158.93 1389.11,1233.88 1401.73,1549.27 1414.35,1361.23 1426.97,1374.56 1439.59,1150.41 1452.21,1404.72 \n",
       "  1464.84,1167.65 1477.46,1345.09 1490.08,1182.19 1502.7,1513.33 1515.32,1269.81 1527.94,1236.23 1540.56,1507.56 1553.18,1635.87 1565.8,1292.86 1578.42,1525.64 \n",
       "  1591.04,1180.62 1603.66,1279.8 1616.28,1377.02 1628.9,1382.12 1641.52,1105.61 1654.14,1267.96 1666.76,1312.99 1679.38,1145.79 1692,1344.97 1704.62,1411.92 \n",
       "  1717.24,1569.37 1729.86,1370.7 1742.48,1506.61 1755.1,1493.58 1767.73,980.119 1780.35,1002.95 1792.97,1002.8 1805.59,1161.32 1818.21,1426.31 1830.83,1606.32 \n",
       "  1843.45,1037.58 1856.07,1445.55 1868.69,1312.79 1881.31,1253.61 1893.93,1491.24 1906.55,1213.76 1919.17,1009.29 1931.79,1268.55 1944.41,1194.61 1957.03,1138.89 \n",
       "  1969.65,1038.36 1982.27,1316.01 1994.89,1313.09 2007.51,1192.76 2020.13,1456.42 2032.75,1297.44 2045.37,1273.49 2057.99,1317.75 2070.61,1173.58 2083.24,1374.79 \n",
       "  2095.86,1251.77 2108.48,1436.71 2121.1,1261.1 2133.72,1235.08 2146.34,1386.7 2158.96,1837.98 2171.58,1448.93 2184.2,1715.7 2196.82,1185.79 2209.44,1387.42 \n",
       "  2222.06,949.26 2234.68,1195.44 2247.3,1659.92 2259.92,941.519 2272.54,1774.01 2285.16,1438.62 2297.78,1285.36 2310.4,1133.77 2323.02,1423.31 2335.64,1269.59 \n",
       "  2348.26,1200.68 2360.88,1333.08 2373.5,1311.49 2386.13,1135.05 2398.75,1305.3 2411.37,1062.47 2423.99,1557.38 2436.61,1687.64 2449.23,1156.19 2461.85,955.295 \n",
       "  2474.47,1298.84 2487.09,1034.96 2499.71,1152.55 2512.33,1284.12 2524.95,1113.17 2537.57,1017.37 2550.19,1191.18 2562.81,1415.72 2575.43,1638.39 2588.05,1229.04 \n",
       "  2600.67,1192 2613.29,1275.16 2625.91,1513.73 2638.53,1153.76 2651.15,1344.11 2663.77,1550.53 2676.39,1335.74 2689.02,1424.57 2701.64,1577.38 2714.26,1561.26 \n",
       "  2726.88,1139.76 2739.5,1269.95 2752.12,1441.61 2764.74,1381.71 2777.36,890.599 2789.98,868.602 2802.6,1367.99 2815.22,1140.82 2827.84,163.623 2840.46,1264.95 \n",
       "  2853.08,1200.43 2865.7,1303.64 2878.32,1325.13 2890.94,1278.2 2903.56,1103.89 2916.18,1346.16 2928.8,1440.16 2941.42,1562.94 2954.04,1441.62 2966.66,888.038 \n",
       "  2979.28,882.936 2991.9,1180.42 3004.53,1305.8 3017.15,1071.81 3029.77,1164.38 3042.39,1415.77 3055.01,1446.28 3067.63,1534.34 3080.25,1352.28 3092.87,1202.66 \n",
       "  3105.49,1315.08 3118.11,1394.36 3130.73,1143.47 3143.35,1317.95 3155.97,1238.4 3168.59,1370.94 3181.21,1160.62 3193.83,1507.8 3206.45,1048.58 3219.07,1445.64 \n",
       "  3231.69,1058.62 3244.31,1274.13 3256.93,1009.27 3269.55,1279.67 3282.17,1255.25 3294.79,1247.37 3307.42,1126.7 3320.04,1311.64 3332.66,1113.74 3345.28,1223.9 \n",
       "  3357.9,1143.33 3370.52,1254.23 3383.14,1319.77 3395.76,1314.02 3408.38,1265.52 3421,1316.07 3433.62,1402.55 3446.24,1169.57 3458.86,1146.35 \n",
       "  \"/>\n",
       "<polyline clip-path=\"url(#clip232)\" style=\"stroke:#e26f46; stroke-linecap:butt; stroke-linejoin:round; stroke-width:4; stroke-opacity:1; fill:none\" points=\"\n",
       "  328.998,1392.23 341.619,746.223 354.239,1076.13 366.86,1081.86 379.48,1130.5 392.1,1419.61 404.721,1170.77 417.341,1411.39 429.962,1287.49 442.582,1254.51 \n",
       "  455.202,1294.79 467.823,1077.12 480.443,1489.47 493.064,1293.56 505.684,1423.87 518.305,1157.84 530.925,1365.73 543.545,1354 556.166,865.463 568.786,1225.57 \n",
       "  581.407,1103.27 594.027,1282.49 606.647,1292.32 619.268,1312.25 631.888,1431.74 644.509,1258.84 657.129,1262.71 669.749,1208.45 682.37,1101.91 694.99,1336.99 \n",
       "  707.611,1207.59 720.231,1234.65 732.851,1165.06 745.472,1178.96 758.092,1225.41 770.713,1237 783.333,1287.79 795.954,1177.39 808.574,1216.59 821.194,1180 \n",
       "  833.815,1380.05 846.435,1350.67 859.056,1377.69 871.676,1316.84 884.296,1369.2 896.917,1185.64 909.537,1330.49 922.158,1126.75 934.778,1160.96 947.398,1286.72 \n",
       "  960.019,1165.24 972.639,1374.19 985.26,1161.42 997.88,1322.31 1010.5,1573.95 1023.12,1421.51 1035.74,1415.23 1048.36,1373.12 1060.98,1330.53 1073.6,1046.13 \n",
       "  1086.22,1056.01 1098.84,1300.04 1111.46,1244.62 1124.08,1344.47 1136.7,1297.64 1149.33,1228.91 1161.95,1306.24 1174.57,1129.43 1187.19,1327.73 1199.81,1079.65 \n",
       "  1212.43,1329.4 1225.05,1229.9 1237.67,1377.31 1250.29,1258.08 1262.91,1211.57 1275.53,1270.5 1288.15,1306.92 1300.77,1249.56 1313.39,1282.11 1326.01,1307.87 \n",
       "  1338.63,1308.67 1351.25,1383.67 1363.87,1507.34 1376.49,1161.21 1389.11,1252.97 1401.73,1489.42 1414.35,1350.71 1426.97,1404.26 1439.59,1058.69 1452.21,1496.54 \n",
       "  1464.84,1199.89 1477.46,1391.86 1490.08,1192.19 1502.7,1472.63 1515.32,1276.71 1527.94,1143.6 1540.56,1555.57 1553.18,1621.56 1565.8,1156.35 1578.42,1495.3 \n",
       "  1591.04,1119.51 1603.66,1384.01 1616.28,1330.59 1628.9,1302.1 1641.52,1138.63 1654.14,1203.98 1666.76,1368.76 1679.38,1236.04 1692,1333.46 1704.62,1413.12 \n",
       "  1717.24,1458.73 1729.86,1427.4 1742.48,1540.2 1755.1,1457.47 1767.73,1072.55 1780.35,988.673 1792.97,993.186 1805.59,1184.04 1818.21,1401.22 1830.83,1554.5 \n",
       "  1843.45,1071.21 1856.07,1407.49 1868.69,1328.44 1881.31,1259.99 1893.93,1525.61 1906.55,1273.7 1919.17,977.049 1931.79,1264.25 1944.41,1206.93 1957.03,1118.4 \n",
       "  1969.65,1091.72 1982.27,1247.78 1994.89,1262.6 2007.51,1176.37 2020.13,1478.97 2032.75,1262.68 2045.37,1260.41 2057.99,1258.73 2070.61,1231.2 2083.24,1338.78 \n",
       "  2095.86,1292.83 2108.48,1413.44 2121.1,1347.35 2133.72,1225.79 2146.34,1326.25 2158.96,1780.35 2171.58,1406.63 2184.2,1771.28 2196.82,1090.72 2209.44,1384.67 \n",
       "  2222.06,980.754 2234.68,1174.2 2247.3,1658.49 2259.92,1032.98 2272.54,1691.03 2285.16,1430.73 2297.78,1248.79 2310.4,1139.53 2323.02,1454.14 2335.64,1208.77 \n",
       "  2348.26,1270.68 2360.88,1318.46 2373.5,1291.79 2386.13,1221.04 2398.75,1247.65 2411.37,1002.93 2423.99,1499.12 2436.61,1653.83 2449.23,1175.99 2461.85,941.765 \n",
       "  2474.47,1302.11 2487.09,1129.02 2499.71,1107.69 2512.33,1309.49 2524.95,1151.61 2537.57,987.607 2550.19,1256.41 2562.81,1288.99 2575.43,1610.07 2588.05,1310.68 \n",
       "  2600.67,1202.56 2613.29,1347.32 2625.91,1459.11 2638.53,1191.07 2651.15,1338.88 2663.77,1589.22 2676.39,1229.01 2689.02,1367.31 2701.64,1462.5 2714.26,1518.48 \n",
       "  2726.88,1199.97 2739.5,1223.75 2752.12,1464.74 2764.74,1259.9 2777.36,1051.54 2789.98,893.039 2802.6,1343.12 2815.22,1280.66 2827.84,564.968 2840.46,1199.38 \n",
       "  2853.08,1260.67 2865.7,1391.07 2878.32,1226.46 2890.94,1257.87 2903.56,1083.36 2916.18,1368.84 2928.8,1483.34 2941.42,1494.24 2954.04,1434.69 2966.66,990.992 \n",
       "  2979.28,915.67 2991.9,1051.14 3004.53,1318.93 3017.15,1109.39 3029.77,1094.03 3042.39,1426.97 3055.01,1525.19 3067.63,1515.28 3080.25,1301.75 3092.87,1200.55 \n",
       "  3105.49,1362.69 3118.11,1392.22 3130.73,1064.09 3143.35,1314.29 3155.97,1238.43 3168.59,1317.64 3181.21,1259.27 3193.83,1308.25 3206.45,1067.12 3219.07,1465.32 \n",
       "  3231.69,1055.3 3244.31,1283.28 3256.93,1053.85 3269.55,1346.29 3282.17,1239.96 3294.79,1253.61 3307.42,1100.73 3320.04,1394.61 3332.66,1117.51 3345.28,1185.97 \n",
       "  3357.9,1128.63 3370.52,1304.58 3383.14,1316.48 3395.76,1304.1 3408.38,1291.69 3421,1193.18 3433.62,1487.51 3446.24,1170.77 3458.86,1120.51 \n",
       "  \"/>\n",
       "<polyline clip-path=\"url(#clip232)\" style=\"stroke:#3da44d; stroke-linecap:butt; stroke-linejoin:round; stroke-width:4; stroke-opacity:1; fill:none\" points=\"\n",
       "  328.998,1356.48 341.619,865.033 354.239,1170.05 366.86,1050.65 379.48,1211.97 392.1,1373.18 404.721,1183.64 417.341,1388.69 429.962,1280.05 442.582,1225.42 \n",
       "  455.202,1448.92 467.823,1068.36 480.443,1458.86 493.064,1259.65 505.684,1406.59 518.305,1186.36 530.925,1351.49 543.545,1279.6 556.166,942.797 568.786,1216.52 \n",
       "  581.407,1133.63 594.027,1327.26 606.647,1279.9 619.268,1330.97 631.888,1386.63 644.509,1367.25 657.129,1294.54 669.749,1188.46 682.37,1137.59 694.99,1334.37 \n",
       "  707.611,1243.29 720.231,1194.64 732.851,1177.03 745.472,1173.57 758.092,1265.9 770.713,1226.56 783.333,1298.53 795.954,1224.12 808.574,1208.51 821.194,1226.61 \n",
       "  833.815,1363.64 846.435,1344.36 859.056,1330.96 871.676,1333.41 884.296,1313.2 896.917,1227.51 909.537,1314.36 922.158,1195.48 934.778,1161.02 947.398,1266.1 \n",
       "  960.019,1211.94 972.639,1309.03 985.26,1208.72 997.88,1305.03 1010.5,1556.24 1023.12,1380.81 1035.74,1383.61 1048.36,1400.1 1060.98,1310.76 1073.6,1052.89 \n",
       "  1086.22,1166.97 1098.84,1246.5 1111.46,1256.68 1124.08,1328.86 1136.7,1244.58 1149.33,1243.04 1161.95,1263 1174.57,1152.2 1187.19,1289.95 1199.81,1188.98 \n",
       "  1212.43,1328.45 1225.05,1207.66 1237.67,1376.87 1250.29,1213.61 1262.91,1294.6 1275.53,1248.18 1288.15,1233.16 1300.77,1210.91 1313.39,1314.18 1326.01,1324.36 \n",
       "  1338.63,1314.09 1351.25,1406.01 1363.87,1474.97 1376.49,1160.24 1389.11,1282.92 1401.73,1501.67 1414.35,1291.68 1426.97,1366.65 1439.59,1137.95 1452.21,1424.55 \n",
       "  1464.84,1225.47 1477.46,1423.25 1490.08,1225.35 1502.7,1432.96 1515.32,1272.78 1527.94,1169.48 1540.56,1492.89 1553.18,1601.63 1565.8,1132.35 1578.42,1467.81 \n",
       "  1591.04,1169.38 1603.66,1315.34 1616.28,1291.04 1628.9,1296.19 1641.52,1231.98 1654.14,1211.93 1666.76,1421.91 1679.38,1210.17 1692,1322.29 1704.62,1345.22 \n",
       "  1717.24,1355.59 1729.86,1434.63 1742.48,1562.03 1755.1,1410.32 1767.73,1110.48 1780.35,1066.55 1792.97,892.401 1805.59,1361.87 1818.21,1378.48 1830.83,1500.93 \n",
       "  1843.45,1097.42 1856.07,1375.32 1868.69,1270.99 1881.31,1276.43 1893.93,1490.7 1906.55,1257.17 1919.17,1072.53 1931.79,1193.95 1944.41,1220.17 1957.03,1109.97 \n",
       "  1969.65,1149.2 1982.27,1240.9 1994.89,1280.05 2007.51,1140.83 2020.13,1522.12 2032.75,1049.5 2045.37,1251.02 2057.99,1313.19 2070.61,1167.76 2083.24,1405.93 \n",
       "  2095.86,1201.48 2108.48,1399.76 2121.1,1370.98 2133.72,1207.77 2146.34,1357.18 2158.96,1632.1 2171.58,1491.79 2184.2,1650.41 2196.82,1153.64 2209.44,1303.58 \n",
       "  2222.06,1070.47 2234.68,1249.43 2247.3,1556.05 2259.92,1171.37 2272.54,1654.59 2285.16,1420.01 2297.78,1283.95 2310.4,1147.27 2323.02,1487.76 2335.64,1208.57 \n",
       "  2348.26,1206.56 2360.88,1392.07 2373.5,1246.88 2386.13,1220.29 2398.75,1247.68 2411.37,1072.48 2423.99,1534.07 2436.61,1560.22 2449.23,1229.26 2461.85,980.813 \n",
       "  2474.47,1363.23 2487.09,1110.72 2499.71,1114.56 2512.33,1269.08 2524.95,1114.39 2537.57,1024.75 2550.19,1290.64 2562.81,1324.31 2575.43,1665.12 2588.05,1193.04 \n",
       "  2600.67,1240.04 2613.29,1283.92 2625.91,1496.02 2638.53,1155.07 2651.15,1463.03 2663.77,1480.4 2676.39,1281.96 2689.02,1367.16 2701.64,1414.46 2714.26,1398.37 \n",
       "  2726.88,1162.14 2739.5,1205.25 2752.12,1469.63 2764.74,1243.64 2777.36,1028.09 2789.98,1034.64 2802.6,1277.27 2815.22,1240.48 2827.84,1162.04 2840.46,1219.88 \n",
       "  2853.08,1230.15 2865.7,1278.2 2878.32,1222.28 2890.94,1239.62 2903.56,1117.73 2916.18,1308.22 2928.8,1474.89 2941.42,1504.41 2954.04,1478.6 2966.66,949.496 \n",
       "  2979.28,977.894 2991.9,1093.85 3004.53,1342.8 3017.15,1129.18 3029.77,1147.29 3042.39,1372.76 3055.01,1492.63 3067.63,1498.86 3080.25,1253.95 3092.87,1264.53 \n",
       "  3105.49,1297.16 3118.11,1443.76 3130.73,1112.61 3143.35,1317.45 3155.97,1278.65 3168.59,1261.62 3181.21,1254.53 3193.83,1355.32 3206.45,1082.17 3219.07,1369.84 \n",
       "  3231.69,1096.16 3244.31,1236.63 3256.93,1141.77 3269.55,1308.34 3282.17,1160.62 3294.79,1383.32 3307.42,1083.91 3320.04,1417.58 3332.66,1070.04 3345.28,1207.16 \n",
       "  3357.9,1223.23 3370.52,1187.56 3383.14,1313.66 3395.76,1349.94 3408.38,1319.89 3421,1296.6 3433.62,1357.26 3446.24,1172.57 3458.86,1153.87 \n",
       "  \"/>\n",
       "<polyline clip-path=\"url(#clip232)\" style=\"stroke:#c271d2; stroke-linecap:butt; stroke-linejoin:round; stroke-width:4; stroke-opacity:1; fill:none\" points=\"\n",
       "  328.998,1345.2 341.619,1073.77 354.239,1147 366.86,1040.14 379.48,1285.91 392.1,1327.01 404.721,1201.26 417.341,1340.64 429.962,1291.43 442.582,1171.55 \n",
       "  455.202,1427.47 467.823,1179.75 480.443,1416.07 493.064,1241.09 505.684,1438.05 518.305,1217.43 530.925,1315.37 543.545,1253.51 556.166,963.716 568.786,1185.11 \n",
       "  581.407,1214.89 594.027,1230.29 606.647,1321.96 619.268,1376.73 631.888,1322.37 644.509,1370.36 657.129,1269.2 669.749,1219.04 682.37,1179.28 694.99,1330.8 \n",
       "  707.611,1267.44 720.231,1164.12 732.851,1195.12 745.472,1107.97 758.092,1235.67 770.713,1249.29 783.333,1333.78 795.954,1199.98 808.574,1224.57 821.194,1220.6 \n",
       "  833.815,1343.02 846.435,1327.83 859.056,1363.23 871.676,1318.14 884.296,1359.82 896.917,1236.62 909.537,1342.32 922.158,1231.41 934.778,1081.32 947.398,1215.86 \n",
       "  960.019,1230.84 972.639,1285.35 985.26,1215.01 997.88,1296.35 1010.5,1482.26 1023.12,1414.47 1035.74,1378.48 1048.36,1463.25 1060.98,1309.31 1073.6,1070.55 \n",
       "  1086.22,1186.18 1098.84,1265.39 1111.46,1233.68 1124.08,1304.16 1136.7,1304.07 1149.33,1236.75 1161.95,1275.23 1174.57,1145.55 1187.19,1325.06 1199.81,1193.81 \n",
       "  1212.43,1321.25 1225.05,1205.24 1237.67,1308.24 1250.29,1284.35 1262.91,1247.89 1275.53,1228.55 1288.15,1265.12 1300.77,1186.95 1313.39,1321.4 1326.01,1310.53 \n",
       "  1338.63,1327.33 1351.25,1430.94 1363.87,1407.43 1376.49,1215.3 1389.11,1291.76 1401.73,1397.67 1414.35,1339.44 1426.97,1279.3 1439.59,1150.53 1452.21,1386.08 \n",
       "  1464.84,1257.17 1477.46,1423 1490.08,1301.26 1502.7,1422.21 1515.32,1188.99 1527.94,1122.09 1540.56,1432.27 1553.18,1554.72 1565.8,1152.85 1578.42,1438.82 \n",
       "  1591.04,1236.81 1603.66,1339.78 1616.28,1274.12 1628.9,1296.38 1641.52,1136.83 1654.14,1217.36 1666.76,1395.43 1679.38,1372.45 1692,1298.74 1704.62,1328.73 \n",
       "  1717.24,1354.73 1729.86,1376.36 1742.48,1524.13 1755.1,1391.17 1767.73,1162.45 1780.35,1120.49 1792.97,885.935 1805.59,1436.72 1818.21,1316.01 1830.83,1447.72 \n",
       "  1843.45,1126.77 1856.07,1373.06 1868.69,1270.6 1881.31,1311.59 1893.93,1455.97 1906.55,1324.11 1919.17,987.327 1931.79,1304.98 1944.41,1186.49 1957.03,1093.84 \n",
       "  1969.65,1160.32 1982.27,1218.64 1994.89,1308.18 2007.51,1172.74 2020.13,1533.71 2032.75,1126.99 2045.37,1194.12 2057.99,1233.53 2070.61,1224.76 2083.24,1320.24 \n",
       "  2095.86,1219.39 2108.48,1382.82 2121.1,1343.98 2133.72,1243.21 2146.34,1341.42 2158.96,1610.75 2171.58,1523.65 2184.2,1498.98 2196.82,1310.11 2209.44,1258.41 \n",
       "  2222.06,1105.43 2234.68,1227.52 2247.3,1666.97 2259.92,1203.76 2272.54,1641.04 2285.16,1161.71 2297.78,1361.67 2310.4,1306.37 2323.02,1248.86 2335.64,1425.92 \n",
       "  2348.26,1163.3 2360.88,1192.03 2373.5,1180.52 2386.13,1202.4 2398.75,1125.56 2411.37,1120.73 2423.99,1779.95 2436.61,1248.7 2449.23,1488.68 2461.85,1055.81 \n",
       "  2474.47,1373.6 2487.09,1122.99 2499.71,1143.26 2512.33,1297.92 2524.95,1151.59 2537.57,1037.81 2550.19,1276.94 2562.81,1320.05 2575.43,1649.14 2588.05,1248.86 \n",
       "  2600.67,1214.79 2613.29,1257.51 2625.91,1443.21 2638.53,1209.93 2651.15,1437.91 2663.77,1437.41 2676.39,1309.88 2689.02,1252.37 2701.64,1347.79 2714.26,1343.8 \n",
       "  2726.88,1273.45 2739.5,1230.1 2752.12,1437.05 2764.74,1302.86 2777.36,1028.54 2789.98,1016.78 2802.6,1217.28 2815.22,1251.54 2827.84,1307.67 2840.46,1187.45 \n",
       "  2853.08,1178.86 2865.7,1270.98 2878.32,1270.69 2890.94,1153.72 2903.56,1189.75 2916.18,1228.07 2928.8,1489.37 2941.42,1516.39 2954.04,1403.21 2966.66,1018.12 \n",
       "  2979.28,926.368 2991.9,1054.45 3004.53,1317.74 3017.15,1082.13 3029.77,1166.75 3042.39,1351.55 3055.01,1497.48 3067.63,1413.76 3080.25,1305.98 3092.87,1240.53 \n",
       "  3105.49,1327.41 3118.11,1397.65 3130.73,1156.13 3143.35,1293.95 3155.97,1254.28 3168.59,1292.54 3181.21,1312.51 3193.83,1392.22 3206.45,972.732 3219.07,1414.27 \n",
       "  3231.69,1133.84 3244.31,1243.47 3256.93,1201.07 3269.55,1268.57 3282.17,1301.6 3294.79,1328.48 3307.42,1117.12 3320.04,1390.5 3332.66,1133.04 3345.28,1173.28 \n",
       "  3357.9,1158.91 3370.52,1238.14 3383.14,1305.96 3395.76,1357.76 3408.38,1282.34 3421,1348.19 3433.62,1364.32 3446.24,1204.82 3458.86,1140.09 \n",
       "  \"/>\n",
       "<polyline clip-path=\"url(#clip232)\" style=\"stroke:#ac8d18; stroke-linecap:butt; stroke-linejoin:round; stroke-width:4; stroke-opacity:1; fill:none\" points=\"\n",
       "  328.998,1324.52 341.619,1100.21 354.239,1259.51 366.86,1073.1 379.48,1182.2 392.1,1326.07 404.721,1253.1 417.341,1289.92 429.962,1249.34 442.582,1275.57 \n",
       "  455.202,1319.51 467.823,1188.05 480.443,1366.09 493.064,1287.91 505.684,1373.94 518.305,1263.21 530.925,1327.3 543.545,1258.45 556.166,1002.82 568.786,1156.08 \n",
       "  581.407,1230.57 594.027,1276.08 606.647,1306.4 619.268,1370.07 631.888,1326.73 644.509,1374 657.129,1269.03 669.749,1228.09 682.37,1201.9 694.99,1306.51 \n",
       "  707.611,1231.01 720.231,1238.09 732.851,1163.16 745.472,1170.08 758.092,1246.07 770.713,1234.75 783.333,1316.43 795.954,1244.16 808.574,1241.08 821.194,1174.42 \n",
       "  833.815,1351.43 846.435,1364.57 859.056,1352.88 871.676,1285.19 884.296,1348.16 896.917,1239.41 909.537,1292.26 922.158,1153.87 934.778,1221.98 947.398,1225.65 \n",
       "  960.019,1243.57 972.639,1288.92 985.26,1201.58 997.88,1299.61 1010.5,1437.24 1023.12,1422.29 1035.74,1406.78 1048.36,1419.57 1060.98,1320.05 1073.6,1096.14 \n",
       "  1086.22,1155.52 1098.84,1304.43 1111.46,1250.28 1124.08,1310.25 1136.7,1249.66 1149.33,1244.39 1161.95,1292.03 1174.57,1192.59 1187.19,1264.1 1199.81,1213.51 \n",
       "  1212.43,1315.6 1225.05,1250.04 1237.67,1284.23 1250.29,1258.52 1262.91,1273.87 1275.53,1237.77 1288.15,1244.12 1300.77,1214.23 1313.39,1305.95 1326.01,1292.8 \n",
       "  1338.63,1307.68 1351.25,1397.98 1363.87,1437.55 1376.49,1176.62 1389.11,1323.88 1401.73,1433.5 1414.35,1346.25 1426.97,1256.98 1439.59,1091.96 1452.21,1454.8 \n",
       "  1464.84,1186.34 1477.46,1415.06 1490.08,1267.33 1502.7,1405.86 1515.32,1257.41 1527.94,1189.6 1540.56,1381.31 1553.18,1457.45 1565.8,1178.67 1578.42,1448.76 \n",
       "  1591.04,1182.63 1603.66,1336.36 1616.28,1291.4 1628.9,1400.48 1641.52,1188.39 1654.14,1179.76 1666.76,1434.94 1679.38,1325.07 1692,1343.01 1704.62,1290.69 \n",
       "  1717.24,1297.03 1729.86,1383.59 1742.48,1558.91 1755.1,1334.85 1767.73,1177.23 1780.35,1064.69 1792.97,1036.41 1805.59,1340.59 1818.21,1352.3 1830.83,1514.56 \n",
       "  1843.45,1107.69 1856.07,1402.18 1868.69,1328.86 1881.31,1329.43 1893.93,1380 1906.55,1297 1919.17,1032.72 1931.79,1200.64 1944.41,1198.38 1957.03,1158.78 \n",
       "  1969.65,1084.35 1982.27,1288.07 1994.89,1284.81 2007.51,1227.03 2020.13,1450.89 2032.75,1288.99 2045.37,1254.8 2057.99,1212.65 2070.61,1203.85 2083.24,1352.33 \n",
       "  2095.86,1262.8 2108.48,1398.57 2121.1,1315.22 2133.72,1245.41 2146.34,1308.23 2158.96,1686.36 2171.58,1459.42 2184.2,1587.52 2196.82,1241.92 2209.44,1269.07 \n",
       "  2222.06,979.253 2234.68,1251.27 2247.3,1539.65 2259.92,1293.62 2272.54,1706.52 2285.16,1393.66 2297.78,1330.15 2310.4,1125.46 2323.02,1446.6 2335.64,1243.04 \n",
       "  2348.26,1092.84 2360.88,1302.48 2373.5,1219.96 2386.13,1251.23 2398.75,1238.09 2411.37,1015.6 2423.99,1559.85 2436.61,1457.3 2449.23,1268.7 2461.85,1027.81 \n",
       "  2474.47,1386.5 2487.09,1108.88 2499.71,1196.14 2512.33,1222.3 2524.95,1393.58 2537.57,816.531 2550.19,1298.99 2562.81,1338.1 2575.43,1551.79 2588.05,1306.89 \n",
       "  2600.67,1191.71 2613.29,1292.78 2625.91,1441 2638.53,1154.42 2651.15,1417.34 2663.77,1488.49 2676.39,1319.28 2689.02,1273.44 2701.64,1381.05 2714.26,1396.35 \n",
       "  2726.88,1129.95 2739.5,1225.96 2752.12,1497.34 2764.74,1275.32 2777.36,1044.23 2789.98,1033.9 2802.6,1264.16 2815.22,1297.64 2827.84,1160.19 2840.46,1199.65 \n",
       "  2853.08,1218.4 2865.7,1234.95 2878.32,1272.73 2890.94,1207.86 2903.56,1113.11 2916.18,1280.76 2928.8,1499.84 2941.42,1453.34 2954.04,1500.85 2966.66,970.194 \n",
       "  2979.28,1032.7 2991.9,1014.16 3004.53,1300.37 3017.15,1125.67 3029.77,1174.89 3042.39,1393 3055.01,1424.9 3067.63,1422.14 3080.25,1345.87 3092.87,1198.28 \n",
       "  3105.49,1313.35 3118.11,1374.1 3130.73,1166.85 3143.35,1281.38 3155.97,1238.14 3168.59,1279.63 3181.21,1346.73 3193.83,1370.28 3206.45,1096.06 3219.07,1336.39 \n",
       "  3231.69,1152.4 3244.31,1303.4 3256.93,1102.24 3269.55,1370.23 3282.17,1279.76 3294.79,1307.78 3307.42,1114.37 3320.04,1405.4 3332.66,1206.19 3345.28,1193.87 \n",
       "  3357.9,1161.4 3370.52,1191.05 3383.14,1354.16 3395.76,1358.83 3408.38,1274.18 3421,1331.01 3433.62,1349.99 3446.24,1228.33 3458.86,1143.74 \n",
       "  \"/>\n",
       "<path clip-path=\"url(#clip230)\" d=\"\n",
       "M345.691 483.593 L800.221 483.593 L800.221 172.553 L345.691 172.553  Z\n",
       "  \" fill=\"#ffffff\" fill-rule=\"evenodd\" fill-opacity=\"1\"/>\n",
       "<polyline clip-path=\"url(#clip230)\" style=\"stroke:#000000; stroke-linecap:butt; stroke-linejoin:round; stroke-width:4; stroke-opacity:1; fill:none\" points=\"\n",
       "  345.691,483.593 800.221,483.593 800.221,172.553 345.691,172.553 345.691,483.593 \n",
       "  \"/>\n",
       "<polyline clip-path=\"url(#clip230)\" style=\"stroke:#009af9; stroke-linecap:butt; stroke-linejoin:round; stroke-width:4; stroke-opacity:1; fill:none\" points=\"\n",
       "  382.554,224.393 603.731,224.393 \n",
       "  \"/>\n",
       "<path clip-path=\"url(#clip230)\" d=\"M642.052 207.113 L660.408 207.113 L660.408 211.048 L646.334 211.048 L646.334 219.52 Q647.353 219.173 648.371 219.011 Q649.39 218.826 650.408 218.826 Q656.195 218.826 659.575 221.997 Q662.954 225.168 662.954 230.585 Q662.954 236.163 659.482 239.265 Q656.01 242.344 649.691 242.344 Q647.515 242.344 645.246 241.974 Q643.001 241.603 640.593 240.862 L640.593 236.163 Q642.677 237.298 644.899 237.853 Q647.121 238.409 649.598 238.409 Q653.603 238.409 655.941 236.302 Q658.279 234.196 658.279 230.585 Q658.279 226.974 655.941 224.867 Q653.603 222.761 649.598 222.761 Q647.723 222.761 645.848 223.177 Q643.996 223.594 642.052 224.474 L642.052 207.113 Z\" fill=\"#000000\" fill-rule=\"evenodd\" fill-opacity=\"1\" /><path clip-path=\"url(#clip230)\" d=\"M667.005 207.113 L672.028 207.113 L681.612 221.326 L691.126 207.113 L696.149 207.113 L683.927 225.214 L683.927 241.673 L679.228 241.673 L679.228 225.214 L667.005 207.113 Z\" fill=\"#000000\" fill-rule=\"evenodd\" fill-opacity=\"1\" /><polyline clip-path=\"url(#clip230)\" style=\"stroke:#e26f46; stroke-linecap:butt; stroke-linejoin:round; stroke-width:4; stroke-opacity:1; fill:none\" points=\"\n",
       "  382.554,276.233 603.731,276.233 \n",
       "  \"/>\n",
       "<path clip-path=\"url(#clip230)\" d=\"M640.593 258.953 L662.816 258.953 L662.816 260.943 L650.269 293.513 L645.385 293.513 L657.191 262.888 L640.593 262.888 L640.593 258.953 Z\" fill=\"#000000\" fill-rule=\"evenodd\" fill-opacity=\"1\" /><path clip-path=\"url(#clip230)\" d=\"M666.774 258.953 L671.797 258.953 L681.38 273.166 L690.894 258.953 L695.917 258.953 L683.695 277.054 L683.695 293.513 L678.996 293.513 L678.996 277.054 L666.774 258.953 Z\" fill=\"#000000\" fill-rule=\"evenodd\" fill-opacity=\"1\" /><polyline clip-path=\"url(#clip230)\" style=\"stroke:#3da44d; stroke-linecap:butt; stroke-linejoin:round; stroke-width:4; stroke-opacity:1; fill:none\" points=\"\n",
       "  382.554,328.073 603.731,328.073 \n",
       "  \"/>\n",
       "<path clip-path=\"url(#clip230)\" d=\"M641.265 341.417 L648.904 341.417 L648.904 315.052 L640.593 316.719 L640.593 312.459 L648.857 310.793 L653.533 310.793 L653.533 341.417 L661.172 341.417 L661.172 345.353 L641.265 345.353 L641.265 341.417 Z\" fill=\"#000000\" fill-rule=\"evenodd\" fill-opacity=\"1\" /><path clip-path=\"url(#clip230)\" d=\"M680.616 313.871 Q677.005 313.871 675.177 317.436 Q673.371 320.978 673.371 328.107 Q673.371 335.214 675.177 338.779 Q677.005 342.32 680.616 342.32 Q684.251 342.32 686.056 338.779 Q687.885 335.214 687.885 328.107 Q687.885 320.978 686.056 317.436 Q684.251 313.871 680.616 313.871 M680.616 310.168 Q686.427 310.168 689.482 314.774 Q692.561 319.357 692.561 328.107 Q692.561 336.834 689.482 341.441 Q686.427 346.024 680.616 346.024 Q674.806 346.024 671.728 341.441 Q668.672 336.834 668.672 328.107 Q668.672 319.357 671.728 314.774 Q674.806 310.168 680.616 310.168 Z\" fill=\"#000000\" fill-rule=\"evenodd\" fill-opacity=\"1\" /><path clip-path=\"url(#clip230)\" d=\"M695.616 310.793 L700.639 310.793 L710.223 325.006 L719.737 310.793 L724.76 310.793 L712.538 328.894 L712.538 345.353 L707.838 345.353 L707.838 328.894 L695.616 310.793 Z\" fill=\"#000000\" fill-rule=\"evenodd\" fill-opacity=\"1\" /><polyline clip-path=\"url(#clip230)\" style=\"stroke:#c271d2; stroke-linecap:butt; stroke-linejoin:round; stroke-width:4; stroke-opacity:1; fill:none\" points=\"\n",
       "  382.554,379.913 603.731,379.913 \n",
       "  \"/>\n",
       "<path clip-path=\"url(#clip230)\" d=\"M646.218 393.257 L662.538 393.257 L662.538 397.193 L640.593 397.193 L640.593 393.257 Q643.256 390.503 647.839 385.873 Q652.445 381.221 653.626 379.878 Q655.871 377.355 656.751 375.619 Q657.654 373.859 657.654 372.17 Q657.654 369.415 655.709 367.679 Q653.788 365.943 650.686 365.943 Q648.487 365.943 646.033 366.707 Q643.603 367.471 640.825 369.022 L640.825 364.299 Q643.649 363.165 646.103 362.586 Q648.556 362.008 650.593 362.008 Q655.964 362.008 659.158 364.693 Q662.353 367.378 662.353 371.869 Q662.353 373.998 661.542 375.92 Q660.755 377.818 658.649 380.41 Q658.07 381.082 654.968 384.299 Q651.867 387.494 646.218 393.257 Z\" fill=\"#000000\" fill-rule=\"evenodd\" fill-opacity=\"1\" /><path clip-path=\"url(#clip230)\" d=\"M682.353 365.711 Q678.741 365.711 676.913 369.276 Q675.107 372.818 675.107 379.947 Q675.107 387.054 676.913 390.619 Q678.741 394.16 682.353 394.16 Q685.987 394.16 687.792 390.619 Q689.621 387.054 689.621 379.947 Q689.621 372.818 687.792 369.276 Q685.987 365.711 682.353 365.711 M682.353 362.008 Q688.163 362.008 691.218 366.614 Q694.297 371.197 694.297 379.947 Q694.297 388.674 691.218 393.281 Q688.163 397.864 682.353 397.864 Q676.542 397.864 673.464 393.281 Q670.408 388.674 670.408 379.947 Q670.408 371.197 673.464 366.614 Q676.542 362.008 682.353 362.008 Z\" fill=\"#000000\" fill-rule=\"evenodd\" fill-opacity=\"1\" /><path clip-path=\"url(#clip230)\" d=\"M697.352 362.633 L702.376 362.633 L711.959 376.846 L721.473 362.633 L726.496 362.633 L714.274 380.734 L714.274 397.193 L709.575 397.193 L709.575 380.734 L697.352 362.633 Z\" fill=\"#000000\" fill-rule=\"evenodd\" fill-opacity=\"1\" /><polyline clip-path=\"url(#clip230)\" style=\"stroke:#ac8d18; stroke-linecap:butt; stroke-linejoin:round; stroke-width:4; stroke-opacity:1; fill:none\" points=\"\n",
       "  382.554,431.753 603.731,431.753 \n",
       "  \"/>\n",
       "<path clip-path=\"url(#clip230)\" d=\"M656.218 430.398 Q659.575 431.116 661.45 433.385 Q663.348 435.653 663.348 438.986 Q663.348 444.102 659.829 446.903 Q656.311 449.704 649.83 449.704 Q647.654 449.704 645.339 449.264 Q643.047 448.847 640.593 447.991 L640.593 443.477 Q642.538 444.611 644.853 445.19 Q647.168 445.769 649.691 445.769 Q654.089 445.769 656.38 444.033 Q658.695 442.297 658.695 438.986 Q658.695 435.931 656.542 434.218 Q654.413 432.482 650.593 432.482 L646.566 432.482 L646.566 428.639 L650.779 428.639 Q654.228 428.639 656.056 427.274 Q657.885 425.885 657.885 423.292 Q657.885 420.63 655.987 419.218 Q654.112 417.783 650.593 417.783 Q648.672 417.783 646.473 418.199 Q644.274 418.616 641.635 419.496 L641.635 415.329 Q644.297 414.588 646.612 414.218 Q648.95 413.848 651.01 413.848 Q656.334 413.848 659.436 416.278 Q662.538 418.686 662.538 422.806 Q662.538 425.676 660.894 427.667 Q659.251 429.635 656.218 430.398 Z\" fill=\"#000000\" fill-rule=\"evenodd\" fill-opacity=\"1\" /><path clip-path=\"url(#clip230)\" d=\"M682.214 417.551 Q678.603 417.551 676.774 421.116 Q674.968 424.658 674.968 431.787 Q674.968 438.894 676.774 442.459 Q678.603 446 682.214 446 Q685.848 446 687.653 442.459 Q689.482 438.894 689.482 431.787 Q689.482 424.658 687.653 421.116 Q685.848 417.551 682.214 417.551 M682.214 413.848 Q688.024 413.848 691.079 418.454 Q694.158 423.037 694.158 431.787 Q694.158 440.514 691.079 445.121 Q688.024 449.704 682.214 449.704 Q676.403 449.704 673.325 445.121 Q670.269 440.514 670.269 431.787 Q670.269 423.037 673.325 418.454 Q676.403 413.848 682.214 413.848 Z\" fill=\"#000000\" fill-rule=\"evenodd\" fill-opacity=\"1\" /><path clip-path=\"url(#clip230)\" d=\"M697.214 414.473 L702.237 414.473 L711.82 428.686 L721.334 414.473 L726.357 414.473 L714.135 432.574 L714.135 449.033 L709.436 449.033 L709.436 432.574 L697.214 414.473 Z\" fill=\"#000000\" fill-rule=\"evenodd\" fill-opacity=\"1\" /></svg>\n"
      ]
     },
     "execution_count": 4,
     "metadata": {},
     "output_type": "execute_result"
    }
   ],
   "source": [
    "s_diff = diff(log.(Matrix(s_train)), dims = 1); lb = [\"5Y\", \"7Y\", \"10Y\", \"20Y\", \"30Y\"]\n",
    "h4(s_diff, \"First-Differences\", 1, 5, lb)"
   ]
  },
  {
   "cell_type": "markdown",
   "id": "controlled-surveillance",
   "metadata": {},
   "source": [
    "It seems to be more \"stationary\", so there is at least one order of differencing in the series."
   ]
  },
  {
   "cell_type": "markdown",
   "id": "center-joint",
   "metadata": {},
   "source": [
    "### Running Augmented Dickey-Fuller (ADF) Test to $\\text{Confirm}^*$ Stationarity"
   ]
  },
  {
   "cell_type": "markdown",
   "id": "wrong-bobby",
   "metadata": {},
   "source": [
    "**Some clarifications**: the following models are on log-transformed first-differences, not the original data. The first-differences may be, e.g., a white noise series, and the original data could be a series based on a log-normal or Cauchy variable, which is why a data-driven approach to modeling is more precise, to let the data speak for itself, after removing non-stationarity and thereby, determining the differencing order of the series."
   ]
  },
  {
   "cell_type": "markdown",
   "id": "unauthorized-wyoming",
   "metadata": {},
   "source": [
    "Here, I am testing for unit root, thereby confirming$^*$ that the differenced time series is either stationary or trend-stationary. If there is no unit root ($H_0$), the time series would be a random walk\n",
    "\n",
    "$$\n",
    "    H_0: \\hat{Y_t} = \\mu + \\beta_t + \\phi Y_{t - 1} + \\epsilon_t\n",
    "$$\n",
    "\n",
    "for $\\phi \\neq 0$, where the constant term, $\\mu$ (not always zero), is depicted for completion of the formula, as well as the error term, $\\epsilon_t$."
   ]
  },
  {
   "cell_type": "markdown",
   "id": "coupled-sigma",
   "metadata": {},
   "source": [
    "$^*$under the $5\\%$ confidence level"
   ]
  },
  {
   "cell_type": "markdown",
   "id": "opponent-shelf",
   "metadata": {},
   "source": [
    "I then test for $H_0$, that there is no unit root, against $H_a$, that there is a unit-root present and the time series is neither stationary nor trend stationary (indicating that there is no regression to the mean). There are many nonstationary models, some involving an $\\text{AR}$ term, others an $\\text{MA}$ term and some a combination of both. Some models are volatility models, like $\\text{GARCH}$; I will be modeling volatility in `Treas TS Analysis II`.\n",
    "\n",
    "Also, for completion of the formula, $\\beta_t$ is introduced, but with no linear trend in the data, by $\\textit{modus ponendo ponens}$, I have that\n",
    "\n",
    "$$\n",
    "    \\beta_t = 0\\ \\forall t \\rightarrow H_0 : \\hat{Y_t} = \\mu + \\phi Y_{t-1} + \\epsilon_t \\\\\n",
    "    \\beta_t = 0\\ \\forall t \\\\\n",
    "    \\therefore H_0 : \\hat{Y_t} = \\mu + \\phi Y_{t-1} + \\epsilon_t\n",
    "$$\n",
    "\n",
    "The constant term, $\\mu$, can be replaced with $\\mu = 0$, further simplifying the model to $H_0 : \\hat{Y_t} = \\phi Y_{t-1} + \\epsilon_t$, but what if $\\mu \\neq 0$? I will be investigating the constant term in `Treas TS Analysis III`.\n",
    "\n",
    "If the $\\text{ADF}$ test on first-differences results in stationarity, I would succeed. Otherwise, I would need to difference again, taking another $\\text{ADF}$ test, and repeating for as along as there is nonstationarity left in the model. The end result would be that I can model a time series for $\\text{ARIMA}(p, d, q)$, as in the precedure illustrated below.\n",
    "\n",
    "$$\n",
    "    \\text{let}\\ W_t = Y_t - Y_{t - 1} \\\\~\\\\\n",
    "    \\therefore \\forall t:\n",
    "    W_t = \\mu + \\overbrace{\\phi_1 W_{t -1} + \\phi_2 W_{t - 2} + \\cdots + \\phi_p W_{t - p}}^{\\text{lagged W values}} + \\epsilon_t - \\underbrace{\\theta_1 \\epsilon_{t - 1} - \\theta_2 \\epsilon_{t - 2} - \\cdots - \\theta_q \\epsilon_{t - q}}_{\\text{lagged error terms}} \\quad \\forall \\phi \\in (-1, 1), \\quad \\forall \\theta \\in [-1, 1] \\quad \\backslash 0\n",
    "$$\n",
    "\n",
    "where $\\epsilon_t \\sim \\mathcal{N}(\\mu_\\epsilon, \\sigma^2_\\epsilon)$ is an error term, and $\\theta \\in [-1, 1]$, for invertibility of the lagged errors. Taking a lag of $k = \\lfloor(n - 1)^{(1 \\ / \\ m)}\\rfloor$, where $m = 3$ and $n$ is the number of time periods for the univariate regressor, I then have"
   ]
  },
  {
   "cell_type": "code",
   "execution_count": 5,
   "id": "crucial-geometry",
   "metadata": {},
   "outputs": [
    {
     "data": {
      "text/plain": [
       "5-element Array{ADFTest,1}:\n",
       " Augmented Dickey-Fuller unit root test\n",
       "--------------------------------------\n",
       "Population details:\n",
       "    parameter of interest:   coefficient on lagged non-differenced variable\n",
       "    value under h_0:         0\n",
       "    point estimate:          -0.962209\n",
       "\n",
       "Test summary:\n",
       "    outcome with 95% confidence: reject h_0\n",
       "    p-value:                     <1e-4\n",
       "\n",
       "Details:\n",
       "    sample size in regression:          238\n",
       "    number of lags:                     10\n",
       "    ADF statistic:                      -4.72816\n",
       "    Critical values at 1%, 5%, and 10%: [-3.45689 -2.87322 -2.57299]\n",
       "\n",
       " Augmented Dickey-Fuller unit root test\n",
       "--------------------------------------\n",
       "Population details:\n",
       "    parameter of interest:   coefficient on lagged non-differenced variable\n",
       "    value under h_0:         0\n",
       "    point estimate:          -1.06036\n",
       "\n",
       "Test summary:\n",
       "    outcome with 95% confidence: reject h_0\n",
       "    p-value:                     <1e-4\n",
       "\n",
       "Details:\n",
       "    sample size in regression:          238\n",
       "    number of lags:                     10\n",
       "    ADF statistic:                      -4.85277\n",
       "    Critical values at 1%, 5%, and 10%: [-3.45689 -2.87322 -2.57299]\n",
       "\n",
       " Augmented Dickey-Fuller unit root test\n",
       "--------------------------------------\n",
       "Population details:\n",
       "    parameter of interest:   coefficient on lagged non-differenced variable\n",
       "    value under h_0:         0\n",
       "    point estimate:          -0.996898\n",
       "\n",
       "Test summary:\n",
       "    outcome with 95% confidence: reject h_0\n",
       "    p-value:                     0.0001\n",
       "\n",
       "Details:\n",
       "    sample size in regression:          238\n",
       "    number of lags:                     10\n",
       "    ADF statistic:                      -4.65922\n",
       "    Critical values at 1%, 5%, and 10%: [-3.45689 -2.87322 -2.57299]\n",
       "\n",
       " Augmented Dickey-Fuller unit root test\n",
       "--------------------------------------\n",
       "Population details:\n",
       "    parameter of interest:   coefficient on lagged non-differenced variable\n",
       "    value under h_0:         0\n",
       "    point estimate:          -1.04369\n",
       "\n",
       "Test summary:\n",
       "    outcome with 95% confidence: reject h_0\n",
       "    p-value:                     <1e-4\n",
       "\n",
       "Details:\n",
       "    sample size in regression:          238\n",
       "    number of lags:                     10\n",
       "    ADF statistic:                      -4.7337\n",
       "    Critical values at 1%, 5%, and 10%: [-3.45689 -2.87322 -2.57299]\n",
       "\n",
       " Augmented Dickey-Fuller unit root test\n",
       "--------------------------------------\n",
       "Population details:\n",
       "    parameter of interest:   coefficient on lagged non-differenced variable\n",
       "    value under h_0:         0\n",
       "    point estimate:          -1.0104\n",
       "\n",
       "Test summary:\n",
       "    outcome with 95% confidence: reject h_0\n",
       "    p-value:                     0.0001\n",
       "\n",
       "Details:\n",
       "    sample size in regression:          238\n",
       "    number of lags:                     10\n",
       "    ADF statistic:                      -4.59076\n",
       "    Critical values at 1%, 5%, and 10%: [-3.45689 -2.87322 -2.57299]\n"
      ]
     },
     "execution_count": 5,
     "metadata": {},
     "output_type": "execute_result"
    }
   ],
   "source": [
    "using HypothesisTests\n",
    "\n",
    "Y = s_diff\n",
    "m = 3\n",
    "[ADFTest(Y[:, C], Symbol(\"constant\"), trunc(Int, (length(Y)-1)^(1/m))) for C in 1:5]"
   ]
  },
  {
   "cell_type": "markdown",
   "id": "prostate-roller",
   "metadata": {},
   "source": [
    "This results in acceptance of the $H_0$ hypothesis for all tests, which means that there is no unit root for the first-differences of the inflation rates. This means that there is stationarity in the data, since there is no $\\beta$ defining a linear trend in the series (i.e., not a trend-stationary time series), which means that the differencing order $d = 1$. I will now evaluate how \"normal\" the time series are distributed, at the $5\\%$ confidence level ($\\alpha = 5\\%$), using the Jarque-Bera test."
   ]
  },
  {
   "cell_type": "markdown",
   "id": "inside-accuracy",
   "metadata": {},
   "source": [
    "### Running Jarque-Bera Lagrange Multiplier Test to Evaluate Normality and Further Notes on Log-Transformed First-Differences"
   ]
  },
  {
   "cell_type": "markdown",
   "id": "beginning-cycling",
   "metadata": {},
   "source": [
    "When I first tackled this section, I thought I was unable to perform log-normal transformation on the $7$ and $10$ year real CMT rates, since five (5) of the real yield curve rate entries are $< 0$ for the $7$ year and nine (9) of the entries are $< 0$ for the $10$ year, but then I looked at it again, and I was taking logarithms for the original data (nominal and real CMT values) and not the inflation rates themselves.\n",
    "\n",
    "In addition, I must keep in mind that there is a difference between a normal and log-normal series distribution. A series could be normally distributed but not log-normally distributed. A series that is log-normally distributed is normally distributed **in its logarithm**.\n",
    "\n",
    "If I want to find out if a series that is normally distributed **in its random variable** (each stochastic process involves a random variable) is also normally distributed **in its logarithm**, I would need to perform a **J-B test** on the log-variable in question (or series determined by such log-variable), prior to differencing the logirthm of inflation rates in the yield curve.\n",
    "\n",
    "$\\therefore$\n",
    "\n",
    "Following the equation\n",
    "\n",
    "$\\log{(B)} - \\log{(A)} = \\log{\\left(\\frac{B}{A}\\right)}$\n",
    "\n",
    "NOT\n",
    "\n",
    "$\\log({B}) - \\log({A}) \\neq \\log{(B - A)} = \\log{(C)}, \\quad \\text{where}\\ C = B - A$\n",
    "\n",
    "I would first need to make sure that the logarithm of each inflation rate is nonnegative and then take first-differences (finding negative nominal or real values has nothing to do with the process at hand, provided that the inflation rates are nonnegative), which is why"
   ]
  },
  {
   "cell_type": "code",
   "execution_count": 6,
   "id": "champion-border",
   "metadata": {},
   "outputs": [
    {
     "data": {
      "text/plain": [
       "5-element Array{Int64,1}:\n",
       " 0\n",
       " 0\n",
       " 0\n",
       " 0\n",
       " 0"
      ]
     },
     "execution_count": 6,
     "metadata": {},
     "output_type": "execute_result"
    }
   ],
   "source": [
    "h5(tnf)"
   ]
  },
  {
   "cell_type": "markdown",
   "id": "intelligent-heath",
   "metadata": {},
   "source": [
    "which means that none of the inflation rates are negative. Furthermore,"
   ]
  },
  {
   "cell_type": "code",
   "execution_count": 7,
   "id": "streaming-underwear",
   "metadata": {},
   "outputs": [
    {
     "data": {
      "text/plain": [
       "5-element Array{JarqueBeraTest,1}:\n",
       " Jarque-Bera normality test\n",
       "--------------------------\n",
       "Population details:\n",
       "    parameter of interest:   skewness and kurtosis\n",
       "    value under h_0:         \"0 and 3\"\n",
       "    point estimate:          \"0.7809526905326842 and 8.206064961211712\"\n",
       "\n",
       "Test summary:\n",
       "    outcome with 95% confidence: reject h_0\n",
       "    one-sided p-value:           <1e-66\n",
       "\n",
       "Details:\n",
       "    number of observations:         249\n",
       "    JB statistic:                   306.505\n",
       "\n",
       " Jarque-Bera normality test\n",
       "--------------------------\n",
       "Population details:\n",
       "    parameter of interest:   skewness and kurtosis\n",
       "    value under h_0:         \"0 and 3\"\n",
       "    point estimate:          \"0.18512014963204018 and 4.496290813804878\"\n",
       "\n",
       "Test summary:\n",
       "    outcome with 95% confidence: reject h_0\n",
       "    one-sided p-value:           <1e-5\n",
       "\n",
       "Details:\n",
       "    number of observations:         249\n",
       "    JB statistic:                   24.6506\n",
       "\n",
       " Jarque-Bera normality test\n",
       "--------------------------\n",
       "Population details:\n",
       "    parameter of interest:   skewness and kurtosis\n",
       "    value under h_0:         \"0 and 3\"\n",
       "    point estimate:          \"-0.14066000055694367 and 3.29181263056405\"\n",
       "\n",
       "Test summary:\n",
       "    outcome with 95% confidence: fail to reject h_0\n",
       "    one-sided p-value:           0.4264\n",
       "\n",
       "Details:\n",
       "    number of observations:         249\n",
       "    JB statistic:                   1.70457\n",
       "\n",
       " Jarque-Bera normality test\n",
       "--------------------------\n",
       "Population details:\n",
       "    parameter of interest:   skewness and kurtosis\n",
       "    value under h_0:         \"0 and 3\"\n",
       "    point estimate:          \"-0.2856280242447929 and 4.166176781786544\"\n",
       "\n",
       "Test summary:\n",
       "    outcome with 95% confidence: reject h_0\n",
       "    one-sided p-value:           0.0002\n",
       "\n",
       "Details:\n",
       "    number of observations:         249\n",
       "    JB statistic:                   17.4954\n",
       "\n",
       " Jarque-Bera normality test\n",
       "--------------------------\n",
       "Population details:\n",
       "    parameter of interest:   skewness and kurtosis\n",
       "    value under h_0:         \"0 and 3\"\n",
       "    point estimate:          \"-0.01848350934429429 and 4.139595168565125\"\n",
       "\n",
       "Test summary:\n",
       "    outcome with 95% confidence: reject h_0\n",
       "    one-sided p-value:           0.0012\n",
       "\n",
       "Details:\n",
       "    number of observations:         249\n",
       "    JB statistic:                   13.488\n"
      ]
     },
     "execution_count": 7,
     "metadata": {},
     "output_type": "execute_result"
    }
   ],
   "source": [
    "Y = s_diff\n",
    "[JarqueBeraTest(Y[:, C]) for C in 1:5]"
   ]
  },
  {
   "cell_type": "markdown",
   "id": "regular-sessions",
   "metadata": {},
   "source": [
    "**Note:** As of $18$ Jan $2022$, the above error is no longer relevant, since I moved all the analysis on the original `tux` and `tuy` dataframes to `Exploratory Analysis`."
   ]
  },
  {
   "cell_type": "markdown",
   "id": "legitimate-gnome",
   "metadata": {},
   "source": [
    "$\\therefore$\n",
    "\n",
    "Log-transformed first-differences for Year (10) bond CMT inflation are normally distributed. Rejecting at the $5\\%$ confidence level, the $5$, $7$, $20$ and $30$ year inflation series have skewness and excess kurtosis greater than zero (0) (and no unit root at the $5\\%$ level for $2019$ as per the ADF test results).\n",
    "\n",
    "I can confortably reject $H_0$ for all inflation rates, except the $10$Y bond, establishing that these series are not normal in their logarithm or log-normal for any predictive model that can be built based on these test results, with $95\\%$ confidence. The $10$Y bond is log-normal for fiscal year $2019$, however.\n",
    "\n",
    "Regardless, it is best practice to use the first-differences of log transformations for Treasury securities with maturities $C \\in \\{5, 7, 10, 20, 30\\}$ years, due to the $\\text{AIC}$ condition mentioned earlier."
   ]
  },
  {
   "cell_type": "markdown",
   "id": "adopted-bridal",
   "metadata": {},
   "source": [
    "## Plotting ACF and PACF $+$ Akiake Information Criterion (AIC) Statespace Modeling"
   ]
  },
  {
   "cell_type": "markdown",
   "id": "lasting-perth",
   "metadata": {},
   "source": [
    "$\n",
    "    W_t = \\mu + \\overbrace{\\phi_1 W_{t -1} + \\phi_2 W_{t - 2} + \\cdots + \\phi_p W_{t - p}}^{\\text{lagged W values}} + \\epsilon_t - \\underbrace{\\theta_1 \\epsilon_{t - 1} - \\theta_2 \\epsilon_{t - 2} - \\cdots - \\theta_q \\epsilon_{t - q}}_{\\text{lagged error terms}} \\quad \\forall \\phi \\in (-1, 1) \\quad \\forall \\theta \\in [-1, 1] \\quad \\backslash 0\n",
    "$"
   ]
  },
  {
   "cell_type": "markdown",
   "id": "sixth-mobile",
   "metadata": {},
   "source": [
    "### ACF & PACF: Selecting the Moving Average (MA) and Autoregressive (AR) Terms"
   ]
  },
  {
   "cell_type": "markdown",
   "id": "convenient-throat",
   "metadata": {},
   "source": [
    "I will now determine the ACF and PACF for the above differenced time series. With a **differencing parameter $d = 1$**, the other two parameters in an $\\text{ARIMA}(p, 1, q)$ model, the **$p$ (lagged Y values)** and the **$q$ (lagged errors)** in the inflation data will be determined subsequently. Two functions come to mind: the autocorrelation function (ACF) and its partial counterpart, the PACF."
   ]
  },
  {
   "cell_type": "code",
   "execution_count": 8,
   "id": "flying-developer",
   "metadata": {
    "tags": []
   },
   "outputs": [
    {
     "data": {
      "image/svg+xml": [
       "<?xml version=\"1.0\" encoding=\"utf-8\"?>\n",
       "<svg xmlns=\"http://www.w3.org/2000/svg\" xmlns:xlink=\"http://www.w3.org/1999/xlink\" width=\"900\" height=\"500\" viewBox=\"0 0 3600 2000\">\n",
       "<defs>\n",
       "  <clipPath id=\"clip270\">\n",
       "    <rect x=\"0\" y=\"0\" width=\"3600\" height=\"2000\"/>\n",
       "  </clipPath>\n",
       "</defs>\n",
       "<path clip-path=\"url(#clip270)\" d=\"\n",
       "M0 2000 L3600 2000 L3600 0 L0 0  Z\n",
       "  \" fill=\"#ffffff\" fill-rule=\"evenodd\" fill-opacity=\"1\"/>\n",
       "<defs>\n",
       "  <clipPath id=\"clip271\">\n",
       "    <rect x=\"720\" y=\"0\" width=\"2521\" height=\"2000\"/>\n",
       "  </clipPath>\n",
       "</defs>\n",
       "<path clip-path=\"url(#clip270)\" d=\"\n",
       "M235.103 888.208 L3552.76 888.208 L3552.76 113.392 L235.103 113.392  Z\n",
       "  \" fill=\"#ffffff\" fill-rule=\"evenodd\" fill-opacity=\"1\"/>\n",
       "<defs>\n",
       "  <clipPath id=\"clip272\">\n",
       "    <rect x=\"235\" y=\"113\" width=\"3319\" height=\"776\"/>\n",
       "  </clipPath>\n",
       "</defs>\n",
       "<polyline clip-path=\"url(#clip272)\" style=\"stroke:#000000; stroke-linecap:butt; stroke-linejoin:round; stroke-width:2; stroke-opacity:0.1; fill:none\" points=\"\n",
       "  987.917,888.208 987.917,113.392 \n",
       "  \"/>\n",
       "<polyline clip-path=\"url(#clip272)\" style=\"stroke:#000000; stroke-linecap:butt; stroke-linejoin:round; stroke-width:2; stroke-opacity:0.1; fill:none\" points=\"\n",
       "  1811.56,888.208 1811.56,113.392 \n",
       "  \"/>\n",
       "<polyline clip-path=\"url(#clip272)\" style=\"stroke:#000000; stroke-linecap:butt; stroke-linejoin:round; stroke-width:2; stroke-opacity:0.1; fill:none\" points=\"\n",
       "  2635.21,888.208 2635.21,113.392 \n",
       "  \"/>\n",
       "<polyline clip-path=\"url(#clip272)\" style=\"stroke:#000000; stroke-linecap:butt; stroke-linejoin:round; stroke-width:2; stroke-opacity:0.1; fill:none\" points=\"\n",
       "  3458.86,888.208 3458.86,113.392 \n",
       "  \"/>\n",
       "<polyline clip-path=\"url(#clip270)\" style=\"stroke:#000000; stroke-linecap:butt; stroke-linejoin:round; stroke-width:4; stroke-opacity:1; fill:none\" points=\"\n",
       "  235.103,888.208 3552.76,888.208 \n",
       "  \"/>\n",
       "<polyline clip-path=\"url(#clip270)\" style=\"stroke:#000000; stroke-linecap:butt; stroke-linejoin:round; stroke-width:4; stroke-opacity:1; fill:none\" points=\"\n",
       "  987.917,888.208 987.917,869.31 \n",
       "  \"/>\n",
       "<polyline clip-path=\"url(#clip270)\" style=\"stroke:#000000; stroke-linecap:butt; stroke-linejoin:round; stroke-width:4; stroke-opacity:1; fill:none\" points=\"\n",
       "  1811.56,888.208 1811.56,869.31 \n",
       "  \"/>\n",
       "<polyline clip-path=\"url(#clip270)\" style=\"stroke:#000000; stroke-linecap:butt; stroke-linejoin:round; stroke-width:4; stroke-opacity:1; fill:none\" points=\"\n",
       "  2635.21,888.208 2635.21,869.31 \n",
       "  \"/>\n",
       "<polyline clip-path=\"url(#clip270)\" style=\"stroke:#000000; stroke-linecap:butt; stroke-linejoin:round; stroke-width:4; stroke-opacity:1; fill:none\" points=\"\n",
       "  3458.86,888.208 3458.86,869.31 \n",
       "  \"/>\n",
       "<path clip-path=\"url(#clip270)\" d=\"M978.194 923.92 L996.551 923.92 L996.551 927.855 L982.477 927.855 L982.477 936.327 Q983.495 935.98 984.514 935.818 Q985.532 935.633 986.551 935.633 Q992.338 935.633 995.717 938.804 Q999.097 941.975 999.097 947.392 Q999.097 952.971 995.625 956.072 Q992.153 959.151 985.833 959.151 Q983.657 959.151 981.389 958.781 Q979.144 958.41 976.736 957.67 L976.736 952.971 Q978.819 954.105 981.042 954.66 Q983.264 955.216 985.741 955.216 Q989.745 955.216 992.083 953.11 Q994.421 951.003 994.421 947.392 Q994.421 943.781 992.083 941.674 Q989.745 939.568 985.741 939.568 Q983.866 939.568 981.991 939.985 Q980.139 940.401 978.194 941.281 L978.194 923.92 Z\" fill=\"#000000\" fill-rule=\"evenodd\" fill-opacity=\"1\" /><path clip-path=\"url(#clip270)\" d=\"M1786.25 954.545 L1793.89 954.545 L1793.89 928.179 L1785.58 929.846 L1785.58 925.587 L1793.84 923.92 L1798.52 923.92 L1798.52 954.545 L1806.16 954.545 L1806.16 958.48 L1786.25 958.48 L1786.25 954.545 Z\" fill=\"#000000\" fill-rule=\"evenodd\" fill-opacity=\"1\" /><path clip-path=\"url(#clip270)\" d=\"M1825.6 926.999 Q1821.99 926.999 1820.16 930.563 Q1818.36 934.105 1818.36 941.235 Q1818.36 948.341 1820.16 951.906 Q1821.99 955.447 1825.6 955.447 Q1829.24 955.447 1831.04 951.906 Q1832.87 948.341 1832.87 941.235 Q1832.87 934.105 1831.04 930.563 Q1829.24 926.999 1825.6 926.999 M1825.6 923.295 Q1831.41 923.295 1834.47 927.901 Q1837.55 932.485 1837.55 941.235 Q1837.55 949.961 1834.47 954.568 Q1831.41 959.151 1825.6 959.151 Q1819.79 959.151 1816.71 954.568 Q1813.66 949.961 1813.66 941.235 Q1813.66 932.485 1816.71 927.901 Q1819.79 923.295 1825.6 923.295 Z\" fill=\"#000000\" fill-rule=\"evenodd\" fill-opacity=\"1\" /><path clip-path=\"url(#clip270)\" d=\"M2610.4 954.545 L2618.04 954.545 L2618.04 928.179 L2609.73 929.846 L2609.73 925.587 L2617.99 923.92 L2622.67 923.92 L2622.67 954.545 L2630.3 954.545 L2630.3 958.48 L2610.4 958.48 L2610.4 954.545 Z\" fill=\"#000000\" fill-rule=\"evenodd\" fill-opacity=\"1\" /><path clip-path=\"url(#clip270)\" d=\"M2639.8 923.92 L2658.15 923.92 L2658.15 927.855 L2644.08 927.855 L2644.08 936.327 Q2645.1 935.98 2646.11 935.818 Q2647.13 935.633 2648.15 935.633 Q2653.94 935.633 2657.32 938.804 Q2660.7 941.975 2660.7 947.392 Q2660.7 952.971 2657.23 956.072 Q2653.75 959.151 2647.43 959.151 Q2645.26 959.151 2642.99 958.781 Q2640.74 958.41 2638.34 957.67 L2638.34 952.971 Q2640.42 954.105 2642.64 954.66 Q2644.86 955.216 2647.34 955.216 Q2651.35 955.216 2653.68 953.11 Q2656.02 951.003 2656.02 947.392 Q2656.02 943.781 2653.68 941.674 Q2651.35 939.568 2647.34 939.568 Q2645.47 939.568 2643.59 939.985 Q2641.74 940.401 2639.8 941.281 L2639.8 923.92 Z\" fill=\"#000000\" fill-rule=\"evenodd\" fill-opacity=\"1\" /><path clip-path=\"url(#clip270)\" d=\"M3437.63 954.545 L3453.95 954.545 L3453.95 958.48 L3432.01 958.48 L3432.01 954.545 Q3434.67 951.79 3439.25 947.16 Q3443.86 942.508 3445.04 941.165 Q3447.29 938.642 3448.17 936.906 Q3449.07 935.147 3449.07 933.457 Q3449.07 930.702 3447.12 928.966 Q3445.2 927.23 3442.1 927.23 Q3439.9 927.23 3437.45 927.994 Q3435.02 928.758 3432.24 930.309 L3432.24 925.587 Q3435.06 924.452 3437.52 923.874 Q3439.97 923.295 3442.01 923.295 Q3447.38 923.295 3450.57 925.98 Q3453.77 928.665 3453.77 933.156 Q3453.77 935.286 3452.96 937.207 Q3452.17 939.105 3450.06 941.698 Q3449.49 942.369 3446.38 945.586 Q3443.28 948.781 3437.63 954.545 Z\" fill=\"#000000\" fill-rule=\"evenodd\" fill-opacity=\"1\" /><path clip-path=\"url(#clip270)\" d=\"M3473.77 926.999 Q3470.16 926.999 3468.33 930.563 Q3466.52 934.105 3466.52 941.235 Q3466.52 948.341 3468.33 951.906 Q3470.16 955.447 3473.77 955.447 Q3477.4 955.447 3479.21 951.906 Q3481.04 948.341 3481.04 941.235 Q3481.04 934.105 3479.21 930.563 Q3477.4 926.999 3473.77 926.999 M3473.77 923.295 Q3479.58 923.295 3482.63 927.901 Q3485.71 932.485 3485.71 941.235 Q3485.71 949.961 3482.63 954.568 Q3479.58 959.151 3473.77 959.151 Q3467.96 959.151 3464.88 954.568 Q3461.82 949.961 3461.82 941.235 Q3461.82 932.485 3464.88 927.901 Q3467.96 923.295 3473.77 923.295 Z\" fill=\"#000000\" fill-rule=\"evenodd\" fill-opacity=\"1\" /><polyline clip-path=\"url(#clip272)\" style=\"stroke:#000000; stroke-linecap:butt; stroke-linejoin:round; stroke-width:2; stroke-opacity:0.1; fill:none\" points=\"\n",
       "  235.103,746.051 3552.76,746.051 \n",
       "  \"/>\n",
       "<polyline clip-path=\"url(#clip272)\" style=\"stroke:#000000; stroke-linecap:butt; stroke-linejoin:round; stroke-width:2; stroke-opacity:0.1; fill:none\" points=\"\n",
       "  235.103,565.083 3552.76,565.083 \n",
       "  \"/>\n",
       "<polyline clip-path=\"url(#clip272)\" style=\"stroke:#000000; stroke-linecap:butt; stroke-linejoin:round; stroke-width:2; stroke-opacity:0.1; fill:none\" points=\"\n",
       "  235.103,384.115 3552.76,384.115 \n",
       "  \"/>\n",
       "<polyline clip-path=\"url(#clip272)\" style=\"stroke:#000000; stroke-linecap:butt; stroke-linejoin:round; stroke-width:2; stroke-opacity:0.1; fill:none\" points=\"\n",
       "  235.103,203.148 3552.76,203.148 \n",
       "  \"/>\n",
       "<polyline clip-path=\"url(#clip270)\" style=\"stroke:#000000; stroke-linecap:butt; stroke-linejoin:round; stroke-width:4; stroke-opacity:1; fill:none\" points=\"\n",
       "  235.103,888.208 235.103,113.392 \n",
       "  \"/>\n",
       "<polyline clip-path=\"url(#clip270)\" style=\"stroke:#000000; stroke-linecap:butt; stroke-linejoin:round; stroke-width:4; stroke-opacity:1; fill:none\" points=\"\n",
       "  235.103,746.051 254,746.051 \n",
       "  \"/>\n",
       "<polyline clip-path=\"url(#clip270)\" style=\"stroke:#000000; stroke-linecap:butt; stroke-linejoin:round; stroke-width:4; stroke-opacity:1; fill:none\" points=\"\n",
       "  235.103,565.083 254,565.083 \n",
       "  \"/>\n",
       "<polyline clip-path=\"url(#clip270)\" style=\"stroke:#000000; stroke-linecap:butt; stroke-linejoin:round; stroke-width:4; stroke-opacity:1; fill:none\" points=\"\n",
       "  235.103,384.115 254,384.115 \n",
       "  \"/>\n",
       "<polyline clip-path=\"url(#clip270)\" style=\"stroke:#000000; stroke-linecap:butt; stroke-linejoin:round; stroke-width:4; stroke-opacity:1; fill:none\" points=\"\n",
       "  235.103,203.148 254,203.148 \n",
       "  \"/>\n",
       "<path clip-path=\"url(#clip270)\" d=\"M44.9921 746.503 L74.6679 746.503 L74.6679 750.438 L44.9921 750.438 L44.9921 746.503 Z\" fill=\"#000000\" fill-rule=\"evenodd\" fill-opacity=\"1\" /><path clip-path=\"url(#clip270)\" d=\"M94.7604 731.85 Q91.1493 731.85 89.3206 735.415 Q87.515 738.956 87.515 746.086 Q87.515 753.192 89.3206 756.757 Q91.1493 760.299 94.7604 760.299 Q98.3946 760.299 100.2 756.757 Q102.029 753.192 102.029 746.086 Q102.029 738.956 100.2 735.415 Q98.3946 731.85 94.7604 731.85 M94.7604 728.146 Q100.571 728.146 103.626 732.753 Q106.705 737.336 106.705 746.086 Q106.705 754.813 103.626 759.419 Q100.571 764.002 94.7604 764.002 Q88.9502 764.002 85.8715 759.419 Q82.816 754.813 82.816 746.086 Q82.816 737.336 85.8715 732.753 Q88.9502 728.146 94.7604 728.146 Z\" fill=\"#000000\" fill-rule=\"evenodd\" fill-opacity=\"1\" /><path clip-path=\"url(#clip270)\" d=\"M114.922 757.452 L119.807 757.452 L119.807 763.331 L114.922 763.331 L114.922 757.452 Z\" fill=\"#000000\" fill-rule=\"evenodd\" fill-opacity=\"1\" /><path clip-path=\"url(#clip270)\" d=\"M139.992 731.85 Q136.381 731.85 134.552 735.415 Q132.746 738.956 132.746 746.086 Q132.746 753.192 134.552 756.757 Q136.381 760.299 139.992 760.299 Q143.626 760.299 145.431 756.757 Q147.26 753.192 147.26 746.086 Q147.26 738.956 145.431 735.415 Q143.626 731.85 139.992 731.85 M139.992 728.146 Q145.802 728.146 148.857 732.753 Q151.936 737.336 151.936 746.086 Q151.936 754.813 148.857 759.419 Q145.802 764.002 139.992 764.002 Q134.181 764.002 131.103 759.419 Q128.047 754.813 128.047 746.086 Q128.047 737.336 131.103 732.753 Q134.181 728.146 139.992 728.146 Z\" fill=\"#000000\" fill-rule=\"evenodd\" fill-opacity=\"1\" /><path clip-path=\"url(#clip270)\" d=\"M160.2 728.771 L178.556 728.771 L178.556 732.706 L164.482 732.706 L164.482 741.178 Q165.501 740.831 166.519 740.669 Q167.538 740.484 168.556 740.484 Q174.343 740.484 177.723 743.655 Q181.103 746.827 181.103 752.243 Q181.103 757.822 177.63 760.924 Q174.158 764.002 167.839 764.002 Q165.663 764.002 163.394 763.632 Q161.149 763.262 158.742 762.521 L158.742 757.822 Q160.825 758.956 163.047 759.512 Q165.269 760.067 167.746 760.067 Q171.751 760.067 174.089 757.961 Q176.427 755.854 176.427 752.243 Q176.427 748.632 174.089 746.526 Q171.751 744.419 167.746 744.419 Q165.871 744.419 163.996 744.836 Q162.144 745.253 160.2 746.132 L160.2 728.771 Z\" fill=\"#000000\" fill-rule=\"evenodd\" fill-opacity=\"1\" /><path clip-path=\"url(#clip270)\" d=\"M93.765 550.882 Q90.1539 550.882 88.3252 554.447 Q86.5197 557.988 86.5197 565.118 Q86.5197 572.224 88.3252 575.789 Q90.1539 579.331 93.765 579.331 Q97.3993 579.331 99.2048 575.789 Q101.033 572.224 101.033 565.118 Q101.033 557.988 99.2048 554.447 Q97.3993 550.882 93.765 550.882 M93.765 547.178 Q99.5752 547.178 102.631 551.785 Q105.709 556.368 105.709 565.118 Q105.709 573.845 102.631 578.451 Q99.5752 583.035 93.765 583.035 Q87.9549 583.035 84.8762 578.451 Q81.8206 573.845 81.8206 565.118 Q81.8206 556.368 84.8762 551.785 Q87.9549 547.178 93.765 547.178 Z\" fill=\"#000000\" fill-rule=\"evenodd\" fill-opacity=\"1\" /><path clip-path=\"url(#clip270)\" d=\"M113.927 576.484 L118.811 576.484 L118.811 582.363 L113.927 582.363 L113.927 576.484 Z\" fill=\"#000000\" fill-rule=\"evenodd\" fill-opacity=\"1\" /><path clip-path=\"url(#clip270)\" d=\"M138.996 550.882 Q135.385 550.882 133.556 554.447 Q131.751 557.988 131.751 565.118 Q131.751 572.224 133.556 575.789 Q135.385 579.331 138.996 579.331 Q142.63 579.331 144.436 575.789 Q146.265 572.224 146.265 565.118 Q146.265 557.988 144.436 554.447 Q142.63 550.882 138.996 550.882 M138.996 547.178 Q144.806 547.178 147.862 551.785 Q150.941 556.368 150.941 565.118 Q150.941 573.845 147.862 578.451 Q144.806 583.035 138.996 583.035 Q133.186 583.035 130.107 578.451 Q127.052 573.845 127.052 565.118 Q127.052 556.368 130.107 551.785 Q133.186 547.178 138.996 547.178 Z\" fill=\"#000000\" fill-rule=\"evenodd\" fill-opacity=\"1\" /><path clip-path=\"url(#clip270)\" d=\"M169.158 550.882 Q165.547 550.882 163.718 554.447 Q161.913 557.988 161.913 565.118 Q161.913 572.224 163.718 575.789 Q165.547 579.331 169.158 579.331 Q172.792 579.331 174.598 575.789 Q176.427 572.224 176.427 565.118 Q176.427 557.988 174.598 554.447 Q172.792 550.882 169.158 550.882 M169.158 547.178 Q174.968 547.178 178.024 551.785 Q181.103 556.368 181.103 565.118 Q181.103 573.845 178.024 578.451 Q174.968 583.035 169.158 583.035 Q163.348 583.035 160.269 578.451 Q157.214 573.845 157.214 565.118 Q157.214 556.368 160.269 551.785 Q163.348 547.178 169.158 547.178 Z\" fill=\"#000000\" fill-rule=\"evenodd\" fill-opacity=\"1\" /><path clip-path=\"url(#clip270)\" d=\"M94.7604 369.914 Q91.1493 369.914 89.3206 373.479 Q87.515 377.021 87.515 384.15 Q87.515 391.257 89.3206 394.821 Q91.1493 398.363 94.7604 398.363 Q98.3946 398.363 100.2 394.821 Q102.029 391.257 102.029 384.15 Q102.029 377.021 100.2 373.479 Q98.3946 369.914 94.7604 369.914 M94.7604 366.21 Q100.571 366.21 103.626 370.817 Q106.705 375.4 106.705 384.15 Q106.705 392.877 103.626 397.483 Q100.571 402.067 94.7604 402.067 Q88.9502 402.067 85.8715 397.483 Q82.816 392.877 82.816 384.15 Q82.816 375.4 85.8715 370.817 Q88.9502 366.21 94.7604 366.21 Z\" fill=\"#000000\" fill-rule=\"evenodd\" fill-opacity=\"1\" /><path clip-path=\"url(#clip270)\" d=\"M114.922 395.516 L119.807 395.516 L119.807 401.395 L114.922 401.395 L114.922 395.516 Z\" fill=\"#000000\" fill-rule=\"evenodd\" fill-opacity=\"1\" /><path clip-path=\"url(#clip270)\" d=\"M139.992 369.914 Q136.381 369.914 134.552 373.479 Q132.746 377.021 132.746 384.15 Q132.746 391.257 134.552 394.821 Q136.381 398.363 139.992 398.363 Q143.626 398.363 145.431 394.821 Q147.26 391.257 147.26 384.15 Q147.26 377.021 145.431 373.479 Q143.626 369.914 139.992 369.914 M139.992 366.21 Q145.802 366.21 148.857 370.817 Q151.936 375.4 151.936 384.15 Q151.936 392.877 148.857 397.483 Q145.802 402.067 139.992 402.067 Q134.181 402.067 131.103 397.483 Q128.047 392.877 128.047 384.15 Q128.047 375.4 131.103 370.817 Q134.181 366.21 139.992 366.21 Z\" fill=\"#000000\" fill-rule=\"evenodd\" fill-opacity=\"1\" /><path clip-path=\"url(#clip270)\" d=\"M160.2 366.835 L178.556 366.835 L178.556 370.771 L164.482 370.771 L164.482 379.243 Q165.501 378.896 166.519 378.734 Q167.538 378.548 168.556 378.548 Q174.343 378.548 177.723 381.72 Q181.103 384.891 181.103 390.308 Q181.103 395.886 177.63 398.988 Q174.158 402.067 167.839 402.067 Q165.663 402.067 163.394 401.696 Q161.149 401.326 158.742 400.585 L158.742 395.886 Q160.825 397.02 163.047 397.576 Q165.269 398.132 167.746 398.132 Q171.751 398.132 174.089 396.025 Q176.427 393.919 176.427 390.308 Q176.427 386.696 174.089 384.59 Q171.751 382.483 167.746 382.483 Q165.871 382.483 163.996 382.9 Q162.144 383.317 160.2 384.196 L160.2 366.835 Z\" fill=\"#000000\" fill-rule=\"evenodd\" fill-opacity=\"1\" /><path clip-path=\"url(#clip270)\" d=\"M93.765 188.946 Q90.1539 188.946 88.3252 192.511 Q86.5197 196.053 86.5197 203.182 Q86.5197 210.289 88.3252 213.854 Q90.1539 217.395 93.765 217.395 Q97.3993 217.395 99.2048 213.854 Q101.033 210.289 101.033 203.182 Q101.033 196.053 99.2048 192.511 Q97.3993 188.946 93.765 188.946 M93.765 185.243 Q99.5752 185.243 102.631 189.849 Q105.709 194.432 105.709 203.182 Q105.709 211.909 102.631 216.516 Q99.5752 221.099 93.765 221.099 Q87.9549 221.099 84.8762 216.516 Q81.8206 211.909 81.8206 203.182 Q81.8206 194.432 84.8762 189.849 Q87.9549 185.243 93.765 185.243 Z\" fill=\"#000000\" fill-rule=\"evenodd\" fill-opacity=\"1\" /><path clip-path=\"url(#clip270)\" d=\"M113.927 214.548 L118.811 214.548 L118.811 220.428 L113.927 220.428 L113.927 214.548 Z\" fill=\"#000000\" fill-rule=\"evenodd\" fill-opacity=\"1\" /><path clip-path=\"url(#clip270)\" d=\"M129.806 216.492 L137.445 216.492 L137.445 190.127 L129.135 191.793 L129.135 187.534 L137.399 185.868 L142.075 185.868 L142.075 216.492 L149.714 216.492 L149.714 220.428 L129.806 220.428 L129.806 216.492 Z\" fill=\"#000000\" fill-rule=\"evenodd\" fill-opacity=\"1\" /><path clip-path=\"url(#clip270)\" d=\"M169.158 188.946 Q165.547 188.946 163.718 192.511 Q161.913 196.053 161.913 203.182 Q161.913 210.289 163.718 213.854 Q165.547 217.395 169.158 217.395 Q172.792 217.395 174.598 213.854 Q176.427 210.289 176.427 203.182 Q176.427 196.053 174.598 192.511 Q172.792 188.946 169.158 188.946 M169.158 185.243 Q174.968 185.243 178.024 189.849 Q181.103 194.432 181.103 203.182 Q181.103 211.909 178.024 216.516 Q174.968 221.099 169.158 221.099 Q163.348 221.099 160.269 216.516 Q157.214 211.909 157.214 203.182 Q157.214 194.432 160.269 189.849 Q163.348 185.243 169.158 185.243 Z\" fill=\"#000000\" fill-rule=\"evenodd\" fill-opacity=\"1\" /><path clip-path=\"url(#clip270)\" d=\"M1843.9 20.1573 L1832.8 50.2555 L1855.04 50.2555 L1843.9 20.1573 M1839.28 12.096 L1848.56 12.096 L1871.61 72.576 L1863.1 72.576 L1857.59 57.061 L1830.33 57.061 L1824.82 72.576 L1816.19 72.576 L1839.28 12.096 Z\" fill=\"#000000\" fill-rule=\"evenodd\" fill-opacity=\"1\" /><path clip-path=\"url(#clip270)\" d=\"M1924.27 16.7545 L1924.27 25.383 Q1920.14 21.5346 1915.44 19.6307 Q1910.78 17.7268 1905.51 17.7268 Q1895.14 17.7268 1889.64 24.0867 Q1884.13 30.4061 1884.13 42.3968 Q1884.13 54.3469 1889.64 60.7069 Q1895.14 67.0263 1905.51 67.0263 Q1910.78 67.0263 1915.44 65.1223 Q1920.14 63.2184 1924.27 59.3701 L1924.27 67.9175 Q1919.98 70.8341 1915.16 72.2924 Q1910.38 73.7508 1905.03 73.7508 Q1891.3 73.7508 1883.4 65.3654 Q1875.5 56.9395 1875.5 42.3968 Q1875.5 27.8135 1883.4 19.4281 Q1891.3 11.0023 1905.03 11.0023 Q1910.46 11.0023 1915.24 12.4606 Q1920.06 13.8784 1924.27 16.7545 Z\" fill=\"#000000\" fill-rule=\"evenodd\" fill-opacity=\"1\" /><path clip-path=\"url(#clip270)\" d=\"M1936.91 12.096 L1971.67 12.096 L1971.67 18.9825 L1945.09 18.9825 L1945.09 36.8065 L1969.07 36.8065 L1969.07 43.6931 L1945.09 43.6931 L1945.09 72.576 L1936.91 72.576 L1936.91 12.096 Z\" fill=\"#000000\" fill-rule=\"evenodd\" fill-opacity=\"1\" /><circle clip-path=\"url(#clip272)\" cx=\"328.998\" cy=\"340.409\" r=\"14\" fill=\"#009af9\" fill-rule=\"evenodd\" fill-opacity=\"1\" stroke=\"#000000\" stroke-opacity=\"1\" stroke-width=\"4\"/>\n",
       "<circle clip-path=\"url(#clip272)\" cx=\"493.728\" cy=\"244.872\" r=\"14\" fill=\"#009af9\" fill-rule=\"evenodd\" fill-opacity=\"1\" stroke=\"#000000\" stroke-opacity=\"1\" stroke-width=\"4\"/>\n",
       "<circle clip-path=\"url(#clip272)\" cx=\"658.457\" cy=\"813.219\" r=\"14\" fill=\"#009af9\" fill-rule=\"evenodd\" fill-opacity=\"1\" stroke=\"#000000\" stroke-opacity=\"1\" stroke-width=\"4\"/>\n",
       "<circle clip-path=\"url(#clip272)\" cx=\"823.187\" cy=\"640.825\" r=\"14\" fill=\"#009af9\" fill-rule=\"evenodd\" fill-opacity=\"1\" stroke=\"#000000\" stroke-opacity=\"1\" stroke-width=\"4\"/>\n",
       "<circle clip-path=\"url(#clip272)\" cx=\"987.917\" cy=\"752.79\" r=\"14\" fill=\"#009af9\" fill-rule=\"evenodd\" fill-opacity=\"1\" stroke=\"#000000\" stroke-opacity=\"1\" stroke-width=\"4\"/>\n",
       "<circle clip-path=\"url(#clip272)\" cx=\"1152.65\" cy=\"647.101\" r=\"14\" fill=\"#009af9\" fill-rule=\"evenodd\" fill-opacity=\"1\" stroke=\"#000000\" stroke-opacity=\"1\" stroke-width=\"4\"/>\n",
       "<circle clip-path=\"url(#clip272)\" cx=\"1317.38\" cy=\"586.799\" r=\"14\" fill=\"#009af9\" fill-rule=\"evenodd\" fill-opacity=\"1\" stroke=\"#000000\" stroke-opacity=\"1\" stroke-width=\"4\"/>\n",
       "<circle clip-path=\"url(#clip272)\" cx=\"1482.11\" cy=\"659.051\" r=\"14\" fill=\"#009af9\" fill-rule=\"evenodd\" fill-opacity=\"1\" stroke=\"#000000\" stroke-opacity=\"1\" stroke-width=\"4\"/>\n",
       "<circle clip-path=\"url(#clip272)\" cx=\"1646.83\" cy=\"572.386\" r=\"14\" fill=\"#009af9\" fill-rule=\"evenodd\" fill-opacity=\"1\" stroke=\"#000000\" stroke-opacity=\"1\" stroke-width=\"4\"/>\n",
       "<circle clip-path=\"url(#clip272)\" cx=\"1811.56\" cy=\"370.875\" r=\"14\" fill=\"#009af9\" fill-rule=\"evenodd\" fill-opacity=\"1\" stroke=\"#000000\" stroke-opacity=\"1\" stroke-width=\"4\"/>\n",
       "<circle clip-path=\"url(#clip272)\" cx=\"1976.29\" cy=\"621.262\" r=\"14\" fill=\"#009af9\" fill-rule=\"evenodd\" fill-opacity=\"1\" stroke=\"#000000\" stroke-opacity=\"1\" stroke-width=\"4\"/>\n",
       "<circle clip-path=\"url(#clip272)\" cx=\"2141.02\" cy=\"295.538\" r=\"14\" fill=\"#009af9\" fill-rule=\"evenodd\" fill-opacity=\"1\" stroke=\"#000000\" stroke-opacity=\"1\" stroke-width=\"4\"/>\n",
       "<circle clip-path=\"url(#clip272)\" cx=\"2305.75\" cy=\"829.521\" r=\"14\" fill=\"#009af9\" fill-rule=\"evenodd\" fill-opacity=\"1\" stroke=\"#000000\" stroke-opacity=\"1\" stroke-width=\"4\"/>\n",
       "<circle clip-path=\"url(#clip272)\" cx=\"2470.48\" cy=\"607.579\" r=\"14\" fill=\"#009af9\" fill-rule=\"evenodd\" fill-opacity=\"1\" stroke=\"#000000\" stroke-opacity=\"1\" stroke-width=\"4\"/>\n",
       "<circle clip-path=\"url(#clip272)\" cx=\"2635.21\" cy=\"135.321\" r=\"14\" fill=\"#009af9\" fill-rule=\"evenodd\" fill-opacity=\"1\" stroke=\"#000000\" stroke-opacity=\"1\" stroke-width=\"4\"/>\n",
       "<circle clip-path=\"url(#clip272)\" cx=\"2799.94\" cy=\"728.098\" r=\"14\" fill=\"#009af9\" fill-rule=\"evenodd\" fill-opacity=\"1\" stroke=\"#000000\" stroke-opacity=\"1\" stroke-width=\"4\"/>\n",
       "<circle clip-path=\"url(#clip272)\" cx=\"2964.67\" cy=\"866.279\" r=\"14\" fill=\"#009af9\" fill-rule=\"evenodd\" fill-opacity=\"1\" stroke=\"#000000\" stroke-opacity=\"1\" stroke-width=\"4\"/>\n",
       "<circle clip-path=\"url(#clip272)\" cx=\"3129.4\" cy=\"828.886\" r=\"14\" fill=\"#009af9\" fill-rule=\"evenodd\" fill-opacity=\"1\" stroke=\"#000000\" stroke-opacity=\"1\" stroke-width=\"4\"/>\n",
       "<circle clip-path=\"url(#clip272)\" cx=\"3294.13\" cy=\"618.367\" r=\"14\" fill=\"#009af9\" fill-rule=\"evenodd\" fill-opacity=\"1\" stroke=\"#000000\" stroke-opacity=\"1\" stroke-width=\"4\"/>\n",
       "<circle clip-path=\"url(#clip272)\" cx=\"3458.86\" cy=\"617.822\" r=\"14\" fill=\"#009af9\" fill-rule=\"evenodd\" fill-opacity=\"1\" stroke=\"#000000\" stroke-opacity=\"1\" stroke-width=\"4\"/>\n",
       "<path clip-path=\"url(#clip270)\" d=\"\n",
       "M2319.82 242.899 L3442.17 242.899 L3442.17 139.219 L2319.82 139.219  Z\n",
       "  \" fill=\"#ffffff\" fill-rule=\"evenodd\" fill-opacity=\"1\"/>\n",
       "<polyline clip-path=\"url(#clip270)\" style=\"stroke:#000000; stroke-linecap:butt; stroke-linejoin:round; stroke-width:4; stroke-opacity:1; fill:none\" points=\"\n",
       "  2319.82,242.899 3442.17,242.899 3442.17,139.219 2319.82,139.219 2319.82,242.899 \n",
       "  \"/>\n",
       "<circle clip-path=\"url(#clip270)\" cx=\"2467.27\" cy=\"191.059\" r=\"23\" fill=\"#009af9\" fill-rule=\"evenodd\" fill-opacity=\"1\" stroke=\"#000000\" stroke-opacity=\"1\" stroke-width=\"6.4\"/>\n",
       "<path clip-path=\"url(#clip270)\" d=\"M2615.39 204.404 L2623.03 204.404 L2623.03 178.039 L2614.72 179.705 L2614.72 175.446 L2622.98 173.779 L2627.66 173.779 L2627.66 204.404 L2635.3 204.404 L2635.3 208.339 L2615.39 208.339 L2615.39 204.404 Z\" fill=\"#000000\" fill-rule=\"evenodd\" fill-opacity=\"1\" /><path clip-path=\"url(#clip270)\" d=\"M2654.74 176.858 Q2651.13 176.858 2649.3 180.423 Q2647.5 183.964 2647.5 191.094 Q2647.5 198.2 2649.3 201.765 Q2651.13 205.307 2654.74 205.307 Q2658.38 205.307 2660.18 201.765 Q2662.01 198.2 2662.01 191.094 Q2662.01 183.964 2660.18 180.423 Q2658.38 176.858 2654.74 176.858 M2654.74 173.154 Q2660.55 173.154 2663.61 177.761 Q2666.69 182.344 2666.69 191.094 Q2666.69 199.821 2663.61 204.427 Q2660.55 209.011 2654.74 209.011 Q2648.93 209.011 2645.85 204.427 Q2642.8 199.821 2642.8 191.094 Q2642.8 182.344 2645.85 177.761 Q2648.93 173.154 2654.74 173.154 Z\" fill=\"#000000\" fill-rule=\"evenodd\" fill-opacity=\"1\" /><path clip-path=\"url(#clip270)\" d=\"M2684.81 173.779 L2689.83 173.779 L2699.42 187.992 L2708.93 173.779 L2713.95 173.779 L2701.73 191.881 L2701.73 208.339 L2697.03 208.339 L2697.03 191.881 L2684.81 173.779 Z\" fill=\"#000000\" fill-rule=\"evenodd\" fill-opacity=\"1\" /><path clip-path=\"url(#clip270)\" d=\"M2734.21 194.312 L2734.21 196.395 L2714.63 196.395 Q2714.9 200.793 2717.26 203.108 Q2719.65 205.4 2723.89 205.4 Q2726.34 205.4 2728.63 204.798 Q2730.95 204.196 2733.21 202.992 L2733.21 207.02 Q2730.92 207.992 2728.51 208.501 Q2726.11 209.011 2723.63 209.011 Q2717.43 209.011 2713.79 205.4 Q2710.18 201.788 2710.18 195.631 Q2710.18 189.265 2713.61 185.539 Q2717.06 181.789 2722.89 181.789 Q2728.12 181.789 2731.15 185.168 Q2734.21 188.525 2734.21 194.312 M2729.95 193.062 Q2729.9 189.566 2727.98 187.483 Q2726.08 185.4 2722.94 185.4 Q2719.37 185.4 2717.22 187.414 Q2715.09 189.427 2714.76 193.085 L2729.95 193.062 Z\" fill=\"#000000\" fill-rule=\"evenodd\" fill-opacity=\"1\" /><path clip-path=\"url(#clip270)\" d=\"M2752.98 195.307 Q2747.82 195.307 2745.83 196.488 Q2743.84 197.668 2743.84 200.515 Q2743.84 202.784 2745.32 204.126 Q2746.82 205.446 2749.39 205.446 Q2752.94 205.446 2755.07 202.946 Q2757.22 200.423 2757.22 196.256 L2757.22 195.307 L2752.98 195.307 M2761.48 193.548 L2761.48 208.339 L2757.22 208.339 L2757.22 204.404 Q2755.76 206.765 2753.58 207.9 Q2751.41 209.011 2748.26 209.011 Q2744.28 209.011 2741.92 206.788 Q2739.58 204.543 2739.58 200.793 Q2739.58 196.418 2742.5 194.196 Q2745.44 191.974 2751.25 191.974 L2757.22 191.974 L2757.22 191.557 Q2757.22 188.617 2755.27 187.02 Q2753.35 185.4 2749.86 185.4 Q2747.63 185.4 2745.53 185.932 Q2743.42 186.464 2741.48 187.529 L2741.48 183.594 Q2743.82 182.691 2746.01 182.251 Q2748.21 181.789 2750.3 181.789 Q2755.92 181.789 2758.7 184.705 Q2761.48 187.622 2761.48 193.548 Z\" fill=\"#000000\" fill-rule=\"evenodd\" fill-opacity=\"1\" /><path clip-path=\"url(#clip270)\" d=\"M2785.27 186.395 Q2784.56 185.978 2783.7 185.793 Q2782.87 185.585 2781.85 185.585 Q2778.24 185.585 2776.29 187.946 Q2774.37 190.284 2774.37 194.682 L2774.37 208.339 L2770.09 208.339 L2770.09 182.414 L2774.37 182.414 L2774.37 186.441 Q2775.71 184.08 2777.87 182.946 Q2780.02 181.789 2783.1 181.789 Q2783.54 181.789 2784.07 181.858 Q2784.6 181.904 2785.25 182.02 L2785.27 186.395 Z\" fill=\"#000000\" fill-rule=\"evenodd\" fill-opacity=\"1\" /><path clip-path=\"url(#clip270)\" d=\"M2830.88 176.441 L2830.88 181.372 Q2828.51 179.173 2825.83 178.085 Q2823.17 176.997 2820.16 176.997 Q2814.23 176.997 2811.08 180.631 Q2807.94 184.242 2807.94 191.094 Q2807.94 197.923 2811.08 201.557 Q2814.23 205.168 2820.16 205.168 Q2823.17 205.168 2825.83 204.08 Q2828.51 202.992 2830.88 200.793 L2830.88 205.677 Q2828.42 207.344 2825.67 208.177 Q2822.94 209.011 2819.88 209.011 Q2812.03 209.011 2807.52 204.219 Q2803.01 199.404 2803.01 191.094 Q2803.01 182.761 2807.52 177.969 Q2812.03 173.154 2819.88 173.154 Q2822.98 173.154 2825.71 173.988 Q2828.47 174.798 2830.88 176.441 Z\" fill=\"#000000\" fill-rule=\"evenodd\" fill-opacity=\"1\" /><path clip-path=\"url(#clip270)\" d=\"M2838.1 173.779 L2845.07 173.779 L2853.88 197.298 L2862.75 173.779 L2869.72 173.779 L2869.72 208.339 L2865.16 208.339 L2865.16 177.992 L2856.25 201.696 L2851.55 201.696 L2842.63 177.992 L2842.63 208.339 L2838.1 208.339 L2838.1 173.779 Z\" fill=\"#000000\" fill-rule=\"evenodd\" fill-opacity=\"1\" /><path clip-path=\"url(#clip270)\" d=\"M2874.21 173.779 L2903.44 173.779 L2903.44 177.714 L2891.18 177.714 L2891.18 208.339 L2886.48 208.339 L2886.48 177.714 L2874.21 177.714 L2874.21 173.779 Z\" fill=\"#000000\" fill-rule=\"evenodd\" fill-opacity=\"1\" /><path clip-path=\"url(#clip270)\" d=\"M2927.7 191.835 L2927.7 204.497 L2935.2 204.497 Q2938.98 204.497 2940.78 202.946 Q2942.61 201.372 2942.61 198.154 Q2942.61 194.913 2940.78 193.386 Q2938.98 191.835 2935.2 191.835 L2927.7 191.835 M2927.7 177.622 L2927.7 188.039 L2934.62 188.039 Q2938.05 188.039 2939.72 186.765 Q2941.41 185.469 2941.41 182.83 Q2941.41 180.214 2939.72 178.918 Q2938.05 177.622 2934.62 177.622 L2927.7 177.622 M2923.03 173.779 L2934.97 173.779 Q2940.32 173.779 2943.21 176.002 Q2946.11 178.224 2946.11 182.321 Q2946.11 185.492 2944.62 187.367 Q2943.14 189.242 2940.27 189.705 Q2943.72 190.446 2945.62 192.807 Q2947.54 195.145 2947.54 198.663 Q2947.54 203.293 2944.39 205.816 Q2941.25 208.339 2935.43 208.339 L2923.03 208.339 L2923.03 173.779 Z\" fill=\"#000000\" fill-rule=\"evenodd\" fill-opacity=\"1\" /><path clip-path=\"url(#clip270)\" d=\"M2965.41 185.4 Q2961.99 185.4 2959.99 188.085 Q2958 190.747 2958 195.4 Q2958 200.052 2959.97 202.737 Q2961.96 205.4 2965.41 205.4 Q2968.81 205.4 2970.81 202.714 Q2972.8 200.029 2972.8 195.4 Q2972.8 190.793 2970.81 188.108 Q2968.81 185.4 2965.41 185.4 M2965.41 181.789 Q2970.97 181.789 2974.14 185.4 Q2977.31 189.011 2977.31 195.4 Q2977.31 201.765 2974.14 205.4 Q2970.97 209.011 2965.41 209.011 Q2959.83 209.011 2956.66 205.4 Q2953.51 201.765 2953.51 195.4 Q2953.51 189.011 2956.66 185.4 Q2959.83 181.789 2965.41 181.789 Z\" fill=\"#000000\" fill-rule=\"evenodd\" fill-opacity=\"1\" /><path clip-path=\"url(#clip270)\" d=\"M3005.92 192.691 L3005.92 208.339 L3001.66 208.339 L3001.66 192.83 Q3001.66 189.15 3000.23 187.321 Q2998.79 185.492 2995.92 185.492 Q2992.47 185.492 2990.48 187.691 Q2988.49 189.89 2988.49 193.687 L2988.49 208.339 L2984.21 208.339 L2984.21 182.414 L2988.49 182.414 L2988.49 186.441 Q2990.02 184.103 2992.08 182.946 Q2994.16 181.789 2996.87 181.789 Q3001.34 181.789 3003.63 184.566 Q3005.92 187.321 3005.92 192.691 Z\" fill=\"#000000\" fill-rule=\"evenodd\" fill-opacity=\"1\" /><path clip-path=\"url(#clip270)\" d=\"M3031.48 186.349 L3031.48 172.321 L3035.74 172.321 L3035.74 208.339 L3031.48 208.339 L3031.48 204.45 Q3030.13 206.765 3028.07 207.9 Q3026.04 209.011 3023.17 209.011 Q3018.47 209.011 3015.5 205.261 Q3012.56 201.511 3012.56 195.4 Q3012.56 189.288 3015.5 185.539 Q3018.47 181.789 3023.17 181.789 Q3026.04 181.789 3028.07 182.923 Q3030.13 184.034 3031.48 186.349 M3016.96 195.4 Q3016.96 200.099 3018.88 202.784 Q3020.83 205.446 3024.21 205.446 Q3027.59 205.446 3029.53 202.784 Q3031.48 200.099 3031.48 195.4 Q3031.48 190.701 3029.53 188.039 Q3027.59 185.353 3024.21 185.353 Q3020.83 185.353 3018.88 188.039 Q3016.96 190.701 3016.96 195.4 Z\" fill=\"#000000\" fill-rule=\"evenodd\" fill-opacity=\"1\" /><path clip-path=\"url(#clip270)\" d=\"M3071.31 178.386 L3064.97 195.585 L3077.68 195.585 L3071.31 178.386 M3068.67 173.779 L3073.98 173.779 L3087.15 208.339 L3082.29 208.339 L3079.14 199.474 L3063.56 199.474 L3060.41 208.339 L3055.48 208.339 L3068.67 173.779 Z\" fill=\"#000000\" fill-rule=\"evenodd\" fill-opacity=\"1\" /><path clip-path=\"url(#clip270)\" d=\"M3117.24 176.441 L3117.24 181.372 Q3114.88 179.173 3112.19 178.085 Q3109.53 176.997 3106.52 176.997 Q3100.6 176.997 3097.45 180.631 Q3094.3 184.242 3094.3 191.094 Q3094.3 197.923 3097.45 201.557 Q3100.6 205.168 3106.52 205.168 Q3109.53 205.168 3112.19 204.08 Q3114.88 202.992 3117.24 200.793 L3117.24 205.677 Q3114.79 207.344 3112.03 208.177 Q3109.3 209.011 3106.24 209.011 Q3098.4 209.011 3093.88 204.219 Q3089.37 199.404 3089.37 191.094 Q3089.37 182.761 3093.88 177.969 Q3098.4 173.154 3106.24 173.154 Q3109.35 173.154 3112.08 173.988 Q3114.83 174.798 3117.24 176.441 Z\" fill=\"#000000\" fill-rule=\"evenodd\" fill-opacity=\"1\" /><path clip-path=\"url(#clip270)\" d=\"M3124.46 173.779 L3144.32 173.779 L3144.32 177.714 L3129.14 177.714 L3129.14 187.9 L3142.84 187.9 L3142.84 191.835 L3129.14 191.835 L3129.14 208.339 L3124.46 208.339 L3124.46 173.779 Z\" fill=\"#000000\" fill-rule=\"evenodd\" fill-opacity=\"1\" /><path clip-path=\"url(#clip270)\" d=\"M3175.71 208.339 L3162.52 173.779 L3167.4 173.779 L3178.35 202.876 L3189.32 173.779 L3194.18 173.779 L3181.01 208.339 L3175.71 208.339 Z\" fill=\"#000000\" fill-rule=\"evenodd\" fill-opacity=\"1\" /><path clip-path=\"url(#clip270)\" d=\"M3207.15 195.307 Q3201.98 195.307 3199.99 196.488 Q3198 197.668 3198 200.515 Q3198 202.784 3199.48 204.126 Q3200.99 205.446 3203.56 205.446 Q3207.1 205.446 3209.23 202.946 Q3211.38 200.423 3211.38 196.256 L3211.38 195.307 L3207.15 195.307 M3215.64 193.548 L3215.64 208.339 L3211.38 208.339 L3211.38 204.404 Q3209.92 206.765 3207.75 207.9 Q3205.57 209.011 3202.42 209.011 Q3198.44 209.011 3196.08 206.788 Q3193.74 204.543 3193.74 200.793 Q3193.74 196.418 3196.66 194.196 Q3199.6 191.974 3205.41 191.974 L3211.38 191.974 L3211.38 191.557 Q3211.38 188.617 3209.44 187.02 Q3207.52 185.4 3204.02 185.4 Q3201.8 185.4 3199.69 185.932 Q3197.59 186.464 3195.64 187.529 L3195.64 183.594 Q3197.98 182.691 3200.18 182.251 Q3202.38 181.789 3204.46 181.789 Q3210.09 181.789 3212.86 184.705 Q3215.64 187.622 3215.64 193.548 Z\" fill=\"#000000\" fill-rule=\"evenodd\" fill-opacity=\"1\" /><path clip-path=\"url(#clip270)\" d=\"M3239.44 186.395 Q3238.72 185.978 3237.86 185.793 Q3237.03 185.585 3236.01 185.585 Q3232.4 185.585 3230.46 187.946 Q3228.54 190.284 3228.54 194.682 L3228.54 208.339 L3224.25 208.339 L3224.25 182.414 L3228.54 182.414 L3228.54 186.441 Q3229.88 184.08 3232.03 182.946 Q3234.18 181.789 3237.26 181.789 Q3237.7 181.789 3238.23 181.858 Q3238.77 181.904 3239.41 182.02 L3239.44 186.395 Z\" fill=\"#000000\" fill-rule=\"evenodd\" fill-opacity=\"1\" /><path clip-path=\"url(#clip270)\" d=\"M3243.91 182.414 L3248.16 182.414 L3248.16 208.339 L3243.91 208.339 L3243.91 182.414 M3243.91 172.321 L3248.16 172.321 L3248.16 177.714 L3243.91 177.714 L3243.91 172.321 Z\" fill=\"#000000\" fill-rule=\"evenodd\" fill-opacity=\"1\" /><path clip-path=\"url(#clip270)\" d=\"M3268.86 195.307 Q3263.7 195.307 3261.71 196.488 Q3259.72 197.668 3259.72 200.515 Q3259.72 202.784 3261.2 204.126 Q3262.7 205.446 3265.27 205.446 Q3268.81 205.446 3270.94 202.946 Q3273.1 200.423 3273.1 196.256 L3273.1 195.307 L3268.86 195.307 M3277.35 193.548 L3277.35 208.339 L3273.1 208.339 L3273.1 204.404 Q3271.64 206.765 3269.46 207.9 Q3267.28 209.011 3264.14 209.011 Q3260.16 209.011 3257.79 206.788 Q3255.46 204.543 3255.46 200.793 Q3255.46 196.418 3258.37 194.196 Q3261.31 191.974 3267.12 191.974 L3273.1 191.974 L3273.1 191.557 Q3273.1 188.617 3271.15 187.02 Q3269.23 185.4 3265.73 185.4 Q3263.51 185.4 3261.41 185.932 Q3259.3 186.464 3257.35 187.529 L3257.35 183.594 Q3259.69 182.691 3261.89 182.251 Q3264.09 181.789 3266.17 181.789 Q3271.8 181.789 3274.58 184.705 Q3277.35 187.622 3277.35 193.548 Z\" fill=\"#000000\" fill-rule=\"evenodd\" fill-opacity=\"1\" /><path clip-path=\"url(#clip270)\" d=\"M3290.34 175.052 L3290.34 182.414 L3299.11 182.414 L3299.11 185.724 L3290.34 185.724 L3290.34 199.798 Q3290.34 202.969 3291.2 203.872 Q3292.08 204.775 3294.74 204.775 L3299.11 204.775 L3299.11 208.339 L3294.74 208.339 Q3289.81 208.339 3287.93 206.511 Q3286.06 204.659 3286.06 199.798 L3286.06 185.724 L3282.93 185.724 L3282.93 182.414 L3286.06 182.414 L3286.06 175.052 L3290.34 175.052 Z\" fill=\"#000000\" fill-rule=\"evenodd\" fill-opacity=\"1\" /><path clip-path=\"url(#clip270)\" d=\"M3304.72 182.414 L3308.97 182.414 L3308.97 208.339 L3304.72 208.339 L3304.72 182.414 M3304.72 172.321 L3308.97 172.321 L3308.97 177.714 L3304.72 177.714 L3304.72 172.321 Z\" fill=\"#000000\" fill-rule=\"evenodd\" fill-opacity=\"1\" /><path clip-path=\"url(#clip270)\" d=\"M3327.93 185.4 Q3324.51 185.4 3322.52 188.085 Q3320.53 190.747 3320.53 195.4 Q3320.53 200.052 3322.49 202.737 Q3324.48 205.4 3327.93 205.4 Q3331.34 205.4 3333.33 202.714 Q3335.32 200.029 3335.32 195.4 Q3335.32 190.793 3333.33 188.108 Q3331.34 185.4 3327.93 185.4 M3327.93 181.789 Q3333.49 181.789 3336.66 185.4 Q3339.83 189.011 3339.83 195.4 Q3339.83 201.765 3336.66 205.4 Q3333.49 209.011 3327.93 209.011 Q3322.35 209.011 3319.18 205.4 Q3316.03 201.765 3316.03 195.4 Q3316.03 189.011 3319.18 185.4 Q3322.35 181.789 3327.93 181.789 Z\" fill=\"#000000\" fill-rule=\"evenodd\" fill-opacity=\"1\" /><path clip-path=\"url(#clip270)\" d=\"M3368.44 192.691 L3368.44 208.339 L3364.18 208.339 L3364.18 192.83 Q3364.18 189.15 3362.75 187.321 Q3361.31 185.492 3358.44 185.492 Q3354.99 185.492 3353 187.691 Q3351.01 189.89 3351.01 193.687 L3351.01 208.339 L3346.73 208.339 L3346.73 182.414 L3351.01 182.414 L3351.01 186.441 Q3352.54 184.103 3354.6 182.946 Q3356.68 181.789 3359.39 181.789 Q3363.86 181.789 3366.15 184.566 Q3368.44 187.321 3368.44 192.691 Z\" fill=\"#000000\" fill-rule=\"evenodd\" fill-opacity=\"1\" /><path clip-path=\"url(#clip270)\" d=\"\n",
       "M235.103 1888.21 L3552.76 1888.21 L3552.76 1113.39 L235.103 1113.39  Z\n",
       "  \" fill=\"#ffffff\" fill-rule=\"evenodd\" fill-opacity=\"1\"/>\n",
       "<defs>\n",
       "  <clipPath id=\"clip273\">\n",
       "    <rect x=\"235\" y=\"1113\" width=\"3319\" height=\"776\"/>\n",
       "  </clipPath>\n",
       "</defs>\n",
       "<polyline clip-path=\"url(#clip273)\" style=\"stroke:#000000; stroke-linecap:butt; stroke-linejoin:round; stroke-width:2; stroke-opacity:0.1; fill:none\" points=\"\n",
       "  987.917,1888.21 987.917,1113.39 \n",
       "  \"/>\n",
       "<polyline clip-path=\"url(#clip273)\" style=\"stroke:#000000; stroke-linecap:butt; stroke-linejoin:round; stroke-width:2; stroke-opacity:0.1; fill:none\" points=\"\n",
       "  1811.56,1888.21 1811.56,1113.39 \n",
       "  \"/>\n",
       "<polyline clip-path=\"url(#clip273)\" style=\"stroke:#000000; stroke-linecap:butt; stroke-linejoin:round; stroke-width:2; stroke-opacity:0.1; fill:none\" points=\"\n",
       "  2635.21,1888.21 2635.21,1113.39 \n",
       "  \"/>\n",
       "<polyline clip-path=\"url(#clip273)\" style=\"stroke:#000000; stroke-linecap:butt; stroke-linejoin:round; stroke-width:2; stroke-opacity:0.1; fill:none\" points=\"\n",
       "  3458.86,1888.21 3458.86,1113.39 \n",
       "  \"/>\n",
       "<polyline clip-path=\"url(#clip270)\" style=\"stroke:#000000; stroke-linecap:butt; stroke-linejoin:round; stroke-width:4; stroke-opacity:1; fill:none\" points=\"\n",
       "  235.103,1888.21 3552.76,1888.21 \n",
       "  \"/>\n",
       "<polyline clip-path=\"url(#clip270)\" style=\"stroke:#000000; stroke-linecap:butt; stroke-linejoin:round; stroke-width:4; stroke-opacity:1; fill:none\" points=\"\n",
       "  987.917,1888.21 987.917,1869.31 \n",
       "  \"/>\n",
       "<polyline clip-path=\"url(#clip270)\" style=\"stroke:#000000; stroke-linecap:butt; stroke-linejoin:round; stroke-width:4; stroke-opacity:1; fill:none\" points=\"\n",
       "  1811.56,1888.21 1811.56,1869.31 \n",
       "  \"/>\n",
       "<polyline clip-path=\"url(#clip270)\" style=\"stroke:#000000; stroke-linecap:butt; stroke-linejoin:round; stroke-width:4; stroke-opacity:1; fill:none\" points=\"\n",
       "  2635.21,1888.21 2635.21,1869.31 \n",
       "  \"/>\n",
       "<polyline clip-path=\"url(#clip270)\" style=\"stroke:#000000; stroke-linecap:butt; stroke-linejoin:round; stroke-width:4; stroke-opacity:1; fill:none\" points=\"\n",
       "  3458.86,1888.21 3458.86,1869.31 \n",
       "  \"/>\n",
       "<path clip-path=\"url(#clip270)\" d=\"M978.194 1923.92 L996.551 1923.92 L996.551 1927.86 L982.477 1927.86 L982.477 1936.33 Q983.495 1935.98 984.514 1935.82 Q985.532 1935.63 986.551 1935.63 Q992.338 1935.63 995.717 1938.8 Q999.097 1941.98 999.097 1947.39 Q999.097 1952.97 995.625 1956.07 Q992.153 1959.15 985.833 1959.15 Q983.657 1959.15 981.389 1958.78 Q979.144 1958.41 976.736 1957.67 L976.736 1952.97 Q978.819 1954.1 981.042 1954.66 Q983.264 1955.22 985.741 1955.22 Q989.745 1955.22 992.083 1953.11 Q994.421 1951 994.421 1947.39 Q994.421 1943.78 992.083 1941.67 Q989.745 1939.57 985.741 1939.57 Q983.866 1939.57 981.991 1939.98 Q980.139 1940.4 978.194 1941.28 L978.194 1923.92 Z\" fill=\"#000000\" fill-rule=\"evenodd\" fill-opacity=\"1\" /><path clip-path=\"url(#clip270)\" d=\"M1786.25 1954.54 L1793.89 1954.54 L1793.89 1928.18 L1785.58 1929.85 L1785.58 1925.59 L1793.84 1923.92 L1798.52 1923.92 L1798.52 1954.54 L1806.16 1954.54 L1806.16 1958.48 L1786.25 1958.48 L1786.25 1954.54 Z\" fill=\"#000000\" fill-rule=\"evenodd\" fill-opacity=\"1\" /><path clip-path=\"url(#clip270)\" d=\"M1825.6 1927 Q1821.99 1927 1820.16 1930.56 Q1818.36 1934.11 1818.36 1941.23 Q1818.36 1948.34 1820.16 1951.91 Q1821.99 1955.45 1825.6 1955.45 Q1829.24 1955.45 1831.04 1951.91 Q1832.87 1948.34 1832.87 1941.23 Q1832.87 1934.11 1831.04 1930.56 Q1829.24 1927 1825.6 1927 M1825.6 1923.29 Q1831.41 1923.29 1834.47 1927.9 Q1837.55 1932.48 1837.55 1941.23 Q1837.55 1949.96 1834.47 1954.57 Q1831.41 1959.15 1825.6 1959.15 Q1819.79 1959.15 1816.71 1954.57 Q1813.66 1949.96 1813.66 1941.23 Q1813.66 1932.48 1816.71 1927.9 Q1819.79 1923.29 1825.6 1923.29 Z\" fill=\"#000000\" fill-rule=\"evenodd\" fill-opacity=\"1\" /><path clip-path=\"url(#clip270)\" d=\"M2610.4 1954.54 L2618.04 1954.54 L2618.04 1928.18 L2609.73 1929.85 L2609.73 1925.59 L2617.99 1923.92 L2622.67 1923.92 L2622.67 1954.54 L2630.3 1954.54 L2630.3 1958.48 L2610.4 1958.48 L2610.4 1954.54 Z\" fill=\"#000000\" fill-rule=\"evenodd\" fill-opacity=\"1\" /><path clip-path=\"url(#clip270)\" d=\"M2639.8 1923.92 L2658.15 1923.92 L2658.15 1927.86 L2644.08 1927.86 L2644.08 1936.33 Q2645.1 1935.98 2646.11 1935.82 Q2647.13 1935.63 2648.15 1935.63 Q2653.94 1935.63 2657.32 1938.8 Q2660.7 1941.98 2660.7 1947.39 Q2660.7 1952.97 2657.23 1956.07 Q2653.75 1959.15 2647.43 1959.15 Q2645.26 1959.15 2642.99 1958.78 Q2640.74 1958.41 2638.34 1957.67 L2638.34 1952.97 Q2640.42 1954.1 2642.64 1954.66 Q2644.86 1955.22 2647.34 1955.22 Q2651.35 1955.22 2653.68 1953.11 Q2656.02 1951 2656.02 1947.39 Q2656.02 1943.78 2653.68 1941.67 Q2651.35 1939.57 2647.34 1939.57 Q2645.47 1939.57 2643.59 1939.98 Q2641.74 1940.4 2639.8 1941.28 L2639.8 1923.92 Z\" fill=\"#000000\" fill-rule=\"evenodd\" fill-opacity=\"1\" /><path clip-path=\"url(#clip270)\" d=\"M3437.63 1954.54 L3453.95 1954.54 L3453.95 1958.48 L3432.01 1958.48 L3432.01 1954.54 Q3434.67 1951.79 3439.25 1947.16 Q3443.86 1942.51 3445.04 1941.17 Q3447.29 1938.64 3448.17 1936.91 Q3449.07 1935.15 3449.07 1933.46 Q3449.07 1930.7 3447.12 1928.97 Q3445.2 1927.23 3442.1 1927.23 Q3439.9 1927.23 3437.45 1927.99 Q3435.02 1928.76 3432.24 1930.31 L3432.24 1925.59 Q3435.06 1924.45 3437.52 1923.87 Q3439.97 1923.29 3442.01 1923.29 Q3447.38 1923.29 3450.57 1925.98 Q3453.77 1928.67 3453.77 1933.16 Q3453.77 1935.29 3452.96 1937.21 Q3452.17 1939.1 3450.06 1941.7 Q3449.49 1942.37 3446.38 1945.59 Q3443.28 1948.78 3437.63 1954.54 Z\" fill=\"#000000\" fill-rule=\"evenodd\" fill-opacity=\"1\" /><path clip-path=\"url(#clip270)\" d=\"M3473.77 1927 Q3470.16 1927 3468.33 1930.56 Q3466.52 1934.11 3466.52 1941.23 Q3466.52 1948.34 3468.33 1951.91 Q3470.16 1955.45 3473.77 1955.45 Q3477.4 1955.45 3479.21 1951.91 Q3481.04 1948.34 3481.04 1941.23 Q3481.04 1934.11 3479.21 1930.56 Q3477.4 1927 3473.77 1927 M3473.77 1923.29 Q3479.58 1923.29 3482.63 1927.9 Q3485.71 1932.48 3485.71 1941.23 Q3485.71 1949.96 3482.63 1954.57 Q3479.58 1959.15 3473.77 1959.15 Q3467.96 1959.15 3464.88 1954.57 Q3461.82 1949.96 3461.82 1941.23 Q3461.82 1932.48 3464.88 1927.9 Q3467.96 1923.29 3473.77 1923.29 Z\" fill=\"#000000\" fill-rule=\"evenodd\" fill-opacity=\"1\" /><polyline clip-path=\"url(#clip273)\" style=\"stroke:#000000; stroke-linecap:butt; stroke-linejoin:round; stroke-width:2; stroke-opacity:0.1; fill:none\" points=\"\n",
       "  235.103,1866.28 3552.76,1866.28 \n",
       "  \"/>\n",
       "<polyline clip-path=\"url(#clip273)\" style=\"stroke:#000000; stroke-linecap:butt; stroke-linejoin:round; stroke-width:2; stroke-opacity:0.1; fill:none\" points=\"\n",
       "  235.103,1683.54 3552.76,1683.54 \n",
       "  \"/>\n",
       "<polyline clip-path=\"url(#clip273)\" style=\"stroke:#000000; stroke-linecap:butt; stroke-linejoin:round; stroke-width:2; stroke-opacity:0.1; fill:none\" points=\"\n",
       "  235.103,1500.8 3552.76,1500.8 \n",
       "  \"/>\n",
       "<polyline clip-path=\"url(#clip273)\" style=\"stroke:#000000; stroke-linecap:butt; stroke-linejoin:round; stroke-width:2; stroke-opacity:0.1; fill:none\" points=\"\n",
       "  235.103,1318.06 3552.76,1318.06 \n",
       "  \"/>\n",
       "<polyline clip-path=\"url(#clip273)\" style=\"stroke:#000000; stroke-linecap:butt; stroke-linejoin:round; stroke-width:2; stroke-opacity:0.1; fill:none\" points=\"\n",
       "  235.103,1135.32 3552.76,1135.32 \n",
       "  \"/>\n",
       "<polyline clip-path=\"url(#clip270)\" style=\"stroke:#000000; stroke-linecap:butt; stroke-linejoin:round; stroke-width:4; stroke-opacity:1; fill:none\" points=\"\n",
       "  235.103,1888.21 235.103,1113.39 \n",
       "  \"/>\n",
       "<polyline clip-path=\"url(#clip270)\" style=\"stroke:#000000; stroke-linecap:butt; stroke-linejoin:round; stroke-width:4; stroke-opacity:1; fill:none\" points=\"\n",
       "  235.103,1866.28 254,1866.28 \n",
       "  \"/>\n",
       "<polyline clip-path=\"url(#clip270)\" style=\"stroke:#000000; stroke-linecap:butt; stroke-linejoin:round; stroke-width:4; stroke-opacity:1; fill:none\" points=\"\n",
       "  235.103,1683.54 254,1683.54 \n",
       "  \"/>\n",
       "<polyline clip-path=\"url(#clip270)\" style=\"stroke:#000000; stroke-linecap:butt; stroke-linejoin:round; stroke-width:4; stroke-opacity:1; fill:none\" points=\"\n",
       "  235.103,1500.8 254,1500.8 \n",
       "  \"/>\n",
       "<polyline clip-path=\"url(#clip270)\" style=\"stroke:#000000; stroke-linecap:butt; stroke-linejoin:round; stroke-width:4; stroke-opacity:1; fill:none\" points=\"\n",
       "  235.103,1318.06 254,1318.06 \n",
       "  \"/>\n",
       "<polyline clip-path=\"url(#clip270)\" style=\"stroke:#000000; stroke-linecap:butt; stroke-linejoin:round; stroke-width:4; stroke-opacity:1; fill:none\" points=\"\n",
       "  235.103,1135.32 254,1135.32 \n",
       "  \"/>\n",
       "<path clip-path=\"url(#clip270)\" d=\"M73.6725 1866.73 L103.348 1866.73 L103.348 1870.67 L73.6725 1870.67 L73.6725 1866.73 Z\" fill=\"#000000\" fill-rule=\"evenodd\" fill-opacity=\"1\" /><path clip-path=\"url(#clip270)\" d=\"M123.441 1852.08 Q119.83 1852.08 118.001 1855.64 Q116.195 1859.18 116.195 1866.31 Q116.195 1873.42 118.001 1876.99 Q119.83 1880.53 123.441 1880.53 Q127.075 1880.53 128.881 1876.99 Q130.709 1873.42 130.709 1866.31 Q130.709 1859.18 128.881 1855.64 Q127.075 1852.08 123.441 1852.08 M123.441 1848.37 Q129.251 1848.37 132.306 1852.98 Q135.385 1857.56 135.385 1866.31 Q135.385 1875.04 132.306 1879.65 Q129.251 1884.23 123.441 1884.23 Q117.631 1884.23 114.552 1879.65 Q111.496 1875.04 111.496 1866.31 Q111.496 1857.56 114.552 1852.98 Q117.631 1848.37 123.441 1848.37 Z\" fill=\"#000000\" fill-rule=\"evenodd\" fill-opacity=\"1\" /><path clip-path=\"url(#clip270)\" d=\"M143.603 1877.68 L148.487 1877.68 L148.487 1883.56 L143.603 1883.56 L143.603 1877.68 Z\" fill=\"#000000\" fill-rule=\"evenodd\" fill-opacity=\"1\" /><path clip-path=\"url(#clip270)\" d=\"M171.519 1853.07 L159.714 1871.52 L171.519 1871.52 L171.519 1853.07 M170.292 1849 L176.172 1849 L176.172 1871.52 L181.103 1871.52 L181.103 1875.41 L176.172 1875.41 L176.172 1883.56 L171.519 1883.56 L171.519 1875.41 L155.917 1875.41 L155.917 1870.9 L170.292 1849 Z\" fill=\"#000000\" fill-rule=\"evenodd\" fill-opacity=\"1\" /><path clip-path=\"url(#clip270)\" d=\"M75.7559 1683.99 L105.432 1683.99 L105.432 1687.93 L75.7559 1687.93 L75.7559 1683.99 Z\" fill=\"#000000\" fill-rule=\"evenodd\" fill-opacity=\"1\" /><path clip-path=\"url(#clip270)\" d=\"M125.524 1669.34 Q121.913 1669.34 120.084 1672.9 Q118.279 1676.44 118.279 1683.57 Q118.279 1690.68 120.084 1694.25 Q121.913 1697.79 125.524 1697.79 Q129.158 1697.79 130.964 1694.25 Q132.793 1690.68 132.793 1683.57 Q132.793 1676.44 130.964 1672.9 Q129.158 1669.34 125.524 1669.34 M125.524 1665.63 Q131.334 1665.63 134.39 1670.24 Q137.468 1674.82 137.468 1683.57 Q137.468 1692.3 134.39 1696.91 Q131.334 1701.49 125.524 1701.49 Q119.714 1701.49 116.635 1696.91 Q113.58 1692.3 113.58 1683.57 Q113.58 1674.82 116.635 1670.24 Q119.714 1665.63 125.524 1665.63 Z\" fill=\"#000000\" fill-rule=\"evenodd\" fill-opacity=\"1\" /><path clip-path=\"url(#clip270)\" d=\"M145.686 1694.94 L150.57 1694.94 L150.57 1700.82 L145.686 1700.82 L145.686 1694.94 Z\" fill=\"#000000\" fill-rule=\"evenodd\" fill-opacity=\"1\" /><path clip-path=\"url(#clip270)\" d=\"M164.783 1696.88 L181.103 1696.88 L181.103 1700.82 L159.158 1700.82 L159.158 1696.88 Q161.82 1694.13 166.404 1689.5 Q171.01 1684.85 172.191 1683.5 Q174.436 1680.98 175.316 1679.25 Q176.218 1677.49 176.218 1675.8 Q176.218 1673.04 174.274 1671.31 Q172.353 1669.57 169.251 1669.57 Q167.052 1669.57 164.598 1670.33 Q162.167 1671.1 159.39 1672.65 L159.39 1667.93 Q162.214 1666.79 164.667 1666.21 Q167.121 1665.63 169.158 1665.63 Q174.528 1665.63 177.723 1668.32 Q180.917 1671 180.917 1675.5 Q180.917 1677.63 180.107 1679.55 Q179.32 1681.44 177.214 1684.04 Q176.635 1684.71 173.533 1687.93 Q170.431 1691.12 164.783 1696.88 Z\" fill=\"#000000\" fill-rule=\"evenodd\" fill-opacity=\"1\" /><path clip-path=\"url(#clip270)\" d=\"M123.927 1486.6 Q120.316 1486.6 118.487 1490.16 Q116.682 1493.71 116.682 1500.83 Q116.682 1507.94 118.487 1511.51 Q120.316 1515.05 123.927 1515.05 Q127.561 1515.05 129.367 1511.51 Q131.195 1507.94 131.195 1500.83 Q131.195 1493.71 129.367 1490.16 Q127.561 1486.6 123.927 1486.6 M123.927 1482.9 Q129.737 1482.9 132.793 1487.5 Q135.871 1492.08 135.871 1500.83 Q135.871 1509.56 132.793 1514.17 Q129.737 1518.75 123.927 1518.75 Q118.117 1518.75 115.038 1514.17 Q111.983 1509.56 111.983 1500.83 Q111.983 1492.08 115.038 1487.5 Q118.117 1482.9 123.927 1482.9 Z\" fill=\"#000000\" fill-rule=\"evenodd\" fill-opacity=\"1\" /><path clip-path=\"url(#clip270)\" d=\"M144.089 1512.2 L148.973 1512.2 L148.973 1518.08 L144.089 1518.08 L144.089 1512.2 Z\" fill=\"#000000\" fill-rule=\"evenodd\" fill-opacity=\"1\" /><path clip-path=\"url(#clip270)\" d=\"M169.158 1486.6 Q165.547 1486.6 163.718 1490.16 Q161.913 1493.71 161.913 1500.83 Q161.913 1507.94 163.718 1511.51 Q165.547 1515.05 169.158 1515.05 Q172.792 1515.05 174.598 1511.51 Q176.427 1507.94 176.427 1500.83 Q176.427 1493.71 174.598 1490.16 Q172.792 1486.6 169.158 1486.6 M169.158 1482.9 Q174.968 1482.9 178.024 1487.5 Q181.103 1492.08 181.103 1500.83 Q181.103 1509.56 178.024 1514.17 Q174.968 1518.75 169.158 1518.75 Q163.348 1518.75 160.269 1514.17 Q157.214 1509.56 157.214 1500.83 Q157.214 1492.08 160.269 1487.5 Q163.348 1482.9 169.158 1482.9 Z\" fill=\"#000000\" fill-rule=\"evenodd\" fill-opacity=\"1\" /><path clip-path=\"url(#clip270)\" d=\"M125.524 1303.86 Q121.913 1303.86 120.084 1307.42 Q118.279 1310.97 118.279 1318.1 Q118.279 1325.2 120.084 1328.77 Q121.913 1332.31 125.524 1332.31 Q129.158 1332.31 130.964 1328.77 Q132.793 1325.2 132.793 1318.1 Q132.793 1310.97 130.964 1307.42 Q129.158 1303.86 125.524 1303.86 M125.524 1300.16 Q131.334 1300.16 134.39 1304.76 Q137.468 1309.35 137.468 1318.1 Q137.468 1326.82 134.39 1331.43 Q131.334 1336.01 125.524 1336.01 Q119.714 1336.01 116.635 1331.43 Q113.58 1326.82 113.58 1318.1 Q113.58 1309.35 116.635 1304.76 Q119.714 1300.16 125.524 1300.16 Z\" fill=\"#000000\" fill-rule=\"evenodd\" fill-opacity=\"1\" /><path clip-path=\"url(#clip270)\" d=\"M145.686 1329.46 L150.57 1329.46 L150.57 1335.34 L145.686 1335.34 L145.686 1329.46 Z\" fill=\"#000000\" fill-rule=\"evenodd\" fill-opacity=\"1\" /><path clip-path=\"url(#clip270)\" d=\"M164.783 1331.41 L181.103 1331.41 L181.103 1335.34 L159.158 1335.34 L159.158 1331.41 Q161.82 1328.65 166.404 1324.02 Q171.01 1319.37 172.191 1318.03 Q174.436 1315.5 175.316 1313.77 Q176.218 1312.01 176.218 1310.32 Q176.218 1307.56 174.274 1305.83 Q172.353 1304.09 169.251 1304.09 Q167.052 1304.09 164.598 1304.85 Q162.167 1305.62 159.39 1307.17 L159.39 1302.45 Q162.214 1301.31 164.667 1300.73 Q167.121 1300.16 169.158 1300.16 Q174.528 1300.16 177.723 1302.84 Q180.917 1305.53 180.917 1310.02 Q180.917 1312.15 180.107 1314.07 Q179.32 1315.97 177.214 1318.56 Q176.635 1319.23 173.533 1322.45 Q170.431 1325.64 164.783 1331.41 Z\" fill=\"#000000\" fill-rule=\"evenodd\" fill-opacity=\"1\" /><path clip-path=\"url(#clip270)\" d=\"M123.441 1121.12 Q119.83 1121.12 118.001 1124.68 Q116.195 1128.23 116.195 1135.36 Q116.195 1142.46 118.001 1146.03 Q119.83 1149.57 123.441 1149.57 Q127.075 1149.57 128.881 1146.03 Q130.709 1142.46 130.709 1135.36 Q130.709 1128.23 128.881 1124.68 Q127.075 1121.12 123.441 1121.12 M123.441 1117.42 Q129.251 1117.42 132.306 1122.02 Q135.385 1126.61 135.385 1135.36 Q135.385 1144.08 132.306 1148.69 Q129.251 1153.27 123.441 1153.27 Q117.631 1153.27 114.552 1148.69 Q111.496 1144.08 111.496 1135.36 Q111.496 1126.61 114.552 1122.02 Q117.631 1117.42 123.441 1117.42 Z\" fill=\"#000000\" fill-rule=\"evenodd\" fill-opacity=\"1\" /><path clip-path=\"url(#clip270)\" d=\"M143.603 1146.72 L148.487 1146.72 L148.487 1152.6 L143.603 1152.6 L143.603 1146.72 Z\" fill=\"#000000\" fill-rule=\"evenodd\" fill-opacity=\"1\" /><path clip-path=\"url(#clip270)\" d=\"M171.519 1122.11 L159.714 1140.56 L171.519 1140.56 L171.519 1122.11 M170.292 1118.04 L176.172 1118.04 L176.172 1140.56 L181.103 1140.56 L181.103 1144.45 L176.172 1144.45 L176.172 1152.6 L171.519 1152.6 L171.519 1144.45 L155.917 1144.45 L155.917 1139.94 L170.292 1118.04 Z\" fill=\"#000000\" fill-rule=\"evenodd\" fill-opacity=\"1\" /><path clip-path=\"url(#clip270)\" d=\"M1805.76 1018.82 L1805.76 1041.55 L1816.05 1041.55 Q1821.76 1041.55 1824.88 1038.59 Q1828 1035.63 1828 1030.16 Q1828 1024.73 1824.88 1021.78 Q1821.76 1018.82 1816.05 1018.82 L1805.76 1018.82 M1797.58 1012.1 L1816.05 1012.1 Q1826.22 1012.1 1831.4 1016.71 Q1836.63 1021.29 1836.63 1030.16 Q1836.63 1039.12 1831.4 1043.69 Q1826.22 1048.27 1816.05 1048.27 L1805.76 1048.27 L1805.76 1072.58 L1797.58 1072.58 L1797.58 1012.1 Z\" fill=\"#000000\" fill-rule=\"evenodd\" fill-opacity=\"1\" /><path clip-path=\"url(#clip270)\" d=\"M1862.51 1020.16 L1851.41 1050.26 L1873.65 1050.26 L1862.51 1020.16 M1857.9 1012.1 L1867.17 1012.1 L1890.22 1072.58 L1881.72 1072.58 L1876.21 1057.06 L1848.94 1057.06 L1843.43 1072.58 L1834.81 1072.58 L1857.9 1012.1 Z\" fill=\"#000000\" fill-rule=\"evenodd\" fill-opacity=\"1\" /><path clip-path=\"url(#clip270)\" d=\"M1942.88 1016.75 L1942.88 1025.38 Q1938.75 1021.53 1934.05 1019.63 Q1929.39 1017.73 1924.13 1017.73 Q1913.76 1017.73 1908.25 1024.09 Q1902.74 1030.41 1902.74 1042.4 Q1902.74 1054.35 1908.25 1060.71 Q1913.76 1067.03 1924.13 1067.03 Q1929.39 1067.03 1934.05 1065.12 Q1938.75 1063.22 1942.88 1059.37 L1942.88 1067.92 Q1938.59 1070.83 1933.77 1072.29 Q1928.99 1073.75 1923.64 1073.75 Q1909.91 1073.75 1902.01 1065.37 Q1894.11 1056.94 1894.11 1042.4 Q1894.11 1027.81 1902.01 1019.43 Q1909.91 1011 1923.64 1011 Q1929.07 1011 1933.85 1012.46 Q1938.67 1013.88 1942.88 1016.75 Z\" fill=\"#000000\" fill-rule=\"evenodd\" fill-opacity=\"1\" /><path clip-path=\"url(#clip270)\" d=\"M1955.52 1012.1 L1990.28 1012.1 L1990.28 1018.98 L1963.71 1018.98 L1963.71 1036.81 L1987.69 1036.81 L1987.69 1043.69 L1963.71 1043.69 L1963.71 1072.58 L1955.52 1072.58 L1955.52 1012.1 Z\" fill=\"#000000\" fill-rule=\"evenodd\" fill-opacity=\"1\" /><circle clip-path=\"url(#clip273)\" cx=\"328.998\" cy=\"1443.9\" r=\"14\" fill=\"#009af9\" fill-rule=\"evenodd\" fill-opacity=\"1\" stroke=\"#000000\" stroke-opacity=\"1\" stroke-width=\"4\"/>\n",
       "<circle clip-path=\"url(#clip273)\" cx=\"493.728\" cy=\"1423.08\" r=\"14\" fill=\"#009af9\" fill-rule=\"evenodd\" fill-opacity=\"1\" stroke=\"#000000\" stroke-opacity=\"1\" stroke-width=\"4\"/>\n",
       "<circle clip-path=\"url(#clip273)\" cx=\"658.457\" cy=\"1574.34\" r=\"14\" fill=\"#009af9\" fill-rule=\"evenodd\" fill-opacity=\"1\" stroke=\"#000000\" stroke-opacity=\"1\" stroke-width=\"4\"/>\n",
       "<circle clip-path=\"url(#clip273)\" cx=\"823.187\" cy=\"1518.76\" r=\"14\" fill=\"#009af9\" fill-rule=\"evenodd\" fill-opacity=\"1\" stroke=\"#000000\" stroke-opacity=\"1\" stroke-width=\"4\"/>\n",
       "<circle clip-path=\"url(#clip273)\" cx=\"987.917\" cy=\"1535.75\" r=\"14\" fill=\"#009af9\" fill-rule=\"evenodd\" fill-opacity=\"1\" stroke=\"#000000\" stroke-opacity=\"1\" stroke-width=\"4\"/>\n",
       "<circle clip-path=\"url(#clip273)\" cx=\"1152.65\" cy=\"1520.19\" r=\"14\" fill=\"#009af9\" fill-rule=\"evenodd\" fill-opacity=\"1\" stroke=\"#000000\" stroke-opacity=\"1\" stroke-width=\"4\"/>\n",
       "<circle clip-path=\"url(#clip273)\" cx=\"1317.38\" cy=\"1498.42\" r=\"14\" fill=\"#009af9\" fill-rule=\"evenodd\" fill-opacity=\"1\" stroke=\"#000000\" stroke-opacity=\"1\" stroke-width=\"4\"/>\n",
       "<circle clip-path=\"url(#clip273)\" cx=\"1482.11\" cy=\"1529.2\" r=\"14\" fill=\"#009af9\" fill-rule=\"evenodd\" fill-opacity=\"1\" stroke=\"#000000\" stroke-opacity=\"1\" stroke-width=\"4\"/>\n",
       "<circle clip-path=\"url(#clip273)\" cx=\"1646.83\" cy=\"1502.31\" r=\"14\" fill=\"#009af9\" fill-rule=\"evenodd\" fill-opacity=\"1\" stroke=\"#000000\" stroke-opacity=\"1\" stroke-width=\"4\"/>\n",
       "<circle clip-path=\"url(#clip273)\" cx=\"1811.56\" cy=\"1447.88\" r=\"14\" fill=\"#009af9\" fill-rule=\"evenodd\" fill-opacity=\"1\" stroke=\"#000000\" stroke-opacity=\"1\" stroke-width=\"4\"/>\n",
       "<circle clip-path=\"url(#clip273)\" cx=\"1976.29\" cy=\"1528.28\" r=\"14\" fill=\"#009af9\" fill-rule=\"evenodd\" fill-opacity=\"1\" stroke=\"#000000\" stroke-opacity=\"1\" stroke-width=\"4\"/>\n",
       "<circle clip-path=\"url(#clip273)\" cx=\"2141.02\" cy=\"1434.14\" r=\"14\" fill=\"#009af9\" fill-rule=\"evenodd\" fill-opacity=\"1\" stroke=\"#000000\" stroke-opacity=\"1\" stroke-width=\"4\"/>\n",
       "<circle clip-path=\"url(#clip273)\" cx=\"2305.75\" cy=\"1576.87\" r=\"14\" fill=\"#009af9\" fill-rule=\"evenodd\" fill-opacity=\"1\" stroke=\"#000000\" stroke-opacity=\"1\" stroke-width=\"4\"/>\n",
       "<circle clip-path=\"url(#clip273)\" cx=\"2470.48\" cy=\"1513.28\" r=\"14\" fill=\"#009af9\" fill-rule=\"evenodd\" fill-opacity=\"1\" stroke=\"#000000\" stroke-opacity=\"1\" stroke-width=\"4\"/>\n",
       "<circle clip-path=\"url(#clip273)\" cx=\"2635.21\" cy=\"1355.27\" r=\"14\" fill=\"#009af9\" fill-rule=\"evenodd\" fill-opacity=\"1\" stroke=\"#000000\" stroke-opacity=\"1\" stroke-width=\"4\"/>\n",
       "<circle clip-path=\"url(#clip273)\" cx=\"2799.94\" cy=\"1580.37\" r=\"14\" fill=\"#009af9\" fill-rule=\"evenodd\" fill-opacity=\"1\" stroke=\"#000000\" stroke-opacity=\"1\" stroke-width=\"4\"/>\n",
       "<circle clip-path=\"url(#clip273)\" cx=\"2964.67\" cy=\"1589.17\" r=\"14\" fill=\"#009af9\" fill-rule=\"evenodd\" fill-opacity=\"1\" stroke=\"#000000\" stroke-opacity=\"1\" stroke-width=\"4\"/>\n",
       "<circle clip-path=\"url(#clip273)\" cx=\"3129.4\" cy=\"1529.08\" r=\"14\" fill=\"#009af9\" fill-rule=\"evenodd\" fill-opacity=\"1\" stroke=\"#000000\" stroke-opacity=\"1\" stroke-width=\"4\"/>\n",
       "<circle clip-path=\"url(#clip273)\" cx=\"3294.13\" cy=\"1502.57\" r=\"14\" fill=\"#009af9\" fill-rule=\"evenodd\" fill-opacity=\"1\" stroke=\"#000000\" stroke-opacity=\"1\" stroke-width=\"4\"/>\n",
       "<circle clip-path=\"url(#clip273)\" cx=\"3458.86\" cy=\"1507.61\" r=\"14\" fill=\"#009af9\" fill-rule=\"evenodd\" fill-opacity=\"1\" stroke=\"#000000\" stroke-opacity=\"1\" stroke-width=\"4\"/>\n",
       "<path clip-path=\"url(#clip270)\" d=\"\n",
       "M2294.26 1242.9 L3442.17 1242.9 L3442.17 1139.22 L2294.26 1139.22  Z\n",
       "  \" fill=\"#ffffff\" fill-rule=\"evenodd\" fill-opacity=\"1\"/>\n",
       "<polyline clip-path=\"url(#clip270)\" style=\"stroke:#000000; stroke-linecap:butt; stroke-linejoin:round; stroke-width:4; stroke-opacity:1; fill:none\" points=\"\n",
       "  2294.26,1242.9 3442.17,1242.9 3442.17,1139.22 2294.26,1139.22 2294.26,1242.9 \n",
       "  \"/>\n",
       "<circle clip-path=\"url(#clip270)\" cx=\"2441.71\" cy=\"1191.06\" r=\"23\" fill=\"#009af9\" fill-rule=\"evenodd\" fill-opacity=\"1\" stroke=\"#000000\" stroke-opacity=\"1\" stroke-width=\"6.4\"/>\n",
       "<path clip-path=\"url(#clip270)\" d=\"M2589.83 1204.4 L2597.47 1204.4 L2597.47 1178.04 L2589.16 1179.71 L2589.16 1175.45 L2597.43 1173.78 L2602.1 1173.78 L2602.1 1204.4 L2609.74 1204.4 L2609.74 1208.34 L2589.83 1208.34 L2589.83 1204.4 Z\" fill=\"#000000\" fill-rule=\"evenodd\" fill-opacity=\"1\" /><path clip-path=\"url(#clip270)\" d=\"M2629.19 1176.86 Q2625.58 1176.86 2623.75 1180.42 Q2621.94 1183.96 2621.94 1191.09 Q2621.94 1198.2 2623.75 1201.77 Q2625.58 1205.31 2629.19 1205.31 Q2632.82 1205.31 2634.63 1201.77 Q2636.46 1198.2 2636.46 1191.09 Q2636.46 1183.96 2634.63 1180.42 Q2632.82 1176.86 2629.19 1176.86 M2629.19 1173.15 Q2635 1173.15 2638.05 1177.76 Q2641.13 1182.34 2641.13 1191.09 Q2641.13 1199.82 2638.05 1204.43 Q2635 1209.01 2629.19 1209.01 Q2623.38 1209.01 2620.3 1204.43 Q2617.24 1199.82 2617.24 1191.09 Q2617.24 1182.34 2620.3 1177.76 Q2623.38 1173.15 2629.19 1173.15 Z\" fill=\"#000000\" fill-rule=\"evenodd\" fill-opacity=\"1\" /><path clip-path=\"url(#clip270)\" d=\"M2659.26 1173.78 L2664.28 1173.78 L2673.86 1187.99 L2683.38 1173.78 L2688.4 1173.78 L2676.18 1191.88 L2676.18 1208.34 L2671.48 1208.34 L2671.48 1191.88 L2659.26 1173.78 Z\" fill=\"#000000\" fill-rule=\"evenodd\" fill-opacity=\"1\" /><path clip-path=\"url(#clip270)\" d=\"M2708.65 1194.31 L2708.65 1196.39 L2689.07 1196.39 Q2689.35 1200.79 2691.71 1203.11 Q2694.09 1205.4 2698.33 1205.4 Q2700.78 1205.4 2703.08 1204.8 Q2705.39 1204.2 2707.66 1202.99 L2707.66 1207.02 Q2705.37 1207.99 2702.96 1208.5 Q2700.55 1209.01 2698.08 1209.01 Q2691.87 1209.01 2688.24 1205.4 Q2684.63 1201.79 2684.63 1195.63 Q2684.63 1189.27 2688.05 1185.54 Q2691.5 1181.79 2697.33 1181.79 Q2702.57 1181.79 2705.6 1185.17 Q2708.65 1188.52 2708.65 1194.31 M2704.39 1193.06 Q2704.35 1189.57 2702.43 1187.48 Q2700.53 1185.4 2697.38 1185.4 Q2693.82 1185.4 2691.66 1187.41 Q2689.53 1189.43 2689.21 1193.08 L2704.39 1193.06 Z\" fill=\"#000000\" fill-rule=\"evenodd\" fill-opacity=\"1\" /><path clip-path=\"url(#clip270)\" d=\"M2727.43 1195.31 Q2722.26 1195.31 2720.27 1196.49 Q2718.28 1197.67 2718.28 1200.52 Q2718.28 1202.78 2719.76 1204.13 Q2721.27 1205.45 2723.84 1205.45 Q2727.38 1205.45 2729.51 1202.95 Q2731.66 1200.42 2731.66 1196.26 L2731.66 1195.31 L2727.43 1195.31 M2735.92 1193.55 L2735.92 1208.34 L2731.66 1208.34 L2731.66 1204.4 Q2730.2 1206.77 2728.03 1207.9 Q2725.85 1209.01 2722.7 1209.01 Q2718.72 1209.01 2716.36 1206.79 Q2714.02 1204.54 2714.02 1200.79 Q2714.02 1196.42 2716.94 1194.2 Q2719.88 1191.97 2725.69 1191.97 L2731.66 1191.97 L2731.66 1191.56 Q2731.66 1188.62 2729.72 1187.02 Q2727.8 1185.4 2724.3 1185.4 Q2722.08 1185.4 2719.97 1185.93 Q2717.87 1186.46 2715.92 1187.53 L2715.92 1183.59 Q2718.26 1182.69 2720.46 1182.25 Q2722.66 1181.79 2724.74 1181.79 Q2730.37 1181.79 2733.14 1184.71 Q2735.92 1187.62 2735.92 1193.55 Z\" fill=\"#000000\" fill-rule=\"evenodd\" fill-opacity=\"1\" /><path clip-path=\"url(#clip270)\" d=\"M2759.72 1186.39 Q2759 1185.98 2758.14 1185.79 Q2757.31 1185.58 2756.29 1185.58 Q2752.68 1185.58 2750.74 1187.95 Q2748.82 1190.28 2748.82 1194.68 L2748.82 1208.34 L2744.53 1208.34 L2744.53 1182.41 L2748.82 1182.41 L2748.82 1186.44 Q2750.16 1184.08 2752.31 1182.95 Q2754.46 1181.79 2757.54 1181.79 Q2757.98 1181.79 2758.51 1181.86 Q2759.05 1181.9 2759.7 1182.02 L2759.72 1186.39 Z\" fill=\"#000000\" fill-rule=\"evenodd\" fill-opacity=\"1\" /><path clip-path=\"url(#clip270)\" d=\"M2805.32 1176.44 L2805.32 1181.37 Q2802.96 1179.17 2800.27 1178.08 Q2797.61 1177 2794.6 1177 Q2788.68 1177 2785.53 1180.63 Q2782.38 1184.24 2782.38 1191.09 Q2782.38 1197.92 2785.53 1201.56 Q2788.68 1205.17 2794.6 1205.17 Q2797.61 1205.17 2800.27 1204.08 Q2802.96 1202.99 2805.32 1200.79 L2805.32 1205.68 Q2802.87 1207.34 2800.11 1208.18 Q2797.38 1209.01 2794.32 1209.01 Q2786.48 1209.01 2781.96 1204.22 Q2777.45 1199.4 2777.45 1191.09 Q2777.45 1182.76 2781.96 1177.97 Q2786.48 1173.15 2794.32 1173.15 Q2797.43 1173.15 2800.16 1173.99 Q2802.91 1174.8 2805.32 1176.44 Z\" fill=\"#000000\" fill-rule=\"evenodd\" fill-opacity=\"1\" /><path clip-path=\"url(#clip270)\" d=\"M2812.54 1173.78 L2819.51 1173.78 L2828.33 1197.3 L2837.19 1173.78 L2844.16 1173.78 L2844.16 1208.34 L2839.6 1208.34 L2839.6 1177.99 L2830.69 1201.7 L2825.99 1201.7 L2817.08 1177.99 L2817.08 1208.34 L2812.54 1208.34 L2812.54 1173.78 Z\" fill=\"#000000\" fill-rule=\"evenodd\" fill-opacity=\"1\" /><path clip-path=\"url(#clip270)\" d=\"M2848.65 1173.78 L2877.89 1173.78 L2877.89 1177.71 L2865.62 1177.71 L2865.62 1208.34 L2860.92 1208.34 L2860.92 1177.71 L2848.65 1177.71 L2848.65 1173.78 Z\" fill=\"#000000\" fill-rule=\"evenodd\" fill-opacity=\"1\" /><path clip-path=\"url(#clip270)\" d=\"M2902.15 1191.83 L2902.15 1204.5 L2909.65 1204.5 Q2913.42 1204.5 2915.23 1202.95 Q2917.06 1201.37 2917.06 1198.15 Q2917.06 1194.91 2915.23 1193.39 Q2913.42 1191.83 2909.65 1191.83 L2902.15 1191.83 M2902.15 1177.62 L2902.15 1188.04 L2909.07 1188.04 Q2912.5 1188.04 2914.16 1186.77 Q2915.85 1185.47 2915.85 1182.83 Q2915.85 1180.21 2914.16 1178.92 Q2912.5 1177.62 2909.07 1177.62 L2902.15 1177.62 M2897.47 1173.78 L2909.42 1173.78 Q2914.76 1173.78 2917.66 1176 Q2920.55 1178.22 2920.55 1182.32 Q2920.55 1185.49 2919.07 1187.37 Q2917.59 1189.24 2914.72 1189.71 Q2918.17 1190.45 2920.06 1192.81 Q2921.99 1195.14 2921.99 1198.66 Q2921.99 1203.29 2918.84 1205.82 Q2915.69 1208.34 2909.88 1208.34 L2897.47 1208.34 L2897.47 1173.78 Z\" fill=\"#000000\" fill-rule=\"evenodd\" fill-opacity=\"1\" /><path clip-path=\"url(#clip270)\" d=\"M2939.86 1185.4 Q2936.43 1185.4 2934.44 1188.08 Q2932.45 1190.75 2932.45 1195.4 Q2932.45 1200.05 2934.42 1202.74 Q2936.41 1205.4 2939.86 1205.4 Q2943.26 1205.4 2945.25 1202.71 Q2947.24 1200.03 2947.24 1195.4 Q2947.24 1190.79 2945.25 1188.11 Q2943.26 1185.4 2939.86 1185.4 M2939.86 1181.79 Q2945.41 1181.79 2948.58 1185.4 Q2951.75 1189.01 2951.75 1195.4 Q2951.75 1201.77 2948.58 1205.4 Q2945.41 1209.01 2939.86 1209.01 Q2934.28 1209.01 2931.11 1205.4 Q2927.96 1201.77 2927.96 1195.4 Q2927.96 1189.01 2931.11 1185.4 Q2934.28 1181.79 2939.86 1181.79 Z\" fill=\"#000000\" fill-rule=\"evenodd\" fill-opacity=\"1\" /><path clip-path=\"url(#clip270)\" d=\"M2980.37 1192.69 L2980.37 1208.34 L2976.11 1208.34 L2976.11 1192.83 Q2976.11 1189.15 2974.67 1187.32 Q2973.24 1185.49 2970.37 1185.49 Q2966.92 1185.49 2964.93 1187.69 Q2962.93 1189.89 2962.93 1193.69 L2962.93 1208.34 L2958.65 1208.34 L2958.65 1182.41 L2962.93 1182.41 L2962.93 1186.44 Q2964.46 1184.1 2966.52 1182.95 Q2968.61 1181.79 2971.31 1181.79 Q2975.78 1181.79 2978.07 1184.57 Q2980.37 1187.32 2980.37 1192.69 Z\" fill=\"#000000\" fill-rule=\"evenodd\" fill-opacity=\"1\" /><path clip-path=\"url(#clip270)\" d=\"M3005.92 1186.35 L3005.92 1172.32 L3010.18 1172.32 L3010.18 1208.34 L3005.92 1208.34 L3005.92 1204.45 Q3004.58 1206.77 3002.52 1207.9 Q3000.48 1209.01 2997.61 1209.01 Q2992.91 1209.01 2989.95 1205.26 Q2987.01 1201.51 2987.01 1195.4 Q2987.01 1189.29 2989.95 1185.54 Q2992.91 1181.79 2997.61 1181.79 Q3000.48 1181.79 3002.52 1182.92 Q3004.58 1184.03 3005.92 1186.35 M2991.41 1195.4 Q2991.41 1200.1 2993.33 1202.78 Q2995.27 1205.45 2998.65 1205.45 Q3002.03 1205.45 3003.98 1202.78 Q3005.92 1200.1 3005.92 1195.4 Q3005.92 1190.7 3003.98 1188.04 Q3002.03 1185.35 2998.65 1185.35 Q2995.27 1185.35 2993.33 1188.04 Q2991.41 1190.7 2991.41 1195.4 Z\" fill=\"#000000\" fill-rule=\"evenodd\" fill-opacity=\"1\" /><path clip-path=\"url(#clip270)\" d=\"M3038.88 1177.62 L3038.88 1190.61 L3044.76 1190.61 Q3048.03 1190.61 3049.81 1188.92 Q3051.59 1187.23 3051.59 1184.1 Q3051.59 1181 3049.81 1179.31 Q3048.03 1177.62 3044.76 1177.62 L3038.88 1177.62 M3034.21 1173.78 L3044.76 1173.78 Q3050.57 1173.78 3053.54 1176.42 Q3056.52 1179.03 3056.52 1184.1 Q3056.52 1189.22 3053.54 1191.83 Q3050.57 1194.45 3044.76 1194.45 L3038.88 1194.45 L3038.88 1208.34 L3034.21 1208.34 L3034.21 1173.78 Z\" fill=\"#000000\" fill-rule=\"evenodd\" fill-opacity=\"1\" /><path clip-path=\"url(#clip270)\" d=\"M3071.31 1178.39 L3064.97 1195.58 L3077.68 1195.58 L3071.31 1178.39 M3068.67 1173.78 L3073.98 1173.78 L3087.15 1208.34 L3082.29 1208.34 L3079.14 1199.47 L3063.56 1199.47 L3060.41 1208.34 L3055.48 1208.34 L3068.67 1173.78 Z\" fill=\"#000000\" fill-rule=\"evenodd\" fill-opacity=\"1\" /><path clip-path=\"url(#clip270)\" d=\"M3117.24 1176.44 L3117.24 1181.37 Q3114.88 1179.17 3112.19 1178.08 Q3109.53 1177 3106.52 1177 Q3100.6 1177 3097.45 1180.63 Q3094.3 1184.24 3094.3 1191.09 Q3094.3 1197.92 3097.45 1201.56 Q3100.6 1205.17 3106.52 1205.17 Q3109.53 1205.17 3112.19 1204.08 Q3114.88 1202.99 3117.24 1200.79 L3117.24 1205.68 Q3114.79 1207.34 3112.03 1208.18 Q3109.3 1209.01 3106.24 1209.01 Q3098.4 1209.01 3093.88 1204.22 Q3089.37 1199.4 3089.37 1191.09 Q3089.37 1182.76 3093.88 1177.97 Q3098.4 1173.15 3106.24 1173.15 Q3109.35 1173.15 3112.08 1173.99 Q3114.83 1174.8 3117.24 1176.44 Z\" fill=\"#000000\" fill-rule=\"evenodd\" fill-opacity=\"1\" /><path clip-path=\"url(#clip270)\" d=\"M3124.46 1173.78 L3144.32 1173.78 L3144.32 1177.71 L3129.14 1177.71 L3129.14 1187.9 L3142.84 1187.9 L3142.84 1191.83 L3129.14 1191.83 L3129.14 1208.34 L3124.46 1208.34 L3124.46 1173.78 Z\" fill=\"#000000\" fill-rule=\"evenodd\" fill-opacity=\"1\" /><path clip-path=\"url(#clip270)\" d=\"M3175.71 1208.34 L3162.52 1173.78 L3167.4 1173.78 L3178.35 1202.88 L3189.32 1173.78 L3194.18 1173.78 L3181.01 1208.34 L3175.71 1208.34 Z\" fill=\"#000000\" fill-rule=\"evenodd\" fill-opacity=\"1\" /><path clip-path=\"url(#clip270)\" d=\"M3207.15 1195.31 Q3201.98 1195.31 3199.99 1196.49 Q3198 1197.67 3198 1200.52 Q3198 1202.78 3199.48 1204.13 Q3200.99 1205.45 3203.56 1205.45 Q3207.1 1205.45 3209.23 1202.95 Q3211.38 1200.42 3211.38 1196.26 L3211.38 1195.31 L3207.15 1195.31 M3215.64 1193.55 L3215.64 1208.34 L3211.38 1208.34 L3211.38 1204.4 Q3209.92 1206.77 3207.75 1207.9 Q3205.57 1209.01 3202.42 1209.01 Q3198.44 1209.01 3196.08 1206.79 Q3193.74 1204.54 3193.74 1200.79 Q3193.74 1196.42 3196.66 1194.2 Q3199.6 1191.97 3205.41 1191.97 L3211.38 1191.97 L3211.38 1191.56 Q3211.38 1188.62 3209.44 1187.02 Q3207.52 1185.4 3204.02 1185.4 Q3201.8 1185.4 3199.69 1185.93 Q3197.59 1186.46 3195.64 1187.53 L3195.64 1183.59 Q3197.98 1182.69 3200.18 1182.25 Q3202.38 1181.79 3204.46 1181.79 Q3210.09 1181.79 3212.86 1184.71 Q3215.64 1187.62 3215.64 1193.55 Z\" fill=\"#000000\" fill-rule=\"evenodd\" fill-opacity=\"1\" /><path clip-path=\"url(#clip270)\" d=\"M3239.44 1186.39 Q3238.72 1185.98 3237.86 1185.79 Q3237.03 1185.58 3236.01 1185.58 Q3232.4 1185.58 3230.46 1187.95 Q3228.54 1190.28 3228.54 1194.68 L3228.54 1208.34 L3224.25 1208.34 L3224.25 1182.41 L3228.54 1182.41 L3228.54 1186.44 Q3229.88 1184.08 3232.03 1182.95 Q3234.18 1181.79 3237.26 1181.79 Q3237.7 1181.79 3238.23 1181.86 Q3238.77 1181.9 3239.41 1182.02 L3239.44 1186.39 Z\" fill=\"#000000\" fill-rule=\"evenodd\" fill-opacity=\"1\" /><path clip-path=\"url(#clip270)\" d=\"M3243.91 1182.41 L3248.16 1182.41 L3248.16 1208.34 L3243.91 1208.34 L3243.91 1182.41 M3243.91 1172.32 L3248.16 1172.32 L3248.16 1177.71 L3243.91 1177.71 L3243.91 1172.32 Z\" fill=\"#000000\" fill-rule=\"evenodd\" fill-opacity=\"1\" /><path clip-path=\"url(#clip270)\" d=\"M3268.86 1195.31 Q3263.7 1195.31 3261.71 1196.49 Q3259.72 1197.67 3259.72 1200.52 Q3259.72 1202.78 3261.2 1204.13 Q3262.7 1205.45 3265.27 1205.45 Q3268.81 1205.45 3270.94 1202.95 Q3273.1 1200.42 3273.1 1196.26 L3273.1 1195.31 L3268.86 1195.31 M3277.35 1193.55 L3277.35 1208.34 L3273.1 1208.34 L3273.1 1204.4 Q3271.64 1206.77 3269.46 1207.9 Q3267.28 1209.01 3264.14 1209.01 Q3260.16 1209.01 3257.79 1206.79 Q3255.46 1204.54 3255.46 1200.79 Q3255.46 1196.42 3258.37 1194.2 Q3261.31 1191.97 3267.12 1191.97 L3273.1 1191.97 L3273.1 1191.56 Q3273.1 1188.62 3271.15 1187.02 Q3269.23 1185.4 3265.73 1185.4 Q3263.51 1185.4 3261.41 1185.93 Q3259.3 1186.46 3257.35 1187.53 L3257.35 1183.59 Q3259.69 1182.69 3261.89 1182.25 Q3264.09 1181.79 3266.17 1181.79 Q3271.8 1181.79 3274.58 1184.71 Q3277.35 1187.62 3277.35 1193.55 Z\" fill=\"#000000\" fill-rule=\"evenodd\" fill-opacity=\"1\" /><path clip-path=\"url(#clip270)\" d=\"M3290.34 1175.05 L3290.34 1182.41 L3299.11 1182.41 L3299.11 1185.72 L3290.34 1185.72 L3290.34 1199.8 Q3290.34 1202.97 3291.2 1203.87 Q3292.08 1204.77 3294.74 1204.77 L3299.11 1204.77 L3299.11 1208.34 L3294.74 1208.34 Q3289.81 1208.34 3287.93 1206.51 Q3286.06 1204.66 3286.06 1199.8 L3286.06 1185.72 L3282.93 1185.72 L3282.93 1182.41 L3286.06 1182.41 L3286.06 1175.05 L3290.34 1175.05 Z\" fill=\"#000000\" fill-rule=\"evenodd\" fill-opacity=\"1\" /><path clip-path=\"url(#clip270)\" d=\"M3304.72 1182.41 L3308.97 1182.41 L3308.97 1208.34 L3304.72 1208.34 L3304.72 1182.41 M3304.72 1172.32 L3308.97 1172.32 L3308.97 1177.71 L3304.72 1177.71 L3304.72 1172.32 Z\" fill=\"#000000\" fill-rule=\"evenodd\" fill-opacity=\"1\" /><path clip-path=\"url(#clip270)\" d=\"M3327.93 1185.4 Q3324.51 1185.4 3322.52 1188.08 Q3320.53 1190.75 3320.53 1195.4 Q3320.53 1200.05 3322.49 1202.74 Q3324.48 1205.4 3327.93 1205.4 Q3331.34 1205.4 3333.33 1202.71 Q3335.32 1200.03 3335.32 1195.4 Q3335.32 1190.79 3333.33 1188.11 Q3331.34 1185.4 3327.93 1185.4 M3327.93 1181.79 Q3333.49 1181.79 3336.66 1185.4 Q3339.83 1189.01 3339.83 1195.4 Q3339.83 1201.77 3336.66 1205.4 Q3333.49 1209.01 3327.93 1209.01 Q3322.35 1209.01 3319.18 1205.4 Q3316.03 1201.77 3316.03 1195.4 Q3316.03 1189.01 3319.18 1185.4 Q3322.35 1181.79 3327.93 1181.79 Z\" fill=\"#000000\" fill-rule=\"evenodd\" fill-opacity=\"1\" /><path clip-path=\"url(#clip270)\" d=\"M3368.44 1192.69 L3368.44 1208.34 L3364.18 1208.34 L3364.18 1192.83 Q3364.18 1189.15 3362.75 1187.32 Q3361.31 1185.49 3358.44 1185.49 Q3354.99 1185.49 3353 1187.69 Q3351.01 1189.89 3351.01 1193.69 L3351.01 1208.34 L3346.73 1208.34 L3346.73 1182.41 L3351.01 1182.41 L3351.01 1186.44 Q3352.54 1184.1 3354.6 1182.95 Q3356.68 1181.79 3359.39 1181.79 Q3363.86 1181.79 3366.15 1184.57 Q3368.44 1187.32 3368.44 1192.69 Z\" fill=\"#000000\" fill-rule=\"evenodd\" fill-opacity=\"1\" /></svg>\n"
      ]
     },
     "execution_count": 8,
     "metadata": {},
     "output_type": "execute_result"
    }
   ],
   "source": [
    "using StatsBase\n",
    "\n",
    "Y = s_diff[:, 3]\n",
    "total_lags = 20\n",
    "\n",
    "s1 = scatter(collect(1:total_lags), autocor(Y, collect(1:total_lags)), title = \"ACF\", label = \"10 Year CMT Bond ACF Variation\")\n",
    "s2 = scatter(collect(1:total_lags), pacf(Y, collect(1:total_lags)), title = \"PACF\", ylim = [-0.4,0.4], label = \"10 Year CMT Bond PACF Variation\");\n",
    "\n",
    "plot(s1, s2, layout = (2, 1), size = (900, 500))"
   ]
  },
  {
   "cell_type": "markdown",
   "id": "satisfactory-athletics",
   "metadata": {},
   "source": [
    "I honestly don't know how to interpret these charts too well. In the `R` programming language it is a lot easier, so I will try"
   ]
  },
  {
   "cell_type": "markdown",
   "id": "trying-award",
   "metadata": {},
   "source": [
    "$\\forall$ bond CMT inflation series"
   ]
  },
  {
   "cell_type": "code",
   "execution_count": 9,
   "id": "handmade-crowd",
   "metadata": {},
   "outputs": [
    {
     "data": {
      "image/png": "[encoded data removed]"
     },
     "metadata": {},
     "output_type": "display_data"
    },
    {
     "data": {
      "image/png": "[encoded data removed]"
     },
     "metadata": {},
     "output_type": "display_data"
    },
    {
     "data": {
      "image/png": "[encoded data removed]"
     },
     "metadata": {},
     "output_type": "display_data"
    },
    {
     "data": {
      "image/png": "[encoded data removed]"
     },
     "metadata": {},
     "output_type": "display_data"
    },
    {
     "data": {
      "image/png": "[encoded data removed]"
     },
     "metadata": {},
     "output_type": "display_data"
    },
    {
     "data": {
      "image/png": "[encoded data removed]"
     },
     "metadata": {},
     "output_type": "display_data"
    },
    {
     "data": {
      "image/png": "[encoded data removed]"
     },
     "metadata": {},
     "output_type": "display_data"
    },
    {
     "data": {
      "image/png": "[encoded data removed]"
     },
     "metadata": {},
     "output_type": "display_data"
    },
    {
     "data": {
      "image/png": "[encoded data removed]"
     },
     "metadata": {},
     "output_type": "display_data"
    },
    {
     "data": {
      "image/png": "[encoded data removed]"
     },
     "metadata": {},
     "output_type": "display_data"
    },
    {
     "name": "stderr",
     "output_type": "stream",
     "text": [
      "┌ Warning: RCall.jl: Loading required package: tseries\n",
      "│ Registered S3 method overwritten by 'quantmod':\n",
      "│   method            from\n",
      "│   as.zoo.data.frame zoo \n",
      "│ \n",
      "│     'tseries' version: 0.10-48\n",
      "│ \n",
      "│     'tseries' is a package for time series analysis and computational\n",
      "│     finance.\n",
      "│ \n",
      "│     See 'library(help=\"tseries\")' for details.\n",
      "│ \n",
      "└ @ RCall C:\\Users\\Owner\\.julia\\packages\\RCall\\iMDW2\\src\\io.jl:160\n"
     ]
    },
    {
     "data": {
      "text/plain": [
       "RObject{VecSxp}\n",
       "\n",
       "Autocorrelations of series 'Y[, 5]', by lag\n",
       "\n",
       "     0      1      2      3      4      5      6      7      8      9     10 \n",
       " 1.000  0.124  0.040 -0.144  0.023 -0.136 -0.025 -0.002  0.002 -0.054  0.101 \n",
       "    11     12     13     14     15     16     17     18     19     20 \n",
       " 0.051  0.085 -0.046 -0.004  0.106 -0.060 -0.180 -0.057  0.000  0.001 \n"
      ]
     },
     "execution_count": 9,
     "metadata": {},
     "output_type": "execute_result"
    }
   ],
   "source": [
    "using RCall\n",
    "\n",
    "Y = s_diff\n",
    "@rput Y\n",
    "R\"\"\"\n",
    "    options(warn=-1)\n",
    "\n",
    "    par(mfrow=c(1, 1))\n",
    "    require(\"tseries\")\n",
    "\n",
    "    pacf(Y[, 1], lag = 20, ylim = c(-0.4, 0.4))\n",
    "    acf(Y[, 1], lag = 20, ylim = c(-0.4, 0.4))\n",
    "\n",
    "    pacf(Y[, 2], lag = 20, ylim = c(-0.4, 0.4))\n",
    "    acf(Y[, 2], lag = 20, ylim = c(-0.4, 0.4))\n",
    "\n",
    "    pacf(Y[, 3], lag = 20, ylim = c(-0.4, 0.4))\n",
    "    acf(Y[, 3], lag = 20, ylim = c(-0.4, 0.4))\n",
    "\n",
    "    pacf(Y[, 4], lag = 20, ylim = c(-0.4, 0.4))\n",
    "    acf(Y[, 4], lag = 20, ylim = c(-0.4, 0.4))\n",
    "\n",
    "    pacf(Y[, 5], lag = 20, ylim = c(-0.4, 0.4))\n",
    "    acf(Y[, 5], lag = 20, ylim = c(-0.4, 0.4))\n",
    "\"\"\""
   ]
  },
  {
   "cell_type": "markdown",
   "id": "supreme-hebrew",
   "metadata": {},
   "source": [
    "The auto-regressive series is independently distributed, but I have to gain more insight using the Akiake Information Criterion and the log-likelihood function."
   ]
  },
  {
   "cell_type": "markdown",
   "id": "suburban-humidity",
   "metadata": {},
   "source": [
    "### The Akiake Information Criterion"
   ]
  },
  {
   "cell_type": "markdown",
   "id": "toxic-range",
   "metadata": {},
   "source": [
    "The Akiake Information Criterion says that"
   ]
  },
  {
   "cell_type": "markdown",
   "id": "cloudy-metabolism",
   "metadata": {},
   "source": [
    "$$\n",
    "    \\text{AIC} = -\\frac{2}{T}\\ln(\\text{likelihood)} + \\frac{2}{T}\\times \\text{(number of parameters)}\n",
    "$$"
   ]
  },
  {
   "cell_type": "markdown",
   "id": "lonely-neutral",
   "metadata": {},
   "source": [
    "where $T$ is the sample size. I would first need to find what the log-likelihood function has to say about the data."
   ]
  },
  {
   "cell_type": "markdown",
   "id": "aquatic-savannah",
   "metadata": {},
   "source": [
    "### The Log-Likelihood Function"
   ]
  },
  {
   "cell_type": "markdown",
   "id": "committed-dimension",
   "metadata": {},
   "source": [
    "For the AIC, the log-likelihood is evaluated at the maximum likelihood estimates. The following is incorrect, because later I realize that I am working with an $\\text{ARIMA}$ model, and the following is an $\\text{AR}$ process I copied from Dr. Ruey Tsay's Financial Time Series textbook (p. 45). I need to model both $\\text{AR}$ and $\\text{MA}$."
   ]
  },
  {
   "cell_type": "markdown",
   "id": "biological-hayes",
   "metadata": {},
   "source": [
    "**Maturity $T = 5$Y**"
   ]
  },
  {
   "cell_type": "code",
   "execution_count": 10,
   "id": "greek-combination",
   "metadata": {},
   "outputs": [
    {
     "data": {
      "text/plain": [
       "RObject{RealSxp}\n",
       "         0          1          2          3          4          5          6 \n",
       " 0.6833669  0.0000000  1.3051038  3.2475167  5.0225820  4.0964049  5.6248133 \n",
       "         7          8          9         10         11         12 \n",
       " 7.5885415  9.3957141 10.9688285 12.5605474 14.3780938 13.6252512 \n"
      ]
     },
     "execution_count": 10,
     "metadata": {},
     "output_type": "execute_result"
    }
   ],
   "source": [
    "Y = s_diff[:, 1]\n",
    "@rput Y\n",
    "R\"\"\"\n",
    "    ord=ar(Y, method = \"mle\")\n",
    "    ord$aic\n",
    "\"\"\""
   ]
  },
  {
   "cell_type": "markdown",
   "id": "north-classification",
   "metadata": {},
   "source": [
    "The minimum occurs at $p = 1$. Therefore, $\\text{AR}(1)$ is preferred by the criterion, and"
   ]
  },
  {
   "cell_type": "code",
   "execution_count": 11,
   "id": "single-dependence",
   "metadata": {},
   "outputs": [
    {
     "data": {
      "text/plain": [
       "RObject{IntSxp}\n",
       "[1] 1\n"
      ]
     },
     "execution_count": 11,
     "metadata": {},
     "output_type": "execute_result"
    }
   ],
   "source": [
    "R\"ord$order\""
   ]
  },
  {
   "cell_type": "markdown",
   "id": "dietary-medicine",
   "metadata": {},
   "source": [
    "$\\therefore$ an $\\text{AR}(1)$ model \"seems\" to best fit the data."
   ]
  },
  {
   "cell_type": "markdown",
   "id": "spread-moral",
   "metadata": {},
   "source": [
    "**Maturity $T = 7$Y**"
   ]
  },
  {
   "cell_type": "code",
   "execution_count": 12,
   "id": "musical-insurance",
   "metadata": {},
   "outputs": [
    {
     "data": {
      "text/plain": [
       "RObject{RealSxp}\n",
       "        0         1         2         3         4         5         6         7 \n",
       " 0.000000  1.218020  2.500159  4.400448  6.399119  7.955500  7.853835  9.782546 \n",
       "        8         9        10        11        12 \n",
       "11.151428 13.139979 14.910193 16.905370 14.300259 \n"
      ]
     },
     "execution_count": 12,
     "metadata": {},
     "output_type": "execute_result"
    }
   ],
   "source": [
    "Y = s_diff[:, 2]\n",
    "@rput Y\n",
    "R\"\"\"\n",
    "    ord=ar(Y, method = \"mle\")\n",
    "    ord$aic\n",
    "\"\"\""
   ]
  },
  {
   "cell_type": "markdown",
   "id": "minor-valuation",
   "metadata": {},
   "source": [
    "The minimum occurs at $p = 0$. Therefore, $\\text{AR}(0)$ is preferred by the criterion, and"
   ]
  },
  {
   "cell_type": "code",
   "execution_count": 13,
   "id": "frank-communication",
   "metadata": {},
   "outputs": [
    {
     "data": {
      "text/plain": [
       "RObject{IntSxp}\n",
       "[1] 0\n"
      ]
     },
     "execution_count": 13,
     "metadata": {},
     "output_type": "execute_result"
    }
   ],
   "source": [
    "R\"ord$order\""
   ]
  },
  {
   "cell_type": "markdown",
   "id": "worldwide-payroll",
   "metadata": {},
   "source": [
    "$\\therefore$ an $\\text{AR}(0)$ model \"seems\" to best fits the data."
   ]
  },
  {
   "cell_type": "markdown",
   "id": "underlying-input",
   "metadata": {},
   "source": [
    "**Maturity $T = 10$Y**"
   ]
  },
  {
   "cell_type": "code",
   "execution_count": 14,
   "id": "changed-judgment",
   "metadata": {},
   "outputs": [
    {
     "data": {
      "text/plain": [
       "RObject{RealSxp}\n",
       "        0         1         2         3         4         5         6         7 \n",
       " 0.000000  1.038222  1.224013  1.502716  3.403161  5.056371  6.959160  8.958437 \n",
       "        8         9        10        11        12 \n",
       "10.746808 12.745380 13.905299 15.716963 16.476006 \n"
      ]
     },
     "execution_count": 14,
     "metadata": {},
     "output_type": "execute_result"
    }
   ],
   "source": [
    "Y = s_diff[:, 3]\n",
    "@rput Y\n",
    "R\"\"\"\n",
    "    ord=ar(Y, method = \"mle\")\n",
    "    ord$aic\n",
    "\"\"\""
   ]
  },
  {
   "cell_type": "markdown",
   "id": "backed-pontiac",
   "metadata": {},
   "source": [
    "The minimum occurs at $p = 0$. Therefore, $\\text{AR}(0)$ is preferred by the criterion, and"
   ]
  },
  {
   "cell_type": "code",
   "execution_count": 15,
   "id": "outer-contrast",
   "metadata": {},
   "outputs": [
    {
     "data": {
      "text/plain": [
       "RObject{IntSxp}\n",
       "[1] 0\n"
      ]
     },
     "execution_count": 15,
     "metadata": {},
     "output_type": "execute_result"
    }
   ],
   "source": [
    "R\"ord$order\""
   ]
  },
  {
   "cell_type": "markdown",
   "id": "adapted-still",
   "metadata": {},
   "source": [
    "$\\therefore$ an $\\text{AR}(0)$ model \"seems\" to best fit the data."
   ]
  },
  {
   "cell_type": "markdown",
   "id": "dependent-genome",
   "metadata": {},
   "source": [
    "**Maturity $T = 20$Y**"
   ]
  },
  {
   "cell_type": "code",
   "execution_count": 16,
   "id": "thousand-title",
   "metadata": {},
   "outputs": [
    {
     "data": {
      "text/plain": [
       "RObject{RealSxp}\n",
       "       0        1        2        3        4        5        6        7 \n",
       "6.166773 6.247348 5.386083 0.000000 1.933997 3.634565 4.697603 6.697581 \n",
       "       8        9       10       11       12 \n",
       "8.198617 9.040386 6.455274 8.410069 9.905010 \n"
      ]
     },
     "execution_count": 16,
     "metadata": {},
     "output_type": "execute_result"
    }
   ],
   "source": [
    "Y = s_diff[:, 4]\n",
    "@rput Y\n",
    "R\"\"\"\n",
    "    ord=ar(Y, method = \"mle\")\n",
    "    ord$aic\n",
    "\"\"\""
   ]
  },
  {
   "cell_type": "markdown",
   "id": "liable-chamber",
   "metadata": {},
   "source": [
    "The minimum occurs at $p = 3$. Therefore, $\\text{AR}(3)$ is preferred by the criterion, and"
   ]
  },
  {
   "cell_type": "code",
   "execution_count": 17,
   "id": "direct-bubble",
   "metadata": {},
   "outputs": [
    {
     "data": {
      "text/plain": [
       "RObject{IntSxp}\n",
       "[1] 3\n"
      ]
     },
     "execution_count": 17,
     "metadata": {},
     "output_type": "execute_result"
    }
   ],
   "source": [
    "R\"ord$order\""
   ]
  },
  {
   "cell_type": "markdown",
   "id": "interested-grammar",
   "metadata": {},
   "source": [
    "$\\therefore$ an $\\text{AR}(3)$ model \"seems\" to best fit the data."
   ]
  },
  {
   "cell_type": "markdown",
   "id": "contemporary-mounting",
   "metadata": {},
   "source": [
    "**Maturity $T = 30$Y**"
   ]
  },
  {
   "cell_type": "code",
   "execution_count": 18,
   "id": "pleasant-semiconductor",
   "metadata": {},
   "outputs": [
    {
     "data": {
      "text/plain": [
       "RObject{RealSxp}\n",
       "       0        1        2        3        4        5        6        7 \n",
       "6.149448 4.255208 6.101362 2.024528 3.084253 0.000000 1.938705 3.755368 \n",
       "       8        9       10       11       12 \n",
       "5.227053 6.751342 5.697543 7.654748 8.706592 \n"
      ]
     },
     "execution_count": 18,
     "metadata": {},
     "output_type": "execute_result"
    }
   ],
   "source": [
    "Y = s_diff[:, 5]\n",
    "@rput Y\n",
    "R\"\"\"\n",
    "    ord=ar(Y, method = \"mle\")\n",
    "    ord$aic\n",
    "\"\"\""
   ]
  },
  {
   "cell_type": "markdown",
   "id": "stopped-refrigerator",
   "metadata": {},
   "source": [
    "The minimum occurs at $p = 5$. Therefore, $\\text{AR}(5)$ is preferred by the criterion, and"
   ]
  },
  {
   "cell_type": "code",
   "execution_count": 19,
   "id": "bigger-version",
   "metadata": {},
   "outputs": [
    {
     "data": {
      "text/plain": [
       "RObject{IntSxp}\n",
       "[1] 5\n"
      ]
     },
     "execution_count": 19,
     "metadata": {},
     "output_type": "execute_result"
    }
   ],
   "source": [
    "R\"ord$order\""
   ]
  },
  {
   "cell_type": "markdown",
   "id": "solved-azerbaijan",
   "metadata": {},
   "source": [
    "$\\therefore$ an $\\text{AR}(5)$ model \"seems\" to best fit the data; however, none of the above is true, because I was finding log-likelihood of the $\\text{AR}$ component, alone, instead of $\\text{AR}$ in tandem with $\\text{MA}$."
   ]
  },
  {
   "cell_type": "markdown",
   "id": "appreciated-seeking",
   "metadata": {},
   "source": [
    "## Constructing ARIMA Models"
   ]
  },
  {
   "cell_type": "markdown",
   "id": "individual-enlargement",
   "metadata": {},
   "source": [
    "With the information I have, I may proceed to construct $\\text{ARIMA}(p, 1, q)$ models in `Python`."
   ]
  },
  {
   "cell_type": "markdown",
   "id": "solar-renaissance",
   "metadata": {},
   "source": [
    "I am saving each column of `s_diff` as comma-split value (CSV) files for maturities corrensponding to $T \\in [5, 7, 10, 20, 30]$ and switching to the Python kernel for executing `Python` code for a precise statspace modeling approach, but first to save the first-differences as a CSV file."
   ]
  },
  {
   "cell_type": "code",
   "execution_count": 20,
   "id": "clinical-constraint",
   "metadata": {},
   "outputs": [],
   "source": [
    "using CSV\n",
    "\n",
    "CSV.write(\"log_diff.csv\", (x5 = s_diff[:, 1], x7 = s_diff[:, 2], x10 = s_diff[:, 3], x20 = s_diff[:, 4], x30 = s_diff[:, 5]));"
   ]
  },
  {
   "cell_type": "markdown",
   "id": "cellular-space",
   "metadata": {},
   "source": [
    "Switching to `Python` kernel to `list` available packages"
   ]
  },
  {
   "cell_type": "code",
   "execution_count": 1,
   "id": "exempt-hospital",
   "metadata": {
    "tags": []
   },
   "outputs": [
    {
     "name": "stdout",
     "output_type": "stream",
     "text": [
      "Package                       VersionNote: you may need to restart the kernel to use updated packages.\n",
      "----------------------------- -------------------\n",
      "anyio                         2.1.0\n",
      "argon2-cffi                   20.1.0\n",
      "async-generator               1.10\n",
      "attrs                         20.3.0\n",
      "Babel                         2.9.0\n",
      "backcall                      0.2.0\n",
      "backports.functools-lru-cache 1.6.1\n",
      "beautifulsoup4                4.9.3\n",
      "bleach                        3.3.0\n",
      "brotlipy                      0.7.0\n",
      "certifi                       2021.5.30\n",
      "cffi                          1.14.3\n",
      "chardet                       3.0.4\n",
      "colorama                      0.4.4\n",
      "conda                         4.10.3\n",
      "conda-package-handling        1.7.2\n",
      "cryptography                  3.2.1\n",
      "cycler                        0.10.0\n",
      "decorator                     4.4.2\n",
      "defusedxml                    0.6.0\n",
      "entrypoints                   0.3\n",
      "htmlmin                       0.1.12\n",
      "idna                          2.10\n",
      "ImageHash                     4.2.1\n",
      "importlib-metadata            3.7.0\n",
      "\n",
      "ipykernel                     5.5.0\n",
      "ipython                       7.20.0\n",
      "ipython-genutils              0.2.0\n",
      "ipywidgets                    7.6.5\n",
      "jedi                          0.18.0\n",
      "Jinja2                        2.11.3\n",
      "joblib                        1.0.1\n",
      "json5                         0.9.5\n",
      "jsonschema                    3.2.0\n",
      "jupyter-client                6.1.11\n",
      "jupyter-core                  4.7.1\n",
      "jupyter-packaging             0.7.12\n",
      "jupyter-server                1.4.1\n",
      "jupyterlab                    3.0.9\n",
      "jupyterlab-pygments           0.1.2\n",
      "jupyterlab-server             2.3.0\n",
      "jupyterlab-widgets            1.0.2\n",
      "kiwisolver                    1.3.2\n",
      "MarkupSafe                    2.0.1\n",
      "matplotlib                    3.4.3\n",
      "menuinst                      1.4.16\n",
      "missingno                     0.5.0\n",
      "mistune                       0.8.4\n",
      "multimethod                   1.6\n",
      "nbclassic                     0.2.6\n",
      "nbclient                      0.5.2\n",
      "nbconvert                     6.0.7\n",
      "nbformat                      5.1.2\n",
      "nest-asyncio                  1.4.3\n",
      "networkx                      2.6.3\n",
      "notebook                      6.2.0\n",
      "numpy                         1.21.2\n",
      "olefile                       0.46\n",
      "packaging                     20.9\n",
      "pandas                        1.3.2\n",
      "pandas-profiling              3.1.0\n",
      "pandocfilters                 1.4.2\n",
      "parso                         0.8.1\n",
      "patsy                         0.5.2\n",
      "pexpect                       4.8.0\n",
      "phik                          0.12.0\n",
      "pickleshare                   0.7.5\n",
      "Pillow                        8.3.1\n",
      "pip                           20.2.4\n",
      "prometheus-client             0.9.0\n",
      "prompt-toolkit                3.0.16\n",
      "ptyprocess                    0.7.0\n",
      "pycosat                       0.6.3\n",
      "pycparser                     2.20\n",
      "pydantic                      1.8.2\n",
      "Pygments                      2.8.0\n",
      "pyOpenSSL                     19.1.0\n",
      "pyparsing                     2.4.7\n",
      "pyrsistent                    0.17.3\n",
      "PySocks                       1.7.1\n",
      "python-dateutil               2.8.1\n",
      "pytz                          2021.1\n",
      "PyWavelets                    1.1.1\n",
      "pywin32                       227\n",
      "pywinpty                      0.5.7\n",
      "PyYAML                        5.4.1\n",
      "pyzmq                         22.0.3\n",
      "requests                      2.24.0\n",
      "ruamel-yaml                   0.15.87\n",
      "scikit-learn                  1.0.1\n",
      "scipy                         1.7.1\n",
      "seaborn                       0.11.2\n",
      "Send2Trash                    1.5.0\n",
      "setuptools                    50.3.1.post20201107\n",
      "six                           1.15.0\n",
      "sklearn                       0.0\n",
      "sniffio                       1.2.0\n",
      "soupsieve                     2.0.1\n",
      "stata-kernel                  1.12.2\n",
      "stata-setup                   0.1.2\n",
      "statsmodels                   0.12.2\n",
      "tangled-up-in-unicode         0.1.0\n",
      "terminado                     0.9.2\n",
      "testpath                      0.4.4\n",
      "threadpoolctl                 3.0.0\n",
      "tornado                       6.1\n",
      "tqdm                          4.51.0\n",
      "traitlets                     5.0.5\n",
      "typing-extensions             3.10.0.2\n",
      "urllib3                       1.25.11\n",
      "visions                       0.7.4\n",
      "wcwidth                       0.2.5\n",
      "webencodings                  0.5.1\n",
      "wheel                         0.35.1\n",
      "widgetsnbextension            3.5.1\n",
      "win-inet-pton                 1.1.0\n",
      "wincertstore                  0.2\n",
      "zipp                          3.4.0\n"
     ]
    }
   ],
   "source": [
    "pip list"
   ]
  },
  {
   "cell_type": "markdown",
   "id": "nasty-longitude",
   "metadata": {},
   "source": [
    "and seeing that all of the packages I need are available, I may safely continue. Earlier I had to install `statsmodels` and `matplotlib` using the `Anaconda Powershell Prompt` and calling `python -m pip` to"
   ]
  },
  {
   "cell_type": "markdown",
   "id": "found-pollution",
   "metadata": {},
   "source": [
    "```python\n",
    "install matplotlib, statsmodels\n",
    "```"
   ]
  },
  {
   "cell_type": "markdown",
   "id": "cathedral-craps",
   "metadata": {},
   "source": [
    "Then, I import required packages"
   ]
  },
  {
   "cell_type": "code",
   "execution_count": 2,
   "id": "frozen-master",
   "metadata": {},
   "outputs": [],
   "source": [
    "from statsmodels.graphics.tsaplots import plot_pacf\n",
    "from statsmodels.graphics.tsaplots import plot_acf\n",
    "from statsmodels.tsa.arima_process import ArmaProcess\n",
    "from statsmodels.stats.diagnostic import acorr_ljungbox\n",
    "from statsmodels.tsa.statespace.sarimax import SARIMAX\n",
    "from statsmodels.tsa.stattools import adfuller\n",
    "from statsmodels.tsa.stattools import pacf\n",
    "from statsmodels.tsa.stattools import acf\n",
    "from tqdm import tqdm_notebook\n",
    "import matplotlib.pyplot as plt\n",
    "import numpy as np\n",
    "import pandas as pd\n",
    "import math as mt\n",
    "\n",
    "import warnings\n",
    "warnings.filterwarnings('ignore')\n",
    "\n",
    "%matplotlib inline"
   ]
  },
  {
   "cell_type": "markdown",
   "id": "enabling-hanging",
   "metadata": {
    "tags": []
   },
   "source": [
    "and define the following $\\text{ARIMA}(p, d, q)$ optimizer."
   ]
  },
  {
   "cell_type": "code",
   "execution_count": 3,
   "id": "sonic-bibliography",
   "metadata": {},
   "outputs": [],
   "source": [
    "def optimize_ARIMA(order_list, exog):\n",
    "    \"\"\"\n",
    "        Return dataframe with parameters and corresponding AIC\n",
    "        \n",
    "        order_list - list with (p, d, q) tuples\n",
    "        exog - the exogenous variable\n",
    "    \"\"\"\n",
    "    \n",
    "    results = []\n",
    "    \n",
    "    for order in tqdm_notebook(order_list):\n",
    "        try: \n",
    "            model = SARIMAX(exog, order=order).fit(disp=-1)\n",
    "        except:\n",
    "            continue\n",
    "            \n",
    "        aic = model.aic\n",
    "        results.append([order, aic])\n",
    "        \n",
    "    result_df = pd.DataFrame(results)\n",
    "    result_df.columns = ['(p, d, q)', 'AIC']\n",
    "    #Sort in ascending order, lower AIC is better\n",
    "    result_df = result_df.sort_values(by='AIC', ascending=True).reset_index(drop=True)\n",
    "    \n",
    "    return result_df"
   ]
  },
  {
   "cell_type": "markdown",
   "id": "olive-monte",
   "metadata": {},
   "source": [
    "I read the log-differenced series saved earlier in this notebook."
   ]
  },
  {
   "cell_type": "code",
   "execution_count": 4,
   "id": "norman-raleigh",
   "metadata": {},
   "outputs": [
    {
     "data": {
      "text/html": [
       "<div>\n",
       "<style scoped>\n",
       "    .dataframe tbody tr th:only-of-type {\n",
       "        vertical-align: middle;\n",
       "    }\n",
       "\n",
       "    .dataframe tbody tr th {\n",
       "        vertical-align: top;\n",
       "    }\n",
       "\n",
       "    .dataframe thead th {\n",
       "        text-align: right;\n",
       "    }\n",
       "</style>\n",
       "<table border=\"1\" class=\"dataframe\">\n",
       "  <thead>\n",
       "    <tr style=\"text-align: right;\">\n",
       "      <th></th>\n",
       "      <th>x5</th>\n",
       "      <th>x7</th>\n",
       "      <th>x10</th>\n",
       "      <th>x20</th>\n",
       "      <th>x30</th>\n",
       "    </tr>\n",
       "  </thead>\n",
       "  <tbody>\n",
       "    <tr>\n",
       "      <th>0</th>\n",
       "      <td>-0.000729</td>\n",
       "      <td>-0.011705</td>\n",
       "      <td>-0.008035</td>\n",
       "      <td>-0.006877</td>\n",
       "      <td>-0.004754</td>\n",
       "    </tr>\n",
       "    <tr>\n",
       "      <th>1</th>\n",
       "      <td>0.057604</td>\n",
       "      <td>0.054608</td>\n",
       "      <td>0.042412</td>\n",
       "      <td>0.020985</td>\n",
       "      <td>0.018271</td>\n",
       "    </tr>\n",
       "    <tr>\n",
       "      <th>2</th>\n",
       "      <td>0.020836</td>\n",
       "      <td>0.020743</td>\n",
       "      <td>0.011102</td>\n",
       "      <td>0.013467</td>\n",
       "      <td>0.001918</td>\n",
       "    </tr>\n",
       "    <tr>\n",
       "      <th>3</th>\n",
       "      <td>0.031421</td>\n",
       "      <td>0.020154</td>\n",
       "      <td>0.023359</td>\n",
       "      <td>0.024437</td>\n",
       "      <td>0.021054</td>\n",
       "    </tr>\n",
       "    <tr>\n",
       "      <th>4</th>\n",
       "      <td>0.007677</td>\n",
       "      <td>0.015162</td>\n",
       "      <td>0.006799</td>\n",
       "      <td>-0.000791</td>\n",
       "      <td>0.009855</td>\n",
       "    </tr>\n",
       "  </tbody>\n",
       "</table>\n",
       "</div>"
      ],
      "text/plain": [
       "         x5        x7       x10       x20       x30\n",
       "0 -0.000729 -0.011705 -0.008035 -0.006877 -0.004754\n",
       "1  0.057604  0.054608  0.042412  0.020985  0.018271\n",
       "2  0.020836  0.020743  0.011102  0.013467  0.001918\n",
       "3  0.031421  0.020154  0.023359  0.024437  0.021054\n",
       "4  0.007677  0.015162  0.006799 -0.000791  0.009855"
      ]
     },
     "execution_count": 4,
     "metadata": {},
     "output_type": "execute_result"
    }
   ],
   "source": [
    "data = pd.read_csv(\"log_diff.csv\")\n",
    "data.head()"
   ]
  },
  {
   "cell_type": "markdown",
   "id": "seeing-highlight",
   "metadata": {},
   "source": [
    "I figured I also needed to install these for profiling:\n",
    "\n",
    "```python\n",
    "pip install ipywidgets widgetsnbextension pandas-profiling\n",
    "```"
   ]
  },
  {
   "cell_type": "markdown",
   "id": "violent-forest",
   "metadata": {},
   "source": [
    "Setting up the problem"
   ]
  },
  {
   "cell_type": "code",
   "execution_count": 5,
   "id": "chubby-wheat",
   "metadata": {},
   "outputs": [],
   "source": [
    "import itertools\n",
    "\n",
    "ps = range(0, 8, 1)\n",
    "d = 1\n",
    "qs = range(0, 8, 1)\n",
    "\n",
    "# Create a list with all possible combination of parameters\n",
    "parameters = itertools.product(ps, qs)\n",
    "parameters_list = list(parameters)"
   ]
  },
  {
   "cell_type": "markdown",
   "id": "hairy-celebration",
   "metadata": {},
   "source": [
    "I find out that I was wrong to assume that I have an $\\text{AR}(3)$ model for the $20$Y CMT bond yield curve rates, because"
   ]
  },
  {
   "cell_type": "code",
   "execution_count": 6,
   "id": "square-favor",
   "metadata": {},
   "outputs": [
    {
     "data": {
      "application/vnd.jupyter.widget-view+json": {
       "model_id": "f234d0e2aa464178a93db2981f704e27",
       "version_major": 2,
       "version_minor": 0
      },
      "text/plain": [
       "HBox(children=(HTML(value=''), FloatProgress(value=0.0, max=64.0), HTML(value='')))"
      ]
     },
     "metadata": {},
     "output_type": "display_data"
    },
    {
     "name": "stdout",
     "output_type": "stream",
     "text": [
      "\n"
     ]
    },
    {
     "data": {
      "text/html": [
       "<div>\n",
       "<style scoped>\n",
       "    .dataframe tbody tr th:only-of-type {\n",
       "        vertical-align: middle;\n",
       "    }\n",
       "\n",
       "    .dataframe tbody tr th {\n",
       "        vertical-align: top;\n",
       "    }\n",
       "\n",
       "    .dataframe thead th {\n",
       "        text-align: right;\n",
       "    }\n",
       "</style>\n",
       "<table border=\"1\" class=\"dataframe\">\n",
       "  <thead>\n",
       "    <tr style=\"text-align: right;\">\n",
       "      <th></th>\n",
       "      <th>(p, d, q)</th>\n",
       "      <th>AIC</th>\n",
       "    </tr>\n",
       "  </thead>\n",
       "  <tbody>\n",
       "    <tr>\n",
       "      <th>0</th>\n",
       "      <td>(3, 1, 1)</td>\n",
       "      <td>-1434.488000</td>\n",
       "    </tr>\n",
       "    <tr>\n",
       "      <th>1</th>\n",
       "      <td>(0, 1, 4)</td>\n",
       "      <td>-1434.139109</td>\n",
       "    </tr>\n",
       "    <tr>\n",
       "      <th>2</th>\n",
       "      <td>(0, 1, 5)</td>\n",
       "      <td>-1432.099500</td>\n",
       "    </tr>\n",
       "    <tr>\n",
       "      <th>3</th>\n",
       "      <td>(0, 1, 3)</td>\n",
       "      <td>-1431.559586</td>\n",
       "    </tr>\n",
       "    <tr>\n",
       "      <th>4</th>\n",
       "      <td>(2, 1, 3)</td>\n",
       "      <td>-1431.314929</td>\n",
       "    </tr>\n",
       "    <tr>\n",
       "      <th>...</th>\n",
       "      <td>...</td>\n",
       "      <td>...</td>\n",
       "    </tr>\n",
       "    <tr>\n",
       "      <th>59</th>\n",
       "      <td>(4, 1, 0)</td>\n",
       "      <td>-1387.749310</td>\n",
       "    </tr>\n",
       "    <tr>\n",
       "      <th>60</th>\n",
       "      <td>(3, 1, 0)</td>\n",
       "      <td>-1380.501946</td>\n",
       "    </tr>\n",
       "    <tr>\n",
       "      <th>61</th>\n",
       "      <td>(2, 1, 0)</td>\n",
       "      <td>-1364.575366</td>\n",
       "    </tr>\n",
       "    <tr>\n",
       "      <th>62</th>\n",
       "      <td>(1, 1, 0)</td>\n",
       "      <td>-1361.503010</td>\n",
       "    </tr>\n",
       "    <tr>\n",
       "      <th>63</th>\n",
       "      <td>(0, 1, 0)</td>\n",
       "      <td>-1287.474044</td>\n",
       "    </tr>\n",
       "  </tbody>\n",
       "</table>\n",
       "<p>64 rows × 2 columns</p>\n",
       "</div>"
      ],
      "text/plain": [
       "    (p, d, q)          AIC\n",
       "0   (3, 1, 1) -1434.488000\n",
       "1   (0, 1, 4) -1434.139109\n",
       "2   (0, 1, 5) -1432.099500\n",
       "3   (0, 1, 3) -1431.559586\n",
       "4   (2, 1, 3) -1431.314929\n",
       "..        ...          ...\n",
       "59  (4, 1, 0) -1387.749310\n",
       "60  (3, 1, 0) -1380.501946\n",
       "61  (2, 1, 0) -1364.575366\n",
       "62  (1, 1, 0) -1361.503010\n",
       "63  (0, 1, 0) -1287.474044\n",
       "\n",
       "[64 rows x 2 columns]"
      ]
     },
     "execution_count": 6,
     "metadata": {},
     "output_type": "execute_result"
    }
   ],
   "source": [
    "order_list = []\n",
    "\n",
    "for each in parameters_list:\n",
    "    each = list(each)\n",
    "    each.insert(1, 1)\n",
    "    each = tuple(each)\n",
    "    order_list.append(each)\n",
    "\n",
    "result_df = optimize_ARIMA(order_list, exog=data[\"x20\"])\n",
    "result_df"
   ]
  },
  {
   "cell_type": "markdown",
   "id": "thick-reception",
   "metadata": {},
   "source": [
    "indicates that the Treasury bond with $20$Y maturity follows an $\\text{ARIMA}(3, 1, 1)$ model, as preferred by the criterion in 2019. Likewise, for the $30$Y bonds, on average, I have"
   ]
  },
  {
   "cell_type": "code",
   "execution_count": 7,
   "id": "mature-header",
   "metadata": {},
   "outputs": [
    {
     "data": {
      "application/vnd.jupyter.widget-view+json": {
       "model_id": "03988cc272c44ccab42f0a27e4d170c8",
       "version_major": 2,
       "version_minor": 0
      },
      "text/plain": [
       "HBox(children=(HTML(value=''), FloatProgress(value=0.0, max=64.0), HTML(value='')))"
      ]
     },
     "metadata": {},
     "output_type": "display_data"
    },
    {
     "name": "stdout",
     "output_type": "stream",
     "text": [
      "\n"
     ]
    },
    {
     "data": {
      "text/html": [
       "<div>\n",
       "<style scoped>\n",
       "    .dataframe tbody tr th:only-of-type {\n",
       "        vertical-align: middle;\n",
       "    }\n",
       "\n",
       "    .dataframe tbody tr th {\n",
       "        vertical-align: top;\n",
       "    }\n",
       "\n",
       "    .dataframe thead th {\n",
       "        text-align: right;\n",
       "    }\n",
       "</style>\n",
       "<table border=\"1\" class=\"dataframe\">\n",
       "  <thead>\n",
       "    <tr style=\"text-align: right;\">\n",
       "      <th></th>\n",
       "      <th>(p, d, q)</th>\n",
       "      <th>AIC</th>\n",
       "    </tr>\n",
       "  </thead>\n",
       "  <tbody>\n",
       "    <tr>\n",
       "      <th>0</th>\n",
       "      <td>(2, 1, 3)</td>\n",
       "      <td>-1463.585545</td>\n",
       "    </tr>\n",
       "    <tr>\n",
       "      <th>1</th>\n",
       "      <td>(2, 1, 4)</td>\n",
       "      <td>-1461.575409</td>\n",
       "    </tr>\n",
       "    <tr>\n",
       "      <th>2</th>\n",
       "      <td>(3, 1, 3)</td>\n",
       "      <td>-1461.321919</td>\n",
       "    </tr>\n",
       "    <tr>\n",
       "      <th>3</th>\n",
       "      <td>(4, 1, 3)</td>\n",
       "      <td>-1458.489472</td>\n",
       "    </tr>\n",
       "    <tr>\n",
       "      <th>4</th>\n",
       "      <td>(2, 1, 5)</td>\n",
       "      <td>-1457.711602</td>\n",
       "    </tr>\n",
       "    <tr>\n",
       "      <th>...</th>\n",
       "      <td>...</td>\n",
       "      <td>...</td>\n",
       "    </tr>\n",
       "    <tr>\n",
       "      <th>59</th>\n",
       "      <td>(4, 1, 0)</td>\n",
       "      <td>-1407.342349</td>\n",
       "    </tr>\n",
       "    <tr>\n",
       "      <th>60</th>\n",
       "      <td>(3, 1, 0)</td>\n",
       "      <td>-1407.338336</td>\n",
       "    </tr>\n",
       "    <tr>\n",
       "      <th>61</th>\n",
       "      <td>(2, 1, 0)</td>\n",
       "      <td>-1380.699896</td>\n",
       "    </tr>\n",
       "    <tr>\n",
       "      <th>62</th>\n",
       "      <td>(1, 1, 0)</td>\n",
       "      <td>-1374.386679</td>\n",
       "    </tr>\n",
       "    <tr>\n",
       "      <th>63</th>\n",
       "      <td>(0, 1, 0)</td>\n",
       "      <td>-1320.031958</td>\n",
       "    </tr>\n",
       "  </tbody>\n",
       "</table>\n",
       "<p>64 rows × 2 columns</p>\n",
       "</div>"
      ],
      "text/plain": [
       "    (p, d, q)          AIC\n",
       "0   (2, 1, 3) -1463.585545\n",
       "1   (2, 1, 4) -1461.575409\n",
       "2   (3, 1, 3) -1461.321919\n",
       "3   (4, 1, 3) -1458.489472\n",
       "4   (2, 1, 5) -1457.711602\n",
       "..        ...          ...\n",
       "59  (4, 1, 0) -1407.342349\n",
       "60  (3, 1, 0) -1407.338336\n",
       "61  (2, 1, 0) -1380.699896\n",
       "62  (1, 1, 0) -1374.386679\n",
       "63  (0, 1, 0) -1320.031958\n",
       "\n",
       "[64 rows x 2 columns]"
      ]
     },
     "execution_count": 7,
     "metadata": {},
     "output_type": "execute_result"
    }
   ],
   "source": [
    "order_list = []\n",
    "\n",
    "for each in parameters_list:\n",
    "    each = list(each)\n",
    "    each.insert(1, 1)\n",
    "    each = tuple(each)\n",
    "    order_list.append(each)\n",
    "\n",
    "result_df = optimize_ARIMA(order_list, exog=data[\"x30\"])\n",
    "result_df"
   ]
  },
  {
   "cell_type": "markdown",
   "id": "comparable-trainer",
   "metadata": {},
   "source": [
    "which means that an $\\text{ARIMA}(2, 1, 3)$ model is preferred by the criterion and not an $\\text{AR}(5)$. It is worthwhile running similar combinatorial tests on $(p, 1, q)$ for the $5$Y, $7$Y and $10$Y notes, where"
   ]
  },
  {
   "cell_type": "code",
   "execution_count": 8,
   "id": "simplified-headquarters",
   "metadata": {},
   "outputs": [
    {
     "data": {
      "application/vnd.jupyter.widget-view+json": {
       "model_id": "355618f8ee9d4d6fa5cf9ba287498ec7",
       "version_major": 2,
       "version_minor": 0
      },
      "text/plain": [
       "HBox(children=(HTML(value=''), FloatProgress(value=0.0, max=64.0), HTML(value='')))"
      ]
     },
     "metadata": {},
     "output_type": "display_data"
    },
    {
     "name": "stdout",
     "output_type": "stream",
     "text": [
      "\n"
     ]
    },
    {
     "data": {
      "text/html": [
       "<div>\n",
       "<style scoped>\n",
       "    .dataframe tbody tr th:only-of-type {\n",
       "        vertical-align: middle;\n",
       "    }\n",
       "\n",
       "    .dataframe tbody tr th {\n",
       "        vertical-align: top;\n",
       "    }\n",
       "\n",
       "    .dataframe thead th {\n",
       "        text-align: right;\n",
       "    }\n",
       "</style>\n",
       "<table border=\"1\" class=\"dataframe\">\n",
       "  <thead>\n",
       "    <tr style=\"text-align: right;\">\n",
       "      <th></th>\n",
       "      <th>(p, d, q)</th>\n",
       "      <th>AIC</th>\n",
       "    </tr>\n",
       "  </thead>\n",
       "  <tbody>\n",
       "    <tr>\n",
       "      <th>0</th>\n",
       "      <td>(1, 1, 1)</td>\n",
       "      <td>-1259.650496</td>\n",
       "    </tr>\n",
       "    <tr>\n",
       "      <th>1</th>\n",
       "      <td>(0, 1, 2)</td>\n",
       "      <td>-1259.311415</td>\n",
       "    </tr>\n",
       "    <tr>\n",
       "      <th>2</th>\n",
       "      <td>(0, 1, 1)</td>\n",
       "      <td>-1259.119868</td>\n",
       "    </tr>\n",
       "    <tr>\n",
       "      <th>3</th>\n",
       "      <td>(2, 1, 1)</td>\n",
       "      <td>-1258.472403</td>\n",
       "    </tr>\n",
       "    <tr>\n",
       "      <th>4</th>\n",
       "      <td>(0, 1, 3)</td>\n",
       "      <td>-1258.237301</td>\n",
       "    </tr>\n",
       "    <tr>\n",
       "      <th>...</th>\n",
       "      <td>...</td>\n",
       "      <td>...</td>\n",
       "    </tr>\n",
       "    <tr>\n",
       "      <th>59</th>\n",
       "      <td>(3, 1, 0)</td>\n",
       "      <td>-1219.803859</td>\n",
       "    </tr>\n",
       "    <tr>\n",
       "      <th>60</th>\n",
       "      <td>(4, 1, 0)</td>\n",
       "      <td>-1219.407192</td>\n",
       "    </tr>\n",
       "    <tr>\n",
       "      <th>61</th>\n",
       "      <td>(2, 1, 0)</td>\n",
       "      <td>-1206.416871</td>\n",
       "    </tr>\n",
       "    <tr>\n",
       "      <th>62</th>\n",
       "      <td>(1, 1, 0)</td>\n",
       "      <td>-1185.180097</td>\n",
       "    </tr>\n",
       "    <tr>\n",
       "      <th>63</th>\n",
       "      <td>(0, 1, 0)</td>\n",
       "      <td>-1121.778721</td>\n",
       "    </tr>\n",
       "  </tbody>\n",
       "</table>\n",
       "<p>64 rows × 2 columns</p>\n",
       "</div>"
      ],
      "text/plain": [
       "    (p, d, q)          AIC\n",
       "0   (1, 1, 1) -1259.650496\n",
       "1   (0, 1, 2) -1259.311415\n",
       "2   (0, 1, 1) -1259.119868\n",
       "3   (2, 1, 1) -1258.472403\n",
       "4   (0, 1, 3) -1258.237301\n",
       "..        ...          ...\n",
       "59  (3, 1, 0) -1219.803859\n",
       "60  (4, 1, 0) -1219.407192\n",
       "61  (2, 1, 0) -1206.416871\n",
       "62  (1, 1, 0) -1185.180097\n",
       "63  (0, 1, 0) -1121.778721\n",
       "\n",
       "[64 rows x 2 columns]"
      ]
     },
     "execution_count": 8,
     "metadata": {},
     "output_type": "execute_result"
    }
   ],
   "source": [
    "order_list = []\n",
    "\n",
    "for each in parameters_list:\n",
    "    each = list(each)\n",
    "    each.insert(1, 1)\n",
    "    each = tuple(each)\n",
    "    order_list.append(each)\n",
    "\n",
    "result_df = optimize_ARIMA(order_list, exog=data[\"x5\"])\n",
    "result_df"
   ]
  },
  {
   "cell_type": "markdown",
   "id": "collected-penguin",
   "metadata": {},
   "source": [
    ","
   ]
  },
  {
   "cell_type": "code",
   "execution_count": 9,
   "id": "suburban-index",
   "metadata": {},
   "outputs": [
    {
     "data": {
      "application/vnd.jupyter.widget-view+json": {
       "model_id": "a219f7c1822c484190c0b7db0fb9df3a",
       "version_major": 2,
       "version_minor": 0
      },
      "text/plain": [
       "HBox(children=(HTML(value=''), FloatProgress(value=0.0, max=64.0), HTML(value='')))"
      ]
     },
     "metadata": {},
     "output_type": "display_data"
    },
    {
     "name": "stdout",
     "output_type": "stream",
     "text": [
      "\n"
     ]
    },
    {
     "data": {
      "text/html": [
       "<div>\n",
       "<style scoped>\n",
       "    .dataframe tbody tr th:only-of-type {\n",
       "        vertical-align: middle;\n",
       "    }\n",
       "\n",
       "    .dataframe tbody tr th {\n",
       "        vertical-align: top;\n",
       "    }\n",
       "\n",
       "    .dataframe thead th {\n",
       "        text-align: right;\n",
       "    }\n",
       "</style>\n",
       "<table border=\"1\" class=\"dataframe\">\n",
       "  <thead>\n",
       "    <tr style=\"text-align: right;\">\n",
       "      <th></th>\n",
       "      <th>(p, d, q)</th>\n",
       "      <th>AIC</th>\n",
       "    </tr>\n",
       "  </thead>\n",
       "  <tbody>\n",
       "    <tr>\n",
       "      <th>0</th>\n",
       "      <td>(0, 1, 1)</td>\n",
       "      <td>-1309.330141</td>\n",
       "    </tr>\n",
       "    <tr>\n",
       "      <th>1</th>\n",
       "      <td>(1, 1, 1)</td>\n",
       "      <td>-1308.165090</td>\n",
       "    </tr>\n",
       "    <tr>\n",
       "      <th>2</th>\n",
       "      <td>(0, 1, 2)</td>\n",
       "      <td>-1308.069408</td>\n",
       "    </tr>\n",
       "    <tr>\n",
       "      <th>3</th>\n",
       "      <td>(2, 1, 3)</td>\n",
       "      <td>-1307.596899</td>\n",
       "    </tr>\n",
       "    <tr>\n",
       "      <th>4</th>\n",
       "      <td>(0, 1, 3)</td>\n",
       "      <td>-1307.030485</td>\n",
       "    </tr>\n",
       "    <tr>\n",
       "      <th>...</th>\n",
       "      <td>...</td>\n",
       "      <td>...</td>\n",
       "    </tr>\n",
       "    <tr>\n",
       "      <th>59</th>\n",
       "      <td>(4, 1, 0)</td>\n",
       "      <td>-1265.295121</td>\n",
       "    </tr>\n",
       "    <tr>\n",
       "      <th>60</th>\n",
       "      <td>(3, 1, 0)</td>\n",
       "      <td>-1261.012432</td>\n",
       "    </tr>\n",
       "    <tr>\n",
       "      <th>61</th>\n",
       "      <td>(2, 1, 0)</td>\n",
       "      <td>-1248.842794</td>\n",
       "    </tr>\n",
       "    <tr>\n",
       "      <th>62</th>\n",
       "      <td>(1, 1, 0)</td>\n",
       "      <td>-1230.096613</td>\n",
       "    </tr>\n",
       "    <tr>\n",
       "      <th>63</th>\n",
       "      <td>(0, 1, 0)</td>\n",
       "      <td>-1159.894314</td>\n",
       "    </tr>\n",
       "  </tbody>\n",
       "</table>\n",
       "<p>64 rows × 2 columns</p>\n",
       "</div>"
      ],
      "text/plain": [
       "    (p, d, q)          AIC\n",
       "0   (0, 1, 1) -1309.330141\n",
       "1   (1, 1, 1) -1308.165090\n",
       "2   (0, 1, 2) -1308.069408\n",
       "3   (2, 1, 3) -1307.596899\n",
       "4   (0, 1, 3) -1307.030485\n",
       "..        ...          ...\n",
       "59  (4, 1, 0) -1265.295121\n",
       "60  (3, 1, 0) -1261.012432\n",
       "61  (2, 1, 0) -1248.842794\n",
       "62  (1, 1, 0) -1230.096613\n",
       "63  (0, 1, 0) -1159.894314\n",
       "\n",
       "[64 rows x 2 columns]"
      ]
     },
     "execution_count": 9,
     "metadata": {},
     "output_type": "execute_result"
    }
   ],
   "source": [
    "order_list = []\n",
    "\n",
    "for each in parameters_list:\n",
    "    each = list(each)\n",
    "    each.insert(1, 1)\n",
    "    each = tuple(each)\n",
    "    order_list.append(each)\n",
    "\n",
    "result_df = optimize_ARIMA(order_list, exog=data[\"x7\"])\n",
    "result_df"
   ]
  },
  {
   "cell_type": "markdown",
   "id": "supported-values",
   "metadata": {},
   "source": [
    "and"
   ]
  },
  {
   "cell_type": "code",
   "execution_count": 10,
   "id": "through-mainstream",
   "metadata": {},
   "outputs": [
    {
     "data": {
      "application/vnd.jupyter.widget-view+json": {
       "model_id": "c2181aa9448342d78d67479a3adb932f",
       "version_major": 2,
       "version_minor": 0
      },
      "text/plain": [
       "HBox(children=(HTML(value=''), FloatProgress(value=0.0, max=64.0), HTML(value='')))"
      ]
     },
     "metadata": {},
     "output_type": "display_data"
    },
    {
     "name": "stdout",
     "output_type": "stream",
     "text": [
      "\n"
     ]
    },
    {
     "data": {
      "text/html": [
       "<div>\n",
       "<style scoped>\n",
       "    .dataframe tbody tr th:only-of-type {\n",
       "        vertical-align: middle;\n",
       "    }\n",
       "\n",
       "    .dataframe tbody tr th {\n",
       "        vertical-align: top;\n",
       "    }\n",
       "\n",
       "    .dataframe thead th {\n",
       "        text-align: right;\n",
       "    }\n",
       "</style>\n",
       "<table border=\"1\" class=\"dataframe\">\n",
       "  <thead>\n",
       "    <tr style=\"text-align: right;\">\n",
       "      <th></th>\n",
       "      <th>(p, d, q)</th>\n",
       "      <th>AIC</th>\n",
       "    </tr>\n",
       "  </thead>\n",
       "  <tbody>\n",
       "    <tr>\n",
       "      <th>0</th>\n",
       "      <td>(0, 1, 1)</td>\n",
       "      <td>-1393.484502</td>\n",
       "    </tr>\n",
       "    <tr>\n",
       "      <th>1</th>\n",
       "      <td>(1, 1, 1)</td>\n",
       "      <td>-1392.663386</td>\n",
       "    </tr>\n",
       "    <tr>\n",
       "      <th>2</th>\n",
       "      <td>(2, 1, 1)</td>\n",
       "      <td>-1392.608311</td>\n",
       "    </tr>\n",
       "    <tr>\n",
       "      <th>3</th>\n",
       "      <td>(0, 1, 2)</td>\n",
       "      <td>-1392.489536</td>\n",
       "    </tr>\n",
       "    <tr>\n",
       "      <th>4</th>\n",
       "      <td>(0, 1, 3)</td>\n",
       "      <td>-1392.197782</td>\n",
       "    </tr>\n",
       "    <tr>\n",
       "      <th>...</th>\n",
       "      <td>...</td>\n",
       "      <td>...</td>\n",
       "    </tr>\n",
       "    <tr>\n",
       "      <th>59</th>\n",
       "      <td>(4, 1, 0)</td>\n",
       "      <td>-1349.351327</td>\n",
       "    </tr>\n",
       "    <tr>\n",
       "      <th>60</th>\n",
       "      <td>(3, 1, 0)</td>\n",
       "      <td>-1343.585283</td>\n",
       "    </tr>\n",
       "    <tr>\n",
       "      <th>61</th>\n",
       "      <td>(2, 1, 0)</td>\n",
       "      <td>-1331.395746</td>\n",
       "    </tr>\n",
       "    <tr>\n",
       "      <th>62</th>\n",
       "      <td>(1, 1, 0)</td>\n",
       "      <td>-1320.672683</td>\n",
       "    </tr>\n",
       "    <tr>\n",
       "      <th>63</th>\n",
       "      <td>(0, 1, 0)</td>\n",
       "      <td>-1245.673572</td>\n",
       "    </tr>\n",
       "  </tbody>\n",
       "</table>\n",
       "<p>64 rows × 2 columns</p>\n",
       "</div>"
      ],
      "text/plain": [
       "    (p, d, q)          AIC\n",
       "0   (0, 1, 1) -1393.484502\n",
       "1   (1, 1, 1) -1392.663386\n",
       "2   (2, 1, 1) -1392.608311\n",
       "3   (0, 1, 2) -1392.489536\n",
       "4   (0, 1, 3) -1392.197782\n",
       "..        ...          ...\n",
       "59  (4, 1, 0) -1349.351327\n",
       "60  (3, 1, 0) -1343.585283\n",
       "61  (2, 1, 0) -1331.395746\n",
       "62  (1, 1, 0) -1320.672683\n",
       "63  (0, 1, 0) -1245.673572\n",
       "\n",
       "[64 rows x 2 columns]"
      ]
     },
     "execution_count": 10,
     "metadata": {},
     "output_type": "execute_result"
    }
   ],
   "source": [
    "order_list = []\n",
    "\n",
    "for each in parameters_list:\n",
    "    each = list(each)\n",
    "    each.insert(1, 1)\n",
    "    each = tuple(each)\n",
    "    order_list.append(each)\n",
    "\n",
    "result_df = optimize_ARIMA(order_list, exog=data[\"x10\"])\n",
    "result_df"
   ]
  },
  {
   "cell_type": "markdown",
   "id": "valuable-fever",
   "metadata": {},
   "source": [
    "all indicate that I had non-optimal $\\text{AR}$ models. It is interesting to note that there is no change in the model chosen by the criterion when changing from performing first-differences directly versus performing first-differences on the logarithm, but log-transformed values are more precise due to the algorithm used by $\\text{AIC}$ (more on this [later](Treas%20TS%20Analysis%20I.ipynb#State%20Space%20Model%20Results)).\n",
    "\n",
    "Earlier I did have an understanding that log transformations does not work for long forecast horizons. Log transformation is often used for time series with nonlinear trends. There is infinite variance at forecast horizons lagging too far from the forecast origin.\n",
    "\n",
    "It is important to emphasize that to determine parameters, it is best to use optimized statespace modeling than it is to determine visually or via a non-optimal $\\text{AR}$ modeling approach."
   ]
  },
  {
   "cell_type": "markdown",
   "id": "front-newsletter",
   "metadata": {},
   "source": [
    "## Statespace Model Results"
   ]
  },
  {
   "cell_type": "markdown",
   "id": "closed-contribution",
   "metadata": {},
   "source": [
    "I can now determine **statespace model results**, such as $\\text{AR}$ and $\\text{MA}$ coefficients, standard errors, $z$ scores, Bayesian Information Criterion and Hannan-Quinn Information Criterion, as well as Ljung-Box statistics, for each of the $\\text{ARIMA}(p, 1, q)$ models.\n",
    "\n",
    "I got a high forecasting error rate when I took my first attempt at forecasting in `Treas TS Analysis II`. This was because I was using the wrong series. I am supposed to use the `tnf` inflation series and not the transformed `log_diff` series."
   ]
  },
  {
   "cell_type": "code",
   "execution_count": 11,
   "id": "stretch-calendar",
   "metadata": {},
   "outputs": [
    {
     "name": "stdout",
     "output_type": "stream",
     "text": [
      "                               SARIMAX Results                                \n",
      "==============================================================================\n",
      "Dep. Variable:                     x5   No. Observations:                  250\n",
      "Model:               SARIMAX(1, 1, 1)   Log Likelihood                 534.650\n",
      "Date:                Tue, 18 Jan 2022   AIC                          -1063.299\n",
      "Time:                        19:26:53   BIC                          -1052.747\n",
      "Sample:                             0   HQIC                         -1059.052\n",
      "                                - 250                                         \n",
      "Covariance Type:                  opg                                         \n",
      "==============================================================================\n",
      "                 coef    std err          z      P>|z|      [0.025      0.975]\n",
      "------------------------------------------------------------------------------\n",
      "ar.L1          0.4823      0.434      1.110      0.267      -0.369       1.334\n",
      "ma.L1         -0.3777      0.454     -0.831      0.406      -1.269       0.513\n",
      "sigma2         0.0008    4.4e-05     18.141      0.000       0.001       0.001\n",
      "===================================================================================\n",
      "Ljung-Box (L1) (Q):                   0.03   Jarque-Bera (JB):               167.69\n",
      "Prob(Q):                              0.86   Prob(JB):                         0.00\n",
      "Heteroskedasticity (H):               1.66   Skew:                             0.67\n",
      "Prob(H) (two-sided):                  0.02   Kurtosis:                         6.79\n",
      "===================================================================================\n",
      "\n",
      "Warnings:\n",
      "[1] Covariance matrix calculated using the outer product of gradients (complex-step).\n",
      "                               SARIMAX Results                                \n",
      "==============================================================================\n",
      "Dep. Variable:                     x7   No. Observations:                  250\n",
      "Model:               SARIMAX(0, 1, 1)   Log Likelihood                 543.267\n",
      "Date:                Tue, 18 Jan 2022   AIC                          -1082.534\n",
      "Time:                        19:26:53   BIC                          -1075.499\n",
      "Sample:                             0   HQIC                         -1079.702\n",
      "                                - 250                                         \n",
      "Covariance Type:                  opg                                         \n",
      "==============================================================================\n",
      "                 coef    std err          z      P>|z|      [0.025      0.975]\n",
      "------------------------------------------------------------------------------\n",
      "ma.L1          0.0457      0.065      0.706      0.480      -0.081       0.173\n",
      "sigma2         0.0007   5.43e-05     13.725      0.000       0.001       0.001\n",
      "===================================================================================\n",
      "Ljung-Box (L1) (Q):                   0.00   Jarque-Bera (JB):                11.72\n",
      "Prob(Q):                              0.94   Prob(JB):                         0.00\n",
      "Heteroskedasticity (H):               1.44   Skew:                             0.16\n",
      "Prob(H) (two-sided):                  0.10   Kurtosis:                         4.02\n",
      "===================================================================================\n",
      "\n",
      "Warnings:\n",
      "[1] Covariance matrix calculated using the outer product of gradients (complex-step).\n",
      "                               SARIMAX Results                                \n",
      "==============================================================================\n",
      "Dep. Variable:                    x10   No. Observations:                  250\n",
      "Model:               SARIMAX(0, 1, 1)   Log Likelihood                 573.811\n",
      "Date:                Tue, 18 Jan 2022   AIC                          -1143.622\n",
      "Time:                        19:26:53   BIC                          -1136.587\n",
      "Sample:                             0   HQIC                         -1140.790\n",
      "                                - 250                                         \n",
      "Covariance Type:                  opg                                         \n",
      "==============================================================================\n",
      "                 coef    std err          z      P>|z|      [0.025      0.975]\n",
      "------------------------------------------------------------------------------\n",
      "ma.L1          0.0464      0.060      0.773      0.439      -0.071       0.164\n",
      "sigma2         0.0006   5.09e-05     11.465      0.000       0.000       0.001\n",
      "===================================================================================\n",
      "Ljung-Box (L1) (Q):                   0.01   Jarque-Bera (JB):                 0.81\n",
      "Prob(Q):                              0.94   Prob(JB):                         0.67\n",
      "Heteroskedasticity (H):               1.38   Skew:                            -0.12\n",
      "Prob(H) (two-sided):                  0.14   Kurtosis:                         3.16\n",
      "===================================================================================\n",
      "\n",
      "Warnings:\n",
      "[1] Covariance matrix calculated using the outer product of gradients (complex-step).\n",
      "                               SARIMAX Results                                \n",
      "==============================================================================\n",
      "Dep. Variable:                    x20   No. Observations:                  250\n",
      "Model:               SARIMAX(3, 1, 1)   Log Likelihood                 587.442\n",
      "Date:                Tue, 18 Jan 2022   AIC                          -1164.885\n",
      "Time:                        19:26:53   BIC                          -1147.297\n",
      "Sample:                             0   HQIC                         -1157.806\n",
      "                                - 250                                         \n",
      "Covariance Type:                  opg                                         \n",
      "==============================================================================\n",
      "                 coef    std err          z      P>|z|      [0.025      0.975]\n",
      "------------------------------------------------------------------------------\n",
      "ar.L1          0.0475      0.419      0.113      0.910      -0.774       0.869\n",
      "ar.L2          0.1282      0.080      1.600      0.110      -0.029       0.285\n",
      "ar.L3         -0.1576      0.076     -2.080      0.038      -0.306      -0.009\n",
      "ma.L1          0.0530      0.424      0.125      0.901      -0.779       0.885\n",
      "sigma2         0.0005   4.11e-05     12.720      0.000       0.000       0.001\n",
      "===================================================================================\n",
      "Ljung-Box (L1) (Q):                   0.00   Jarque-Bera (JB):                14.48\n",
      "Prob(Q):                              1.00   Prob(JB):                         0.00\n",
      "Heteroskedasticity (H):               1.81   Skew:                            -0.25\n",
      "Prob(H) (two-sided):                  0.01   Kurtosis:                         4.07\n",
      "===================================================================================\n",
      "\n",
      "Warnings:\n",
      "[1] Covariance matrix calculated using the outer product of gradients (complex-step).\n",
      "                               SARIMAX Results                                \n",
      "==============================================================================\n",
      "Dep. Variable:                    x30   No. Observations:                  250\n",
      "Model:               SARIMAX(2, 1, 3)   Log Likelihood                 602.707\n",
      "Date:                Tue, 18 Jan 2022   AIC                          -1193.414\n",
      "Time:                        19:26:53   BIC                          -1172.309\n",
      "Sample:                             0   HQIC                         -1184.919\n",
      "                                - 250                                         \n",
      "Covariance Type:                  opg                                         \n",
      "==============================================================================\n",
      "                 coef    std err          z      P>|z|      [0.025      0.975]\n",
      "------------------------------------------------------------------------------\n",
      "ar.L1         -0.0019      0.284     -0.007      0.995      -0.558       0.554\n",
      "ar.L2          0.5278      0.232      2.272      0.023       0.072       0.983\n",
      "ma.L1          0.1446      0.284      0.510      0.610      -0.411       0.700\n",
      "ma.L2         -0.4749      0.248     -1.917      0.055      -0.960       0.011\n",
      "ma.L3         -0.2370      0.063     -3.739      0.000      -0.361      -0.113\n",
      "sigma2         0.0005   3.52e-05     13.117      0.000       0.000       0.001\n",
      "===================================================================================\n",
      "Ljung-Box (L1) (Q):                   0.00   Jarque-Bera (JB):                12.48\n",
      "Prob(Q):                              0.97   Prob(JB):                         0.00\n",
      "Heteroskedasticity (H):               2.37   Skew:                            -0.14\n",
      "Prob(H) (two-sided):                  0.00   Kurtosis:                         4.06\n",
      "===================================================================================\n",
      "\n",
      "Warnings:\n",
      "[1] Covariance matrix calculated using the outer product of gradients (complex-step).\n"
     ]
    }
   ],
   "source": [
    "from statsmodels.tsa.arima.model import ARIMA\n",
    "\n",
    "data       = pd.read_csv(\"tnf.csv\")\n",
    "idx        = [0, 1, 2, 3, 4]\n",
    "key        = ['x5', 'x7', 'x10', 'x20', 'x30']\n",
    "order_list = [(1, 1, 1), (0, 1, 1), (0, 1, 1), (3, 1, 1), (2, 1, 3)]\n",
    "\n",
    "mods = []\n",
    "for i in idx:\n",
    "    mods.append(SARIMAX(endog=data[key[i]], order=order_list[i]))\n",
    "\n",
    "fit = []\n",
    "for mod in mods:\n",
    "    fit.append(mod.fit())\n",
    "\n",
    "for each in fit:\n",
    "    print(each.summary())"
   ]
  },
  {
   "cell_type": "markdown",
   "id": "initial-scratch",
   "metadata": {},
   "source": [
    "As can be checked above, the arima models are summarized in the following table, where $T$ is the maturity, $(p, d, q)$ are the $\\text{AR}$, $\\text{D}$ and $\\text{MA}$ orders of the **Fitted Model** and $σ^2$ is the variance of each respective model."
   ]
  },
  {
   "cell_type": "markdown",
   "id": "attached-passage",
   "metadata": {},
   "source": [
    "$$\n",
    "    \\begin{matrix}\n",
    "        \\text{T} & (p, d, q) & \\text{Fitted Model} & \\sigma^2 \\\\\n",
    "        05 & (1, 1, 1) & 0.4823w_{t - 1} - 0.3777\\epsilon_{t - 1} & 0.0008 \\\\\n",
    "        07 & (0, 1, 1) & 0.0457\\epsilon_{t - 1} & 0.0007 \\\\\n",
    "        10 & (0, 1, 1) & 0.0464\\epsilon_{t - 1} & 0.0006 \\\\\n",
    "        20 & (3, 1, 1) & \\ \\ 0.0475w_{t - 1} + 0.1282w_{t - 2} - 0.1576w_{t - 3} + 0.0530\\epsilon_{t - 1} \\ \\ \\quad\\quad\\quad\\quad & 0.0005 \\\\\n",
    "        30 & (2, 1, 3) & -0.0019w_{t - 1} + 0.5278w_{t - 2} + 0.1446\\epsilon_{t - 1} - 0.4749\\epsilon_{t - 2} - 0.2370\\epsilon_{t - 3} & 0.0005\n",
    "    \\end{matrix}\n",
    "$$"
   ]
  },
  {
   "cell_type": "markdown",
   "id": "english-repeat",
   "metadata": {},
   "source": [
    "**Error Series**"
   ]
  },
  {
   "cell_type": "markdown",
   "id": "framed-doubt",
   "metadata": {},
   "source": [
    "Here are the error series:"
   ]
  },
  {
   "cell_type": "code",
   "execution_count": 12,
   "id": "focused-oklahoma",
   "metadata": {},
   "outputs": [
    {
     "data": {
      "image/png": "[encoded data removed]",
      "text/plain": [
       "<Figure size 432x288 with 1 Axes>"
      ]
     },
     "metadata": {
      "needs_background": "light"
     },
     "output_type": "display_data"
    }
   ],
   "source": [
    "plt.clf() # clear figs\n",
    "plt.cla() # clear axes\n",
    "\n",
    "a = pd.read_csv(\"tnf.csv\")\n",
    "x = [a['x5'], a['x7'], a['x10'], a['x20'], a['x30']]\n",
    "\n",
    "y = []\n",
    "for each in fit:\n",
    "    y.append(each.predict(dynamic=False)[2:249])\n",
    "\n",
    "plt.xlim(0, 250)\n",
    "plt.ylim(-0.075, 0.125)\n",
    "\n",
    "plt.xlabel(\"days\")\n",
    "plt.ylabel(\"error\")\n",
    "\n",
    "avg_err = [0.0] * 5; c = 5\n",
    "while c > 0:\n",
    "    c -= 1\n",
    "    avg_err[c-1] = (1 - y[c] / x[c])\n",
    "    plt.plot(1 - y[c] / x[c])\n",
    "\n",
    "handle = [\"5Y\", \"7Y\", \"10Y\", \"20Y\", \"30Y\"]\n",
    "plt.legend(handle, loc = \"upper left\")\n",
    "\n",
    "plt.show()"
   ]
  },
  {
   "cell_type": "markdown",
   "id": "governmental-slovak",
   "metadata": {},
   "source": [
    "**Average Error Rates**"
   ]
  },
  {
   "cell_type": "markdown",
   "id": "analyzed-manhattan",
   "metadata": {},
   "source": [
    "<p font-color:\"navy\">and here are the prediction error rates of the forecasts:</p>"
   ]
  },
  {
   "cell_type": "code",
   "execution_count": 13,
   "id": "decreased-aaron",
   "metadata": {},
   "outputs": [
    {
     "data": {
      "text/plain": [
       "<BarContainer object of 5 artists>"
      ]
     },
     "execution_count": 13,
     "metadata": {},
     "output_type": "execute_result"
    },
    {
     "data": {
      "image/png": "[encoded data removed]",
      "text/plain": [
       "<Figure size 432x288 with 1 Axes>"
      ]
     },
     "metadata": {
      "needs_background": "light"
     },
     "output_type": "display_data"
    }
   ],
   "source": [
    "ϵ = []\n",
    "\n",
    "for each in avg_err:\n",
    "    ϵ.append(np.mean(each[2:249]))\n",
    "\n",
    "plt.bar(x = [1, 2, 3, 4, 5], height = ϵ)"
   ]
  },
  {
   "cell_type": "markdown",
   "id": "skilled-supplement",
   "metadata": {},
   "source": [
    "The $\\text{ARIMA}$ models is now optimal."
   ]
  },
  {
   "cell_type": "markdown",
   "id": "negative-botswana",
   "metadata": {},
   "source": [
    "I use"
   ]
  },
  {
   "cell_type": "markdown",
   "id": "novel-solution",
   "metadata": {},
   "source": [
    "$$\n",
    "    W_t = \\mu + \\overbrace{\\phi_1 W_{t -1} + \\phi_2 W_{t - 2} + \\cdots + \\phi_p W_{t - p}}^{\\text{lagged W values}} + \\epsilon_t - \\underbrace{\\theta_1 \\epsilon_{t - 1} - \\theta_2 \\epsilon_{t - 2} - \\cdots - \\theta_q \\epsilon_{t - q}}_{\\text{lagged error terms}} \\quad \\forall \\phi \\in (-1, 1) \\quad \\forall \\theta \\in [-1, 1] \\quad \\backslash 0\n",
    "$$"
   ]
  },
  {
   "cell_type": "markdown",
   "id": "monthly-prediction",
   "metadata": {},
   "source": [
    "as my template."
   ]
  },
  {
   "cell_type": "markdown",
   "id": "likely-window",
   "metadata": {},
   "source": [
    "It is good to be mindful of the fact that the coefficients of the lagged values and errors do change if using a simple differencing as opposed to making a log transformation before differencing each observation in the series. However, the variance of each model is less for the first-differences of log-transformations; hence, log-transformed first-differences are more precise for any predictive model that can be constructed using the $\\text{AIC}$, due to the log-likelihood condition"
   ]
  },
  {
   "cell_type": "markdown",
   "id": "driving-poster",
   "metadata": {},
   "source": [
    "## $\\text{ARIMA}(p, 1, q)$ Model Results"
   ]
  },
  {
   "cell_type": "markdown",
   "id": "proud-beijing",
   "metadata": {},
   "source": [
    "Here, I am comparing the statespace $\\text{SARIMAX}$ model from `statsmodels.tsa.statespace.sarimax` to the $\\text{ARIMA}$ model from `statsmodels.tsa.arima.model`."
   ]
  },
  {
   "cell_type": "code",
   "execution_count": 14,
   "id": "frequent-public",
   "metadata": {},
   "outputs": [
    {
     "name": "stdout",
     "output_type": "stream",
     "text": [
      "                               SARIMAX Results                                \n",
      "==============================================================================\n",
      "Dep. Variable:                     x5   No. Observations:                  250\n",
      "Model:                 ARIMA(1, 1, 1)   Log Likelihood                 534.650\n",
      "Date:                Tue, 18 Jan 2022   AIC                          -1063.299\n",
      "Time:                        19:48:11   BIC                          -1052.747\n",
      "Sample:                             0   HQIC                         -1059.052\n",
      "                                - 250                                         \n",
      "Covariance Type:                  opg                                         \n",
      "==============================================================================\n",
      "                 coef    std err          z      P>|z|      [0.025      0.975]\n",
      "------------------------------------------------------------------------------\n",
      "ar.L1          0.4823      0.434      1.110      0.267      -0.369       1.334\n",
      "ma.L1         -0.3777      0.454     -0.831      0.406      -1.269       0.513\n",
      "sigma2         0.0008    4.4e-05     18.141      0.000       0.001       0.001\n",
      "===================================================================================\n",
      "Ljung-Box (L1) (Q):                   0.03   Jarque-Bera (JB):               167.69\n",
      "Prob(Q):                              0.86   Prob(JB):                         0.00\n",
      "Heteroskedasticity (H):               1.66   Skew:                             0.67\n",
      "Prob(H) (two-sided):                  0.02   Kurtosis:                         6.79\n",
      "===================================================================================\n",
      "\n",
      "Warnings:\n",
      "[1] Covariance matrix calculated using the outer product of gradients (complex-step).\n",
      "                               SARIMAX Results                                \n",
      "==============================================================================\n",
      "Dep. Variable:                     x7   No. Observations:                  250\n",
      "Model:                 ARIMA(0, 1, 1)   Log Likelihood                 543.267\n",
      "Date:                Tue, 18 Jan 2022   AIC                          -1082.534\n",
      "Time:                        19:48:11   BIC                          -1075.499\n",
      "Sample:                             0   HQIC                         -1079.702\n",
      "                                - 250                                         \n",
      "Covariance Type:                  opg                                         \n",
      "==============================================================================\n",
      "                 coef    std err          z      P>|z|      [0.025      0.975]\n",
      "------------------------------------------------------------------------------\n",
      "ma.L1          0.0457      0.065      0.706      0.480      -0.081       0.173\n",
      "sigma2         0.0007   5.43e-05     13.725      0.000       0.001       0.001\n",
      "===================================================================================\n",
      "Ljung-Box (L1) (Q):                   0.00   Jarque-Bera (JB):                11.72\n",
      "Prob(Q):                              0.94   Prob(JB):                         0.00\n",
      "Heteroskedasticity (H):               1.44   Skew:                             0.16\n",
      "Prob(H) (two-sided):                  0.10   Kurtosis:                         4.02\n",
      "===================================================================================\n",
      "\n",
      "Warnings:\n",
      "[1] Covariance matrix calculated using the outer product of gradients (complex-step).\n",
      "                               SARIMAX Results                                \n",
      "==============================================================================\n",
      "Dep. Variable:                    x10   No. Observations:                  250\n",
      "Model:                 ARIMA(0, 1, 1)   Log Likelihood                 573.811\n",
      "Date:                Tue, 18 Jan 2022   AIC                          -1143.622\n",
      "Time:                        19:48:11   BIC                          -1136.587\n",
      "Sample:                             0   HQIC                         -1140.790\n",
      "                                - 250                                         \n",
      "Covariance Type:                  opg                                         \n",
      "==============================================================================\n",
      "                 coef    std err          z      P>|z|      [0.025      0.975]\n",
      "------------------------------------------------------------------------------\n",
      "ma.L1          0.0464      0.060      0.773      0.439      -0.071       0.164\n",
      "sigma2         0.0006   5.09e-05     11.465      0.000       0.000       0.001\n",
      "===================================================================================\n",
      "Ljung-Box (L1) (Q):                   0.01   Jarque-Bera (JB):                 0.81\n",
      "Prob(Q):                              0.94   Prob(JB):                         0.67\n",
      "Heteroskedasticity (H):               1.38   Skew:                            -0.12\n",
      "Prob(H) (two-sided):                  0.14   Kurtosis:                         3.16\n",
      "===================================================================================\n",
      "\n",
      "Warnings:\n",
      "[1] Covariance matrix calculated using the outer product of gradients (complex-step).\n",
      "                               SARIMAX Results                                \n",
      "==============================================================================\n",
      "Dep. Variable:                    x20   No. Observations:                  250\n",
      "Model:                 ARIMA(3, 1, 1)   Log Likelihood                 587.442\n",
      "Date:                Tue, 18 Jan 2022   AIC                          -1164.885\n",
      "Time:                        19:48:11   BIC                          -1147.297\n",
      "Sample:                             0   HQIC                         -1157.806\n",
      "                                - 250                                         \n",
      "Covariance Type:                  opg                                         \n",
      "==============================================================================\n",
      "                 coef    std err          z      P>|z|      [0.025      0.975]\n",
      "------------------------------------------------------------------------------\n",
      "ar.L1          0.0475      0.419      0.113      0.910      -0.774       0.869\n",
      "ar.L2          0.1282      0.080      1.600      0.110      -0.029       0.285\n",
      "ar.L3         -0.1576      0.076     -2.080      0.038      -0.306      -0.009\n",
      "ma.L1          0.0530      0.424      0.125      0.901      -0.779       0.885\n",
      "sigma2         0.0005   4.11e-05     12.720      0.000       0.000       0.001\n",
      "===================================================================================\n",
      "Ljung-Box (L1) (Q):                   0.00   Jarque-Bera (JB):                14.48\n",
      "Prob(Q):                              1.00   Prob(JB):                         0.00\n",
      "Heteroskedasticity (H):               1.81   Skew:                            -0.25\n",
      "Prob(H) (two-sided):                  0.01   Kurtosis:                         4.07\n",
      "===================================================================================\n",
      "\n",
      "Warnings:\n",
      "[1] Covariance matrix calculated using the outer product of gradients (complex-step).\n",
      "                               SARIMAX Results                                \n",
      "==============================================================================\n",
      "Dep. Variable:                    x30   No. Observations:                  250\n",
      "Model:                 ARIMA(2, 1, 3)   Log Likelihood                 602.707\n",
      "Date:                Tue, 18 Jan 2022   AIC                          -1193.414\n",
      "Time:                        19:48:12   BIC                          -1172.309\n",
      "Sample:                             0   HQIC                         -1184.919\n",
      "                                - 250                                         \n",
      "Covariance Type:                  opg                                         \n",
      "==============================================================================\n",
      "                 coef    std err          z      P>|z|      [0.025      0.975]\n",
      "------------------------------------------------------------------------------\n",
      "ar.L1         -0.0019      0.284     -0.007      0.995      -0.558       0.554\n",
      "ar.L2          0.5278      0.232      2.272      0.023       0.072       0.983\n",
      "ma.L1          0.1446      0.284      0.510      0.610      -0.411       0.700\n",
      "ma.L2         -0.4749      0.248     -1.917      0.055      -0.960       0.011\n",
      "ma.L3         -0.2370      0.063     -3.739      0.000      -0.361      -0.113\n",
      "sigma2         0.0005   3.52e-05     13.117      0.000       0.000       0.001\n",
      "===================================================================================\n",
      "Ljung-Box (L1) (Q):                   0.00   Jarque-Bera (JB):                12.48\n",
      "Prob(Q):                              0.97   Prob(JB):                         0.00\n",
      "Heteroskedasticity (H):               2.37   Skew:                            -0.14\n",
      "Prob(H) (two-sided):                  0.00   Kurtosis:                         4.06\n",
      "===================================================================================\n",
      "\n",
      "Warnings:\n",
      "[1] Covariance matrix calculated using the outer product of gradients (complex-step).\n"
     ]
    }
   ],
   "source": [
    "from statsmodels.tsa.arima.model import ARIMA\n",
    "\n",
    "tnf = pd.read_csv(\"tnf.csv\")\n",
    "idx = [0, 1, 2, 3, 4]\n",
    "key = ['x5', 'x7', 'x10', 'x20', 'x30']\n",
    "order_list = [(1, 1, 1), (0, 1, 1), (0, 1, 1), (3, 1, 1), (2, 1, 3)]\n",
    "\n",
    "mods = []\n",
    "for i in idx:\n",
    "    mods.append(ARIMA(endog=tnf[key[i]], order=order_list[i]))\n",
    "\n",
    "fit = []\n",
    "for mod in mods:\n",
    "    fit.append(mod.fit())\n",
    "\n",
    "for each in fit:\n",
    "    print(each.summary())"
   ]
  },
  {
   "cell_type": "markdown",
   "id": "humanitarian-breast",
   "metadata": {},
   "source": [
    "$$\n",
    "    \\begin{matrix}\n",
    "        \\text{T} & (p, d, q) & \\text{Fitted Model} & \\sigma^2 \\\\\n",
    "        05 & (1, 1, 1) & 0.4823w_{t - 1} - 0.3777\\epsilon_{t - 1} & 0.0008 \\\\\n",
    "        07 & (0, 1, 1) & 0.0457\\epsilon_{t - 1} & 0.0007 \\\\\n",
    "        10 & (0, 1, 1) & 0.0464\\epsilon_{t - 1} & 0.0006 \\\\\n",
    "        20 & (3, 1, 1) & \\ \\ 0.0475w_{t - 1} + 0.1282w_{t - 2} - 0.1576w_{t - 3} + 0.0530\\epsilon_{t - 1} \\ \\ \\quad\\quad\\quad\\quad & 0.0005 \\\\\n",
    "        30 & (2, 1, 3) & -0.0019w_{t - 1} + 0.5278w_{t - 2} + 0.1446\\epsilon_{t - 1} - 0.4749\\epsilon_{t - 2} - 0.2370\\epsilon_{t - 3} & 0.0005\n",
    "    \\end{matrix}\n",
    "$$"
   ]
  },
  {
   "cell_type": "markdown",
   "id": "curious-graham",
   "metadata": {},
   "source": [
    "**Error Series**"
   ]
  },
  {
   "cell_type": "code",
   "execution_count": 15,
   "id": "electronic-genius",
   "metadata": {},
   "outputs": [
    {
     "data": {
      "image/png": "[encoded data removed]",
      "text/plain": [
       "<Figure size 432x288 with 1 Axes>"
      ]
     },
     "metadata": {
      "needs_background": "light"
     },
     "output_type": "display_data"
    }
   ],
   "source": [
    "plt.clf() # clear figs\n",
    "plt.cla() # clear axes\n",
    "\n",
    "a = pd.read_csv(\"tnf.csv\")\n",
    "x = [a['x5'], a['x7'], a['x10'], a['x20'], a['x30']]\n",
    "\n",
    "y = []\n",
    "for each in fit:\n",
    "    y.append(each.predict(dynamic=False)[2:249])\n",
    "\n",
    "plt.xlim(0, 250)\n",
    "plt.ylim(-0.075, 0.125)\n",
    "\n",
    "plt.xlabel(\"days\")\n",
    "plt.ylabel(\"error\")\n",
    "\n",
    "avg_err = [0.0] * 5; c = 5\n",
    "while c > 0:\n",
    "    c -= 1\n",
    "    avg_err[c-1] = (1 - y[c] / x[c])\n",
    "    plt.plot(1 - y[c] / x[c])\n",
    "\n",
    "handle = [\"5Y\", \"7Y\", \"10Y\", \"20Y\", \"30Y\"]\n",
    "plt.legend(handle, loc = \"upper left\")\n",
    "\n",
    "plt.show()"
   ]
  },
  {
   "cell_type": "markdown",
   "id": "introductory-merchant",
   "metadata": {},
   "source": [
    "**Average Error Rates**"
   ]
  },
  {
   "cell_type": "code",
   "execution_count": 16,
   "id": "vietnamese-preparation",
   "metadata": {},
   "outputs": [
    {
     "data": {
      "text/plain": [
       "<BarContainer object of 5 artists>"
      ]
     },
     "execution_count": 16,
     "metadata": {},
     "output_type": "execute_result"
    },
    {
     "data": {
      "image/png": "[encoded data removed]",
      "text/plain": [
       "<Figure size 432x288 with 1 Axes>"
      ]
     },
     "metadata": {
      "needs_background": "light"
     },
     "output_type": "display_data"
    }
   ],
   "source": [
    "ϵ = []\n",
    "\n",
    "for each in avg_err:\n",
    "    ϵ.append(np.mean(each[2:249]))\n",
    "\n",
    "plt.bar(x = [1, 2, 3, 4, 5], height = ϵ)"
   ]
  },
  {
   "cell_type": "markdown",
   "id": "mounted-lodging",
   "metadata": {},
   "source": [
    "The models generated from the `statsmodels.tsa.statespace.sarimax` and `statsmodels.tsa.arima.model` packages are equal!"
   ]
  },
  {
   "cell_type": "markdown",
   "id": "closing-austin",
   "metadata": {},
   "source": [
    "## Saving Python Models for Later"
   ]
  },
  {
   "cell_type": "code",
   "execution_count": 17,
   "id": "defined-participant",
   "metadata": {},
   "outputs": [],
   "source": [
    "import pickle\n",
    "\n",
    "pickle.dump(fit, open(\"C:\\\\Users\\\\Owner\\\\Documents\\\\Economics\\\\Financial Economics\\\\Research\\\\Securities Experiment\\\\mod\", \"wb\"))"
   ]
  },
  {
   "cell_type": "markdown",
   "id": "innocent-firmware",
   "metadata": {},
   "source": [
    "# Using Ljung-Box Statistics to Test for Residuals Without Autocorrelation"
   ]
  },
  {
   "cell_type": "markdown",
   "id": "chubby-raising",
   "metadata": {},
   "source": [
    "## A Foreword"
   ]
  },
  {
   "cell_type": "markdown",
   "id": "mental-delta",
   "metadata": {},
   "source": [
    "Beforing starting this section, I pause and ask myself, \"What are the residuals?\". I remember when I took statistics that there was a residual sum of squares, which looked a little like this\n",
    "\n",
    "$\n",
    "    SS_{\\text{res}} = SS_{\\text{tot}} - SS_{\\text{exp}}\n",
    "$"
   ]
  },
  {
   "cell_type": "code",
   "execution_count": 18,
   "id": "legendary-integral",
   "metadata": {},
   "outputs": [],
   "source": [
    "Y = dict(\n",
    "    Y05 = 0,\n",
    "    Y07 = 1,\n",
    "    Y10 = 2,\n",
    "    Y20 = 3,\n",
    "    Y30 = 4\n",
    ")"
   ]
  },
  {
   "cell_type": "markdown",
   "id": "noticed-instruction",
   "metadata": {},
   "source": [
    "However, since I am working with one regressor (i.e., an auto-regressive process), more pressure is placed on *maximizing* the explained sum of squares and *minimizing* the residuals (for the auto-regressive process), Knowing what each lagged error is going to be, with 95% confidence, is very helpful."
   ]
  },
  {
   "cell_type": "markdown",
   "id": "increased-skating",
   "metadata": {},
   "source": [
    "For $T \\in \\{5, 7. 10, 20, 30\\}$, I found $\\text{ARIMA}$ models with $\\sigma^2 \\in \\{0.0008, 0.0007, 0.0006, 0.0005, 0.0005\\}$ for estimation errors $\\epsilon$. The goal of this section is to study the residuals, which the ideal case would present a white noise with no autocorrelation. In `Treas TS Analysis II`, I will take this analysis further by considering various volatility models, such as `T-GARCH`, which will give more insights into the resudual variation.\n",
    "\n",
    "For a Ljung Box test $\\mathcal{L}$\n",
    "\n",
    "$$H^\\mathcal{L} = \\begin{cases}\n",
    "    H_0: \\text{there is no autocorrelation} & \\text{if}\\ p \\lt 0.05 \\\\\n",
    "    H_a: \\text{there is autocorrelation} & \\text{if}\\ p \\geq 0.05\n",
    "\\end{cases}$$\n",
    "\n",
    "where $H_0$ would indicate uncorrelated residuals and $H_a$, correlated residuals, with p-value $p$ denoting the confidence level of the right tail test, therefore, the residual series comes from and independent, and identically-distributed (iid) randome variable."
   ]
  },
  {
   "cell_type": "markdown",
   "id": "approximate-campus",
   "metadata": {},
   "source": [
    "**Ljung-Box test for 05Y Note CMT**"
   ]
  },
  {
   "cell_type": "code",
   "execution_count": 19,
   "id": "recreational-forge",
   "metadata": {},
   "outputs": [
    {
     "name": "stdout",
     "output_type": "stream",
     "text": [
      "Ljung-Box test: [9.96210355e-04 8.36458716e-01 8.83908243e-01 1.10488535e+00\n",
      " 1.11158248e+00 1.23732832e+00 1.24459028e+00 1.29581811e+00\n",
      " 1.33014444e+00 1.35168132e+00]\n",
      "p-value: [0.97482071 0.65821125 0.82930928 0.89349632 0.95307334 0.97500082\n",
      " 0.98986372 0.99560195 0.99822166 0.99932781]\n"
     ]
    }
   ],
   "source": [
    "ljung_box, p_value = acorr_ljungbox(fit[Y[\"Y05\"]].resid)\n",
    "print(f'Ljung-Box test: {ljung_box[:10]}')\n",
    "print(f'p-value: {p_value[:10]}')"
   ]
  },
  {
   "cell_type": "markdown",
   "id": "experimental-location",
   "metadata": {},
   "source": [
    "**Ljung-Box test for 07Y Note CMT**"
   ]
  },
  {
   "cell_type": "code",
   "execution_count": 20,
   "id": "enabling-morning",
   "metadata": {},
   "outputs": [
    {
     "name": "stdout",
     "output_type": "stream",
     "text": [
      "Ljung-Box test: [0.03028119 0.86337359 0.9297575  1.02062011 1.05605575 1.18805496\n",
      " 1.22860573 1.31666513 1.31673714 1.32406557]\n",
      "p-value: [0.86185373 0.64941274 0.81824134 0.90665335 0.95791897 0.9774706\n",
      " 0.99025327 0.99535006 0.99829175 0.99938683]\n"
     ]
    }
   ],
   "source": [
    "ljung_box, p_value = acorr_ljungbox(fit[Y[\"Y07\"]].resid)\n",
    "print(f'Ljung-Box test: {ljung_box[:10]}')\n",
    "print(f'p-value: {p_value[:10]}')"
   ]
  },
  {
   "cell_type": "markdown",
   "id": "wired-decade",
   "metadata": {},
   "source": [
    "**Ljung-Box test for 10Y Bond CMT**"
   ]
  },
  {
   "cell_type": "code",
   "execution_count": 21,
   "id": "indie-tournament",
   "metadata": {},
   "outputs": [
    {
     "name": "stdout",
     "output_type": "stream",
     "text": [
      "Ljung-Box test: [0.01435074 0.5657146  0.57426444 0.69931052 0.70266002 0.73770836\n",
      " 0.76570302 0.81196601 0.81196834 0.83077079]\n",
      "p-value: [0.90464589 0.75362732 0.90229783 0.95141392 0.98282237 0.99364084\n",
      " 0.99777842 0.99918013 0.99976231 0.99992697]\n"
     ]
    }
   ],
   "source": [
    "ljung_box, p_value = acorr_ljungbox(fit[Y[\"Y10\"]].resid)\n",
    "print(f'Ljung-Box test: {ljung_box[:10]}')\n",
    "print(f'p-value: {p_value[:10]}')"
   ]
  },
  {
   "cell_type": "markdown",
   "id": "massive-dylan",
   "metadata": {},
   "source": [
    "**Ljung-Box test for 20Y Bond CMT**"
   ]
  },
  {
   "cell_type": "code",
   "execution_count": 22,
   "id": "spare-bacteria",
   "metadata": {},
   "outputs": [
    {
     "name": "stdout",
     "output_type": "stream",
     "text": [
      "Ljung-Box test: [0.01157169 0.11760491 0.15492354 0.24586108 0.24899756 0.26935311\n",
      " 0.3146409  0.33800373 0.34505391 0.42740739]\n",
      "p-value: [0.91433539 0.94289302 0.98451541 0.99303565 0.99849385 0.99963187\n",
      " 0.99988247 0.9999703  0.99999389 0.99999689]\n"
     ]
    }
   ],
   "source": [
    "ljung_box, p_value = acorr_ljungbox(fit[Y[\"Y20\"]].resid)\n",
    "print(f'Ljung-Box test: {ljung_box[:10]}')\n",
    "print(f'p-value: {p_value[:10]}')"
   ]
  },
  {
   "cell_type": "markdown",
   "id": "spoken-colombia",
   "metadata": {},
   "source": [
    "**Ljung-Box test for 30Y Bond CMT**"
   ]
  },
  {
   "cell_type": "code",
   "execution_count": 23,
   "id": "numerous-hospital",
   "metadata": {},
   "outputs": [
    {
     "name": "stdout",
     "output_type": "stream",
     "text": [
      "Ljung-Box test: [0.00524613 0.09125398 0.09126503 0.18369912 0.20483157 0.23297169\n",
      " 0.26124065 0.26235266 0.26332836 0.27184103]\n",
      "p-value: [0.94225955 0.95539827 0.99286464 0.99603144 0.99906098 0.99975854\n",
      " 0.99993743 0.99998889 0.99999813 0.99999965]\n"
     ]
    }
   ],
   "source": [
    "ljung_box, p_value = acorr_ljungbox(fit[Y[\"Y30\"]].resid)\n",
    "print(f'Ljung-Box test: {ljung_box[:10]}')\n",
    "print(f'p-value: {p_value[:10]}')"
   ]
  },
  {
   "cell_type": "markdown",
   "id": "beautiful-carry",
   "metadata": {},
   "source": [
    "## Plotting ACF and PACF of the Residuals to Support Ljung Box Test Results"
   ]
  },
  {
   "cell_type": "markdown",
   "id": "challenging-astrology",
   "metadata": {},
   "source": [
    "PACF and ACF plots can be constructed to visually support the Ljung Box tests above."
   ]
  },
  {
   "cell_type": "code",
   "execution_count": 24,
   "id": "addressed-machine",
   "metadata": {},
   "outputs": [
    {
     "data": {
      "image/png": "[encoded data removed]",
      "text/plain": [
       "<Figure size 432x288 with 1 Axes>"
      ]
     },
     "metadata": {
      "needs_background": "light"
     },
     "output_type": "display_data"
    },
    {
     "data": {
      "image/png": "[encoded data removed]",
      "text/plain": [
       "<Figure size 432x288 with 1 Axes>"
      ]
     },
     "metadata": {
      "needs_background": "light"
     },
     "output_type": "display_data"
    },
    {
     "data": {
      "image/png": "[encoded data removed]",
      "text/plain": [
       "<Figure size 432x288 with 1 Axes>"
      ]
     },
     "metadata": {
      "needs_background": "light"
     },
     "output_type": "display_data"
    },
    {
     "data": {
      "image/png": "[encoded data removed]",
      "text/plain": [
       "<Figure size 432x288 with 1 Axes>"
      ]
     },
     "metadata": {
      "needs_background": "light"
     },
     "output_type": "display_data"
    },
    {
     "data": {
      "image/png": "[encoded data removed]",
      "text/plain": [
       "<Figure size 432x288 with 1 Axes>"
      ]
     },
     "metadata": {
      "needs_background": "light"
     },
     "output_type": "display_data"
    },
    {
     "data": {
      "image/png": "[encoded data removed]",
      "text/plain": [
       "<Figure size 432x288 with 1 Axes>"
      ]
     },
     "metadata": {
      "needs_background": "light"
     },
     "output_type": "display_data"
    },
    {
     "data": {
      "image/png": "[encoded data removed]",
      "text/plain": [
       "<Figure size 432x288 with 1 Axes>"
      ]
     },
     "metadata": {
      "needs_background": "light"
     },
     "output_type": "display_data"
    },
    {
     "data": {
      "image/png": "[encoded data removed]",
      "text/plain": [
       "<Figure size 432x288 with 1 Axes>"
      ]
     },
     "metadata": {
      "needs_background": "light"
     },
     "output_type": "display_data"
    },
    {
     "data": {
      "image/png": "[encoded data removed]",
      "text/plain": [
       "<Figure size 432x288 with 1 Axes>"
      ]
     },
     "metadata": {
      "needs_background": "light"
     },
     "output_type": "display_data"
    },
    {
     "data": {
      "image/png": "[encoded data removed]",
      "text/plain": [
       "<Figure size 432x288 with 1 Axes>"
      ]
     },
     "metadata": {
      "needs_background": "light"
     },
     "output_type": "display_data"
    }
   ],
   "source": [
    "I = 5\n",
    "while(I > 0):\n",
    "    I = I - 1\n",
    "    plot_pacf(fit[I].resid)\n",
    "    plot_acf(fit[I].resid)"
   ]
  },
  {
   "cell_type": "markdown",
   "id": "twelve-medication",
   "metadata": {},
   "source": [
    "No significant support for the alternative hypothesis exists for neither the PACF, nor the ACF plots.  which means that the residuals are independent, each draw from an iid variable with $\\epsilon \\sim N(\\mu, \\sigma^2)$.\n",
    "\n",
    "I also need to stress test the models to see if they break, and when they break, where do they break and why do they break? The **Markov Chain Monte Carlo** test is a test of durability$^?$. How would the model react if there were, say, a Poisson Arrival? How would the residual variation change?\n",
    "\n",
    "It is also worthwhile exploring stochastic processes that are **heteroscedastic**, such as those that fall in the family of **General Autoregressive Conditional Heteroscedasticity** models (the **Extended GARCH** model, the **TGARCH** model, the **CHARMA** model, &c). A **Vector Autoregressive Fractional Integrated Moving Average (VARFIMA)** model could also be tried later on, and other models within the VARFIMA family that go beyond a simple ARIMA model. I may conclude with **Fourier Analysis** and **Spectral Analysis** representations of the financial time series."
   ]
  },
  {
   "cell_type": "markdown",
   "id": "three-explorer",
   "metadata": {},
   "source": [
    "## Summary and Next Steps"
   ]
  },
  {
   "cell_type": "markdown",
   "id": "durable-conditioning",
   "metadata": {},
   "source": [
    "In this notebook, I learned that statespace models do work better than visualisation. Visualisation is still very powerful for collecting an overall, holistic view of the data, analyzing trends, performing cummulative sums and other summary statistics, such as boxplots for finding outliers in the financial data, knowing what the mean and kurtosis are, and finally, a visual summary can allow the data to speak for itself when it comes to densities, distributions and something not covered here: volatility surfaces."
   ]
  },
  {
   "cell_type": "markdown",
   "id": "front-working",
   "metadata": {},
   "source": [
    "In the next notebook, I will be touching on each of the following:\n",
    "\n",
    "1. Time-Series Forecasting\n",
    "2. Cross-Validation and Testing on New Data\n",
    "3. Vector Autoregressive Fractional Integrated Moving Average\n",
    "4. Markov Chain Monte Carlo\n",
    "5. Heteroscedastic Models\n",
    "6. Fourier Analysis and Spectral Analysis"
   ]
  }
 ],
 "metadata": {
  "kernelspec": {
   "display_name": "Python 3 (ipykernel)",
   "language": "python",
   "name": "python3"
  },
  "language_info": {
   "codemirror_mode": {
    "name": "ipython",
    "version": 3
   },
   "file_extension": ".py",
   "mimetype": "text/x-python",
   "name": "python",
   "nbconvert_exporter": "python",
   "pygments_lexer": "ipython3",
   "version": "3.8.0"
  }
 },
 "nbformat": 4,
 "nbformat_minor": 5
}
